{
 "cells": [
  {
   "cell_type": "markdown",
   "id": "7d405163",
   "metadata": {},
   "source": [
    "# Approach\n",
    "<!-- Describe your approach to solving the problem. -->\n",
    "本题和37一样，回溯函数有返回值，是bool类型的！因为别的回溯题都是有很多答案，需要回溯去找到所有符合要求的答案，但是这俩题都是有一个答案，找到答案直接返回！   \n",
    "\n",
    "有几个难点：1.如何避免循环。例如tickets=[[\"JFK\",\"NRT\"],[\"NRT\",\"JFK\"],[\"JFK\",\"XYZ\"]]，由于XYZ的字母顺序大于NRT，最后的输出结果会是[\"JFK\",\"NRT\",\"JFK\",\"NRT\"]，相当于用了两次[\"JFK\",\"NRT\"]！我们可以像46，47的题目一样定义一个used数组去表示某张机票是否被使用过！2.如果有两张符合要求的机票，即起始位置都和上一张机票的终点位置相同，那我们要选择字母顺序小的那张机票！可以通过sort函数先将tickets按照字母顺序从小到大排序，这样遍历机票时找到的第一个符合要求的机票一定是字母顺序最小的！3.如何把一堆机票的起始和终点位置首位拼起来？我们可以把起始位置departure定义为回溯函数中的一个参数！如果找到一张机票的起始位置就是departure，那就把这张机票的终点位置作为下一个起始位置，开始递归！\n",
    "\n",
    "其实是DFS的题目！   \n",
    "\n",
    "# Note\n",
    "回溯算法模板框架：\n",
    "void backtracking(参数) {\n",
    "    if (终止条件) {\n",
    "        存放结果;\n",
    "        return;\n",
    "    }\n",
    "\n",
    "    for (选择：本层集合中元素（树中节点孩子的数量就是集合的大小）) {\n",
    "        处理节点;\n",
    "        backtracking(路径，选择列表); // 递归\n",
    "        回溯，撤销处理结果\n",
    "    }\n",
    "}\n",
    "\n",
    "# Code"
   ]
  },
  {
   "cell_type": "code",
   "execution_count": null,
   "id": "c8454406",
   "metadata": {},
   "outputs": [],
   "source": [
    "class Solution:\n",
    "    def findItinerary(self, tickets: List[List[str]]) -> List[str]:\n",
    "        # 不需要path，因为本题只有一个答案！找到答案直接返回！不需要path来记录每个正确的答案\n",
    "        \n",
    "        # result里面必须先存一个“JFK”，因为根据题目要求第一个出发的机场必须是JFK\n",
    "        result = [\"JFK\"]\n",
    "        # 存储机票是否被使用过，防止出现循环！\n",
    "        used = [False] * len(tickets)\n",
    "        # 题目要求如果有多个符合要求的机票要选择字母顺序最小的\n",
    "        # 因此我先把机票按照字母顺序排序，这样先选择的第一个符合要求的机票一定是字母顺序最小的！\n",
    "        tickets.sort()\n",
    "        self.backtracking(tickets, used, \"JFK\", result)\n",
    "        return result\n",
    "    \n",
    "    # 注意有一个参数表示result中上一个机场，因为根据题目要求result里面的上一个元素和下一个元素必须构成一张机票的起始和终点位置\n",
    "    # 我们要不断遍历机票去找到起始位置为departure的机票，将其终点位置设置为下一个起始位置！！！\n",
    "    def backtracking(self, tickets, used, departure, result):\n",
    "        if len(result) == len(tickets) + 1:\n",
    "            return True\n",
    "        \n",
    "        # 每次都是从0开始遍历机票，所以要有used防止选择重复机票\n",
    "        # 同时由于已经把机票sort了，可以确保先选择的机票一定是有更小的字母顺序！\n",
    "        for i in range(len(tickets)):\n",
    "            # 机票的起始位置是departure并且没有使用过\n",
    "            if tickets[i][0] == departure and used[i] == False:\n",
    "                used[i] = True\n",
    "                result.append(tickets[i][1])\n",
    "                if self.backtracking(tickets, used, tickets[i][1], result):\n",
    "                    return True\n",
    "                # 回溯\n",
    "                used[i] = False\n",
    "                result.pop()\n",
    "        \n",
    "        # 如果遍历机票没有找到起始位置是departure的机票，那就是False\n",
    "        return False"
   ]
  }
 ],
 "metadata": {
  "kernelspec": {
   "display_name": "Python 3 (ipykernel)",
   "language": "python",
   "name": "python3"
  },
  "language_info": {
   "codemirror_mode": {
    "name": "ipython",
    "version": 3
   },
   "file_extension": ".py",
   "mimetype": "text/x-python",
   "name": "python",
   "nbconvert_exporter": "python",
   "pygments_lexer": "ipython3",
   "version": "3.10.9"
  }
 },
 "nbformat": 4,
 "nbformat_minor": 5
}

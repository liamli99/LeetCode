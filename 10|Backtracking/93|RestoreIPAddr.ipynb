{
 "cells": [
  {
   "attachments": {},
   "cell_type": "markdown",
   "id": "7d405163",
   "metadata": {},
   "source": [
    "# Approach\n",
    "<!-- Describe your approach to solving the problem. -->  \n",
    "本题基本类似131，都是切割问题！     \n",
    "难点在于：   \n",
    "1.result里面的元素是string！不是list！如果一开始就把path定义成string，那么回溯的时候比较麻烦；如果把path定义成list，别忘了放入result之前要转变为题目要求的形式！   \n",
    "2.如何判断一个符合要求的字符串：0-225之间且数字前面没有0(0除外)\n",
    "3.终止条件：不光要切割完字符串，切割的次数也有限制！！！\n",
    "\n",
    "# Note\n",
    "回溯算法模板框架：\n",
    "```\n",
    "void backtracking(参数) {\n",
    "    if (终止条件) {\n",
    "        存放结果;\n",
    "        return;\n",
    "    }\n",
    "\n",
    "    for (选择：本层集合中元素（树中节点孩子的数量就是集合的大小）) {\n",
    "        处理节点;\n",
    "        backtracking(路径，选择列表); // 递归\n",
    "        回溯，撤销处理结果\n",
    "    }\n",
    "}\n",
    "```\n",
    "\n",
    "python slicing：s[start : stop : step]，从s[start]到s[stop - 1]按照step来取！\n",
    "\n",
    "# Code"
   ]
  },
  {
   "cell_type": "code",
   "execution_count": null,
   "id": "ae403ebc",
   "metadata": {},
   "outputs": [],
   "source": [
    "# path用list表示，其实更简单！因为回溯很方便！！！\n",
    "class Solution:\n",
    "    def restoreIpAddresses(self, s: str) -> List[str]:\n",
    "        path = []\n",
    "        result = []\n",
    "        self.backtracking(s, 0, path, result)\n",
    "        return result\n",
    "\n",
    "    def backtracking(self, s, startIndex, path, result):\n",
    "        # 类似216，只要有四个数字不管有没有切割完，都要return\n",
    "        if len(path) == 4:\n",
    "            # 如果切割完了，那就把path变成题目要求的形式再装进result！\n",
    "            if startIndex == len(s):\n",
    "                result.append(\".\".join(path))\n",
    "            return\n",
    "\n",
    "        for i in range(startIndex, len(s)):\n",
    "            segment = s[startIndex : i + 1]\n",
    "            # 1. 数字在0-255之间，由于题目说了s里面只有数字，因此不可能为负数，只需检查小于等于255即可\n",
    "            # 2. 对于不是0本身的数字，开头不能有0！\n",
    "            if int(segment) <= 255 and (segment == '0' or segment[0] != '0'):\n",
    "                path.append(segment)\n",
    "                self.backtracking(s, i + 1, path, result)\n",
    "                path.pop()"
   ]
  },
  {
   "cell_type": "code",
   "execution_count": null,
   "id": "c8454406",
   "metadata": {},
   "outputs": [],
   "source": [
    "# 根据题意path就用string表示！\n",
    "class Solution:\n",
    "    def restoreIpAddresses(self, s: str) -> List[str]:\n",
    "        path = \"\"\n",
    "        result = []\n",
    "        self.backtracking(s, 0, path, result)\n",
    "        return result\n",
    "    \n",
    "    def backtracking(self, s, startIndex, path, result):\n",
    "        # 1. split函数不会改变path本身！2. 由于path中最后一个元素有\".\"，计算个数时会多算一个！\n",
    "        # 假如path=\"255.255.12.\"，按道理应该只有3个数，但是path.split(\".\")的结果是[\"255\",\"255\",\"12\",\"\"]，有4个元素！！！\n",
    "        if len(path.split(\".\")) - 1 == 4:\n",
    "            if startIndex == len(s):\n",
    "                # 最后一个数字后面没有\".\"，结果中要去除！\n",
    "                result.append(path[:-1])\n",
    "            return\n",
    "        \n",
    "        for i in range(startIndex, len(s)):\n",
    "            segment = s[startIndex : i + 1]\n",
    "            if int(segment) <= 255 and (segment == '0' or segment[0] != '0'):\n",
    "                path += s[startIndex : i + 1] + \".\"\n",
    "                self.backtracking(s, i + 1, path, result)\n",
    "                # 这里是最大的难点！！！path中一开始加入了s[startIndex:i+1]这段字符串和\".\"！\n",
    "                # s[startIndex:i+1]中一个有i-startIndex+1个元素，再加上\".\"，一共有i-startIndex+2个元素，全部都要删去！\n",
    "                # 这里比17题难多了！\n",
    "                path = path[: -(i - startIndex + 2)]"
   ]
  }
 ],
 "metadata": {
  "kernelspec": {
   "display_name": "Python 3 (ipykernel)",
   "language": "python",
   "name": "python3"
  },
  "language_info": {
   "codemirror_mode": {
    "name": "ipython",
    "version": 3
   },
   "file_extension": ".py",
   "mimetype": "text/x-python",
   "name": "python",
   "nbconvert_exporter": "python",
   "pygments_lexer": "ipython3",
   "version": "3.10.9"
  }
 },
 "nbformat": 4,
 "nbformat_minor": 5
}

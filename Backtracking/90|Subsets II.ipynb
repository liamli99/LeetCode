{
 "cells": [
  {
   "cell_type": "markdown",
   "id": "7d405163",
   "metadata": {},
   "source": [
    "# Approach\n",
    "<!-- Describe your approach to solving the problem. -->  \n",
    "本题在78求子集的基础之上，原集合nums变成可以有重复的了！完全类似40的情况！在40中我们说了如何处理当集合有重复数字时，最终结果不能重复的情况！\n",
    "\n",
    "# Note\n",
    "回溯算法模板框架：\n",
    "```\n",
    "void backtracking(参数) {\n",
    "    if (终止条件) {\n",
    "        存放结果;\n",
    "        return;\n",
    "    }\n",
    "\n",
    "    for (选择：本层集合中元素（树中节点孩子的数量就是集合的大小）) {\n",
    "        处理节点;\n",
    "        backtracking(路径，选择列表); // 递归\n",
    "        回溯，撤销处理结果\n",
    "    }\n",
    "}\n",
    "```\n",
    "\n",
    "# Code"
   ]
  },
  {
   "cell_type": "code",
   "execution_count": null,
   "id": "45409350",
   "metadata": {},
   "outputs": [],
   "source": [
    "# 利用used数组对同一层的重复元素去重\n",
    "class Solution:\n",
    "    def subsetsWithDup(self, nums: List[int]) -> List[List[int]]:\n",
    "        path = []\n",
    "        result = []\n",
    "        used = [False] * len(nums)\n",
    "        # 从小到大排序\n",
    "        nums.sort()\n",
    "        self.backtracking(nums, used, 0, path, result)\n",
    "        return result\n",
    "    \n",
    "    def backtracking(self, nums, used, startIndex, path, result):\n",
    "        result.append(path[:])\n",
    "        \n",
    "        # 可删去\n",
    "        if startIndex == len(nums):\n",
    "            return\n",
    "\n",
    "        for i in range(startIndex, len(nums)):\n",
    "            if not (i > 0 and nums[i] == nums[i - 1] and used[i - 1] == False):\n",
    "                used[i] = True\n",
    "                path.append(nums[i])\n",
    "                self.backtracking(nums, used, i + 1, path, result)\n",
    "                used[i] = False\n",
    "                path.pop()"
   ]
  },
  {
   "cell_type": "code",
   "execution_count": null,
   "id": "ae403ebc",
   "metadata": {},
   "outputs": [],
   "source": [
    "# 利用startIndex对同一层的重复元素去重\n",
    "class Solution:\n",
    "    def subsetsWithDup(self, nums: List[int]) -> List[List[int]]:\n",
    "        path = []\n",
    "        result = []\n",
    "        # 从小到大排序\n",
    "        nums.sort()\n",
    "        self.backtracking(nums, 0, path, result)\n",
    "        return result\n",
    "    \n",
    "    def backtracking(self, nums, startIndex, path, result):\n",
    "        result.append(path[:])\n",
    "        \n",
    "        # 可删去\n",
    "        if startIndex == len(nums):\n",
    "            return\n",
    "\n",
    "        for i in range(startIndex, len(nums)):\n",
    "            if not (i > startIndex and nums[i] == nums[i - 1]):\n",
    "                path.append(nums[i])\n",
    "                self.backtracking(nums, i + 1, path, result)\n",
    "                path.pop()"
   ]
  }
 ],
 "metadata": {
  "kernelspec": {
   "display_name": "Python 3 (ipykernel)",
   "language": "python",
   "name": "python3"
  },
  "language_info": {
   "codemirror_mode": {
    "name": "ipython",
    "version": 3
   },
   "file_extension": ".py",
   "mimetype": "text/x-python",
   "name": "python",
   "nbconvert_exporter": "python",
   "pygments_lexer": "ipython3",
   "version": "3.10.9"
  }
 },
 "nbformat": 4,
 "nbformat_minor": 5
}

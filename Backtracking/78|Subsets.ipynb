{
 "cells": [
  {
   "cell_type": "markdown",
   "id": "7d405163",
   "metadata": {},
   "source": [
    "# Approach\n",
    "<!-- Describe your approach to solving the problem. -->  \n",
    "本题是子集问题，和之前的组合问题，切割问题不一样！如果把子集问题、组合问题、分割问题都抽象为一棵树的话，那么组合问题和分割问题都是收集树的叶子节点，而子集问题是找树的所有节点！！！   \n",
    "\n",
    "但其实子集本质上也是一种组合问题，因为它的集合是无序的！即[1,2]和[2,1]相同！   \n",
    "\n",
    "求取子集问题，不需要任何剪枝！因为子集就是要遍历整棵树。\n",
    "\n",
    "# Note\n",
    "回溯算法模板框架：\n",
    "```\n",
    "void backtracking(参数) {\n",
    "    if (终止条件) {\n",
    "        存放结果;\n",
    "        return;\n",
    "    }\n",
    "\n",
    "    for (选择：本层集合中元素（树中节点孩子的数量就是集合的大小）) {\n",
    "        处理节点;\n",
    "        backtracking(路径，选择列表); // 递归\n",
    "        回溯，撤销处理结果\n",
    "    }\n",
    "}\n",
    "```\n",
    "\n",
    "# Code"
   ]
  },
  {
   "cell_type": "code",
   "execution_count": null,
   "id": "ae403ebc",
   "metadata": {},
   "outputs": [],
   "source": [
    "class Solution:\n",
    "    def subsets(self, nums: List[int]) -> List[List[int]]:\n",
    "        path = []\n",
    "        result = []\n",
    "        self.backtracking(nums, 0, path, result)\n",
    "        return result\n",
    "    \n",
    "    def backtracking(self, nums, startIndex, path, result):\n",
    "        # 非常重要！存储所有结果！！！正好也能把空集[]加进去！\n",
    "        result.append(path[:])\n",
    "        \n",
    "        # 其实不需要这段代码，不会出现无限递归的情况！\n",
    "        # 因为每次递归startIndex都是i+1，最后startIndex==len(nums)，就不能进入for loop循环了！会终止递归！\n",
    "        # 之前的题目之所以要if是因为不需要把所有节点都加进去！只需要加符合条件的节点！\n",
    "        if startIndex == len(nums):\n",
    "            return\n",
    "\n",
    "        for i in range(startIndex, len(nums)):\n",
    "            path.append(nums[i])\n",
    "            self.backtracking(nums, i + 1, path, result)\n",
    "            path.pop()"
   ]
  }
 ],
 "metadata": {
  "kernelspec": {
   "display_name": "Python 3 (ipykernel)",
   "language": "python",
   "name": "python3"
  },
  "language_info": {
   "codemirror_mode": {
    "name": "ipython",
    "version": 3
   },
   "file_extension": ".py",
   "mimetype": "text/x-python",
   "name": "python",
   "nbconvert_exporter": "python",
   "pygments_lexer": "ipython3",
   "version": "3.10.9"
  }
 },
 "nbformat": 4,
 "nbformat_minor": 5
}

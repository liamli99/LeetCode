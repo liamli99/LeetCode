{
 "cells": [
  {
   "cell_type": "markdown",
   "id": "7d405163",
   "metadata": {},
   "source": [
    "# Approach\n",
    "<!-- Describe your approach to solving the problem. -->  \n",
    "本题和47的唯一区别就是nums可以用重复，因此在46的基础上，再用40，90的去重技术即可！\n",
    "\n",
    "\n",
    "# Note\n",
    "回溯算法模板框架：\n",
    "```\n",
    "void backtracking(参数) {\n",
    "    if (终止条件) {\n",
    "        存放结果;\n",
    "        return;\n",
    "    }\n",
    "\n",
    "    for (选择：本层集合中元素（树中节点孩子的数量就是集合的大小）) {\n",
    "        处理节点;\n",
    "        backtracking(路径，选择列表); // 递归\n",
    "        回溯，撤销处理结果\n",
    "    }\n",
    "}\n",
    "```\n",
    "\n",
    "# Code"
   ]
  },
  {
   "cell_type": "code",
   "execution_count": null,
   "id": "ae403ebc",
   "metadata": {},
   "outputs": [],
   "source": [
    "class Solution:\n",
    "    def permuteUnique(self, nums: List[int]) -> List[List[int]]:\n",
    "        path = []\n",
    "        result = []\n",
    "        # 这里的used数组有两个用处：1.防止添加重复元素(46题) 2.去掉本层的重复元素(40题)\n",
    "        used = [False] * len(nums)\n",
    "        # 从小到大排序\n",
    "        nums.sort()\n",
    "        self.backtracking(nums, used, path, result)\n",
    "        return result\n",
    "    \n",
    "    def backtracking(self, nums, used, path, result):\n",
    "        if len(path) == len(nums):\n",
    "            result.append(path[:])\n",
    "            return\n",
    "        \n",
    "        for i in range(len(nums)):\n",
    "            # used[i]==False是46中去除重复添加元素\n",
    "            # 后面的not就是40，90中去重同一层中使用过的元素！注意一定要加上used[i-1]==False，这表示nums[i-1]没有被添加进path，\n",
    "            # 即nums[i]和nums[i-1]是同一层上的元素！只有同一层上的相同才不能添加进path，同一树枝上相同的可以被添加进path！\n",
    "            if used[i] == False and not (i > 0 and nums[i] == nums[i - 1] and used[i - 1] == False):\n",
    "                used[i] = True\n",
    "                path.append(nums[i])\n",
    "                self.backtracking(nums, used, path, result)\n",
    "                used[i] = False\n",
    "                path.pop()"
   ]
  }
 ],
 "metadata": {
  "kernelspec": {
   "display_name": "Python 3 (ipykernel)",
   "language": "python",
   "name": "python3"
  },
  "language_info": {
   "codemirror_mode": {
    "name": "ipython",
    "version": 3
   },
   "file_extension": ".py",
   "mimetype": "text/x-python",
   "name": "python",
   "nbconvert_exporter": "python",
   "pygments_lexer": "ipython3",
   "version": "3.10.9"
  }
 },
 "nbformat": 4,
 "nbformat_minor": 5
}

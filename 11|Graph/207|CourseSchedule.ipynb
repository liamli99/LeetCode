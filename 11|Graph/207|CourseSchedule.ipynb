{
 "cells": [
  {
   "cell_type": "markdown",
   "id": "7d405163",
   "metadata": {},
   "source": [
    "# Approach  \n",
    "可以将prerequisites数组转化为有向图，由course指向prerequiste！   \n",
    "\n",
    "我们先用一个map来存储每门课及其对应的prerequisite，用一个数组visited来表示某门课是否遍历过，DFS/BFS表示是否可以上完某门课！   \n",
    "\n",
    "在DFS中，要确定是否可以上完某门课course，我们就需要不停的找对应的pre，pre的pre...直到找到某门课没有prerequisite为止！这就说明这门课可以上完！如果在找prerequisite的过程中发现该课和之前的课重复了，即该课的visited是True，说明有loop，无法上完course！\n",
    "\n",
    "# Note\n",
    "\n",
    "\n",
    "# Code"
   ]
  },
  {
   "cell_type": "code",
   "execution_count": null,
   "id": "c8454406",
   "metadata": {},
   "outputs": [],
   "source": [
    "# DFS, TLE!\n",
    "class Solution:\n",
    "    def canFinish(self, numCourses: int, prerequisites: List[List[int]]) -> bool:\n",
    "        preMap = collections.defaultdict(list)\n",
    "        for course, pre in prerequisites:\n",
    "            preMap[course].append(pre)\n",
    "\n",
    "        visited = [False] * numCourses\n",
    "\n",
    "        for course in range(numCourses):\n",
    "            if self.dfs(numCourses, prerequisites, preMap, visited, course) == False:\n",
    "                return False\n",
    "        return True\n",
    "    \n",
    "    def dfs(self, numCourses, prerequisites, preMap, visited, course):\n",
    "        if visited[course] == True:\n",
    "            return False\n",
    "        \n",
    "        visited[course] = True\n",
    "        for pre in preMap[course]:\n",
    "            if self.dfs(numCourses, prerequisites, preMap, visited, pre) == False:\n",
    "                return False\n",
    "        \n",
    "        visited[course] = False\n",
    "        return True\n",
    "    \n",
    "# DFS, more efficient!\n",
    "# 和上述DFS的区别在于DFS内添加了最一开始的判断preMap[course]是否为空和最后的将可以上完的course的先修课清空这两个操作！\n",
    "class Solution:\n",
    "    def canFinish(self, numCourses: int, prerequisites: List[List[int]]) -> bool:\n",
    "        preMap = collections.defaultdict(list)\n",
    "        for course, pre in prerequisites:\n",
    "            preMap[course].append(pre)\n",
    "\n",
    "        visited = [False] * numCourses\n",
    "\n",
    "        for course in range(numCourses):\n",
    "            if self.dfs(numCourses, prerequisites, preMap, visited, course) == False:\n",
    "                return False\n",
    "        return True\n",
    "    \n",
    "    def dfs(self, numCourses, prerequisites, preMap, visited, course):\n",
    "        # 没有prerequisite，可以上完course！与倒数第二行的代码搭配使用可以优化！\n",
    "        if preMap[course] == []:\n",
    "            return True\n",
    "        # 重复了，有loop，无法上完course\n",
    "        if visited[course] == True:\n",
    "            return False\n",
    "        \n",
    "        visited[course] = True\n",
    "        \n",
    "        for pre in preMap[course]:\n",
    "            if self.dfs(numCourses, prerequisites, preMap, visited, pre) == False:\n",
    "                return False\n",
    "        \n",
    "        visited[course] = False\n",
    "        \n",
    "        # 优化！！！如果course可以上完，那就将preMap中course一直到最右边的课的先修课全部清空！\n",
    "        # 这样下次再用dfs遇到course到最右边的课之间的某门课时，发现preMap[course]==[]，返回True！不需要再花时间遍历其prerequisite并进行dfs了！\n",
    "        preMap[course] = []\n",
    "        return True"
   ]
  },
  {
   "cell_type": "code",
   "execution_count": null,
   "id": "b786bb7c",
   "metadata": {},
   "outputs": [],
   "source": [
    "# BFS"
   ]
  }
 ],
 "metadata": {
  "kernelspec": {
   "display_name": "Python 3 (ipykernel)",
   "language": "python",
   "name": "python3"
  },
  "language_info": {
   "codemirror_mode": {
    "name": "ipython",
    "version": 3
   },
   "file_extension": ".py",
   "mimetype": "text/x-python",
   "name": "python",
   "nbconvert_exporter": "python",
   "pygments_lexer": "ipython3",
   "version": "3.10.9"
  }
 },
 "nbformat": 4,
 "nbformat_minor": 5
}

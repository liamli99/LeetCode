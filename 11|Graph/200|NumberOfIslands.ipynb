{
 "cells": [
  {
   "cell_type": "markdown",
   "id": "7d405163",
   "metadata": {},
   "source": [
    "# Approach  \n",
    "Island表示所有相邻的(上下左右)且值为1的格子连起来的区域，本题需要用DFS/BFS来标记Islands内的格子！   \n",
    "\n",
    "核心思想都是遍历grid中的每个格子，如果该格子没有被标记过并且值为1，那么岛屿数量加1，再用DFS或BFS的方法将所有与该格子相邻的值为1的格子(Islands)都标记了！     \n",
    "\n",
    "DFS：有点类似79，\n",
    "BFS：与graph的level-order traversal类比，\n",
    "\n",
    "本题中DFS/BFS的作用是标记从grid[row][col]开始的所有相邻的值为1的格子！用used数组表示某个格子是否被标记了！      \n",
    "\n",
    "# Note\n",
    "将图的DFS/BFS和树的DFS/BFS对比！\n",
    "\n",
    "# Code"
   ]
  },
  {
   "cell_type": "code",
   "execution_count": null,
   "id": "c8454406",
   "metadata": {},
   "outputs": [],
   "source": [
    "# DFS\n",
    "class Solution:\n",
    "    def numIslands(self, grid: List[List[str]]) -> int:\n",
    "        used = [[False] * len(grid[0]) for _ in range(len(grid))]\n",
    "        result = 0\n",
    "\n",
    "        for i in range(len(grid)):\n",
    "            for j in range(len(grid[0])):\n",
    "                if used[i][j] == False and grid[i][j] == \"1\":\n",
    "                    result += 1\n",
    "                    self.dfs(grid, i, j, used)\n",
    "        \n",
    "        return result\n",
    "    \n",
    "    def dfs(self, grid, row, col, used):\n",
    "        if (row < 0 or row >= len(grid) or col < 0 or col >= len(grid[0]) or used[row][col] == True or grid[row][col] == \"0\"):\n",
    "            return \n",
    "        \n",
    "        used[row][col] = True\n",
    "        \n",
    "        self.dfs(grid, row - 1, col, used)\n",
    "        self.dfs(grid, row + 1, col, used)\n",
    "        self.dfs(grid, row, col - 1, used)\n",
    "        self.dfs(grid, row, col + 1, used)\n",
    "        \n",
    "        # 这里和79不同，不需要回溯！！！\n",
    "        # 79的DFS是判断能否找到以board[row][col]为首字母的整个word，因此用used数组来标记已经匹配到的word的部分，如果接下来没找到剩下的word，\n",
    "        # 那么就需要把之前标记的格子取消！！！\n",
    "        # 而本题的DFS就是要标记所有相邻的值为1的格子，标记完之后不会再取消标记了！！！\n",
    "        \n",
    "        # used[row][col] = False "
   ]
  },
  {
   "cell_type": "code",
   "execution_count": null,
   "id": "b786bb7c",
   "metadata": {},
   "outputs": [],
   "source": [
    "# BFS\n",
    "class Solution:\n",
    "    def numIslands(self, grid: List[List[str]]) -> int:\n",
    "        used = [[False] * len(grid[0]) for _ in range(len(grid))]\n",
    "        result = 0\n",
    "\n",
    "        for i in range(len(grid)):\n",
    "            for j in range(len(grid[0])):\n",
    "                if used[i][j] == False and grid[i][j] == \"1\":\n",
    "                    result += 1\n",
    "                    self.bfs(grid, i, j, used)\n",
    "        \n",
    "        return result\n",
    "    \n",
    "    # 没有用recursion！\n",
    "    # 需要用queue用来存储相邻的值为1的格子！\n",
    "    def bfs(self, grid, row, col, used):\n",
    "        directions = [[1, 0], [-1, 0], [0, 1], [0, -1]]\n",
    "\n",
    "        q = collections.deque()\n",
    "        q.append((row, col))\n",
    "        \n",
    "        used[row][col] = True\n",
    "\n",
    "        while len(q) != 0:\n",
    "            row, col = q.popleft()\n",
    "            for r, c in directions:\n",
    "                newRow, newCol = row + r, col + c\n",
    "                if (0 <= newRow < len(grid) and 0 <= newCol < len(grid[0]) and used[newRow][newCol] == False and grid[newRow][newCol] == \"1\"):\n",
    "                    q.append((newRow, newCol))\n",
    "                    used[newRow][newCol] = True\n",
    "\n",
    "        # used[row][col] = False"
   ]
  }
 ],
 "metadata": {
  "kernelspec": {
   "display_name": "Python 3 (ipykernel)",
   "language": "python",
   "name": "python3"
  },
  "language_info": {
   "codemirror_mode": {
    "name": "ipython",
    "version": 3
   },
   "file_extension": ".py",
   "mimetype": "text/x-python",
   "name": "python",
   "nbconvert_exporter": "python",
   "pygments_lexer": "ipython3",
   "version": "3.10.9"
  }
 },
 "nbformat": 4,
 "nbformat_minor": 5
}

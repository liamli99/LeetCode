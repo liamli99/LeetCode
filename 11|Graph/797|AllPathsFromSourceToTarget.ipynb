{
 "cells": [
  {
   "cell_type": "markdown",
   "id": "7d405163",
   "metadata": {},
   "source": [
    "# Approach\n",
    "<!-- Describe your approach to solving the problem. -->\n",
    "DFS和回溯本质上完全相同！  \n",
    "\n",
    "本题有点类似332，257，需要一个参数root去记录path中的最后一个node，接下来path中可以加进去的node只能从最后一个node可以指向的node里面选！ \n",
    "\n",
    "# Note\n",
    "回溯模板框架：\n",
    "```python\n",
    "void backtracking(参数) {\n",
    "    if (终止条件) {\n",
    "        存放结果;\n",
    "        return;\n",
    "    }\n",
    "\n",
    "    for (选择：本层集合中元素（树中节点孩子的数量就是集合的大小）) {\n",
    "        处理节点;\n",
    "        backtracking(路径，选择列表); // 递归\n",
    "        回溯，撤销处理结果\n",
    "    }\n",
    "}\n",
    "```\n",
    "DFS模版框架：\n",
    "```python\n",
    "void dfs(参数) {\n",
    "    if (终止条件) {\n",
    "        存放结果;\n",
    "        return;\n",
    "    }\n",
    "\n",
    "    for (选择：本节点所连接的其他节点) {\n",
    "        处理节点;\n",
    "        dfs(图，选择的节点); // 递归\n",
    "        回溯，撤销处理结果\n",
    "    }\n",
    "}\n",
    "\n",
    "```\n",
    "\n",
    "# Code"
   ]
  },
  {
   "cell_type": "code",
   "execution_count": null,
   "id": "c8454406",
   "metadata": {},
   "outputs": [],
   "source": [
    "class Solution:\n",
    "    def allPathsSourceTarget(self, graph: List[List[int]]) -> List[List[int]]:\n",
    "        path = [0]\n",
    "        result = []\n",
    "        self.dps(graph, 0, path, result)\n",
    "        return result\n",
    "    \n",
    "    def dps(self, graph, root, path, result):\n",
    "        # 更直接的判断：\n",
    "        # if len(path) > 0 and path[-1] == len(graph) - 1:\n",
    "        if root == len(graph) - 1:\n",
    "            # Deep copy\n",
    "            result.append(path[:])\n",
    "            return\n",
    "            \n",
    "        for node in graph[root]:\n",
    "            path.append(node)\n",
    "            self.dps(graph, node, path, result)\n",
    "            path.pop()"
   ]
  }
 ],
 "metadata": {
  "kernelspec": {
   "display_name": "Python 3 (ipykernel)",
   "language": "python",
   "name": "python3"
  },
  "language_info": {
   "codemirror_mode": {
    "name": "ipython",
    "version": 3
   },
   "file_extension": ".py",
   "mimetype": "text/x-python",
   "name": "python",
   "nbconvert_exporter": "python",
   "pygments_lexer": "ipython3",
   "version": "3.10.9"
  }
 },
 "nbformat": 4,
 "nbformat_minor": 5
}

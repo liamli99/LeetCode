{
 "cells": [
  {
   "cell_type": "markdown",
   "id": "7d405163",
   "metadata": {},
   "source": [
    "# Approach  \n",
    "本题最直观暴力的写法就是遍历grid中的每个格子，当遇到0时，将0变成1，利用695中的maxAreaOfIsland函数计算此时grid中的Island的最大面积，找出所有最大面积的最大值，这就是最终答案！可惜TLE！    \n",
    "\n",
    "# Note\n",
    "   \n",
    "\n",
    "# Code"
   ]
  },
  {
   "cell_type": "code",
   "execution_count": null,
   "id": "c8454406",
   "metadata": {},
   "outputs": [],
   "source": [
    "# TLE\n",
    "class Solution:\n",
    "    def largestIsland(self, grid: List[List[int]]) -> int:\n",
    "        maxChangedArea = self.maxAreaOfIsland(grid)\n",
    "\n",
    "        for i in range(len(grid)):\n",
    "            for j in range(len(grid[0])):\n",
    "                if grid[i][j] == 0:\n",
    "                    grid[i][j] = 1\n",
    "                    maxChangedArea = max(maxChangedArea, self.maxAreaOfIsland(grid))\n",
    "                    grid[i][j] = 0\n",
    "        \n",
    "        return maxChangedArea\n",
    "    \n",
    "    def maxAreaOfIsland(self, grid):\n",
    "        used = [[False] * len(grid[0]) for _ in range(len(grid))]\n",
    "        maxArea = 0\n",
    "\n",
    "        for i in range(len(grid)):\n",
    "            for j in range(len(grid[0])):\n",
    "                if used[i][j] == False and grid[i][j] == 1:\n",
    "                    maxArea = max(maxArea, self.dfs(grid, i, j, used))\n",
    "        \n",
    "        return maxArea\n",
    "    \n",
    "    def dfs(self, grid, row, col, used):\n",
    "        if (row < 0 or row >= len(grid) or col < 0 or col >= len(grid[0]) or used[row][col] == True or grid[row][col] == 0):\n",
    "            return 0\n",
    "        \n",
    "        used[row][col] = True\n",
    "        \n",
    "        return 1 + self.dfs(grid, row - 1, col, used) \\\n",
    "                 + self.dfs(grid, row + 1, col, used) \\\n",
    "                 + self.dfs(grid, row, col - 1, used) \\\n",
    "                 + self.dfs(grid, row, col + 1, used)"
   ]
  },
  {
   "cell_type": "code",
   "execution_count": null,
   "id": "14511bef",
   "metadata": {},
   "outputs": [],
   "source": [
    "# "
   ]
  }
 ],
 "metadata": {
  "kernelspec": {
   "display_name": "Python 3 (ipykernel)",
   "language": "python",
   "name": "python3"
  },
  "language_info": {
   "codemirror_mode": {
    "name": "ipython",
    "version": 3
   },
   "file_extension": ".py",
   "mimetype": "text/x-python",
   "name": "python",
   "nbconvert_exporter": "python",
   "pygments_lexer": "ipython3",
   "version": "3.10.9"
  }
 },
 "nbformat": 4,
 "nbformat_minor": 5
}

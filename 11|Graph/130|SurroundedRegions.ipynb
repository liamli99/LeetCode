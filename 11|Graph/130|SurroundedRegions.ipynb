{
 "cells": [
  {
   "cell_type": "markdown",
   "id": "7d405163",
   "metadata": {},
   "source": [
    "# Approach  \n",
    "本题类同1020！   \n",
    "\n",
    "将大写字母O看成陆地(1)，大写字母X看成海洋(0)，那么Island表示相邻的且值为O的格子连起来的区域，因此surrounded region表示由海洋包围的Island，即不包含board四个边界中的格子的Island，因此实质上就是1020中的Enclave！！！我们要将所有的Enclave由O变成X！   \n",
    "\n",
    "我们采用1020的方法：先遍历board的四个边界的格子，采用200中的DFS/BFS方法将所有相邻的且值为O的格子都进行标记！此时剩下的未被标记且值为O的格子组成的区域就是surrounded region！我们需要再次遍历board的所有格子，将此时值为O且没有被标记的格子的值变为X！注意本题的代码和1020的代码基本相同，唯一的明显区别就是本题标记完之后再次遍历时遇到未标记的O就将其变成X，而1020标记完之后再次遍历时遇到未标记的1就计数加1！   \n",
    "\n",
    "\n",
    "# Note\n",
    "注意本题的X与O分别是大写字母X和大写字母O！O不是数字0也不是小写字母o！！！类比前几题，可以将本题的X看成海洋，即数字0，将O看成陆地，即数字1！\n",
    "\n",
    "# Code"
   ]
  },
  {
   "cell_type": "code",
   "execution_count": null,
   "id": "c8454406",
   "metadata": {},
   "outputs": [],
   "source": [
    "# DFS\n",
    "class Solution:\n",
    "    def solve(self, board: List[List[str]]) -> None:\n",
    "        \"\"\"\n",
    "        Do not return anything, modify board in-place instead.\n",
    "        \"\"\"\n",
    "        used = [[False] * len(board[0]) for _ in range(len(board))]\n",
    "        \n",
    "        # 四个边界\n",
    "        for i in range(len(board)):\n",
    "            for j in range(len(board[0])):\n",
    "                if used[i][j] == False and board[i][j] == \"O\" and (i == 0 or i == len(board) - 1 or j == 0 or j == len(board[0]) - 1):\n",
    "                    self.dfs(board, i, j, used)\n",
    "        \n",
    "        for i in range(len(board)):\n",
    "            for j in range(len(board[0])):\n",
    "                if used[i][j] == False and board[i][j] == \"O\":\n",
    "                    board[i][j] = \"X\"\n",
    "    \n",
    "    def dfs(self, board, row, col, used):\n",
    "        if (row < 0 or row >= len(board) or col < 0 or col >= len(board[0]) or used[row][col] == True or board[row][col] == \"X\"):\n",
    "            return \n",
    "        \n",
    "        used[row][col] = True\n",
    "        \n",
    "        self.dfs(board, row - 1, col, used)\n",
    "        self.dfs(board, row + 1, col, used) \n",
    "        self.dfs(board, row, col - 1, used)\n",
    "        self.dfs(board, row, col + 1, used)"
   ]
  },
  {
   "cell_type": "code",
   "execution_count": null,
   "id": "0ea0a966",
   "metadata": {},
   "outputs": [],
   "source": [
    "# BFS\n",
    "class Solution:\n",
    "    def solve(self, board: List[List[str]]) -> None:\n",
    "        \"\"\"\n",
    "        Do not return anything, modify board in-place instead.\n",
    "        \"\"\"\n",
    "        used = [[False] * len(board[0]) for _ in range(len(board))]\n",
    "        \n",
    "       # 四个边界\n",
    "        for i in range(len(board)):\n",
    "            for j in range(len(board[0])):\n",
    "                if used[i][j] == False and board[i][j] == \"O\" and (i == 0 or i == len(board) - 1 or j == 0 or j == len(board[0]) - 1):\n",
    "                    self.bfs(board, i, j, used)\n",
    "        \n",
    "        for i in range(len(board)):\n",
    "            for j in range(len(board[0])):\n",
    "                if used[i][j] == False and board[i][j] == \"O\":\n",
    "                    board[i][j] = \"X\"\n",
    "    \n",
    "    def bfs(self, grid, row, col, used):\n",
    "        directions = [[1, 0], [-1, 0], [0, 1], [0, -1]]\n",
    "\n",
    "        q = collections.deque()\n",
    "        q.append((row, col))\n",
    "        \n",
    "        used[row][col] = True\n",
    "\n",
    "        while len(q) != 0:\n",
    "            row, col = q.popleft()\n",
    "            for r, c in directions:\n",
    "                newRow, newCol = row + r, col + c\n",
    "                if (0 <= newRow < len(grid) and 0 <= newCol < len(grid[0]) and used[newRow][newCol] == False and grid[newRow][newCol] == \"O\"):\n",
    "                    q.append((newRow, newCol))\n",
    "                    used[newRow][newCol] = True"
   ]
  }
 ],
 "metadata": {
  "kernelspec": {
   "display_name": "Python 3 (ipykernel)",
   "language": "python",
   "name": "python3"
  },
  "language_info": {
   "codemirror_mode": {
    "name": "ipython",
    "version": 3
   },
   "file_extension": ".py",
   "mimetype": "text/x-python",
   "name": "python",
   "nbconvert_exporter": "python",
   "pygments_lexer": "ipython3",
   "version": "3.10.9"
  }
 },
 "nbformat": 4,
 "nbformat_minor": 5
}

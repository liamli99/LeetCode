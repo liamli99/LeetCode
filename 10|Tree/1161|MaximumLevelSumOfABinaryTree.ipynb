{
 "cells": [
  {
   "cell_type": "markdown",
   "id": "009257eb",
   "metadata": {},
   "source": [
    "# Approach\n",
    "- 本题和102相比，只需要找到每层的和的最大值及其对应的层数！\n",
    "\n",
    "# Code"
   ]
  },
  {
   "cell_type": "code",
   "execution_count": null,
   "id": "e281de5d",
   "metadata": {},
   "outputs": [],
   "source": [
    "# Time: O(n), Space: O(n)\n",
    "\n",
    "# Definition for a binary tree node.\n",
    "class TreeNode:\n",
    "    def __init__(self, val=0, left=None, right=None):\n",
    "        self.val = val\n",
    "        self.left = left\n",
    "        self.right = right\n",
    "\n",
    "from typing import Optional\n",
    "from collections import deque\n",
    "\n",
    "class Solution:\n",
    "    def maxLevelSum(self, root: Optional[TreeNode]) -> int:\n",
    "        if root == None:\n",
    "            return 0\n",
    "        \n",
    "        queue = deque([root])\n",
    "        maxLevelSum = float('-inf')\n",
    "        maxLevel = level = 0\n",
    "\n",
    "        while len(queue) != 0:\n",
    "            levelSize = len(queue)\n",
    "            levelSum = 0\n",
    "            level += 1\n",
    "\n",
    "            for _ in range(levelSize):\n",
    "                node = queue.popleft()\n",
    "                levelSum += node.val\n",
    "\n",
    "                if node.left != None:\n",
    "                    queue.append(node.left)\n",
    "                if node.right != None:\n",
    "                    queue.append(node.right)\n",
    "            \n",
    "            \n",
    "            if levelSum > maxLevelSum:\n",
    "                maxLevelSum = levelSum\n",
    "                maxLevel = level\n",
    "            \n",
    "        return maxLevel"
   ]
  }
 ],
 "metadata": {
  "kernelspec": {
   "display_name": "Python 3 (ipykernel)",
   "language": "python",
   "name": "python3"
  },
  "language_info": {
   "codemirror_mode": {
    "name": "ipython",
    "version": 3
   },
   "file_extension": ".py",
   "mimetype": "text/x-python",
   "name": "python",
   "nbconvert_exporter": "python",
   "pygments_lexer": "ipython3",
   "version": "3.10.9"
  }
 },
 "nbformat": 4,
 "nbformat_minor": 5
}

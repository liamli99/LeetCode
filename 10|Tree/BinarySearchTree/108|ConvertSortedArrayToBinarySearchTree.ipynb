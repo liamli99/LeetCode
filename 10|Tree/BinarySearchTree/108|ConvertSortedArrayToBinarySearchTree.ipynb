{
 "cells": [
  {
   "cell_type": "markdown",
   "id": "009257eb",
   "metadata": {},
   "source": [
    "# Approach\n",
    "本题和654，105，106非常类似！都是构造二叉树的题目！      \n",
    "\n",
    "注意本题的nums数组是从小到大排序的，而且题目要求BST必须是height balanced！因此我们可以选取nums数组的中间元素作为root，中间元素的左边的元素作为root的左子树，因为它们都小于中间元素！中间元素的右边的元素作为root的右子树，因为它们都大于中间元素！重复上述操作，这样可以确保得到的是height-balanced BST！   \n",
    "\n",
    "nums数组中中间的元素就是整个树的root！该元素把nums数组分成左右两部分，左边部分就是root的左子树，右边部分就是root的右子树！   \n",
    "\n",
    "\n",
    "# Note\n",
    "A height-balanced binary tree is a binary tree in which the depth of the two subtrees of every node never differs by more than one.\n",
    "\n",
    "# Code"
   ]
  },
  {
   "cell_type": "code",
   "execution_count": null,
   "id": "69b4b5a4",
   "metadata": {},
   "outputs": [],
   "source": [
    "# recursion\n",
    "class Solution:\n",
    "    def sortedArrayToBST(self, nums: List[int]) -> Optional[TreeNode]:\n",
    "        if not nums:\n",
    "            return None\n",
    "        \n",
    "        # 本题是先确定index再确定root！\n",
    "        idx = (0 + len(nums) - 1) // 2\n",
    "        root = TreeNode(nums[idx])\n",
    "\n",
    "        root.left = self.sortedArrayToBST(nums[0 : idx])\n",
    "        root.right = self.sortedArrayToBST(nums[idx + 1 : ])\n",
    "\n",
    "        return root"
   ]
  }
 ],
 "metadata": {
  "kernelspec": {
   "display_name": "Python 3 (ipykernel)",
   "language": "python",
   "name": "python3"
  },
  "language_info": {
   "codemirror_mode": {
    "name": "ipython",
    "version": 3
   },
   "file_extension": ".py",
   "mimetype": "text/x-python",
   "name": "python",
   "nbconvert_exporter": "python",
   "pygments_lexer": "ipython3",
   "version": "3.10.9"
  }
 },
 "nbformat": 4,
 "nbformat_minor": 5
}

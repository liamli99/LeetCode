{
 "cells": [
  {
   "cell_type": "markdown",
   "id": "009257eb",
   "metadata": {},
   "source": [
    "# Approach   \n",
    "本题和98，530，501，538一样，利用BST中序遍历的结果是递增序列！\n",
    "\n",
    "# Note  \n",
    "**对二叉搜索树进行中序遍历(左中右)，所得结果必然是一个递增的序列！！！**\n",
    "\n",
    "\n",
    "# Code"
   ]
  },
  {
   "cell_type": "code",
   "execution_count": null,
   "id": "2cda6f4e",
   "metadata": {},
   "outputs": [],
   "source": [
    "# recursion\n",
    "class Solution:\n",
    "    count = 0\n",
    "    def kthSmallest(self, root: Optional[TreeNode], k: int) -> int:\n",
    "        if root == None:\n",
    "            return \n",
    "\n",
    "        # 左\n",
    "        leftVal = self.kthSmallest(root.left, k)\n",
    "        if self.count == k:\n",
    "            return leftVal\n",
    "        \n",
    "        # 中\n",
    "        self.count += 1\n",
    "        if self.count == k:\n",
    "            return root.val\n",
    "        \n",
    "        # 右\n",
    "        # 也可以直接写成return self.kthSmallest(root.right, k)，因为根据题意BST中必定存在第k小的node！\n",
    "        rightVal = self.kthSmallest(root.right, k)\n",
    "        if self.count == k:\n",
    "            return rightVal"
   ]
  },
  {
   "cell_type": "code",
   "execution_count": null,
   "id": "dd9e882e",
   "metadata": {},
   "outputs": [],
   "source": [
    "# iteration\n",
    "class Solution:\n",
    "    def kthSmallest(self, root: Optional[TreeNode], k: int) -> int:\n",
    "        if root == None:\n",
    "            return \n",
    "        \n",
    "        stack = []  \n",
    "        curr = root\n",
    "        count = 0\n",
    "        \n",
    "        while curr != None or len(stack) != 0:\n",
    "            if curr != None:     \n",
    "                stack.append(curr)\n",
    "                curr = curr.left\n",
    "            else:\n",
    "                curr = stack.pop()\n",
    "                \n",
    "                # 中\n",
    "                count += 1\n",
    "                if count == k:\n",
    "                    return curr.val\n",
    "                \n",
    "                curr = curr.right"
   ]
  }
 ],
 "metadata": {
  "kernelspec": {
   "display_name": "Python 3 (ipykernel)",
   "language": "python",
   "name": "python3"
  },
  "language_info": {
   "codemirror_mode": {
    "name": "ipython",
    "version": 3
   },
   "file_extension": ".py",
   "mimetype": "text/x-python",
   "name": "python",
   "nbconvert_exporter": "python",
   "pygments_lexer": "ipython3",
   "version": "3.10.9"
  }
 },
 "nbformat": 4,
 "nbformat_minor": 5
}

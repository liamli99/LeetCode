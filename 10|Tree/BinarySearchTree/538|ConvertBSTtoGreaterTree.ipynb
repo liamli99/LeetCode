{
 "cells": [
  {
   "cell_type": "markdown",
   "id": "009257eb",
   "metadata": {},
   "source": [
    "# Approach   \n",
    "本题和98，530，501一样，利用BST中序遍历的结果是递增序列！   \n",
    "\n",
    "我们知道对二叉搜索树进行中序遍历(左中右)，所得结果必然是一个递增的序列，因此“右中左”必然可以得到一个递减的序列！我们遍历这个递减序列，不断的让后一个数等于其原本的值加上前一个数，最终就可以得到Greater Tree！     \n",
    "\n",
    "783题和本题完全相同！   \n",
    "\n",
    "# Note\n",
    "**对二叉搜索树进行中序遍历(左中右)，所得结果必然是一个递增的序列！！！**\n",
    "\n",
    "\n",
    "# Code"
   ]
  },
  {
   "cell_type": "code",
   "execution_count": null,
   "id": "2cda6f4e",
   "metadata": {},
   "outputs": [],
   "source": [
    "# recursion\n",
    "class Solution:\n",
    "    preVal = 0\n",
    "    def convertBST(self, root: Optional[TreeNode]) -> Optional[TreeNode]:\n",
    "        if root == None:\n",
    "            return None\n",
    "        \n",
    "        # 右\n",
    "        self.convertBST(root.right)\n",
    "        \n",
    "        # 中\n",
    "        root.val += self.preVal\n",
    "        \n",
    "        self.preVal = root.val\n",
    "        \n",
    "        # 左\n",
    "        self.convertBST(root.left)\n",
    "        \n",
    "        return root"
   ]
  },
  {
   "cell_type": "code",
   "execution_count": null,
   "id": "816c212e",
   "metadata": {},
   "outputs": [],
   "source": [
    "# iteration\n",
    "class Solution:\n",
    "    def convertBST(self, root: Optional[TreeNode]) -> Optional[TreeNode]:\n",
    "        if root == None:\n",
    "            return None\n",
    "        \n",
    "        stack = []  \n",
    "        curr = root\n",
    "        preVal = 0\n",
    "        \n",
    "        while curr != None or len(stack) != 0:\n",
    "            if curr != None:     \n",
    "                stack.append(curr)\n",
    "                curr = curr.right\n",
    "            else:\n",
    "                curr = stack.pop()\n",
    "                \n",
    "                # 中\n",
    "                curr.val += preVal\n",
    "                preVal = curr.val\n",
    "                \n",
    "                curr = curr.left\n",
    "        \n",
    "        return root"
   ]
  }
 ],
 "metadata": {
  "kernelspec": {
   "display_name": "Python 3 (ipykernel)",
   "language": "python",
   "name": "python3"
  },
  "language_info": {
   "codemirror_mode": {
    "name": "ipython",
    "version": 3
   },
   "file_extension": ".py",
   "mimetype": "text/x-python",
   "name": "python",
   "nbconvert_exporter": "python",
   "pygments_lexer": "ipython3",
   "version": "3.10.9"
  }
 },
 "nbformat": 4,
 "nbformat_minor": 5
}

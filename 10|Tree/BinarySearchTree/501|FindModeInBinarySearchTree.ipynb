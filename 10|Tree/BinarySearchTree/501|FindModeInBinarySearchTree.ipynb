{
 "cells": [
  {
   "cell_type": "markdown",
   "id": "009257eb",
   "metadata": {},
   "source": [
    "# Approach   \n",
    "本题和98，530一样，利用BST中序遍历的结果是递增序列！本题BST的定义允许相等，因此中序遍历的结果是非递减序列！   \n",
    "\n",
    "如果本题只是普通的二叉树，那就是遍历二叉树的应用！我们要用一个map去存储每个节点的值及其出现次数！map中value最大的key就是答案！很明显该方法需要额外建一个map，因此用了extra space！   \n",
    "\n",
    "不使用extra space：我们可以在定义pre和result的基础上再定义两个全局变量count和maxCount！count用来记录当前值的出现次数，maxCount用来记录最大出现次数！由于中序遍历的结果是非递减序列，因此相等的值都排在一起！我们只需要将当前值和之前的值比较，如果相等，那么count+=1；如果不相等，那么count=1！然后将count和maxCount比较，如果相等，那就在result中添加当前值；如果count大于maxCount，那么count就是新的maxCount，而且result要全部清空，只添加当前值！      \n",
    "\n",
    "\n",
    "# Note\n",
    "**对二叉搜索树进行中序遍历(左中右)，所得结果必然是一个递增的序列！！！**\n",
    "\n",
    "\n",
    "# Code"
   ]
  },
  {
   "cell_type": "code",
   "execution_count": null,
   "id": "2cda6f4e",
   "metadata": {},
   "outputs": [],
   "source": [
    "# recursion\n",
    "class Solution:\n",
    "    pre = None\n",
    "    result = []\n",
    "    count, maxCount = 0, 0\n",
    "    def findMode(self, root: Optional[TreeNode]) -> List[int]:\n",
    "        if root == None:\n",
    "            return\n",
    "        \n",
    "        # 左\n",
    "        self.findMode(root.left)\n",
    "\n",
    "        # 中\n",
    "        if self.pre != None and self.pre.val == root.val:\n",
    "            self.count += 1\n",
    "        else:\n",
    "            self.count = 1\n",
    "\n",
    "        if self.count == self.maxCount:\n",
    "            self.result.append(root.val)\n",
    "        elif self.count > self.maxCount:\n",
    "            self.maxCount = self.count\n",
    "            self.result = [root.val]\n",
    "        \n",
    "        self.pre = root\n",
    "\n",
    "        # 右\n",
    "        self.findMode(root.right)\n",
    "\n",
    "        return self.result"
   ]
  },
  {
   "cell_type": "code",
   "execution_count": null,
   "id": "816c212e",
   "metadata": {},
   "outputs": [],
   "source": [
    "# iteration\n",
    "class Solution:\n",
    "    def findMode(self, root: Optional[TreeNode]) -> List[int]:\n",
    "        if root == None:\n",
    "            return\n",
    "        \n",
    "        stack = []  \n",
    "        curr = root\n",
    "        pre = None\n",
    "        result = []\n",
    "        count, maxCount = 0, 0\n",
    "        \n",
    "        while curr != None or len(stack) != 0:\n",
    "            if curr != None:     \n",
    "                stack.append(curr)\n",
    "                curr = curr.left\n",
    "            else:\n",
    "                curr = stack.pop()\n",
    "                \n",
    "                # 中\n",
    "                if pre != None and pre.val == curr.val:\n",
    "                    count += 1\n",
    "                else:\n",
    "                    count = 1\n",
    "                if count == maxCount:\n",
    "                    result.append(curr.val)\n",
    "                elif count > maxCount:\n",
    "                    maxCount = count\n",
    "                    result = [curr.val]\n",
    "                pre = curr\n",
    "\n",
    "                curr = curr.right\n",
    "        \n",
    "        return result"
   ]
  }
 ],
 "metadata": {
  "kernelspec": {
   "display_name": "Python 3 (ipykernel)",
   "language": "python",
   "name": "python3"
  },
  "language_info": {
   "codemirror_mode": {
    "name": "ipython",
    "version": 3
   },
   "file_extension": ".py",
   "mimetype": "text/x-python",
   "name": "python",
   "nbconvert_exporter": "python",
   "pygments_lexer": "ipython3",
   "version": "3.10.9"
  }
 },
 "nbformat": 4,
 "nbformat_minor": 5
}

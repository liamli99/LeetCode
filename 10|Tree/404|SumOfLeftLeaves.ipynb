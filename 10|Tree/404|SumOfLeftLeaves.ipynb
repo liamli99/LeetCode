{
 "cells": [
  {
   "cell_type": "markdown",
   "id": "009257eb",
   "metadata": {},
   "source": [
    "# Approach\n",
    "本题和226一样，都是遍历二叉树的应用！因此可以使用四种方式来遍历binary tree！   \n",
    "\n",
    "判断某个node是否是left leaf有两个条件：1.该node是leaf 2.该node是其父节点的左孩子！注意如果一个树只含有root，那么该root也是leaf，但不是left leaf！因为它连父节点都没有，更不可能是父节点的左孩子了！   \n",
    "\n",
    "本题的难点在于不能遍历到某个node了再去判断其是否是left leaf，因为此时不知道它的父节点是什么！遍历到某个node时只能判断其left child是否是leaf来确定left leaf！！！   \n",
    "\n",
    "# Note\n",
    "\n",
    "# Code"
   ]
  },
  {
   "cell_type": "code",
   "execution_count": null,
   "id": "9da42a92",
   "metadata": {},
   "outputs": [],
   "source": [
    "# recursion，整体结构很像222！\n",
    "class Solution:\n",
    "    def sumOfLeftLeaves(self, root: Optional[TreeNode]) -> int:\n",
    "        if root == None:\n",
    "            return 0\n",
    "        \n",
    "        # 左\n",
    "        if root.left != None and root.left.left == None and root.left.right == None:\n",
    "            leftSum = root.left.val\n",
    "        else:\n",
    "            leftSum = self.sumOfLeftLeaves(root.left)\n",
    "        \n",
    "        # 右\n",
    "        rightSum = self.sumOfLeftLeaves(root.right)\n",
    "        \n",
    "        # 中\n",
    "        sum_ = leftSum + rightSum\n",
    "        \n",
    "        return sum_"
   ]
  },
  {
   "cell_type": "code",
   "execution_count": null,
   "id": "e281de5d",
   "metadata": {},
   "outputs": [],
   "source": [
    "# preorder, iteration\n",
    "class Solution:\n",
    "    def sumOfLeftLeaves(self, root: Optional[TreeNode]) -> int:\n",
    "        if root == None:\n",
    "            return 0\n",
    "        \n",
    "        stack = [root]\n",
    "        sum_ = 0\n",
    "        while len(stack) != 0:\n",
    "            node = stack.pop()\n",
    "            if node.left != None:\n",
    "                stack.append(node.left)\n",
    "                if node.left.left == None and node.left.right == None:\n",
    "                    sum_ += node.left.val\n",
    "            if node.right != None:\n",
    "                stack.append(node.right)\n",
    "        return sum_"
   ]
  },
  {
   "cell_type": "code",
   "execution_count": null,
   "id": "4911fca8",
   "metadata": {},
   "outputs": [],
   "source": [
    "# postorder, iteration\n",
    "class Solution:\n",
    "    def sumOfLeftLeaves(self, root: Optional[TreeNode]) -> int:\n",
    "        if root == None:\n",
    "            return 0\n",
    "        \n",
    "        stack = [root]\n",
    "        sum_ = 0\n",
    "        while len(stack) != 0:\n",
    "            node = stack.pop()\n",
    "            if node.right != None:\n",
    "                stack.append(node.right)\n",
    "            if node.left != None:\n",
    "                stack.append(node.left)\n",
    "                if node.left.left == None and node.left.right == None:\n",
    "                    sum_ += node.left.val\n",
    "        return sum_"
   ]
  },
  {
   "cell_type": "code",
   "execution_count": null,
   "id": "6cbdc0ce",
   "metadata": {},
   "outputs": [],
   "source": [
    "# inorder, iteration\n",
    "class Solution:\n",
    "    def sumOfLeftLeaves(self, root: Optional[TreeNode]) -> int:\n",
    "        if root == None:\n",
    "            return []\n",
    "    \n",
    "        stack = []  \n",
    "        curr = root\n",
    "        sum_ = 0\n",
    "        \n",
    "        while curr != None or len(stack) != 0:\n",
    "            if curr != None:     \n",
    "                stack.append(curr)\n",
    "                curr = curr.left\n",
    "            else:\n",
    "                curr = stack.pop()\n",
    "                if curr.left != None and curr.left.left == None and curr.left.right == None:\n",
    "                    sum_ += curr.left.val\n",
    "                curr = curr.right\n",
    "        \n",
    "        return sum_"
   ]
  },
  {
   "cell_type": "code",
   "execution_count": null,
   "id": "7dc8a42b",
   "metadata": {},
   "outputs": [],
   "source": [
    "# level-order, iteration\n",
    "class Solution:\n",
    "    def sumOfLeftLeaves(self, root: Optional[TreeNode]) -> int:\n",
    "        if root == None:\n",
    "            return 0\n",
    "        \n",
    "        queue = collections.deque([root])\n",
    "        sum_ = 0\n",
    "        while len(queue) != 0:\n",
    "            node = queue.popleft()\n",
    "            if node.left != None:\n",
    "                queue.append(node.left)\n",
    "                if node.left.left == None and node.left.right == None:\n",
    "                    sum_ += node.left.val\n",
    "            if node.right != None:\n",
    "                queue.append(node.right)\n",
    "        return sum_"
   ]
  }
 ],
 "metadata": {
  "kernelspec": {
   "display_name": "Python 3 (ipykernel)",
   "language": "python",
   "name": "python3"
  },
  "language_info": {
   "codemirror_mode": {
    "name": "ipython",
    "version": 3
   },
   "file_extension": ".py",
   "mimetype": "text/x-python",
   "name": "python",
   "nbconvert_exporter": "python",
   "pygments_lexer": "ipython3",
   "version": "3.10.9"
  }
 },
 "nbformat": 4,
 "nbformat_minor": 5
}

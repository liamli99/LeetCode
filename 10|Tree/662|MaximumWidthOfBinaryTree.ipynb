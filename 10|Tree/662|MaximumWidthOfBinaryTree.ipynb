{
 "cells": [
  {
   "cell_type": "markdown",
   "id": "009257eb",
   "metadata": {},
   "source": [
    "# Approach\n",
    "- maximum width就是每层的第一个node和最后一个node之间距离的最大值！   \n",
    "\n",
    "- 要计算两个node之间的距离，必须要知道两个node的index！因此我们在queue中除了要加入node，还要加入它的index！这里index的定义参考用数组存储二叉树！      \n",
    "\n",
    "# Note\n",
    "- 用数组来存储二叉树时，根节点存储在`arr[0]`, 对于存储在`arr[i]`的节点，其左子节点存储在`arr[2i + 1]`，右子节点存储在`arr[2i + 2]`\n",
    "\n",
    "# Code"
   ]
  },
  {
   "cell_type": "code",
   "execution_count": null,
   "id": "e281de5d",
   "metadata": {},
   "outputs": [],
   "source": [
    "# Time: O(n), Space: O(n)\n",
    "\n",
    "# Definition for a binary tree node.\n",
    "class TreeNode:\n",
    "    def __init__(self, val=0, left=None, right=None):\n",
    "        self.val = val\n",
    "        self.left = left\n",
    "        self.right = right\n",
    "\n",
    "from typing import Optional\n",
    "from collections import deque\n",
    "\n",
    "class Solution:\n",
    "    def widthOfBinaryTree(self, root: Optional[TreeNode]) -> int:\n",
    "        if root == None:\n",
    "            return 0\n",
    "\n",
    "        # queue中的每个元素是[node, index]\n",
    "        queue = deque([[root, 0]])\n",
    "        maxWidth = 0\n",
    "\n",
    "        while len(queue) != 0:\n",
    "            levelSize = len(queue)\n",
    "            start, end = 0, 0\n",
    "\n",
    "            for i in range(levelSize):\n",
    "                node, index = queue.popleft()\n",
    "\n",
    "                if i == 0:\n",
    "                    start = index\n",
    "                if i == levelSize - 1:\n",
    "                    end = index\n",
    "                \n",
    "                if node.left != None:\n",
    "                    queue.append([node.left, 2 * index + 1])\n",
    "                if node.right != None:\n",
    "                    queue.append([node.right, 2 * index + 2])\n",
    "            \n",
    "            width = end - start + 1\n",
    "            maxWidth = max(maxWidth, width)\n",
    "        \n",
    "        return maxWidth"
   ]
  }
 ],
 "metadata": {
  "kernelspec": {
   "display_name": "Python 3 (ipykernel)",
   "language": "python",
   "name": "python3"
  },
  "language_info": {
   "codemirror_mode": {
    "name": "ipython",
    "version": 3
   },
   "file_extension": ".py",
   "mimetype": "text/x-python",
   "name": "python",
   "nbconvert_exporter": "python",
   "pygments_lexer": "ipython3",
   "version": "3.10.14"
  }
 },
 "nbformat": 4,
 "nbformat_minor": 5
}

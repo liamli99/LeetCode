{
 "cells": [
  {
   "cell_type": "markdown",
   "id": "009257eb",
   "metadata": {},
   "source": [
    "# Approach\n",
    "如果是一般的Binary Tree，那么本题就是非常简单的遍历二叉树的应用！我们可以用四种方式去遍历二叉树的所有节点，从而记录节点总数！然而这样做time complexity均是O(n)，不满足要求！  \n",
    "\n",
    "因此我们要用完全二叉树的性质来做这道题！完全二叉树只有两种情况：1.就是满二叉树，2.最后一层叶子节点没有满！        \n",
    "对于情况1，可以直接用公式2^h-1来计算节点数！         \n",
    "对于情况2，分别递归左孩子和右孩子，递归到某一深度一定会有左孩子或者右孩子为满二叉树，然后依然可以按照情况1来计算！      \n",
    "\n",
    "注意，如果一个树是完全二叉树，而且最左边的node的深度和最右边的node的深度相同，那说明这个完全二叉树就是满二叉树！节点的深度(depth)就是从根节点(root)到该节点的路径的节点数！   \n",
    "\n",
    "# Note\n",
    "满二叉树(full binary tree)：每层节点数都达到最大值。若有h层，则共包含2^h-1个节点！      \n",
    "\n",
    "完全二叉树(complete binary tree)：除了最底层节点可能没填满外，其余每层节点数都达到最大值，并且最底层的节点都集中在该层最左边的若干位置。若有h层，则第h层包含1~2^(h-1)个节点！   \n",
    "\n",
    "# Code"
   ]
  },
  {
   "cell_type": "code",
   "execution_count": null,
   "id": "642b425f",
   "metadata": {},
   "outputs": [],
   "source": [
    "# recursion; Time: O(n), Space: O(logn)\n",
    "class Solution:\n",
    "    def countNodes(self, root: Optional[TreeNode]) -> int:\n",
    "        if root == None:\n",
    "            return 0\n",
    "        \n",
    "        # 左\n",
    "        leftNum = self.countNodes(root.left)\n",
    "        # 右\n",
    "        rightNum = self.countNodes(root.right)\n",
    "        # 中\n",
    "        num = leftNum + rightNum + 1\n",
    "        \n",
    "        return num\n",
    "\n",
    "# postorder, preorder, inorder, level-order's iteration; Time: O(n), Space: O(n)"
   ]
  },
  {
   "cell_type": "code",
   "execution_count": null,
   "id": "e281de5d",
   "metadata": {},
   "outputs": [],
   "source": [
    "# 利用完全二叉树的性质，Time: O(logn)\n",
    "class Solution:\n",
    "    def countNodes(self, root: Optional[TreeNode]) -> int:\n",
    "        if root == None:\n",
    "            return 0\n",
    "        \n",
    "        # 判断完全二叉树是否是满二叉树，需要找到最左边的node的深度和最右边的node的深度！\n",
    "        leftDepth = rightDepth = 1\n",
    "        left, right = root.left, root.right\n",
    "        \n",
    "        while left != None:\n",
    "            leftDepth += 1\n",
    "            left = left.left\n",
    "        while right != None:\n",
    "            rightDepth += 1\n",
    "            right = right.right\n",
    "        \n",
    "        # 情况1\n",
    "        if leftDepth == rightDepth:\n",
    "            return 2 ** leftDepth - 1\n",
    "        # 情况2，注意此时的写法和Code中第一段代码(当作一般binary tree的recursion写法)一样！\n",
    "        else:\n",
    "            return self.countNodes(root.left) + self.countNodes(root.right) + 1"
   ]
  }
 ],
 "metadata": {
  "kernelspec": {
   "display_name": "Python 3 (ipykernel)",
   "language": "python",
   "name": "python3"
  },
  "language_info": {
   "codemirror_mode": {
    "name": "ipython",
    "version": 3
   },
   "file_extension": ".py",
   "mimetype": "text/x-python",
   "name": "python",
   "nbconvert_exporter": "python",
   "pygments_lexer": "ipython3",
   "version": "3.10.9"
  }
 },
 "nbformat": 4,
 "nbformat_minor": 5
}

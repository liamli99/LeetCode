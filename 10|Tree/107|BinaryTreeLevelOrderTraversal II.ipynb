{
 "cells": [
  {
   "cell_type": "markdown",
   "id": "009257eb",
   "metadata": {},
   "source": [
    "# Approach\n",
    "- 本题和102相比，只需要在最后翻转result即可！   \n",
    "\n",
    "# Code"
   ]
  },
  {
   "cell_type": "code",
   "execution_count": null,
   "id": "219dcd75",
   "metadata": {},
   "outputs": [],
   "source": [
    "# Time: O(n), Space: O(n)\n",
    "\n",
    "# Definition for a binary tree node.\n",
    "class TreeNode:\n",
    "    def __init__(self, val=0, left=None, right=None):\n",
    "        self.val = val\n",
    "        self.left = left\n",
    "        self.right = right\n",
    "\n",
    "from typing import Optional, List\n",
    "from collections import deque\n",
    "\n",
    "class Solution:\n",
    "    def levelOrderBottom(self, root: Optional[TreeNode]) -> List[List[int]]:\n",
    "        if root == None:\n",
    "            return []\n",
    "        \n",
    "        queue = deque([root])\n",
    "        result = []\n",
    "\n",
    "        while len(queue) != 0:\n",
    "            level = []\n",
    "            levelSize = len(queue)\n",
    "\n",
    "            for _ in range(levelSize):\n",
    "                node = queue.popleft()\n",
    "                level.append(node.val)\n",
    "\n",
    "                if node.left != None:\n",
    "                    queue.append(node.left)\n",
    "                if node.right != None:\n",
    "                    queue.append(node.right)\n",
    "            \n",
    "            result.append(level)\n",
    "        \n",
    "        return result[::-1]\n",
    "    "
   ]
  }
 ],
 "metadata": {
  "kernelspec": {
   "display_name": "Python 3 (ipykernel)",
   "language": "python",
   "name": "python3"
  },
  "language_info": {
   "codemirror_mode": {
    "name": "ipython",
    "version": 3
   },
   "file_extension": ".py",
   "mimetype": "text/x-python",
   "name": "python",
   "nbconvert_exporter": "python",
   "pygments_lexer": "ipython3",
   "version": "3.10.14"
  }
 },
 "nbformat": 4,
 "nbformat_minor": 5
}

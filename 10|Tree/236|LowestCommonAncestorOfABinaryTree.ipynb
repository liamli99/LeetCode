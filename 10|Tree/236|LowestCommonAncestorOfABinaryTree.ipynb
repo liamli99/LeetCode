{
 "cells": [
  {
   "cell_type": "markdown",
   "id": "009257eb",
   "metadata": {},
   "source": [
    "# Approac\n",
    "本题是235的进阶版，由二叉搜索树变成一般的二叉树！因此我们没有办法像235一样通过比较root的值与p和q的值来判断p和q所处的位置！      \n",
    "\n",
    "对于一般的二叉树，我们只能**从下往上**来找最近公共祖先，根据104的Note，本题需要后序遍历(左右中)！   \n",
    "\n",
    "lowestCommonAncestor的运行逻辑是：如果tree中只有p或q，那就直接返回p或q！如果tree中p和q都有，那就返回p和q的最近公共祖先！如果tree中p和q都没有，那就返回None！   \n",
    "\n",
    "# Note\n",
    "\n",
    "\n",
    "# Code"
   ]
  },
  {
   "cell_type": "code",
   "execution_count": null,
   "id": "a06413d2",
   "metadata": {},
   "outputs": [],
   "source": [
    "# recursion\n",
    "class Solution:\n",
    "    def lowestCommonAncestor(self, root: 'TreeNode', p: 'TreeNode', q: 'TreeNode') -> 'TreeNode':\n",
    "        if root == p or root == q or root == None:\n",
    "            return root\n",
    "        \n",
    "        left = self.lowestCommonAncestor(root.left, p, q)\n",
    "        right = self.lowestCommonAncestor(root.right, p, q)\n",
    "        \n",
    "        # p和q在两边\n",
    "        if left != None and right != None:\n",
    "            return root\n",
    "        # p和q都在右边\n",
    "        elif left == None and right != None:\n",
    "            return right\n",
    "        # p和q都在左边\n",
    "        elif left != None and right == None:\n",
    "            return left\n",
    "        else: \n",
    "            return None"
   ]
  }
 ],
 "metadata": {
  "kernelspec": {
   "display_name": "Python 3 (ipykernel)",
   "language": "python",
   "name": "python3"
  },
  "language_info": {
   "codemirror_mode": {
    "name": "ipython",
    "version": 3
   },
   "file_extension": ".py",
   "mimetype": "text/x-python",
   "name": "python",
   "nbconvert_exporter": "python",
   "pygments_lexer": "ipython3",
   "version": "3.10.9"
  }
 },
 "nbformat": 4,
 "nbformat_minor": 5
}

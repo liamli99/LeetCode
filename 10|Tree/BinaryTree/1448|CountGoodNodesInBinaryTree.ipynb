{
 "cells": [
  {
   "attachments": {},
   "cell_type": "markdown",
   "id": "009257eb",
   "metadata": {},
   "source": [
    "# Approach\n",
    "本题类同257，虽然不是要找从根节点到叶子的路径，但是要找的是从根节点到某个节点的路径！   \n",
    "\n",
    "\"Good node\"的定义是从根节点到该节点的路径中没有值比该节点还大的节点，即该节点就是路径中值最大的节点！   \n",
    "\n",
    "\n",
    "# Note     \n",
    "\n",
    "\n",
    "# Code"
   ]
  },
  {
   "cell_type": "code",
   "execution_count": null,
   "id": "8a93d0a8",
   "metadata": {},
   "outputs": [],
   "source": [
    "# preorder, recursion\n",
    "class Solution:\n",
    "    # num是integer，因此是immutable！如果作为traversal的parameter的话，其值不会发生改变！\n",
    "    num = 0\n",
    "    def goodNodes(self, root: TreeNode) -> int:\n",
    "        if root == None:\n",
    "            return 0\n",
    "        \n",
    "        path = []\n",
    "        self.traversal(root, path)\n",
    "        return self.num\n",
    "    \n",
    "    def traversal(self, node, path):\n",
    "        path.append(node.val)\n",
    "        \n",
    "        if node.val == max(path):\n",
    "            self.num += 1\n",
    "        \n",
    "        # if node.left == None and node.right == None:  \n",
    "        #     return\n",
    "       \n",
    "        if node.left != None:\n",
    "            self.traversal(node.left, path)\n",
    "            path.pop()\n",
    "            \n",
    "\n",
    "        if node.right != None:\n",
    "            self.traversal(node.right, path)\n",
    "            path.pop()"
   ]
  },
  {
   "cell_type": "code",
   "execution_count": null,
   "id": "e281de5d",
   "metadata": {},
   "outputs": [],
   "source": [
    "# preorder, iteration\n",
    "class Solution:\n",
    "    def goodNodes(self, root: TreeNode) -> int:\n",
    "        if root == None:\n",
    "            return 0\n",
    "        \n",
    "        stack = [root]\n",
    "        path_lst = [[root.val]]\n",
    "        result = 0\n",
    "\n",
    "        while len(stack) != 0:\n",
    "            node = stack.pop()\n",
    "            path = path_lst.pop()\n",
    "            \n",
    "            if node.val == max(path):\n",
    "                result += 1\n",
    "            \n",
    "            if node.right != None:\n",
    "                stack.append(node.right)\n",
    "                path_lst.append(path + [node.right.val])\n",
    "            if node.left != None:\n",
    "                stack.append(node.left)\n",
    "                path_lst.append(path + [node.left.val])\n",
    "        \n",
    "        return result"
   ]
  }
 ],
 "metadata": {
  "kernelspec": {
   "display_name": "Python 3 (ipykernel)",
   "language": "python",
   "name": "python3"
  },
  "language_info": {
   "codemirror_mode": {
    "name": "ipython",
    "version": 3
   },
   "file_extension": ".py",
   "mimetype": "text/x-python",
   "name": "python",
   "nbconvert_exporter": "python",
   "pygments_lexer": "ipython3",
   "version": "3.10.9"
  }
 },
 "nbformat": 4,
 "nbformat_minor": 5
}

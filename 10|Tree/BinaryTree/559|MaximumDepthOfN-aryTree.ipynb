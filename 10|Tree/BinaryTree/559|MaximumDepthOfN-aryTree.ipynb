{
 "cells": [
  {
   "cell_type": "markdown",
   "id": "009257eb",
   "metadata": {},
   "source": [
    "# Approach\n",
    "- 完全类同104，只不过此时是N叉树，而不是二叉树！\n",
    "\n",
    "- 二叉树的节点node仅有node.left和node.right两个孩子，而N叉树可以有多个孩子，用node.children来表示！由于node.children是一个list，我们可以通过`for child in node.children`的方式来遍历node的孩子！注意child不为None，不需要去检查！！！   \n",
    "\n",
    "# Code"
   ]
  },
  {
   "cell_type": "code",
   "execution_count": null,
   "id": "642b425f",
   "metadata": {},
   "outputs": [],
   "source": [
    "# Recursion\n",
    "# Time: O(n), Space: O(height)\n",
    "\n",
    "from typing import Optional, List\n",
    "\n",
    "# Definition for a Node.\n",
    "class Node:\n",
    "    def __init__(self, val: Optional[int] = None, children: Optional[List['Node']] = None):\n",
    "        self.val = val\n",
    "        self.children = children\n",
    "\n",
    "\n",
    "class Solution:\n",
    "    def maxDepth(self, root: 'Node') -> int:\n",
    "        if root == None:\n",
    "            return 0\n",
    "        \n",
    "        childMaxDepth = 0\n",
    "        for child in root.children:\n",
    "            childMaxDepth = max(childMaxDepth, self.maxDepth(child))\n",
    "        \n",
    "        return childMaxDepth + 1"
   ]
  },
  {
   "cell_type": "code",
   "execution_count": null,
   "id": "e281de5d",
   "metadata": {},
   "outputs": [],
   "source": [
    "# Iteration\n",
    "# Time: O(n), Space: O(n)\n",
    "\n",
    "from typing import Optional, List\n",
    "from collections import deque\n",
    "\n",
    "# Definition for a Node.\n",
    "class Node:\n",
    "    def __init__(self, val: Optional[int] = None, children: Optional[List['Node']] = None):\n",
    "        self.val = val\n",
    "        self.children = children\n",
    "\n",
    "class Solution:\n",
    "    def maxDepth(self, root: 'Node') -> int:\n",
    "        if root == None:\n",
    "            return 0\n",
    "        \n",
    "        queue = deque([root])\n",
    "        maxDepth = 0\n",
    "\n",
    "        while len(queue) != 0:\n",
    "            levelSize = len(queue)\n",
    "            maxDepth += 1\n",
    "\n",
    "            for _ in range(levelSize):\n",
    "                node = queue.popleft()\n",
    "\n",
    "                for child in node.children:\n",
    "                    queue.append(child)\n",
    "        \n",
    "        return maxDepth"
   ]
  }
 ],
 "metadata": {
  "kernelspec": {
   "display_name": "Python 3 (ipykernel)",
   "language": "python",
   "name": "python3"
  },
  "language_info": {
   "codemirror_mode": {
    "name": "ipython",
    "version": 3
   },
   "file_extension": ".py",
   "mimetype": "text/x-python",
   "name": "python",
   "nbconvert_exporter": "python",
   "pygments_lexer": "ipython3",
   "version": "3.10.14"
  }
 },
 "nbformat": 4,
 "nbformat_minor": 5
}

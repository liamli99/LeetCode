{
 "cells": [
  {
   "cell_type": "markdown",
   "id": "009257eb",
   "metadata": {},
   "source": [
    "# Approach\n",
    "- 对于一般的二叉树，我们可以用四种方式去遍历二叉树的所有节点，从而记录节点总数！然而这样做时间复杂度是O(n)，不满足要求！由于本题是完全二叉树，我们可以用完全二叉树的性质来做这道题！\n",
    "\n",
    "- 完全二叉树只有两种情况：\n",
    "  1. 满二叉树：假如树有k层，那么一共有`2^k - 1`个节点\n",
    "  2. 非满二叉树(最后一层没有满)：递归！        \n",
    "\n",
    "- 对于完全二叉树，如果从根节点向左遍历的深度等于向右遍历的深度，那么该完全二叉树就是满二叉树！      \n",
    "\n",
    "# Code"
   ]
  },
  {
   "cell_type": "code",
   "execution_count": null,
   "id": "e281de5d",
   "metadata": {},
   "outputs": [],
   "source": [
    "# Recursion\n",
    "# Time: O(logn * logn), Space: O(logn)\n",
    "from typing import Optional\n",
    "class TreeNode:\n",
    "    def __init__(self, val=0, left=None, right=None):\n",
    "        self.val = val\n",
    "        self.left = left\n",
    "        self.right = right\n",
    "class Solution:\n",
    "    def countNodes(self, root: Optional[TreeNode]) -> int:\n",
    "        if root == None:\n",
    "            return 0\n",
    "        \n",
    "        # 判断完全二叉树是否是满二叉树\n",
    "        leftDepth = rightDepth = 0\n",
    "        p1 = p2 = root\n",
    "        while p1 != None:\n",
    "            p1 = p1.left\n",
    "            leftDepth += 1\n",
    "        while p2 != None:\n",
    "            p2 = p2.right\n",
    "            rightDepth += 1\n",
    "        \n",
    "        # 情况1：满二叉树\n",
    "        if leftDepth == rightDepth:\n",
    "            return 2 ** leftDepth - 1\n",
    "        # 情况2：非满二叉树\n",
    "        else:\n",
    "            return self.countNodes(root.left) + self.countNodes(root.right) + 1\n",
    "        "
   ]
  }
 ],
 "metadata": {
  "kernelspec": {
   "display_name": "Python 3 (ipykernel)",
   "language": "python",
   "name": "python3"
  },
  "language_info": {
   "codemirror_mode": {
    "name": "ipython",
    "version": 3
   },
   "file_extension": ".py",
   "mimetype": "text/x-python",
   "name": "python",
   "nbconvert_exporter": "python",
   "pygments_lexer": "ipython3",
   "version": "3.10.9"
  }
 },
 "nbformat": 4,
 "nbformat_minor": 5
}

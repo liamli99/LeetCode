{
 "cells": [
  {
   "cell_type": "markdown",
   "id": "009257eb",
   "metadata": {},
   "source": [
    "# Approach\n",
    "- 当root1，root2都是None时，两个空树是翻转等价的；\n",
    "- 当root1，root2一个是None，一个不是None时，不是翻转等价的；\n",
    "- 当root1，root2都不是None时，只有当\n",
    "  - root1.val与root2.val相等\n",
    "  并且（\n",
    "  - root1.left与root2.left翻转等价，root1.right与root2.right翻转等价 (不交换根节点的左右子树)\n",
    "  或者\n",
    "  - root1.left与root2.right翻转等价，root1.right与root2.left翻转等价 (先交换根节点的左右子树)\n",
    "  ）时，root1与root2才是翻转等价的！\n",
    "\n",
    "# Code"
   ]
  },
  {
   "cell_type": "code",
   "execution_count": null,
   "id": "642b425f",
   "metadata": {},
   "outputs": [],
   "source": [
    "# Recursion\n",
    "# Time: O(min(m, n)), Space: O(min(m, n))\n",
    "from typing import Optional\n",
    "class TreeNode:\n",
    "    def __init__(self, val=0, left=None, right=None):\n",
    "        self.val = val\n",
    "        self.left = left\n",
    "        self.right = right\n",
    "class Solution:\n",
    "    def flipEquiv(self, root1: Optional[TreeNode], root2: Optional[TreeNode]) -> bool:\n",
    "        if root1 == None and root2 == None:\n",
    "            return True\n",
    "        elif root1 == None or root2 == None:\n",
    "            return False\n",
    "        else:\n",
    "            return root1.val == root2.val and (\n",
    "                (self.flipEquiv(root1.left, root2.left) and self.flipEquiv(root1.right, root2.right))\n",
    "                or \n",
    "                (self.flipEquiv(root1.left, root2.right) and self.flipEquiv(root1.right, root2.left))\n",
    "            )\n",
    "        "
   ]
  }
 ],
 "metadata": {
  "kernelspec": {
   "display_name": "Python 3 (ipykernel)",
   "language": "python",
   "name": "python3"
  },
  "language_info": {
   "codemirror_mode": {
    "name": "ipython",
    "version": 3
   },
   "file_extension": ".py",
   "mimetype": "text/x-python",
   "name": "python",
   "nbconvert_exporter": "python",
   "pygments_lexer": "ipython3",
   "version": "3.10.9"
  }
 },
 "nbformat": 4,
 "nbformat_minor": 5
}

{
 "cells": [
  {
   "cell_type": "markdown",
   "id": "009257eb",
   "metadata": {},
   "source": [
    "# Approach\n",
    "- minimum depth就是root所在层到第一个leaf所在层的层数！leaf的定义是左右孩子都是None！\n",
    "\n",
    "- 本题recursion的写法很容易写成common wrong answer，假如root.left是None而root.right不是None，那么minimum depth永远1！这种写法的错误之处在于没有正确理解leaf的定义！！！\n",
    "\n",
    "# Code"
   ]
  },
  {
   "cell_type": "code",
   "execution_count": null,
   "id": "a06413d2",
   "metadata": {},
   "outputs": [],
   "source": [
    "# Recursion: common wrong answer\n",
    "\n",
    "# Definition for a binary tree node.\n",
    "class TreeNode:\n",
    "    def __init__(self, val=0, left=None, right=None):\n",
    "        self.val = val\n",
    "        self.left = left\n",
    "        self.right = right\n",
    "\n",
    "from typing import Optional\n",
    "\n",
    "class Solution:\n",
    "    def minDepth(self, root: Optional[TreeNode]) -> int:\n",
    "        if root == None:\n",
    "            return 0\n",
    "        \n",
    "        return min(self.minDepth(root.left), self.minDepth(root.right)) + 1"
   ]
  },
  {
   "cell_type": "code",
   "execution_count": null,
   "id": "7dc8a42b",
   "metadata": {},
   "outputs": [],
   "source": [
    "# Recursion\n",
    "# Time: O(n), Space: O(height)\n",
    "\n",
    "# Definition for a binary tree node.\n",
    "class TreeNode:\n",
    "    def __init__(self, val=0, left=None, right=None):\n",
    "        self.val = val\n",
    "        self.left = left\n",
    "        self.right = right\n",
    "\n",
    "from typing import Optional\n",
    "\n",
    "class Solution:\n",
    "    def minDepth(self, root: Optional[TreeNode]) -> int:\n",
    "        if root == None:\n",
    "            return 0\n",
    "        \n",
    "        if root.left != None and root.right != None:\n",
    "            return 1 + min(self.minDepth(root.left), self.minDepth(root.right))\n",
    "        elif root.left == None:\n",
    "            return 1 + self.minDepth(root.right)\n",
    "        elif root.right == None:\n",
    "            return 1 + self.minDepth(root.left)"
   ]
  },
  {
   "cell_type": "code",
   "execution_count": null,
   "id": "1465b885",
   "metadata": {},
   "outputs": [],
   "source": [
    "# Iteration: level order traversal\n",
    "# Time: O(n), Space: O(n)\n",
    "\n",
    "# Definition for a binary tree node.\n",
    "class TreeNode:\n",
    "    def __init__(self, val=0, left=None, right=None):\n",
    "        self.val = val\n",
    "        self.left = left\n",
    "        self.right = right\n",
    "\n",
    "from typing import Optional\n",
    "from collections import deque\n",
    "\n",
    "class Solution:\n",
    "    def minDepth(self, root: Optional[TreeNode]) -> int:\n",
    "        if root == None:\n",
    "            return 0\n",
    "        \n",
    "        queue = deque([root])\n",
    "        minDepth = 0\n",
    "\n",
    "        while len(queue) != 0:\n",
    "            levelSize = len(queue)\n",
    "            minDepth += 1\n",
    "\n",
    "            for _ in range(levelSize):\n",
    "                node = queue.popleft()\n",
    "\n",
    "                # 如果node是leaf，此时的depth就是minimum depth！\n",
    "                if node.left == None and node.right == None:\n",
    "                    return minDepth\n",
    "\n",
    "                if node.left != None:\n",
    "                    queue.append(node.left)\n",
    "                if node.right != None:\n",
    "                    queue.append(node.right)\n",
    "                    \n",
    "                    "
   ]
  }
 ],
 "metadata": {
  "kernelspec": {
   "display_name": "Python 3 (ipykernel)",
   "language": "python",
   "name": "python3"
  },
  "language_info": {
   "codemirror_mode": {
    "name": "ipython",
    "version": 3
   },
   "file_extension": ".py",
   "mimetype": "text/x-python",
   "name": "python",
   "nbconvert_exporter": "python",
   "pygments_lexer": "ipython3",
   "version": "3.10.14"
  }
 },
 "nbformat": 4,
 "nbformat_minor": 5
}

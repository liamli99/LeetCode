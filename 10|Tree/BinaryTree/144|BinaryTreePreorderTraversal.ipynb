{
 "cells": [
  {
   "cell_type": "markdown",
   "id": "009257eb",
   "metadata": {},
   "source": [
    "# Approach\n",
    "- 前序遍历(中左右)先访问中间节点，即从root开始从上往下遍历和处理节点！      \n",
    "\n",
    "# Code"
   ]
  },
  {
   "cell_type": "code",
   "execution_count": null,
   "id": "642b425f",
   "metadata": {},
   "outputs": [],
   "source": [
    "# Recursion\n",
    "# Time: O(n), Space: O(n)\n",
    "from typing import Optional, List\n",
    "class TreeNode:\n",
    "    def __init__(self, val=0, left=None, right=None):\n",
    "        self.val = val\n",
    "        self.left = left\n",
    "        self.right = right\n",
    "class Solution:\n",
    "    def preorderTraversal(self, root: Optional[TreeNode]) -> List[int]:\n",
    "        if root == None:\n",
    "            return []\n",
    "        \n",
    "        left = self.preorderTraversal(root.left)\n",
    "        right = self.preorderTraversal(root.right)\n",
    "        \n",
    "        # 中左右\n",
    "        return [root.val] + left + right"
   ]
  },
  {
   "cell_type": "code",
   "execution_count": null,
   "id": "e281de5d",
   "metadata": {},
   "outputs": [],
   "source": [
    "# Iteration: stack\n",
    "# Time: O(n), Space: O(n)\n",
    "class Solution:\n",
    "    def preorderTraversal(self, root: Optional[TreeNode]) -> List[int]:\n",
    "        if root == None:\n",
    "            return []\n",
    "        \n",
    "        stack = [root]\n",
    "        result = []\n",
    "        \n",
    "        while len(stack) > 0:\n",
    "            node = stack.pop()\n",
    "            result.append(node.val)\n",
    "            \n",
    "            # 先将右节点入栈再将左节点入栈，这样出栈的时候就是先左再右！符合preorder！\n",
    "            if node.right != None:\n",
    "                stack.append(node.right)\n",
    "            if node.left != None:\n",
    "                stack.append(node.left)\n",
    "        \n",
    "        return result"
   ]
  },
  {
   "cell_type": "code",
   "execution_count": null,
   "id": "a72e7a98",
   "metadata": {},
   "outputs": [],
   "source": [
    "# Iteration: stack + pointer，格式统一的写法，了解即可！\n",
    "class Solution:\n",
    "    def preorderTraversal(self, root: Optional[TreeNode]) -> List[int]:\n",
    "        if root == None:\n",
    "            return []\n",
    "        \n",
    "        stack = []\n",
    "        result = []\n",
    "        curr = root\n",
    "        \n",
    "        while curr != None or len(stack) > 0:\n",
    "            while curr != None:\n",
    "                result.append(curr.val)\n",
    "                stack.append(curr)\n",
    "                curr = curr.left\n",
    "            \n",
    "            curr = stack.pop()\n",
    "            curr = curr.right\n",
    "\n",
    "        return result"
   ]
  }
 ],
 "metadata": {
  "kernelspec": {
   "display_name": "Python 3 (ipykernel)",
   "language": "python",
   "name": "python3"
  },
  "language_info": {
   "codemirror_mode": {
    "name": "ipython",
    "version": 3
   },
   "file_extension": ".py",
   "mimetype": "text/x-python",
   "name": "python",
   "nbconvert_exporter": "python",
   "pygments_lexer": "ipython3",
   "version": "3.10.9"
  }
 },
 "nbformat": 4,
 "nbformat_minor": 5
}

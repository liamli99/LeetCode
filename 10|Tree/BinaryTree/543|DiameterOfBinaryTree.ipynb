{
 "cells": [
  {
   "cell_type": "markdown",
   "id": "009257eb",
   "metadata": {},
   "source": [
    "# Approach\n",
    "- 本题要求二叉树的直径，直径的定义是任意两个节点之间最长路径的长度，我们可以遍历每个节点，利用104找到每个节点左子树的高度和右子树的高度，两者之和就是一个可能的最长路径的长度！那么二叉树的直径就是所有两者之和的最大值！\n",
    "\n",
    "- 方法一：自顶向下的递归，类似前序遍历，时间复杂度O(n^2)\n",
    "  - 当root是None时，直径为0；\n",
    "\n",
    "  - 当root不是None时，直径为\n",
    "    - root.left的直径\n",
    "    和\n",
    "    - root.right的直径\n",
    "    和\n",
    "    - root.left的高度和root.right的高度之和\n",
    "    中的最大值 \n",
    "\n",
    "- 方法二：自底向上的递归，类似后序遍历，时间复杂度O(n)\n",
    "  - 与方法一的区别在于`height`函数的定义！\n",
    "\n",
    "# Code"
   ]
  },
  {
   "cell_type": "code",
   "execution_count": null,
   "id": "7d59c94f",
   "metadata": {},
   "outputs": [],
   "source": [
    "# Time: O(n^2), Space: O(n)\n",
    "from typing import Optional\n",
    "class TreeNode:\n",
    "    def __init__(self, val=0, left=None, right=None):\n",
    "        self.val = val\n",
    "        self.left = left\n",
    "        self.right = right\n",
    "class Solution:\n",
    "    def diameterOfBinaryTree(self, root: Optional[TreeNode]) -> int:\n",
    "        if root == None:\n",
    "            return 0\n",
    "        \n",
    "        return max(self.diameterOfBinaryTree(root.left), self.diameterOfBinaryTree(root.right), self.height(root.left) + self.height(root.right))\n",
    "    \n",
    "    # 返回节点的高度\n",
    "    def height(self, node):\n",
    "        if node == None:\n",
    "            return 0\n",
    "        \n",
    "        return max(self.height(node.left), self.height(node.right)) + 1\n",
    "    "
   ]
  },
  {
   "cell_type": "code",
   "execution_count": null,
   "id": "2cda6f4e",
   "metadata": {},
   "outputs": [],
   "source": [
    "# Time: O(n), Space: O(n)\n",
    "class Solution:\n",
    "    def diameterOfBinaryTree(self, root: Optional[TreeNode]) -> int:\n",
    "        result = 0\n",
    "\n",
    "        # 返回节点的高度，并更新直径！\n",
    "        def height(node):\n",
    "            nonlocal result\n",
    "\n",
    "            if node == None:\n",
    "                return 0\n",
    "            \n",
    "            leftHeight = height(node.left)\n",
    "            rightHeight = height(node.right)\n",
    "\n",
    "            result = max(result, leftHeight + rightHeight)\n",
    "\n",
    "            return max(leftHeight, rightHeight) + 1\n",
    "        \n",
    "        height(root)\n",
    "        return result"
   ]
  }
 ],
 "metadata": {
  "kernelspec": {
   "display_name": "Python 3 (ipykernel)",
   "language": "python",
   "name": "python3"
  },
  "language_info": {
   "codemirror_mode": {
    "name": "ipython",
    "version": 3
   },
   "file_extension": ".py",
   "mimetype": "text/x-python",
   "name": "python",
   "nbconvert_exporter": "python",
   "pygments_lexer": "ipython3",
   "version": "3.10.9"
  }
 },
 "nbformat": 4,
 "nbformat_minor": 5
}

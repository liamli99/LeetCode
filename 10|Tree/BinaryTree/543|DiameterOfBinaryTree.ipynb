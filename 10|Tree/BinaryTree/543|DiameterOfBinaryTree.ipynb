{
 "cells": [
  {
   "cell_type": "markdown",
   "id": "009257eb",
   "metadata": {},
   "source": [
    "# Approach\n",
    "本题需要利用104！   \n",
    "\n",
    "注意本题不是257的一系列题目！因为本题的path不是从root到leaf的路径，而是任意两个节点之间的路径！   \n",
    "\n",
    "本题其实就是要遍历每个节点，找到每个节点到其左边叶子的最长路径的边数与到其右边叶子的最长路径的边数之和的最大值！根据104中maximum depth的定义(节点到叶子的最长路径的节点数)，本题其实就是要遍历每个节点，找到每个节点的左孩子的maximum depth与右孩子的maximum depth之和的最大值！该最大值就是所求的diameter！因此我们需要两个递归，一个是104的maxDepth，用来计算节点的maximum depth；另一个是diameterOfBinaryTree，用来找到每个节点的左孩子的maximum depth与右孩子的maximum depth之和的最大值！这样效率很低！   \n",
    "\n",
    "**优化：只需要maxDepth一个递归！因为用maxDepth求节点到叶子的最长路径的节点数时，我们计算得到了leftDepth和rightDepth，而这恰恰就是节点的左孩子的maximum depth与右孩子的maximum depth！我们可以在此时计算并更新节点的左孩子的maximum depth与右孩子的maximum depth之和的最大值！在diameterOfBinaryTree中调用maxDepth并赋予参数root，这样就可以从上到下的遍历所有节点且不断更新最大值，最终结果就是diameter！**\n",
    "\n",
    "\n",
    "# Note\n",
    "注意104中的maxDepth计算的是节点数，本题要求的是边数，因此每个节点的左(右)孩子的maximum depth就等于该节点到其左(右)边叶子的最长路径的边数！！！\n",
    "\n",
    "# Code"
   ]
  },
  {
   "cell_type": "code",
   "execution_count": null,
   "id": "7d59c94f",
   "metadata": {},
   "outputs": [],
   "source": [
    "# recursion\n",
    "class Solution:\n",
    "    def diameterOfBinaryTree(self, root: Optional[TreeNode]) -> int:\n",
    "        if root == None:\n",
    "            return 0\n",
    "        \n",
    "        rootDiameter = self.maxDepth(root.left) + self.maxDepth(root.right)\n",
    "\n",
    "        return max(rootDiameter, self.diameterOfBinaryTree(root.left), self.diameterOfBinaryTree(root.right))\n",
    "    \n",
    "    def maxDepth(self, node):\n",
    "        if node == None:\n",
    "            return 0\n",
    "        leftDepth = self.maxDepth(node.left)\n",
    "        rightDepth = self.maxDepth(node.right)\n",
    "        depth = 1 + max(leftDepth, rightDepth)\n",
    "        return depth"
   ]
  },
  {
   "cell_type": "code",
   "execution_count": null,
   "id": "2cda6f4e",
   "metadata": {},
   "outputs": [],
   "source": [
    "# recursion，优化！\n",
    "class Solution:\n",
    "    result = 0\n",
    "    def diameterOfBinaryTree(self, root: Optional[TreeNode]) -> int:\n",
    "        self.maxDepth(root)\n",
    "        return self.result\n",
    "\n",
    "    def maxDepth(self, node):\n",
    "        if node == None:\n",
    "            return 0\n",
    "        leftDepth = self.maxDepth(node.left)\n",
    "        rightDepth = self.maxDepth(node.right)\n",
    "        \n",
    "        # 计算并更新diameter！\n",
    "        self.result = max(self.result, leftDepth + rightDepth)\n",
    "        \n",
    "        depth = 1 + max(leftDepth, rightDepth)\n",
    "        return depth"
   ]
  }
 ],
 "metadata": {
  "kernelspec": {
   "display_name": "Python 3 (ipykernel)",
   "language": "python",
   "name": "python3"
  },
  "language_info": {
   "codemirror_mode": {
    "name": "ipython",
    "version": 3
   },
   "file_extension": ".py",
   "mimetype": "text/x-python",
   "name": "python",
   "nbconvert_exporter": "python",
   "pygments_lexer": "ipython3",
   "version": "3.10.9"
  }
 },
 "nbformat": 4,
 "nbformat_minor": 5
}

{
 "cells": [
  {
   "cell_type": "markdown",
   "id": "009257eb",
   "metadata": {},
   "source": [
    "# Approach\n",
    "本题和105，106非常类似！都是构造二叉树的题目！   \n",
    "\n",
    "nums数组中最大的元素就是整个树的root！该元素把nums数组分成左右两部分，左边部分就是root的左子树，右边部分就是root的右子树！   \n",
    "\n",
    "\n",
    "# Note\n",
    "\n",
    "\n",
    "# Code"
   ]
  },
  {
   "cell_type": "code",
   "execution_count": null,
   "id": "69b4b5a4",
   "metadata": {},
   "outputs": [],
   "source": [
    "# recursion\n",
    "class Solution:\n",
    "    def constructMaximumBinaryTree(self, nums: List[int]) -> Optional[TreeNode]:\n",
    "        if not nums:\n",
    "            return None\n",
    "        \n",
    "        root = TreeNode(max(nums))\n",
    "        idx = nums.index(root.val)\n",
    "\n",
    "        root.left = self.constructMaximumBinaryTree(nums[0 : idx])\n",
    "        root.right = self.constructMaximumBinaryTree(nums[idx + 1 : ])\n",
    "\n",
    "        return root"
   ]
  }
 ],
 "metadata": {
  "kernelspec": {
   "display_name": "Python 3 (ipykernel)",
   "language": "python",
   "name": "python3"
  },
  "language_info": {
   "codemirror_mode": {
    "name": "ipython",
    "version": 3
   },
   "file_extension": ".py",
   "mimetype": "text/x-python",
   "name": "python",
   "nbconvert_exporter": "python",
   "pygments_lexer": "ipython3",
   "version": "3.10.9"
  }
 },
 "nbformat": 4,
 "nbformat_minor": 5
}

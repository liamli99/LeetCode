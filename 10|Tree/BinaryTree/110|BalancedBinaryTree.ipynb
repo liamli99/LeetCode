{
 "cells": [
  {
   "cell_type": "markdown",
   "id": "009257eb",
   "metadata": {},
   "source": [
    "# Approach\n",
    "利用104来求解！   \n",
    "\n",
    "当root不是None时，如果：1.root的左子树的depth和root的右子树的depth的差不超过1 且 2.root的左子树是balanced 且 3.root的右子树是balanced，那么该树是balanced！   \n",
    "\n",
    "本题和104的关系有点像572和100的关系！尤其是在判断时本题和572都需要用到一个104(100)的函数和两个自身函数！   \n",
    "\n",
    "本质上本题和101，100，572一样都需要判断三种情况！       \n",
    "\n",
    "\n",
    "# Code"
   ]
  },
  {
   "cell_type": "code",
   "execution_count": null,
   "id": "642b425f",
   "metadata": {},
   "outputs": [],
   "source": [
    "# recursion\n",
    "class Solution:\n",
    "    def isBalanced(self, root: Optional[TreeNode]) -> bool:\n",
    "        # 由于需要使用root.left/right，必须先把None的情况讨论掉！\n",
    "        if root == None:\n",
    "            return True\n",
    "        \n",
    "        return abs(self.maxDepth(root.left) - self.maxDepth(root.right)) <= 1 and self.isBalanced(root.left) and self.isBalanced(root.right)\n",
    "        \n",
    "    def maxDepth(self, root: Optional[TreeNode]) -> int:\n",
    "        if root == None:\n",
    "            return 0\n",
    "        \n",
    "        leftDepth = self.maxDepth(root.left)\n",
    "        rightDepth = self.maxDepth(root.right)\n",
    "        depth = 1 + max(leftDepth, rightDepth)\n",
    "        \n",
    "        return depth"
   ]
  }
 ],
 "metadata": {
  "kernelspec": {
   "display_name": "Python 3 (ipykernel)",
   "language": "python",
   "name": "python3"
  },
  "language_info": {
   "codemirror_mode": {
    "name": "ipython",
    "version": 3
   },
   "file_extension": ".py",
   "mimetype": "text/x-python",
   "name": "python",
   "nbconvert_exporter": "python",
   "pygments_lexer": "ipython3",
   "version": "3.10.9"
  }
 },
 "nbformat": 4,
 "nbformat_minor": 5
}

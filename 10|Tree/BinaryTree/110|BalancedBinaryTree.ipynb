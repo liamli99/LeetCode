{
 "cells": [
  {
   "cell_type": "markdown",
   "id": "009257eb",
   "metadata": {},
   "source": [
    "# Approach\n",
    "- 平衡树的定义是对于每个节点，左右子树的高度差不超过1，而树的高度可以利用104！\n",
    "\n",
    "- 方法一：自顶向下的递归，类似前序遍历，时间复杂度O(n^2)\n",
    "  - 当root是None时，该树是平衡树；\n",
    "\n",
    "  - 当root不是None时，只有当\n",
    "    - root.left是平衡树\n",
    "    并且\n",
    "    - root.right是平衡树\n",
    "    并且\n",
    "    - root.left的高度和root.right的高度差不超过1\n",
    "    时，该树才是平衡树！    \n",
    "\n",
    "- 方法二：自底向上的递归，类似后序遍历，时间复杂度O(n)\n",
    "  - 与方法一的区别在于`height`函数的定义！\n",
    "\n",
    "# Code"
   ]
  },
  {
   "cell_type": "code",
   "execution_count": null,
   "id": "642b425f",
   "metadata": {},
   "outputs": [],
   "source": [
    "# Time: O(n^2), Space: O(n)\n",
    "from typing import Optional\n",
    "class TreeNode:\n",
    "    def __init__(self, val=0, left=None, right=None):\n",
    "        self.val = val\n",
    "        self.left = left\n",
    "        self.right = right\n",
    "class Solution:\n",
    "    def isBalanced(self, root: Optional[TreeNode]) -> bool:\n",
    "        if root == None:\n",
    "            return True\n",
    "        \n",
    "        return abs(self.height(root.left) - self.height(root.right)) <= 1 and self.isBalanced(root.left) and self.isBalanced(root.right)\n",
    "    \n",
    "    # 返回节点的高度\n",
    "    def height(self, node):\n",
    "        if node == None:\n",
    "            return 0\n",
    "        \n",
    "        return max(self.height(node.left) + self.height(node.right)) + 1"
   ]
  },
  {
   "cell_type": "code",
   "execution_count": null,
   "id": "d5ee9f37",
   "metadata": {},
   "outputs": [],
   "source": [
    "# Time: O(n), Space: O(n)\n",
    "class Solution:\n",
    "    def isBalanced(self, root: Optional[TreeNode]) -> bool:\n",
    "        return self.height(root) != -1\n",
    "    \n",
    "    # 如果是平衡树，就返回节点的高度；反之，返回-1\n",
    "    def height(self, node):\n",
    "        if node == None:\n",
    "            return 0\n",
    "        \n",
    "        leftHeight = self.height(node.left)\n",
    "        rightHeight = self.height(node.right)\n",
    "\n",
    "        if leftHeight == -1 or rightHeight == -1 or abs(leftHeight - rightHeight) > 1:\n",
    "            return -1\n",
    "        else:\n",
    "            return max(leftHeight, rightHeight) + 1\n",
    "        "
   ]
  }
 ],
 "metadata": {
  "kernelspec": {
   "display_name": "Python 3 (ipykernel)",
   "language": "python",
   "name": "python3"
  },
  "language_info": {
   "codemirror_mode": {
    "name": "ipython",
    "version": 3
   },
   "file_extension": ".py",
   "mimetype": "text/x-python",
   "name": "python",
   "nbconvert_exporter": "python",
   "pygments_lexer": "ipython3",
   "version": "3.10.9"
  }
 },
 "nbformat": 4,
 "nbformat_minor": 5
}

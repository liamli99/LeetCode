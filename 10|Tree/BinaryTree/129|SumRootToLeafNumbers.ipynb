{
 "cells": [
  {
   "cell_type": "markdown",
   "id": "009257eb",
   "metadata": {},
   "source": [
    "# Approach\n",
    "类同257，本质上都是寻找从根节点到叶子的路径！   \n",
    "\n",
    "# Note     \n",
    "\n",
    "\n",
    "# Code"
   ]
  },
  {
   "cell_type": "code",
   "execution_count": null,
   "id": "8a93d0a8",
   "metadata": {},
   "outputs": [],
   "source": [
    "# preorder, recursion\n",
    "# 方法一：path是list！\n",
    "class Solution:\n",
    "    # 和257不同，此时的result是integer，因此是immutable！如果作为traversal的parameter的话，其值不会发生改变！\n",
    "    result = 0\n",
    "    def sumNumbers(self, root: Optional[TreeNode]) -> int:\n",
    "        if root == None:\n",
    "            return []\n",
    "        \n",
    "        path = []\n",
    "        self.traversal(root, path)\n",
    "        return self.result\n",
    "    \n",
    "    def traversal(self, node, path):\n",
    "        path.append(node.val)\n",
    "        \n",
    "        if node.left == None and node.right == None:  \n",
    "            num = int(\"\".join(map(str, path)))\n",
    "            self.result += num\n",
    "            return\n",
    "        \n",
    "        if node.left != None:\n",
    "            self.traversal(node.left, path)\n",
    "            # 回溯，由于path是list，list是mutable，因此path在递归中会发生改变！我们要将加进path的node.left.val移除！\n",
    "            path.pop()\n",
    "        \n",
    "        if node.right != None:\n",
    "            self.traversal(node.right, path)\n",
    "            path.pop()"
   ]
  },
  {
   "cell_type": "code",
   "execution_count": null,
   "id": "e281de5d",
   "metadata": {},
   "outputs": [],
   "source": [
    "# preorder, recursion\n",
    "# 方法二：path是string！\n",
    "class Solution:\n",
    "    result = 0\n",
    "    def sumNumbers(self, root: Optional[TreeNode]) -> int:\n",
    "        if root == None:\n",
    "            return 0\n",
    "        \n",
    "        path = \"\"\n",
    "        self.traversal(root, path)\n",
    "        return self.result\n",
    "\n",
    "    def traversal(self, node, path):\n",
    "        # 中\n",
    "        path += str(node.val)\n",
    "        \n",
    "        if node.left == None and node.right == None:  \n",
    "            self.result += int(path)\n",
    "            return\n",
    "        \n",
    "        # 左\n",
    "        if node.left != None:\n",
    "            self.traversal(node.left, path)\n",
    "            # 不需要回溯！由于path是string，string是immutable，因此path在递归中不会发生改变！   \n",
    "            # 257中path是string时也需要回溯是因为递归前添加了\"->\"！\n",
    "\n",
    "        # 右\n",
    "        if node.right != None:\n",
    "            self.traversal(node.right, path)"
   ]
  },
  {
   "cell_type": "code",
   "execution_count": null,
   "id": "e6bd9d65",
   "metadata": {},
   "outputs": [],
   "source": [
    "# preorder, iteration\n",
    "class Solution:\n",
    "    def sumNumbers(self, root: Optional[TreeNode]) -> int:\n",
    "        if root == None:\n",
    "            return []\n",
    "        \n",
    "        stack = [root]\n",
    "        path_lst = [str(root.val)]\n",
    "        result = 0\n",
    "\n",
    "        while len(stack) != 0:\n",
    "            node = stack.pop()\n",
    "            path = path_lst.pop()\n",
    "            \n",
    "            if node.left == None and node.right == None:\n",
    "                result += int(path)\n",
    "            \n",
    "            if node.right != None:\n",
    "                stack.append(node.right)\n",
    "                path_lst.append(path + str(node.right.val))\n",
    "            if node.left != None:\n",
    "                stack.append(node.left)\n",
    "                path_lst.append(path + str(node.left.val))\n",
    "        \n",
    "        return result"
   ]
  }
 ],
 "metadata": {
  "kernelspec": {
   "display_name": "Python 3 (ipykernel)",
   "language": "python",
   "name": "python3"
  },
  "language_info": {
   "codemirror_mode": {
    "name": "ipython",
    "version": 3
   },
   "file_extension": ".py",
   "mimetype": "text/x-python",
   "name": "python",
   "nbconvert_exporter": "python",
   "pygments_lexer": "ipython3",
   "version": "3.10.9"
  }
 },
 "nbformat": 4,
 "nbformat_minor": 5
}

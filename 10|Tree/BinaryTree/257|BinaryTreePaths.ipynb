{
 "cells": [
  {
   "cell_type": "markdown",
   "id": "009257eb",
   "metadata": {},
   "source": [
    "# Approach\n",
    "- 本题是二叉树回溯问题的模版题，寻找从根节点到叶子节点的所有路径！\n",
    "\n",
    "# Code"
   ]
  },
  {
   "cell_type": "code",
   "execution_count": null,
   "id": "8a93d0a8",
   "metadata": {},
   "outputs": [],
   "source": [
    "# Time: O(n^2), Space: O(n)\n",
    "from typing import Optional, List\n",
    "class TreeNode:\n",
    "    def __init__(self, val=0, left=None, right=None):\n",
    "        self.val = val\n",
    "        self.left = left\n",
    "        self.right = right\n",
    "\n",
    "class Solution:\n",
    "    def binaryTreePaths(self, root: Optional[TreeNode]) -> List[str]:\n",
    "        # 存储从root到当前node的路径！\n",
    "        path = []\n",
    "        # 存储所有从root到leaf的路径！\n",
    "        result = []\n",
    "    \n",
    "        def backtrack(node):\n",
    "            if node == None:\n",
    "                return\n",
    "            \n",
    "            path.append(str(node.val))\n",
    "\n",
    "            # 此时node是叶子节点，因此path就是一组答案！\n",
    "            if node.left == None and node.right == None:\n",
    "                result.append('->'.join(path))\n",
    "            else:\n",
    "                backtrack(node.left)\n",
    "                backtrack(node.right)\n",
    "            \n",
    "            # 回溯\n",
    "            path.pop()\n",
    "        \n",
    "        backtrack(root)\n",
    "        return result\n",
    "        \n"
   ]
  }
 ],
 "metadata": {
  "kernelspec": {
   "display_name": "base",
   "language": "python",
   "name": "python3"
  },
  "language_info": {
   "codemirror_mode": {
    "name": "ipython",
    "version": 3
   },
   "file_extension": ".py",
   "mimetype": "text/x-python",
   "name": "python",
   "nbconvert_exporter": "python",
   "pygments_lexer": "ipython3",
   "version": "3.10.14"
  }
 },
 "nbformat": 4,
 "nbformat_minor": 5
}

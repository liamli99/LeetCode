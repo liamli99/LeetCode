{
 "cells": [
  {
   "cell_type": "markdown",
   "id": "009257eb",
   "metadata": {},
   "source": [
    "# Approach\n",
    "基本类同106！preorder(前序遍历，中左右)数组的第一个元素就是整个树的root！该元素把inorder(中序遍历，左中右)数组分成左右两部分，左边部分就是root的左子树，右边部分就是root的右子树！\n",
    "\n",
    "\n",
    "# Note\n",
    "\n",
    "\n",
    "# Code"
   ]
  },
  {
   "cell_type": "code",
   "execution_count": null,
   "id": "642b425f",
   "metadata": {},
   "outputs": [],
   "source": [
    "# recursion\n",
    "class Solution:\n",
    "    def buildTree(self, preorder: List[int], inorder: List[int]) -> Optional[TreeNode]:\n",
    "        if not inorder:\n",
    "            return None\n",
    "        \n",
    "        root = TreeNode(preorder.pop(0))\n",
    "        idx = inorder.index(root.val)\n",
    "        \n",
    "        # left必须在right前面！因为调用递归会不断取出preorder数组的第一个元素，而该元素就是左子树的root！因此必须先处理root.left！\n",
    "        root.left = self.buildTree(preorder, inorder[0 : idx])\n",
    "        root.right = self.buildTree(preorder, inorder[idx + 1 : ])\n",
    "\n",
    "        return root"
   ]
  },
  {
   "cell_type": "code",
   "execution_count": null,
   "id": "e0000569",
   "metadata": {},
   "outputs": [],
   "source": [
    "# 另一种写法\n",
    "class Solution:\n",
    "    def buildTree(self, preorder: List[int], inorder: List[int]) -> Optional[TreeNode]:\n",
    "        if not inorder:\n",
    "            return None\n",
    "        \n",
    "        # 没有pop！\n",
    "        root = TreeNode(preorder[0])\n",
    "        idx = inorder.index(root.val)\n",
    "        \n",
    "        # 顺序无所谓！不仅将inorder分成左右两部分，也将preorder分成对应的左右两部分！\n",
    "        root.left = self.buildTree(preorder[1 : idx + 1], inorder[0 : idx])\n",
    "        root.right = self.buildTree(preorder[idx + 1 :], inorder[idx + 1 :])\n",
    "\n",
    "        return root"
   ]
  }
 ],
 "metadata": {
  "kernelspec": {
   "display_name": "Python 3 (ipykernel)",
   "language": "python",
   "name": "python3"
  },
  "language_info": {
   "codemirror_mode": {
    "name": "ipython",
    "version": 3
   },
   "file_extension": ".py",
   "mimetype": "text/x-python",
   "name": "python",
   "nbconvert_exporter": "python",
   "pygments_lexer": "ipython3",
   "version": "3.10.9"
  }
 },
 "nbformat": 4,
 "nbformat_minor": 5
}

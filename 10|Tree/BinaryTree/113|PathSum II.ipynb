{
 "cells": [
  {
   "cell_type": "markdown",
   "id": "009257eb",
   "metadata": {},
   "source": [
    "# Approach\n",
    "- 基本类同257，不过不是找所有路径，而是满足条件的路径！\n",
    "\n",
    "# Code"
   ]
  },
  {
   "cell_type": "code",
   "execution_count": null,
   "id": "7d59c94f",
   "metadata": {},
   "outputs": [],
   "source": [
    "# Time: O(n^2), Space: O(n)\n",
    "from typing import Optional, List\n",
    "class TreeNode:\n",
    "    def __init__(self, val=0, left=None, right=None):\n",
    "        self.val = val\n",
    "        self.left = left\n",
    "        self.right = right\n",
    "\n",
    "class Solution:\n",
    "    def pathSum(self, root: Optional[TreeNode], targetSum: int) -> List[List[int]]:\n",
    "        path = []\n",
    "        result = []\n",
    "\n",
    "        def backtrack(node):\n",
    "            if node == None:\n",
    "                return \n",
    "            \n",
    "            path.append(node.val)\n",
    "\n",
    "            if node.left == None and node.right == None:\n",
    "                if sum(path) == targetSum:\n",
    "                    result.append(path[:])\n",
    "            else:\n",
    "                backtrack(node.left)\n",
    "                backtrack(node.right)\n",
    "            \n",
    "            path.pop()\n",
    "        \n",
    "        backtrack(root)\n",
    "        return result\n",
    "    "
   ]
  },
  {
   "cell_type": "code",
   "execution_count": null,
   "id": "b7f73596",
   "metadata": {},
   "outputs": [],
   "source": [
    "# 优化：不用sum函数！\n",
    "class Solution:\n",
    "    def pathSum(self, root: Optional[TreeNode], targetSum: int) -> List[List[int]]:\n",
    "        path = []\n",
    "        result = []\n",
    "\n",
    "        def backtrack(node, currSum):\n",
    "            if node == None:\n",
    "                return \n",
    "            \n",
    "            path.append(node.val)\n",
    "            currSum += node.val\n",
    "\n",
    "            if node.left == None and node.right == None:\n",
    "                if currSum == targetSum:\n",
    "                    result.append(path[:])\n",
    "            else:\n",
    "                backtrack(node.left, currSum)\n",
    "                backtrack(node.right, currSum)\n",
    "            \n",
    "            path.pop()\n",
    "            currSum -= node.val\n",
    "        \n",
    "        backtrack(root, 0)\n",
    "        return result\n",
    "    "
   ]
  }
 ],
 "metadata": {
  "kernelspec": {
   "display_name": "Python 3 (ipykernel)",
   "language": "python",
   "name": "python3"
  },
  "language_info": {
   "codemirror_mode": {
    "name": "ipython",
    "version": 3
   },
   "file_extension": ".py",
   "mimetype": "text/x-python",
   "name": "python",
   "nbconvert_exporter": "python",
   "pygments_lexer": "ipython3",
   "version": "3.10.9"
  }
 },
 "nbformat": 4,
 "nbformat_minor": 5
}

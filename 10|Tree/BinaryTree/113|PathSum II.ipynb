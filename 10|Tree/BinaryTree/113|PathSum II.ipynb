{
 "cells": [
  {
   "cell_type": "markdown",
   "id": "009257eb",
   "metadata": {},
   "source": [
    "# Approach\n",
    "类同112和257！112只需要判断是否存在和为targetSum的从root到leaf的路径，本题需要把这些路径都找出来！因此本题其实更像257，只需要在判断条件中添加\"sum(path)==targetSum\"！   \n",
    "\n",
    "# Note\n",
    "\n",
    "# Code"
   ]
  },
  {
   "cell_type": "code",
   "execution_count": null,
   "id": "7d59c94f",
   "metadata": {},
   "outputs": [],
   "source": [
    "# preorder, recursion\n",
    "class Solution:\n",
    "    def pathSum(self, root: Optional[TreeNode], targetSum: int) -> List[List[int]]:\n",
    "        if root == None:\n",
    "            return []\n",
    "        \n",
    "        path = []\n",
    "        result = []\n",
    "        self.traversal(root, targetSum, path, result)\n",
    "        return result\n",
    "    \n",
    "    def traversal(self, node, targetSum, path, result):\n",
    "        # 中\n",
    "        path.append(node.val)\n",
    "        \n",
    "        if node.left == None and node.right == None and sum(path) == targetSum: \n",
    "            # 257中添加进result的是string，所以可以直接添加！但是这里添加进result的是list，想要添加整个list必须要path[:]！\n",
    "            result.append(path[:])\n",
    "            return\n",
    "        \n",
    "        # 左\n",
    "        if node.left != None:\n",
    "            self.traversal(node.left, targetSum, path, result)\n",
    "            path.pop()\n",
    "        \n",
    "        # 右\n",
    "        if node.right != None:\n",
    "            self.traversal(node.right, targetSum, path, result)\n",
    "            path.pop()"
   ]
  },
  {
   "cell_type": "code",
   "execution_count": null,
   "id": "2cda6f4e",
   "metadata": {},
   "outputs": [],
   "source": [
    "# preorder, iteration\n",
    "class Solution:\n",
    "    def pathSum(self, root: Optional[TreeNode], targetSum: int) -> List[List[int]]:\n",
    "        if root == None:\n",
    "            return []\n",
    "        \n",
    "        stack = [root]\n",
    "        path_lst = [[root.val]]\n",
    "        result = []\n",
    "\n",
    "        while len(stack) != 0:\n",
    "            node = stack.pop()\n",
    "            path = path_lst.pop()\n",
    "            \n",
    "            if node.left == None and node.right == None and sum(path) == targetSum:\n",
    "                result.append(path[:])\n",
    "            \n",
    "            if node.right != None:\n",
    "                stack.append(node.right)\n",
    "                path_lst.append(path + [node.right.val])\n",
    "            if node.left != None:\n",
    "                stack.append(node.left)\n",
    "                path_lst.append(path + [node.left.val])\n",
    "        \n",
    "        return result"
   ]
  }
 ],
 "metadata": {
  "kernelspec": {
   "display_name": "Python 3 (ipykernel)",
   "language": "python",
   "name": "python3"
  },
  "language_info": {
   "codemirror_mode": {
    "name": "ipython",
    "version": 3
   },
   "file_extension": ".py",
   "mimetype": "text/x-python",
   "name": "python",
   "nbconvert_exporter": "python",
   "pygments_lexer": "ipython3",
   "version": "3.10.9"
  }
 },
 "nbformat": 4,
 "nbformat_minor": 5
}

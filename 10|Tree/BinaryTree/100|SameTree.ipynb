{
 "cells": [
  {
   "cell_type": "markdown",
   "id": "009257eb",
   "metadata": {},
   "source": [
    "# Approach\n",
    "- 当p，q都是None时，两个空树是相同的树；\n",
    "- 当p，q一个是None，一个不是None时，不是相同的树；\n",
    "- 当p，q都不是None时，只有当\n",
    "  - p.val与q.val相等\n",
    "  并且\n",
    "  - p.left与q.left是相同的树\n",
    "  并且\n",
    "  - p.right与q.right是相同的树\n",
    "  时，p与q才是相同的树！\n",
    "\n",
    "# Code"
   ]
  },
  {
   "cell_type": "code",
   "execution_count": null,
   "id": "642b425f",
   "metadata": {},
   "outputs": [],
   "source": [
    "# Recursion\n",
    "# Time: O(min(m, n)), Space: O(min(m, n))\n",
    "from typing import Optional\n",
    "class TreeNode:\n",
    "    def __init__(self, val=0, left=None, right=None):\n",
    "        self.val = val\n",
    "        self.left = left\n",
    "        self.right = right\n",
    "class Solution:\n",
    "    def isSameTree(self, p: Optional[TreeNode], q: Optional[TreeNode]) -> bool:\n",
    "        # 都是None\n",
    "        if p == None and q == None:\n",
    "            return True\n",
    "        \n",
    "        # 一个是None，一个不是None\n",
    "        elif p == None or q == None:\n",
    "            return False\n",
    "        \n",
    "        # 都不是None\n",
    "        else:\n",
    "            return p.val == q.val and self.isSameTree(p.left, q.left) and self.isSameTree(p.right, q.right)\n"
   ]
  },
  {
   "cell_type": "code",
   "execution_count": null,
   "id": "e281de5d",
   "metadata": {},
   "outputs": [],
   "source": [
    "# Iteration\n",
    "# Time: O(min(m, n)), Space: O(min(m, n))\n",
    "class Solution:\n",
    "    def isSameTree(self, p: Optional[TreeNode], q: Optional[TreeNode]) -> bool:   \n",
    "        stack = [p, q]\n",
    "\n",
    "        while len(stack) > 0:\n",
    "            qNode = stack.pop()\n",
    "            pNode = stack.pop()\n",
    "            \n",
    "            if pNode == None and qNode == None:\n",
    "                continue\n",
    "            elif pNode == None or qNode == None:\n",
    "                return False\n",
    "            else:\n",
    "                if pNode.val != qNode.val:\n",
    "                    return False\n",
    "                else:\n",
    "                    stack.append(pNode.right)\n",
    "                    stack.append(qNode.right)\n",
    "                    stack.append(pNode.left)\n",
    "                    stack.append(qNode.left)\n",
    "        \n",
    "        return True\n",
    "    "
   ]
  }
 ],
 "metadata": {
  "kernelspec": {
   "display_name": "base",
   "language": "python",
   "name": "python3"
  },
  "language_info": {
   "codemirror_mode": {
    "name": "ipython",
    "version": 3
   },
   "file_extension": ".py",
   "mimetype": "text/x-python",
   "name": "python",
   "nbconvert_exporter": "python",
   "pygments_lexer": "ipython3",
   "version": "3.10.14"
  }
 },
 "nbformat": 4,
 "nbformat_minor": 5
}

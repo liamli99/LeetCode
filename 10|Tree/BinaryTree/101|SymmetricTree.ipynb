{
 "cells": [
  {
   "cell_type": "markdown",
   "id": "009257eb",
   "metadata": {},
   "source": [
    "# Approach\n",
    "- 本题要判断一个树是否对称，其实就是要判断根节点的左右子树是否镜像对称！\n",
    "     \n",
    "- 可以参考100，假设p和q是根节点的左右子树：\n",
    "  - 当p，q都是None时，两个空树是镜像对称；\n",
    "  - 当p，q一个是None，一个不是None时，不是镜像对称；\n",
    "  - 当p，q都不是None时，只有当\n",
    "    - p.val与q.val相等\n",
    "    并且\n",
    "    - **p.left与q.right**镜像对称\n",
    "    并且\n",
    "    - **p.right与q.left**镜像对称\n",
    "    时，p与q才镜像对称！\n",
    "\n",
    "# Code"
   ]
  },
  {
   "cell_type": "code",
   "execution_count": null,
   "id": "642b425f",
   "metadata": {},
   "outputs": [],
   "source": [
    "# Recursion\n",
    "# Time: O(n), Space: O(n)\n",
    "from typing import Optional\n",
    "class TreeNode:\n",
    "    def __init__(self, val=0, left=None, right=None):\n",
    "        self.val = val\n",
    "        self.left = left\n",
    "        self.right = right\n",
    "class Solution:\n",
    "    def isSymmetric(self, root: Optional[TreeNode]) -> bool:\n",
    "        if root == None:\n",
    "            return True\n",
    "        return self.isSymmetricTree(root.left, root.right)\n",
    "    \n",
    "    # 比较根节点的左右子树是否镜像对称\n",
    "    def isSymmetricTree(self, p, q):\n",
    "        if p == None and q == None:\n",
    "           return True\n",
    "        elif p == None or q == None:\n",
    "            return False\n",
    "        else:\n",
    "            return p.val == q.val and self.isSymmetricTree(p.left, q.right) and self.isSymmetricTree(p.right, q.left)"
   ]
  },
  {
   "cell_type": "code",
   "execution_count": null,
   "id": "e281de5d",
   "metadata": {},
   "outputs": [],
   "source": [
    "# Iteration\n",
    "# Time: O(n), Space: O(n)\n",
    "class Solution:\n",
    "    def isSymmetric(self, root: Optional[TreeNode]) -> bool:\n",
    "        if root == None:\n",
    "            return True\n",
    "        \n",
    "        stack = [root.left, root.right] \n",
    "\n",
    "        while len(stack) > 0:\n",
    "            rightNode = stack.pop()\n",
    "            leftNode = stack.pop()\n",
    "            \n",
    "            if leftNode == None and rightNode == None:\n",
    "                continue\n",
    "            elif leftNode == None or rightNode == None:\n",
    "                return False\n",
    "            else: \n",
    "                if leftNode.val != rightNode.val:\n",
    "                    return False\n",
    "                else:\n",
    "                    stack.append(leftNode.left)\n",
    "                    stack.append(rightNode.right)\n",
    "                    stack.append(leftNode.right)\n",
    "                    stack.append(rightNode.left)\n",
    "        \n",
    "        return True\n",
    "    "
   ]
  }
 ],
 "metadata": {
  "kernelspec": {
   "display_name": "Python 3 (ipykernel)",
   "language": "python",
   "name": "python3"
  },
  "language_info": {
   "codemirror_mode": {
    "name": "ipython",
    "version": 3
   },
   "file_extension": ".py",
   "mimetype": "text/x-python",
   "name": "python",
   "nbconvert_exporter": "python",
   "pygments_lexer": "ipython3",
   "version": "3.10.9"
  }
 },
 "nbformat": 4,
 "nbformat_minor": 5
}

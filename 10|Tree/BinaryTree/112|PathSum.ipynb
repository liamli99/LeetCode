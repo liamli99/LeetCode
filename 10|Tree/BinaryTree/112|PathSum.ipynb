{
 "cells": [
  {
   "cell_type": "markdown",
   "id": "009257eb",
   "metadata": {},
   "source": [
    "# Approach\n",
    "- 类同257和113，不过不是求所有满足条件路径，而是查看是否存在满足条件的路径！\n",
    "\n",
    "- 除了用回溯的方法，也可以用简单直接的递归来做！\n",
    "\n",
    "# Code"
   ]
  },
  {
   "cell_type": "code",
   "execution_count": null,
   "id": "7d59c94f",
   "metadata": {},
   "outputs": [],
   "source": [
    "# 方法一\n",
    "# Time: O(n^2), Space: O(n)\n",
    "from typing import Optional\n",
    "class TreeNode:\n",
    "    def __init__(self, val=0, left=None, right=None):\n",
    "        self.val = val\n",
    "        self.left = left\n",
    "        self.right = right\n",
    "\n",
    "class Solution:\n",
    "    def hasPathSum(self, root: Optional[TreeNode], targetSum: int) -> bool:\n",
    "        result = False\n",
    "        # 可以不需要path！\n",
    "\n",
    "        def backtrack(node, currSum):\n",
    "            nonlocal result\n",
    "\n",
    "            if node == None:\n",
    "                return\n",
    "            \n",
    "            currSum += node.val\n",
    "\n",
    "            if node.left == None and node.right == None:\n",
    "                if currSum == targetSum:\n",
    "                    result = True\n",
    "            else:\n",
    "                backtrack(node.left, currSum)\n",
    "                backtrack(node.right, currSum)\n",
    "            \n",
    "            currSum -= node.val\n",
    "        \n",
    "        backtrack(root, 0)\n",
    "        return result\n",
    "    "
   ]
  },
  {
   "cell_type": "code",
   "execution_count": null,
   "id": "8fac100a",
   "metadata": {},
   "outputs": [],
   "source": [
    "# 方法二\n",
    "# Time: O(n), Space: O(n)\n",
    "class Solution:\n",
    "    def hasPathSum(self, root: Optional[TreeNode], targetSum: int) -> bool:\n",
    "        if root == None:\n",
    "            return False\n",
    "        elif root.left == None and root.right == None:\n",
    "            return root.val == targetSum\n",
    "        else:\n",
    "            return self.hasPathSum(root.left, targetSum - root.val) or self.hasPathSum(root.right, targetSum - root.val)\n",
    "        "
   ]
  }
 ],
 "metadata": {
  "kernelspec": {
   "display_name": "Python 3 (ipykernel)",
   "language": "python",
   "name": "python3"
  },
  "language_info": {
   "codemirror_mode": {
    "name": "ipython",
    "version": 3
   },
   "file_extension": ".py",
   "mimetype": "text/x-python",
   "name": "python",
   "nbconvert_exporter": "python",
   "pygments_lexer": "ipython3",
   "version": "3.10.9"
  }
 },
 "nbformat": 4,
 "nbformat_minor": 5
}

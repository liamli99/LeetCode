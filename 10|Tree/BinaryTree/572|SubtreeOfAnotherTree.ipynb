{
 "cells": [
  {
   "cell_type": "markdown",
   "id": "009257eb",
   "metadata": {},
   "source": [
    "# Approach\n",
    "- 当root和subRoot都是None时，subRoot是root的子树；\n",
    "- 当root是None，subRoot不是None时，subRoot不是root的子树；\n",
    "- 当root不是None，subRoot是None时，subRoot是root的子树；\n",
    "- 当root和subRoot都不是None时，只有当\n",
    "  - root和subRoot是相同的树\n",
    "  或者\n",
    "  - subRoot是root.left的子树\n",
    "  或者\n",
    "  - subRoot是否是root.right的子树\n",
    "  时，subRoot才是root的子树！\n",
    "\n",
    "# Code"
   ]
  },
  {
   "cell_type": "code",
   "execution_count": null,
   "id": "642b425f",
   "metadata": {},
   "outputs": [],
   "source": [
    "# Recursion\n",
    "# Time: O(m * n), Space: O(max(m, n))\n",
    "from typing import Optional\n",
    "class TreeNode:\n",
    "    def __init__(self, val=0, left=None, right=None):\n",
    "        self.val = val\n",
    "        self.left = left\n",
    "        self.right = right\n",
    "class Solution:\n",
    "    def isSubtree(self, root: Optional[TreeNode], subRoot: Optional[TreeNode]) -> bool:\n",
    "        if root == None and subRoot == None:\n",
    "            return True\n",
    "        elif root == None and subRoot != None:\n",
    "            return False\n",
    "        elif root != None and subRoot == None:\n",
    "            return True\n",
    "        else:\n",
    "            return self.isSameTree(root, subRoot) or self.isSubtree(root.left, subRoot) or self.isSubtree(root.right, subRoot)\n",
    "    \n",
    "    def isSameTree(self, p, q):\n",
    "        if p == None and q == None:\n",
    "            return True\n",
    "        elif p == None or q == None:\n",
    "            return False\n",
    "        else: \n",
    "            return p.val == q.val and self.isSameTree(p.left, q.left) and self.isSameTree(p.right, q.right)\n",
    "        "
   ]
  }
 ],
 "metadata": {
  "kernelspec": {
   "display_name": "Python 3 (ipykernel)",
   "language": "python",
   "name": "python3"
  },
  "language_info": {
   "codemirror_mode": {
    "name": "ipython",
    "version": 3
   },
   "file_extension": ".py",
   "mimetype": "text/x-python",
   "name": "python",
   "nbconvert_exporter": "python",
   "pygments_lexer": "ipython3",
   "version": "3.10.9"
  }
 },
 "nbformat": 4,
 "nbformat_minor": 5
}

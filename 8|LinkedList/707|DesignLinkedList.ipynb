{
 "cells": [
  {
   "cell_type": "markdown",
   "id": "009257eb",
   "metadata": {},
   "source": [
    "# Approach\n",
    "- 在单链表中，如果要删除某个节点node：\n",
    "  1. 如果node是头节点，那么头节点向后移动\n",
    "  2. 如果node不是头节点，那么让node的上一节点指向node的下一节点！\n",
    "\n",
    "- 在单链表中，如果要添加某个节点node：\n",
    "  1. 如果要把node加到头节点之前，那么node指向头节点\n",
    "  2. 如果要把node加到中间某个节点之前，那么该节点之前的节点指向node，node再指向该节点！\n",
    "\n",
    "- 因此，为了简化操作，我们在init时可以构建一个虚拟头节点dummy，这样就只需要考虑第二种情况！同时，为了简化操作，我们还需要在init时构建linked list的长度！\n",
    "\n",
    "# Code"
   ]
  },
  {
   "cell_type": "code",
   "execution_count": null,
   "id": "383a621d",
   "metadata": {},
   "outputs": [],
   "source": [
    "# Singly Linked List\n",
    "\n",
    "class ListNode:\n",
    "    def __init__(self, val=0, next=None):\n",
    "        self.val = val\n",
    "        self.next = next\n",
    "\n",
    "class MyLinkedList:\n",
    "    def __init__(self):\n",
    "        self.dummy = ListNode()\n",
    "        self.size = 0\n",
    "        \n",
    "    def get(self, index: int) -> int:\n",
    "        if index >= self.size:\n",
    "            return -1\n",
    "        \n",
    "        curr = self.dummy\n",
    "        for _ in range(index + 1):\n",
    "            curr = curr.next\n",
    "        \n",
    "        # 此时curr是第index个节点\n",
    "\n",
    "        return curr.val\n",
    "\n",
    "    def addAtHead(self, val: int) -> None:\n",
    "        self.dummy.next = ListNode(val = val, next = self.dummy.next)\n",
    "        self.size += 1\n",
    "\n",
    "        # 只需要一行代码：self.addAtIndex(0, val)\n",
    "\n",
    "    def addAtTail(self, val: int) -> None:\n",
    "        curr = self.dummy\n",
    "        for _ in range(self.size):\n",
    "            curr = curr.next\n",
    "        \n",
    "        curr.next = ListNode(val = val)\n",
    "        self.size += 1\n",
    "\n",
    "        # 只需要一行代码：self.addAtIndex(self.size, val)\n",
    "        \n",
    "    def addAtIndex(self, index: int, val: int) -> None:\n",
    "        if index > self.size:\n",
    "            return\n",
    "        \n",
    "        curr = self.dummy\n",
    "        for _ in range(index):\n",
    "            curr = curr.next\n",
    "        \n",
    "        # 此时curr是第index个节点的前一个节点\n",
    "        \n",
    "        curr.next = ListNode(val = val, next = curr.next)\n",
    "        self.size += 1\n",
    "        \n",
    "    def deleteAtIndex(self, index: int) -> None:\n",
    "        if index >= self.size:\n",
    "            return\n",
    "        \n",
    "        curr = self.dummy\n",
    "        for _ in range(index):\n",
    "            curr = curr.next\n",
    "        \n",
    "        # 此时curr是第index个节点的前一个节点\n",
    "        \n",
    "        curr.next = curr.next.next\n",
    "        self.size -= 1"
   ]
  },
  {
   "cell_type": "code",
   "execution_count": null,
   "id": "10d3f5c8",
   "metadata": {},
   "outputs": [],
   "source": [
    "# Doubly Linked List"
   ]
  }
 ],
 "metadata": {
  "kernelspec": {
   "display_name": "Python 3 (ipykernel)",
   "language": "python",
   "name": "python3"
  },
  "language_info": {
   "codemirror_mode": {
    "name": "ipython",
    "version": 3
   },
   "file_extension": ".py",
   "mimetype": "text/x-python",
   "name": "python",
   "nbconvert_exporter": "python",
   "pygments_lexer": "ipython3",
   "version": "3.10.14"
  }
 },
 "nbformat": 4,
 "nbformat_minor": 5
}

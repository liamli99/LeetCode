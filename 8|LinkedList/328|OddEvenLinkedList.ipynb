{
 "cells": [
  {
   "cell_type": "markdown",
   "id": "009257eb",
   "metadata": {},
   "source": [
    "# Approach\n",
    "- 如果linked list中node的数量小于等于2时，linked list不需要改变！\n",
    "\n",
    "- 如果linked list中有3个(或4个)node，需要三步！例如把1->2->3->...变成1->3->2->...，需要三步：(1) 1->3 (2) 2->... (3) 3->2！\n",
    "\n",
    "- 如果linked list中有5个(或6个)node，需要三步！例如把1->3->2->4->5->...变成1->3->5->2->4->...，需要三步：(1) 3->5 (2) 4->...(3) 5->2！\n",
    "\n",
    "- 如果linked list中有7个(或8个)node，需要三步！例如把1->3->5->2->4->6->7->...变成1->3->5->7->2->4->6->...，需要三步：(1) 5->7 (2) 6->... (3) 7->2！\n",
    "\n",
    "- 因此我们需要两个指针odd和even，一开始分别指向第一个奇数node(即head)和第一个偶数node(即head.next)！当even和even.next都存在时，按照上述的三个步骤来处理！然后odd和even指向下一个奇数node和下一个偶数node，重复上述操作！\n",
    "\n",
    "# Code"
   ]
  },
  {
   "cell_type": "code",
   "execution_count": null,
   "id": "a578a361",
   "metadata": {},
   "outputs": [],
   "source": [
    "# Time: O(n), Space: O(1)\n",
    "\n",
    "# Definition for singly-linked list.\n",
    "# class ListNode:\n",
    "#     def __init__(self, val=0, next=None):\n",
    "#         self.val = val\n",
    "#         self.next = next\n",
    "class Solution:\n",
    "    def oddEvenList(self, head: Optional[ListNode]) -> Optional[ListNode]:\n",
    "        if head == None:\n",
    "            return head\n",
    "        \n",
    "        # evenHead就是第一个偶数node，即为2！\n",
    "        odd, even, evenHead = head, head.next, head.next\n",
    "\n",
    "        while even != None and even.next != None:\n",
    "            # 步骤1\n",
    "            odd.next = even.next\n",
    "            # 步骤2\n",
    "            even.next = odd.next.next\n",
    "            # 步骤3\n",
    "            odd.next.next = evenHead\n",
    "\n",
    "            odd = odd.next\n",
    "            even = even.next\n",
    "\n",
    "        return head"
   ]
  }
 ],
 "metadata": {
  "kernelspec": {
   "display_name": "Python 3 (ipykernel)",
   "language": "python",
   "name": "python3"
  },
  "language_info": {
   "codemirror_mode": {
    "name": "ipython",
    "version": 3
   },
   "file_extension": ".py",
   "mimetype": "text/x-python",
   "name": "python",
   "nbconvert_exporter": "python",
   "pygments_lexer": "ipython3",
   "version": "3.10.9"
  }
 },
 "nbformat": 4,
 "nbformat_minor": 5
}

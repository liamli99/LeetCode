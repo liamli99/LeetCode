{
 "cells": [
  {
   "cell_type": "markdown",
   "id": "009257eb",
   "metadata": {},
   "source": [
    "# Approach\n",
    "- 优化：我们可以在头节点前面构建一个虚拟头节点dummy_head，`dummy_head.next = head`！在这个新的linked list中，翻转原来的前k个node需要两步！例如翻转dummy -> 1 -> ... -> k -> next，需要两步：(1) next <- 1 <- ... <- k (2) dummy -> k \n",
    "\n",
    "- 如果要翻转前k个node之外的其他k个node，也需要两步！例如翻转dummy -> k -> ... -> 1 -> k+1 -> ... -> 2k -> next，需要两步：(1) next <- k+1 <- ... <- 2k (2) 1 -> 2k \n",
    "\n",
    "- 再举一个例子，例如翻转dummy -> k -> ... -> 1 -> 2k -> ... -> k+1 -> 2k+1 -> ... -> 3k -> next，需要两步：(1) next <- 2k+1 <- ... <- 3k (2) k+1 -> 3k\n",
    "\n",
    "# Code"
   ]
  },
  {
   "cell_type": "code",
   "execution_count": null,
   "id": "0ba61be8",
   "metadata": {},
   "outputs": [],
   "source": [
    "# Time: O(n), Space: O(1)\n",
    "\n",
    "# Definition for singly-linked list.\n",
    "# class ListNode:\n",
    "#     def __init__(self, val=0, next=None):\n",
    "#         self.val = val\n",
    "#         self.next = next\n",
    "class Solution:\n",
    "    def reverseKGroup(self, head: Optional[ListNode], k: int) -> Optional[ListNode]:\n",
    "        dummy_head = ListNode(next = head)\n",
    "        prevNode = dummy_head\n",
    "\n",
    "        while True:\n",
    "            kthNode = self.findKthNode(prevNode, k)\n",
    "            if kthNode == None:\n",
    "                break\n",
    "            \n",
    "            firstNode = prevNode.next\n",
    "            nextNode = kthNode.next\n",
    "\n",
    "            # 步骤1，参考206\n",
    "            prev, curr = nextNode, firstNode\n",
    "            while curr != nextNode:\n",
    "                currNext = curr.next\n",
    "                curr.next = prev\n",
    "                prev, curr = curr, currNext\n",
    "            \n",
    "            # 步骤2\n",
    "            prevNode.next = kthNode\n",
    "\n",
    "            prevNode = firstNode\n",
    "        \n",
    "        return dummy_head.next\n",
    "\n",
    "    # 找到prev后面第k个node，如果不存在，就返回None！\n",
    "    def findKthNode(self, prev, k):\n",
    "        while prev != None:\n",
    "            prev = prev.next\n",
    "            k -= 1\n",
    "\n",
    "            if k == 0:\n",
    "                return prev\n",
    "            \n",
    "        return None"
   ]
  }
 ],
 "metadata": {
  "kernelspec": {
   "display_name": "Python 3 (ipykernel)",
   "language": "python",
   "name": "python3"
  },
  "language_info": {
   "codemirror_mode": {
    "name": "ipython",
    "version": 3
   },
   "file_extension": ".py",
   "mimetype": "text/x-python",
   "name": "python",
   "nbconvert_exporter": "python",
   "pygments_lexer": "ipython3",
   "version": "3.10.9"
  }
 },
 "nbformat": 4,
 "nbformat_minor": 5
}

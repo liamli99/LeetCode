{
 "cells": [
  {
   "cell_type": "markdown",
   "id": "009257eb",
   "metadata": {},
   "source": [
    "# Approach\n",
    "- 如果只要交换前两个node，需要两步！例如把1->2->...变成2->1->...，需要两步：(1) 2->1 (2) 1->...！\n",
    "\n",
    "- 如果要交换除了前两个node之外的其他对node，需要三步！例如把2->1->3->4->...变成2->1->4->3...，需要三步：(1) 1->4 (2) 3->... (3) 4->3！再例如把2->1->4->3->5->6->...变成2->1->4->3->6->5->...，也需要三步：(1) 3->6 (2) 5->... (3) 6->5\n",
    "\n",
    "- 优化：我们可以在头节点前面构建一个虚拟头节点dummy_head，`dummy_head.next = head`！在这个新的linked list中，哪怕是交换原来的前两个node也需要三步！例如把dummy->1->2->...变成dummy->2->1->...，需要三步：(1) dummy->2 (2) 1->... (3) 2->1！\n",
    "\n",
    "- [动画](https://leetcode.cn/problems/swap-nodes-in-pairs/solutions/444474/liang-liang-jiao-huan-lian-biao-zhong-de-jie-di-91/)\n",
    "\n",
    "- 因此，我们可以用一个指针curr，从dummy_head处开始遍历linked list中的node！当curr.next和curr.next.next都存在时，按照上述的三个步骤来处理curr，curr.next和curr.next.next这三个连续的node，然后curr向右移动两个node，重复上述操作！\n",
    "\n",
    "# Code"
   ]
  },
  {
   "cell_type": "code",
   "execution_count": null,
   "id": "47c2e1ea",
   "metadata": {},
   "outputs": [],
   "source": [
    "# Time: O(n), Space: O(1)\n",
    "\n",
    "# Definition for singly-linked list.\n",
    "# class ListNode:\n",
    "#     def __init__(self, val=0, next=None):\n",
    "#         self.val = val\n",
    "#         self.next = next\n",
    "class Solution:\n",
    "    def swapPairs(self, head: Optional[ListNode]) -> Optional[ListNode]:\n",
    "        dummy_head = ListNode(next = head)\n",
    "        curr = dummy_head\n",
    "\n",
    "        while curr.next != None and curr.next.next != None:\n",
    "            node1 = curr.next\n",
    "            node2 = curr.next.next\n",
    "\n",
    "            # 步骤1\n",
    "            curr.next = node2\n",
    "            # 步骤2\n",
    "            node1.next = node2.next\n",
    "            # 步骤3\n",
    "            node2.next = node1\n",
    "\n",
    "            curr = curr.next.next\n",
    "        \n",
    "        return dummy_head.next"
   ]
  }
 ],
 "metadata": {
  "kernelspec": {
   "display_name": "Python 3 (ipykernel)",
   "language": "python",
   "name": "python3"
  },
  "language_info": {
   "codemirror_mode": {
    "name": "ipython",
    "version": 3
   },
   "file_extension": ".py",
   "mimetype": "text/x-python",
   "name": "python",
   "nbconvert_exporter": "python",
   "pygments_lexer": "ipython3",
   "version": "3.10.14"
  }
 },
 "nbformat": 4,
 "nbformat_minor": 5
}

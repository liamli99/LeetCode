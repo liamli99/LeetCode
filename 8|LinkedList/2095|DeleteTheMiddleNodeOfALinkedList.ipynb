{
 "cells": [
  {
   "cell_type": "markdown",
   "id": "009257eb",
   "metadata": {},
   "source": [
    "# Approach  \n",
    "- 本题middle node的定义和876相同，因此我们可以参考876找到middle node！由于本题要删除middle node，我们还需要知道middle node的前一个node！\n",
    "\n",
    "- 在876中我们知道退出循环后，slow指向的就是middle node，因此我们可以再定义一个指针prev时刻指向slow的前一个节点，这样退出循环后，prev指向的就是middle node的前一个node！prev从dummy_head处开始，每次移动一位，这样prev和slow始终保持同步移动，并且prev始终在slow前一位！\n",
    "\n",
    "# Code"
   ]
  },
  {
   "cell_type": "code",
   "execution_count": null,
   "id": "256bac8a",
   "metadata": {},
   "outputs": [],
   "source": [
    "# Dummy head\n",
    "# Time: O(n), Space: O(1)\n",
    "\n",
    "# Definition for singly-linked list.\n",
    "class ListNode:\n",
    "    def __init__(self, val=0, next=None):\n",
    "        self.val = val\n",
    "        self.next = next\n",
    "\n",
    "from typing import Optional\n",
    "\n",
    "class Solution:\n",
    "    def deleteMiddle(self, head: Optional[ListNode]) -> Optional[ListNode]:\n",
    "        dummy = ListNode(next = head)\n",
    "        prev, slow, fast = dummy, head, head\n",
    "\n",
    "        while fast != None and fast.next != None:\n",
    "            prev = prev.next\n",
    "            slow = slow.next\n",
    "            fast = fast.next.next\n",
    "        \n",
    "        # 移除中间节点\n",
    "        prev.next = prev.next.next\n",
    "\n",
    "        return dummy.next"
   ]
  }
 ],
 "metadata": {
  "kernelspec": {
   "display_name": "Python 3 (ipykernel)",
   "language": "python",
   "name": "python3"
  },
  "language_info": {
   "codemirror_mode": {
    "name": "ipython",
    "version": 3
   },
   "file_extension": ".py",
   "mimetype": "text/x-python",
   "name": "python",
   "nbconvert_exporter": "python",
   "pygments_lexer": "ipython3",
   "version": "3.10.14"
  }
 },
 "nbformat": 4,
 "nbformat_minor": 5
}

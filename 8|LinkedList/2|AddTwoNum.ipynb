{
 "cells": [
  {
   "cell_type": "markdown",
   "id": "009257eb",
   "metadata": {},
   "source": [
    "# Approach\n",
    "- 我们可以定义两个指针p1和p2，分别从l1和l2处出发，用一个变量carry来记录进位，当p1和p2至少有一个不是None时，计算carry+p1.value(如果p1是None的话就是0)+p2.value(如果p2是None的话就是0)，这个和的个位数字就是新建立的node的val，十位数字就是新的进位！不断移动p1和p2(如果是None的话就保持不变)，重复上述操作，直到p1和p2都是None为止！\n",
    "\n",
    "- 如果新建立的node是head，那么直接建立ListNode；如果不是head，需要让前一个node指向它！因此我们可以建立一个dummy head，这样新建立的node一定不是head，都需要让前一个node指向它！我们还需要一个指针curr，从dummy head处出发，对于每个新建立的node，都要让curr指向它，同时curr向右移动一位！\n",
    "  \n",
    "# Code"
   ]
  },
  {
   "cell_type": "code",
   "execution_count": null,
   "id": "1e055563",
   "metadata": {},
   "outputs": [],
   "source": [
    "# Time: O(max(m, n)), Space: O(1)\n",
    "\n",
    "# Definition for singly-linked list.\n",
    "class ListNode:\n",
    "    def __init__(self, val=0, next=None):\n",
    "        self.val = val\n",
    "        self.next = next\n",
    "\n",
    "from typing import Optional\n",
    "\n",
    "class Solution:\n",
    "    def addTwoNumbers(self, l1: Optional[ListNode], l2: Optional[ListNode]) -> Optional[ListNode]:\n",
    "        dummy_head = ListNode()\n",
    "        p1, p2, curr = l1, l2, dummy_head\n",
    "        carry = 0\n",
    "\n",
    "        while p1 != None or p2 != None:\n",
    "            v1 = p1.val if p1 != None else 0\n",
    "            v2 = p2.val if p2 != None else 0\n",
    "\n",
    "            sum_ = v1 + v2 + carry\n",
    "            value = sum_ % 10\n",
    "            carry = sum_ // 10\n",
    "\n",
    "            curr.next = ListNode(val = value)\n",
    "            \n",
    "            curr = curr.next\n",
    "            p1 = p1.next if p1 != None else None\n",
    "            p2 = p2.next if p2 != None else None\n",
    "        \n",
    "        # 如果循环结束后carry不为0，别忘了在新的linked list最后附加一个节点，val就是carry！\n",
    "        # 当然，我们也可以不写这段代码，那么只需要在上方while loop的condition中加上`or carry != 0`即可!\n",
    "        if carry > 0:\n",
    "            curr.next = ListNode(val = carry)\n",
    "        \n",
    "        return dummy_head.next"
   ]
  }
 ],
 "metadata": {
  "kernelspec": {
   "display_name": "Python 3 (ipykernel)",
   "language": "python",
   "name": "python3"
  },
  "language_info": {
   "codemirror_mode": {
    "name": "ipython",
    "version": 3
   },
   "file_extension": ".py",
   "mimetype": "text/x-python",
   "name": "python",
   "nbconvert_exporter": "python",
   "pygments_lexer": "ipython3",
   "version": "3.10.14"
  }
 },
 "nbformat": 4,
 "nbformat_minor": 5
}

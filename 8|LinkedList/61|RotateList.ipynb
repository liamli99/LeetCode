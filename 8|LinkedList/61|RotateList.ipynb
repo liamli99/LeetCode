{
 "cells": [
  {
   "cell_type": "markdown",
   "id": "009257eb",
   "metadata": {},
   "source": [
    "# Approach\n",
    "- 根据之前rotate的题目，我们知道旋转k次就等价于旋转k % size次！因此我们需要先求size，即linked list的节点数！由于size是除数，size不能等于0，所以我们要先把size等于0的情况讨论掉！   \n",
    "\n",
    "- 观察发现，旋转k次其实就是把倒数k个节点全部放到linked list最前面！要实现这个操作，我们只需要将倒数第k+1个节点指向None，将最后一个节点指向head！\n",
    "\n",
    "- 我们可以用19题的方法找到倒数第k+1个节点！注意，在19题中，1 <= k <= size；在本题中，0 <= k < size，因此我们需要讨论掉k = 0的情况；同时，由于k取不到size，没有必要用dummy_head来化简！\n",
    "\n",
    "# Code"
   ]
  },
  {
   "cell_type": "code",
   "execution_count": null,
   "id": "ccfe1274",
   "metadata": {},
   "outputs": [],
   "source": [
    "# Time: O(n), Space: O(1)\n",
    "\n",
    "# Definition for singly-linked list.\n",
    "class ListNode:\n",
    "    def __init__(self, val=0, next=None):\n",
    "        self.val = val\n",
    "        self.next = next\n",
    "\n",
    "from typing import Optional\n",
    "\n",
    "class Solution:\n",
    "    def rotateRight(self, head: Optional[ListNode], k: int) -> Optional[ListNode]:\n",
    "        size = 0\n",
    "        curr = head\n",
    "        while curr != None:\n",
    "            curr = curr.next\n",
    "            size += 1\n",
    "        \n",
    "        if size == 0:\n",
    "            return head\n",
    "        k = k % size\n",
    "        if k == 0:\n",
    "            return head\n",
    "        \n",
    "        # 利用19题找到倒数第k+1个节点，此时1 <= k < size，size >= 2\n",
    "        slow, fast = head, head\n",
    "        for _ in range(k):\n",
    "            fast = fast.next\n",
    "        while fast.next != None:\n",
    "            slow = slow.next\n",
    "            fast = fast.next\n",
    "        \n",
    "        # 此时slow指向倒数第k+1个节点，fast指向最后一个节点！\n",
    "        \n",
    "        newHead = slow.next\n",
    "        slow.next = None\n",
    "        fast.next = head\n",
    "            \n",
    "        return newHead"
   ]
  }
 ],
 "metadata": {
  "kernelspec": {
   "display_name": "Python 3 (ipykernel)",
   "language": "python",
   "name": "python3"
  },
  "language_info": {
   "codemirror_mode": {
    "name": "ipython",
    "version": 3
   },
   "file_extension": ".py",
   "mimetype": "text/x-python",
   "name": "python",
   "nbconvert_exporter": "python",
   "pygments_lexer": "ipython3",
   "version": "3.10.14"
  }
 },
 "nbformat": 4,
 "nbformat_minor": 5
}

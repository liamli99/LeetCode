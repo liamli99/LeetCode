{
 "cells": [
  {
   "cell_type": "markdown",
   "id": "009257eb",
   "metadata": {},
   "source": [
    "# Approach\n",
    "- 从单链表中移除某个节点有两种情况:\n",
    "  1. 如果要移除的是头节点：`head = head.next`\n",
    "  2. 如果要移除的不是头节点，那我们从头节点开始遍历linked list，如果要移除的是**当前节点的下一个节点**：`current_node.next = current_node.next.next`\n",
    "\n",
    "- 优化：我们可以在头节点前面构建一个虚拟头节点dummy_head，`dummy_head.next = head`！在这个新的linked list中，要移除的节点必然不是虚拟头节点！因此，只需要考虑上述的第二种情况！记得最后返回的时候是return dummy_head.next！\n",
    "\n",
    "# Note\n",
    "- 在单链表中，如果要删除某个节点node：\n",
    "  1. 如果node是头节点，那么头节点向后移动\n",
    "  2. 如果node不是头节点，那么让node的上一节点指向node的下一节点！\n",
    "\n",
    "# Code"
   ]
  },
  {
   "cell_type": "code",
   "execution_count": null,
   "id": "6eb8f1b3",
   "metadata": {},
   "outputs": [],
   "source": [
    "# Time: O(n), Space: O(1)\n",
    "\n",
    "# Definition for singly-linked list.\n",
    "class ListNode:\n",
    "    def __init__(self, val=0, next=None):\n",
    "        self.val = val\n",
    "        self.next = next\n",
    "\n",
    "from typing import Optional\n",
    "\n",
    "class Solution:\n",
    "    def removeElements(self, head: Optional[ListNode], val: int) -> Optional[ListNode]:\n",
    "        # 如果要移除的是头节点\n",
    "        while head != None and head.val == val:\n",
    "            head = head.next\n",
    "        \n",
    "        # 如果要移除的不是头节点\n",
    "        current_node = head\n",
    "        while current_node != None and current_node.next != None:\n",
    "            if current_node.next.val == val:\n",
    "                current_node.next = current_node.next.next\n",
    "            else:\n",
    "                current_node = current_node.next\n",
    "            \n",
    "        return head"
   ]
  },
  {
   "cell_type": "code",
   "execution_count": null,
   "id": "cbe93e1c",
   "metadata": {},
   "outputs": [],
   "source": [
    "# Dummy head\n",
    "# Time: O(n), Space: O(1)\n",
    "\n",
    "# Definition for singly-linked list.\n",
    "class ListNode:\n",
    "    def __init__(self, val=0, next=None):\n",
    "        self.val = val\n",
    "        self.next = next\n",
    "\n",
    "from typing import Optional\n",
    "\n",
    "class Solution:\n",
    "    def removeElements(self, head: Optional[ListNode], val: int) -> Optional[ListNode]:\n",
    "        dummy_head = ListNode(next = head)\n",
    "        current_node = dummy_head\n",
    "\n",
    "        while current_node.next != None:\n",
    "            if current_node.next.val == val:\n",
    "                current_node.next = current_node.next.next\n",
    "            else:\n",
    "                current_node = current_node.next\n",
    "        \n",
    "        return dummy_head.next"
   ]
  }
 ],
 "metadata": {
  "kernelspec": {
   "display_name": "Python 3 (ipykernel)",
   "language": "python",
   "name": "python3"
  },
  "language_info": {
   "codemirror_mode": {
    "name": "ipython",
    "version": 3
   },
   "file_extension": ".py",
   "mimetype": "text/x-python",
   "name": "python",
   "nbconvert_exporter": "python",
   "pygments_lexer": "ipython3",
   "version": "3.10.9"
  }
 },
 "nbformat": 4,
 "nbformat_minor": 5
}

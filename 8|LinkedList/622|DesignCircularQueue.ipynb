{
 "cells": [
  {
   "cell_type": "markdown",
   "id": "009257eb",
   "metadata": {},
   "source": [
    "# Approach\n",
    "- 本题要求设计一个circular queue，因为原有的queue有一些局限性，例如queue = [1, 2, 3]，装满元素了，如果pop第一个元素，那么queue = [ , 2, 3]，还是无法push进新元素！因此本题希望我们设计一个circular queue，即queue的首尾相连，这样当queue装满元素之后再pop元素，就可以push进新元素了！   \n",
    "\n",
    "- 当然我们不需要真的设计一个circular的结构，只需要设计的结构能满足题目需求即可！由于是设计一个queue，所有的操作都必须是O(1)！因此我们可以选择linked list，在init时，构建size(linked list的当前长度)和capacity(linked list的最大长度)，同时也要构建虚拟头节点dummy_head来方便deQueue和Front，构建尾节点tail来方便enQueue和Rear！！！\n",
    "\n",
    "# Code"
   ]
  },
  {
   "cell_type": "code",
   "execution_count": null,
   "id": "e401e1b3",
   "metadata": {},
   "outputs": [],
   "source": [
    "# Singly Linked List\n",
    "\n",
    "class ListNode:\n",
    "    def __init__(self, val=0, next=None):\n",
    "        self.val = val\n",
    "        self.next = next\n",
    "\n",
    "class MyCircularQueue:\n",
    "    def __init__(self, k: int):\n",
    "        self.size = 0\n",
    "        self.capacity = k\n",
    "        self.dummy_head = self.tail = ListNode()\n",
    "\n",
    "    def enQueue(self, value: int) -> bool:\n",
    "        if self.isFull():\n",
    "            return False\n",
    "        else:\n",
    "            self.tail.next = ListNode(val = value)\n",
    "            self.tail = self.tail.next\n",
    "            self.size += 1\n",
    "            \n",
    "            return True\n",
    "        \n",
    "    def deQueue(self) -> bool:\n",
    "        if self.isEmpty():\n",
    "            return False\n",
    "        else:\n",
    "            self.dummy_head.next = self.dummy_head.next.next\n",
    "            self.size -= 1\n",
    "\n",
    "            # 当linked list为空时，self.tail不存在，变成dummy_head！\n",
    "            if self.isEmpty():\n",
    "                self.tail = self.dummy_head\n",
    "\n",
    "            return True\n",
    "\n",
    "    def Front(self) -> int:\n",
    "        if self.isEmpty():\n",
    "            return -1\n",
    "        else:\n",
    "            return self.dummy_head.next.val\n",
    "\n",
    "    def Rear(self) -> int:\n",
    "        if self.isEmpty():\n",
    "            return -1\n",
    "        else:\n",
    "            return self.tail.val\n",
    "\n",
    "    def isEmpty(self) -> bool:\n",
    "        return self.size == 0\n",
    "\n",
    "    def isFull(self) -> bool:\n",
    "        return self.size == self.capacity"
   ]
  },
  {
   "cell_type": "code",
   "execution_count": null,
   "id": "1587ce03",
   "metadata": {},
   "outputs": [],
   "source": [
    "# List"
   ]
  }
 ],
 "metadata": {
  "kernelspec": {
   "display_name": "Python 3 (ipykernel)",
   "language": "python",
   "name": "python3"
  },
  "language_info": {
   "codemirror_mode": {
    "name": "ipython",
    "version": 3
   },
   "file_extension": ".py",
   "mimetype": "text/x-python",
   "name": "python",
   "nbconvert_exporter": "python",
   "pygments_lexer": "ipython3",
   "version": "3.10.14"
  }
 },
 "nbformat": 4,
 "nbformat_minor": 5
}

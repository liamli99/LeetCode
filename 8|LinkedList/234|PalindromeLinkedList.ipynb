{
 "cells": [
  {
   "cell_type": "markdown",
   "id": "009257eb",
   "metadata": {},
   "source": [
    "# Approach\n",
    "- 首先利用876找到linked list的中间节点：奇数个节点就是正中间的节点，偶数个节点就是第二个中间节点！\n",
    "\n",
    "- 然后利用206将中间节点到最后一个节点这一段的linked list翻转！注意翻转后有两段方向不一样的linked list，一段是从左往右的linked list(原来的linked list的左半部分)，还有一段是从右往左的linked list(原来的linked list的翻转后的右半部分)！\n",
    "\n",
    "- 定义两个指针p1和p2，一开始分别指向两个linked list的头节点，当p1不是中间节点时，不断比较p1.val和p2.val！\n",
    "\n",
    "# Code"
   ]
  },
  {
   "cell_type": "code",
   "execution_count": null,
   "id": "0f79a272",
   "metadata": {},
   "outputs": [],
   "source": [
    "# Time: O(n), Space: O(1)\n",
    "\n",
    "# Definition for singly-linked list.\n",
    "# class ListNode:\n",
    "#     def __init__(self, val=0, next=None):\n",
    "#         self.val = val\n",
    "#         self.next = next\n",
    "class Solution:\n",
    "    def isPalindrome(self, head: Optional[ListNode]) -> bool:\n",
    "        slow, fast = head, head\n",
    "        while fast != None and fast.next != None:\n",
    "            slow = slow.next\n",
    "            fast = fast.next.next\n",
    "        \n",
    "        # 此时slow就是中间节点！\n",
    "\n",
    "        prev, curr = None, slow\n",
    "        while curr != None:\n",
    "            currNext = curr.next\n",
    "            curr.next = prev\n",
    "            prev, curr = curr, currNext\n",
    "        \n",
    "        # 此时prev是翻转后的右半部分的头节点\n",
    "        \n",
    "        p1, p2 = head, prev\n",
    "        # 或者while p2 != None\n",
    "        while p1 != slow:\n",
    "            if p1.val != p2.val:\n",
    "                return False\n",
    "            p1 = p1.next\n",
    "            p2 = p2.next\n",
    "        \n",
    "        return True"
   ]
  }
 ],
 "metadata": {
  "kernelspec": {
   "display_name": "Python 3 (ipykernel)",
   "language": "python",
   "name": "python3"
  },
  "language_info": {
   "codemirror_mode": {
    "name": "ipython",
    "version": 3
   },
   "file_extension": ".py",
   "mimetype": "text/x-python",
   "name": "python",
   "nbconvert_exporter": "python",
   "pygments_lexer": "ipython3",
   "version": "3.10.9"
  }
 },
 "nbformat": 4,
 "nbformat_minor": 5
}

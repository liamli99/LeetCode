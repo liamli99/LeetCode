{
 "cells": [
  {
   "cell_type": "markdown",
   "id": "009257eb",
   "metadata": {},
   "source": [
    "# Approach\n",
    "- 如果一个linked list是1->2->3->None，那么反转完就是None<-1<-2<-3！因此我们可以用双指针，一个指针prev指向前一个节点，另一个指针curr指向后一个节点，prev从None开始，curr从head开始！\n",
    "\n",
    "- 当curr不是None时，我们先用currNext记录curr.next，因为接下来curr要指向prev，我们就没法得到原来的curr.next！然后curr指向prev，再分别向右移动prev和curr，即prev变成curr，curr变成currNext！重复上述操作直到curr等于None为止，退出循环后头节点就是prev！  \n",
    "\n",
    "# Code"
   ]
  },
  {
   "cell_type": "code",
   "execution_count": null,
   "id": "642b425f",
   "metadata": {},
   "outputs": [],
   "source": [
    "# Time: O(n), Space: O(1)\n",
    "\n",
    "# Definition for singly-linked list.\n",
    "class ListNode:\n",
    "    def __init__(self, val=0, next=None):\n",
    "        self.val = val\n",
    "        self.next = next\n",
    "\n",
    "from typing import Optional\n",
    "\n",
    "class Solution:\n",
    "    def reverseList(self, head: Optional[ListNode]) -> Optional[ListNode]:\n",
    "        prev, curr = None, head\n",
    "\n",
    "        while curr != None:\n",
    "            currNext = curr.next\n",
    "\n",
    "            curr.next = prev\n",
    "            prev, curr = curr, currNext\n",
    "        \n",
    "        return prev"
   ]
  }
 ],
 "metadata": {
  "kernelspec": {
   "display_name": "Python 3 (ipykernel)",
   "language": "python",
   "name": "python3"
  },
  "language_info": {
   "codemirror_mode": {
    "name": "ipython",
    "version": 3
   },
   "file_extension": ".py",
   "mimetype": "text/x-python",
   "name": "python",
   "nbconvert_exporter": "python",
   "pygments_lexer": "ipython3",
   "version": "3.10.9"
  }
 },
 "nbformat": 4,
 "nbformat_minor": 5
}

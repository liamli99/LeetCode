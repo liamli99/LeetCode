{
 "cells": [
  {
   "cell_type": "markdown",
   "id": "009257eb",
   "metadata": {},
   "source": [
    "# Approach\n",
    "- 本题有一个异常简单优美的解法，我们定义两个指针，分别从两个linked list的head处出发，比较两个指针所指的是否相等，如果相等，退出循环！如果不相等，两个指针同时向右移动一个node！较短的linked list的指针先到None，然后移动到较长的linked list的head！较长的linked list的指针后到None，然后移动到较短的linked list的head！相当于两个指针遍历完自己的linked list后又跑到对面linked list开始遍历！退出循环时，两个指针所指向的相等，随便返回哪个指针！\n",
    "\n",
    "- 证明：假设两个linked list的长度分别为m和n，按照上述操作：\n",
    "  1. 如果两个linked list没有intersection\n",
    "    1. 如果m==n，那么退出循环时两个指针分别移动了m和n次(m==n)，指向的都是None！\n",
    "    2. 如果m!=n，那么退出循环时两个指针都移动了m+n次，指向的都是None！\n",
    "  \n",
    "  2. 如果两个linked list有intersection，且长度为m的linked list在长度为a处与长度为n的linked list在长度为b处相交，`m - a = n - b`\n",
    "    1. 如果m==n，那么a==b，退出循环时两个指针分别移动了a和b次(a==b)，指向的都是intersection！\n",
    "    2. 如果m!=n，那么退出循环时两个指针分别移动了m+b和n+a次(m+b==n+a)，指向的都是intersection！\n",
    "\n",
    "# Code"
   ]
  },
  {
   "cell_type": "code",
   "execution_count": null,
   "id": "e6261752",
   "metadata": {},
   "outputs": [],
   "source": [
    "# Time: O(m + n), Space: O(1)\n",
    "\n",
    "# Definition for singly-linked list.\n",
    "class ListNode:\n",
    "    def __init__(self, x):\n",
    "        self.val = x\n",
    "        self.next = None\n",
    "\n",
    "from typing import Optional\n",
    "\n",
    "class Solution:\n",
    "    def getIntersectionNode(self, headA: ListNode, headB: ListNode) -> Optional[ListNode]:\n",
    "        pA, pB = headA, headB\n",
    "\n",
    "        while pA != pB:\n",
    "            pA = pA.next if pA != None else headB\n",
    "            pB = pB.next if pB != None else headA\n",
    "        \n",
    "        # 退出循环时，pA == pB，如果有intersection，那么就是某个node；如果没有intersection，那么就是None！\n",
    "        # return pB\n",
    "        return pA"
   ]
  }
 ],
 "metadata": {
  "kernelspec": {
   "display_name": "Python 3 (ipykernel)",
   "language": "python",
   "name": "python3"
  },
  "language_info": {
   "codemirror_mode": {
    "name": "ipython",
    "version": 3
   },
   "file_extension": ".py",
   "mimetype": "text/x-python",
   "name": "python",
   "nbconvert_exporter": "python",
   "pygments_lexer": "ipython3",
   "version": "3.10.9"
  }
 },
 "nbformat": 4,
 "nbformat_minor": 5
}

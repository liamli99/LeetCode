{
 "cells": [
  {
   "cell_type": "markdown",
   "id": "009257eb",
   "metadata": {},
   "source": [
    "# Approach\n",
    "- 本题只需要交换第k个节点和倒数第k个节点的**值**，而不是交换节点本身！\n",
    "\n",
    "- 因此我们需要找到第k个节点和倒数第k个节点。根据19的知识，我们可以定义slow和fast两个指针，一开始都指向head。fast先向右移动**k-1**个node，然后slow和fast一起向右移动，直到fast指向linked list中的最后一个node为止！此时slow指向的node就是倒数第k个node！ \n",
    "\n",
    "# Code"
   ]
  },
  {
   "cell_type": "code",
   "execution_count": null,
   "id": "f0e8a643",
   "metadata": {},
   "outputs": [],
   "source": [
    "# Time: O(n), Space: O(1)\n",
    "\n",
    "# Definition for singly-linked list.\n",
    "class ListNode:\n",
    "    def __init__(self, val=0, next=None):\n",
    "        self.val = val\n",
    "        self.next = next\n",
    "\n",
    "from typing import Optional\n",
    "\n",
    "class Solution:\n",
    "    def swapNodes(self, head: Optional[ListNode], k: int) -> Optional[ListNode]:\n",
    "        slow, fast = head, head\n",
    "\n",
    "        for _ in range(k - 1):\n",
    "            fast = fast.next\n",
    "        \n",
    "        left = fast\n",
    "\n",
    "        while fast != None and fast.next != None:\n",
    "            slow = slow.next\n",
    "            fast = fast.next\n",
    "        \n",
    "        right = slow\n",
    "\n",
    "        left.val, right.val = right.val, left.val\n",
    "        \n",
    "        return head"
   ]
  }
 ],
 "metadata": {
  "kernelspec": {
   "display_name": "Python 3 (ipykernel)",
   "language": "python",
   "name": "python3"
  },
  "language_info": {
   "codemirror_mode": {
    "name": "ipython",
    "version": 3
   },
   "file_extension": ".py",
   "mimetype": "text/x-python",
   "name": "python",
   "nbconvert_exporter": "python",
   "pygments_lexer": "ipython3",
   "version": "3.10.14"
  }
 },
 "nbformat": 4,
 "nbformat_minor": 5
}

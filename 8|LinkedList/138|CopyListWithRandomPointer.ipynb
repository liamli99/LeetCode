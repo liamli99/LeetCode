{
 "cells": [
  {
   "cell_type": "markdown",
   "id": "009257eb",
   "metadata": {},
   "source": [
    "# Approach\n",
    "- 本道题的ListNode有两个pointer，除了next指向下一个node，还有random指向随机的某个node！\n",
    "\n",
    "- 由于random的存在，我们不可以遍历原来的linked list来拷贝并创建新的node，因为当我们拷贝当前node时，可能它的random指向的node还没创建！\n",
    "\n",
    "- 我们可以先将原来的linked list `A -> B -> C`转化为`A -> A' -> B -> B' -> C -> C'`，其中`A' -> B' -> C'`为拷贝之后的结果！然后根据原来的linked list将拷贝后的linked list中每个node的random处理好；最后再将原来的和拷贝后的linked list中每个node的next处理好！\n",
    "\n",
    "- [动画演示](https://leetcode.cn/problems/copy-list-with-random-pointer/solutions/889166/fu-zhi-dai-sui-ji-zhi-zhen-de-lian-biao-rblsf/)\n",
    "  \n",
    "# Code"
   ]
  },
  {
   "cell_type": "code",
   "execution_count": null,
   "id": "1e055563",
   "metadata": {},
   "outputs": [],
   "source": [
    "# Time: O(n), Space: O(1)\n",
    "\n",
    "# Definition for a Node.\n",
    "class Node:\n",
    "    def __init__(self, x: int, next: 'Node' = None, random: 'Node' = None):\n",
    "        self.val = int(x)\n",
    "        self.next = next\n",
    "        self.random = random\n",
    "\n",
    "from typing import Optional\n",
    "\n",
    "class Solution:\n",
    "    def copyRandomList(self, head: 'Optional[Node]') -> 'Optional[Node]':\n",
    "        if head == None:\n",
    "            return None\n",
    "\n",
    "        # 将`A -> B -> C`转化为`A -> A' -> B -> B' -> C -> C'\n",
    "        curr = head\n",
    "        while curr != None:\n",
    "            curr.next = Node(val = curr.val, next = curr.next)\n",
    "            curr = curr.next.next\n",
    "        \n",
    "        # 处理拷贝后的linked list中每个node的random\n",
    "        curr = head\n",
    "        while curr != None:\n",
    "            curr.next.random = curr.random.next if curr.random != None else None\n",
    "            curr = curr.next.next\n",
    "        \n",
    "        # 处理原来的和拷贝后的linked list中每个node的next\n",
    "        curr = head\n",
    "        copy_head = head.next\n",
    "        while curr != None:\n",
    "            original = curr\n",
    "            copy = curr.next\n",
    "            original.next = copy.next\n",
    "            copy.next = copy.next.next if copy.next != None else None\n",
    "            \n",
    "            curr = curr.next\n",
    "        \n",
    "        return copy_head\n"
   ]
  }
 ],
 "metadata": {
  "kernelspec": {
   "display_name": "Python 3 (ipykernel)",
   "language": "python",
   "name": "python3"
  },
  "language_info": {
   "codemirror_mode": {
    "name": "ipython",
    "version": 3
   },
   "file_extension": ".py",
   "mimetype": "text/x-python",
   "name": "python",
   "nbconvert_exporter": "python",
   "pygments_lexer": "ipython3",
   "version": "3.10.14"
  }
 },
 "nbformat": 4,
 "nbformat_minor": 5
}

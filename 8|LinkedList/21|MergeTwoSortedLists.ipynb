{
 "cells": [
  {
   "cell_type": "markdown",
   "id": "009257eb",
   "metadata": {},
   "source": [
    "# Approach\n",
    "- 我们可以维护一个链表来存储合并之后的节点，具体操作类似第2题！\n",
    "\n",
    "- 由于头节点和不是头节点的操作不同，我们可以建一个虚拟头节点dummy_head来维护上述的链表！定义三个指针curr，p1和p2，分别从dummy_head，list1和list2处出发，如果p1.val < p2.val (如果p1或p2是None的话，就是无穷大)，那么curr.next = p1，同时p1向右移动；反之，curr.next = p2，同时p2向右移动！然后curr向右移动，重复上述操作直到p1和p2都是None为止！\n",
    "\n",
    "# Code"
   ]
  },
  {
   "cell_type": "code",
   "execution_count": null,
   "id": "f331c056",
   "metadata": {},
   "outputs": [],
   "source": [
    "# Time: O(m + n), Space: O(1)\n",
    "\n",
    "# Definition for singly-linked list.\n",
    "class ListNode:\n",
    "    def __init__(self, val=0, next=None):\n",
    "        self.val = val\n",
    "        self.next = next\n",
    "\n",
    "from typing import Optional\n",
    "\n",
    "class Solution:\n",
    "    def mergeTwoLists(self, list1: Optional[ListNode], list2: Optional[ListNode]) -> Optional[ListNode]:\n",
    "        dummy_head = ListNode()\n",
    "        curr, p1, p2 = dummy_head, list1, list2\n",
    "\n",
    "        while p1 != None or p2 != None:\n",
    "            val1 = p1.val if p1 != None else float('inf')\n",
    "            val2 = p2.val if p2 != None else float('inf')\n",
    "\n",
    "            if val1 < val2:\n",
    "                curr.next = p1\n",
    "                p1 = p1.next\n",
    "            else:\n",
    "                curr.next = p2\n",
    "                p2 = p2.next\n",
    "            \n",
    "            curr = curr.next\n",
    "        \n",
    "        return dummy_head.next"
   ]
  }
 ],
 "metadata": {
  "kernelspec": {
   "display_name": "Python 3 (ipykernel)",
   "language": "python",
   "name": "python3"
  },
  "language_info": {
   "codemirror_mode": {
    "name": "ipython",
    "version": 3
   },
   "file_extension": ".py",
   "mimetype": "text/x-python",
   "name": "python",
   "nbconvert_exporter": "python",
   "pygments_lexer": "ipython3",
   "version": "3.10.14"
  }
 },
 "nbformat": 4,
 "nbformat_minor": 5
}

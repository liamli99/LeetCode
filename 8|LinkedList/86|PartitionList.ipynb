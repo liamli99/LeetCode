{
 "cells": [
  {
   "cell_type": "markdown",
   "id": "009257eb",
   "metadata": {},
   "source": [
    "# Approach\n",
    "- 我们可以维护两个链表，一个存储所有val小于x的节点，另一个存储所有val大于等于x的节点！然后将这两个链表首尾拼接即可！\n",
    "\n",
    "- 定义两个虚拟头节点dummySmall和dummyLarge来分别维护上述两个链表；定义三个指针curr，currSmall和currLarge，分别从head，dummySmall和dummyLarge处出发，如果curr.val小于x，那么currSmall.next = curr，同时currSmall向右移动；如果curr.val大于等于x，那么currLarge.next = curr，同时currLarge向右移动！然后curr向右移动，重复上述操作直到curr是None为止！\n",
    "\n",
    "- 退出循环时，dummySmall所维护的链表存储所有val小于x的节点，dummyLarge所维护的链表存储所有val大于等于x的节点！进行两步操作：(1) 将dummySmall所维护的链表的尾节点指向dummyLarge所维护的链表的头节点，即`currSmall.next = dummyLarge.next`！(2) 将dummyLarge所维护的链表的尾节点指向None，即`currLarge.next = None`！\n",
    "\n",
    "# Code"
   ]
  },
  {
   "cell_type": "code",
   "execution_count": null,
   "id": "817e2123",
   "metadata": {},
   "outputs": [],
   "source": [
    "# Time: O(n), Space: O(1)\n",
    "\n",
    "# Definition for singly-linked list.\n",
    "class ListNode:\n",
    "    def __init__(self, val=0, next=None):\n",
    "        self.val = val\n",
    "        self.next = next\n",
    "\n",
    "from typing import Optional\n",
    "\n",
    "class Solution:\n",
    "    def partition(self, head: Optional[ListNode], x: int) -> Optional[ListNode]:\n",
    "        dummySmall, dummyLarge = ListNode(), ListNode()\n",
    "        curr, currSmall, currLarge = head, dummySmall, dummyLarge\n",
    "\n",
    "        while curr != None:\n",
    "            if curr.val < x:\n",
    "                currSmall.next = curr\n",
    "                currSmall = currSmall.next\n",
    "            else:\n",
    "                currLarge.next = curr\n",
    "                currLarge = currLarge.next\n",
    "            \n",
    "            curr = curr.next\n",
    "        \n",
    "        currSmall.next = dummyLarge.next\n",
    "        currLarge.next = None\n",
    "\n",
    "        return dummySmall.next"
   ]
  }
 ],
 "metadata": {
  "kernelspec": {
   "display_name": "Python 3 (ipykernel)",
   "language": "python",
   "name": "python3"
  },
  "language_info": {
   "codemirror_mode": {
    "name": "ipython",
    "version": 3
   },
   "file_extension": ".py",
   "mimetype": "text/x-python",
   "name": "python",
   "nbconvert_exporter": "python",
   "pygments_lexer": "ipython3",
   "version": "3.10.14"
  }
 },
 "nbformat": 4,
 "nbformat_minor": 5
}

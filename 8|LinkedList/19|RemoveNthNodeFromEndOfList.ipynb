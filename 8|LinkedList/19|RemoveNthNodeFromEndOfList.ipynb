{
 "cells": [
  {
   "cell_type": "markdown",
   "id": "009257eb",
   "metadata": {},
   "source": [
    "# Approach  \n",
    "- 题目要求删除倒数第n个node，必须要知道倒数第n+1个node！\n",
    "\n",
    "- 我们可以定义slow和fast两个指针，一开始都指向head。fast先向右移动n个node，然后slow和fast一起向右移动，直到fast指向linked list中的最后一个node为止！此时slow指向的node就是倒数第n+1个node！  \n",
    "\n",
    "- 如果`n < len(linked list)`，那么退出循环时slow指向的是倒数第n+1个node，fast指向的是最后一个node，可以用`slow.next = slow.next.next`来删除倒数第n个node！\n",
    "\n",
    "- 如果`n == len(linked list)`，那么退出循环时slow指向的仍是head，fast指向的是None，slow无法代表前一个node！可以用`return head.next`来删除倒数第n个node，即head！    \n",
    "\n",
    "- 优化：一开始slow和fast同时指向dummy_head，这样无论n的值为多少，退出循环时slow始终指向倒数第n+1个node，fast指向最后一个node！\n",
    "\n",
    "# Code"
   ]
  },
  {
   "cell_type": "code",
   "execution_count": null,
   "id": "b49a1110",
   "metadata": {},
   "outputs": [],
   "source": [
    "# Time: O(n), Space: O(1)\n",
    "\n",
    "# Definition for singly-linked list.\n",
    "class ListNode:\n",
    "    def __init__(self, val=0, next=None):\n",
    "        self.val = val\n",
    "        self.next = next\n",
    "\n",
    "from typing import Optional\n",
    "\n",
    "class Solution:\n",
    "    def removeNthFromEnd(self, head: Optional[ListNode], n: int) -> Optional[ListNode]:\n",
    "        slow, fast = head, head\n",
    "\n",
    "        for _ in range(n):\n",
    "            fast = fast.next\n",
    "        \n",
    "        while fast != None and fast.next != None:\n",
    "            slow = slow.next\n",
    "            fast = fast.next\n",
    "        \n",
    "        if fast == None:\n",
    "            return head.next\n",
    "        else:\n",
    "            slow.next = slow.next.next\n",
    "            return head"
   ]
  },
  {
   "cell_type": "code",
   "execution_count": null,
   "id": "2deb9693",
   "metadata": {},
   "outputs": [],
   "source": [
    "# Dummy head\n",
    "# Time: O(n), Space: O(1)\n",
    "\n",
    "# Definition for singly-linked list.\n",
    "class ListNode:\n",
    "    def __init__(self, val=0, next=None):\n",
    "        self.val = val\n",
    "        self.next = next\n",
    "\n",
    "from typing import Optional\n",
    "\n",
    "class Solution:\n",
    "    def removeNthFromEnd(self, head: Optional[ListNode], n: int) -> Optional[ListNode]:\n",
    "        dummy_head = ListNode(next = head)\n",
    "        slow, fast = dummy_head, dummy_head\n",
    "        \n",
    "        for _ in range(n):\n",
    "            fast = fast.next\n",
    "        \n",
    "        while fast.next != None:\n",
    "            slow = slow.next\n",
    "            fast = fast.next\n",
    "        \n",
    "        slow.next = slow.next.next\n",
    "\n",
    "        return dummy_head.next"
   ]
  }
 ],
 "metadata": {
  "kernelspec": {
   "display_name": "Python 3 (ipykernel)",
   "language": "python",
   "name": "python3"
  },
  "language_info": {
   "codemirror_mode": {
    "name": "ipython",
    "version": 3
   },
   "file_extension": ".py",
   "mimetype": "text/x-python",
   "name": "python",
   "nbconvert_exporter": "python",
   "pygments_lexer": "ipython3",
   "version": "3.10.9"
  }
 },
 "nbformat": 4,
 "nbformat_minor": 5
}

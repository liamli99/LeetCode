{
 "cells": [
  {
   "cell_type": "markdown",
   "id": "009257eb",
   "metadata": {},
   "source": [
    "# Approach\n",
    "- 用beforeLeft，leftNode，rightNode，afterRight分别表示第left个node前一个node，第left个node，第right个node，第right个node后一个node！\n",
    "\n",
    "- 当left大于1时，需要两步：(1) 利用206，prev从afterRight开始，curr从leftNode开始反转 (2) beforeLeft指向rightNode\n",
    "\n",
    "- 当left等于1时，需要一步：(1) 利用206，prev从afterRight开始，curr从leftNode开始反转\n",
    "\n",
    "- 优化：我们可以在头节点前面构建一个虚拟头节点dummy_head，`dummy_head.next = head`！在这个新的linked list中，无论left的值是多少，beforeLeft都存在，因此需要两步！\n",
    "\n",
    "# Code "
   ]
  },
  {
   "cell_type": "code",
   "execution_count": null,
   "id": "2d9fd41a",
   "metadata": {},
   "outputs": [],
   "source": [
    "# Time: O(n), Space: O(1)\n",
    "\n",
    "# Definition for singly-linked list.\n",
    "class ListNode:\n",
    "    def __init__(self, val=0, next=None):\n",
    "        self.val = val\n",
    "        self.next = next\n",
    "\n",
    "from typing import Optional\n",
    "\n",
    "class Solution:\n",
    "    def reverseBetween(self, head: Optional[ListNode], left: int, right: int) -> Optional[ListNode]:\n",
    "        dummy_head = ListNode(next = head)\n",
    "        beforeLeft = rightNode = dummy_head\n",
    "\n",
    "        for _ in range(left - 1):\n",
    "            beforeLeft = beforeLeft.next\n",
    "        leftNode = beforeLeft.next\n",
    "\n",
    "        for _ in range(right):\n",
    "            rightNode = rightNode.next\n",
    "        afterRight = rightNode.next\n",
    "\n",
    "        # 步骤1\n",
    "        prev, curr = afterRight, leftNode\n",
    "        while curr != afterRight:\n",
    "            currNext = curr.next\n",
    "            curr.next = prev\n",
    "            prev, curr = curr, currNext\n",
    "        \n",
    "        # 步骤2\n",
    "        beforeLeft.next = rightNode\n",
    "\n",
    "        return dummy_head.next"
   ]
  }
 ],
 "metadata": {
  "kernelspec": {
   "display_name": "Python 3 (ipykernel)",
   "language": "python",
   "name": "python3"
  },
  "language_info": {
   "codemirror_mode": {
    "name": "ipython",
    "version": 3
   },
   "file_extension": ".py",
   "mimetype": "text/x-python",
   "name": "python",
   "nbconvert_exporter": "python",
   "pygments_lexer": "ipython3",
   "version": "3.10.9"
  }
 },
 "nbformat": 4,
 "nbformat_minor": 5
}

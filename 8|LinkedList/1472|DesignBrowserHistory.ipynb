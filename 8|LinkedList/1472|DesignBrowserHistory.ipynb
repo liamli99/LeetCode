{
 "cells": [
  {
   "cell_type": "markdown",
   "id": "009257eb",
   "metadata": {},
   "source": [
    "# Approach\n",
    "- 由于需要back或forward，可以使用doubly linked list！在init时只需要curr来表示当前节点即可！   \n",
    "\n",
    "# Code"
   ]
  },
  {
   "cell_type": "code",
   "execution_count": null,
   "id": "15d660b5",
   "metadata": {},
   "outputs": [],
   "source": [
    "class ListNode:\n",
    "    def __init__(self, val='', prev=None, next=None):\n",
    "        self.val = val\n",
    "        self.prev = prev\n",
    "        self.next = next\n",
    "\n",
    "class BrowserHistory:\n",
    "    def __init__(self, homepage: str):\n",
    "        self.curr = ListNode(val = homepage)\n",
    "\n",
    "    def visit(self, url: str) -> None:\n",
    "        self.curr.next = ListNode(val = url, prev = self.curr)\n",
    "        self.curr = self.curr.next\n",
    "\n",
    "    def back(self, steps: int) -> str:\n",
    "        while self.curr.prev != None and steps > 0:\n",
    "            self.curr = self.curr.prev\n",
    "            steps -= 1\n",
    "\n",
    "        return self.curr.val\n",
    "\n",
    "    def forward(self, steps: int) -> str:\n",
    "        while self.curr.next != None and steps > 0:\n",
    "            self.curr = self.curr.next\n",
    "            steps -= 1\n",
    "        \n",
    "        return self.curr.val"
   ]
  }
 ],
 "metadata": {
  "kernelspec": {
   "display_name": "Python 3 (ipykernel)",
   "language": "python",
   "name": "python3"
  },
  "language_info": {
   "codemirror_mode": {
    "name": "ipython",
    "version": 3
   },
   "file_extension": ".py",
   "mimetype": "text/x-python",
   "name": "python",
   "nbconvert_exporter": "python",
   "pygments_lexer": "ipython3",
   "version": "3.10.14"
  }
 },
 "nbformat": 4,
 "nbformat_minor": 5
}

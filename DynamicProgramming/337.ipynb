{
 "cells": [
  {
   "cell_type": "markdown",
   "id": "009257eb",
   "metadata": {},
   "source": [
    "# Approach\n",
    "<!-- Describe your approach to solving the problem. -->\n",
    "本道题和968结合起来\n",
    "\n",
    "\n",
    "# Note\n",
    "\n",
    "\n",
    "# Code"
   ]
  },
  {
   "cell_type": "code",
   "execution_count": null,
   "id": "e281de5d",
   "metadata": {},
   "outputs": [],
   "source": [
    "# dp; Time: O(n), Space: (n)\n",
    "class Solution:\n",
    "    def rob(self, nums: List[int]) -> int:\n",
    "        if len(nums) == 1:\n",
    "            return nums[0]\n",
    "        if len(nums) == 2:\n",
    "            return max(nums[0], nums[1])\n",
    "        # 情况二，不考虑最后一个\n",
    "        dp1 = self.rob198(nums, 0, len(nums) - 2)\n",
    "        # 情况一，不考虑第一个\n",
    "        dp2 = self.rob198(nums, 1, len(nums) - 1)\n",
    "        return max(dp1, dp2)\n",
    "    \n",
    "    # 198题的逻辑\n",
    "    # start和end表示起止坐标，0<=start<=end<=len(nums) - 1\n",
    "    def rob198(self, nums, start, end):\n",
    "        dp = [0] * len(nums)\n",
    "        dp[start] = nums[start]\n",
    "        dp[start + 1] = max(nums[start], nums[start + 1])\n",
    "        for i in range(start + 2, end + 1):\n",
    "            dp[i] = max(dp[i - 1], dp[i - 2] + nums[i])\n",
    "        return dp[end]"
   ]
  },
  {
   "cell_type": "code",
   "execution_count": null,
   "id": "690e2dd8",
   "metadata": {},
   "outputs": [],
   "source": [
    "# 空间优化; Time: O(n), Space: O(1)\n",
    "class Solution:\n",
    "    def rob(self, nums: List[int]) -> int:\n",
    "        if len(nums) == 1:\n",
    "            return nums[0]\n",
    "        if len(nums) == 2:\n",
    "            return max(nums[0], nums[1])\n",
    "        \n",
    "        dp1 = self.rob198(nums, 0, len(nums) - 2)\n",
    "        dp2 = self.rob198(nums, 1, len(nums) - 1)\n",
    "        return max(dp1, dp2)\n",
    "    \n",
    "    # 198题的逻辑\n",
    "    # start和end表示起止坐标，0<=start<=end<=len(nums) - 1\n",
    "    def rob198(self, nums, start, end):\n",
    "        dp = [nums[start], max(nums[start], nums[start + 1])]\n",
    "        for i in range(start + 2, end + 1):\n",
    "            dpi = max(dp[1], dp[0] + nums[i])\n",
    "            dp[0] = dp[1]\n",
    "            dp[1] = dpi\n",
    "        return dp[1]"
   ]
  }
 ],
 "metadata": {
  "kernelspec": {
   "display_name": "Python 3 (ipykernel)",
   "language": "python",
   "name": "python3"
  },
  "language_info": {
   "codemirror_mode": {
    "name": "ipython",
    "version": 3
   },
   "file_extension": ".py",
   "mimetype": "text/x-python",
   "name": "python",
   "nbconvert_exporter": "python",
   "pygments_lexer": "ipython3",
   "version": "3.10.9"
  }
 },
 "nbformat": 4,
 "nbformat_minor": 5
}

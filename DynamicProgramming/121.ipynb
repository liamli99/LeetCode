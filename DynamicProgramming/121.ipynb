{
 "cells": [
  {
   "cell_type": "markdown",
   "id": "009257eb",
   "metadata": {},
   "source": [
    "# Approach\n",
    "<!-- Describe your approach to solving the problem. -->\n",
    "注意本题股票只能买卖一次，而且卖的时候必须要在未来的不同的日子(different day in the future)！\n",
    "\n",
    "方法一：贪心。取最左边的最小值和最右边的最大值，两边的差值就是最大利润！ \n",
    "\n",
    "方法二：动态规划。由于每天可以有两种状态：买入和卖出，我们用dp0[i]和dp1[i]分别去表示！其实就是两个动规的变量！\n",
    "1. 含义：dp0[i]表示第0-i天(中的某一天)买入股票所剩最大金额！dp1[i]表示第0-i天(中的某一天)卖出股票所剩最大金额，即题目所要求的最大利润！\n",
    "\n",
    "2. 递推公式：对于dp0[i]，可以不买第i天的股票，那么dp0[i]=dp0[i-1]；也可以买第i天的股票，那么dp0[i]=-prices[i]，这是因为只能买卖股票一次，买股票之前身上没有任何钱！由于dp0[i]的含义是最大金额，dp0[i]=max(dp0[i-1],-prices[i])。同理，对于dp1[i]，可以不卖第i天的股票，那么dp1[i]=dp1[i-1]；也可以卖第i天的股票，那么剩余金额等于之前第0-(i-1)中的某一天买该股票剩的钱加上第i天卖的钱，即dp1[i]=dp0[i-1]+prices[i]。注意这里有dp0[i-1]，这表示这支股票是在第0-(i-1)中某一天买的，符合题目要求“未来的某一个不同的日子卖出该股票”！！！由于dp1[i]的含义是最大金额，dp1[i]=max(dp1[i-1],dp0[i-1]+prices[i])。\n",
    "\n",
    "3. 初始化：dp0[0]=-prices[i]，dp1[0]=0\n",
    "\n",
    "4. 遍历顺序：从前往后\n",
    "\n",
    "# Note\n",
    "\n",
    "\n",
    "# Code"
   ]
  },
  {
   "cell_type": "code",
   "execution_count": null,
   "id": "e281de5d",
   "metadata": {},
   "outputs": [],
   "source": [
    "# 贪心; Time: O(n), Space: O(1)\n",
    "class Solution:\n",
    "    def maxProfit(self, prices: List[int]) -> int:\n",
    "        # 注意一开始必须是正无穷这样才能保证第一个值一定赋给low！\n",
    "        low = float('inf')\n",
    "        result = 0\n",
    "        for i in range(len(prices)):\n",
    "            low = min(low, prices[i])\n",
    "            result = max(result, prices[i] - low)\n",
    "\n",
    "        return result"
   ]
  },
  {
   "cell_type": "code",
   "execution_count": null,
   "id": "147f1975",
   "metadata": {},
   "outputs": [],
   "source": [
    "# 动态规划; Time: O(n), Space: O(n)\n",
    "# 当然也可以构建一个两列的数组，每列分别代表dp0和dp1！本质是一样的！\n",
    "class Solution:\n",
    "    def maxProfit(self, prices: List[int]) -> int:\n",
    "        dp0 = [0] * len(prices)\n",
    "        dp1 = [0] * len(prices)\n",
    "        # 初始化\n",
    "        dp0[0] = -prices[0]\n",
    "        dp1[0] = 0\n",
    "        # 从前往后遍历\n",
    "        for i in range(1, len(prices)):\n",
    "            # 买股票\n",
    "            dp0[i] = max(dp0[i - 1], -prices[i])\n",
    "            # 卖股票\n",
    "            # dp1[i] = max(dp1[i - 1], dp0[i] + prices[i])\n",
    "            dp1[i] = max(dp1[i - 1], dp0[i - 1] + prices[i])\n",
    "        \n",
    "        return dp1[len(prices) - 1]\n",
    "\n",
    "# 动态规划，空间优化; Time: O(n), Space: O(1)\n",
    "class Solution:\n",
    "    def maxProfit(self, prices: List[int]) -> int:\n",
    "\n",
    "        dp0 = -prices[0]\n",
    "        dp1 = 0\n",
    "        \n",
    "        for i in range(1, len(prices)):\n",
    "            # 注意这里应该先dp1再dp0，因为dp0的更新只和自己有关，但是dp1的更新取决于上一次的dp0！所以应该先更新dp1！\n",
    "            # 但实际上由于dp1[i]可以等于max(dp1[i-1], dp0[i]+prices[i])，这里的dp1和dp0可以更换位置！\n",
    "            dp1 = max(dp1, dp0 + prices[i])\n",
    "            dp0 = max(dp0, -prices[i])\n",
    "            \n",
    "        return dp1"
   ]
  }
 ],
 "metadata": {
  "kernelspec": {
   "display_name": "Python 3 (ipykernel)",
   "language": "python",
   "name": "python3"
  },
  "language_info": {
   "codemirror_mode": {
    "name": "ipython",
    "version": 3
   },
   "file_extension": ".py",
   "mimetype": "text/x-python",
   "name": "python",
   "nbconvert_exporter": "python",
   "pygments_lexer": "ipython3",
   "version": "3.10.9"
  }
 },
 "nbformat": 4,
 "nbformat_minor": 5
}

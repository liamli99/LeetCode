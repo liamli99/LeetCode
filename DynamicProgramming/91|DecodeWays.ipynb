{
 "cells": [
  {
   "cell_type": "markdown",
   "id": "009257eb",
   "metadata": {},
   "source": [
    "# Approach\n",
    "<!-- Describe your approach to solving the problem. -->\n",
    "这题答案用了memorization，但是我硬做出来了。\n",
    "\n",
    "# Note\n",
    "\n",
    "\n",
    "# Code"
   ]
  },
  {
   "cell_type": "code",
   "execution_count": null,
   "id": "e281de5d",
   "metadata": {},
   "outputs": [],
   "source": [
    "class Solution:\n",
    "    def numDecodings(self, s: str) -> int:\n",
    "        if len(s) == 1:\n",
    "            return 0 if s[0] == \"0\" else 1\n",
    "        \n",
    "        dp = [0] * len(s)\n",
    "\n",
    "        if s[0] == \"0\":\n",
    "            dp[0] = 0\n",
    "            dp[1] = 0\n",
    "        else:\n",
    "            dp[0] = 1\n",
    "            if s[1] == \"0\" and int(s[0]) > 2:\n",
    "                dp[1] = 0\n",
    "            elif s[1] == \"0\" and 1 <= int(s[0]) <= 2:\n",
    "                dp[1] = 1\n",
    "            elif int(s[0 : 2]) <= 26:\n",
    "                dp[1] = 2\n",
    "            else:\n",
    "                dp[1] = 1\n",
    "        \n",
    "        for i in range(2, len(s)):\n",
    "            if s[i] == \"0\" and 1 <= int(s[i - 1]) <= 2:\n",
    "                dp[i] = dp[i - 2]\n",
    "            elif s[i] == \"0\" and (int(s[i - 1]) > 2 or int(s[i - 1]) == 0):\n",
    "                dp[i] = 0\n",
    "            elif int(s[i - 1]) == 0:\n",
    "                dp[i] = dp[i - 1]\n",
    "            elif int(s[i - 1 : i + 1]) <= 26:\n",
    "                dp[i] = dp[i - 1] + dp[i - 2]\n",
    "            else:\n",
    "                dp[i] = dp[i - 1]\n",
    "        \n",
    "        return dp[-1]"
   ]
  }
 ],
 "metadata": {
  "kernelspec": {
   "display_name": "Python 3 (ipykernel)",
   "language": "python",
   "name": "python3"
  },
  "language_info": {
   "codemirror_mode": {
    "name": "ipython",
    "version": 3
   },
   "file_extension": ".py",
   "mimetype": "text/x-python",
   "name": "python",
   "nbconvert_exporter": "python",
   "pygments_lexer": "ipython3",
   "version": "3.10.9"
  }
 },
 "nbformat": 4,
 "nbformat_minor": 5
}

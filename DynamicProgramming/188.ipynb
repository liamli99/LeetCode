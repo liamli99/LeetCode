{
 "cells": [
  {
   "cell_type": "markdown",
   "id": "009257eb",
   "metadata": {},
   "source": [
    "# Approach\n",
    "<!-- Describe your approach to solving the problem. -->\n",
    "本题基本类似123，只不过现在是至多买卖股票k次。   \n",
    "    \n",
    "照着第123题修改即可。   \n",
    "\n",
    "# Note\n",
    "\n",
    "\n",
    "# Code"
   ]
  },
  {
   "cell_type": "code",
   "execution_count": null,
   "id": "52f0d051",
   "metadata": {},
   "outputs": [],
   "source": [
    "# 动态规划; Time: O(n), Space: O(n)\n",
    "# 为了方便直接构建一个2k*len(prices)的二阶数组！\n",
    "class Solution:\n",
    "    def maxProfit(self, k: int, prices: List[int]) -> int:\n",
    "        dp = [[0] * len(prices) for _ in range(2 * k)]\n",
    "\n",
    "        for i in range(2 * k):\n",
    "            if i % 2 == 0:\n",
    "                dp[i][0] = -prices[0]\n",
    "        \n",
    "        for i in range(1, len(prices)):\n",
    "            dp[0][i] = max(dp[0][i - 1], -prices[i])\n",
    "            for j in range(1, 2 * k):\n",
    "                if j % 2 == 1:\n",
    "                    dp[j][i] = max(dp[j][i - 1], dp[j - 1][i - 1] + prices[i])\n",
    "                else:\n",
    "                    dp[j][i] = max(dp[j][i - 1], dp[j - 1][i - 1] - prices[i])\n",
    "        \n",
    "        return dp[2 * k - 1][len(prices) - 1]\n",
    "\n",
    "\n",
    "# 动态规划，空间优化; Time: O(k*n), Space: O(k)\n",
    "class Solution:\n",
    "    def maxProfit(self, k: int, prices: List[int]) -> int:\n",
    "        dp = [0] * 2 * k\n",
    "        \n",
    "        for i in range(2 * k):\n",
    "            if i % 2 == 0:\n",
    "                dp[i] = -prices[0]\n",
    "        \n",
    "        for i in range(1, len(prices)):\n",
    "            dp[0] = max(dp[0], -prices[i])\n",
    "            for j in range(1, 2 * k):\n",
    "                if j % 2 == 1:\n",
    "                    dp[j] = max(dp[j], dp[j - 1] + prices[i])\n",
    "                else:\n",
    "                    dp[j] = max(dp[j], dp[j - 1] - prices[i])\n",
    "        \n",
    "        return dp[2 * k - 1]"
   ]
  }
 ],
 "metadata": {
  "kernelspec": {
   "display_name": "Python 3 (ipykernel)",
   "language": "python",
   "name": "python3"
  },
  "language_info": {
   "codemirror_mode": {
    "name": "ipython",
    "version": 3
   },
   "file_extension": ".py",
   "mimetype": "text/x-python",
   "name": "python",
   "nbconvert_exporter": "python",
   "pygments_lexer": "ipython3",
   "version": "3.10.9"
  }
 },
 "nbformat": 4,
 "nbformat_minor": 5
}

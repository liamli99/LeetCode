{
 "cells": [
  {
   "cell_type": "markdown",
   "id": "009257eb",
   "metadata": {},
   "source": [
    "# Approach\n",
    "\n",
    "\n",
    "# Code"
   ]
  },
  {
   "cell_type": "code",
   "execution_count": null,
   "id": "82728380",
   "metadata": {},
   "outputs": [],
   "source": [
    "class Solution:\n",
    "    def coinChange(self, coins: List[int], amount: int) -> int:\n",
    "        # amount+1就是dp[i]的上限了，在这里的作用相当于float('inf')。当i=amount且coins中有大小为1的硬币且全都取这种硬币也就amount个！\n",
    "        dp = [amount + 1] * (amount + 1)\n",
    "        dp[0] = 0\n",
    "\n",
    "        for i in range(1, amount + 1):\n",
    "            # 此时不再是只能走1或2步，而是有coins可以选择！\n",
    "            for coin in coins:\n",
    "                if i - coin >= 0:\n",
    "                    dp[i] = min(dp[i], 1 + dp[i - coin])\n",
    "        \n",
    "        # 如果dp的值改变了，不是初始值amount+1，这就意味找到了答案，而且该答案就是最少数量\n",
    "        if dp[amount] != amount + 1:\n",
    "            return dp[amount]\n",
    "        # 如果dp的值没有改变，说明找不到coins的组合使其和为amount！\n",
    "        else:\n",
    "            return -1"
   ]
  },
  {
   "cell_type": "code",
   "execution_count": null,
   "id": "e281de5d",
   "metadata": {},
   "outputs": [],
   "source": [
    "# 错误的！我原来用backtracking写的答案！\n",
    "class Solution:\n",
    "    num = 0\n",
    "\n",
    "    def coinChange(self, coins: List[int], amount: int) -> int:\n",
    "        coins.sort()\n",
    "        path = []\n",
    "        if self.backtracking(coins, amount, 0, path):\n",
    "            return self.num\n",
    "        else:\n",
    "            return -1\n",
    "    \n",
    "    def backtracking(self, coins, amount, startIndex, path):\n",
    "        if sum(path) > amount:\n",
    "            return\n",
    "        \n",
    "        if sum(path) == amount:\n",
    "            return True\n",
    "        \n",
    "        for i in range(startIndex, len(coins)):\n",
    "            path.append(coins[i])\n",
    "            self.num += 1\n",
    "            if self.backtracking(coins, amount, i, path):\n",
    "                return True\n",
    "            path.pop()\n",
    "            self.num -= 1\n",
    "        \n",
    "        return False"
   ]
  }
 ],
 "metadata": {
  "kernelspec": {
   "display_name": "Python 3 (ipykernel)",
   "language": "python",
   "name": "python3"
  },
  "language_info": {
   "codemirror_mode": {
    "name": "ipython",
    "version": 3
   },
   "file_extension": ".py",
   "mimetype": "text/x-python",
   "name": "python",
   "nbconvert_exporter": "python",
   "pygments_lexer": "ipython3",
   "version": "3.10.9"
  }
 },
 "nbformat": 4,
 "nbformat_minor": 5
}

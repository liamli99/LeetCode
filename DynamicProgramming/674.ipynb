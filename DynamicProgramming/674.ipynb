{
 "cells": [
  {
   "cell_type": "markdown",
   "id": "009257eb",
   "metadata": {},
   "source": [
    "# Approach\n",
    "<!-- Describe your approach to solving the problem. -->\n",
    "注意本题和300的区别，本题是“连续递增子序列”，因此dp[i]完全依赖于dp[i-1]！   \n",
    "\n",
    "1. 含义：dp[i]表示以nums[i]结尾的最长连续递增子序列的长度为dp[i]！由于是递增，还是得这么定义！\n",
    "\n",
    "2. 递推公式：本题dp[i]完全依赖于dp[i-1]！当nums[i]>nums[i-1]时，由于是连续递增子序列，nums[i]只能放在以nums[i-1]结尾的子序列后面！不用考虑其他nums！此时dp[i]=dp[i-1]+1。当nums[i]<=nums[i-1]时，nums[i]不能放到以nums[i-1]结尾的子序列后面，连续递增子序列在这里断开！因此以nums[i]结尾的连续递增子序列只能是nums[i]本身，此时dp[i]=1。\n",
    "\n",
    "3. 初始化：dp[0]=1，此外我们构建dp时初始值都是1！因为以任何nums[i]结尾的子序列至少有一个，就是nums[i]本身！\n",
    "\n",
    "4. 遍历顺序：从前往后\n",
    "\n",
    "也可以用贪心来做！\n",
    "\n",
    "# Note\n",
    "\n",
    "\n",
    "# Code"
   ]
  },
  {
   "cell_type": "code",
   "execution_count": null,
   "id": "e281de5d",
   "metadata": {},
   "outputs": [],
   "source": [
    "# dp\n",
    "class Solution:\n",
    "    def findLengthOfLCIS(self, nums: List[int]) -> int:\n",
    "        dp = [1] * len(nums)\n",
    "\n",
    "        for i in range(1, len(nums)):\n",
    "            if nums[i] > nums[i - 1]:\n",
    "                dp[i] = dp[i - 1] + 1\n",
    "        \n",
    "        return max(dp)"
   ]
  },
  {
   "cell_type": "code",
   "execution_count": null,
   "id": "97923225",
   "metadata": {},
   "outputs": [],
   "source": [
    "# 贪心"
   ]
  }
 ],
 "metadata": {
  "kernelspec": {
   "display_name": "Python 3 (ipykernel)",
   "language": "python",
   "name": "python3"
  },
  "language_info": {
   "codemirror_mode": {
    "name": "ipython",
    "version": 3
   },
   "file_extension": ".py",
   "mimetype": "text/x-python",
   "name": "python",
   "nbconvert_exporter": "python",
   "pygments_lexer": "ipython3",
   "version": "3.10.9"
  }
 },
 "nbformat": 4,
 "nbformat_minor": 5
}

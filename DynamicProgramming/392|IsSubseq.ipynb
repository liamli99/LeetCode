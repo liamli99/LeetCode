{
 "cells": [
  {
   "cell_type": "markdown",
   "id": "009257eb",
   "metadata": {},
   "source": [
    "# Approach\n",
    "本题最简单的做法见two pointers！   \n",
    "\n",
    "本题基本类似1143！！！根据1143的总结，由于本题不是连续也不是递增子序列，我不能用以xxx结尾的定义！选择参考1143的定义\n",
    "\n",
    "1. 含义：dp[i][j]表示从s[0]到s[i]的字符串是否在t[0]到t[j]的字符串中！\n",
    "\n",
    "2. 递推公式：当s[i]==s[j]时，找到了一个公共元素，现在就要看s[0]到s[i-1]的字符串是否在t[0]到t[j-1]的字符串中，即dp[i][j]=dp[i-1][j-1]。当s[i]!=s[j]时，现在要看s[0]到s[i]的字符串是否在t[0]到t[j-1]的字符串中，即dp[i][j]=dp[i][j-1]。\n",
    "\n",
    "3. 初始化：t中的每一个元素和s[0]比较，如果有相等，dp[0][j]=1，且接下来所有的dp[0][j]都是1！注意接下来不需要s中的每个元素和t[0]比较！因为t[0]只有一个元素不可能包含从s[0]一直到s[i]的字符串的！即dp[i][0]=False！可以一开始定义二维数组就把初始值赋予False！\n",
    "\n",
    "4. 遍历顺序：从前往后\n",
    "\n",
    "# Note\n",
    "要注意一下这道题s和t可以为空字符串！所以我们要把s为空t为空，s为空t不为空，s不为空t为空三种情况讨论掉！但由于s为空的时候s必然是t的子序列，其实只需要讨论两种情况！即s为空和s不为空t为空！\n",
    "\n",
    "# Code"
   ]
  },
  {
   "cell_type": "code",
   "execution_count": null,
   "id": "e281de5d",
   "metadata": {},
   "outputs": [],
   "source": [
    "# 二维数组; Time: O(m * n), Space: O(m * n)，其中m，n分别表示s和t的长度！\n",
    "class Solution:\n",
    "    def isSubsequence(self, s: str, t: str) -> bool:\n",
    "        # s为空t为空和s为空t不为空都是True！\n",
    "        if len(s) == 0:\n",
    "            return True\n",
    "        # s不为空t为空是False！\n",
    "        if len(s) != 0 and len(t) == 0:\n",
    "            return False\n",
    "\n",
    "        dp = [[False] * len(t) for _ in range(len(s))]\n",
    "        \n",
    "        for j in range(len(t)):\n",
    "            if t[j] == s[0]:\n",
    "                for k in range(j, len(t)):\n",
    "                    dp[0][k] = True\n",
    "        \n",
    "        for i in range(1, len(s)):\n",
    "            for j in range(1, len(t)):\n",
    "                if s[i] == t[j]:\n",
    "                    dp[i][j] = dp[i - 1][j - 1]\n",
    "                else:\n",
    "                    dp[i][j] = dp[i][j - 1]\n",
    "        \n",
    "        return dp[len(s) - 1][len(t) - 1]"
   ]
  }
 ],
 "metadata": {
  "kernelspec": {
   "display_name": "Python 3 (ipykernel)",
   "language": "python",
   "name": "python3"
  },
  "language_info": {
   "codemirror_mode": {
    "name": "ipython",
    "version": 3
   },
   "file_extension": ".py",
   "mimetype": "text/x-python",
   "name": "python",
   "nbconvert_exporter": "python",
   "pygments_lexer": "ipython3",
   "version": "3.10.9"
  }
 },
 "nbformat": 4,
 "nbformat_minor": 5
}

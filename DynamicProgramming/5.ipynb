{
 "cells": [
  {
   "cell_type": "markdown",
   "id": "009257eb",
   "metadata": {},
   "source": [
    "# Approach\n",
    "<!-- Describe your approach to solving the problem. -->\n",
    "完全类似647，都是回文子串的应用！两道题对dp[i][j]的定义完全相同！但是目的不一样，647要求回文子串总和，本题要求最长的回文子串。\n",
    "\n",
    "# Note\n",
    "A string is a palindrome when it reads the same backward as forward.\n",
    "\n",
    "A substring is a contiguous sequence of characters within the string.\n",
    "\n",
    "# Code"
   ]
  },
  {
   "cell_type": "code",
   "execution_count": null,
   "id": "e281de5d",
   "metadata": {},
   "outputs": [],
   "source": [
    "# dp; Time: O(n^2), Space: O(n^2)\n",
    "class Solution:\n",
    "    def longestPalindrome(self, s: str) -> str:\n",
    "        dp = [[False] * len(s) for _ in range(len(s))]\n",
    "\n",
    "        maxLen = 1\n",
    "        left = 0\n",
    "        right = 0\n",
    "\n",
    "        dp[len(s) - 1][len(s) - 1] = True\n",
    "        dp[0][0] = True   \n",
    "\n",
    "        for i in range(len(s) - 2, -1, -1):\n",
    "            for j in range(max(i, 1), len(s)):\n",
    "                if s[i] != s[j]:\n",
    "                    dp[i][j] = False\n",
    "                else:\n",
    "                    if i == j or i == j - 1:\n",
    "                        dp[i][j] = True\n",
    "                        if j - i + 1 > maxLen:\n",
    "                            maxLen = j - i + 1\n",
    "                            left = i\n",
    "                            right = j\n",
    "                    else:\n",
    "                        dp[i][j] = dp[i + 1][j - 1]\n",
    "                        if dp[i][j]:\n",
    "                            if j - i + 1 > maxLen:\n",
    "                                maxLen = j - i + 1\n",
    "                                left = i\n",
    "                                right = j\n",
    "        # 注意python string slicing，取不到最右边！\n",
    "        return s[left: right + 1]"
   ]
  }
 ],
 "metadata": {
  "kernelspec": {
   "display_name": "Python 3 (ipykernel)",
   "language": "python",
   "name": "python3"
  },
  "language_info": {
   "codemirror_mode": {
    "name": "ipython",
    "version": 3
   },
   "file_extension": ".py",
   "mimetype": "text/x-python",
   "name": "python",
   "nbconvert_exporter": "python",
   "pygments_lexer": "ipython3",
   "version": "3.10.9"
  }
 },
 "nbformat": 4,
 "nbformat_minor": 5
}

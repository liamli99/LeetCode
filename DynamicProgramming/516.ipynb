{
 "cells": [
  {
   "cell_type": "markdown",
   "id": "009257eb",
   "metadata": {},
   "source": [
    "# Approach\n",
    "<!-- Describe your approach to solving the problem. -->\n",
    "注意本题和647的区别！647是回文子串，指的是string中连续的且满足回文条件的部分！本题是回文子序列，指的是string中删除0个或多个字符剩下的且满足回文条件的部分！   \n",
    "\n",
    "我一开始想，dp的定义可不可以类似647呢？即dp[i][j]表示从s[i]到s[j]的字符串是否包含回子序列，dp[i][j]的值是True or False，但是对于解题没帮助！哪怕知道了有回文子序列，我也不知道要不要删除元素，或者要删除多少元素才能变成最长的回文子序列！这个和回文子串不一样，当我知道是回文子串时，其长度就已经确定了，即j-i+1！   \n",
    "\n",
    "1. 含义：dp[i][j]表示在s[i]到s[j]中的最长回文子序列的长度！\n",
    "\n",
    "2. 递推公式：如果s[i]!=s[j]，那么至少要删去s[i]或s[j]中的一个才有可能得到回文子序列！假如删去s[i]，那么只需要求s[i+1]到s[j]的最长回文子序列的长度！dp[i][j]=dp[i+1][j]。假如删去s[j]，那么只需要求s[i]到s[j-1]的最长回文子序列的长度！dp[i][j]=dp[i][j-1]。由于dp的含义是最长的长度，因此dp=max(dp[i+1][j],dp[i][j-1])。如果s[i]==s[j]，有三种情况：(1)i==j，只有一个元素因此长度为1！(2)i==j-1，仅有两个相等的元素因此长度为2！注意！之所以要考虑这两种情况是因为接下来的第三种情况的递推公式导致的！(3)i<j-1，此时有大于等于三个元素！那么s[i]和s[j]这两个字符可以保留，我只需要求s[i+1]到s[j-1]之间的最长回文子序列的长度！dp[i][j]=dp[i+1][j-1]+2，注意这里加2指的是s[i]和s[j]这两个字符。\n",
    "\n",
    "3. 初始化：根据下面的遍历顺序，很明显我们要先初始化最下面一层和最左边一列！根据dp的定义，j>=i，因此只有左上方的dp[0][0]和右下方的dp[len(s)-1][len(s)-1]有意义！值都为1，因为仅有一个字符。\n",
    "\n",
    "4. 遍历顺序：注意递推公式dp[i][j]=dp[i+1][j-1]+2，这表示该dp是由其左下方的推出来的！因此我们必须确保左下方有值！因此我们选择从下往上，从左往右的两层遍历顺序！第二层从左往右遍历的时候注意不能从0开始，而要从j=i开始，这是因为根据dp的定义j是右侧的index必须大于等于左侧的index！\n",
    "\n",
    "\n",
    "# Note\n",
    "516：A subsequence is a sequence that can be derived from another sequence by deleting some or no elements without changing the order of the remaining elements.\n",
    "\n",
    "647：A substring is a contiguous sequence of characters within the string.\n",
    "\n",
    "# Code"
   ]
  },
  {
   "cell_type": "code",
   "execution_count": null,
   "id": "e281de5d",
   "metadata": {},
   "outputs": [],
   "source": [
    "# dp; Time: O(n^2), Space: O(n^2)\n",
    "class Solution:\n",
    "    def longestPalindromeSubseq(self, s: str) -> int:\n",
    "        dp = [[False] * len(s) for _ in range(len(s))]\n",
    "        result = 0\n",
    "\n",
    "        dp[len(s) - 1][len(s) - 1] = 1\n",
    "        dp[0][0] = 1\n",
    "\n",
    "        for i in range(len(s) - 2, -1, -1):\n",
    "            for j in range(max(i, 1), len(s)):\n",
    "                if s[i] != s[j]:\n",
    "                    dp[i][j] = max(dp[i + 1][j], dp[i][j - 1])\n",
    "                else:\n",
    "                    if i == j or i == j - 1:\n",
    "                        dp[i][j] = j - i + 1\n",
    "                    else:\n",
    "                        dp[i][j] = dp[i + 1][j - 1] + 2\n",
    "        \n",
    "        return dp[0][len(s) - 1]\n",
    "\n",
    "# dp，代码更简洁\n",
    "class Solution:\n",
    "    def longestPalindromeSubseq(self, s: str) -> int:\n",
    "        dp = [[0] * len(s) for _ in range(len(s))]\n",
    "        for i in range(len(s)):\n",
    "            dp[i][i] = 1\n",
    "        for i in range(len(s)-1, -1, -1):\n",
    "            for j in range(i+1, len(s)):\n",
    "                if s[i] == s[j]:\n",
    "                    dp[i][j] = dp[i+1][j-1] + 2\n",
    "                else:\n",
    "                    dp[i][j] = max(dp[i+1][j], dp[i][j-1])\n",
    "        return dp[0][-1]"
   ]
  }
 ],
 "metadata": {
  "kernelspec": {
   "display_name": "Python 3 (ipykernel)",
   "language": "python",
   "name": "python3"
  },
  "language_info": {
   "codemirror_mode": {
    "name": "ipython",
    "version": 3
   },
   "file_extension": ".py",
   "mimetype": "text/x-python",
   "name": "python",
   "nbconvert_exporter": "python",
   "pygments_lexer": "ipython3",
   "version": "3.10.9"
  }
 },
 "nbformat": 4,
 "nbformat_minor": 5
}

{
 "cells": [
  {
   "cell_type": "markdown",
   "id": "009257eb",
   "metadata": {},
   "source": [
    "# Approach\n",
    "<!-- Describe your approach to solving the problem. -->\n",
    "注意本题的子序列是连续子序列！所以类似674！   \n",
    "\n",
    "基本思路：假如在nums1和nums2中有一个最大重复连续子序列，这个子序列的最后一个元素(最右边)在nums1和nums2中的index分别为i和j。那么一定有nums[i]==nums[j]，nums[i-1]==nums[j-1]......一直到子序列的第一个元素为止！同时以最后一个元素(i,j)结尾的子序列的长度等于以倒数第二个元素(i-1,j-1)结尾的子序列的长度加1！于是我们找到一个规律：当nums1[i]==nums2[j]时，以(i,j)结尾的最大重复连续子序列的长度=以(i-1,j-1)结尾的最大重复连续子序列的长度 + 1！！！当nums1[i]!=nums2[j]时，...等于0！\n",
    "\n",
    "综上，由于涉及到nums1和nums2两个数组，我们需要遍历这两个数组去找相同的元素(最大重复连续子序列)，因此我们需要设计一个二维数组，两个维度分别对应nums1和nums2的index！   \n",
    "\n",
    "1. 含义：dp[i][j]表示以nums1[i]和nums2[j]结尾的最大重复连续子序列的长度为dp[i][j]。\n",
    "\n",
    "2. 递推公式：结尾的元素只能有一个，当nums1[i]==nums2[j]时，这两个相同的元素才能作为重复子序列的结尾！此时dp[i][j]=dp[i-1][j-1]+1。当nums1[i]!=nums2[j]时，两个元素都不相等所以没有重复子序列以它们结尾！dp[i][j]=0。\n",
    "\n",
    "3. 初始化：nums1中的每一个元素和nums2[0]比较，如果相等，dp[i][0]=1，否则等于0。nums2中的每一个元素和nums1[0]比较，如果相等，dp[0][j]=1，否则等于0！\n",
    "\n",
    "4. 遍历顺序：两次遍历，类似62，63\n",
    "\n",
    "# Note\n",
    "A subarray is a contiguous non-empty sequence of elements within an array.    \n",
    "根据leetcode的定义，subsequence指的是可以不连续的子序列，但是subarray必须是连续子序列！！！\n",
    "\n",
    "# Code"
   ]
  },
  {
   "cell_type": "code",
   "execution_count": null,
   "id": "e281de5d",
   "metadata": {},
   "outputs": [],
   "source": [
    "# 二维数组; Time: O(m * n), Space: O(m * n)，其中m，n分别表示nums1和nums2的长度！\n",
    "class Solution:\n",
    "    def findLength(self, nums1: List[int], nums2: List[int]) -> int:\n",
    "        dp = [[0] * len(nums2) for _ in range(len(nums1))]\n",
    "        \n",
    "        for i in range(len(nums1)):\n",
    "            if nums1[i] == nums2[0]:\n",
    "                dp[i][0] = 1\n",
    "        \n",
    "        for j in range(len(nums2)):\n",
    "            if nums1[0] == nums2[j]:\n",
    "                dp[0][j] = 1\n",
    "        \n",
    "        for i in range(1, len(nums1)):\n",
    "            for j in range(1, len(nums2)):\n",
    "                if nums1[i] == nums2[j]:\n",
    "                    dp[i][j] = dp[i - 1][j - 1] + 1\n",
    "        \n",
    "        # 由于循环是从第二行第二列开始，不能在循环里面找最大值，因为没法和第一行和第一列比较！        \n",
    "        result = [0] * len(dp)\n",
    "        for i in range(len(dp)):\n",
    "            result[i] = max(dp[i])\n",
    "        return max(result)"
   ]
  },
  {
   "cell_type": "code",
   "execution_count": null,
   "id": "69f8321f",
   "metadata": {},
   "outputs": [],
   "source": [
    "# 一维滚动数组，类似63！好好和63比较一下！Time: O(m * n), Space: O(n)，其中m，n分别表示nums1和nums2的长度！\n",
    "# 三个注意点：\n",
    "# 1. if后面要有else令dp=0！不然就变成dp[j]=dp[j-1]了，实际上如果不相等就不存在以它们结尾的重复子序列！\n",
    "# 2. result在第一个for loop里面！记录每一行的最大值！\n",
    "# 3. 对列遍历的时候要从后往前！如果从前往后更新，那就变成了dp[i][j]=dp[i][j-1]+1！由于有j-1还必须单独讨论一下j=0的情况！即先从后往前\n",
    "#    遍历列，再if讨论第一列！63题是先if讨论第一列，在从左往右遍历剩下的列！这是由于二者的递推公式不同导致的！\n",
    "class Solution:\n",
    "    def findLength(self, nums1: List[int], nums2: List[int]) -> int:\n",
    "        dp = [0] * len(nums2)\n",
    "        # 第一行\n",
    "        for j in range(len(nums2)):\n",
    "            if nums1[0] == nums2[j]:\n",
    "                dp[j] = 1\n",
    "        \n",
    "        result = max(dp)\n",
    "        # 第二行一直到最后一行\n",
    "        for i in range(1, len(nums1)):\n",
    "            # 每行最后一个元素到第二个元素！第一个元素要单独讨论因为递推公式中j>=1不能取0！\n",
    "            for j in range(len(nums2) - 1, 0, -1):\n",
    "                if nums1[i] == nums2[j]:\n",
    "                    dp[j] = dp[j - 1] + 1\n",
    "                else:\n",
    "                    dp[j] = 0\n",
    "            # 单独讨论第一个元素(第一列)\n",
    "            if nums1[i] == nums2[0]:\n",
    "                dp[0] = 1\n",
    "            else:\n",
    "                dp[0] = 0\n",
    "            \n",
    "            result = max(result, max(dp))\n",
    "        \n",
    "        return result"
   ]
  }
 ],
 "metadata": {
  "kernelspec": {
   "display_name": "Python 3 (ipykernel)",
   "language": "python",
   "name": "python3"
  },
  "language_info": {
   "codemirror_mode": {
    "name": "ipython",
    "version": 3
   },
   "file_extension": ".py",
   "mimetype": "text/x-python",
   "name": "python",
   "nbconvert_exporter": "python",
   "pygments_lexer": "ipython3",
   "version": "3.10.9"
  }
 },
 "nbformat": 4,
 "nbformat_minor": 5
}

{
 "cells": [
  {
   "cell_type": "markdown",
   "id": "009257eb",
   "metadata": {},
   "source": [
    "# Approach\n",
    "- 本题可以换一个方法来描述：判断能否从nums中选取一些数字使得它们的和等于整个数组的元素和的一半！\n",
    "\n",
    "- 由于nums中的每个数字只可以使用一次，因此本题可以转化成01背包！背包容量为sum/2，每个物品的重量和价值都是`nums[i]`！如果最大的总价值`dp[-1]`等于sum/2，那么就是True，反之就是False！\n",
    "\n",
    "# Code"
   ]
  },
  {
   "cell_type": "code",
   "execution_count": null,
   "id": "d5404e38",
   "metadata": {},
   "outputs": [],
   "source": [
    "# Time: O(len(nums) * sum), Space: O(sum)\n",
    "class Solution:\n",
    "    def canPartition(self, nums: List[int]) -> bool:\n",
    "        # 当nums中数字和为奇数时，必然是False！\n",
    "        if sum(nums) % 2 == 1:\n",
    "            return False\n",
    "        \n",
    "        # 不可以是/，因为/的结果是float，而我们想要int！不然的话[0] * (bagweight + 1)会出错！\n",
    "        bagweight = sum(nums) // 2\n",
    "        dp = [0] * (bagweight + 1)\n",
    "        \n",
    "        for i in range(len(nums)):\n",
    "            for j in range(bagweight, nums[i] - 1, -1):\n",
    "                dp[j] = max(dp[j], dp[j - nums[i]] + nums[i])\n",
    "        \n",
    "        return dp[-1] == bagweight"
   ]
  }
 ],
 "metadata": {
  "kernelspec": {
   "display_name": "Python 3 (ipykernel)",
   "language": "python",
   "name": "python3"
  },
  "language_info": {
   "codemirror_mode": {
    "name": "ipython",
    "version": 3
   },
   "file_extension": ".py",
   "mimetype": "text/x-python",
   "name": "python",
   "nbconvert_exporter": "python",
   "pygments_lexer": "ipython3",
   "version": "3.10.14"
  }
 },
 "nbformat": 4,
 "nbformat_minor": 5
}

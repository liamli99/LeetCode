{
 "cells": [
  {
   "cell_type": "markdown",
   "id": "009257eb",
   "metadata": {},
   "source": [
    "# Approach\n",
    "<!-- Describe your approach to solving the problem. -->\n",
    "注意本题股票可以买卖多次，但是和122不同的是本题要求\"卖掉股票后不能在第二天买股票\"！但是122买股票前必须卖股票，因此我们甚至可以在卖股票的当天买股票！本题最早也要在卖股票的第三天买股票！\n",
    "\n",
    "注意本题说的\"you must sell the stock before you buy again\"其实就等于122说的“You can only hold at most one share of the stock at any time”！这个要求在所有的买卖股票系列题目里面都有！！！\n",
    "   \n",
    "卖掉股票后的第二天为冷冻期，不能进行买股票的操作！因此我们具体是什么时候卖的股票就很重要！不能继续沿用之前的定义：dp1[i]表示第0-i天(中的某一天)卖出股票所剩最大金额，我们想知道第i天到底有没有卖股票！因此可以把dp1[i]分解成两个定义：dp1[i]表示第i天卖了股票，dp2[i]表示第i天没有卖股票，即第0-(i-1)天卖了股票！\n",
    "\n",
    "注意本题只需要分解dp1[i]，不需要分解dp0[i]！因为题目只对什么时候买股票做出了限制：即卖完股票的第二天不能买！所以我们需要知道到底什么时候卖了股票！但是题目没有限制我们什么时候卖股票，只要之前买了股票我随时可以卖掉！   \n",
    "\n",
    "1. 含义：dp0[i]表示第0-i天(中的某一天)买入股票所剩最大金额！dp1[i]表示第i天卖出股票所剩最大金额，此时第i+1天处于冷冻期！dp2[i]表示第0-(i-1)天(中的某一天)卖出股票所剩最大金额，此时第i+1天不处于冷冻期！\n",
    "\n",
    "2. 递推公式：对于dp0[i]，可以不买第i天的股票，那么dp0[i]=dp0[i-1]；也可以买第i天的股票，注意题目要求\"卖掉股票后不能在第二天买股票\"，所以第i-1天一定不能卖出股票，那么dp0[i]=dp2[i-1]-prices[i]！由于dp0[i]的含义是最大金额，dp0[i]=max(dp0[i-1],dp2[i-1]-prices[i])。对于dp1[i]，这个非常直接不用讨论到底有没有卖第i天的股票，因为定义就是卖了！所以dp1[i]=dp0[i-1]+prices[i]。对于dp2[i]，可以不卖第i-1天的股票，那么dp2[i]=dp2[i-1]；也可以卖第i-1天的股票，那么dp2[i]=dp1[i-1]。由于dp2[i]的含义是最大金额，dp2[i]=max(dp2[i-1],dp1[i-1])\n",
    "\n",
    "3. 初始化：dp0[0]=-prices[i]，dp1[0]=0，dp2[0]=0\n",
    "\n",
    "4. 遍历顺序：从前往后\n",
    "\n",
    "# Note\n",
    "\n",
    "\n",
    "# Code"
   ]
  },
  {
   "cell_type": "code",
   "execution_count": null,
   "id": "147f1975",
   "metadata": {},
   "outputs": [],
   "source": [
    "# 动态规划; Time: O(n), Space: O(n)\n",
    "# 当然也可以构建一个三列的数组，每列分别代表dp0，dp1，dp2！本质是一样的！\n",
    "class Solution:\n",
    "    def maxProfit(self, prices: List[int]) -> int:\n",
    "        dp0 = [0] * len(prices)\n",
    "        dp1 = [0] * len(prices)\n",
    "        dp2 = [0] * len(prices)\n",
    "\n",
    "        dp0[0] = -prices[0]\n",
    "        dp1[0] = 0\n",
    "        dp2[0] = 0\n",
    "\n",
    "        for i in range(1, len(prices)):\n",
    "            dp0[i] = max(dp0[i - 1], dp2[i - 1] - prices[i])\n",
    "            dp1[i] = dp0[i - 1] + prices[i]\n",
    "            dp2[i] = max(dp2[i - 1], dp1[i - 1])\n",
    "        # 注意dp1和dp2都表示卖完之后剩余的最大金额，要在里面找到最大！！！\n",
    "        return max(dp1[len(prices) - 1], dp2[len(prices) - 1])\n",
    "\n",
    "# 动态规划，空间优化; Time: O(n), Space: O(1)\n",
    "class Solution:\n",
    "    def maxProfit(self, prices: List[int]) -> int:\n",
    "        dp0 = -prices[0]\n",
    "        dp1 = 0\n",
    "        dp2 = 0\n",
    "\n",
    "        for i in range(1, len(prices)):\n",
    "            # 注意这里不能像之前一样直接写了，得保存上次的值\n",
    "            temp0 = dp0\n",
    "            temp1 = dp1\n",
    "            dp0 = max(dp0, dp2 - prices[i])\n",
    "            dp1 = temp0 + prices[i]\n",
    "            dp2 = max(dp2, temp1)\n",
    "        \n",
    "        return max(dp1, dp2)"
   ]
  }
 ],
 "metadata": {
  "kernelspec": {
   "display_name": "Python 3 (ipykernel)",
   "language": "python",
   "name": "python3"
  },
  "language_info": {
   "codemirror_mode": {
    "name": "ipython",
    "version": 3
   },
   "file_extension": ".py",
   "mimetype": "text/x-python",
   "name": "python",
   "nbconvert_exporter": "python",
   "pygments_lexer": "ipython3",
   "version": "3.10.9"
  }
 },
 "nbformat": 4,
 "nbformat_minor": 5
}

{
 "cells": [
  {
   "cell_type": "markdown",
   "id": "009257eb",
   "metadata": {},
   "source": [
    "# Approach\n",
    "<!-- Describe your approach to solving the problem. -->\n",
    "方法一：动态规划\n",
    "本题如果像之前一样定义dp[i]为s[0]到s[i]这个字符串包含的回文子串的数量，找不到dp[i]和dp[i-1], dp[i-2]等等的关系！所以我们要从回文的性质看，从一个序列的两端往中间走，如果左右两端一直都是相等的，那么就是回文！所以很明显我们应该构建一个dp[i][j]，i和j分别表示回文子串左右两端的index！注意回文类的问题都可以这样定义dp！\n",
    "\n",
    "1. 含义：dp[i][j]表示从s[i]到s[j]的字符串是否是回文子串！注意dp[i][j]的值是True or False，虽然没有直接求解题目，但是可以通过遍历字符串判断是否是回文子串然后累加！\n",
    "\n",
    "2. 递推公式：如果s[i]!=s[j]，那么必然不是回文子串！dp[i][j]=False。如果s[i]==s[j]，那么情况分为三种：(1)i==j，只有一个元素必然是回文子串！dp[i][j]=True (2)i==j-1，只有两个元素且它们相同，必然是回文子串！dp[i][j]=True。注意！之所以要考虑这两种情况是因为接下来的第三种情况的递推公式导致的！(3)i<j-1，此时有大于等于三个元素！我们只需要判断从下标i+1到下标j-1的序列是不是回文子串即可！dp[i][j]=dp[i+1][j-1]！如果不考虑前两种情况，那么i+1有可能大于等于j-1，那就不满足dp的定义了！\n",
    "\n",
    "3. 初始化：根据下面的遍历顺序，很明显我们要先初始化最下面一层和最左边一列！根据dp的定义，j>=i，因此只有左上方的dp[0][0]和右下方的dp[len(s)-1][len(s)-1]是True，别的都是False！\n",
    "\n",
    "4. 遍历顺序：注意递推公式dp[i][j]=dp[i+1][j-1]，这表示该dp是由其左下方的推出来的！因此我们必须确保左下方有值！因此我们选择从下往上，从左往右的两层遍历顺序！第二层从左往右遍历的时候注意不能从0开始，而要从j=i开始，这是因为根据dp的定义j是右侧的index必须大于等于左侧的index！\n",
    "\n",
    "方法二：双指针法\n",
    "\n",
    "# Note\n",
    "A string is a palindrome when it reads the same backward as forward.\n",
    "\n",
    "A substring is a contiguous sequence of characters within the string.\n",
    "\n",
    "# Code"
   ]
  },
  {
   "cell_type": "code",
   "execution_count": null,
   "id": "e281de5d",
   "metadata": {},
   "outputs": [],
   "source": [
    "# dp; Time: O(n^2), Space: O(n^2)\n",
    "class Solution:\n",
    "    def countSubstrings(self, s: str) -> int:\n",
    "        if len(s) == 1:\n",
    "            return 1\n",
    "\n",
    "        dp = [[False] * len(s) for _ in range(len(s))]\n",
    "        result = 0\n",
    "        \n",
    "        #初始化，如果len(s)==1不先考虑的话，会连续加两次dp[0][0]\n",
    "        dp[len(s) - 1][len(s) - 1] = True\n",
    "        dp[0][0] = True\n",
    "        # 最后一行和第一列的所有回文子串\n",
    "        result += 2\n",
    "\n",
    "        for i in range(len(s) - 2, -1, -1):\n",
    "            # 注意！这里有max是因为初始化我们初始了最下面一层和最左边一列，所以我们只能从倒数第二层和第二列开始，j必须大于等于1\n",
    "            # 然而根据dp的定义j也要大于等于i，i可以取到0，我们不希望j也取0！\n",
    "            # 如果没有max的话，还会经过一次dp[0][0]，result会多加一次！\n",
    "            for j in range(max(i, 1), len(s)):\n",
    "                if s[i] != s[j]:\n",
    "                    dp[i][j] = False\n",
    "                else:\n",
    "                    # 情况1和情况2\n",
    "                    if i == j or i == j - 1:\n",
    "                        dp[i][j] = True\n",
    "                        result += 1\n",
    "                    else:\n",
    "                        # 情况3\n",
    "                        dp[i][j] = dp[i + 1][j - 1]\n",
    "                        if dp[i][j]:\n",
    "                            result += 1\n",
    "        return result\n",
    "\n",
    "# dp，代码更简洁\n",
    "class Solution:\n",
    "    def countSubstrings(self, s: str) -> int:\n",
    "        dp = [[False] * len(s) for _ in range(len(s))]\n",
    "        result = 0\n",
    "        # 这里没有初始化，有人会疑惑当i在最后一行的时候，i+1不是out of index了么\n",
    "        # 其实当i在最后一行的时候，j必须也在最后一列，s[i]==s[j]，根本不会出现i<j-1的情况！\n",
    "        for i in range(len(s) - 1, -1, -1): \n",
    "            for j in range(i, len(s)):\n",
    "                # 不用讨论不等于的情况，因为不等于的话赋值False，但一开始dp的初始值就是False！\n",
    "                if s[i] == s[j]:\n",
    "                    if j - i <= 1: \n",
    "                        dp[i][j] = True\n",
    "                        result += 1\n",
    "                    else:\n",
    "                        dp[i][j] = dp[i + 1][j - 1] \n",
    "                        if dp[i][j]:\n",
    "                            result += 1\n",
    "        return result"
   ]
  },
  {
   "cell_type": "code",
   "execution_count": null,
   "id": "fd385ff4",
   "metadata": {},
   "outputs": [],
   "source": [
    "# Two pointers; Time: O(n^2), Space: O(1)"
   ]
  }
 ],
 "metadata": {
  "kernelspec": {
   "display_name": "Python 3 (ipykernel)",
   "language": "python",
   "name": "python3"
  },
  "language_info": {
   "codemirror_mode": {
    "name": "ipython",
    "version": 3
   },
   "file_extension": ".py",
   "mimetype": "text/x-python",
   "name": "python",
   "nbconvert_exporter": "python",
   "pygments_lexer": "ipython3",
   "version": "3.10.9"
  }
 },
 "nbformat": 4,
 "nbformat_minor": 5
}

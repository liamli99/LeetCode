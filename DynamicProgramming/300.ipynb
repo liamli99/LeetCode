{
 "cells": [
  {
   "cell_type": "markdown",
   "id": "009257eb",
   "metadata": {},
   "source": [
    "# Approach\n",
    "<!-- Describe your approach to solving the problem. -->\n",
    "子序列问题是动态规划解决的经典问题！参考一下343，dp[i]不只是基于dp[i-1]\n",
    "\n",
    "1. 含义：dp[i]表示以nums[i]结尾的最长递增子序列的长度为dp[i]！非常巧妙！包含尾部元素才能比较递增！！！\n",
    "\n",
    "2. 递推公式：我一开始这么思考的，if nums[i]>nums[i-1]: dp[i]=dp[i-1]+1。但是这是错误的！dp[i]不一定是基于dp[i-1]！dp[i]可能基于任何dp[j]，0<=j<i！！！这是因为题目不要求连续！！！nums[i]完全可以加到以其他nums结尾的子序列后面！想象一下nums[i-1]是它之前所有nums中最小的一个，那么dp[i-1]=1！如果nums[i]>nums[i-1]，那么nums[i]等于1+1吗？不一定！我要遍历所有的nums[0]到nums[i-1]去找dp[i]的最大值！当nums[i]<=nums[i-1]的时候也同理，遍历所有的nums[0]到nums[i-2]去找dp[i]的最大值！具体过程：nums从0遍历到i-1，取中间量nums[j]，如果nums[i]>nums[j]，那么以nums[j]结尾的子序列可以把nums[i]加到最后，所以dp[i]=dp[j]+1，由于我们要找最大的dp[i]，dp[i]=max(dp[i],dp[j]+1)。\n",
    "\n",
    "3. 初始化：dp[0]=1，此外我们构建dp时初始值都是1！因为以任何nums[i]结尾的子序列至少有一个，就是nums[i]本身！\n",
    "\n",
    "4. 遍历顺序：从前往后\n",
    "\n",
    "\n",
    "# Note\n",
    "这里子序列的定义不要求必须是原序列中连续的子集！！！！！不要求连续！！！！！   \n",
    "A subsequence is an array that can be derived from another array by deleting some or no elements without changing the order of the remaining elements.\n",
    "\n",
    "# Code"
   ]
  },
  {
   "cell_type": "code",
   "execution_count": null,
   "id": "e281de5d",
   "metadata": {},
   "outputs": [],
   "source": [
    "# dp\n",
    "class Solution:\n",
    "    def lengthOfLIS(self, nums: List[int]) -> int:\n",
    "        dp = [1] * len(nums)\n",
    "        \n",
    "        for i in range(1, len(nums)):\n",
    "            for j in range(i):\n",
    "                if nums[i] > nums[j]:\n",
    "                    dp[i] = max(dp[i], dp[j] + 1)\n",
    "        \n",
    "        return max(dp)"
   ]
  }
 ],
 "metadata": {
  "kernelspec": {
   "display_name": "Python 3 (ipykernel)",
   "language": "python",
   "name": "python3"
  },
  "language_info": {
   "codemirror_mode": {
    "name": "ipython",
    "version": 3
   },
   "file_extension": ".py",
   "mimetype": "text/x-python",
   "name": "python",
   "nbconvert_exporter": "python",
   "pygments_lexer": "ipython3",
   "version": "3.10.9"
  }
 },
 "nbformat": 4,
 "nbformat_minor": 5
}

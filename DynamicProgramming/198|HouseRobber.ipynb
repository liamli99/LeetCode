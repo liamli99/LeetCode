{
 "cells": [
  {
   "cell_type": "markdown",
   "id": "009257eb",
   "metadata": {},
   "source": [
    "# Approach\n",
    "1. dp数组：`dp[i]`表示从下标为0到i的房屋中最多可偷窃的金额为`dp[i]`，0 <= i <= len(nums) - 1\n",
    "\n",
    "2. 递推公式：对于下标为i的房屋，有两个选择: 1. 偷下标为i的房屋，那么一定不能偷下标为i-1的房屋，因为他们相邻，所以`dp[i] = dp[i-2] + nums[i]` 2. 不偷下标为i的房屋，那么`dp[i] = dp[i-1]`！因此最多可偷窃的金额为`dp[i] = max(dp[i-1], dp[i-2] + nums[i])`!\n",
    "\n",
    "3. 初始化：`dp[0] = nums[0]`，`dp[1] = max(nums[0], nums[1])`\n",
    "\n",
    "4. 遍历顺序：从前到后\n",
    "\n",
    "# Code"
   ]
  },
  {
   "cell_type": "code",
   "execution_count": null,
   "id": "e281de5d",
   "metadata": {},
   "outputs": [],
   "source": [
    "# Time: O(n), Space: O(n)\n",
    "class Solution:\n",
    "    def rob(self, nums: List[int]) -> int:\n",
    "        # 当nums长度为1时，dp数组长度也为1，没法定义dp[1]，必须提前讨论掉！\n",
    "        if len(nums) == 1:\n",
    "            return nums[0]\n",
    "        \n",
    "        dp = [0] * len(nums)\n",
    "        dp[0] = nums[0]\n",
    "        dp[1] = max(nums[0], nums[1])\n",
    "\n",
    "        for i in range(2, len(nums)):\n",
    "            dp[i] = max(dp[i - 1], dp[i - 2] + nums[i])\n",
    "        \n",
    "        return dp[len(nums) - 1]"
   ]
  },
  {
   "cell_type": "code",
   "execution_count": null,
   "id": "690e2dd8",
   "metadata": {},
   "outputs": [],
   "source": [
    "# 优化空间复杂度\n",
    "# Time: O(n), Space: O(1)\n",
    "class Solution:\n",
    "    def rob(self, nums: List[int]) -> int:\n",
    "        if len(nums) == 1:\n",
    "            return nums[0]\n",
    "        \n",
    "        dp = [nums[0], max(nums[0], nums[1])]\n",
    "\n",
    "        for i in range(2, len(nums)):\n",
    "            max_ = max(dp[1], dp[0] + nums[i])\n",
    "            dp[0], dp[1] = dp[1], max_\n",
    "        \n",
    "        return dp[1]"
   ]
  }
 ],
 "metadata": {
  "kernelspec": {
   "display_name": "Python 3 (ipykernel)",
   "language": "python",
   "name": "python3"
  },
  "language_info": {
   "codemirror_mode": {
    "name": "ipython",
    "version": 3
   },
   "file_extension": ".py",
   "mimetype": "text/x-python",
   "name": "python",
   "nbconvert_exporter": "python",
   "pygments_lexer": "ipython3",
   "version": "3.10.9"
  }
 },
 "nbformat": 4,
 "nbformat_minor": 5
}

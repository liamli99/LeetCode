{
 "cells": [
  {
   "cell_type": "markdown",
   "id": "009257eb",
   "metadata": {},
   "source": [
    "# Approach\n",
    "<!-- Describe your approach to solving the problem. -->\n",
    "方法一：贪心\n",
    "贪心在于想让和最大，所以不想加负数，但是也不能一个负数都不加，因为有可能加了一个负数再加一个正数值更大了！   \n",
    "所以我们定义局部最优：“连续和”不能为负数，一旦加某个元素后“连续和”变为负数，就将“连续和”清零，并从下一个元素开始计算！\n",
    "\n",
    "方法二：动态规划\n",
    "注意本题是连续子序列，根据1143的总结，我们可以这样定义！\n",
    "1. 含义：dp[i]表示以nums[i]结尾的连续子序列的和的最大值为dp[i]\n",
    "\n",
    "2. 递推公式：有两种方式得到dp[i]。要么是以前一个元素nums[i-1]结尾的最大值加上nums[i]，即dp[i]=dp[i-1]+nums[i]，要么是nums[i]本身，即连续子序列在此中断，dp[i]=nums[i]。我们要选一个最大值，即dp[i]=max(dp[i-1]+nums[i],nums[i])。\n",
    "\n",
    "3. 初始化：dp[0]=nums[0]\n",
    "\n",
    "4. 遍历顺序：从前往后\n",
    "\n",
    "# Note\n",
    "\n",
    "\n",
    "# Code"
   ]
  },
  {
   "cell_type": "code",
   "execution_count": null,
   "id": "642b425f",
   "metadata": {},
   "outputs": [],
   "source": [
    "# 贪心\n",
    "class Solution:\n",
    "    def maxSubArray(self, nums: List[int]) -> int:\n",
    "        sum = 0\n",
    "        # result一开始必须设为负无穷，假如设为0的话，如果nums[0]是负数，那么sum也是负数，那么sum(即nums[0])无法赋值给result！\n",
    "        # 这样会导致如果nums中全是负数，result无法接收结果！\n",
    "        result = float('-inf')\n",
    "        for i in range(len(nums)):\n",
    "            sum += nums[i]\n",
    "            # 这个if必须在前面！如果在后面的话，假如nums[0]是负数，那么sum也是负数，那么sum清零！会把0赋值给result而不是nums[0]!\n",
    "            if sum > result:\n",
    "                result = sum\n",
    "            if sum <= 0:\n",
    "                sum = 0\n",
    "            \n",
    "        return result"
   ]
  },
  {
   "cell_type": "code",
   "execution_count": null,
   "id": "52f0d051",
   "metadata": {},
   "outputs": [],
   "source": [
    "# 动规\n",
    "class Solution:\n",
    "    def maxSubArray(self, nums: List[int]) -> int:\n",
    "        dp = [0] * len(nums)\n",
    "        dp[0] = nums[0]\n",
    "\n",
    "        for i in range(1, len(nums)):\n",
    "            dp[i] = max(dp[i - 1] + nums[i], nums[i])\n",
    "        \n",
    "        return max(dp)\n",
    "\n",
    "# 优化空间\n",
    "class Solution:\n",
    "    def maxSubArray(self, nums: List[int]) -> int:\n",
    "        result = nums[0]\n",
    "        dp = nums[0]\n",
    "\n",
    "        for i in range(1, len(nums)):\n",
    "            dp = max(dp + nums[i], nums[i])\n",
    "            result = max(result, dp)\n",
    "        \n",
    "        return result"
   ]
  }
 ],
 "metadata": {
  "kernelspec": {
   "display_name": "Python 3 (ipykernel)",
   "language": "python",
   "name": "python3"
  },
  "language_info": {
   "codemirror_mode": {
    "name": "ipython",
    "version": 3
   },
   "file_extension": ".py",
   "mimetype": "text/x-python",
   "name": "python",
   "nbconvert_exporter": "python",
   "pygments_lexer": "ipython3",
   "version": "3.10.9"
  }
 },
 "nbformat": 4,
 "nbformat_minor": 5
}

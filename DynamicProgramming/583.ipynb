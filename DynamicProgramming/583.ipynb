{
 "cells": [
  {
   "cell_type": "markdown",
   "id": "009257eb",
   "metadata": {},
   "source": [
    "# Approach\n",
    "<!-- Describe your approach to solving the problem. -->\n",
    "1143的变形题！经过最少的删除步骤后，剩下的其实就是两者最大重复子序列！该子序列是不连续的！\n",
    "\n",
    "或者直接硬做：\n",
    "1. 含义：dp[i][j]表示最少需要dp[i][j]步就可以让word1[0]到word1[i]的string和word2[0]到word2[j]的string相同！\n",
    "\n",
    "2. 递推公式：如果word1[i]==word2[j]，那么这两个元素不用删除！只需要考虑word1[0]到word1[i-1]的string和word2[0]到word2[j-1]的string！所以dp[i][j]=dp[i-1][j-1]。如果word1[i]!=word2[j]，那么可以肯定一定要删除word1[i]或word2[j]中的一个！如果删除word1[i]，那么还要考虑word1[0]到word1[i-1]的string和word2[0]到word2[j]的string，所以dp[i][j]=dp[i-1][j]+1，注意这里的加1是因为删除了word1[i]！同理，如果删除word2[j]，那么还要考虑word1[0]到word1[i]的string和word2[0]到word2[j-1]的string，所以dp[i][j]=dp[i][j-1]+1，注意这里的加1是因为删除了word1[j]！由于dp的含义是最小值，因此dp[i][j]=min(dp[i-1][j]+1,dp[i][j-1]+1)\n",
    "\n",
    "3. 初始化：这个有点复杂。word1中的每一个元素和word2[0]比较，如果有相等，那么只保留word1[i]和word2[0]这两个元素别的都要删掉！(i+1)+1-2=i，即dp[i][0]=i！如果不相等，word1[i]肯定要删掉！删掉后又变成dp[i-1][0]的问题了！即dp[i][0]=dp[i-1][0]+1。word2中的每个元素和word1[0]也同理！\n",
    "\n",
    "4. 遍历顺序：两层遍历，类同1143\n",
    "\n",
    "\n",
    "# Note\n",
    "\n",
    "\n",
    "# Code"
   ]
  },
  {
   "cell_type": "code",
   "execution_count": null,
   "id": "e281de5d",
   "metadata": {},
   "outputs": [],
   "source": [
    "# 1143变形; Time: O(m * n), Space: O(m * n)，其中m，n分别表示word1和word2的长度！\n",
    "class Solution:\n",
    "    def minDistance(self, word1: str, word2: str) -> int:\n",
    "        dp = [[0] * len(word2) for _ in range(len(word1))]\n",
    "\n",
    "        for i in range(len(word1)):\n",
    "            if word1[i] == word2[0]:\n",
    "                for k in range(i, len(word1)):\n",
    "                    dp[k][0] = 1\n",
    "        \n",
    "        for j in range(len(word2)):\n",
    "            if word2[j] == word1[0]:\n",
    "                for k in range(j, len(word2)):\n",
    "                    dp[0][k] = 1\n",
    "        \n",
    "        for i in range(1, len(word1)):\n",
    "            for j in range(1, len(word2)):\n",
    "                if word1[i] == word2[j]:\n",
    "                    dp[i][j] = dp[i - 1][j - 1] + 1\n",
    "                else:\n",
    "                    dp[i][j] = max(dp[i - 1][j], dp[i][j - 1])\n",
    "        \n",
    "        num = dp[len(word1) - 1][len(word2) - 1]\n",
    "        \n",
    "        return len(word1) +len(word2) - 2 * num"
   ]
  },
  {
   "cell_type": "code",
   "execution_count": null,
   "id": "d80d1f28",
   "metadata": {},
   "outputs": [],
   "source": [
    "# 硬算\n",
    "class Solution:\n",
    "    def minDistance(self, word1: str, word2: str) -> int:\n",
    "        dp = [[0] * len(word2) for _ in range(len(word1))]\n",
    "        \n",
    "        if word1[0] == word2[0]:\n",
    "            dp[0][0] = 0\n",
    "        else:\n",
    "            dp[0][0] = 2\n",
    "        \n",
    "        for i in range(1, len(word1)):\n",
    "            if word1[i] == word2[0]:\n",
    "                dp[i][0] = i\n",
    "            else:\n",
    "                dp[i][0] = dp[i - 1][0] + 1\n",
    "\n",
    "        for j in range(1, len(word2)):\n",
    "            if word2[j] == word1[0]:\n",
    "                dp[0][j] = j\n",
    "            else:\n",
    "                dp[0][j] = dp[0][j - 1] + 1\n",
    "\n",
    "\n",
    "        for i in range(1, len(word1)):\n",
    "            for j in range(1, len(word2)):\n",
    "                if word1[i] == word2[j]:\n",
    "                    dp[i][j] = dp[i - 1][j - 1]\n",
    "                else:\n",
    "                    dp[i][j] = min(dp[i - 1][j], dp[i][j - 1]) + 1\n",
    "        \n",
    "        return dp[len(word1) - 1][len(word2) - 1]"
   ]
  }
 ],
 "metadata": {
  "kernelspec": {
   "display_name": "Python 3 (ipykernel)",
   "language": "python",
   "name": "python3"
  },
  "language_info": {
   "codemirror_mode": {
    "name": "ipython",
    "version": 3
   },
   "file_extension": ".py",
   "mimetype": "text/x-python",
   "name": "python",
   "nbconvert_exporter": "python",
   "pygments_lexer": "ipython3",
   "version": "3.10.9"
  }
 },
 "nbformat": 4,
 "nbformat_minor": 5
}

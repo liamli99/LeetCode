{
 "cells": [
  {
   "cell_type": "markdown",
   "id": "009257eb",
   "metadata": {},
   "source": [
    "# Approach\n",
    "<!-- Describe your approach to solving the problem. -->\n",
    "本题的意思是，如果选定了某个数字，那么比这个数字大1或小1的所有数字都不能选！和这个数字相等的数字可以选，因此我们选一个数字的时候就直接把相等的数字全都选了！求最多可以选的数字和是多少。   \n",
    "\n",
    "本质上就是198抢劫房屋的问题！数字的大小类比房屋的位置，相同数字的总和类比房屋的价值！！！因此我们可以把nums修改成store，使得下标i表示数字的大小，store[i]表示相同数字的总和！这里的store就等价于198中的nums！\n",
    "\n",
    "1. 含义：dp[i]表示从下标为数字0到数字i中可以赚的最多积分为dp[i]\n",
    "\n",
    "2. 递推公式：有“两种”方法得到dp[i]: 1.删除数字i赚积分，那么一定不能删除数字i-1赚积分，因为i比i-1大1，删除i之后i-1也全都被删除了！所以dp[i]=dp[i-2]+store[i] 2.不删除数字i赚积分，那么dp[i]=dp[i-1]。即然有两种方法而且题目要求最大金额，我们取二者的最大值，即dp[i]=max(dp[i-1],dp[i-2]+store[i])\n",
    "\n",
    "3. 初始化：dp[0]其实不存在，因为没有数字0！因此dp[0]=0，dp[1]=store[1]\n",
    "\n",
    "4. 遍历顺序：从前到后\n",
    "\n",
    "\n",
    "# Note\n",
    "\n",
    "\n",
    "# Code"
   ]
  },
  {
   "cell_type": "code",
   "execution_count": null,
   "id": "e281de5d",
   "metadata": {},
   "outputs": [],
   "source": [
    "class Solution:\n",
    "    def deleteAndEarn(self, nums: List[int]) -> int:\n",
    "        # 初始值为0，不在nums中的数字就为0！\n",
    "        store = [0] * (max(nums) + 1)\n",
    "        \n",
    "        for num in nums:\n",
    "            store[num] += num\n",
    "        \n",
    "        dp = [0] * len(store)\n",
    "        # 为了和198保持一致才这么写的！其实dp[0]不存在就是0！dp[1]=store[1]！\n",
    "        dp[0] = store[0]\n",
    "        dp[1] = max(store[0], store[1])\n",
    "\n",
    "        for i in range(2, len(store)):\n",
    "            dp[i] = max(dp[i - 1], dp[i - 2] + store[i])\n",
    "        \n",
    "        return dp[-1]"
   ]
  },
  {
   "cell_type": "code",
   "execution_count": null,
   "id": "a296cb5a",
   "metadata": {},
   "outputs": [],
   "source": [
    "# 这是最符合常理的答案，因为数字0不存在！上面那个是简便的答案！！！\n",
    "class Solution:\n",
    "    def deleteAndEarn(self, nums: List[int]) -> int:\n",
    "        if max(nums) == 1:\n",
    "            return sum(nums)\n",
    "        \n",
    "        store = [0] * (max(nums) + 1)\n",
    "        for num in nums:\n",
    "            store[num] += num\n",
    "        \n",
    "        dp = [0] * len(store)\n",
    "        dp[1] = store[1]\n",
    "        dp[2] = max(store[1], store[2])\n",
    "\n",
    "        for i in range(3, len(store)):\n",
    "            dp[i] = max(dp[i - 1], dp[i - 2] + store[i])\n",
    "        \n",
    "        return dp[-1]\n",
    "        "
   ]
  }
 ],
 "metadata": {
  "kernelspec": {
   "display_name": "Python 3 (ipykernel)",
   "language": "python",
   "name": "python3"
  },
  "language_info": {
   "codemirror_mode": {
    "name": "ipython",
    "version": 3
   },
   "file_extension": ".py",
   "mimetype": "text/x-python",
   "name": "python",
   "nbconvert_exporter": "python",
   "pygments_lexer": "ipython3",
   "version": "3.10.9"
  }
 },
 "nbformat": 4,
 "nbformat_minor": 5
}

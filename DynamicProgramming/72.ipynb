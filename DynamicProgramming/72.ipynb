{
 "cells": [
  {
   "cell_type": "markdown",
   "id": "009257eb",
   "metadata": {},
   "source": [
    "# Approach\n",
    "<!-- Describe your approach to solving the problem. -->\n",
    "本题是583的进阶版！但是有两个不同：1. 只能word1进行操作 2. word1还可以增加和替换元素\n",
    "\n",
    "\n",
    "1. 含义：dp[i][j]表示最少需要dp[i][j]步就可以让word1[0]到word1[i]的string和word2[0]到word2[j]的string相同！含义和583一样！\n",
    "\n",
    "2. 递推公式：如果word1[i]==word2[j]，那么这两个元素不用进行任何操作！只需要考虑word1[0]到word1[i-1]的string和word2[0]到word2[j-1]的string！所以dp[i][j]=dp[i-1][j-1]。如果word1[i]!=word2[j]，那么此时有三种操作(只能对word1[i]操作！)：(1)删除word1[i]，只需要考虑word1[0]到word1[i-1]的string和word2[0]到word2[j]的string，所以dp[i][j]=dp[i-1][j]+1，注意这里的加1是因为删除了word1[i]！(2)在word1[i]后面增加一个word2[j]，这样就变成了最一开始的\"word1[i]==word2[j]\"的情况了！类比一下，此时只需要考虑word1[0]到word1[i]的string和word2[0]到word2[j-1]的string，所以dp[i][j]=dp[i][j-1]+1，注意这里的加1是因为增加了word2[j]！(3)替换word1[i]，将其变成word2[j]，这样也变成了最一开始的\"word1[i]==word2[j]\"的情况了！类比一下，此时只需要考虑word1[0]到word1[i-1]的string和word2[0]到word2[j-1]的string，所以dp[i][j]=dp[i-1][j-1]+1，注意这里的加1是因为将word1[i]变成了word2[j]！由于dp的含义是最小步数，dp=min(dp[i][j]=dp[i-1][j]+1,dp[i][j-1]+1,dp[i-1][j-1]+1)。\n",
    "\n",
    "3. 初始化：这个有点复杂。word1中的每一个元素和word2[0]比较，如果有相等，那么只保留word1[i]，别的都删掉！(i+1)-1=i，即dp[i][0]=i！如果不相等，word1[i]肯定要删掉！删掉后又变成dp[i-1][0]的问题了！即dp[i][0]=dp[i-1][0]+1。word2中的每个元素和word1[0]也同理！\n",
    "\n",
    "4. 遍历顺序：两层遍历，类同583\n",
    "\n",
    "\n",
    "# Note\n",
    "注意本题和583不一样的地方还在于word1和word2可能为空字符串！要单独讨论一下。\n",
    "\n",
    "# Code"
   ]
  },
  {
   "cell_type": "code",
   "execution_count": null,
   "id": "e281de5d",
   "metadata": {},
   "outputs": [],
   "source": [
    "# Time: O(m * n), Space: O(m * n)，其中m，n分别表示word1和word2的长度！\n",
    "class Solution:\n",
    "    def minDistance(self, word1: str, word2: str) -> int:\n",
    "        dp = [[0] * len(word2) for _ in range(len(word1))]\n",
    "\n",
    "        if len(word1) == 0: \n",
    "            return len(word2)\n",
    "        if len(word2) == 0:\n",
    "            return len(word1)\n",
    "        \n",
    "        if word1[0] == word2[0]:\n",
    "            dp[0][0] = 0\n",
    "        else:\n",
    "            dp[0][0] = 1\n",
    "        \n",
    "        for i in range(1, len(word1)):\n",
    "            if word1[i] == word2[0]:\n",
    "                dp[i][0] = i\n",
    "            else:\n",
    "                dp[i][0] = dp[i - 1][0] + 1\n",
    "        \n",
    "        for j in range(1, len(word2)):\n",
    "            if word1[0] == word2[j]:\n",
    "                dp[0][j] = j\n",
    "            else:\n",
    "                dp[0][j] = dp[0][j - 1] + 1\n",
    "\n",
    "        for i in range(1, len(word1)):\n",
    "            for j in range(1, len(word2)):\n",
    "                if word1[i] == word2[j]:\n",
    "                    dp[i][j] = dp[i - 1][j - 1]\n",
    "                else:\n",
    "                    dp[i][j] = min(dp[i - 1][j], dp[i][j - 1], dp[i - 1][j - 1]) + 1\n",
    "        \n",
    "        return dp[len(word1) - 1][len(word2) - 1]"
   ]
  }
 ],
 "metadata": {
  "kernelspec": {
   "display_name": "Python 3 (ipykernel)",
   "language": "python",
   "name": "python3"
  },
  "language_info": {
   "codemirror_mode": {
    "name": "ipython",
    "version": 3
   },
   "file_extension": ".py",
   "mimetype": "text/x-python",
   "name": "python",
   "nbconvert_exporter": "python",
   "pygments_lexer": "ipython3",
   "version": "3.10.9"
  }
 },
 "nbformat": 4,
 "nbformat_minor": 5
}

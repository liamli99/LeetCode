{
 "cells": [
  {
   "cell_type": "markdown",
   "id": "009257eb",
   "metadata": {},
   "source": [
    "# Approach\n",
    "<!-- Describe your approach to solving the problem. -->\n",
    "非常类似300！不过300求的是最长递增子序列的长度，本题求的是最长递增子序列的个数！其实本题更难一点，因为需要记录最长的个数！   \n",
    "\n",
    "一开始我直接写了以下代码：\n",
    "```python\n",
    "class Solution:\n",
    "    def findNumberOfLIS(self, nums: List[int]) -> int:\n",
    "        dp = [1] * len(nums)\n",
    "        maxNum = [1] * len(nums)\n",
    "        \n",
    "        for i in range(1, len(nums)):\n",
    "            for j in range(i):\n",
    "                if nums[i] > nums[j]:\n",
    "                    dp[i] = max(dp[i], dp[j] + 1)\n",
    "         \n",
    "        result = 0\n",
    "        for i in range(len(dp)):\n",
    "            if dp[i] == max(dp):\n",
    "                result += 1\n",
    "        return result\n",
    "```\n",
    "没有改动300求解dp的过程，只在最后加了一段代码找到所有大小等于最长递增子序列的数量！但问题在于，这样充其量只能找到结尾不同的最长递增子序列的个数！如果有多个长度相等的最长递增子序列都是以同一个元素结尾，在dp过程中却没有记录！！！因此我可以定义一个新的maxNum，maxNum[i]表示以nums[i]结尾的最长递增子序列的个数！\n",
    "\n",
    "\n",
    "# Note\n",
    "\n",
    "\n",
    "# Code"
   ]
  },
  {
   "cell_type": "code",
   "execution_count": null,
   "id": "e281de5d",
   "metadata": {},
   "outputs": [],
   "source": [
    "class Solution:\n",
    "    def findNumberOfLIS(self, nums: List[int]) -> int:\n",
    "        dp = [1] * len(nums)\n",
    "        maxNum = [1] * len(nums)\n",
    "        \n",
    "        for i in range(1, len(nums)):\n",
    "            for j in range(i):\n",
    "                if nums[i] > nums[j]:\n",
    "\n",
    "                    if dp[j] + 1 > dp[i]:\n",
    "                        # 注意maxNum不等于1！此时以nums[i]结尾的最长递增子序列的个数就等于以nums[j]结尾的最长递增子序列的个数\n",
    "                        maxNum[i] = maxNum[j]\n",
    "                        dp[i] = dp[j] + 1\n",
    "                    # 注意这里必须是elif！如果是if的话，假如可以执行上一个if，那么执行完之后dp[i]的值变成了dp[j]+1，\n",
    "                    # 此时又可以执行下一个if了！\n",
    "                    elif dp[j] + 1 == dp[i]:\n",
    "                        maxNum[i] += maxNum[j]\n",
    "                        \n",
    "        result = 0\n",
    "        for i in range(len(dp)):\n",
    "            if dp[i] == max(dp):\n",
    "                result += maxNum[i]\n",
    "        return result"
   ]
  }
 ],
 "metadata": {
  "kernelspec": {
   "display_name": "Python 3 (ipykernel)",
   "language": "python",
   "name": "python3"
  },
  "language_info": {
   "codemirror_mode": {
    "name": "ipython",
    "version": 3
   },
   "file_extension": ".py",
   "mimetype": "text/x-python",
   "name": "python",
   "nbconvert_exporter": "python",
   "pygments_lexer": "ipython3",
   "version": "3.10.9"
  }
 },
 "nbformat": 4,
 "nbformat_minor": 5
}

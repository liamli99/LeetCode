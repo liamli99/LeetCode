{
 "cells": [
  {
   "cell_type": "markdown",
   "id": "009257eb",
   "metadata": {},
   "source": [
    "# Approach\n",
    "本题的search比208的更难，因为word中会有'.'，这表示Trie中的任何字符都符合！\n",
    "\n",
    "我们从root和word[0]处开始寻找，假设遍历过程中节点在curr处，字符在word[i]处：当word[i]不是'.'时，判断word[i]是否在curr.children中，如果不在，直接return False；如果在，当前节点变成curr的值为word[i]的孩子，当前字符变成word[i+1]，重复上述操作！该情况的代码完全类同208的search！当word[i]是'.'时，由于'.'可以匹配任何字符，当前节点可以变成curr的任何一个孩子，当前字符变成word[i+1]！因此我们需要遍历curr的每一个孩子，记为child，利用递归判断从child和word[i+1]处能否找到剩下的word！只要有一个True，那就return True！如果全是False，那就return False！最后结束遍历的时候别忘了检查word中的最后一个字符是否是Trie的leaf，因为本题也是要找完整的字符串！   \n",
    "\n",
    "\n",
    "# Note\n",
    "Trie(字典树或前缀树)，根节点是空字符，其余每个节点的值都是一个字符！从根节点的孩子一直到某个节点这个路径上的所有字符可以组成一个字符串，这就是该节点所对应的字符串！因此一个节点的所有子节点所对应的字符串都有相同的前缀，即该节点所对应的字符串！ \n",
    "\n",
    "# Code"
   ]
  },
  {
   "cell_type": "code",
   "execution_count": null,
   "id": "642b425f",
   "metadata": {},
   "outputs": [],
   "source": [
    "class TrieNode:\n",
    "    def __init__(self):\n",
    "        self.children = {}\n",
    "        self.isEndOfWord = False\n",
    "\n",
    "class WordDictionary:\n",
    "\n",
    "    def __init__(self):\n",
    "        self.root = TrieNode()\n",
    "\n",
    "    def addWord(self, word: str) -> None:\n",
    "        curr = self.root\n",
    "\n",
    "        for char in word:\n",
    "            if char not in curr.children:\n",
    "                curr.children[char] = TrieNode()\n",
    "            \n",
    "            curr = curr.children[char]\n",
    "        \n",
    "        curr.isEndOfWord = True\n",
    "\n",
    "    def search(self, word: str) -> bool:\n",
    "        return self.searchWord(word, self.root, 0)\n",
    "    \n",
    "    def searchWord(self, word, curr, startIndex):\n",
    "        for i in range(startIndex, len(word)):\n",
    "            char = word[i]\n",
    "            \n",
    "            if char != '.':\n",
    "                if char not in curr.children:\n",
    "                    return False\n",
    "                curr = curr.children[char]\n",
    "            \n",
    "            else:\n",
    "                for child in curr.children.values():\n",
    "                    if self.searchWord(word, child, i + 1) == True:\n",
    "                        return True\n",
    "                return False\n",
    "        \n",
    "        return curr.isEndOfWord"
   ]
  }
 ],
 "metadata": {
  "kernelspec": {
   "display_name": "Python 3 (ipykernel)",
   "language": "python",
   "name": "python3"
  },
  "language_info": {
   "codemirror_mode": {
    "name": "ipython",
    "version": 3
   },
   "file_extension": ".py",
   "mimetype": "text/x-python",
   "name": "python",
   "nbconvert_exporter": "python",
   "pygments_lexer": "ipython3",
   "version": "3.10.9"
  }
 },
 "nbformat": 4,
 "nbformat_minor": 5
}

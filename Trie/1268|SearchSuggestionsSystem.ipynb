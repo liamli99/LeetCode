{
 "cells": [
  {
   "cell_type": "markdown",
   "id": "009257eb",
   "metadata": {},
   "source": [
    "# Approach\n",
    "方法一：binary search   \n",
    "\n",
    "方法二：trie   \n",
    "\n",
    "# Note\n",
    "Trie(字典树或前缀树)，根节点是空字符，其余每个节点的值都是一个字符！从根节点的孩子一直到某个节点这个路径上的所有字符可以组成一个字符串，这就是该节点所对应的字符串！因此一个节点的所有子节点所对应的字符串都有相同的前缀，即该节点所对应的字符串！ \n",
    "\n",
    "# Code"
   ]
  },
  {
   "cell_type": "code",
   "execution_count": null,
   "id": "642b425f",
   "metadata": {},
   "outputs": [],
   "source": [
    "# 方法一：binary search"
   ]
  },
  {
   "cell_type": "code",
   "execution_count": null,
   "id": "cc588adb",
   "metadata": {},
   "outputs": [],
   "source": [
    "# 方法二：trie"
   ]
  }
 ],
 "metadata": {
  "kernelspec": {
   "display_name": "Python 3 (ipykernel)",
   "language": "python",
   "name": "python3"
  },
  "language_info": {
   "codemirror_mode": {
    "name": "ipython",
    "version": 3
   },
   "file_extension": ".py",
   "mimetype": "text/x-python",
   "name": "python",
   "nbconvert_exporter": "python",
   "pygments_lexer": "ipython3",
   "version": "3.10.9"
  }
 },
 "nbformat": 4,
 "nbformat_minor": 5
}

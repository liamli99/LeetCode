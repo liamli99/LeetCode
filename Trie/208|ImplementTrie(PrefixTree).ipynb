{
 "cells": [
  {
   "cell_type": "markdown",
   "id": "009257eb",
   "metadata": {},
   "source": [
    "# Approach\n",
    "search和insert用hashtable可以在O(1)实现，但是没法快速实现startsWith！必须用Trie才可以快速查找前缀是否存在！   \n",
    "\n",
    "# Note\n",
    "Trie(字典树或前缀树)，根节点是空字符，其余每个节点的值都是一个字符！从根节点的孩子一直到某个节点这个路径上的所有字符可以组成一个字符串，这就是该节点所对应的字符串！因此一个节点的所有子节点所对应的字符串都有相同的前缀，即该节点所对应的字符串！ \n",
    "\n",
    "# Code"
   ]
  },
  {
   "cell_type": "code",
   "execution_count": null,
   "id": "642b425f",
   "metadata": {},
   "outputs": [],
   "source": [
    "class TrieNode:\n",
    "    def __init__(self):\n",
    "        # node的孩子可能有很多，用map来表示！这样查找和插入孩子的时间复杂度都是O(1)！\n",
    "        # key是字符，表示孩子的值，value是Trie Node，表示孩子本身！\n",
    "        self.children = {}\n",
    "        # 这表示node是否是Trie的leaf，因为search函数需要查找完整的单词，当某个单词的最后一个字母是Trie的leaf时，该单词就是Trie中的完整的单词而不是前缀！\n",
    "        self.isEndOfWord = False\n",
    "\n",
    "class Trie:\n",
    "\n",
    "    def __init__(self):\n",
    "        self.root = TrieNode()\n",
    "\n",
    "    def insert(self, word: str) -> None:\n",
    "        curr = self.root\n",
    "        \n",
    "        for char in word:\n",
    "            if char not in curr.children:\n",
    "                curr.children[char] = TrieNode()\n",
    "            \n",
    "            curr = curr.children[char]\n",
    "        \n",
    "        # 此时curr表示最后一个字符，记录为True！\n",
    "        curr.isEndOfWord = True\n",
    "\n",
    "    def search(self, word: str) -> bool:\n",
    "        curr = self.root\n",
    "        \n",
    "        for char in word:\n",
    "            if char not in curr.children:\n",
    "                return False\n",
    "            \n",
    "            curr = curr.children[char]\n",
    "        \n",
    "        # 结束for循环表示word的所有字母都在Trie中，需要判断word的最后一个字母是否是Trie的leaf！\n",
    "        # 如果是leaf，表示word是Trie中的完整的单词，而不是前缀！\n",
    "        return curr.isEndOfWord\n",
    "\n",
    "    def startsWith(self, prefix: str) -> bool:\n",
    "        curr = self.root\n",
    "        \n",
    "        for char in prefix:\n",
    "            if char not in curr.children:\n",
    "                return False\n",
    "            \n",
    "            curr = curr.children[char]\n",
    "        \n",
    "        return True"
   ]
  }
 ],
 "metadata": {
  "kernelspec": {
   "display_name": "Python 3 (ipykernel)",
   "language": "python",
   "name": "python3"
  },
  "language_info": {
   "codemirror_mode": {
    "name": "ipython",
    "version": 3
   },
   "file_extension": ".py",
   "mimetype": "text/x-python",
   "name": "python",
   "nbconvert_exporter": "python",
   "pygments_lexer": "ipython3",
   "version": "3.10.9"
  }
 },
 "nbformat": 4,
 "nbformat_minor": 5
}

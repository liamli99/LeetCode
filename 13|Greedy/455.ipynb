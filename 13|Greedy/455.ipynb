{
 "cells": [
  {
   "cell_type": "markdown",
   "id": "009257eb",
   "metadata": {},
   "source": [
    "# Approach\n",
    "<!-- Describe your approach to solving the problem. -->\n",
    "局部最优在于：一块饼干应该分给胃口最接近的孩子，即给定s，对应的g应该尽量接近s但不能超过s！\n",
    "\n",
    "我们先将两个list从小到大排序，然后可以选择先分配大饼干(从右往左)，或者先分配小饼干(从左向右)\n",
    "方法一：先分配小饼干。分别从index=0开始，如果s>=g，那么s和g同时递增。如果s<g，那么我们应该递增s而保持g不变！因为我们想找到更大的s看看能否满足g。这种情况下需要先遍历饼干再遍历孩子！\n",
    "方法二：先分配大饼干。分别从index=len-1开始，如果s>=g，那么s和g同时递减。如果s<g，那么我们应该递减g而保持s不变！因为此时s已经最大了都无法满足g，只能看当前的s能否满足小一点的g。这种情况下需要先遍历孩子再遍历饼干！\n",
    "\n",
    "# Note\n",
    "贪心的本质是选择每一阶段的局部最优，从而达到全局最优。刷题或者面试的时候，手动模拟一下感觉可以局部最优推出整体最优，而且想不到反例，那么就试一试贪心。\n",
    "\n",
    "# Code"
   ]
  },
  {
   "cell_type": "code",
   "execution_count": null,
   "id": "642b425f",
   "metadata": {},
   "outputs": [],
   "source": [
    "# 先分配小饼干\n",
    "class Solution:\n",
    "    def findContentChildren(self, g: List[int], s: List[int]) -> int:\n",
    "        g.sort()\n",
    "        s.sort()\n",
    "        index = 0\n",
    "        result = 0\n",
    "        for i in range(len(s)):\n",
    "            if index < len(g) and s[i] >= g[index]:\n",
    "                index += 1\n",
    "                result += 1\n",
    "        return result"
   ]
  },
  {
   "cell_type": "code",
   "execution_count": null,
   "id": "52f0d051",
   "metadata": {},
   "outputs": [],
   "source": [
    "# 先分配大饼干\n",
    "class Solution:\n",
    "    def findContentChildren(self, g: List[int], s: List[int]) -> int:\n",
    "        g.sort()\n",
    "        s.sort()\n",
    "        index = len(s) - 1\n",
    "        result = 0\n",
    "        # 注意是-1！\n",
    "        for i in range(len(g) - 1, -1, -1):\n",
    "            if index >= 0 and s[index] >= g[i]:\n",
    "                index -= 1\n",
    "                result += 1\n",
    "        return result"
   ]
  }
 ],
 "metadata": {
  "kernelspec": {
   "display_name": "Python 3 (ipykernel)",
   "language": "python",
   "name": "python3"
  },
  "language_info": {
   "codemirror_mode": {
    "name": "ipython",
    "version": 3
   },
   "file_extension": ".py",
   "mimetype": "text/x-python",
   "name": "python",
   "nbconvert_exporter": "python",
   "pygments_lexer": "ipython3",
   "version": "3.10.9"
  }
 },
 "nbformat": 4,
 "nbformat_minor": 5
}

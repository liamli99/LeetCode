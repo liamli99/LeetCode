{
 "cells": [
  {
   "cell_type": "markdown",
   "id": "009257eb",
   "metadata": {},
   "source": [
    "# Approach\n",
    "<!-- Describe your approach to solving the problem. -->\n",
    "贪心在于每一个senator应该先消灭后面的对手！因为在这一轮前面的对手已经行驶过权利了，再消灭也没意义，但是后面的对手会消灭自己的队友！   \n",
    "e.g.，RDDRD，第一个R消灭第二个D，第三个D应该消灭第四个R而不是第一个R！这样的话第五个D再消灭第一个R，赢了！ \n",
    "\n",
    "有些人说这是queue的题目，再看看！\n",
    "\n",
    "# Note\n",
    "\n",
    "\n",
    "# Code"
   ]
  },
  {
   "cell_type": "code",
   "execution_count": null,
   "id": "642b425f",
   "metadata": {},
   "outputs": [],
   "source": [
    "class Solution:\n",
    "    def predictPartyVictory(self, senate: str) -> str:\n",
    "        # 没被消灭的R的数量\n",
    "        numR = len(senate)\n",
    "        # 没被消灭的D的数量\n",
    "        numD = len(senate)\n",
    "\n",
    "        senate = list(senate)\n",
    "        # 记录所有遇到的R和D的数量，R加1，D减1\n",
    "        # count>=0，即之前遇到的所有R的数量大于等于D的数量时，当前的R没有被消灭，可以行使权力！count<=0时同理！\n",
    "        count = 0\n",
    "        while numR > 0 and numD > 0:\n",
    "            numR = numD = 0\n",
    "            for i in range(len(senate)):\n",
    "                if senate[i] == 'R':\n",
    "                    # 当之前的R的数量大于等于之前的D的数量时，此时的R没有被消灭！\n",
    "                    if count >= 0:\n",
    "                        numR += 1\n",
    "                    else:\n",
    "                        # 随便赋一个值，表示这个R被消灭了！\n",
    "                        senate[i] = 0\n",
    "                    # 遇到R加1，遇到D减1！\n",
    "                    count += 1\n",
    "                # 不能直接else，因为senate里面也可能有0！\n",
    "                elif senate[i] == 'D':\n",
    "                    if count <= 0:\n",
    "                        numD += 1\n",
    "                    else:\n",
    "                        senate[i] = 0\n",
    "                    count -= 1\n",
    "            \n",
    "            if count > 0:\n",
    "                numD -= count\n",
    "            elif count < 0:\n",
    "                numR += count\n",
    "        \n",
    "        if numD <= 0:\n",
    "            return \"Radiant\"\n",
    "        elif numR <= 0:\n",
    "            return \"Dire\""
   ]
  },
  {
   "cell_type": "code",
   "execution_count": null,
   "id": "3065d437",
   "metadata": {},
   "outputs": [],
   "source": [
    "# 另一种写法\n",
    "class Solution:\n",
    "    def predictPartyVictory(self, senate: str) -> str:\n",
    "        # R = true表示本轮循环结束后，字符串里依然有R。D同理\n",
    "        R , D = True, True\n",
    "\n",
    "        # 当flag大于0时，R在D前出现，R可以消灭D。当flag小于0时，D在R前出现，D可以消灭R\n",
    "        flag = 0\n",
    "\n",
    "        senate = list(senate)\n",
    "        while R and D: # 一旦R或者D为false，就结束循环，说明本轮结束后只剩下R或者D了\n",
    "            R = False\n",
    "            D = False\n",
    "            for i in range(len(senate)) :\n",
    "                if senate[i] == 'R' :\n",
    "                    if flag < 0: senate[i] = '0' # 消灭R，R此时为false\n",
    "                    else: R = True # 如果没被消灭，本轮循环结束有R\n",
    "                    flag += 1\n",
    "                if senate[i] == 'D':\n",
    "                    if flag > 0: senate[i] = '0'\n",
    "                    else: D = True\n",
    "                    flag -= 1\n",
    "        # 循环结束之后，R和D只能有一个为true\n",
    "        return \"Radiant\" if R else \"Dire\""
   ]
  }
 ],
 "metadata": {
  "kernelspec": {
   "display_name": "Python 3 (ipykernel)",
   "language": "python",
   "name": "python3"
  },
  "language_info": {
   "codemirror_mode": {
    "name": "ipython",
    "version": 3
   },
   "file_extension": ".py",
   "mimetype": "text/x-python",
   "name": "python",
   "nbconvert_exporter": "python",
   "pygments_lexer": "ipython3",
   "version": "3.10.9"
  }
 },
 "nbformat": 4,
 "nbformat_minor": 5
}

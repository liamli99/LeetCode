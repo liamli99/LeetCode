{
 "cells": [
  {
   "cell_type": "markdown",
   "id": "009257eb",
   "metadata": {},
   "source": [
    "# Approach\n",
    "<!-- Describe your approach to solving the problem. -->\n",
    "\n",
    "注意！最终利润是可以分解的：那么根据prices可以得到每天的利润序列：(prices[i] - prices[i - 1]).....(prices[1] - prices[0])   \n",
    "利润从第二天开始算起！当天减去前一天得到净利润，贪心在于想让每一天的净利润都是正数！   \n",
    "想让总利润最大，每天都要有正利润！所以我们定义局部最优：收集每天的正的净利润！  \n",
    "举个例子，假设prices=[5,7,9]，一看就知道应该第0天买第2天卖，这样利润为4。如果按照贪心来分析，由于第1天价格高于第0天，那么可以第0天买第1天卖，赚2！由于第2天价格高于第1天，那么可以第1天买第2天卖！一共赚4！   \n",
    "\n",
    "\n",
    "# Note\n",
    "\n",
    "\n",
    "# Code"
   ]
  },
  {
   "cell_type": "code",
   "execution_count": null,
   "id": "642b425f",
   "metadata": {},
   "outputs": [],
   "source": [
    "# 贪心\n",
    "class Solution:\n",
    "    def maxProfit(self, prices: List[int]) -> int:\n",
    "        # 可以删去！当仅有一个元素时无法跑下面的for loop\n",
    "        # if len(prices) == 1:\n",
    "        #     return 0\n",
    "        \n",
    "        profit = 0\n",
    "        for i in range(len(prices) - 1):\n",
    "            if prices[i + 1] - prices[i] > 0:\n",
    "                profit += prices[i + 1] - prices[i]\n",
    "        return profit"
   ]
  }
 ],
 "metadata": {
  "kernelspec": {
   "display_name": "Python 3 (ipykernel)",
   "language": "python",
   "name": "python3"
  },
  "language_info": {
   "codemirror_mode": {
    "name": "ipython",
    "version": 3
   },
   "file_extension": ".py",
   "mimetype": "text/x-python",
   "name": "python",
   "nbconvert_exporter": "python",
   "pygments_lexer": "ipython3",
   "version": "3.10.9"
  }
 },
 "nbformat": 4,
 "nbformat_minor": 5
}

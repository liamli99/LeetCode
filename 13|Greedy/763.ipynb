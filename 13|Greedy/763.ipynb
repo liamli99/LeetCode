{
 "cells": [
  {
   "cell_type": "markdown",
   "id": "009257eb",
   "metadata": {},
   "source": [
    "# Approach\n",
    "<!-- Describe your approach to solving the problem. -->\n",
    "感觉更像是hashtable的题目！要求是：1.尽可能多的片段 2.每个片段中的字母不能出现在别的片段中！\n",
    "\n",
    "我们从字符串的第一个字母开始。从从该字母初始位置0开始，遍历到边界(该字母最后出现的位置)，这是第一个片段的最短长度！在此过程中不断更新边界，即选择更大的边界。当我们抵达边界时，这就是第一个片段！接下来的片段以此类推！\n",
    "\n",
    "注意：记录每个字母最后出现的位置时，可以考虑用hashtable存储每个字母最后出现的位置！因为都是小写字母！\n",
    "\n",
    "# Note\n",
    "\n",
    "\n",
    "# Code"
   ]
  },
  {
   "cell_type": "code",
   "execution_count": null,
   "id": "02b50d9d",
   "metadata": {},
   "outputs": [],
   "source": [
    "class Solution:\n",
    "    def partitionLabels(self, s: str) -> List[int]:\n",
    "        \n",
    "        # hashtable去存储每个字母最后出现的位置！\n",
    "        lastIndex = [0] * 26\n",
    "        for i in range(len(s)):\n",
    "            lastIndex[ord(s[i]) - ord('a')] = i\n",
    "        \n",
    "        result = []\n",
    "        start, end = 0, 0\n",
    "        \n",
    "        for i in range(len(s)):\n",
    "            end = max(end, lastIndex[ord(s[i]) - ord('a')])\n",
    "            if i == end:\n",
    "                result.append(end - start + 1)\n",
    "                start = i + 1\n",
    "        \n",
    "        return result"
   ]
  },
  {
   "cell_type": "code",
   "execution_count": null,
   "id": "871f7c14",
   "metadata": {},
   "outputs": [],
   "source": [
    "# 435的思路"
   ]
  }
 ],
 "metadata": {
  "kernelspec": {
   "display_name": "Python 3 (ipykernel)",
   "language": "python",
   "name": "python3"
  },
  "language_info": {
   "codemirror_mode": {
    "name": "ipython",
    "version": 3
   },
   "file_extension": ".py",
   "mimetype": "text/x-python",
   "name": "python",
   "nbconvert_exporter": "python",
   "pygments_lexer": "ipython3",
   "version": "3.10.9"
  }
 },
 "nbformat": 4,
 "nbformat_minor": 5
}

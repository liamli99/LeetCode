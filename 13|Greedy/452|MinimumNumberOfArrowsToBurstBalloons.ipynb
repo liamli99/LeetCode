{
 "cells": [
  {
   "cell_type": "markdown",
   "id": "009257eb",
   "metadata": {},
   "source": [
    "# Approach\n",
    "- 本题想用最少数量的箭引爆所有气球，因此每一箭应该尽可能多的射重叠在一起的气球！\n",
    "\n",
    "- 将所有气球按照Xstart从小到大排序，用num记录射的箭的数量，初始值为0；用end记录**目前为止所有未被引爆且重叠的气球的Xend的最小值**，初始值为`points[0][1]`！遍历剩下的所有气球，如果当前气球的Xstart小于等于end，说明重叠了，当前气球可以留着一起被射，更新end；如果大于，说明没有重叠，可以对之前所有未被引爆且重叠的气球射一箭，箭的数量加1，那么当前气球的Xend就是新的end！\n",
    "\n",
    "- 注意最后返回的是num + 1，因为在上述过程当中，最后还剩下了一个或者一群重叠的气球没有被引爆！\n",
    "\n",
    "# Code"
   ]
  },
  {
   "cell_type": "code",
   "execution_count": null,
   "id": "642b425f",
   "metadata": {},
   "outputs": [],
   "source": [
    "# Time: O(nlogn), Space: O(n)\n",
    "from typing import List\n",
    "class Solution:\n",
    "    def findMinArrowShots(self, points: List[List[int]]) -> int:\n",
    "        points.sort(key = lambda x: x[0])\n",
    "        num = 0\n",
    "        end = points[0][1]\n",
    "\n",
    "        for i in range(1, len(points)):\n",
    "            if points[i][0] <= end:\n",
    "               end = min(end, points[i][1])\n",
    "            else:\n",
    "                num += 1\n",
    "                end = points[i][1]\n",
    "        \n",
    "        return num + 1\n"
   ]
  }
 ],
 "metadata": {
  "kernelspec": {
   "display_name": "Python 3 (ipykernel)",
   "language": "python",
   "name": "python3"
  },
  "language_info": {
   "codemirror_mode": {
    "name": "ipython",
    "version": 3
   },
   "file_extension": ".py",
   "mimetype": "text/x-python",
   "name": "python",
   "nbconvert_exporter": "python",
   "pygments_lexer": "ipython3",
   "version": "3.10.9"
  }
 },
 "nbformat": 4,
 "nbformat_minor": 5
}

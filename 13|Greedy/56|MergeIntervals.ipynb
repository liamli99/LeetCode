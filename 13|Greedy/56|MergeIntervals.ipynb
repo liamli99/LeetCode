{
 "cells": [
  {
   "cell_type": "markdown",
   "id": "009257eb",
   "metadata": {},
   "source": [
    "# Approach\n",
    "- 本题和435、452一样，也是区间类的问题，但是逻辑不太一样，更加的简单！\n",
    "\n",
    "- 将所有interval按照start从小到大排序，先将`interval[0]`存储到result中。遍历剩下的所有interval，如果当前interval的start小于等于result中最后一个interval的end，说明重叠了，将当前interval与result中的最后一个interval合并：只需要更新end！如果大于，说明没有重叠，将当前interval添加到result中！\n",
    "\n",
    "# Code"
   ]
  },
  {
   "cell_type": "code",
   "execution_count": null,
   "id": "642b425f",
   "metadata": {},
   "outputs": [],
   "source": [
    "# Time: O(nlogn), Space: O(n)\n",
    "from typing import List\n",
    "class Solution:\n",
    "    def merge(self, intervals: List[List[int]]) -> List[List[int]]:\n",
    "        intervals.sort(key = lambda x: x[0])\n",
    "        result = [intervals[0]]\n",
    "\n",
    "        for i in range(1, len(intervals)):\n",
    "            if intervals[i][0] <= result[-1][1]:\n",
    "                result[-1][1] = max(result[-1][1], intervals[i][1])\n",
    "            else:\n",
    "                result.append(intervals[i])\n",
    "        \n",
    "        return result"
   ]
  }
 ],
 "metadata": {
  "kernelspec": {
   "display_name": "Python 3 (ipykernel)",
   "language": "python",
   "name": "python3"
  },
  "language_info": {
   "codemirror_mode": {
    "name": "ipython",
    "version": 3
   },
   "file_extension": ".py",
   "mimetype": "text/x-python",
   "name": "python",
   "nbconvert_exporter": "python",
   "pygments_lexer": "ipython3",
   "version": "3.10.9"
  }
 },
 "nbformat": 4,
 "nbformat_minor": 5
}

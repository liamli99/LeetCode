{
 "cells": [
  {
   "cell_type": "markdown",
   "id": "009257eb",
   "metadata": {},
   "source": [
    "# Approach\n",
    "- 本题要求移除区间的最小数量，使得剩余区间互不重叠；我们可以先求出互不重叠的区间的最大数量，然后用len(intervals)减去这个数量，就是所求的最小数量！而互不重叠的区间的最大数量就是452中弓箭的最小数量！！！\n",
    "\n",
    "# Code"
   ]
  },
  {
   "cell_type": "code",
   "execution_count": null,
   "id": "642b425f",
   "metadata": {},
   "outputs": [],
   "source": [
    "# Time: O(nlogn), Space: O(n)\n",
    "from typing import List\n",
    "class Solution:\n",
    "    def eraseOverlapIntervals(self, intervals: List[List[int]]) -> int:\n",
    "        intervals.sort(key = lambda x: x[0])\n",
    "        num = 0\n",
    "        end = intervals[0][1]\n",
    "\n",
    "        for i in range(1, len(intervals)):\n",
    "            # 注意本题重叠的条件和452不同！\n",
    "            if intervals[i][0] < end:\n",
    "                end = min(end, intervals[i][1])\n",
    "            else:\n",
    "                num += 1\n",
    "                end = intervals[i][1]\n",
    "\n",
    "        return len(intervals) - (num + 1)\n",
    "    "
   ]
  }
 ],
 "metadata": {
  "kernelspec": {
   "display_name": "Python 3 (ipykernel)",
   "language": "python",
   "name": "python3"
  },
  "language_info": {
   "codemirror_mode": {
    "name": "ipython",
    "version": 3
   },
   "file_extension": ".py",
   "mimetype": "text/x-python",
   "name": "python",
   "nbconvert_exporter": "python",
   "pygments_lexer": "ipython3",
   "version": "3.10.9"
  }
 },
 "nbformat": 4,
 "nbformat_minor": 5
}

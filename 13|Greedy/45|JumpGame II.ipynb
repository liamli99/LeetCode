{
 "cells": [
  {
   "cell_type": "markdown",
   "id": "009257eb",
   "metadata": {},
   "source": [
    "# Approach\n",
    "- 本题和55区别在于，本题确定可以到达数组中的最后一个位置，求最少的跳跃次数！\n",
    "\n",
    "- 依次遍历数组中的每一个位置，并实时维护**当前跳跃最远可以到达的位置**和**下次跳跃最远可以到达的位置**！在当前跳跃最远可以到达的位置的范围内，找到下次跳跃最远可以到达的位置，当到达当前跳跃最远可以到达的位置时，跳跃次数加1，同时将当前跳跃最远可以到达的位置更新成下次跳跃最远可以到达的位置！\n",
    "\n",
    "- 贪心在于想让跳跃次数最少，因此每次跳跃都要跳的尽量远，所以我们定义局部最优：在当前跳跃的最远可以到达的位置的范围内不断更新下次跳跃最远可以到达的范围！\n",
    "\n",
    "\n",
    "# Code"
   ]
  },
  {
   "cell_type": "code",
   "execution_count": null,
   "id": "f874dae3",
   "metadata": {},
   "outputs": [],
   "source": [
    "# Time: O(n), Space: O(1)\n",
    "from typing import List\n",
    "class Solution:\n",
    "    def jump(self, nums: List[int]) -> int:\n",
    "        # 当前跳跃最远可以到达的位置\n",
    "        curr_max = 0\n",
    "        # 下次跳跃最远可以到达的位置\n",
    "        next_max = 0 \n",
    "        jump = 0\n",
    "\n",
    "        # i不可以取到len(nums) - 1，这是因为当len(nums)等于1时，应该直接返回0，而不是1！\n",
    "        for i in range(len(nums) - 1):\n",
    "            next_max = max(next_max, i + nums[i]) \n",
    "            \n",
    "            if i == curr_max:\n",
    "                # 跳跃一次\n",
    "                jump += 1\n",
    "                curr_max = next_max\n",
    "        \n",
    "        return jump"
   ]
  }
 ],
 "metadata": {
  "kernelspec": {
   "display_name": "Python 3 (ipykernel)",
   "language": "python",
   "name": "python3"
  },
  "language_info": {
   "codemirror_mode": {
    "name": "ipython",
    "version": 3
   },
   "file_extension": ".py",
   "mimetype": "text/x-python",
   "name": "python",
   "nbconvert_exporter": "python",
   "pygments_lexer": "ipython3",
   "version": "3.10.9"
  }
 },
 "nbformat": 4,
 "nbformat_minor": 5
}

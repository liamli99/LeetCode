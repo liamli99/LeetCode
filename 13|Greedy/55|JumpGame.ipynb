{
 "cells": [
  {
   "cell_type": "markdown",
   "id": "009257eb",
   "metadata": {},
   "source": [
    "# Approach\n",
    "- 依次遍历数组中的每一个位置，并实时维护**最远可以到达的位置**！对于当前遍历到的位置，如果不在最远可以到达的位置范围内，那直接返回False；如果在，那就更新最远可以到达的位置，如果最远可以到达的位置大于等于数组中的最后一个位置，直接返回True！\n",
    "\n",
    "- 贪心在于想让最远可以到达的位置尽可能的大，最好大于等于数组中的最后一个位置！所以我们定义局部最优：在数组的每个位置都更新最远可以到达的位置！\n",
    "\n",
    "# Code"
   ]
  },
  {
   "cell_type": "code",
   "execution_count": null,
   "id": "ad5cb5ee",
   "metadata": {},
   "outputs": [],
   "source": [
    "# Time: O(n), Space: O(1)\n",
    "from typing import List\n",
    "class Solution:\n",
    "    def canJump(self, nums: List[int]) -> bool:\n",
    "        # 最远可以到达的位置\n",
    "        rightmost = 0\n",
    "\n",
    "        for i in range(len(nums)):\n",
    "            if i > rightmost:\n",
    "                return False\n",
    "            \n",
    "            rightmost = max(rightmost, i + nums[i])\n",
    "\n",
    "            if rightmost >= len(nums) - 1:\n",
    "                return True\n"
   ]
  }
 ],
 "metadata": {
  "kernelspec": {
   "display_name": "Python 3 (ipykernel)",
   "language": "python",
   "name": "python3"
  },
  "language_info": {
   "codemirror_mode": {
    "name": "ipython",
    "version": 3
   },
   "file_extension": ".py",
   "mimetype": "text/x-python",
   "name": "python",
   "nbconvert_exporter": "python",
   "pygments_lexer": "ipython3",
   "version": "3.10.9"
  }
 },
 "nbformat": 4,
 "nbformat_minor": 5
}

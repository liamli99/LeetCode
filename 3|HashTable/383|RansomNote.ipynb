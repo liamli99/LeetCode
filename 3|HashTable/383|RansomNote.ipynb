{
 "cells": [
  {
   "cell_type": "markdown",
   "id": "009257eb",
   "metadata": {},
   "source": [
    "# Approach\n",
    "- 基本类似242，本题我们要从magazine中选取字母，看能否组成ransomNote！所以我们要先用list构建hash table去存储magazine中每个字母出现的次数，然后遍历ransomNote，对于每个字母在hash table相应的位置-=1，如果出现小于0的情况，说明这个字母不在magazine中或者已经被用完了，返回False！\n",
    "\n",
    "# Code"
   ]
  },
  {
   "cell_type": "code",
   "execution_count": null,
   "id": "642b425f",
   "metadata": {},
   "outputs": [],
   "source": [
    "# List\n",
    "# Time: O(n + m), Space: O(1)\n",
    "class Solution:\n",
    "    def canConstruct(self, ransomNote: str, magazine: str) -> bool:\n",
    "        record = [0] * 26\n",
    "        \n",
    "        for char in magazine:\n",
    "            record[ord(char) - ord('a')] += 1\n",
    "        \n",
    "        for char in ransomNote:\n",
    "            record[ord(char) - ord('a')] -= 1\n",
    "\n",
    "            if record[ord(char) - ord('a')] < 0:\n",
    "                return False\n",
    "\n",
    "        return True"
   ]
  }
 ],
 "metadata": {
  "kernelspec": {
   "display_name": "Python 3 (ipykernel)",
   "language": "python",
   "name": "python3"
  },
  "language_info": {
   "codemirror_mode": {
    "name": "ipython",
    "version": 3
   },
   "file_extension": ".py",
   "mimetype": "text/x-python",
   "name": "python",
   "nbconvert_exporter": "python",
   "pygments_lexer": "ipython3",
   "version": "3.10.9"
  }
 },
 "nbformat": 4,
 "nbformat_minor": 5
}

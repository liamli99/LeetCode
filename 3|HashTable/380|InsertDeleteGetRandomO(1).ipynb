{
 "cells": [
  {
   "cell_type": "markdown",
   "id": "7d405163",
   "metadata": {},
   "source": [
    "# Approach\n",
    "- 本题要在O(1)内添加元素，删除元素，以及选取随机元素。重点在于选取随机元素，在Python中我们可以用`random.choice(list)`在O(1)内从list中随机选取一个元素！因此我们选择用list来存储元素！\n",
    "\n",
    "- 然而，在insert和remove中我们都需要先判断元素是否存在，`x in list`的时间复杂度为O(n)，不符合要求！所以我们还需要一个dict，key表示元素，value表示该元素在list中的index！！！具体方法：\n",
    "  - `insert(val)`：判断val是否在dict中，如果存在，返回False；如果不在：\n",
    "    - 将val添加进list的末尾，`list.append(x)`的时间复杂度为O(1)！\n",
    "    - 将val作为key，它在list中的index`(len(list) - 1)`作为value，添加进dict！\n",
    "  \n",
    "  - `remove(val)`：判断val是否在dict中，如果不在，返回False；如果存在：\n",
    "    - 从dict中得到val在list中的index，记为idx\n",
    "    - 将list中的最后一个元素覆盖`list[idx]`\n",
    "    - 在dict中将list中的最后一个元素的下标更新为idx\n",
    "    - 将list中的最后一个元素删除，`list.pop()`的时间复杂度为O(1)！\n",
    "    - 在dict中删除val！\n",
    "\n",
    "  - `getRandom()`：`return random.choice(list)`\n",
    "\n",
    "# Note\n",
    "- `random.choice(sequence)`: 从sequence中随机选取一个元素！\n",
    "  - Python Sequence Types: (1) list (2) tuple (3) range\n",
    "  - 时间复杂度和从sequence中查看某一元素相同！例如random.choice(list)的时间复杂度为O(1)，因为`list[i]`也是O(1)！\n",
    "\n",
    "# Code"
   ]
  },
  {
   "cell_type": "code",
   "execution_count": null,
   "id": "d71f4814",
   "metadata": {},
   "outputs": [],
   "source": [
    "import random\n",
    "\n",
    "class RandomizedSet:\n",
    "\n",
    "    def __init__(self):\n",
    "        self.nums = []\n",
    "        self.indices = {}\n",
    "\n",
    "    def insert(self, val: int) -> bool:\n",
    "        if val in self.indices:\n",
    "            return False\n",
    "        \n",
    "        else:\n",
    "            self.nums.append(val)\n",
    "            self.indices[val] = len(self.nums) - 1\n",
    "            \n",
    "            return True\n",
    "\n",
    "    def remove(self, val: int) -> bool:\n",
    "        if val not in self.indices:\n",
    "            return False\n",
    "        \n",
    "        else:\n",
    "            idx = self.indices[val]\n",
    "            \n",
    "            self.nums[idx] = self.nums[-1]\n",
    "            self.indices[self.nums[-1]] = idx\n",
    "\n",
    "            self.nums.pop()\n",
    "            del self.indices[val]\n",
    "\n",
    "            return True\n",
    "\n",
    "    def getRandom(self) -> int:\n",
    "        return random.choice(self.nums)"
   ]
  }
 ],
 "metadata": {
  "kernelspec": {
   "display_name": "base",
   "language": "python",
   "name": "python3"
  },
  "language_info": {
   "codemirror_mode": {
    "name": "ipython",
    "version": 3
   },
   "file_extension": ".py",
   "mimetype": "text/x-python",
   "name": "python",
   "nbconvert_exporter": "python",
   "pygments_lexer": "ipython3",
   "version": "3.10.14"
  }
 },
 "nbformat": 4,
 "nbformat_minor": 5
}

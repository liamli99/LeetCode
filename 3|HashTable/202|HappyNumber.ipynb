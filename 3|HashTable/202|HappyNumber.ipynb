{
 "cells": [
  {
   "cell_type": "markdown",
   "id": "009257eb",
   "metadata": {},
   "source": [
    "# Approach\n",
    "- 对于一个正整数n，将其替换成sum of the squares of its digits，重复上述过程，最终只会有两种结果：得到1或者陷入循环！\n",
    "\n",
    "- 计算sum of the squares of n's digits很简单，因此本题的难点在于如何判断陷入循环！我们可以构建一个set，当生成下一个数字时，检查该数字是否在set中，如果不在，将其添加到set中；如果在，说明陷入循环！\n",
    "\n",
    "- 由于我们要反复检查数字是否存在，因此用set，时间复杂度为O(1)！\n",
    "\n",
    "# Code"
   ]
  },
  {
   "cell_type": "code",
   "execution_count": null,
   "id": "642b425f",
   "metadata": {},
   "outputs": [],
   "source": [
    "# Time: O(log n), Space: O(log n), 很复杂！\n",
    "class Solution:\n",
    "    def isHappy(self, n: int) -> bool:\n",
    "        record = set()\n",
    "        \n",
    "        # 当得到1或者陷入循环的时候退出while loop！\n",
    "        while n != 1 and n not in record:\n",
    "            record.add(n)\n",
    "            n = self.calculate(n)\n",
    "        \n",
    "        return n == 1\n",
    "    \n",
    "    # 计算sum of squares of n's digits\n",
    "    def calculate(self, n):\n",
    "        num = 0\n",
    "        while n > 0:\n",
    "            num += (n % 10) ** 2\n",
    "            n //= 10\n",
    "        return num"
   ]
  }
 ],
 "metadata": {
  "kernelspec": {
   "display_name": "Python 3 (ipykernel)",
   "language": "python",
   "name": "python3"
  },
  "language_info": {
   "codemirror_mode": {
    "name": "ipython",
    "version": 3
   },
   "file_extension": ".py",
   "mimetype": "text/x-python",
   "name": "python",
   "nbconvert_exporter": "python",
   "pygments_lexer": "ipython3",
   "version": "3.10.9"
  }
 },
 "nbformat": 4,
 "nbformat_minor": 5
}

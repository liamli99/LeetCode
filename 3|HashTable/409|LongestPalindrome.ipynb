{
 "cells": [
  {
   "cell_type": "markdown",
   "id": "7d405163",
   "metadata": {},
   "source": [
    "# Approach\n",
    "- 回文序列中每个字母都有偶数个，最多只能存在一个字母有奇数个，且多出来的一个在正中间！\n",
    "\n",
    "- 因此我们用dict，key是字母，value是该字母的出现次数！如果是偶数个，那么直接加进result中，如果是第一次遇见奇数个，那么也直接加进result中，如果不是第一次遇见奇数个，那么数量-1再加进result中！\n",
    "\n",
    "- 由于s中既有大写字母也有小写字母，因此我们不用list作为hashtable！\n",
    " \n",
    "# Code"
   ]
  },
  {
   "cell_type": "code",
   "execution_count": null,
   "id": "cdcaa6af",
   "metadata": {},
   "outputs": [],
   "source": [
    "# Time: O(n), Space: O(52), s only consists of lowercase and/or uppercase letter\n",
    "class Solution:\n",
    "    def longestPalindrome(self, s: str) -> int:\n",
    "        hashTable = {}\n",
    "        result = 0\n",
    "        isFirst = True\n",
    "\n",
    "        for char in s:\n",
    "            hashTable[char] = hashTable.get(char, 0) + 1\n",
    "        \n",
    "        for count in hashTable.values():\n",
    "            if count % 2 == 0:\n",
    "                result += count\n",
    "            elif isFirst:\n",
    "                result += count\n",
    "                isFirst = False\n",
    "            else:\n",
    "                result += count - 1\n",
    "        \n",
    "        return result"
   ]
  }
 ],
 "metadata": {
  "kernelspec": {
   "display_name": "Python 3 (ipykernel)",
   "language": "python",
   "name": "python3"
  },
  "language_info": {
   "codemirror_mode": {
    "name": "ipython",
    "version": 3
   },
   "file_extension": ".py",
   "mimetype": "text/x-python",
   "name": "python",
   "nbconvert_exporter": "python",
   "pygments_lexer": "ipython3",
   "version": "3.10.9"
  }
 },
 "nbformat": 4,
 "nbformat_minor": 5
}

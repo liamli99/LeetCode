{
 "cells": [
  {
   "cell_type": "markdown",
   "id": "009257eb",
   "metadata": {},
   "source": [
    "# Approach\n",
    "- 题目要求time complexity为O(n)，因此不能用sorting！  \n",
    "\n",
    "- 如果想要找到nums中的最长连续数字，那我们要先找到连续数字的第一个数字！第一个数字的特征是比它小1的数字不会在nums中！我们遍历nums，如果找到一个数字，比它小1的数字不在nums中，那么这个数字就有可能是连续数字的第一个数字！我们接着要去检查比这个数字大1的数字是否在nums中！如果不在，那么以这个数字开头的连续数字长度就只有1！如果还在，那我们就要继续检查大2的数字，以此类推，直到检查到不在nums中为止！ \n",
    "\n",
    "- 由于本题频繁用到查找元素是否存在，因此需要把list转化为set，效率更高！同时本题是求连续的元素，因此不需要考虑重复元素，用set是安全的！   \n",
    "\n",
    "# Code"
   ]
  },
  {
   "cell_type": "code",
   "execution_count": null,
   "id": "cdf13b4e",
   "metadata": {},
   "outputs": [],
   "source": [
    "# Time: O(n), Space: O(n)\n",
    "class Solution:\n",
    "    def longestConsecutive(self, nums: List[int]) -> int:\n",
    "        numSet = set(nums)\n",
    "        maxLength = 0\n",
    "\n",
    "        for num in numSet:\n",
    "            if num - 1 not in numSet:\n",
    "                currLength = 1\n",
    "                \n",
    "                while num + 1 in numSet:\n",
    "                    currLength += 1\n",
    "                    num += 1\n",
    "                \n",
    "                maxLength = max(maxLength, currLength)\n",
    "        \n",
    "        return maxLength"
   ]
  }
 ],
 "metadata": {
  "kernelspec": {
   "display_name": "Python 3 (ipykernel)",
   "language": "python",
   "name": "python3"
  },
  "language_info": {
   "codemirror_mode": {
    "name": "ipython",
    "version": 3
   },
   "file_extension": ".py",
   "mimetype": "text/x-python",
   "name": "python",
   "nbconvert_exporter": "python",
   "pygments_lexer": "ipython3",
   "version": "3.10.9"
  }
 },
 "nbformat": 4,
 "nbformat_minor": 5
}

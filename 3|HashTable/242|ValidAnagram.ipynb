{
 "cells": [
  {
   "cell_type": "markdown",
   "id": "009257eb",
   "metadata": {},
   "source": [
    "# Approach\n",
    "- Anagram的定义是：两个字符串中字符出现的种类和次数均相等，我们可以构建一个hash table去存储每个字母出现的次数！\n",
    "\n",
    "- 由于是小写字母，我们利用list构建hash table，长度为26！Hash function是`ord(char) - ord('a')`，hash table中存储字母出现的次数！\n",
    "\n",
    "- 我们可以构建两个hash table分别存储s和t中每个元素出现的次数，最后只要比较这两个hash table是否相等即可！但是为了节约空间，我们只构建一个hash table：首先遍历s，s中每个字母出现一次就在hast table的对应位置加1；然后遍历t，t中的每个字母每出现一个就在hash table的对应位置减1！最后看这个hash table是不是所有位置都是0！\n",
    "\n",
    "# Code\n",
    "`ord(character)`: return the number representing the unicode code of a character"
   ]
  },
  {
   "cell_type": "code",
   "execution_count": null,
   "id": "642b425f",
   "metadata": {},
   "outputs": [],
   "source": [
    "# List\n",
    "# Time: O(n + m), Space: O(1)\n",
    "class Solution:\n",
    "    def isAnagram(self, s: str, t: str) -> bool:\n",
    "        record = [0] * 26\n",
    "        \n",
    "        for char in s:\n",
    "            record[ord(char) - ord('a')] += 1\n",
    "        for char in t:\n",
    "            record[ord(char) - ord('a')] -= 1\n",
    "        \n",
    "        for i in range(26):\n",
    "            if record[i] != 0:\n",
    "                return False\n",
    "        \n",
    "        return True"
   ]
  }
 ],
 "metadata": {
  "kernelspec": {
   "display_name": "Python 3 (ipykernel)",
   "language": "python",
   "name": "python3"
  },
  "language_info": {
   "codemirror_mode": {
    "name": "ipython",
    "version": 3
   },
   "file_extension": ".py",
   "mimetype": "text/x-python",
   "name": "python",
   "nbconvert_exporter": "python",
   "pygments_lexer": "ipython3",
   "version": "3.10.9"
  }
 },
 "nbformat": 4,
 "nbformat_minor": 5
}

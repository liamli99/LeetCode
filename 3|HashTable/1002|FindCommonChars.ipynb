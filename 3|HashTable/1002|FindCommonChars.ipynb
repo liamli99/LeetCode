{
 "cells": [
  {
   "cell_type": "markdown",
   "id": "009257eb",
   "metadata": {},
   "source": [
    "# Approach\n",
    "- 本题就是要找到出现在words中所有单词的字符！注意如果有相同字符在所有单词中重复出现了多次，那么我们就要记录多次！\n",
    "\n",
    "- 参考242，给words中的每个单词用list建一个hash table来统计每个单词中各个字符的出现次数，common characters及其数量就是所有hash table中每个字符出现次数的最小值！！！   \n",
    "\n",
    "# Note\n",
    "- `list.append(ele)`: Add an element to the end of the list\n",
    "- `list.extend(iterable)`: Add each element of an iterable (e.g. list) to the end of the list\n",
    "\n",
    "# Code"
   ]
  },
  {
   "cell_type": "code",
   "execution_count": null,
   "id": "580e9e22",
   "metadata": {},
   "outputs": [],
   "source": [
    "# Time: O(n * (k + 26)), Space: O(k + n * 26), n = len(words), k = average length of strings in words\n",
    "class Solution:\n",
    "    def commonChars(self, words: List[str]) -> List[str]:\n",
    "        minFreq = [float('inf')] * 26\n",
    "        result = []\n",
    "\n",
    "        for word in words:\n",
    "            freq = [0] * 26\n",
    "            \n",
    "            for char in word:\n",
    "                freq[ord(char) - ord('a')] += 1\n",
    "            \n",
    "            for i in range(26):\n",
    "                minFreq[i] = min(minFreq[i], freq[i])\n",
    "        \n",
    "        for i in range(26):\n",
    "            # while minFreq[i] != 0:\n",
    "            #     result.append(chr(i + ord('a')))\n",
    "            #     minFreq[i] -= 1\n",
    "            result.extend([chr(i + ord('a'))] * minFreq[i])\n",
    "\n",
    "        return result"
   ]
  }
 ],
 "metadata": {
  "kernelspec": {
   "display_name": "base",
   "language": "python",
   "name": "python3"
  },
  "language_info": {
   "codemirror_mode": {
    "name": "ipython",
    "version": 3
   },
   "file_extension": ".py",
   "mimetype": "text/x-python",
   "name": "python",
   "nbconvert_exporter": "python",
   "pygments_lexer": "ipython3",
   "version": "3.10.14"
  }
 },
 "nbformat": 4,
 "nbformat_minor": 5
}

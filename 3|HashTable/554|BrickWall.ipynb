{
 "cells": [
  {
   "cell_type": "markdown",
   "id": "7d405163",
   "metadata": {},
   "source": [
    "# Approach\n",
    "- 本题其实很简单，想要穿过的brick最少，那我们就想尽可能多的穿过gap！\n",
    "\n",
    "- 我们可以构建一个dict，key表示gap的位置，value表示处于该位置的gap的数量！遍历wall，更新dict！遍历完wall后，找到数量最多的gap，从这里开始画线，穿过的brick最少！ \n",
    "\n",
    "- 注意gap的位置不可以是每一行的最左边和最右边！！！\n",
    "\n",
    "# Code"
   ]
  },
  {
   "cell_type": "code",
   "execution_count": null,
   "id": "cdcaa6af",
   "metadata": {},
   "outputs": [],
   "source": [
    "# Time: O(n * k), Space: O(n * k), n = len(wall), k = average length of lists in wall\n",
    "class Solution:\n",
    "    def leastBricks(self, wall: List[List[int]]) -> int:\n",
    "        gap = {}\n",
    "\n",
    "        for row in wall:\n",
    "            gapLocation = 0\n",
    "            \n",
    "            # gap不可以在最右边\n",
    "            for i in range(len(row) - 1):\n",
    "                gapLocation += row[i]\n",
    "                gap[gapLocation] = gap.get(gapLocation, 0) + 1\n",
    "        \n",
    "        # 如果wall中没有不在最左边和最右边的gap，那么gap.values()为空，无法使用max(gap.values())！！！\n",
    "        return len(wall) - max(gap.values()) if gap.values() else len(wall)"
   ]
  }
 ],
 "metadata": {
  "kernelspec": {
   "display_name": "base",
   "language": "python",
   "name": "python3"
  },
  "language_info": {
   "codemirror_mode": {
    "name": "ipython",
    "version": 3
   },
   "file_extension": ".py",
   "mimetype": "text/x-python",
   "name": "python",
   "nbconvert_exporter": "python",
   "pygments_lexer": "ipython3",
   "version": "3.10.14"
  }
 },
 "nbformat": 4,
 "nbformat_minor": 5
}

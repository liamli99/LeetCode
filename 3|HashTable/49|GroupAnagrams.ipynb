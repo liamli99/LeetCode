{
 "cells": [
  {
   "cell_type": "markdown",
   "id": "009257eb",
   "metadata": {},
   "source": [
    "# Approach\n",
    "- 参考242，对strs中的每个string都用list构建一个hash table，统计该string中每个字符的出现次数！如果某些strings是anagrams，那么它们的hash table一定是完全相同的！\n",
    "\n",
    "- 242中仅有两个string，但是本题有许多个string，因此我们可以建一个dict，key为hash table，value为list of anagrams！注意dict的key必须是immutable，而本题我们用list构建hash table，由于list不是immutable，我们可以将其转化成tuple！！！   \n",
    "\n",
    "- 具体方法：遍历strs中的string，为每一个string都用list构建一个hash table，统计该string中各个字符的出现次数！构建完成后，检查`tuple(hash table)`是否出现在dict的key中，如果没有，说明这个string暂时没有anagram，我们将`tuple(hash table)`作为key，`[string]`作为value添加进dict中！如果有，我们把这个string加进value中！遍历结束后返回list of all values in dict: `dict.values()`！\n",
    "\n",
    "# Code"
   ]
  },
  {
   "cell_type": "code",
   "execution_count": null,
   "id": "642b425f",
   "metadata": {},
   "outputs": [],
   "source": [
    "# Dict\n",
    "# Time: O(n * (k + 26)), Space: O(n * (k + 26)), n = len(strs), k = average length of strings in strs\n",
    "class Solution:\n",
    "    def groupAnagrams(self, strs: List[str]) -> List[List[str]]:\n",
    "        result = {}\n",
    "\n",
    "        for s in strs:\n",
    "            record = [0] * 26\n",
    "            for char in s:\n",
    "                record[ord(char) - ord('a')] += 1\n",
    "            \n",
    "            if tuple(record) in result:\n",
    "                result[tuple(record)].append(s)\n",
    "            else:\n",
    "                result[tuple(record)] = [s]\n",
    "        \n",
    "        return result.values()"
   ]
  }
 ],
 "metadata": {
  "kernelspec": {
   "display_name": "Python 3 (ipykernel)",
   "language": "python",
   "name": "python3"
  },
  "language_info": {
   "codemirror_mode": {
    "name": "ipython",
    "version": 3
   },
   "file_extension": ".py",
   "mimetype": "text/x-python",
   "name": "python",
   "nbconvert_exporter": "python",
   "pygments_lexer": "ipython3",
   "version": "3.10.9"
  }
 },
 "nbformat": 4,
 "nbformat_minor": 5
}

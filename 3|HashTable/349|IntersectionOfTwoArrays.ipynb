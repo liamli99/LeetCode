{
 "cells": [
  {
   "cell_type": "markdown",
   "id": "009257eb",
   "metadata": {},
   "source": [
    "# Approach\n",
    "- 先建一个set用来存储最终结果，用set是因为可以去重！然后将nums1由list转化为set，时间和空间复杂度均为O(n)，用set是因为查找元素是否存在只需要O(1)!\n",
    "\n",
    "- 然后遍历nums2，对于nums2中的每一个元素，如果该元素在nums1转化的set中，说明这属于intersection，将其加入result中！最后将result从set转化为list返回！\n",
    "\n",
    "# Code"
   ]
  },
  {
   "cell_type": "code",
   "execution_count": null,
   "id": "1ae4c0db",
   "metadata": {},
   "outputs": [],
   "source": [
    "# Set\n",
    "# Time: O(n + m), Space: O(n + min(n, m))\n",
    "class Solution:\n",
    "    def intersection(self, nums1: List[int], nums2: List[int]) -> List[int]:\n",
    "        result = set()\n",
    "        set1 = set(nums1)\n",
    "        \n",
    "        for num in nums2:\n",
    "            if num in set1:\n",
    "                result.add(num)\n",
    "                \n",
    "        return list(result)"
   ]
  }
 ],
 "metadata": {
  "kernelspec": {
   "display_name": "Python 3 (ipykernel)",
   "language": "python",
   "name": "python3"
  },
  "language_info": {
   "codemirror_mode": {
    "name": "ipython",
    "version": 3
   },
   "file_extension": ".py",
   "mimetype": "text/x-python",
   "name": "python",
   "nbconvert_exporter": "python",
   "pygments_lexer": "ipython3",
   "version": "3.10.9"
  }
 },
 "nbformat": 4,
 "nbformat_minor": 5
}

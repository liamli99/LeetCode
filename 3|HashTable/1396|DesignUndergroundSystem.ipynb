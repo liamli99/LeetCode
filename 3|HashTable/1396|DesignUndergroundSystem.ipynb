{
 "cells": [
  {
   "cell_type": "markdown",
   "id": "7d405163",
   "metadata": {},
   "source": [
    "# Approach\n",
    "- 构建两个dict，其中一个记录check in的乘客的信息，key是id，value是[startStation, startTime]！另一个记录两站之间的总人数和总时间，key是(startStation, endStation)，value是[totalTime, totalPeople]!\n",
    " \n",
    "- 当乘客check in时，用dict1来记录其信息；当乘客check out时，用dict2来更新两站之间的总人数和总时间；用dict2来计算两站之间的average time！\n",
    "\n",
    "# Code"
   ]
  },
  {
   "cell_type": "code",
   "execution_count": null,
   "id": "908a5312",
   "metadata": {},
   "outputs": [],
   "source": [
    "class UndergroundSystem:\n",
    "\n",
    "    def __init__(self):\n",
    "        self.dict1 = {}\n",
    "        self.dict2 = {}\n",
    "        \n",
    "    def checkIn(self, id: int, stationName: str, t: int) -> None:\n",
    "        self.dict1[id] = [stationName, t]\n",
    "\n",
    "    def checkOut(self, id: int, stationName: str, t: int) -> None:\n",
    "        startStation = self.dict1[id][0]\n",
    "        startTime = self.dict1[id][1]\n",
    "\n",
    "        key = (startStation, stationName)\n",
    "\n",
    "        totalTime = self.dict2.get(key, [0, 0])[0] + t - startTime\n",
    "        totalPeople = self.dict2.get(key, [0, 0])[1] + 1\n",
    "\n",
    "        self.dict2[key] = [totalTime, totalPeople]\n",
    "\n",
    "    def getAverageTime(self, startStation: str, endStation: str) -> float:\n",
    "        key = (startStation, endStation)\n",
    "        totalTime = self.dict2[key][0]\n",
    "        totalPeople = self.dict2[key][1]\n",
    "\n",
    "        return totalTime / totalPeople"
   ]
  }
 ],
 "metadata": {
  "kernelspec": {
   "display_name": "base",
   "language": "python",
   "name": "python3"
  },
  "language_info": {
   "codemirror_mode": {
    "name": "ipython",
    "version": 3
   },
   "file_extension": ".py",
   "mimetype": "text/x-python",
   "name": "python",
   "nbconvert_exporter": "python",
   "pygments_lexer": "ipython3",
   "version": "3.10.14"
  }
 },
 "nbformat": 4,
 "nbformat_minor": 5
}

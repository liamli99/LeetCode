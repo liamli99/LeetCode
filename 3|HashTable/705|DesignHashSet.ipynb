{
 "cells": [
  {
   "cell_type": "markdown",
   "id": "7d405163",
   "metadata": {},
   "source": [
    "# Approach\n",
    "- 本题要求构建一个hashset，我们知道hashset属于hash table，所以查找元素是否存在，添加元素，删除元素这三个操作都是O(1)！因此我们用新的数据结构去设计的add，remove和contains时间复杂度必须都是O(1)！   \n",
    "\n",
    "- 本题不能使用built-in hash table libraries，因此不能用set和dict，因为**In Python, dict and set are built on top of hash tables**！由于数据是整数，我们可以用list去构建hash table！哈希函数为数据本身，根据constraints，数组长度为10^6+1!\n",
    "\n",
    "- 上述这种做法很明显是在牺牲空间换取时间，因为list的长度太大了！我们可以将list的长度取一个较小的值base，对于一个数据x，哈希函数就是`x mod base`！但是这样的话可能会产生哈希碰撞，即不同的数据经过哈希函数被映射到同一个索引！为了解决这个问题，在索引处我们不再直接存储数值，而是存储linked list！！！\n",
    "\n",
    "# Code"
   ]
  },
  {
   "cell_type": "code",
   "execution_count": null,
   "id": "cdcaa6af",
   "metadata": {},
   "outputs": [],
   "source": [
    "# List\n",
    "class MyHashSet:\n",
    "\n",
    "    def __init__(self):\n",
    "        self.list = [False] * (10 ** 6 + 1)\n",
    "\n",
    "    def add(self, key: int) -> None:\n",
    "        self.list[key] = True\n",
    "\n",
    "    def remove(self, key: int) -> None:\n",
    "        self.list[key] = False\n",
    "\n",
    "    def contains(self, key: int) -> bool:\n",
    "        return self.list[key]"
   ]
  },
  {
   "cell_type": "code",
   "execution_count": null,
   "id": "8e49f104",
   "metadata": {},
   "outputs": [],
   "source": [
    "# List + Linked List"
   ]
  }
 ],
 "metadata": {
  "kernelspec": {
   "display_name": "Python 3 (ipykernel)",
   "language": "python",
   "name": "python3"
  },
  "language_info": {
   "codemirror_mode": {
    "name": "ipython",
    "version": 3
   },
   "file_extension": ".py",
   "mimetype": "text/x-python",
   "name": "python",
   "nbconvert_exporter": "python",
   "pygments_lexer": "ipython3",
   "version": "3.10.9"
  }
 },
 "nbformat": 4,
 "nbformat_minor": 5
}

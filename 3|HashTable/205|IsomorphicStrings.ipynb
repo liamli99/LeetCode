{
 "cells": [
  {
   "cell_type": "markdown",
   "id": "009257eb",
   "metadata": {},
   "source": [
    "# Approach\n",
    "- s中的字符和t中的字符按照顺序一一对应，这也被称为‘双射’的关系！\n",
    "\n",
    "- 构建两个字典dict1和dict2：dict1以s中的字符为key，以其对应的t中的字符为value；dict2以t中的字符为key，以其对应的s中的字符为value！遍历s和t，不断更新dict1和dict2，如果发现某对s中的字符和t中的字符的配对方式和之前不符，返回False！  \n",
    "\n",
    "# Code"
   ]
  },
  {
   "cell_type": "code",
   "execution_count": null,
   "id": "cdf13b4e",
   "metadata": {},
   "outputs": [],
   "source": [
    "# Dict\n",
    "# Time: O(n), Space: O(n)\n",
    "class Solution:\n",
    "    def isIsomorphic(self, s: str, t: str) -> bool:\n",
    "        dict1, dict2 = {}, {}\n",
    "\n",
    "        for i in range(len(s)):\n",
    "            if s[i] not in dict1 and t[i] not in dict2:\n",
    "                dict1[s[i]] = t[i]\n",
    "                dict2[t[i]] = s[i]\n",
    "            \n",
    "            elif s[i] in dict1 and t[i] in dict2:\n",
    "                if dict1[s[i]] != t[i] or dict2[t[i]] != s[i]:\n",
    "                    return False\n",
    " \n",
    "            else:\n",
    "                return False\n",
    "        \n",
    "        return True"
   ]
  }
 ],
 "metadata": {
  "kernelspec": {
   "display_name": "Python 3 (ipykernel)",
   "language": "python",
   "name": "python3"
  },
  "language_info": {
   "codemirror_mode": {
    "name": "ipython",
    "version": 3
   },
   "file_extension": ".py",
   "mimetype": "text/x-python",
   "name": "python",
   "nbconvert_exporter": "python",
   "pygments_lexer": "ipython3",
   "version": "3.10.9"
  }
 },
 "nbformat": 4,
 "nbformat_minor": 5
}

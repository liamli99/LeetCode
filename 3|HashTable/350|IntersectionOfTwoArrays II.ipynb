{
 "cells": [
  {
   "cell_type": "markdown",
   "id": "009257eb",
   "metadata": {},
   "source": [
    "# Approach\n",
    "- 本题和349的不同之处在于本题允许重复！因此本题的hash table不能用set！\n",
    "\n",
    "- 首先遍历nums1，用hash table记录nums1中每个数字的出现次数！然后遍历nums2，对于nums2中的每个元素，如果该元素在hash table中且出现次数大于0，那么说明该元素属于intersection，将其加入最终结果中，出现次数-=1！如果小于0，跳过！\n",
    "\n",
    "- 根据Constraints，nums1和nums2中的元素是整数且最大值也不超过1000，因此hash table也可以用list！\n",
    "\n",
    "# Code"
   ]
  },
  {
   "cell_type": "code",
   "execution_count": null,
   "id": "642b425f",
   "metadata": {},
   "outputs": [],
   "source": [
    "# List\n",
    "# Time: O(n + m), Space: O(min(n, m))\n",
    "class Solution:\n",
    "    def intersect(self, nums1: List[int], nums2: List[int]) -> List[int]:\n",
    "        result = []\n",
    "        hashTable = [0] * 1001\n",
    "        \n",
    "        for num in nums1:\n",
    "            hashTable[num] += 1\n",
    "        \n",
    "        for num in nums2:\n",
    "            if hashTable[num] > 0:\n",
    "                result.append(num)\n",
    "                hashTable[num] -= 1\n",
    "        \n",
    "        return result"
   ]
  },
  {
   "cell_type": "code",
   "execution_count": null,
   "id": "e17033a8",
   "metadata": {},
   "outputs": [],
   "source": [
    "# Dict\n",
    "# Time: O(n + m), Space: O(min(n, m) + n)\n",
    "class Solution:\n",
    "    def intersect(self, nums1: List[int], nums2: List[int]) -> List[int]:\n",
    "        result = []\n",
    "        hashTable = {}\n",
    "        \n",
    "        for num in nums1:\n",
    "            hashTable[num] = hashTable.get(num, 0) + 1\n",
    "        \n",
    "        for num in nums2:\n",
    "            if num in hashTable and hashTable[num] > 0:\n",
    "                result.append(num)\n",
    "                hashTable[num] -= 1\n",
    "        \n",
    "        return result"
   ]
  }
 ],
 "metadata": {
  "kernelspec": {
   "display_name": "Python 3 (ipykernel)",
   "language": "python",
   "name": "python3"
  },
  "language_info": {
   "codemirror_mode": {
    "name": "ipython",
    "version": 3
   },
   "file_extension": ".py",
   "mimetype": "text/x-python",
   "name": "python",
   "nbconvert_exporter": "python",
   "pygments_lexer": "ipython3",
   "version": "3.10.9"
  }
 },
 "nbformat": 4,
 "nbformat_minor": 5
}

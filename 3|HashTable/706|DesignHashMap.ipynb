{
 "cells": [
  {
   "cell_type": "markdown",
   "id": "7d405163",
   "metadata": {},
   "source": [
    "# Approach\n",
    "基本类同705！   \n",
    "\n",
    "# Code"
   ]
  },
  {
   "cell_type": "code",
   "execution_count": null,
   "id": "cdcaa6af",
   "metadata": {},
   "outputs": [],
   "source": [
    "# List\n",
    "class MyHashMap:\n",
    "\n",
    "    def __init__(self):\n",
    "        self.list = [-1] * (10 ** 6 + 1)\n",
    "\n",
    "    def put(self, key: int, value: int) -> None:\n",
    "        self.list[key] = value\n",
    "\n",
    "    def get(self, key: int) -> int:\n",
    "        return self.list[key]\n",
    "\n",
    "    def remove(self, key: int) -> None:\n",
    "        self.list[key] = -1"
   ]
  }
 ],
 "metadata": {
  "kernelspec": {
   "display_name": "Python 3 (ipykernel)",
   "language": "python",
   "name": "python3"
  },
  "language_info": {
   "codemirror_mode": {
    "name": "ipython",
    "version": 3
   },
   "file_extension": ".py",
   "mimetype": "text/x-python",
   "name": "python",
   "nbconvert_exporter": "python",
   "pygments_lexer": "ipython3",
   "version": "3.10.9"
  }
 },
 "nbformat": 4,
 "nbformat_minor": 5
}

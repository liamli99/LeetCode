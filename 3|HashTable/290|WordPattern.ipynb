{
 "cells": [
  {
   "cell_type": "markdown",
   "id": "009257eb",
   "metadata": {},
   "source": [
    "# Approach\n",
    "- 基本类同205，只不过由字符与字符配对变成了字符与单词配对！         \n",
    "\n",
    "- 有两点改变：\n",
    "  1. 需要先用split将s中的单词分割出来\n",
    "  2. 205的constraints中明确说明两个字符串长度相同，但是本题没有说明，因此我们要先判断长度是否相同！不同的话直接return False！   \n",
    "\n",
    "# Code"
   ]
  },
  {
   "cell_type": "code",
   "execution_count": null,
   "id": "cdf13b4e",
   "metadata": {},
   "outputs": [],
   "source": [
    "# Dict\n",
    "# Time: O(n + m), Space: O(n)\n",
    "class Solution:\n",
    "    def wordPattern(self, pattern: str, s: str) -> bool:\n",
    "        dict1, dict2 = {}, {}\n",
    "        \n",
    "        # 按照空格分割\n",
    "        s_lst = s.split()\n",
    "        \n",
    "        # 先判断长度是否相同\n",
    "        if len(pattern) != len(s_lst):\n",
    "            return False\n",
    "\n",
    "        for i in range(len(pattern)):\n",
    "            if pattern[i] not in dict1 and s_lst[i] not in dict2:\n",
    "                dict1[pattern[i]] = s_lst[i]\n",
    "                dict2[s_lst[i]] = pattern[i]\n",
    "            \n",
    "            elif pattern[i] in dict1 and s_lst[i] in dict2:\n",
    "                if dict1[pattern[i]] != s_lst[i] or dict2[s_lst[i]] != pattern[i]:\n",
    "                    return False\n",
    "            \n",
    "            else:\n",
    "                return False\n",
    "        \n",
    "        return True"
   ]
  }
 ],
 "metadata": {
  "kernelspec": {
   "display_name": "Python 3 (ipykernel)",
   "language": "python",
   "name": "python3"
  },
  "language_info": {
   "codemirror_mode": {
    "name": "ipython",
    "version": 3
   },
   "file_extension": ".py",
   "mimetype": "text/x-python",
   "name": "python",
   "nbconvert_exporter": "python",
   "pygments_lexer": "ipython3",
   "version": "3.10.9"
  }
 },
 "nbformat": 4,
 "nbformat_minor": 5
}

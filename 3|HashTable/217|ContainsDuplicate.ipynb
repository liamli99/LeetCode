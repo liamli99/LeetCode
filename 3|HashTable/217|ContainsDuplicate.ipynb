{
 "cells": [
  {
   "cell_type": "markdown",
   "id": "7d405163",
   "metadata": {},
   "source": [
    "# Approach\n",
    "我们可以建一个set来存储nums中的数字，遍历nums，对于当前数字`nums[i]`，去找set中是否存在`nums[i]`，如果存在，那就重复了，return True！如果不存在，将`nums[i]`存入set中！\n",
    "\n",
    "# Code"
   ]
  },
  {
   "cell_type": "code",
   "execution_count": null,
   "id": "44ef83c1",
   "metadata": {},
   "outputs": [],
   "source": [
    "# Time: O(n), Space: O(n)\n",
    "class Solution:\n",
    "    def containsDuplicate(self, nums: List[int]) -> bool:\n",
    "        hashTable = set()\n",
    "\n",
    "        for num in nums:\n",
    "            if num in hashTable:\n",
    "                return True\n",
    "            else:\n",
    "                hashTable.add(num)\n",
    "        \n",
    "        return False"
   ]
  }
 ],
 "metadata": {
  "kernelspec": {
   "display_name": "Python 3 (ipykernel)",
   "language": "python",
   "name": "python3"
  },
  "language_info": {
   "codemirror_mode": {
    "name": "ipython",
    "version": 3
   },
   "file_extension": ".py",
   "mimetype": "text/x-python",
   "name": "python",
   "nbconvert_exporter": "python",
   "pygments_lexer": "ipython3",
   "version": "3.10.9"
  }
 },
 "nbformat": 4,
 "nbformat_minor": 5
}

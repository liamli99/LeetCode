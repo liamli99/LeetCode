{
 "cells": [
  {
   "cell_type": "markdown",
   "id": "009257eb",
   "metadata": {},
   "source": [
    "# Approach\n",
    "- 对于数独中的每一个数字，如果该数字在同一行，同一列，同一个小九宫格只出现一次，那么该数字就是valid！如果数独中所有的数字都是valid，那么数独就是valid！\n",
    "\n",
    "- 因此，我们可以建立三个dict：rows存储每一行的数字，key是行数，value是目前为止该行的所有数字；cols存储每一列的数字，key是列数，value是目前为止该列的所有数字；subboxes存储每一个小九宫格的数字，key是小九宫格的坐标 (tuple)，对于`board[i][j]`，它属于(i // 3, j // 3)这个小九宫格！value是目前为止该小九宫格的所有数字！\n",
    "\n",
    "- 遍历board中的每一格，对于`board[i][j]`，如果是数字，那么判断该数字是否在`rows[i]`，`cols[j]`，或`subboxes[(i // 3, j // 3)]`中，如果存在，那么返回False！如果不存在，将该数添加进去！由于我们要频繁判断数字是否存在，三个dict的value可以是set！\n",
    "\n",
    "# Code"
   ]
  },
  {
   "cell_type": "code",
   "execution_count": null,
   "id": "05e09c8e",
   "metadata": {},
   "outputs": [],
   "source": [
    "# Time: O(1), Space: O(1)\n",
    "class Solution:\n",
    "    def isValidSudoku(self, board: List[List[str]]) -> bool:\n",
    "        rows, cols, subboxes = {}, {}, {}\n",
    "\n",
    "        for i in range(len(board)):\n",
    "            for j in range(len(board[0])):\n",
    "                num = board[i][j]\n",
    "                if num != '.':\n",
    "                    # 必须提前判断key是否存在，不然num in rows[i]等会报错！\n",
    "                    if i not in rows:\n",
    "                        rows[i] = set()\n",
    "                    if j not in cols:\n",
    "                        cols[j] = set()\n",
    "                    if (i // 3, j // 3) not in subboxes:\n",
    "                        subboxes[(i // 3, j // 3)] = set()\n",
    "                    \n",
    "                    if num in rows[i] or num in cols[j] or num in subboxes[(i // 3, j // 3)]:\n",
    "                        return False\n",
    "                    else:\n",
    "                        rows[i].add(num)\n",
    "                        cols[j].add(num)\n",
    "                        subboxes[(i // 3, j // 3)].add(num)\n",
    "        \n",
    "        return True"
   ]
  }
 ],
 "metadata": {
  "kernelspec": {
   "display_name": "base",
   "language": "python",
   "name": "python3"
  },
  "language_info": {
   "codemirror_mode": {
    "name": "ipython",
    "version": 3
   },
   "file_extension": ".py",
   "mimetype": "text/x-python",
   "name": "python",
   "nbconvert_exporter": "python",
   "pygments_lexer": "ipython3",
   "version": "3.10.14"
  }
 },
 "nbformat": 4,
 "nbformat_minor": 5
}

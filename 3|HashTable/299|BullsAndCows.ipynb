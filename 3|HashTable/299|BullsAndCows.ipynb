{
 "cells": [
  {
   "cell_type": "markdown",
   "id": "009257eb",
   "metadata": {},
   "source": [
    "# Approach\n",
    "- 'bulls'满足数字和位置都猜对，'cows'满足数字猜对但是位置不对！因此，我们可以同时遍历secret和guess：\n",
    "  - 当`secret[i] == guess[i]`时，bulls的数量+1！\n",
    "  - 当`secret[i] != guess[i]`时，建立两个hash table，分别记录secret和guess中数字的出现次数！结束遍历时，累加两个hash table中每个数字出现次数的最小值，即为cows的数量！这是因为cows其实就是**secret和guess中去掉bulls后的公共数字！！！**\n",
    "\n",
    "- 由于我们要记录的数字其实是digits，范围在0-9，因此可以用list构建hash table，哈希函数为数字本身，list长度为10！\n",
    "\n",
    "# Code"
   ]
  },
  {
   "cell_type": "code",
   "execution_count": null,
   "id": "f9e26164",
   "metadata": {},
   "outputs": [],
   "source": [
    "# Time: O(n), Space: O(1)\n",
    "class Solution:\n",
    "    def getHint(self, secret: str, guess: str) -> str:\n",
    "        x, y = 0, 0\n",
    "        secret_count = [0] * 10\n",
    "        guess_count = [0] * 10\n",
    "\n",
    "        for i in range(len(secret)):\n",
    "            if secret[i] == guess[i]:\n",
    "                x += 1\n",
    "            else:\n",
    "                secret_count[int(secret[i])] += 1\n",
    "                guess_count[int(guess[i])] += 1\n",
    "        \n",
    "        for num in range(10):\n",
    "            y += min(secret_count[num], guess_count[num])\n",
    "        \n",
    "        # return f'{x}A{y}B'\n",
    "        return str(x) + 'A' + str(y) + 'B' "
   ]
  }
 ],
 "metadata": {
  "kernelspec": {
   "display_name": "base",
   "language": "python",
   "name": "python3"
  },
  "language_info": {
   "codemirror_mode": {
    "name": "ipython",
    "version": 3
   },
   "file_extension": ".py",
   "mimetype": "text/x-python",
   "name": "python",
   "nbconvert_exporter": "python",
   "pygments_lexer": "ipython3",
   "version": "3.10.14"
  }
 },
 "nbformat": 4,
 "nbformat_minor": 5
}

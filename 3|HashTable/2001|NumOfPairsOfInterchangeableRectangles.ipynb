{
 "cells": [
  {
   "cell_type": "markdown",
   "id": "7d405163",
   "metadata": {},
   "source": [
    "# Approach\n",
    "- 我们可以建一个dict，key是width/height，value是满足这个比值的数量！遍历rectangles，更新dict！\n",
    "\n",
    "- 假设有n个rectangles有相同的width/height，那么一共有`1 + ... + (n - 1) = n(n - 1) / 2` pairs of interchangeable rectangles!!! \n",
    "\n",
    "# Code"
   ]
  },
  {
   "cell_type": "code",
   "execution_count": null,
   "id": "44ef83c1",
   "metadata": {},
   "outputs": [],
   "source": [
    "# Time: O(n), Space: O(n)\n",
    "class Solution:\n",
    "    def interchangeableRectangles(self, rectangles: List[List[int]]) -> int:\n",
    "        hashTable = {}\n",
    "        result = 0\n",
    "\n",
    "        for rec in rectangles:\n",
    "            hashTable[rec[0] / rec[1]] = hashTable.get(rec[0] / rec[1], 0) + 1\n",
    "        \n",
    "        for value in hashTable.values():\n",
    "            # 不可以用/，因为最终结果必须是integer！\n",
    "            result += value * (value - 1) // 2\n",
    "        \n",
    "        return result"
   ]
  }
 ],
 "metadata": {
  "kernelspec": {
   "display_name": "Python 3 (ipykernel)",
   "language": "python",
   "name": "python3"
  },
  "language_info": {
   "codemirror_mode": {
    "name": "ipython",
    "version": 3
   },
   "file_extension": ".py",
   "mimetype": "text/x-python",
   "name": "python",
   "nbconvert_exporter": "python",
   "pygments_lexer": "ipython3",
   "version": "3.10.9"
  }
 },
 "nbformat": 4,
 "nbformat_minor": 5
}

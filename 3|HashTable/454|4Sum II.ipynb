{
 "cells": [
  {
   "cell_type": "markdown",
   "id": "7d405163",
   "metadata": {},
   "source": [
    "# Approach\n",
    "- 本题不需要像18一样用two pointers，因为18题是在一个数组找到和为target的不重复的四元素，而本题有四个数组，在每个数组中找到一个数使得四个数的和为零，不用考虑重复元素！本题是第1题的进阶题！   \n",
    "\n",
    "- 用两层for loop遍历nums1和nums2中的数字，用一个dict存储nums1和nums2中两两数字的和及其出现次数，key是两个数字的和，value是出现次数！然后再用两层for loop遍历nums3和nums4，对于任意的两个数字num3和num4，去找dict中是否存在key为-num3-num4！如果存在，那么num3，num4，和dict中key为-num3-num4共四个数就是符合要求的4Sum！`count+=dict[-num3-num4]`!\n",
    "\n",
    "- 两两分组的好处是遍历时只有两个nested loop，time complexity只有O(n^2)！其他分组会让time complexity更大！   \n",
    "\n",
    "# Note\n",
    "扩展：如果本题和18题一样，求的是所有4个数字的组合，那么我们dict的value就变成list！\n",
    "\n",
    "# Code"
   ]
  },
  {
   "cell_type": "code",
   "execution_count": null,
   "id": "cdcaa6af",
   "metadata": {},
   "outputs": [],
   "source": [
    "# Time: O(n^2), Space: O(n^2)\n",
    "class Solution:\n",
    "    def fourSumCount(self, nums1: List[int], nums2: List[int], nums3: List[int], nums4: List[int]) -> int:\n",
    "        nums12Sum = {}\n",
    "        count = 0\n",
    "\n",
    "        for num1 in nums1:\n",
    "            for num2 in nums2:\n",
    "                nums12Sum[num1 + num2] = nums12Sum.get(num1 + num2, 0) + 1\n",
    "        \n",
    "        for num3 in nums3:\n",
    "            for num4 in nums4:\n",
    "                count += nums12Sum.get(- num3 - num4, 0)\n",
    "        \n",
    "        return count"
   ]
  },
  {
   "cell_type": "code",
   "execution_count": null,
   "id": "b0a3e5c2",
   "metadata": {},
   "outputs": [],
   "source": [
    "# 拓展\n",
    "class Solution:\n",
    "    def fourSumCount(self, nums1, nums2, nums3, nums4) -> int:\n",
    "        nums12Sum = {}\n",
    "        result = []\n",
    "\n",
    "        for num1 in nums1:\n",
    "            for num2 in nums2:\n",
    "                if num1 + num2 in nums12Sum:\n",
    "                    nums12Sum[num1 + num2].append([num1, num2])\n",
    "                else:\n",
    "                    nums12Sum[num1 + num2] = [[num1, num2]]\n",
    "        \n",
    "        for num3 in nums3:\n",
    "            for num4 in nums4:\n",
    "                if - num3 - num4 in nums12Sum:\n",
    "                    for pair in nums12Sum[- num3 - num4]:\n",
    "                        result.append(pair + [num3, num4])\n",
    "        \n",
    "        return result"
   ]
  }
 ],
 "metadata": {
  "kernelspec": {
   "display_name": "base",
   "language": "python",
   "name": "python3"
  },
  "language_info": {
   "codemirror_mode": {
    "name": "ipython",
    "version": 3
   },
   "file_extension": ".py",
   "mimetype": "text/x-python",
   "name": "python",
   "nbconvert_exporter": "python",
   "pygments_lexer": "ipython3",
   "version": "3.10.14"
  }
 },
 "nbformat": 4,
 "nbformat_minor": 5
}

{
 "cells": [
  {
   "cell_type": "markdown",
   "id": "7d405163",
   "metadata": {},
   "source": [
    "# Approach\n",
    "- 本题如果用两层for loop，time complexity为O(n^2)！  \n",
    "\n",
    "- 类似217，但是更复杂！我们可以用一个dict来存储nums中的数字和其下标，即key是数字，value是下标！遍历nums，对于当前数字`nums[i]`，去找dict中是否存在key为`target-nums[i]`，如果存在，那么这两个数字就是符合要求的2Sum！如果不存在，将`nums[i]`作为key，i作为value放入dict中！  \n",
    "\n",
    "- 由于题目要求返回的是index，所以建的是dict，用value来存储index！如果只要返回具体数字，那建一个set就够了！\n",
    " \n",
    "# Code"
   ]
  },
  {
   "cell_type": "code",
   "execution_count": null,
   "id": "cdcaa6af",
   "metadata": {},
   "outputs": [],
   "source": [
    "# Time: O(n), Space: O(n)\n",
    "class Solution:\n",
    "    def twoSum(self, nums: List[int], target: int) -> List[int]:\n",
    "        hashTable = {}\n",
    "\n",
    "        for i in range(len(nums)):\n",
    "            if target - nums[i] not in hashTable:\n",
    "                hashTable[nums[i]] = i\n",
    "            else:\n",
    "                # 题目确定只有一个答案，因此找到了就直接返回！注意题目要求的不是数字，是下标！\n",
    "                return [hashTable[target - nums[i]], i]"
   ]
  }
 ],
 "metadata": {
  "kernelspec": {
   "display_name": "Python 3 (ipykernel)",
   "language": "python",
   "name": "python3"
  },
  "language_info": {
   "codemirror_mode": {
    "name": "ipython",
    "version": 3
   },
   "file_extension": ".py",
   "mimetype": "text/x-python",
   "name": "python",
   "nbconvert_exporter": "python",
   "pygments_lexer": "ipython3",
   "version": "3.10.9"
  }
 },
 "nbformat": 4,
 "nbformat_minor": 5
}

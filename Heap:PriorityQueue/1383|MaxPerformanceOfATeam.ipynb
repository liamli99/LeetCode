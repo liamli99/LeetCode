{
 "cells": [
  {
   "cell_type": "markdown",
   "id": "7d405163",
   "metadata": {},
   "source": [
    "# Approach\n",
    "<!-- Describe your approach to solving the problem. -->\n",
    "基本类似2542，但是本题要求至多选k个元素！\n",
    "\n",
    "# Note\n",
    "\n",
    "\n",
    "# Code"
   ]
  },
  {
   "cell_type": "code",
   "execution_count": null,
   "id": "80472958",
   "metadata": {},
   "outputs": [],
   "source": [
    "# Greedy + Priority Queue\n",
    "class Solution:\n",
    "    def maxPerformance(self, n: int, speed: List[int], efficiency: List[int], k: int) -> int:\n",
    "        pairs = [[s, e] for s, e in zip(speed, efficiency)]\n",
    "        pairs.sort(key = lambda x : x[1], reverse = True)\n",
    "\n",
    "        pq = []\n",
    "        speedSum = 0\n",
    "        result = 0\n",
    "\n",
    "        for s, e in pairs:\n",
    "            speedSum += s\n",
    "            heapq.heappush(pq, s)\n",
    "\n",
    "            if len(pq) > k:\n",
    "                speedSum -= heapq.heappop(pq)   \n",
    "            \n",
    "            # 由于题目要求至多k个，那我必须记录选取1-k个中的最大值\n",
    "            result = max(result, speedSum * e)\n",
    "\n",
    "        return result % (10 ** 9 + 7)"
   ]
  }
 ],
 "metadata": {
  "kernelspec": {
   "display_name": "Python 3 (ipykernel)",
   "language": "python",
   "name": "python3"
  },
  "language_info": {
   "codemirror_mode": {
    "name": "ipython",
    "version": 3
   },
   "file_extension": ".py",
   "mimetype": "text/x-python",
   "name": "python",
   "nbconvert_exporter": "python",
   "pygments_lexer": "ipython3",
   "version": "3.10.9"
  }
 },
 "nbformat": 4,
 "nbformat_minor": 5
}

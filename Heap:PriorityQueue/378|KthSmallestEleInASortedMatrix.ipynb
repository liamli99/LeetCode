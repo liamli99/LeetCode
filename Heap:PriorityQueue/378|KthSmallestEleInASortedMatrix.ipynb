{
 "cells": [
  {
   "cell_type": "markdown",
   "id": "7d405163",
   "metadata": {},
   "source": [
    "# Approach\n",
    "本题是973的进阶版，由array变成matrix！   \n",
    "\n",
    "本题要求memory complexity小于O(n^2)，因此我们不能用min heap来做，只能用max heap来做！这样space complexity就是O(k)！因为只需要维护k个元素！！！   \n",
    "\n",
    "但是也不完全和973相同，因为题目中的matrix的行和列都已经是sorted！要利用这个性质！看看怎么优化！   \n",
    "\n",
    "试试binary search！！！\n",
    "\n",
    "\n",
    "# Code"
   ]
  },
  {
   "cell_type": "code",
   "execution_count": null,
   "id": "c18d928a",
   "metadata": {},
   "outputs": [],
   "source": [
    "# max heap\n",
    "class Solution:\n",
    "    def kthSmallest(self, matrix: List[List[int]], k: int) -> int:\n",
    "        pq = []\n",
    "        \n",
    "        for i in range(len(matrix)):\n",
    "            for j in range(len(matrix[0])):\n",
    "                heapq.heappush(pq, -matrix[i][j])\n",
    "                if len(pq) > k:\n",
    "                    heapq.heappop(pq)\n",
    "        \n",
    "        return -heapq.heappop(pq)"
   ]
  }
 ],
 "metadata": {
  "kernelspec": {
   "display_name": "Python 3 (ipykernel)",
   "language": "python",
   "name": "python3"
  },
  "language_info": {
   "codemirror_mode": {
    "name": "ipython",
    "version": 3
   },
   "file_extension": ".py",
   "mimetype": "text/x-python",
   "name": "python",
   "nbconvert_exporter": "python",
   "pygments_lexer": "ipython3",
   "version": "3.10.9"
  }
 },
 "nbformat": 4,
 "nbformat_minor": 5
}

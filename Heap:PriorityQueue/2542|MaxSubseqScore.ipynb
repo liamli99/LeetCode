{
 "cells": [
  {
   "cell_type": "markdown",
   "id": "7d405163",
   "metadata": {},
   "source": [
    "# Approach\n",
    "<!-- Describe your approach to solving the problem. -->\n",
    "一开始以为就是道backtracking + priority queue的题，但是本题用backtracking的话效率太低，时间不够！  \n",
    "\n",
    "本题其实是贪心的问题！结果由以下两部分的乘积得到：(1)nums1中求和，(2)nums2中取最小值！对于这种题目，我们首先选择先让(2)最大，再让(1)最大！！\n",
    "\n",
    "因此我们先将nums1中的元素与nums2一一配对：(nums1, nums2)，然后根据nums2中元素的大小倒序排列！遍历排序之后的元素队，不断累加nums1，直到加了k个为止！此时的nums2就是可以取到的最大的nums2(先让(2)最大)！！！当加了k+1个元素时，选择pop掉这k+1个元素中最小的nums1(再让(1)最大)！可以用min heap实现的priority queue去存储nums1中的元素！\n",
    "\n",
    "\n",
    "# Note\n",
    "\n",
    "\n",
    "# Code"
   ]
  },
  {
   "cell_type": "code",
   "execution_count": null,
   "id": "875f459a",
   "metadata": {},
   "outputs": [],
   "source": [
    "# backtracking, TLE\n",
    "class Solution:\n",
    "    def maxScore(self, nums1: List[int], nums2: List[int], k: int) -> int:\n",
    "        path1 = []\n",
    "        path2 = []\n",
    "        result = []\n",
    "        self.backtracking(nums1, nums2, k, 0, path1, path2, result)\n",
    "        return -heapq.heappop(result)\n",
    "    \n",
    "    def backtracking(self, nums1, nums2, k, startIndex, path1, path2, result):\n",
    "        if len(path1) == k:\n",
    "            heapq.heappush(result, -sum(path1) * min(path2))\n",
    "            return\n",
    "        \n",
    "        for i in range(startIndex, len(nums1)):\n",
    "            path1.append(nums1[i])\n",
    "            path2.append(nums2[i])\n",
    "            self.backtracking(nums1, nums2, k, i + 1, path1, path2, result)\n",
    "            path1.pop()\n",
    "            path2.pop()"
   ]
  },
  {
   "cell_type": "code",
   "execution_count": null,
   "id": "cd22dbb9",
   "metadata": {},
   "outputs": [],
   "source": [
    "# Greedy + Priority Queue\n",
    "class Solution:\n",
    "    def maxScore(self, nums1: List[int], nums2: List[int], k: int) -> int:\n",
    "        # 将nums1中的元素与nums2中的元素一一对应！\n",
    "        pairs = [[n1, n2] for n1, n2 in zip(nums1, nums2)]\n",
    "        # 将每组对应的元素按照nums2中元素的大小降序排列！！！\n",
    "        pairs.sort(key = lambda x : x[1], reverse = True)\n",
    "\n",
    "        pq = []\n",
    "        n1Sum = 0\n",
    "        result = 0\n",
    "\n",
    "        for n1, n2 in pairs:\n",
    "            n1Sum += n1\n",
    "            heapq.heappush(pq, n1)\n",
    "\n",
    "            if len(pq) > k:\n",
    "                n1Sum -= heapq.heappop(pq)\n",
    "            \n",
    "            if len(pq) == k:\n",
    "                result = max(result, n1Sum * n2)\n",
    "        \n",
    "        # 其实有一个问题，如果当len(pq)>k时pop掉的n1是本次循环中的n1，那么计算结果的时候还可以用本次循环中的n2吗？其实不可以！\n",
    "        # 但是可以不用考虑这种情况，因为如果pop的是本次循环中的n1，那么n1Sum就是上次循环中的！但是本次循环中的n2是小于上次循环的n2的！\n",
    "        # 因此result必然也小于上次循环的result！直接被忽略了！\n",
    "        \n",
    "        return result"
   ]
  },
  {
   "cell_type": "code",
   "execution_count": null,
   "id": "9b50a89b",
   "metadata": {},
   "outputs": [],
   "source": [
    "# 考虑了当len(pq)>k时pop掉的n1是本次循环中的n1的情况！\n",
    "class Solution:\n",
    "    def maxScore(self, nums1: List[int], nums2: List[int], k: int) -> int:\n",
    "        pairs = [[n1, n2] for n1, n2 in zip(nums1, nums2)]\n",
    "        pairs.sort(key = lambda x : x[1], reverse = True)\n",
    "\n",
    "        pq = []\n",
    "        n1Sum = 0\n",
    "        result = 0\n",
    "\n",
    "        for n1, n2 in pairs:\n",
    "            n1Sum += n1\n",
    "            heapq.heappush(pq, n1)\n",
    "\n",
    "            if len(pq) > k:\n",
    "                n1Pop = heapq.heappop(pq)\n",
    "                n1Sum -= n1Pop\n",
    "                if n1Pop == n1:\n",
    "                    continue\n",
    "\n",
    "            if len(pq) == k:\n",
    "                result = max(result, n1Sum * n2)\n",
    "        \n",
    "        return result"
   ]
  }
 ],
 "metadata": {
  "kernelspec": {
   "display_name": "Python 3 (ipykernel)",
   "language": "python",
   "name": "python3"
  },
  "language_info": {
   "codemirror_mode": {
    "name": "ipython",
    "version": 3
   },
   "file_extension": ".py",
   "mimetype": "text/x-python",
   "name": "python",
   "nbconvert_exporter": "python",
   "pygments_lexer": "ipython3",
   "version": "3.10.9"
  }
 },
 "nbformat": 4,
 "nbformat_minor": 5
}

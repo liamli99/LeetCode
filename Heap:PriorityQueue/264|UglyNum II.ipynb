{
 "cells": [
  {
   "cell_type": "markdown",
   "id": "7d405163",
   "metadata": {},
   "source": [
    "# Approach\n",
    "<!-- Describe your approach to solving the problem. -->\n",
    "本题我一开始的思路是利用263判断ugly number的方法去从1开始对每个数字进行判断，直到找到n个ugly number为止！   \n",
    "\n",
    "但实际上效率太低，我们可以试着从如何生成ugly number的思路出发：一个ugly number必然是由一个比他小的ugly number乘上2，3或5形成的！！！因此我可以从1开始分别乘上2，3，5，然后将乘积从小到大存起来，最小值就是第二个ugly num(1是第一个)！最小值再乘上2，3，5，然后将新的乘积与旧的乘积一起从小到大存起来，最小值就是第三个ugly num！重复上述操作n次。   \n",
    "\n",
    "那么难点就变成：1.如何将新的乘积与旧的乘积一起从小到大排序 2.新的乘积可能会和旧的乘积有重复！如何去重！   \n",
    "\n",
    "针对难点1，可以用min heap实现的priority queue！针对难点2，我们每次选取最小值的时候，可以再看看抽走最小值之后剩下乘积中的最小值是否和被抽走的最小值相等，如果不相等，说明暂时没有重复，下一个循环的最小值仍然是新的值！如果相等，说明重复了，必须删除！要不然下一个循环用的最小值和本次抽走的最小值一样了，由于ugly num就是最小值，ugly num要重复了！\n",
    "\n",
    "# Note\n",
    "判断某个数是否是ugly num：\n",
    "```python\n",
    "class Solution:\n",
    "    def isUgly(self, n: int) -> bool:\n",
    "        if n <= 0:\n",
    "            return False\n",
    "        \n",
    "        while n > 1:\n",
    "            if n % 2 == 0:\n",
    "                n /= 2\n",
    "            elif n % 3 == 0:\n",
    "                n /= 3\n",
    "            elif n % 5 == 0:\n",
    "                n /= 5\n",
    "            else:\n",
    "                return False\n",
    "       \n",
    "            return True\n",
    "```\n",
    "\n",
    "**我们之前在347中提到过只有heappush和heappop一起使用才能达到返回最小值的效果，这是因为仅仅只用heappush把所有元素加到priority queue中之后，pq这个数组内的元素不是按照从小到大的顺序排列的！因为priority queue是由heap(一种binary tree)实现的，因此pq这个数组内的元素是按照heap的顺序(root, left child, right child)排列的！我们只能确定pq[i]<=pq[2i+1]并且pq[i]<=pq[2i+2]！这表示母节点的值恒小于等于子节点的值！！！符合min heap的定义！但是heappop一定会返回当前pq的最小值！因此如果我们要选取k个最小值，只能连续heappop k次，而不能使用pq[i] for i in range(k)！但是要注意的是，如果我们仅仅只需要用到一个最小值，那完全可以使用pq[0]而不用heappop！因为pq[0]表示的是根节点root，一定是pq中的最小值！！！**\n",
    "https://docs.python.org/3/library/heapq.html?highlight=heap#theory\n",
    "\n",
    "# Code"
   ]
  },
  {
   "cell_type": "code",
   "execution_count": null,
   "id": "875f459a",
   "metadata": {},
   "outputs": [],
   "source": [
    "# 从1开始找ugly num，因此先选最小的ugly num，因此用min heap！\n",
    "class Solution:\n",
    "    def nthUglyNumber(self, n: int) -> int:\n",
    "        pq = []\n",
    "        \n",
    "        heapq.heappush(pq, 1)\n",
    "\n",
    "        for _ in range(n):\n",
    "            # t是最小的值！因此我要循环n次找到第n个ugly number\n",
    "            t = heapq.heappop(pq)\n",
    "            # 去重\n",
    "            while len(pq) > 0 and pq[0] == t:\n",
    "                heapq.heappop(pq)\n",
    "            \n",
    "            heapq.heappush(pq, t * 2)\n",
    "            heapq.heappush(pq, t * 3)\n",
    "            heapq.heappush(pq, t * 5)\n",
    "           \n",
    "        \n",
    "        return t"
   ]
  }
 ],
 "metadata": {
  "kernelspec": {
   "display_name": "Python 3 (ipykernel)",
   "language": "python",
   "name": "python3"
  },
  "language_info": {
   "codemirror_mode": {
    "name": "ipython",
    "version": 3
   },
   "file_extension": ".py",
   "mimetype": "text/x-python",
   "name": "python",
   "nbconvert_exporter": "python",
   "pygments_lexer": "ipython3",
   "version": "3.10.9"
  }
 },
 "nbformat": 4,
 "nbformat_minor": 5
}

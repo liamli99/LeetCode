{
 "cells": [
  {
   "cell_type": "markdown",
   "id": "7d405163",
   "metadata": {},
   "source": [
    "# Approach\n",
    "根据题意，每次都要最大的两个石头，因此应该用max heap实现的priority queue！\n",
    "\n",
    "\n",
    "# Note\n",
    "注意Python自带的只有min heap！！！如果非要使用max heap，即最左边的元素的值是最大的，那么要先将元素的值取负数，然后使用min heap！！！\n",
    "\n",
    "# Code"
   ]
  },
  {
   "cell_type": "code",
   "execution_count": null,
   "id": "726d705e",
   "metadata": {},
   "outputs": [],
   "source": [
    "class Solution:\n",
    "    def lastStoneWeight(self, stones: List[int]) -> int:\n",
    "        pq = []\n",
    "        \n",
    "        for stone in stones:\n",
    "            # 变成负数！\n",
    "            heapq.heappush(pq, -stone)\n",
    "        \n",
    "        while len(pq) >= 2:\n",
    "            # x必然大于等于y！\n",
    "            x = -heapq.heappop(pq)\n",
    "            y = -heapq.heappop(pq)\n",
    "            # 由于pq中的都是负数，我们要把y-x放进pq！\n",
    "            # 如果x==y的话，我们还是要把0放进去，虽然会多循环比较几次，但是如果最后pq中剩余两个重量相等的石头，那么最终pq=[0]，符合题意！\n",
    "            # 如果只是把x>y时的y-x放进pq，那么在遇到上述情况时，最终pq=[]！我们还需要在while loop外面再加pq.append(0)！\n",
    "            heapq.heappush(pq, y - x)\n",
    "        \n",
    "        return -pq[0]"
   ]
  },
  {
   "cell_type": "code",
   "execution_count": null,
   "id": "f8792594",
   "metadata": {},
   "outputs": [],
   "source": [
    "# while loop的次数会少一点！\n",
    "class Solution:\n",
    "    def lastStoneWeight(self, stones: List[int]) -> int:\n",
    "        pq = []\n",
    "        \n",
    "        for stone in stones:\n",
    "            heapq.heappush(pq, -stone)\n",
    "        \n",
    "        while len(pq) >= 2:\n",
    "            x = -heapq.heappop(pq)\n",
    "            y = -heapq.heappop(pq)\n",
    "            if x > y:\n",
    "                heapq.heappush(pq, y - x)\n",
    "        # 别忘了最后要加0，防止出现“最后pq中剩余两个重量相等的石头”的情况\n",
    "        pq.append(0)\n",
    "        return -pq[0]"
   ]
  }
 ],
 "metadata": {
  "kernelspec": {
   "display_name": "Python 3 (ipykernel)",
   "language": "python",
   "name": "python3"
  },
  "language_info": {
   "codemirror_mode": {
    "name": "ipython",
    "version": 3
   },
   "file_extension": ".py",
   "mimetype": "text/x-python",
   "name": "python",
   "nbconvert_exporter": "python",
   "pygments_lexer": "ipython3",
   "version": "3.10.9"
  }
 },
 "nbformat": 4,
 "nbformat_minor": 5
}

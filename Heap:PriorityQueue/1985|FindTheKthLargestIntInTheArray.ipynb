{
 "cells": [
  {
   "cell_type": "markdown",
   "id": "7d405163",
   "metadata": {},
   "source": [
    "# Approach\n",
    "<!-- Describe your approach to solving the problem. -->\n",
    "完全类同215，而且还不限制用sorting！\n",
    "\n",
    "# Note\n",
    "\n",
    "\n",
    "# Code"
   ]
  },
  {
   "cell_type": "code",
   "execution_count": null,
   "id": "875f459a",
   "metadata": {},
   "outputs": [],
   "source": [
    "# min heap\n",
    "class Solution:\n",
    "    def kthLargestNumber(self, nums: List[str], k: int) -> str:\n",
    "        pq = []\n",
    "        for num in nums:\n",
    "            heapq.heappush(pq, int(num))\n",
    "            if len(pq) > k:\n",
    "                heapq.heappop(pq)\n",
    "        \n",
    "        return str(pq[0])"
   ]
  },
  {
   "cell_type": "code",
   "execution_count": null,
   "id": "c18d928a",
   "metadata": {},
   "outputs": [],
   "source": [
    "# max heap\n",
    "class Solution:\n",
    "    def kthLargestNumber(self, nums: List[str], k: int) -> str:\n",
    "        pq = []\n",
    "        for num in nums:\n",
    "            heapq.heappush(pq, -int(num))\n",
    "        \n",
    "        for i in range(len(pq)):\n",
    "            if i == k - 1:\n",
    "                return str(-heapq.heappop(pq))\n",
    "            \n",
    "            heapq.heappop(pq)"
   ]
  },
  {
   "cell_type": "code",
   "execution_count": null,
   "id": "680ac233",
   "metadata": {},
   "outputs": [],
   "source": [
    "# sorting\n",
    "class Solution:\n",
    "    def kthLargestNumber(self, nums: List[str], k: int) -> str:\n",
    "        nums = [int(num) for num in nums]\n",
    "        nums.sort(reverse = True)\n",
    "        return str(nums[k - 1])"
   ]
  }
 ],
 "metadata": {
  "kernelspec": {
   "display_name": "Python 3 (ipykernel)",
   "language": "python",
   "name": "python3"
  },
  "language_info": {
   "codemirror_mode": {
    "name": "ipython",
    "version": 3
   },
   "file_extension": ".py",
   "mimetype": "text/x-python",
   "name": "python",
   "nbconvert_exporter": "python",
   "pygments_lexer": "ipython3",
   "version": "3.10.9"
  }
 },
 "nbformat": 4,
 "nbformat_minor": 5
}

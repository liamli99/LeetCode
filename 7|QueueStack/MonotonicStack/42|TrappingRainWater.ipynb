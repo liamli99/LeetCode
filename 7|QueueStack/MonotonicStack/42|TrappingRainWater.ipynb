{
 "cells": [
  {
   "cell_type": "markdown",
   "id": "009257eb",
   "metadata": {},
   "source": [
    "# Approach\n",
    "- 构建一个单调递减栈，栈中存储元素的下标。从左到右遍历height，遍历到下标为i时，如果`height[i]`大于栈顶元素(下标)所对应的height中的元素，将栈顶元素弹出，记为mid，如果弹出后stack不为空，记此时的栈顶元素为left，那么`height[left]`，`height[mid]`和`height[i]`有可能得构成一个可以接雨水的区域！该区域的宽度是`i − left − 1`，高度是为`min(height[left], height[i]) - height[mid]`，根据宽度和高度即可计算得到该区域能接的雨水量！\n",
    "\n",
    "- 重复上述操作，直到栈变为空，或者`height[i]`小于等于栈顶元素(下标)所对应的height中的元素！然后将i入栈，继续遍历height！\n",
    "\n",
    "# Code"
   ]
  },
  {
   "cell_type": "code",
   "execution_count": null,
   "id": "87d79bd1",
   "metadata": {},
   "outputs": [],
   "source": [
    "# Time: O(n), Space: O(n)\n",
    "from typing import List\n",
    "class Solution:\n",
    "    def trap(self, height: List[int]) -> int:\n",
    "        stack = []\n",
    "        amount = 0\n",
    "\n",
    "        for i in range(len(height)):\n",
    "            while len(stack) > 0 and height[i] > height[stack[-1]]:\n",
    "                mid = stack.pop()\n",
    "\n",
    "                if len(stack) > 0:\n",
    "                    left = stack[-1]\n",
    "                    w = i - left - 1\n",
    "                    h = min(height[left], height[i]) - height[mid]\n",
    "                    amount += w * h\n",
    "            \n",
    "            stack.append(i)\n",
    "        \n",
    "        return amount"
   ]
  }
 ],
 "metadata": {
  "kernelspec": {
   "display_name": "Python 3 (ipykernel)",
   "language": "python",
   "name": "python3"
  },
  "language_info": {
   "codemirror_mode": {
    "name": "ipython",
    "version": 3
   },
   "file_extension": ".py",
   "mimetype": "text/x-python",
   "name": "python",
   "nbconvert_exporter": "python",
   "pygments_lexer": "ipython3",
   "version": "3.10.14"
  }
 },
 "nbformat": 4,
 "nbformat_minor": 5
}

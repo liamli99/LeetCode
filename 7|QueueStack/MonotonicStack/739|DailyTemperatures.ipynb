{
 "cells": [
  {
   "cell_type": "markdown",
   "id": "009257eb",
   "metadata": {},
   "source": [
    "# Approach  \n",
    "- result的初始值为0，`result[i]`表示`temperatures[i]`右边第一个更大的元素和它的距离！\n",
    "\n",
    "# Code"
   ]
  },
  {
   "cell_type": "code",
   "execution_count": null,
   "id": "0fa407aa",
   "metadata": {},
   "outputs": [],
   "source": [
    "# Time: O(n), Space: O(n)\n",
    "from typing import List\n",
    "class Solution:\n",
    "    def dailyTemperatures(self, temperatures: List[int]) -> List[int]:\n",
    "        stack = []\n",
    "        result = [0] * len(temperatures)\n",
    "\n",
    "        for i in range(len(temperatures)):\n",
    "            while len(stack) > 0 and temperatures[i] > temperatures[stack[-1]]:\n",
    "                result[stack[-1]] = i - stack[-1]\n",
    "                stack.pop()\n",
    "            \n",
    "            stack.append(i)\n",
    "\n",
    "        return result"
   ]
  }
 ],
 "metadata": {
  "kernelspec": {
   "display_name": "Python 3 (ipykernel)",
   "language": "python",
   "name": "python3"
  },
  "language_info": {
   "codemirror_mode": {
    "name": "ipython",
    "version": 3
   },
   "file_extension": ".py",
   "mimetype": "text/x-python",
   "name": "python",
   "nbconvert_exporter": "python",
   "pygments_lexer": "ipython3",
   "version": "3.10.14"
  }
 },
 "nbformat": 4,
 "nbformat_minor": 5
}

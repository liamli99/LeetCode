{
 "cells": [
  {
   "attachments": {},
   "cell_type": "markdown",
   "id": "7d405163",
   "metadata": {},
   "source": [
    "# Approach\n",
    "- 建立一个stack，从左到右遍历operations：\n",
    "  - 如果遇到'D'，将栈顶元素x2并入栈\n",
    "  - 如果遇到'C，将栈顶元素弹出\n",
    "  - 如果遇到'+'，将栈前两个元素的和入栈\n",
    "  - 如果遇到操作数，压入栈中\n",
    "\n",
    "- 为了不用`sum`在O(n)内求和，我们可以再定义一个sum_，在遍历的过程中不断求和！\n",
    "\n",
    "# Code"
   ]
  },
  {
   "cell_type": "code",
   "execution_count": null,
   "id": "60e9e519",
   "metadata": {},
   "outputs": [],
   "source": [
    "# Time: O(n), Space: O(n)\n",
    "class Solution:\n",
    "    def calPoints(self, operations: List[str]) -> int:\n",
    "        stack = []\n",
    "        sum_ = 0\n",
    "        \n",
    "        for op in operations:\n",
    "            if op == 'D':\n",
    "                stack.append(2 * stack[-1])\n",
    "                sum_ += stack[-1]\n",
    "            elif op == 'C':\n",
    "                sum_ -= stack.pop()\n",
    "            elif op == '+':\n",
    "                stack.append(stack[-1] + stack[-2])\n",
    "                sum_ += stack[-1]\n",
    "            else:\n",
    "                stack.append(int(op))\n",
    "                sum_ += stack[-1]\n",
    "        \n",
    "        return sum_"
   ]
  }
 ],
 "metadata": {
  "kernelspec": {
   "display_name": "base",
   "language": "python",
   "name": "python3"
  },
  "language_info": {
   "codemirror_mode": {
    "name": "ipython",
    "version": 3
   },
   "file_extension": ".py",
   "mimetype": "text/x-python",
   "name": "python",
   "nbconvert_exporter": "python",
   "pygments_lexer": "ipython3",
   "version": "3.10.14"
  }
 },
 "nbformat": 4,
 "nbformat_minor": 5
}

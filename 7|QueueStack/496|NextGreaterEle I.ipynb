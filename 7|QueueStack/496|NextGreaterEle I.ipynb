{
 "cells": [
  {
   "cell_type": "markdown",
   "id": "009257eb",
   "metadata": {},
   "source": [
    "# Approach\n",
    "- 首先找到nums2中每个元素右边第一个更大的元素，如果我们用列表result来记录结果，即`result[i]`表示`nums2[i]`右边第一个更大的元素，那么我们还要用O(n)查找nums1中的每个元素在nums2中的下标！\n",
    "\n",
    "- 因此，我们选择用字典result来记录结果，key是nums2中的元素，value是该元素右边第一个更大的元素！这样的话我们只需要O(1)查找nums1中的每个元素在result中的值！\n",
    "\n",
    "# Code"
   ]
  },
  {
   "cell_type": "code",
   "execution_count": null,
   "id": "276507df",
   "metadata": {},
   "outputs": [],
   "source": [
    "# List\n",
    "# Time: O(n + m * n), Space: O(n + m), len(nums1) = m, len(nums2) = n\n",
    "class Solution:\n",
    "    def nextGreaterElement(self, nums1: List[int], nums2: List[int]) -> List[int]:\n",
    "        stack = []\n",
    "        result = [-1] * len(nums2)\n",
    "\n",
    "        for i in range(len(nums2)):\n",
    "            while len(stack) > 0 and nums2[i] > nums2[stack[-1]]:\n",
    "                result[stack[-1]] = nums2[i]\n",
    "                stack.pop()\n",
    "            \n",
    "            stack.append(i)\n",
    "        \n",
    "        ans = []\n",
    "        for num in nums1:\n",
    "            idx = nums2.index(num)\n",
    "            ans.append(result[idx])\n",
    "        \n",
    "        return ans"
   ]
  },
  {
   "cell_type": "code",
   "execution_count": null,
   "id": "07dcbc4c",
   "metadata": {},
   "outputs": [],
   "source": [
    "# Dict\n",
    "# Time: O(n + m), Space: O(n + m)\n",
    "class Solution:\n",
    "    def nextGreaterElement(self, nums1: List[int], nums2: List[int]) -> List[int]:\n",
    "        stack = []\n",
    "        result = {}\n",
    "\n",
    "        for num in nums2:\n",
    "            while len(stack) > 0 and num > stack[-1]:\n",
    "                result[stack[-1]] = num\n",
    "                stack.pop()\n",
    "            \n",
    "            stack.append(num)\n",
    "        \n",
    "        ans = []\n",
    "        for num in nums1:\n",
    "            ans.append(result.get(num, -1))\n",
    "        \n",
    "        return ans"
   ]
  }
 ],
 "metadata": {
  "kernelspec": {
   "display_name": "Python 3 (ipykernel)",
   "language": "python",
   "name": "python3"
  },
  "language_info": {
   "codemirror_mode": {
    "name": "ipython",
    "version": 3
   },
   "file_extension": ".py",
   "mimetype": "text/x-python",
   "name": "python",
   "nbconvert_exporter": "python",
   "pygments_lexer": "ipython3",
   "version": "3.10.14"
  }
 },
 "nbformat": 4,
 "nbformat_minor": 5
}

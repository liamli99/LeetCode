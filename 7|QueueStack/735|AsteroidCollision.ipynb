{
 "cells": [
  {
   "cell_type": "markdown",
   "id": "7d405163",
   "metadata": {},
   "source": [
    "# Approach\n",
    "- 由于所有小行星的飞行速度均相同，当有左右两个小行星时，只有左边的往右飞(>0)且右边的往左飞(<0)时，才会发生碰撞！！！\n",
    "\n",
    "- 建一个stack，遍历asteroids，将小行星压入栈中。如果栈的长度大于等于2且前两个小行星一个大于0，另一个小于0，那么这两个小行星会碰撞，将碰撞结果压入栈中，重复上述操作！\n",
    "\n",
    "\n",
    "# Code"
   ]
  },
  {
   "cell_type": "code",
   "execution_count": null,
   "id": "27d61e9f",
   "metadata": {},
   "outputs": [],
   "source": [
    "# Time: O(n), Space: O(n)\n",
    "class Solution:\n",
    "    def asteroidCollision(self, asteroids: List[int]) -> List[int]:\n",
    "        stack = []\n",
    "\n",
    "        for asteroid in asteroids:\n",
    "            stack.append(asteroid)\n",
    "\n",
    "            while len(stack) >= 2 and stack[-2] > 0 and stack[-1] < 0:\n",
    "                right = stack.pop()\n",
    "                left = stack.pop()\n",
    "                \n",
    "                if abs(left) > abs(right):\n",
    "                    stack.append(left)\n",
    "                elif abs(left) < abs(right):\n",
    "                    stack.append(right)\n",
    "                # 当abs(left) == abs(right)时，两个小行星碰撞消失，不用加到stack里面！\n",
    "        \n",
    "        return stack"
   ]
  }
 ],
 "metadata": {
  "kernelspec": {
   "display_name": "Python 3 (ipykernel)",
   "language": "python",
   "name": "python3"
  },
  "language_info": {
   "codemirror_mode": {
    "name": "ipython",
    "version": 3
   },
   "file_extension": ".py",
   "mimetype": "text/x-python",
   "name": "python",
   "nbconvert_exporter": "python",
   "pygments_lexer": "ipython3",
   "version": "3.10.9"
  }
 },
 "nbformat": 4,
 "nbformat_minor": 5
}

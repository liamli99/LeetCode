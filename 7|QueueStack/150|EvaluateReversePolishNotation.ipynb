{
 "cells": [
  {
   "cell_type": "markdown",
   "id": "7d405163",
   "metadata": {},
   "source": [
    "# Approach\n",
    "- 逆波兰表达式(reverse polish notation)严格遵守从左到右的计算，运算符总是放在和它相关的操作数之后！\n",
    "\n",
    "- 建立一个stack，从左到右遍历tokens，如果遇到操作数，压入栈中；如果遇到运算符，将两个操作数从栈中弹出，先出栈的是右操作数，后出栈的是左操作数，使用运算符对两个操作数计算，将结果压入栈中！遍历完之后，栈中只剩下一个元素，即为逆波兰表达式的值！\n",
    "\n",
    "\n",
    "# Note\n",
    "- Python除法:   \n",
    "  - `x / y` (True Division): 精确答案\n",
    "  - `x // y` (Floor Division): 向下取整！eg. 99 // 10 = 9, 7 // 9 = 0, -31 // 10 = -4   \n",
    "  - `x % y` (Modulo Division): 取余数\n",
    "\n",
    "- `int()`: 向零取整！eg. int(-1.9) = -1, int(6.8) = 6   \n",
    "\n",
    "# Code"
   ]
  },
  {
   "cell_type": "code",
   "execution_count": null,
   "id": "726d705e",
   "metadata": {},
   "outputs": [],
   "source": [
    "# Time: O(n), Space: O(n)\n",
    "class Solution:\n",
    "    def evalRPN(self, tokens: List[str]) -> int:\n",
    "        stack = []\n",
    "\n",
    "        for token in tokens:\n",
    "            if token == '+' or token == '-' or token == '*' or token == '/':\n",
    "                num2 = stack.pop()\n",
    "                num1 = stack.pop()\n",
    "                if token == '+':\n",
    "                    result = num1 + num2\n",
    "                elif token == '-':\n",
    "                    result = num1 - num2\n",
    "                elif token == '*':\n",
    "                    result = num1 * num2\n",
    "                else:\n",
    "                    # 本题要求向零取整：The division always truncates towards 0!\n",
    "                    result = int(num1 / num2)\n",
    "                \n",
    "                stack.append(result)\n",
    "            \n",
    "            else:\n",
    "                stack.append(int(token))\n",
    "        \n",
    "        return stack[0]"
   ]
  }
 ],
 "metadata": {
  "kernelspec": {
   "display_name": "base",
   "language": "python",
   "name": "python3"
  },
  "language_info": {
   "codemirror_mode": {
    "name": "ipython",
    "version": 3
   },
   "file_extension": ".py",
   "mimetype": "text/x-python",
   "name": "python",
   "nbconvert_exporter": "python",
   "pygments_lexer": "ipython3",
   "version": "3.10.14"
  }
 },
 "nbformat": 4,
 "nbformat_minor": 5
}

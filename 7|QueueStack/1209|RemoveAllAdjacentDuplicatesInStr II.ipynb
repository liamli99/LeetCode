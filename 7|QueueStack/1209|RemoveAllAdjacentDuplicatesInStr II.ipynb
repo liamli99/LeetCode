{
 "cells": [
  {
   "cell_type": "markdown",
   "id": "7d405163",
   "metadata": {},
   "source": [
    "# Approach\n",
    "- 类似20，定义一个stack，遍历s，如果当前字符等于前k-1个栈中字符，那么找到k对相邻且相同的字符，将这k-1个字符弹出；如果不相同，将当前字符压入栈中！该方法时间复杂度为O(n * k)，当k很大时，该方法很耗时！\n",
    "\n",
    "- 因此，栈中元素不再是字符`char`，而是字符及其重复次数`[char, num]`！遍历s，如果栈为空或者当前字符不等于栈顶元素的字符，将该字符和1压入栈中！如果相等，将栈顶元素的出现次数+=1！如果栈顶元素的出现次数为k，那么将栈顶元素弹出！\n",
    "\n",
    "# Code"
   ]
  },
  {
   "cell_type": "code",
   "execution_count": null,
   "id": "44ea9315",
   "metadata": {},
   "outputs": [],
   "source": [
    "# Time: O(n), Space: O(n)\n",
    "class Solution:\n",
    "    def removeDuplicates(self, s: str, k: int) -> str:\n",
    "        stack = []\n",
    "\n",
    "        for char in s:\n",
    "            if len(stack) == 0 or stack[-1][0] != char:\n",
    "                stack.append([char, 1])\n",
    "            else:\n",
    "                stack[-1][1] += 1\n",
    "                if stack[-1][1] == k:\n",
    "                    stack.pop()\n",
    "        \n",
    "        return ''.join(char * num for char, num in stack)"
   ]
  }
 ],
 "metadata": {
  "kernelspec": {
   "display_name": "base",
   "language": "python",
   "name": "python3"
  },
  "language_info": {
   "codemirror_mode": {
    "name": "ipython",
    "version": 3
   },
   "file_extension": ".py",
   "mimetype": "text/x-python",
   "name": "python",
   "nbconvert_exporter": "python",
   "pygments_lexer": "ipython3",
   "version": "3.10.14"
  }
 },
 "nbformat": 4,
 "nbformat_minor": 5
}

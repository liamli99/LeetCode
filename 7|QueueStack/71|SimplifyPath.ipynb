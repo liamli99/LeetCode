{
 "cells": [
  {
   "cell_type": "markdown",
   "id": "7d405163",
   "metadata": {},
   "source": [
    "# Approach\n",
    "- 简化路径规则：\n",
    "  - 开头必须是'/'；结尾不能是'/'，除非路径就是`/`！\n",
    "  - 目录之间有且仅有一个'/'来分隔，多个连续的'/'减少成一个！\n",
    "  - 不能有'.'和'..'\n",
    "\n",
    "- 首先将path根据'/'分割，分割出来的字符串只有以下几种可能：\n",
    "  1. 空字符串：分割多个连续的'/'就会得到空字符串！\n",
    "  2. '.'：表示当前目录\n",
    "  3. '..'：表示上一目录\n",
    "  4. 目录名\n",
    "  建一个stack，遍历分割出来的字符串：当遇到空字符串或'.'时不用处理；当遇到'..'时，如果栈不为空时，从栈中弹出一个目录；当遇到目录名时，压入栈中！结束遍历后，用'/'将栈中元素拼接成一个字符串，再在前面加上'/'，就是简化的路径！\n",
    "\n",
    "# Code"
   ]
  },
  {
   "cell_type": "code",
   "execution_count": null,
   "id": "14d7fa78",
   "metadata": {},
   "outputs": [],
   "source": [
    "# Time: O(n), Space: O(n)\n",
    "class Solution:\n",
    "    def simplifyPath(self, path: str) -> str:\n",
    "        stack = []\n",
    "\n",
    "        for string in path.split('/'):\n",
    "            # 当path中有多个连续的'/'时，string可能是空字符串！\n",
    "            if string == '' or string == '.':\n",
    "                continue\n",
    "            elif string == '..':\n",
    "                if len(stack) > 0:\n",
    "                    stack.pop()\n",
    "            else:\n",
    "                stack.append(string)\n",
    "        \n",
    "        return '/' + '/'.join(stack)"
   ]
  },
  {
   "cell_type": "code",
   "execution_count": null,
   "id": "4f94bb4a",
   "metadata": {},
   "outputs": [],
   "source": [
    "class Solution:\n",
    "    def simplifyPath(self, path: str) -> str:\n",
    "        result = []\n",
    "        # 如果不在最后加\"/\"，根据我写的if，类似\"/a/b/..\"这样的path无法处理最后两个.！\n",
    "        # 在最后加\"/\"可以确保path中的所有字符都会检查！！！\n",
    "        path += \"/\"\n",
    "\n",
    "        for char in path:\n",
    "            result.append(char)\n",
    "            # 注意这里要判断当前字符是否是\"/\"，这样才可以看它前面是否有.以及到底有几个.\n",
    "            # 如果检查当前字符是否是\".\"，没有用！因为不知道后面还有没有\".\"！\n",
    "            if result[-1] == \"/\":\n",
    "                # 删去重复的\"/\"\n",
    "                if len(result) >= 2 and result[-2] == \"/\":\n",
    "                    result.pop()\n",
    "                # 如果只有一个.，表示当前目录，例如\"/a/./\"就表示\"/a/\"\n",
    "                # 因此需要删去当前的\"/\"和上一个\".\"\n",
    "                elif len(result) >= 3 and result[-2] == \".\" and result[-3] == \"/\": \n",
    "                    # 删去\"/\"\n",
    "                    result.pop()\n",
    "                    # 删去\".\"\n",
    "                    result.pop()\n",
    "                # 如果只有两个.，表示上一个目录，例如\"/a/b/../\"就表示\"/a/\"\n",
    "                # 需要先删掉当前的\"/\"和上两个\".\"，此时有两种情况：\n",
    "                # 1. 如果..前面有大于等于一个目录，例如\"/abc/../\"，此时还剩下\"/abc/\"，我们需要再删掉一个\"/\"，\n",
    "                # 然后接着删这个目录直到\"/\"为止！这样才表示回到上个目录！\n",
    "                # 2. 如果..前面没有目录，即\"/../\"，此时还剩下\"/\"，结束了！根目录的上一个目录就是根目录本身！\n",
    "                elif len(result) >= 4 and result[-2] == \".\" and result[-3] == \".\" and result[-4] == \"/\":\n",
    "                    # 删去\"/\"\n",
    "                    result.pop()\n",
    "                    # 删去\".\"\n",
    "                    result.pop()\n",
    "                    # 删去\".\"\n",
    "                    result.pop()\n",
    "                    # ..前面有大于等于一个目录，需要继续删完上一个目录\n",
    "                    if len(result) > 1:\n",
    "                        # 删去\"/\"\n",
    "                        result.pop()\n",
    "                        # 删去该目录所有字符，直到\"/\"为止！\n",
    "                        while result[-1] != \"/\":\n",
    "                            result.pop()\n",
    "        \n",
    "        # 由于一开始在path结尾加了\"/\"，最后的结果尾部一定有\"/\"！记得删除！\n",
    "        # 但是如果此时仅剩下\"/\"，就不要删除了！例如\"/../\"，经过上述操作最后只剩下\"/\"！\n",
    "        if len(result) > 1 and result[-1] == \"/\":\n",
    "            # 删去尾部的\"/\"\n",
    "            result.pop()\n",
    "\n",
    "        return \"\".join(result)"
   ]
  }
 ],
 "metadata": {
  "kernelspec": {
   "display_name": "base",
   "language": "python",
   "name": "python3"
  },
  "language_info": {
   "codemirror_mode": {
    "name": "ipython",
    "version": 3
   },
   "file_extension": ".py",
   "mimetype": "text/x-python",
   "name": "python",
   "nbconvert_exporter": "python",
   "pygments_lexer": "ipython3",
   "version": "3.10.14"
  }
 },
 "nbformat": 4,
 "nbformat_minor": 5
}

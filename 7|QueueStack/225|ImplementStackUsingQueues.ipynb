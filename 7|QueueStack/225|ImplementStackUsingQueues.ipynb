{
 "cells": [
  {
   "cell_type": "markdown",
   "id": "7d405163",
   "metadata": {},
   "source": [
    "# Approach\n",
    "- 建一个queue即可：\n",
    "  - push: 将元素入队，假设此时queue的长度为size，那么将queue的前size-1个元素依次出队再入队，这样队列前端的元素就是栈顶元素，方便pop和top！\n",
    "  \n",
    "  - pop: 将队列前端元素出队并返回\n",
    "  \n",
    "  - top: 返回队列前端元素\n",
    "  \n",
    "  - empty: 队列为空时就空\n",
    "\n",
    "# Code"
   ]
  },
  {
   "cell_type": "code",
   "execution_count": null,
   "id": "face05e1",
   "metadata": {},
   "outputs": [],
   "source": [
    "from collections import deque\n",
    "class MyStack:\n",
    "\n",
    "    def __init__(self):\n",
    "        self.queue = deque()\n",
    "\n",
    "    def push(self, x: int) -> None:\n",
    "        self.queue.append(x)\n",
    "        \n",
    "        size = len(self.queue)\n",
    "        for _ in range(size - 1):\n",
    "            self.queue.append(self.queue.popleft())\n",
    "\n",
    "    def pop(self) -> int:\n",
    "        return self.queue.popleft()\n",
    "\n",
    "    def top(self) -> int:\n",
    "        return self.queue[0]\n",
    "        \n",
    "    def empty(self) -> bool:\n",
    "        return len(self.queue) == 0"
   ]
  }
 ],
 "metadata": {
  "kernelspec": {
   "display_name": "Python 3 (ipykernel)",
   "language": "python",
   "name": "python3"
  },
  "language_info": {
   "codemirror_mode": {
    "name": "ipython",
    "version": 3
   },
   "file_extension": ".py",
   "mimetype": "text/x-python",
   "name": "python",
   "nbconvert_exporter": "python",
   "pygments_lexer": "ipython3",
   "version": "3.10.14"
  }
 },
 "nbformat": 4,
 "nbformat_minor": 5
}

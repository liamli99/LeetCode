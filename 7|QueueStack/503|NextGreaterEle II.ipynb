{
 "cells": [
  {
   "cell_type": "markdown",
   "id": "009257eb",
   "metadata": {},
   "source": [
    "# Approach\n",
    "- 对于环形数组nums，我们可以遍历其两次：\n",
    "  ```python\n",
    "  for i in range(len(nums) * 2):\n",
    "    # When we want to use i, please use i % len(nums)!\n",
    "  ```\n",
    "\n",
    "\n",
    "# Code"
   ]
  },
  {
   "cell_type": "code",
   "execution_count": null,
   "id": "a89e5db5",
   "metadata": {},
   "outputs": [],
   "source": [
    "# Time: O(n), Space: O(n)\n",
    "class Solution:\n",
    "    def nextGreaterElements(self, nums: List[int]) -> List[int]:\n",
    "        stack = []\n",
    "        result = [-1] * len(nums)\n",
    "\n",
    "        for i in range(len(nums) * 2):\n",
    "            while len(stack) > 0 and nums[i % len(nums)] > nums[stack[-1]]:\n",
    "                result[stack[-1]] = nums[i % len(nums)]\n",
    "                stack.pop()\n",
    "            \n",
    "            stack.append(i % len(nums))\n",
    "\n",
    "        return result"
   ]
  }
 ],
 "metadata": {
  "kernelspec": {
   "display_name": "Python 3 (ipykernel)",
   "language": "python",
   "name": "python3"
  },
  "language_info": {
   "codemirror_mode": {
    "name": "ipython",
    "version": 3
   },
   "file_extension": ".py",
   "mimetype": "text/x-python",
   "name": "python",
   "nbconvert_exporter": "python",
   "pygments_lexer": "ipython3",
   "version": "3.10.14"
  }
 },
 "nbformat": 4,
 "nbformat_minor": 5
}

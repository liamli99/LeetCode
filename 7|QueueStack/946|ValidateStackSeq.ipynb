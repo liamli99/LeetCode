{
 "cells": [
  {
   "cell_type": "markdown",
   "id": "7d405163",
   "metadata": {},
   "source": [
    "# Approach\n",
    "- 建立一个stack，遍历pushed，将pushed中的元素入栈。如果栈不为空且栈顶元素与popped的当前元素相同，那么栈顶元素出栈，遍历下一个popped中的元素，重复上述操作！遍历结束后，如果栈为空，那么返回True！\n",
    "\n",
    "# Code"
   ]
  },
  {
   "cell_type": "code",
   "execution_count": null,
   "id": "0d1318b5",
   "metadata": {},
   "outputs": [],
   "source": [
    "# Time: O(n), Space: O(n)\n",
    "class Solution:\n",
    "    def validateStackSequences(self, pushed: List[int], popped: List[int]) -> bool:\n",
    "        stack = []\n",
    "\n",
    "        j = 0\n",
    "        for p in pushed:\n",
    "            stack.append(p)\n",
    "\n",
    "            while len(stack) > 0 and popped[j] == stack[-1]:\n",
    "                stack.pop()\n",
    "                j += 1\n",
    "        \n",
    "        return len(stack) == 0"
   ]
  }
 ],
 "metadata": {
  "kernelspec": {
   "display_name": "Python 3 (ipykernel)",
   "language": "python",
   "name": "python3"
  },
  "language_info": {
   "codemirror_mode": {
    "name": "ipython",
    "version": 3
   },
   "file_extension": ".py",
   "mimetype": "text/x-python",
   "name": "python",
   "nbconvert_exporter": "python",
   "pygments_lexer": "ipython3",
   "version": "3.10.9"
  }
 },
 "nbformat": 4,
 "nbformat_minor": 5
}

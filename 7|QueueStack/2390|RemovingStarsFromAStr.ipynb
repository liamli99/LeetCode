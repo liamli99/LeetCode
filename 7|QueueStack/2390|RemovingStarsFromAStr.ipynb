{
 "cells": [
  {
   "cell_type": "markdown",
   "id": "7d405163",
   "metadata": {},
   "source": [
    "# Approach\n",
    "建一个stack，遍历s，如果字符不是*，那么入栈；如果是*，那么从栈中弹出字符！\n",
    "\n",
    "# Code"
   ]
  },
  {
   "cell_type": "code",
   "execution_count": null,
   "id": "3e8607ad",
   "metadata": {},
   "outputs": [],
   "source": [
    "# Time: O(n), Space: O(n)\n",
    "class Solution:\n",
    "    def removeStars(self, s: str) -> str:\n",
    "        stack = []\n",
    "\n",
    "        for char in s:\n",
    "            if char != '*':\n",
    "                stack.append(char)\n",
    "            else:\n",
    "                stack.pop()\n",
    "        \n",
    "        return ''.join(stack)"
   ]
  }
 ],
 "metadata": {
  "kernelspec": {
   "display_name": "base",
   "language": "python",
   "name": "python3"
  },
  "language_info": {
   "codemirror_mode": {
    "name": "ipython",
    "version": 3
   },
   "file_extension": ".py",
   "mimetype": "text/x-python",
   "name": "python",
   "nbconvert_exporter": "python",
   "pygments_lexer": "ipython3",
   "version": "3.10.14"
  }
 },
 "nbformat": 4,
 "nbformat_minor": 5
}

{
 "cells": [
  {
   "cell_type": "markdown",
   "id": "7d405163",
   "metadata": {},
   "source": [
    "# Approach\n",
    "- 由于栈结构的特殊性，非常适合做对称匹配类的题目，例如本题是括号匹配！ \n",
    "\n",
    "- 本题有三种不匹配的情况：(1)左括号多 (2)右括号多 (3)左右括号不匹配\n",
    "\n",
    "- 建一个stack，遍历s，如果遇到左括号，压入栈；如果遇到右括号：\n",
    "  - 如果栈是空的，说明该右括号是多余的，返回False！\n",
    "  - 如果栈不是空的，从栈中弹出一个左括号查看是否与该右括号匹配！\n",
    "  遍历结束后，如果stack中还有剩余的左括号，那么这些左括号是多余的，返回False！\n",
    "\n",
    "# Code"
   ]
  },
  {
   "cell_type": "code",
   "execution_count": null,
   "id": "726d705e",
   "metadata": {},
   "outputs": [],
   "source": [
    "# Time: O(n), Space: O(n)\n",
    "class Solution:\n",
    "    def isValid(self, s: str) -> bool:\n",
    "        stack = []\n",
    "\n",
    "        for char in s:\n",
    "            if char == \"(\" or char == \"[\" or char == \"{\":\n",
    "                stack.append(char)\n",
    "            else:\n",
    "                # 右括号多了\n",
    "                if len(stack) == 0:\n",
    "                    return False\n",
    "                else:\n",
    "                    c = stack.pop()\n",
    "                    # 左右括号不匹配\n",
    "                    if (char == \")\" and c != \"(\") or (char == \"]\" and c != \"[\") or (char == \"}\" and c != \"{\"):\n",
    "                        return False\n",
    "\n",
    "        # 检查左括号是否多了\n",
    "        return len(stack) == 0"
   ]
  }
 ],
 "metadata": {
  "kernelspec": {
   "display_name": "base",
   "language": "python",
   "name": "python3"
  },
  "language_info": {
   "codemirror_mode": {
    "name": "ipython",
    "version": 3
   },
   "file_extension": ".py",
   "mimetype": "text/x-python",
   "name": "python",
   "nbconvert_exporter": "python",
   "pygments_lexer": "ipython3",
   "version": "3.10.14"
  }
 },
 "nbformat": 4,
 "nbformat_minor": 5
}

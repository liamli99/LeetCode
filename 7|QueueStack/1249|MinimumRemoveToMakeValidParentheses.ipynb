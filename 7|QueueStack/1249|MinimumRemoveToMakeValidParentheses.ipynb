{
 "cells": [
  {
   "cell_type": "markdown",
   "id": "7d405163",
   "metadata": {},
   "source": [
    "# Approach\n",
    "- 本题和20相比，只有两种不匹配的情况：(1)左括号多 (2)右括号多\n",
    "\n",
    "- 建一个list，其每个元素都是s中的一个字符；建一个stack，遍历s，如果遇到左括号，将其**下标**压入栈；如果遇到右括号：\n",
    "  - 如果栈是空的，说明该右括号是多余的，删去(将list对应位置变成空字符)！\n",
    "  - 如果栈不是空的，从栈中弹出一个下标！\n",
    "  遍历结束后，如果stack中还有剩余的下标，那么这些下标所代表的左括号是多余的，删去(将list对应位置变成空字符)！最终list中所有元素就可以组成符合条件的字符串！\n",
    "\n",
    "# Code"
   ]
  },
  {
   "cell_type": "code",
   "execution_count": null,
   "id": "d7ed77e1",
   "metadata": {},
   "outputs": [],
   "source": [
    "# Time: O(n), Space: O(n)\n",
    "class Solution:\n",
    "    def minRemoveToMakeValid(self, s: str) -> str:\n",
    "        stack = []\n",
    "        result = list(s)\n",
    "\n",
    "        for i in range(len(s)):\n",
    "            if s[i] == '(':\n",
    "                stack.append(i)\n",
    "            elif s[i] == ')':\n",
    "                if len(stack) == 0:\n",
    "                    result[i] = ''\n",
    "                else:\n",
    "                    stack.pop()\n",
    "        \n",
    "        while len(stack) > 0:\n",
    "            result[stack.pop()] = ''\n",
    "        \n",
    "        return ''.join(result)"
   ]
  }
 ],
 "metadata": {
  "kernelspec": {
   "display_name": "base",
   "language": "python",
   "name": "python3"
  },
  "language_info": {
   "codemirror_mode": {
    "name": "ipython",
    "version": 3
   },
   "file_extension": ".py",
   "mimetype": "text/x-python",
   "name": "python",
   "nbconvert_exporter": "python",
   "pygments_lexer": "ipython3",
   "version": "3.10.14"
  }
 },
 "nbformat": 4,
 "nbformat_minor": 5
}

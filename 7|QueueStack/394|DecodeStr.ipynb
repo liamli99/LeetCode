{
 "cells": [
  {
   "cell_type": "markdown",
   "id": "7d405163",
   "metadata": {},
   "source": [
    "# Approach\n",
    "- 建一个stack，遍历s：\n",
    "  - 如果当前字符不是`]`，将字符压入stack\n",
    "  - 如果当前字符是`]`，依次从stack中弹出字母，将弹出的字母组成字符串subStr；然后依次从stack中弹出数字，将弹出的数字组成整数num！将最终的字符串`num * subStr`压入stack！\n",
    "  退出循环后，stack中的元素组成最终答案！\n",
    "\n",
    "# Note\n",
    "- `string.isdigit()`: True if all characters are digits (0-9)\n",
    "- `string.isalpha()`: True if all characters are alphabet letters (a-z, A-Z)\n",
    "\n",
    "# Code"
   ]
  },
  {
   "cell_type": "code",
   "execution_count": null,
   "id": "a3bfebd4",
   "metadata": {},
   "outputs": [],
   "source": [
    "# Time: O(n), Space: O(n)\n",
    "class Solution:\n",
    "    def decodeString(self, s: str) -> str:\n",
    "        stack = []\n",
    "\n",
    "        for char in s:\n",
    "            if char != ']':\n",
    "                stack.append(char)\n",
    "            else:\n",
    "                subStr = ''\n",
    "                while stack[-1].isalpha():\n",
    "                    subStr = stack.pop() + subStr\n",
    "                \n",
    "                # 弹出[\n",
    "                stack.pop()\n",
    "\n",
    "                num = ''\n",
    "                while len(stack) > 0 and stack[-1].isdigit():\n",
    "                    num = stack.pop() + num\n",
    "                \n",
    "                stack.append(int(num) * subStr)\n",
    "        \n",
    "        return ''.join(stack)"
   ]
  }
 ],
 "metadata": {
  "kernelspec": {
   "display_name": "base",
   "language": "python",
   "name": "python3"
  },
  "language_info": {
   "codemirror_mode": {
    "name": "ipython",
    "version": 3
   },
   "file_extension": ".py",
   "mimetype": "text/x-python",
   "name": "python",
   "nbconvert_exporter": "python",
   "pygments_lexer": "ipython3",
   "version": "3.10.14"
  }
 },
 "nbformat": 4,
 "nbformat_minor": 5
}

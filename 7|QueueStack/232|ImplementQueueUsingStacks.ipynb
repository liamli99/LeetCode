{
 "cells": [
  {
   "cell_type": "markdown",
   "id": "7d405163",
   "metadata": {},
   "source": [
    "# Approach\n",
    "- 建立两个栈inStack和outStack，inStack用于push操作，outStack用于pop和peak操作：\n",
    "  - push: 将元素压入inStack中\n",
    "  \n",
    "  - pop: 如果outStack不为空，那么直接从outStack弹出元素！如果outStack为空，那就遍历inStack，依次将元素弹出并压入outStack，这样outStack中元素的顺序与inStack相反！此时从outStack弹出的元素就是头元素！\n",
    "  \n",
    "  - peak: 基本类同pop!\n",
    "  \n",
    "  - empty: 只有两个栈均空的时候才是空！\n",
    "\n",
    "# Code"
   ]
  },
  {
   "cell_type": "code",
   "execution_count": null,
   "id": "83733abe",
   "metadata": {},
   "outputs": [],
   "source": [
    "class MyQueue:\n",
    "\n",
    "    def __init__(self):\n",
    "        self.inStack = []\n",
    "        self.outStack = []\n",
    "        \n",
    "    def push(self, x: int) -> None:\n",
    "        self.inStack.append(x)\n",
    "\n",
    "    def pop(self) -> int:\n",
    "        if len(self.outStack) == 0:\n",
    "            while len(self.inStack) != 0:\n",
    "                self.outStack.append(self.inStack.pop())\n",
    "        \n",
    "        return self.outStack.pop()\n",
    "\n",
    "    def peek(self) -> int:\n",
    "        if len(self.outStack) == 0:\n",
    "            while len(self.inStack) != 0:\n",
    "                self.outStack.append(self.inStack.pop())\n",
    "        \n",
    "        return self.outStack[-1]\n",
    "        \n",
    "    def empty(self) -> bool:\n",
    "        return len(self.inStack) == 0 and len(self.outStack) == 0"
   ]
  }
 ],
 "metadata": {
  "kernelspec": {
   "display_name": "base",
   "language": "python",
   "name": "python3"
  },
  "language_info": {
   "codemirror_mode": {
    "name": "ipython",
    "version": 3
   },
   "file_extension": ".py",
   "mimetype": "text/x-python",
   "name": "python",
   "nbconvert_exporter": "python",
   "pygments_lexer": "ipython3",
   "version": "3.10.14"
  }
 },
 "nbformat": 4,
 "nbformat_minor": 5
}

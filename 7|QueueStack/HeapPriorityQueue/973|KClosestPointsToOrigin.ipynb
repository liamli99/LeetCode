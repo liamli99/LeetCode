{
 "cells": [
  {
   "cell_type": "markdown",
   "id": "7d405163",
   "metadata": {},
   "source": [
    "# Approach\n",
    "- 遍历points，计算每个点point离原点的距离，记为distance，将元组(-distance, point)依次添加进priority queue中，那么-distance越小(distance越大)优先级越高，越先出队！当priority queue的长度超过k时，从中pop一个元素，即此时-distance最小(distance最大)的元组！遍历结束后，priority queue中的元组中的point，就是points中最接近原点的k个点！\n",
    "\n",
    "# Code"
   ]
  },
  {
   "cell_type": "code",
   "execution_count": null,
   "id": "a95e2bfa",
   "metadata": {},
   "outputs": [],
   "source": [
    "# Max Heap\n",
    "# Time: O(n * log k), Space: O(k)\n",
    "import heapq\n",
    "class Solution:\n",
    "    def kClosest(self, points: List[List[int]], k: int) -> List[List[int]]:\n",
    "        pq = []\n",
    "        \n",
    "        for point in points:\n",
    "            distance = point[0] ** 2 + point[1] ** 2\n",
    "            heapq.heappush(pq, (-distance, point))\n",
    "\n",
    "            if len(pq) > k:\n",
    "                heapq.heappop(pq)\n",
    "        \n",
    "        # The answer is unique, return the answer in any order!\n",
    "        result = []\n",
    "        for _ in range(k):\n",
    "            result.append(heapq.heappop(pq)[1])\n",
    "        \n",
    "        return result\n",
    "    \n",
    "        # return [x[1] for x in pq]"
   ]
  }
 ],
 "metadata": {
  "kernelspec": {
   "display_name": "Python 3 (ipykernel)",
   "language": "python",
   "name": "python3"
  },
  "language_info": {
   "codemirror_mode": {
    "name": "ipython",
    "version": 3
   },
   "file_extension": ".py",
   "mimetype": "text/x-python",
   "name": "python",
   "nbconvert_exporter": "python",
   "pygments_lexer": "ipython3",
   "version": "3.10.14"
  }
 },
 "nbformat": 4,
 "nbformat_minor": 5
}

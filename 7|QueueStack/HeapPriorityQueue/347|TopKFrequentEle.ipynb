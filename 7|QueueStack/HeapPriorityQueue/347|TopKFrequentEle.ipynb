{
 "cells": [
  {
   "cell_type": "markdown",
   "id": "7d405163",
   "metadata": {},
   "source": [
    "# Approach\n",
    "- 首先用一个dict记录nums中每个元素的出现次数，key是元素，value是该元素的出现次数\n",
    "\n",
    "- 然后遍历dict，将元组(value, key)依次添加进priority queue中，那么value(出现次数)越小优先级越高，越先出队！当priority queue的长度超过k时，从中pop一个元素，即此时value(出现次数)最小的(value, key)！遍历结束后，priority queue中的元组中的key，就是nums中的前k个高频元素！\n",
    "\n",
    "# Code"
   ]
  },
  {
   "cell_type": "code",
   "execution_count": null,
   "id": "e262500c",
   "metadata": {},
   "outputs": [],
   "source": [
    "# Min Heap\n",
    "# Time: O(n * log k), Space: O(n + k)\n",
    "import heapq\n",
    "class Solution:\n",
    "    def topKFrequent(self, nums: List[int], k: int) -> List[int]:\n",
    "        record = {} \n",
    "        for num in nums:\n",
    "            record[num] = record.get(num, 0) + 1\n",
    "        \n",
    "        pq = []\n",
    "        for num, freq in record.items():\n",
    "            heapq.heappush(pq, (freq, num))\n",
    "\n",
    "            if len(pq) > k:\n",
    "                heapq.heappop(pq)\n",
    "        \n",
    "        # The answer is unique, return the answer in any order!\n",
    "        result = []\n",
    "        for _ in range(k):\n",
    "            result.append(heapq.heappop(pq)[1])\n",
    "        \n",
    "        return result\n",
    "        \n",
    "        # return [x[1] for x in pq]"
   ]
  }
 ],
 "metadata": {
  "kernelspec": {
   "display_name": "Python 3 (ipykernel)",
   "language": "python",
   "name": "python3"
  },
  "language_info": {
   "codemirror_mode": {
    "name": "ipython",
    "version": 3
   },
   "file_extension": ".py",
   "mimetype": "text/x-python",
   "name": "python",
   "nbconvert_exporter": "python",
   "pygments_lexer": "ipython3",
   "version": "3.10.14"
  }
 },
 "nbformat": 4,
 "nbformat_minor": 5
}

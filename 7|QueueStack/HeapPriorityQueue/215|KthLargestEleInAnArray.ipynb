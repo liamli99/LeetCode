{
 "cells": [
  {
   "cell_type": "markdown",
   "id": "7d405163",
   "metadata": {},
   "source": [
    "# Approach\n",
    "- 遍历nums，将每个元素依次添加进priority queue中，当priority queue的长度超过k时，从中pop一个元素，即此时value(值)最小的元素！遍历结束后，priority queue中的元素就是nums中的前k个最大元素！此时从priority queue中pop一个元素，就是这k个最大元素的最小元素，即第k个最大元素！\n",
    "\n",
    "# Code"
   ]
  },
  {
   "cell_type": "code",
   "execution_count": null,
   "id": "875f459a",
   "metadata": {},
   "outputs": [],
   "source": [
    "# Min Heap\n",
    "# Time: O(n * logk), Space: O(k)\n",
    "import heapq\n",
    "class Solution:\n",
    "    def findKthLargest(self, nums: List[int], k: int) -> int:\n",
    "        pq = []\n",
    "        \n",
    "        for num in nums:\n",
    "            heapq.heappush(pq, num)\n",
    "            if len(pq) > k:\n",
    "                heapq.heappop(pq)\n",
    "        \n",
    "        return heapq.heappop(pq)"
   ]
  }
 ],
 "metadata": {
  "kernelspec": {
   "display_name": "Python 3 (ipykernel)",
   "language": "python",
   "name": "python3"
  },
  "language_info": {
   "codemirror_mode": {
    "name": "ipython",
    "version": 3
   },
   "file_extension": ".py",
   "mimetype": "text/x-python",
   "name": "python",
   "nbconvert_exporter": "python",
   "pygments_lexer": "ipython3",
   "version": "3.10.9"
  }
 },
 "nbformat": 4,
 "nbformat_minor": 5
}

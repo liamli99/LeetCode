{
 "cells": [
  {
   "cell_type": "markdown",
   "id": "7d405163",
   "metadata": {},
   "source": [
    "# Approach\n",
    "- 本题和347的不同点在于：347有唯一的k个高频元素，可以按照任意顺序返回答案；但是本题需要按照出现频率由高到低返回答案，如果不同单词有相同的频率，那么按照字典顺序排序！\n",
    "\n",
    "- 如果本题还是像347一样将(freq, word)依次添加进priority queue中，那么当priority queue的长度超过k时，如果两个单词的freq一样时，word越小(字典顺序越小)越先出队，但是本题希望保留字典顺序小的元素，即**本题希望freq越小越先出队，如果freq一样，那么word越大越先出队**，这样的话priority queue中剩下的就是freq大且word小的元素！由于347有唯一的k个高频元素，因此347只需要考虑freq！\n",
    "\n",
    "- 因此本题有两种解决方法：\n",
    "  1. Max heap，但是没法维护一个长度为k的priority queue！\n",
    "  2. `__lt__`\n",
    "\n",
    "# Code"
   ]
  },
  {
   "cell_type": "code",
   "execution_count": null,
   "id": "c18d928a",
   "metadata": {},
   "outputs": [],
   "source": [
    "# Max Heap\n",
    "# Time: O(n * log n), Space: O(n + k)\n",
    "import heapq\n",
    "class Solution:\n",
    "    def topKFrequent(self, words: List[str], k: int) -> List[str]:\n",
    "        record = {}\n",
    "        for word in words:\n",
    "            record[word] = record.get(word, 0) + 1\n",
    "        \n",
    "        pq = []\n",
    "        for word, freq in record.items():\n",
    "            heapq.heappush(pq, (-freq, word))\n",
    "        \n",
    "        result = []\n",
    "        for _ in range(k):\n",
    "            result.append(heapq.heappop(pq)[1])\n",
    "        \n",
    "        return result"
   ]
  },
  {
   "cell_type": "code",
   "execution_count": null,
   "id": "9418b53c",
   "metadata": {},
   "outputs": [],
   "source": [
    "# __lt__\n",
    "# Time: O(n * log k), Space: O(n + k)\n",
    "class Word:\n",
    "    def __init__(self, freq, word):\n",
    "        self.freq = freq\n",
    "        self.word = word\n",
    "    def __lt__(self, other):\n",
    "        if self.freq != other.freq:\n",
    "            return self.freq < other.freq\n",
    "        else:\n",
    "            return self.word > other.word\n",
    "\n",
    "import heapq\n",
    "class Solution:\n",
    "    def topKFrequent(self, words: List[str], k: int) -> List[str]:\n",
    "        record = {}\n",
    "        for word in words:\n",
    "            record[word] = record.get(word, 0) + 1\n",
    "        \n",
    "        pq = []\n",
    "        for word, freq in record.items():\n",
    "            heapq.heappush(pq, Word(freq, word))\n",
    "            \n",
    "            if len(pq) > k:\n",
    "                heapq.heappop(pq)\n",
    "            \n",
    "        result = [0] * k\n",
    "        for i in range(k - 1, -1, -1):\n",
    "            result[i] = heapq.heappop(pq).word\n",
    "        \n",
    "        return result   \n"
   ]
  }
 ],
 "metadata": {
  "kernelspec": {
   "display_name": "Python 3 (ipykernel)",
   "language": "python",
   "name": "python3"
  },
  "language_info": {
   "codemirror_mode": {
    "name": "ipython",
    "version": 3
   },
   "file_extension": ".py",
   "mimetype": "text/x-python",
   "name": "python",
   "nbconvert_exporter": "python",
   "pygments_lexer": "ipython3",
   "version": "3.10.9"
  }
 },
 "nbformat": 4,
 "nbformat_minor": 5
}

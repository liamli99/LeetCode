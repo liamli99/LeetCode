{
 "cells": [
  {
   "cell_type": "markdown",
   "id": "009257eb",
   "metadata": {},
   "source": [
    "# Approach\n",
    "<!-- Describe your approach to solving the problem. -->\n",
    "贪心在于想让总的糖果数最少，因此我们定义局部最优：当一边比另一边评分大时，糖果数加1！   \n",
    "\n",
    "千万不要左右两边一起考虑！容易混乱！可以先讨论右边比左边大，再讨论左边比右边大！题目要求“相邻的孩子中，评分高的孩子必须获得更多的糖果”可以拆\n",
    "\n",
    "分成：1. 当右边的孩子比左边的孩子评分高时，右边的孩子必须获得更多的糖果 2. 当左边的孩子比右边的孩子评分高时，左边的孩子必须获得更多糖果   \n",
    "情况1: 第一个孩子得到1个糖果，从左向右遍历，右边大于左边，则右边加1，小于等于则等于1(既然没有规定那就按最小的来！)   \n",
    "情况2: 基于情况1，从最右边孩子开始从右向左遍历，左边大于右边，则左边取max(右边加1, 情况1得到的值)！！！注意左边的值只能取更大的，因为值变大没有任何影响，但是值变小可能会不满足情况1！\n",
    "\n",
    "# Note\n",
    "\n",
    "\n",
    "# Code"
   ]
  },
  {
   "cell_type": "code",
   "execution_count": null,
   "id": "642b425f",
   "metadata": {},
   "outputs": [],
   "source": [
    "# 贪心\n",
    "class Solution:\n",
    "    def candy(self, ratings: List[int]) -> int:\n",
    "        candy = [1] * len(ratings)\n",
    "        \n",
    "        for i in range(len(ratings) - 1):\n",
    "            if ratings[i + 1] > ratings[i]:\n",
    "                candy[i + 1] = candy[i] + 1\n",
    "            else:\n",
    "                candy[i + 1] = 1\n",
    "            \n",
    "        for i in range(len(ratings) - 1, 0, -1):\n",
    "            if ratings[i - 1] > ratings[i]:\n",
    "                candy[i - 1] = max(candy[i - 1], candy[i] + 1)\n",
    "        \n",
    "        return sum(candy)"
   ]
  }
 ],
 "metadata": {
  "kernelspec": {
   "display_name": "Python 3 (ipykernel)",
   "language": "python",
   "name": "python3"
  },
  "language_info": {
   "codemirror_mode": {
    "name": "ipython",
    "version": 3
   },
   "file_extension": ".py",
   "mimetype": "text/x-python",
   "name": "python",
   "nbconvert_exporter": "python",
   "pygments_lexer": "ipython3",
   "version": "3.10.9"
  }
 },
 "nbformat": 4,
 "nbformat_minor": 5
}

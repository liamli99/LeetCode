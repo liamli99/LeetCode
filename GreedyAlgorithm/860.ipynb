{
 "cells": [
  {
   "cell_type": "markdown",
   "id": "009257eb",
   "metadata": {},
   "source": [
    "# Approach\n",
    "<!-- Describe your approach to solving the problem. -->\n",
    "$5直接拿走，$10只能用$5来找零，但是$20的找零可以有3张$5或1张$5和1张$10。\n",
    "\n",
    "贪心在于对于$20我们想优先用$10去找零，因为$10只能用来找零$20，但$5还可以用来找零$10，因此$5更有用！我们定义局部最优：遇到$20，优先用$10找零！\n",
    "\n",
    "\n",
    "# Note\n",
    "\n",
    "\n",
    "# Code"
   ]
  },
  {
   "cell_type": "code",
   "execution_count": null,
   "id": "642b425f",
   "metadata": {},
   "outputs": [],
   "source": [
    "# 贪心\n",
    "class Solution:\n",
    "    def lemonadeChange(self, bills: List[int]) -> bool:\n",
    "        sumFive = 0\n",
    "        sumTen = 0\n",
    "        for i in range(len(bills)):\n",
    "            if bills[i] == 5:\n",
    "                sumFive += 1\n",
    "            elif bills[i] == 10:\n",
    "                sumTen += 1\n",
    "                sumFive -= 1\n",
    "                if sumFive < 0:\n",
    "                    return False\n",
    "            else:\n",
    "                # $20优先用$10找零！\n",
    "                sumFive -= 1\n",
    "                sumTen -= 1\n",
    "                if sumFive < 0:\n",
    "                    return False\n",
    "                elif sumTen < 0 :\n",
    "                    # 因为此时用3张$5，所以要把之前用掉的$10加回来！\n",
    "                    sumTen += 1\n",
    "                    sumFive -= 2\n",
    "                    if sumFive < 0:\n",
    "                        return False\n",
    "\n",
    "        return True"
   ]
  }
 ],
 "metadata": {
  "kernelspec": {
   "display_name": "Python 3 (ipykernel)",
   "language": "python",
   "name": "python3"
  },
  "language_info": {
   "codemirror_mode": {
    "name": "ipython",
    "version": 3
   },
   "file_extension": ".py",
   "mimetype": "text/x-python",
   "name": "python",
   "nbconvert_exporter": "python",
   "pygments_lexer": "ipython3",
   "version": "3.10.9"
  }
 },
 "nbformat": 4,
 "nbformat_minor": 5
}

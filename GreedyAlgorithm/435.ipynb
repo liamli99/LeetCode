{
 "cells": [
  {
   "cell_type": "markdown",
   "id": "009257eb",
   "metadata": {},
   "source": [
    "# Approach\n",
    "<!-- Describe your approach to solving the problem. -->\n",
    "本题其实在于求non-overlapping interval的最大数量，然后用总数减去该数量就是所求的移除的最小数量！\n",
    "基本类似452，此时的non-overlapping interval的最大数量就是452中的弓箭的最小数量！！！\n",
    "\n",
    "\n",
    "# Note\n",
    "\n",
    "\n",
    "# Code"
   ]
  },
  {
   "cell_type": "code",
   "execution_count": null,
   "id": "642b425f",
   "metadata": {},
   "outputs": [],
   "source": [
    "# 左边界排序\n",
    "class Solution:\n",
    "    def eraseOverlapIntervals(self, intervals: List[List[int]]) -> int:\n",
    "        # num记录的是所有non-overlapping的interval的最大数量！\n",
    "        num = 1\n",
    "        intervals.sort(key = lambda x: x[0])\n",
    "\n",
    "        for i in range(len(intervals) - 1):\n",
    "            # 注意此时的overlapping的条件！和452的区别！\n",
    "            if intervals[i + 1][0] >= intervals[i][1]:\n",
    "                num += 1\n",
    "            else:\n",
    "                intervals[i + 1][1] = min(intervals[i + 1][1], intervals[i][1])\n",
    "        \n",
    "        return len(intervals) - num\n",
    "\n",
    "# 更直接\n",
    "class Solution:\n",
    "    def eraseOverlapIntervals(self, intervals: List[List[int]]) -> int:\n",
    "        # count记录的是需要移除元素的最小数量\n",
    "        count = 0\n",
    "        intervals.sort(key = lambda x: x[0])\n",
    "\n",
    "        for i in range(len(intervals) - 1):\n",
    "            if intervals[i + 1][0] < intervals[i][1]:\n",
    "                count += 1\n",
    "                intervals[i + 1][1] = min(intervals[i + 1][1], intervals[i][1])\n",
    "        \n",
    "        return count"
   ]
  },
  {
   "cell_type": "code",
   "execution_count": null,
   "id": "7238e65e",
   "metadata": {},
   "outputs": [],
   "source": [
    "# 右边界排序\n",
    "class Solution:\n",
    "    def eraseOverlapIntervals(self, intervals: List[List[int]]) -> int:\n",
    "        num = 1\n",
    "        intervals.sort(key = lambda x: x[1])\n",
    "        for i in range(len(intervals) - 1, 0, -1):\n",
    "            if intervals[i - 1][1] <= intervals[i][0]:\n",
    "                num += 1\n",
    "            else:\n",
    "                intervals[i - 1][0] = max(intervals[i - 1][0], intervals[i][0]) \n",
    "        return len(intervals) - num\n",
    "\n",
    "# 更直接\n",
    "class Solution:\n",
    "    def eraseOverlapIntervals(self, intervals: List[List[int]]) -> int:\n",
    "        count = 0\n",
    "        intervals.sort(key = lambda x: x[1])\n",
    "\n",
    "        for i in range(len(intervals) - 1, 0, -1):\n",
    "            if intervals[i - 1][1] > intervals[i][0]:\n",
    "                count += 1\n",
    "                intervals[i - 1][0] = max(intervals[i - 1][0], intervals[i][0])\n",
    "        return count"
   ]
  }
 ],
 "metadata": {
  "kernelspec": {
   "display_name": "Python 3 (ipykernel)",
   "language": "python",
   "name": "python3"
  },
  "language_info": {
   "codemirror_mode": {
    "name": "ipython",
    "version": 3
   },
   "file_extension": ".py",
   "mimetype": "text/x-python",
   "name": "python",
   "nbconvert_exporter": "python",
   "pygments_lexer": "ipython3",
   "version": "3.10.9"
  }
 },
 "nbformat": 4,
 "nbformat_minor": 5
}

{
 "cells": [
  {
   "cell_type": "markdown",
   "id": "009257eb",
   "metadata": {},
   "source": [
    "# Approach\n",
    "<!-- Describe your approach to solving the problem. -->\n",
    "贪心在于我们想让数字更大！最理想的情况是数字不变，如果遍历的时候出现前一个数字大于后一个数字的情况，前一个数字减1后面数字变为9，我们希望数字是xxx999的形式！   \n",
    "\n",
    "注意：不能从前往后遍历！假如中间出现前一个数字大于后一个数字的情况，那么前一个数字减1，但是这样可能会导致该数字比前前一个数字小！例如332，3比2小所以3减1，那就变成322，这下一开始满足的大小关系又被破坏了！\n",
    "\n",
    "因此我们选择从后往前遍历数字，当遇到前一个数字大于后一个数字的情况，前一个数字大小减1，后一个数字一直到最后一个数字全变9！这样数字就是xxx999形式！\n",
    "\n",
    "\n",
    "# Note\n",
    "对于python而言双引号和单引号表示的string完全一样！即\"123\"=='123'\n",
    "1. Integer to String: String = str(Integer)\n",
    "2. String to Integer: Integer = int(String)，仅限于类似\"213131\"这样的string！\n",
    "\n",
    "3. List to String: list of strings: String = \"连接符\".join(List)连接符表示list中两两元素在string中用什么连接，类比下面的分隔符\n",
    "                   list of integers: String = \"连接符\".join(str(num) for num in List) \n",
    "                                     String = \"连接符\".join(map(str, List))          以上两个非常重要！！！\n",
    "                   以上情况均不可以用String = str(List)！返回的结果是\"[...]\"有表示list的中括号！！\n",
    "4. String to List: List = list(String) string的每个char都变成list的一个ele，无论char是否是数字，ele都是string！\n",
    "                   List = String.split(分隔符，默认是空格) 按照分隔符将string分成list中的不同ele，每个ele都是string且不包括分隔符\n",
    "                   以上结果返回的均是list of strings！\n",
    "\n",
    "5. Integer to List：Integer -> String -> List 注意这里不能直接用List = list(Integer)，因为list()内的元素要iterable！例如                         string就可以\n",
    "6. List to Integer: List -> String -> Integer 注意这里不能直接用Integer = int(List)，因为int()只能将字符串或数字转化为整型！\n",
    "\n",
    "\n",
    "# Code"
   ]
  },
  {
   "cell_type": "code",
   "execution_count": null,
   "id": "642b425f",
   "metadata": {},
   "outputs": [],
   "source": [
    "class Solution:\n",
    "    def monotoneIncreasingDigits(self, n: int) -> int:\n",
    "        # 注意listNum是list of strings!\n",
    "        listNum = list(str(n))\n",
    "        # flag不能从0开始，要不然第二个for循环每次都得用，应该赋予一个进不去第二个for循环的初值\n",
    "        flag = len(listNum)\n",
    "\n",
    "        for i in range(len(listNum) - 1, 0, -1):\n",
    "            # 如果后一个比前一个小，那么前一个减1，后一个变9，但是现在不要变9，先记录变9的位置，等会儿一起变9\n",
    "            # 之所以现在不变9，我们考虑这种情况，假如在第一次“后一个比前一个小”之后又出现一次该情况，如果在这里变9只能变一个\n",
    "            # 但是我们希望的是所有该位置之后的全变9！这样操作就很麻烦了\n",
    "            if listNum[i] < listNum[i - 1]:\n",
    "                flag = i\n",
    "                listNum[i - 1] = str(int(listNum[i - 1]) - 1)\n",
    "        \n",
    "        for i in range(flag, len(listNum)):\n",
    "            listNum[i] = '9'    \n",
    "        \n",
    "        return int(\"\".join(listNum))"
   ]
  }
 ],
 "metadata": {
  "kernelspec": {
   "display_name": "Python 3 (ipykernel)",
   "language": "python",
   "name": "python3"
  },
  "language_info": {
   "codemirror_mode": {
    "name": "ipython",
    "version": 3
   },
   "file_extension": ".py",
   "mimetype": "text/x-python",
   "name": "python",
   "nbconvert_exporter": "python",
   "pygments_lexer": "ipython3",
   "version": "3.10.9"
  }
 },
 "nbformat": 4,
 "nbformat_minor": 5
}

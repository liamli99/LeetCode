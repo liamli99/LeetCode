{
 "cells": [
  {
   "cell_type": "markdown",
   "id": "7d405163",
   "metadata": {},
   "source": [
    "# Approach\n",
    "贪心在于：想要包含unique字符的substring的数量最少，那就要让每个substring中包含的unique字符尽可能的多！\n",
    "\n",
    "我们可以定义两个变量record和count，分别来记录当前划分的substring中包含的unique字符和包含unique字符的substring的数量！遍历s，如果某个字符char在record中，说明这个char重复了，不能把这个char加到当前substring中，这个char只能加到新的substring中！因此count+=1，因为需要划分一个新的substring，这个新的substring就变成了当前的substring！同时record要清空并加上这个char，因为这个char是当前(新的)substring中的第一个unique字符，需要被记录下来！如果char不在record中，说明这个char没有重复，可以把这个char加到当前substring中！同时record要加上这个char，因为需要记录当前substring中的unique字符！\n",
    "\n",
    "# Note\n",
    "\n",
    "\n",
    "# Code"
   ]
  },
  {
   "cell_type": "code",
   "execution_count": null,
   "id": "c8454406",
   "metadata": {},
   "outputs": [],
   "source": [
    "class Solution:\n",
    "    def partitionString(self, s: str) -> int:\n",
    "        record = set()\n",
    "        count = 1\n",
    "        \n",
    "        for char in s:\n",
    "            if char in record:\n",
    "                count += 1\n",
    "                record = set()\n",
    "            record.add(char)\n",
    "        \n",
    "        return count"
   ]
  }
 ],
 "metadata": {
  "kernelspec": {
   "display_name": "Python 3 (ipykernel)",
   "language": "python",
   "name": "python3"
  },
  "language_info": {
   "codemirror_mode": {
    "name": "ipython",
    "version": 3
   },
   "file_extension": ".py",
   "mimetype": "text/x-python",
   "name": "python",
   "nbconvert_exporter": "python",
   "pygments_lexer": "ipython3",
   "version": "3.10.9"
  }
 },
 "nbformat": 4,
 "nbformat_minor": 5
}

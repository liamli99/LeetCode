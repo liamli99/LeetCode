{
 "cells": [
  {
   "cell_type": "markdown",
   "id": "7d405163",
   "metadata": {},
   "source": [
    "# Approach\n",
    "本题本质上想要将nums中的数字从大到小排序，但是这个从大到小不是数值上的从大到小，而是说两个数字x和y，如果x和y拼接在一起的数字xy>yx，那么我们认为x>y，反之y>x！例如9和34，因为934>349，所以9>34，9要排在34前面！按照这个规律重新排序nums中的数字，所得到的新数列的所有数字拼接在一起必然是最大的数字！   \n",
    "\n",
    "为了能比较拼接之后的结果，我们要先把nums中的数字变成字符串，这样就可以用x+y来表示拼接之后的数字！而且python中字符串内是数字的字符串可以直接比较！例如\"934\"和\"349\"的比较结果是\"934\">\"349\"，比较的结果和数字进行比较的结果一模一样！   \n",
    "\n",
    "# Note\n",
    "python sorting:https://docs.python.org/3/howto/sorting.html\n",
    "\n",
    "# Code"
   ]
  },
  {
   "cell_type": "code",
   "execution_count": null,
   "id": "3d92b2ed",
   "metadata": {},
   "outputs": [],
   "source": [
    "class Solution:\n",
    "    def largestNumber(self, nums: List[int]) -> str:\n",
    "        strs = [str(num) for num in nums]\n",
    "\n",
    "        def compare(x, y):\n",
    "            if x + y > y + x:\n",
    "                return -1\n",
    "            else:\n",
    "                return 1\n",
    "\n",
    "        strs = sorted(strs, key = cmp_to_key(compare))\n",
    "        \n",
    "        # str(int())是为了去除leading zeros！\n",
    "        return str(int(\"\".join(strs)))"
   ]
  }
 ],
 "metadata": {
  "kernelspec": {
   "display_name": "Python 3 (ipykernel)",
   "language": "python",
   "name": "python3"
  },
  "language_info": {
   "codemirror_mode": {
    "name": "ipython",
    "version": 3
   },
   "file_extension": ".py",
   "mimetype": "text/x-python",
   "name": "python",
   "nbconvert_exporter": "python",
   "pygments_lexer": "ipython3",
   "version": "3.10.9"
  }
 },
 "nbformat": 4,
 "nbformat_minor": 5
}

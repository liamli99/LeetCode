{
 "cells": [
  {
   "cell_type": "markdown",
   "id": "7d405163",
   "metadata": {},
   "source": [
    "# Approach\n",
    "- 基本类似77，但是本题每个元素可以取无数次，因此下一层从i开始遍历！！！\n",
    "\n",
    "- 剪枝优化：先将candidates从小到大排序，对于当前层的`candidates[i]`，如果此时的和`currSum + candidates[i]`已经大于target了，由于candidates是递增的，直接排除掉当前层剩下的所有选择！  \n",
    "\n",
    "# Code"
   ]
  },
  {
   "cell_type": "code",
   "execution_count": null,
   "id": "c4130b3d",
   "metadata": {},
   "outputs": [],
   "source": [
    "# 剪枝优化，定义sum参数累加求和\n",
    "# Time: O(n * 2^n), Space: O(target)\n",
    "from typing import List\n",
    "class Solution:\n",
    "    def combinationSum(self, candidates: List[int], target: int) -> List[List[int]]:\n",
    "        path = []\n",
    "        result = []\n",
    "        # 为了剪枝\n",
    "        candidates.sort()\n",
    "\n",
    "        def backtrack(startIndex, currSum):\n",
    "            if currSum == target:\n",
    "                result.append(path[:])\n",
    "                return\n",
    "            \n",
    "            for i in range(startIndex, len(candidates)):\n",
    "                # 对和剪枝\n",
    "                if currSum + candidates[i] > target:\n",
    "                    break\n",
    "                \n",
    "                path.append(candidates[i])\n",
    "                currSum += candidates[i]\n",
    "                backtrack(i, currSum)\n",
    "                path.pop()\n",
    "                currSum -= candidates[i]\n",
    "    \n",
    "        backtrack(0, 0)\n",
    "        return result"
   ]
  }
 ],
 "metadata": {
  "kernelspec": {
   "display_name": "Python 3 (ipykernel)",
   "language": "python",
   "name": "python3"
  },
  "language_info": {
   "codemirror_mode": {
    "name": "ipython",
    "version": 3
   },
   "file_extension": ".py",
   "mimetype": "text/x-python",
   "name": "python",
   "nbconvert_exporter": "python",
   "pygments_lexer": "ipython3",
   "version": "3.10.9"
  }
 },
 "nbformat": 4,
 "nbformat_minor": 5
}

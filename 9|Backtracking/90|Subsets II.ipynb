{
 "cells": [
  {
   "cell_type": "markdown",
   "id": "7d405163",
   "metadata": {},
   "source": [
    "# Approach \n",
    "- 本题和78相比，nums可以包含重复元素！在78的基础上，利用40的方法去重！\n",
    "\n",
    "# Code"
   ]
  },
  {
   "cell_type": "code",
   "execution_count": null,
   "id": "fbadf3c1",
   "metadata": {},
   "outputs": [],
   "source": [
    "# 方法一：利用startIndex对同一层的重复元素去重\n",
    "# Time: O(n * 2^n), Space: O(n)\n",
    "from typing import List\n",
    "class Solution:\n",
    "    def subsetsWithDup(self, nums: List[int]) -> List[List[int]]:\n",
    "        path = []\n",
    "        result = []\n",
    "        nums.sort()\n",
    "    \n",
    "        def backtrack(startIndex):\n",
    "            result.append(path[:])\n",
    "            \n",
    "            for i in range(startIndex, len(nums)):\n",
    "                if i > startIndex and nums[i] == nums[i - 1]:\n",
    "                    continue\n",
    "              \n",
    "                path.append(nums[i])\n",
    "                backtrack(i + 1)\n",
    "                path.pop()\n",
    "        \n",
    "        backtrack(0)\n",
    "        return result"
   ]
  },
  {
   "cell_type": "code",
   "execution_count": null,
   "id": "45409350",
   "metadata": {},
   "outputs": [],
   "source": [
    "# 方法二：利用used数组对同一层元素去重\n",
    "class Solution:\n",
    "    def subsetsWithDup(self, nums: List[int]) -> List[List[int]]:\n",
    "        path = []\n",
    "        result = []\n",
    "        used = [False] * len(nums)\n",
    "        nums.sort()\n",
    "    \n",
    "        def backtrack(startIndex):\n",
    "            result.append(path[:])\n",
    "            \n",
    "            for i in range(startIndex, len(nums)):\n",
    "                if i > 0 and nums[i] == nums[i - 1] and used[i - 1] == False:\n",
    "                    continue\n",
    "              \n",
    "                path.append(nums[i])\n",
    "                used[i] = True\n",
    "                backtrack(i + 1)\n",
    "                path.pop()\n",
    "                used[i] = False\n",
    "        \n",
    "        backtrack(0)\n",
    "        return result"
   ]
  }
 ],
 "metadata": {
  "kernelspec": {
   "display_name": "Python 3 (ipykernel)",
   "language": "python",
   "name": "python3"
  },
  "language_info": {
   "codemirror_mode": {
    "name": "ipython",
    "version": 3
   },
   "file_extension": ".py",
   "mimetype": "text/x-python",
   "name": "python",
   "nbconvert_exporter": "python",
   "pygments_lexer": "ipython3",
   "version": "3.10.9"
  }
 },
 "nbformat": 4,
 "nbformat_minor": 5
}

{
 "cells": [
  {
   "cell_type": "markdown",
   "id": "7d405163",
   "metadata": {},
   "source": [
    "# Approach \n",
    "注意本题和300的区别，300是求最长递增子序列，可以用dp来做，但是本题是求所有递增子序列，用回溯更简单！   \n",
    "\n",
    "注意，本题和78，90一样，也是取子序列，但本题不是取所有子序列，而是取长度大于等于2的所有递增子序列，因此要加一个if去判断！  \n",
    "\n",
    "注意本道题和40，90一样，nums中有重复元素！但是本道题去重不能和40，90一样！因为如果将nums从小到大排序的话，我们就找不到原来的nums中的递增子序列了！！！所以我们采用另一种方式去重：在对每一层遍历之前先定义一个list，list用来存储该层之前抽过的元素，如果某个元素之前抽取过了，那就跳过！这就意味着如果每个集合的第一个元素不相同，那么最终集合一定不同！有人会疑惑，这里和40不一样啊，明明nums没有从小到大排序，为什么仅仅集合的第一个元素不同就能确定整个集合不一样呢？[1,2,5]和[2,1,5]的第一个元素不一样，整个集合不也是相等的吗？这是因为本道题要求的是递增子序列！！！[2,1,5]不满足条件！对于递增集合来说，只要他们的首元素不一样，整个集合都不一样！因此本题其实也不需要像40和90一样从小到大排序！！！\n",
    "\n",
    "\n",
    "本题也可以用DFS来做！\n",
    "\n",
    "\n",
    "# Code"
   ]
  },
  {
   "cell_type": "code",
   "execution_count": null,
   "id": "ae403ebc",
   "metadata": {},
   "outputs": [],
   "source": [
    "class Solution:\n",
    "    def findSubsequences(self, nums: List[int]) -> List[List[int]]:\n",
    "        path = []\n",
    "        result = []\n",
    "        self.backtracking(nums, 0, path, result)\n",
    "        return result\n",
    "\n",
    "    def backtracking(self, nums, startIndex, path, result):\n",
    "        # 本题不是取所有子序列，而是长度大于等于2的所有递增子序列！所以要加个条件判断长度\n",
    "        # 对递增的判断见for loop！我们只需要加比上一个更大的元素即可！\n",
    "        if len(path) >= 2:\n",
    "            result.append(path[:])\n",
    "            # 注意这里不能return！return的话所有结果的长度都只有2！\n",
    "        \n",
    "        # 可删去，原因同78，90\n",
    "        if startIndex == len(nums):\n",
    "            return\n",
    "        \n",
    "        # 存储本层所有用过的元素！注意去除的是本层的重复元素！\n",
    "        # 注意只能写在这里！只能存储本层的元素，递归进入下一层时清零了！\n",
    "        used = []\n",
    "        for i in range(startIndex, len(nums)):\n",
    "            # 该元素不和本层的其他元素相等，且该元素大于上一个元素\n",
    "            if nums[i] not in used and (len(path) == 0 or (len(path) > 0 and nums[i] >= path[-1])):\n",
    "                used.append(nums[i])\n",
    "                path.append(nums[i])\n",
    "                self.backtracking(nums, i + 1, path, result)\n",
    "                path.pop()"
   ]
  }
 ],
 "metadata": {
  "kernelspec": {
   "display_name": "Python 3 (ipykernel)",
   "language": "python",
   "name": "python3"
  },
  "language_info": {
   "codemirror_mode": {
    "name": "ipython",
    "version": 3
   },
   "file_extension": ".py",
   "mimetype": "text/x-python",
   "name": "python",
   "nbconvert_exporter": "python",
   "pygments_lexer": "ipython3",
   "version": "3.10.9"
  }
 },
 "nbformat": 4,
 "nbformat_minor": 5
}

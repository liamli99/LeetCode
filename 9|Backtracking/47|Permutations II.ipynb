{
 "cells": [
  {
   "cell_type": "markdown",
   "id": "7d405163",
   "metadata": {},
   "source": [
    "# Approach\n",
    "- 本题和47的唯一区别就是nums可以有重复，因此在46的基础上，再利用40的方法二去重！\n",
    "\n",
    "- 由于46题已经构建了used数组来防止重复添加同一个元素，同时本题没有startIndex，需要用used数组来判断两个数是否在同一层，因此本题用40的方法二来去掉本层的重复元素！！！\n",
    "\n",
    "# Code"
   ]
  },
  {
   "cell_type": "code",
   "execution_count": null,
   "id": "ae403ebc",
   "metadata": {},
   "outputs": [],
   "source": [
    "# Time: O(n * n!), Space: O(n)\n",
    "from typing import List\n",
    "class Solution:\n",
    "    def permuteUnique(self, nums: List[int]) -> List[List[int]]:\n",
    "        path = []\n",
    "        result = []\n",
    "        nums.sort()\n",
    "        # 这里的used数组有两个用处：1. 防止重复添加同一个元素(46题) 2. 去掉本层的重复元素(40题)\n",
    "        used = [False] * len(nums)\n",
    "    \n",
    "        def backtrack():\n",
    "            if len(path) == len(nums):\n",
    "                result.append(path[:])\n",
    "                return\n",
    "            \n",
    "            for i in range(len(nums)):\n",
    "                # 参考46，防止重复添加同一个元素\n",
    "                if used[i] == True:\n",
    "                    continue\n",
    "                \n",
    "                # 参考40方法二，去掉本层的重复元素\n",
    "                # used[i - 1] == False表示其不在path中，这样才能证明nums[i - 1]和nums[i]在同一层！！！\n",
    "                if i > 0 and nums[i] == nums[i - 1] and used[i - 1] == False:\n",
    "                    continue\n",
    "                \n",
    "                path.append(nums[i])\n",
    "                used[i] = True\n",
    "                backtrack()\n",
    "                path.pop()\n",
    "                used[i] = False\n",
    "        \n",
    "        backtrack()\n",
    "        return result\n"
   ]
  }
 ],
 "metadata": {
  "kernelspec": {
   "display_name": "Python 3 (ipykernel)",
   "language": "python",
   "name": "python3"
  },
  "language_info": {
   "codemirror_mode": {
    "name": "ipython",
    "version": 3
   },
   "file_extension": ".py",
   "mimetype": "text/x-python",
   "name": "python",
   "nbconvert_exporter": "python",
   "pygments_lexer": "ipython3",
   "version": "3.10.9"
  }
 },
 "nbformat": 4,
 "nbformat_minor": 5
}

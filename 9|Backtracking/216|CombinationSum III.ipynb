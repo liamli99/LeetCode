{
 "cells": [
  {
   "cell_type": "markdown",
   "id": "7d405163",
   "metadata": {},
   "source": [
    "# Approach\n",
    "- 基本类同77！   \n",
    "\n",
    "- 剪枝优化：      \n",
    "  - 如果path中元素之和大于n，终止！   \n",
    "  - 类同77，假如此时path里面已经有`len(path)`个元素，我们一共要取k个，因此还需要取`k - len(path)`个元素！由于由于每层i的范围是startIndex到9，因此最多还能取`9 - startIndex + 1`个元素！当`k - len(path) > 9 - startIndex + 1`时，终止递归！ \n",
    "\n",
    "# Code"
   ]
  },
  {
   "cell_type": "code",
   "execution_count": null,
   "id": "c8454406",
   "metadata": {},
   "outputs": [],
   "source": [
    "# Time: O(k * C(9, k)), Space: O(9 + k)\n",
    "from typing import List\n",
    "class Solution:\n",
    "    def combinationSum3(self, k: int, n: int) -> List[List[int]]:\n",
    "        path = []\n",
    "        result = []\n",
    "        startIndex = 1\n",
    "        self.backtracking(k, n, startIndex, path, result)\n",
    "        return result\n",
    "    \n",
    "    def backtracking(self, k, n, startIndex, path, result):\n",
    "        # 剪枝\n",
    "        if sum(path) > n:\n",
    "            return\n",
    "        \n",
    "        # 剪枝\n",
    "        if k - len(path) > 9 - startIndex + 1:\n",
    "            return\n",
    "        \n",
    "        if len(path) == k:\n",
    "            if sum(path) == n:\n",
    "                result.append(path[:])\n",
    "            # 无论和是否为n，当长度为k时，必须终止！\n",
    "            return\n",
    "        \n",
    "        # 题目要求只能从1到9中选取数字！由于每个数字只能用一次而且答案不能重复，还要用startIndex！\n",
    "        for i in range(startIndex, 10):\n",
    "            path.append(i)\n",
    "            self.backtracking(k, n, i + 1, path, result)\n",
    "            path.pop()"
   ]
  },
  {
   "cell_type": "code",
   "execution_count": null,
   "id": "c4130b3d",
   "metadata": {},
   "outputs": [],
   "source": [
    "# 如果不能用sum函数求和，只能定义一个参数去累加！\n",
    "class Solution:\n",
    "    def combinationSum3(self, k: int, n: int) -> List[List[int]]:\n",
    "        path = []\n",
    "        result = []\n",
    "        startIndex = 1\n",
    "        currSum = 0\n",
    "        self.backtracking(k, n, startIndex, currSum, path, result)\n",
    "        return result\n",
    "    \n",
    "    def backtracking(self, k, n, startIndex, currSum, path, result):\n",
    "        if currSum > n:\n",
    "            return\n",
    "        \n",
    "        if k - len(path) > 9 - startIndex + 1:\n",
    "            return\n",
    "        \n",
    "        if len(path) == k:\n",
    "            if currSum == n:\n",
    "                result.append(path[:])\n",
    "            return\n",
    "        \n",
    "        for i in range(startIndex, 10):\n",
    "            path.append(i)\n",
    "            currSum += i\n",
    "            self.backtracking(k, n, i + 1, currSum, path, result)\n",
    "            currSum -= i\n",
    "            path.pop()"
   ]
  }
 ],
 "metadata": {
  "kernelspec": {
   "display_name": "Python 3 (ipykernel)",
   "language": "python",
   "name": "python3"
  },
  "language_info": {
   "codemirror_mode": {
    "name": "ipython",
    "version": 3
   },
   "file_extension": ".py",
   "mimetype": "text/x-python",
   "name": "python",
   "nbconvert_exporter": "python",
   "pygments_lexer": "ipython3",
   "version": "3.10.9"
  }
 },
 "nbformat": 4,
 "nbformat_minor": 5
}

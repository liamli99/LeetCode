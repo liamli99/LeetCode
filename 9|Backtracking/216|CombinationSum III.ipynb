{
 "cells": [
  {
   "cell_type": "markdown",
   "id": "7d405163",
   "metadata": {},
   "source": [
    "# Approach\n",
    "- 基本类同77！   \n",
    "\n",
    "- 剪枝优化： \n",
    "  - 类同77     \n",
    "  - 对于当前层的i，如果此时的和`currSum + i`已经大于n了，由于i递增，直接排除掉当前层剩下的所有选择！  \n",
    "\n",
    "# Code"
   ]
  },
  {
   "cell_type": "code",
   "execution_count": null,
   "id": "c4130b3d",
   "metadata": {},
   "outputs": [],
   "source": [
    "# Time: O(k * C(9, k)), Space: O(k)\n",
    "# 最好不要用sum函数求和，因为时间复杂度高！\n",
    "from typing import List\n",
    "class Solution:\n",
    "    def combinationSum3(self, k: int, n: int) -> List[List[int]]:\n",
    "        path = []\n",
    "        result = []\n",
    "\n",
    "        # currSum用来累和，以取代sum函数！\n",
    "        def backtrack(startIndex, currSum):\n",
    "            if len(path) == k:\n",
    "                if currSum == n:\n",
    "                    result.append(path[:])\n",
    "                # 无论和是否为n，当长度为k时，必须终止！\n",
    "                return\n",
    "            \n",
    "            for i in range(startIndex, 10):\n",
    "                # 剪枝\n",
    "                if k - len(path) > 9 - i + 1:\n",
    "                    break\n",
    "\n",
    "                # 剪枝\n",
    "                if currSum + i > n:\n",
    "                    break\n",
    "                \n",
    "                path.append(i)\n",
    "                currSum += i\n",
    "                backtrack(i + 1, currSum)\n",
    "                currSum -= i\n",
    "                path.pop()\n",
    "        \n",
    "       \n",
    "        backtrack(1, 0)\n",
    "        return result\n",
    "    "
   ]
  }
 ],
 "metadata": {
  "kernelspec": {
   "display_name": "Python 3 (ipykernel)",
   "language": "python",
   "name": "python3"
  },
  "language_info": {
   "codemirror_mode": {
    "name": "ipython",
    "version": 3
   },
   "file_extension": ".py",
   "mimetype": "text/x-python",
   "name": "python",
   "nbconvert_exporter": "python",
   "pygments_lexer": "ipython3",
   "version": "3.10.9"
  }
 },
 "nbformat": 4,
 "nbformat_minor": 5
}

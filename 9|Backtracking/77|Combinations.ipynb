{
 "cells": [
  {
   "cell_type": "markdown",
   "id": "7d405163",
   "metadata": {},
   "source": [
    "# Approach\n",
    "- 将本题抽象成树形结构，深度为k\n",
    "\n",
    "- 由于本题是求组合数，为了避免出现重复的组合数，例如`[1, 2, 3]`和`[2, 1, 3]`，我们可以设置一个变量**startIndex**，当前层元素i从startIndex开始遍历！同时由于每个元素只能取一次，下一层从i+1开始遍历！！！\n",
    "\n",
    "- 当然，本道题也可以剪枝优化，因为不是每一层的i都可以一直取到n，i的取值范围其实是有限制的！以n=4，k=4为例，如果第一次取2，接下来最多也只能再取3和4，一共只有3个元素，少于4个！因此，假如此时path里面已经有`len(path)`个元素，我们一共要取k个，所以还需要取`k - len(path)`个元素！对于当前层的i，最多还能取i，i+1，...，n，一共`n - i + 1`个元素！当`k - len(path) > n - i + 1`时，说明无法取到k个元素，由于i是递增的，直接排除掉当前层剩下的所有选择！  \n",
    "\n",
    "# Note\n",
    "- 如果要找所有的组合数，那就需要设置startIndex！！！\n",
    "\n",
    "- 一般来说，有两个地方可以写剪枝：\n",
    "  1. 写在for loop的开头，以break结尾，这样会直接排除掉本层剩下的所有选择，更加彻底！\n",
    "  2. 写在backtrack函数的开头，以return结尾，这样仅仅排除掉当前的选择，仍然会继续递归剩下的选择！！！\n",
    "\n",
    "# Code  \n"
   ]
  },
  {
   "cell_type": "code",
   "execution_count": null,
   "id": "c8454406",
   "metadata": {},
   "outputs": [],
   "source": [
    "# 没有剪枝\n",
    "# Time: O(k * C(n, k)), Space: O(k)\n",
    "from typing import List\n",
    "class Solution:\n",
    "    def combine(self, n: int, k: int) -> List[List[int]]:\n",
    "        # 存放符合条件的单一结果\n",
    "        path = []\n",
    "        # 存放符合条件的所有结果\n",
    "        result = [] \n",
    "        \n",
    "        # startIndex：记录本层从哪个元素开始遍历，防止重复！\n",
    "        def backtrack(startIndex):\n",
    "            # 终止条件：找到了k个元素！\n",
    "            if len(path) == k:\n",
    "                # 存放结果\n",
    "                # 注意这里千万不能写成`.append(path)`！path is a reference to a list that is being modified throughout the recursion, appending path directly to result will lead to all elements of result pointing to the same list path, so that we should append the shallow copy of path!\n",
    "                result.append(path[:])\n",
    "                # 终止递归！\n",
    "                return\n",
    "            \n",
    "            # 横向遍历\n",
    "            for i in range(startIndex, n + 1): \n",
    "                path.append(i)\n",
    "                # 纵向遍历\n",
    "                backtrack(i + 1)\n",
    "                # 回溯：删除之前加进去的i！\n",
    "                path.pop() \n",
    "        \n",
    "        \n",
    "        backtrack(1)\n",
    "        return result\n"
   ]
  },
  {
   "cell_type": "code",
   "execution_count": null,
   "id": "f7cd2e6e",
   "metadata": {},
   "outputs": [],
   "source": [
    "# 剪枝优化\n",
    "class Solution:\n",
    "    def combine(self, n: int, k: int) -> List[List[int]]:\n",
    "        path = []\n",
    "        result = []\n",
    "\n",
    "        def backtrack(startIndex):\n",
    "            if len(path) == k:\n",
    "                result.append(path[:])\n",
    "                return \n",
    "            \n",
    "            for i in range(startIndex, n + 1):\n",
    "                # 对数量剪枝\n",
    "                if k - len(path) > n - i + 1:\n",
    "                    break\n",
    "                \n",
    "                path.append(i)\n",
    "                backtrack(i + 1)\n",
    "                path.pop()\n",
    "        \n",
    "        backtrack(1)\n",
    "        return result"
   ]
  }
 ],
 "metadata": {
  "kernelspec": {
   "display_name": "Python 3 (ipykernel)",
   "language": "python",
   "name": "python3"
  },
  "language_info": {
   "codemirror_mode": {
    "name": "ipython",
    "version": 3
   },
   "file_extension": ".py",
   "mimetype": "text/x-python",
   "name": "python",
   "nbconvert_exporter": "python",
   "pygments_lexer": "ipython3",
   "version": "3.10.9"
  }
 },
 "nbformat": 4,
 "nbformat_minor": 5
}

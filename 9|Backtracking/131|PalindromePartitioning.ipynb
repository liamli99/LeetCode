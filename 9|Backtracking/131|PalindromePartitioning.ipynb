{
 "cells": [
  {
   "cell_type": "markdown",
   "id": "7d405163",
   "metadata": {},
   "source": [
    "# Approach\n",
    "- 本题是切割问题，但切割问题本质上也是组合问题！ \n",
    "\n",
    "- 例如对于字符串'abcdef'：\n",
    "  - 组合问题：选取一个a之后，在bcdef中再去选取第二个，选取b之后在cdef中再选取第三个.....   \n",
    "  - 切割问题：切割一个a之后，在bcdef中再去切割第二段，切割b之后在cdef中再切割第三段.....        \n",
    "\n",
    "- 综上，在每层中，**当前层切割线i**从startIndex开始遍历！如果`s[startIndex: i+1]`是回文，将其加入path中，递归进入下一层，下一层切割线从i+1开始遍历！！！\n",
    "\n",
    "- 如果当前层切割线的起始点startIndex等于s的长度，说明s已经被全部切割完了，将path添加进result，终止递归！\n",
    "\n",
    "# Code"
   ]
  },
  {
   "cell_type": "code",
   "execution_count": null,
   "id": "c8454406",
   "metadata": {},
   "outputs": [],
   "source": [
    "# Time: O(n * 2^n), Space: O(n)\n",
    "from typing import List\n",
    "class Solution:\n",
    "    def partition(self, s: str) -> List[List[str]]:\n",
    "        path = []\n",
    "        result = []\n",
    "\n",
    "        def backtrack(startIndex):\n",
    "            if startIndex == len(s):\n",
    "                result.append(path[:])\n",
    "                return\n",
    "\n",
    "            for i in range(startIndex, len(s)):\n",
    "                substr = s[startIndex : i + 1]\n",
    "                \n",
    "                # 判断回文\n",
    "                if substr == substr[::-1]:\n",
    "                    path.append(substr)\n",
    "                    backtrack(i + 1)\n",
    "                    path.pop()\n",
    "\n",
    "        backtrack(0)\n",
    "        return result"
   ]
  }
 ],
 "metadata": {
  "kernelspec": {
   "display_name": "Python 3 (ipykernel)",
   "language": "python",
   "name": "python3"
  },
  "language_info": {
   "codemirror_mode": {
    "name": "ipython",
    "version": 3
   },
   "file_extension": ".py",
   "mimetype": "text/x-python",
   "name": "python",
   "nbconvert_exporter": "python",
   "pygments_lexer": "ipython3",
   "version": "3.10.9"
  }
 },
 "nbformat": 4,
 "nbformat_minor": 5
}

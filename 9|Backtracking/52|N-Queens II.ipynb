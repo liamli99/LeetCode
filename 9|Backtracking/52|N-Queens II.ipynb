{
 "cells": [
  {
   "cell_type": "markdown",
   "id": "7d405163",
   "metadata": {},
   "source": [
    "# Approach\n",
    "- 基本类同51，不过此时result不需要记录所有结果，而是记录所有结果的数量！\n",
    "\n",
    "# Code"
   ]
  },
  {
   "cell_type": "code",
   "execution_count": null,
   "id": "c8454406",
   "metadata": {},
   "outputs": [],
   "source": [
    "# Time: O(n^2 * n!), Space: O(n)\n",
    "class Solution:\n",
    "    def totalNQueens(self, n: int) -> int:\n",
    "        path = []\n",
    "        result = 0\n",
    "\n",
    "        def backtrack(row):\n",
    "            # 在之前的题目中，result是一个list，我们可以直接在inner function中对其进行修改(result.append)！\n",
    "            # 而在本题中，result是一个integer，我们无法直接在inner function中对其重新赋值(result += 1)，必须在这里声明result并非局部变量，这样才能对外部的result进行重新赋值！\n",
    "            nonlocal result\n",
    "            \n",
    "            if row == n:\n",
    "                result += 1\n",
    "                return\n",
    "            \n",
    "            for col in range(n):\n",
    "                if isValid(row, col):\n",
    "                    l = ['.'] * n\n",
    "                    l[col] = 'Q'\n",
    "                    path.append(''.join(l))\n",
    "                    backtrack(row + 1)\n",
    "                    path.pop()\n",
    "        \n",
    "        def isValid(row, col):\n",
    "            for i in range(row):\n",
    "                if path[i][col] == 'Q':\n",
    "                    return False\n",
    "\n",
    "            i, j = row - 1, col - 1\n",
    "            while i >= 0 and j >= 0:\n",
    "                if path[i][j] == 'Q':\n",
    "                    return False\n",
    "                i -= 1\n",
    "                j -= 1\n",
    "            \n",
    "            i, j = row - 1, col + 1\n",
    "            while i >= 0 and j < n:\n",
    "                if path[i][j] == 'Q':\n",
    "                    return False\n",
    "                i -= 1\n",
    "                j += 1\n",
    "            \n",
    "            return True\n",
    "\n",
    "        backtrack(0)\n",
    "        return result"
   ]
  }
 ],
 "metadata": {
  "kernelspec": {
   "display_name": "Python 3 (ipykernel)",
   "language": "python",
   "name": "python3"
  },
  "language_info": {
   "codemirror_mode": {
    "name": "ipython",
    "version": 3
   },
   "file_extension": ".py",
   "mimetype": "text/x-python",
   "name": "python",
   "nbconvert_exporter": "python",
   "pygments_lexer": "ipython3",
   "version": "3.10.9"
  }
 },
 "nbformat": 4,
 "nbformat_minor": 5
}

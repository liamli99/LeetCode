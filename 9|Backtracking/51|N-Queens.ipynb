{
 "cells": [
  {
   "cell_type": "markdown",
   "id": "7d405163",
   "metadata": {},
   "source": [
    "# Approach\n",
    "- 本题属于棋盘问题，将N个皇后放在N x N的棋盘上，要求任意两个皇后直接不能互相攻击，因此任意两个皇后不能在同一行、同一列、同一条斜线上！\n",
    "\n",
    "- 定义一个变量row来记录当前行，当前列col可以从0遍历到n-1，如果(row, col)处可以放置皇后，那么将该行的字符串表现形式放入path中，递归进入下一行row+1，重复上述操作！当row等于n时，说明已经遍历完所有行，将path添加进result中，递归终止！\n",
    "\n",
    "- 关键点在于如何判断(col, row)处可以放置皇后：\n",
    "  1. 上方没有皇后\n",
    "  2. 左上方没有皇后\n",
    "  3. 右上方没有皇后\n",
    "  由于每次都递归进入下一行，因此不需要检查左边！\n",
    "\n",
    "# Code"
   ]
  },
  {
   "cell_type": "code",
   "execution_count": null,
   "id": "c8454406",
   "metadata": {},
   "outputs": [],
   "source": [
    "# Time: O(n^2 * n!), Space: O(n)\n",
    "from typing import List\n",
    "class Solution:\n",
    "    def solveNQueens(self, n: int) -> List[List[str]]:\n",
    "        path = []\n",
    "        result = []\n",
    "    \n",
    "        def backtrack(row):\n",
    "            if row == n:\n",
    "                result.append(path[:])\n",
    "                return\n",
    "\n",
    "            for col in range(n):\n",
    "                # 检查(row, col)处的格子是否能放置皇后\n",
    "                if isValid(row, col):\n",
    "                    l = ['.'] * n\n",
    "                    l[col] = 'Q'\n",
    "                    path.append(''.join(l))\n",
    "                    backtrack(row + 1)\n",
    "                    path.pop()\n",
    "        \n",
    "        # 检查(row, col)处的格子是否能放置皇后！\n",
    "        def isValid(row, col):\n",
    "            # 检查上方，不能同列！\n",
    "            for i in range(row):\n",
    "                if path[i][col] == 'Q':\n",
    "                    return False\n",
    "            \n",
    "            # 检查左上方，不能同斜线！\n",
    "            i, j = row - 1, col - 1\n",
    "            while i >= 0 and j >= 0:\n",
    "                if path[i][j] == 'Q':\n",
    "                    return False  \n",
    "                i -= 1\n",
    "                j -= 1\n",
    "            \n",
    "            # 检查右上方，不能同斜线！\n",
    "            i, j = row - 1, col + 1\n",
    "            while i >= 0 and j < n:\n",
    "                if path[i][j] == 'Q':\n",
    "                    return False  \n",
    "                i -= 1\n",
    "                j += 1\n",
    "            \n",
    "            # 不需要检查左边来确保不能同行，因为backtrack递归进入下一行，已经确保了不会同行！！！\n",
    "            \n",
    "            return True\n",
    "\n",
    "        backtrack(0)\n",
    "        return result"
   ]
  }
 ],
 "metadata": {
  "kernelspec": {
   "display_name": "Python 3 (ipykernel)",
   "language": "python",
   "name": "python3"
  },
  "language_info": {
   "codemirror_mode": {
    "name": "ipython",
    "version": 3
   },
   "file_extension": ".py",
   "mimetype": "text/x-python",
   "name": "python",
   "nbconvert_exporter": "python",
   "pygments_lexer": "ipython3",
   "version": "3.10.9"
  }
 },
 "nbformat": 4,
 "nbformat_minor": 5
}

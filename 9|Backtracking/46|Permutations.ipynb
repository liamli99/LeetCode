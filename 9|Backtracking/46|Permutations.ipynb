{
 "cells": [
  {
   "cell_type": "markdown",
   "id": "7d405163",
   "metadata": {},
   "source": [
    "# Approach\n",
    "本题是排列问题，和之前的子集问题，组合问题，切割问题不一样！之前的三类题最终结果中的集合都是无序的，即[1,2,5]和[2,1,5]是相同的，重复了！为了避免出现重复集合，我们要定义一个startIndex，下一次递归从i+1开始！但是对于排列问题，集合是有序的！即[1,2,5]和[2,1,5]不同！我们不需要定义一个startIndex去防止path添加之前的元素！每层的for loop遍历都从下标0开始！但是这样又会有一个问题，例如[1,2,3,4]这个集合，假如从下标0开始，先把1加进path，下一个递归还是从0开始，还要再把1加进去，这样就重复添加元素了！组合问题是加下一个元素所以不会出现这样的问题！因此我们要确保添加进去的元素之前没有被添加进path！！如果有就要跳过！\n",
    "\n",
    "注意这里的去重和40，90，491不一样！这三题是原序列中有重复元素，要去掉每层的重复元素！但是本题由于没有startIndex，for loop每次都从0开始，我们要去除重复添加的元素！\n",
    "\n",
    "\n",
    "\n",
    "# Note\n",
    "回溯算法模板框架：\n",
    "```\n",
    "void backtracking(参数) {\n",
    "    if (终止条件) {\n",
    "        存放结果;\n",
    "        return;\n",
    "    }\n",
    "\n",
    "    for (选择：本层集合中元素（树中节点孩子的数量就是集合的大小）) {\n",
    "        处理节点;\n",
    "        backtracking(路径，选择列表); // 递归\n",
    "        回溯，撤销处理结果\n",
    "    }\n",
    "}\n",
    "```\n",
    "\n",
    "# Code"
   ]
  },
  {
   "cell_type": "code",
   "execution_count": null,
   "id": "ae403ebc",
   "metadata": {},
   "outputs": [],
   "source": [
    "class Solution:\n",
    "    def permute(self, nums: List[int]) -> List[List[int]]:\n",
    "        path = []\n",
    "        result = []\n",
    "        # used[i]表示nums[i]有没有被添加进path，False表示没有被添加进path，True表示之前被添加进path！\n",
    "        used = [False] * len(nums)\n",
    "        self.backtracking(nums, used, path, result)\n",
    "        return result\n",
    "    \n",
    "    def backtracking(self, nums, used, path, result):\n",
    "        if len(path) == len(nums):\n",
    "            result.append(path[:])\n",
    "            return\n",
    "        \n",
    "        # 下标从0开始！\n",
    "        for i in range(len(nums)):\n",
    "            if used[i] == False:\n",
    "                used[i] = True\n",
    "                path.append(nums[i])\n",
    "                self.backtracking(nums, used, path, result)\n",
    "                used[i] = False\n",
    "                path.pop()"
   ]
  }
 ],
 "metadata": {
  "kernelspec": {
   "display_name": "Python 3 (ipykernel)",
   "language": "python",
   "name": "python3"
  },
  "language_info": {
   "codemirror_mode": {
    "name": "ipython",
    "version": 3
   },
   "file_extension": ".py",
   "mimetype": "text/x-python",
   "name": "python",
   "nbconvert_exporter": "python",
   "pygments_lexer": "ipython3",
   "version": "3.10.9"
  }
 },
 "nbformat": 4,
 "nbformat_minor": 5
}

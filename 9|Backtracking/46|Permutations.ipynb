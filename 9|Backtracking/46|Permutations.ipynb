{
 "cells": [
  {
   "cell_type": "markdown",
   "id": "7d405163",
   "metadata": {},
   "source": [
    "# Approach\n",
    "- 本题是排列问题，集合是有序的！即`[1, 2, 5]`和`[2, 1, 5]`不同！因此我们不需要定义一个startIndex去防止path添加之前的元素！每层的for loop遍历都从下标0开始！\n",
    "\n",
    "- 但是这样又会有一个新的问题，会在path中重复添加同一个元素！例如`[1, 2, 3, 4]`，假如从下标0开始，先把1加进path，下一个递归还是从0开始，还要再把1加进去，这样就重复添加元素了！而对于组合问题，我们在下次递归是添加下一个元素，因此不会出现这样的问题！\n",
    "\n",
    "- 解决方案：构建一个used数组，`used[i]`表示`nums[i]`是否在path当中，在当前层，只有`nums[i] == False`时，才可以将`nums[i]`添加进path！\n",
    "\n",
    "# Code"
   ]
  },
  {
   "cell_type": "code",
   "execution_count": null,
   "id": "ae403ebc",
   "metadata": {},
   "outputs": [],
   "source": [
    "# Time: O(n * n!), Space: O(n)\n",
    "from typing import List\n",
    "class Solution:\n",
    "    def permute(self, nums: List[int]) -> List[List[int]]:\n",
    "        path = []\n",
    "        result = []\n",
    "        used = [False] * len(nums)\n",
    "    \n",
    "        def backtrack():\n",
    "            if len(path) == len(nums):\n",
    "                result.append(path[:])\n",
    "                return\n",
    "            \n",
    "            # 每层都是从0开始搜索\n",
    "            for i in range(len(nums)):\n",
    "                if used[i] == True:\n",
    "                    continue\n",
    "                \n",
    "                path.append(nums[i])\n",
    "                used[i] = True\n",
    "                backtrack()\n",
    "                path.pop()\n",
    "                used[i] = False\n",
    "        \n",
    "        backtrack()\n",
    "        return result"
   ]
  }
 ],
 "metadata": {
  "kernelspec": {
   "display_name": "Python 3 (ipykernel)",
   "language": "python",
   "name": "python3"
  },
  "language_info": {
   "codemirror_mode": {
    "name": "ipython",
    "version": 3
   },
   "file_extension": ".py",
   "mimetype": "text/x-python",
   "name": "python",
   "nbconvert_exporter": "python",
   "pygments_lexer": "ipython3",
   "version": "3.10.9"
  }
 },
 "nbformat": 4,
 "nbformat_minor": 5
}

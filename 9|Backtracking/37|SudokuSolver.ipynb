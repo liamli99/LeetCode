{
 "cells": [
  {
   "cell_type": "markdown",
   "id": "7d405163",
   "metadata": {},
   "source": [
    "# Approach\n",
    "- 本题属于棋盘问题，但比N皇后复杂多了！N皇后是一行只能放一个皇后，对于当前行，我们遍历列找到某个符合规定的位置放置皇后，该行就结束了，递归去下一行，重复操作！但是本题每行有多个位置可以放数字，并且有多种数字可以选择，复杂多了！\n",
    "\n",
    "- 本题并不是常规的回溯问题，不需要找到所有符合要求的答案，**只需要找到一个符合要求的答案，因此backtrack函数的定义是：填写board中的所有空格，即解数独，如果可以做到，就返回True；反之，返回False**！！！我们可以用两层for loop去遍历board的每个位置，对于空格，尝试1-9中的每个数字，如果在该位置填写该数字符合要求，那就填写，递归进入下一个位置！如果递归的backtrack返回的是True，说明在该位置填写该数字可以解数独并且已经全部填写完了，返回True；反之，就回溯！如果1-9中的每个数字都不符合要求，说明之前有数字填错了，无法解数独，返回False！如果遍历并填写完了board中的所有空格，说明已经解完数独了，返回True！！！\n",
    "\n",
    "# Code"
   ]
  },
  {
   "cell_type": "code",
   "execution_count": null,
   "id": "c8454406",
   "metadata": {},
   "outputs": [],
   "source": [
    "# Time: O(), Space: O()\n",
    "from typing import List\n",
    "class Solution:\n",
    "    def solveSudoku(self, board: List[List[str]]) -> None:\n",
    "        \"\"\"\n",
    "        Do not return anything, modify board in-place instead.\n",
    "        \"\"\"\n",
    "        self.backtracking(board)\n",
    "\n",
    "    def backtracking(self, board):\n",
    "        for i in range(len(board)):\n",
    "            for j in range(len(board[0])):  \n",
    "                \n",
    "                if board[i][j] == '.': \n",
    "                    for k in range(1, 10):\n",
    "                        if self.is_valid(i, j, k, board):\n",
    "                            board[i][j] = str(k)\n",
    "                            # 填写下一个数字！\n",
    "                            if self.backtracking(board): \n",
    "                                return True\n",
    "                            # 回溯\n",
    "                            board[i][j] = '.'\n",
    "                    \n",
    "                    # 如果对一个可以填数字的格子试了0-9所有数字还没返回True，那就是False！\n",
    "                    return False\n",
    "        \n",
    "        # 遍历了board中的所有格子，说明没有出问题，那就是True\n",
    "        return True \n",
    "\n",
    "    def is_valid(self, row, col, val, board):\n",
    "        # 判断同一行是否冲突\n",
    "        for i in range(9):\n",
    "            if board[row][i] == str(val):\n",
    "                return False\n",
    "        # 判断同一列是否冲突\n",
    "        for j in range(9):\n",
    "            if board[j][col] == str(val):\n",
    "                return False\n",
    "        # 判断同一九宫格是否有冲突\n",
    "        start_row = (row // 3) * 3\n",
    "        start_col = (col // 3) * 3\n",
    "        for i in range(start_row, start_row + 3):\n",
    "            for j in range(start_col, start_col + 3):\n",
    "                if board[i][j] == str(val):\n",
    "                    return False\n",
    "        return True"
   ]
  }
 ],
 "metadata": {
  "kernelspec": {
   "display_name": "Python 3 (ipykernel)",
   "language": "python",
   "name": "python3"
  },
  "language_info": {
   "codemirror_mode": {
    "name": "ipython",
    "version": 3
   },
   "file_extension": ".py",
   "mimetype": "text/x-python",
   "name": "python",
   "nbconvert_exporter": "python",
   "pygments_lexer": "ipython3",
   "version": "3.10.9"
  }
 },
 "nbformat": 4,
 "nbformat_minor": 5
}

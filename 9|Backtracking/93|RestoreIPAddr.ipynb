{
 "cells": [
  {
   "attachments": {},
   "cell_type": "markdown",
   "id": "7d405163",
   "metadata": {},
   "source": [
    "# Approach\n",
    "- 本题基本类似131，都是切割问题！     \n",
    "\n",
    "- 但有两点不同：   \n",
    "  1. 加入path的判断条件：\n",
    "    - 数字在0-255之间\n",
    "    - 如果数字不是0，那么开头不能是0\n",
    "  \n",
    "  2. 终止递归的条件：类似131和216，当path长度为4时，最后一定要终止递归！但是如果s也被切割完了，那就讲path加入result中！\n",
    "\n",
    "# Code"
   ]
  },
  {
   "cell_type": "code",
   "execution_count": null,
   "id": "ae403ebc",
   "metadata": {},
   "outputs": [],
   "source": [
    "# Time: O(), Space: O()\n",
    "from typing import List\n",
    "class Solution:\n",
    "    def restoreIpAddresses(self, s: str) -> List[str]:\n",
    "        path = []\n",
    "        result = []\n",
    "\n",
    "        def backtrack(startIndex):\n",
    "            if len(path) == 4:\n",
    "                # 如果切割完了，那就把path变成题目要求的形式再装进result！\n",
    "                if startIndex == len(s):\n",
    "                    result.append(\".\".join(path))\n",
    "                \n",
    "                # 无论是否切割完，当长度为4时，必须终止！\n",
    "                return\n",
    "\n",
    "            for i in range(startIndex, len(s)):\n",
    "                subnum = s[startIndex : i + 1]\n",
    "                \n",
    "                if int(subnum) <= 255 and (subnum == '0' or subnum[0] != '0'):\n",
    "                    path.append(subnum)\n",
    "                    backtrack(i + 1)\n",
    "                    path.pop()\n",
    "        \n",
    "        backtrack(0)\n",
    "        return result\n",
    "    "
   ]
  }
 ],
 "metadata": {
  "kernelspec": {
   "display_name": "Python 3 (ipykernel)",
   "language": "python",
   "name": "python3"
  },
  "language_info": {
   "codemirror_mode": {
    "name": "ipython",
    "version": 3
   },
   "file_extension": ".py",
   "mimetype": "text/x-python",
   "name": "python",
   "nbconvert_exporter": "python",
   "pygments_lexer": "ipython3",
   "version": "3.10.9"
  }
 },
 "nbformat": 4,
 "nbformat_minor": 5
}

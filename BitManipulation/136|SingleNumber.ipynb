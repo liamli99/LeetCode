{
 "cells": [
  {
   "cell_type": "markdown",
   "id": "009257eb",
   "metadata": {},
   "source": [
    "# Approach\n",
    "本题要求linear time complexity(O(n))和constant extra space(O(1))！   \n",
    "\n",
    "如果不要求linear time complexity的话，可以先把nums从小到大排序，这样的话相同的两个数字就会排在一起！我们只需要两个指针p1和p2分别指向nums[0]和nums[1]，比较这两个数字，如果相等，那么p1和p2同时向右移动两个数字，准备比较下一对数字；如果不相等，说明p1指向的数字是只出现一次的数字，返回这个数字！重复上述操作！如果不要求constant extra space的话，我们可以建一个set，遍历nums中的数字，如果该数字不在set中，就将其放入set，如果该数字在set中，就把set中的该数字删除！最终set中剩下的数字就是只出现一次的数字！   \n",
    "\n",
    "我们可以将nums中的所有数字进行XOR运算，这样最终结果就是只出现一次的数字！因为出现两次的相同数字两两进行XOR运算，所得结果为0！因此本质上就是0与出现一次的数字进行XOR运算，所得结果就是出现一次的数字本身！    \n",
    "\n",
    "# Note\n",
    "^(XOR)：当两个对应的二进制数字相异时，结果为1！即0^0=0, 0^1=1, 1^0=1, 1^1=0！   \n",
    "\n",
    "注意位运算要将数字转化成二进制形式再进行计算！   \n",
    "\n",
    "两个相同数字进行XOR运算所得结果为0！0与某个数字进行XOR运算所得结果就是该数字本身！   \n",
    "\n",
    "# Code"
   ]
  },
  {
   "cell_type": "code",
   "execution_count": null,
   "id": "642b425f",
   "metadata": {},
   "outputs": [],
   "source": [
    "# bit manipulation\n",
    "class Solution:\n",
    "    def singleNumber(self, nums: List[int]) -> int:\n",
    "        result = 0\n",
    "        for num in nums:\n",
    "            result ^= num\n",
    "        return result"
   ]
  },
  {
   "cell_type": "code",
   "execution_count": null,
   "id": "81162842",
   "metadata": {},
   "outputs": [],
   "source": [
    "# sorting，不满足时间复杂度\n",
    "class Solution:\n",
    "    def singleNumber(self, nums: List[int]) -> int:\n",
    "        nums.sort()\n",
    "        p1, p2 = 0, 1\n",
    "        while p2 < len(nums):\n",
    "            if nums[p1] == nums[p2]:\n",
    "                p1 += 2\n",
    "                p2 += 2\n",
    "            else:\n",
    "                return nums[p1]\n",
    "        return nums[p1]"
   ]
  },
  {
   "cell_type": "code",
   "execution_count": null,
   "id": "7c678e98",
   "metadata": {},
   "outputs": [],
   "source": [
    "# set，不满足空间复杂度\n",
    "class Solution:\n",
    "    def singleNumber(self, nums: List[int]) -> int:\n",
    "        result = set()\n",
    "        for num in nums:\n",
    "            if num not in result:\n",
    "                result.add(num)\n",
    "            else:\n",
    "                result.remove(num)\n",
    "        \n",
    "        return list(result)[0]"
   ]
  }
 ],
 "metadata": {
  "kernelspec": {
   "display_name": "Python 3 (ipykernel)",
   "language": "python",
   "name": "python3"
  },
  "language_info": {
   "codemirror_mode": {
    "name": "ipython",
    "version": 3
   },
   "file_extension": ".py",
   "mimetype": "text/x-python",
   "name": "python",
   "nbconvert_exporter": "python",
   "pygments_lexer": "ipython3",
   "version": "3.10.9"
  }
 },
 "nbformat": 4,
 "nbformat_minor": 5
}

{
 "cells": [
  {
   "cell_type": "markdown",
   "id": "009257eb",
   "metadata": {},
   "source": [
    "# Approach\n",
    "方法一：   \n",
    "当n大于0时，先判断n的个位是不是1，然后将n的每一位都向右移动一位，重复上述操作直到n为0！向右移动一位可以用右移动符>>，判断个位是不是1的方法有两种：1. n%2，2. n&1    \n",
    "\n",
    "方法二：    \n",
    "当n大于0时，n中至少有一个1，result+=1，再将n最右边的1变为0，重复上述操作直到n为0！将n最右边的1变为0可以利用公式n=n&(n-1)！！！！！   \n",
    "\n",
    "# Note\n",
    "'>>'：把'>>'左边的数字的各二进位全部向右移若干位，'>>'右边的数字指定了移动的位数！低位丢弃，高位补0。   \n",
    "'<<'：把'<<'左边的数字的各二进位全部向左移若干位，'<<'右边的数字指定了移动的位数！高位丢弃，低位补0。   \n",
    "\n",
    "n&(n-1)所得结果就是n最右边的1变为0，其余位数保持不变！   \n",
    "\n",
    "\n",
    "# Code"
   ]
  },
  {
   "cell_type": "code",
   "execution_count": null,
   "id": "642b425f",
   "metadata": {},
   "outputs": [],
   "source": [
    "# 方法一，无论n中有几个1，while loop要循环的次数取决于最左侧的1的位置！\n",
    "class Solution:\n",
    "    def hammingWeight(self, n: int) -> int:\n",
    "        result = 0\n",
    "        while n > 0:\n",
    "            # result += n % 2\n",
    "            result += n & 1\n",
    "            n = n >> 1\n",
    "        return result"
   ]
  },
  {
   "cell_type": "code",
   "execution_count": null,
   "id": "26f3ceb3",
   "metadata": {},
   "outputs": [],
   "source": [
    "# 方法二，速度更快！因为此时while loop是n中有几个1就循环几次！\n",
    "class Solution:\n",
    "    def hammingWeight(self, n: int) -> int:\n",
    "        result = 0\n",
    "        while n > 0:\n",
    "            result += 1\n",
    "            n = n & (n - 1)\n",
    "            \n",
    "        return result"
   ]
  }
 ],
 "metadata": {
  "kernelspec": {
   "display_name": "Python 3 (ipykernel)",
   "language": "python",
   "name": "python3"
  },
  "language_info": {
   "codemirror_mode": {
    "name": "ipython",
    "version": 3
   },
   "file_extension": ".py",
   "mimetype": "text/x-python",
   "name": "python",
   "nbconvert_exporter": "python",
   "pygments_lexer": "ipython3",
   "version": "3.10.9"
  }
 },
 "nbformat": 4,
 "nbformat_minor": 5
}

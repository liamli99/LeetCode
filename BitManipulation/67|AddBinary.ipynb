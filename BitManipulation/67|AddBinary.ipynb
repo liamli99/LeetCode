{
 "cells": [
  {
   "cell_type": "markdown",
   "id": "009257eb",
   "metadata": {},
   "source": [
    "# Approach\n",
    "基本类同第2题，只不过第2题是两个linked list，本题是两个string！   \n",
    "\n",
    "从后往前将a和b对应位置的数字之和与carry相加(如果该位置不存在数字那就是0)，将总和拆解成carry和digit，carry表示进位，要加到下次循环的对应位置的数字之和中！digit表示这次相加得到的位数，由于是从后往前计算，要把digit放到result开头！   \n",
    "\n",
    "# Note\n",
    "\n",
    "# Code"
   ]
  },
  {
   "cell_type": "code",
   "execution_count": null,
   "id": "642b425f",
   "metadata": {},
   "outputs": [],
   "source": [
    "class Solution:\n",
    "    def addBinary(self, a: str, b: str) -> str:\n",
    "        result = \"\"\n",
    "        i1, i2 = len(a) - 1, len(b) - 1\n",
    "        carry = 0\n",
    "        \n",
    "        while i1 >= 0 or i2 >= 0 or carry > 0:\n",
    "            digit1 = int(a[i1]) if i1 >= 0 else 0\n",
    "            digit2 = int(b[i2]) if i2 >= 0 else 0\n",
    "            sum_ = digit1 + digit2 + carry\n",
    "            \n",
    "            carry = sum_ // 2\n",
    "            digit = sum_ % 2\n",
    "\n",
    "            result = str(digit) + result\n",
    "        \n",
    "            i1 -= 1\n",
    "            i2 -= 1\n",
    "        \n",
    "        return result"
   ]
  }
 ],
 "metadata": {
  "kernelspec": {
   "display_name": "Python 3 (ipykernel)",
   "language": "python",
   "name": "python3"
  },
  "language_info": {
   "codemirror_mode": {
    "name": "ipython",
    "version": 3
   },
   "file_extension": ".py",
   "mimetype": "text/x-python",
   "name": "python",
   "nbconvert_exporter": "python",
   "pygments_lexer": "ipython3",
   "version": "3.10.9"
  }
 },
 "nbformat": 4,
 "nbformat_minor": 5
}

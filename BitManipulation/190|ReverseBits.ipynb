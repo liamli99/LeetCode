{
 "cells": [
  {
   "cell_type": "markdown",
   "id": "009257eb",
   "metadata": {},
   "source": [
    "# Approach\n",
    "方法一：\n",
    "从右往左依次遍历n的每一位数，记为bit，将第一个bit放在result中从右往左第32位，第二个bit放在第31位，以此类推，result为最终结果！    \n",
    "\n",
    "方法二：\n",
    "从右往左依次遍历n的每一位数，记为bit，将result中每个数往左移动一位并将第一个bit放在result中从右往左第1位，将result中每个数往左移动一位并将第二个bit也放在第1位，以此类推，result为最终结果！    \n",
    "\n",
    "\n",
    "# Note\n",
    "i=0, 1, ..., 31分别表示从右往左第1, 2, ..., 32位，那么:   \n",
    "计算n的从右往左第(i+1)位数的方法有两种：1.(n>>i) % 2，2.(n>>i) & 1     \n",
    "将bit放在result中从右往左第(32-i)位的方法也有两种：1.result + bit<<(31-i) 2.result | bit<<(31-i)    \n",
    "\n",
    "# Code"
   ]
  },
  {
   "cell_type": "code",
   "execution_count": null,
   "id": "642b425f",
   "metadata": {},
   "outputs": [],
   "source": [
    "# 方法一\n",
    "class Solution:\n",
    "    def reverseBits(self, n: int) -> int:\n",
    "        result = 0\n",
    "        \n",
    "        for i in range(32):\n",
    "            # bit = (n >> i) % 2\n",
    "            bit = (n >> i) & 1\n",
    "            \n",
    "            # result = result + (bit << (31 - i))\n",
    "            result = result | (bit << (31 - i))\n",
    "        \n",
    "        return result"
   ]
  },
  {
   "cell_type": "code",
   "execution_count": null,
   "id": "e9b1235b",
   "metadata": {},
   "outputs": [],
   "source": [
    "# 方法二\n",
    "class Solution:\n",
    "    def reverseBits(self, n: int) -> int:\n",
    "        result = 0\n",
    "        \n",
    "        for i in range(32):\n",
    "            # bit = (n >> i) % 2\n",
    "            bit = (n >> i) & 1\n",
    "            \n",
    "            # result = (result << 1) + bit\n",
    "            result = (result << 1) | bit\n",
    "        \n",
    "        return result"
   ]
  }
 ],
 "metadata": {
  "kernelspec": {
   "display_name": "Python 3 (ipykernel)",
   "language": "python",
   "name": "python3"
  },
  "language_info": {
   "codemirror_mode": {
    "name": "ipython",
    "version": 3
   },
   "file_extension": ".py",
   "mimetype": "text/x-python",
   "name": "python",
   "nbconvert_exporter": "python",
   "pygments_lexer": "ipython3",
   "version": "3.10.9"
  }
 },
 "nbformat": 4,
 "nbformat_minor": 5
}

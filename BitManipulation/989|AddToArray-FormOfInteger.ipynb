{
 "cells": [
  {
   "cell_type": "markdown",
   "id": "009257eb",
   "metadata": {},
   "source": [
    "# Approach\n",
    "本题是67的变形！如果仿照67，将k变成list，再定义一个新的list(result)作为最终结果，会有两个问题：1.计算出的digit要放在result开头，由于67的result是string，该操作是O(1)，但本题的result是list，该操作是O(n)！2.定义一个新的list会导致space complexity为O(n)，我们完全可以在num内部直接修改，即将num变成num+k！67不能在内部直接修改的原因是a和b都是string，string是immutable！因此67只能定义一个新的string！   \n",
    "\n",
    "同时，我们也没必要将k变成list，string和list可以通过指针的方式从后往前遍历，integer可以通过%和//的方式从后往前遍历！！！   \n",
    "\n",
    "要注意本题是修改num，因此如果i>=0，说明num中还存在num[i]，将其替换成digit！如果i<0，说明num中不存在num[i]，要把digit放到num开头！   \n",
    "\n",
    "当然本题更直观的做法是先把num变成integer，然后将其和k相加，把最终结果再变成list返回！但是leetcode限定了转换次数，无法通过！   \n",
    "\n",
    "# Note\n",
    "\n",
    "# Code"
   ]
  },
  {
   "cell_type": "code",
   "execution_count": null,
   "id": "642b425f",
   "metadata": {},
   "outputs": [],
   "source": [
    "# 方法一\n",
    "class Solution:\n",
    "    def addToArrayForm(self, num: List[int], k: int) -> List[int]:\n",
    "        i = len(num) - 1\n",
    "        carry = 0\n",
    "        \n",
    "        while i >= 0 or k > 0 or carry > 0:\n",
    "            digit1 = num[i] if i >= 0 else 0\n",
    "            # digit2 = k % 10 if k > 0 else 0\n",
    "            digit2 = k % 10 \n",
    "            sum_ = digit1 + digit2 + carry\n",
    "            \n",
    "            carry = sum_ // 10\n",
    "            digit = sum_ % 10\n",
    "            \n",
    "            if i >= 0:\n",
    "                num[i] = digit\n",
    "            else:\n",
    "                num.insert(0, digit)\n",
    "            \n",
    "            i -= 1\n",
    "            k //= 10\n",
    "        \n",
    "        return num"
   ]
  },
  {
   "cell_type": "code",
   "execution_count": null,
   "id": "26f3ceb3",
   "metadata": {},
   "outputs": [],
   "source": [
    "# 方法二，integer和string的转化次数太多，无法通过！就当练习integer和list of integers的互相转化了！\n",
    "class Solution:\n",
    "    def addToArrayForm(self, num: List[int], k: int) -> List[int]:\n",
    "        intNum = int(''.join(map(str, num)))\n",
    "        sum_ = intNum + k\n",
    "        return [int(digit) for digit in str(sum_)]"
   ]
  }
 ],
 "metadata": {
  "kernelspec": {
   "display_name": "Python 3 (ipykernel)",
   "language": "python",
   "name": "python3"
  },
  "language_info": {
   "codemirror_mode": {
    "name": "ipython",
    "version": 3
   },
   "file_extension": ".py",
   "mimetype": "text/x-python",
   "name": "python",
   "nbconvert_exporter": "python",
   "pygments_lexer": "ipython3",
   "version": "3.10.9"
  }
 },
 "nbformat": 4,
 "nbformat_minor": 5
}

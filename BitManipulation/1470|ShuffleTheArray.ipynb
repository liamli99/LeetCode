{
 "cells": [
  {
   "cell_type": "markdown",
   "id": "009257eb",
   "metadata": {},
   "source": [
    "# Approach\n",
    "方法一：Array\n",
    "构造一个result数组，将x(nums[i])和y(nums[i+n])依次添加进result中！      \n",
    "\n",
    "方法二：Bit Manipulation    \n",
    "该方法不需要额外的空间！我们选择在前n个x元素中存储对应的y元素！由于constraints中说明nums[i]<=1000，因此最多只需要10个二进制位就可以表示nums中的元素！先正序遍历前n个nums，让x元素中的每一位向左移动10位，然后把对应的y元素放进来！注意这里放进来可以参考190，有'+'或'｜'两种方式！然后倒序遍历前n个nums，将每一对x和y的组合拆解成x和y，将它们放到nums中的对应位置！注意要先拆解y再拆解x！   \n",
    "\n",
    "# Note\n",
    "拆解y：此时的nums[i]是由x向左移动10位再加上y得到的，因此x的从右往左的10位全是y！我们只希望得到nums[i]的从右往左的10位数字，因此将其与10个1(2^10-1)进行AND操作，所得结果就是y！   \n",
    "\n",
    "拆解x：拆解完y之后，nums[i]只剩下向左移动10位的x了，只需要将nums[i]向右移动10位就可以得到x！   \n",
    "\n",
    "# Code"
   ]
  },
  {
   "cell_type": "code",
   "execution_count": null,
   "id": "642b425f",
   "metadata": {},
   "outputs": [],
   "source": [
    "# 方法一; Time: O(n), Space: O(n)\n",
    "class Solution:\n",
    "    def shuffle(self, nums: List[int], n: int) -> List[int]:\n",
    "        result = []\n",
    "        for i in range(n):\n",
    "            result.append(nums[i])\n",
    "            result.append(nums[i + n])\n",
    "        return result"
   ]
  },
  {
   "cell_type": "code",
   "execution_count": null,
   "id": "e9b1235b",
   "metadata": {},
   "outputs": [],
   "source": [
    "# 方法二; Time: O(n), Space: O(1)\n",
    "class Solution:\n",
    "    def shuffle(self, nums: List[int], n: int) -> List[int]:\n",
    "        for i in range(n):\n",
    "            # nums[i] = (nums[i] << 10) + nums[i + n]\n",
    "            nums[i] = (nums[i] << 10) | nums[i + n]\n",
    "        \n",
    "        for i in range(n - 1, -1, -1):\n",
    "            y = nums[i] & (2 ** 10 - 1)\n",
    "            x = nums[i] >> 10\n",
    "            nums[2 * i + 1] = y\n",
    "            nums[2 * i] = x\n",
    "        \n",
    "        return nums"
   ]
  }
 ],
 "metadata": {
  "kernelspec": {
   "display_name": "Python 3 (ipykernel)",
   "language": "python",
   "name": "python3"
  },
  "language_info": {
   "codemirror_mode": {
    "name": "ipython",
    "version": 3
   },
   "file_extension": ".py",
   "mimetype": "text/x-python",
   "name": "python",
   "nbconvert_exporter": "python",
   "pygments_lexer": "ipython3",
   "version": "3.10.9"
  }
 },
 "nbformat": 4,
 "nbformat_minor": 5
}

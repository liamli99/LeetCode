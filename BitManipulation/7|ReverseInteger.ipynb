{
 "cells": [
  {
   "cell_type": "markdown",
   "id": "009257eb",
   "metadata": {},
   "source": [
    "# Approach\n",
    "本题是190的进阶版，190的n是一个32位unsigned integer，但是本题的x是signed integer！\n",
    "\n",
    "# Note\n",
    "  \n",
    "\n",
    "# Code"
   ]
  },
  {
   "cell_type": "code",
   "execution_count": null,
   "id": "642b425f",
   "metadata": {},
   "outputs": [],
   "source": [
    "# 方法一\n",
    "class Solution:\n",
    "    def reverseBits(self, n: int) -> int:\n",
    "        result = 0\n",
    "        \n",
    "        for i in range(32):\n",
    "            # bit = (n >> i) % 2\n",
    "            bit = (n >> i) & 1\n",
    "            \n",
    "            # result = result + (bit << (31 - i))\n",
    "            result = result | (bit << (31 - i))\n",
    "        \n",
    "        return result"
   ]
  },
  {
   "cell_type": "code",
   "execution_count": null,
   "id": "e9b1235b",
   "metadata": {},
   "outputs": [],
   "source": [
    "# 方法二\n",
    "class Solution:\n",
    "    def reverseBits(self, n: int) -> int:\n",
    "        result = 0\n",
    "        \n",
    "        for i in range(32):\n",
    "            # bit = (n >> i) % 2\n",
    "            bit = (n >> i) & 1\n",
    "            \n",
    "            # result = (result << 1) + bit\n",
    "            result = (result << 1) | bit\n",
    "        \n",
    "        return result"
   ]
  }
 ],
 "metadata": {
  "kernelspec": {
   "display_name": "Python 3 (ipykernel)",
   "language": "python",
   "name": "python3"
  },
  "language_info": {
   "codemirror_mode": {
    "name": "ipython",
    "version": 3
   },
   "file_extension": ".py",
   "mimetype": "text/x-python",
   "name": "python",
   "nbconvert_exporter": "python",
   "pygments_lexer": "ipython3",
   "version": "3.10.9"
  }
 },
 "nbformat": 4,
 "nbformat_minor": 5
}

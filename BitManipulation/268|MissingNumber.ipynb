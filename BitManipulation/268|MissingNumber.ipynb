{
 "cells": [
  {
   "cell_type": "markdown",
   "id": "009257eb",
   "metadata": {},
   "source": [
    "# Approach\n",
    "本题要求linear time complexity(O(n))和constant extra space(O(1))！   \n",
    "\n",
    "假设nums的长度为n，那么nums中存储了0到n这n+1个数中的n个数，本题要求找到在[0, n]区间中且不在nums中的那个数！   \n",
    "\n",
    "方法一：Math   \n",
    "利用等差数列求和公式算出0到n这n+1个数字的和，在遍历nums的过程中不断累加从而计算nums中的数字和，将0到n的数字和减去nums中的数字和，差就是不在nums中的数字！   \n",
    "\n",
    "方法二：Bit Manipulation   \n",
    "利用136的知识，将nums中的所有数字与0到n这n+1个数字进行XOR运算，最终结果就是不在nums中的数字！因为nums中的数字都可以在0到n中找到相同的数字，XOR的结果必定是0！因此本质上就是0与不在nums中的数字进行XOR运算，所得结果就是不在nums中的数字！   \n",
    "\n",
    "# Note\n",
    " \n",
    "\n",
    "# Code"
   ]
  },
  {
   "cell_type": "code",
   "execution_count": null,
   "id": "81162842",
   "metadata": {},
   "outputs": [],
   "source": [
    "# Math\n",
    "class Solution:\n",
    "    def missingNumber(self, nums: List[int]) -> int:\n",
    "        sum1 = (0 + len(nums)) * (len(nums) + 1) // 2\n",
    "        sum2 = 0\n",
    "        for num in nums:\n",
    "            sum2 += num\n",
    "        return sum1 - sum2"
   ]
  },
  {
   "cell_type": "code",
   "execution_count": null,
   "id": "642b425f",
   "metadata": {},
   "outputs": [],
   "source": [
    "# bit manipulation\n",
    "class Solution:\n",
    "    def missingNumber(self, nums: List[int]) -> int:\n",
    "        result = 0\n",
    "        for i in range(len(nums)):\n",
    "            result ^= nums[i] ^ i\n",
    "        result ^= len(nums)\n",
    "        return result"
   ]
  }
 ],
 "metadata": {
  "kernelspec": {
   "display_name": "Python 3 (ipykernel)",
   "language": "python",
   "name": "python3"
  },
  "language_info": {
   "codemirror_mode": {
    "name": "ipython",
    "version": 3
   },
   "file_extension": ".py",
   "mimetype": "text/x-python",
   "name": "python",
   "nbconvert_exporter": "python",
   "pygments_lexer": "ipython3",
   "version": "3.10.9"
  }
 },
 "nbformat": 4,
 "nbformat_minor": 5
}

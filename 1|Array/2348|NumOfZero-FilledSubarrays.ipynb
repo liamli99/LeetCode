{
 "cells": [
  {
   "cell_type": "markdown",
   "id": "7d405163",
   "metadata": {},
   "source": [
    "# Approach\n",
    "本题其实是要找nums中连续0的片段！假设某个连续0的片段的长度为n，那么该片段中\"number of subarrays filled with 0\"就是1+...+n！   \n",
    "\n",
    "因此我们可以定义两个变量current和total，current表示当前连续0的片段的长度，total表示\"number of subarrays filled with 0\"！遍历nums中的数字，假如某个数字num是0，那么当前连续0的片段的长度加1，\"number of subarrays filled with 0\"加当前连续0的片段的长度！这样的好处是不需要等找到完整的连续0的片段后再用1+...+n来计算\"number of subarrays filled with 0\"，我们在找连续0的片段的过程中就可以带着计算！如果num不是0，那么之前的连续0就中断了！因此current=0！   \n",
    "\n",
    "# Note\n",
    "\n",
    "\n",
    "# Code"
   ]
  },
  {
   "cell_type": "code",
   "execution_count": null,
   "id": "c8454406",
   "metadata": {},
   "outputs": [],
   "source": [
    "class Solution:\n",
    "    def zeroFilledSubarray(self, nums: List[int]) -> int:\n",
    "        current, total = 0, 0\n",
    "\n",
    "        for num in nums:\n",
    "            if num == 0:\n",
    "                current += 1\n",
    "                total += current\n",
    "            else:\n",
    "                current = 0\n",
    "        \n",
    "        return total"
   ]
  }
 ],
 "metadata": {
  "kernelspec": {
   "display_name": "Python 3 (ipykernel)",
   "language": "python",
   "name": "python3"
  },
  "language_info": {
   "codemirror_mode": {
    "name": "ipython",
    "version": 3
   },
   "file_extension": ".py",
   "mimetype": "text/x-python",
   "name": "python",
   "nbconvert_exporter": "python",
   "pygments_lexer": "ipython3",
   "version": "3.10.9"
  }
 },
 "nbformat": 4,
 "nbformat_minor": 5
}

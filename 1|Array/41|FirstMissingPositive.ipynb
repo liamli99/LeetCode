{
 "cells": [
  {
   "cell_type": "markdown",
   "id": "7d405163",
   "metadata": {},
   "source": [
    "# Approach\n",
    "本题要求time complexity为O(n)，space complexity为O(1)，因此我们不能排序，而且只能在nums上进行操作(modify in-place)！   \n",
    "\n",
    "\n",
    "# Note\n",
    "smallest missing positive最大可以等于len(nums)+1\n",
    "\n",
    "# Code"
   ]
  },
  {
   "cell_type": "code",
   "execution_count": null,
   "id": "c8454406",
   "metadata": {},
   "outputs": [],
   "source": [
    "# 如果可以用extra space，那本题太简单了！如下所示，只需要一个set！不仅可以对nums去重，还可以增加查找元素是否存在的效率！\n",
    "class Solution:\n",
    "    def firstMissingPositive(self, nums: List[int]) -> int:\n",
    "        nums = set(nums)\n",
    "        num = 1\n",
    "        while num in nums:\n",
    "            num += 1\n",
    "        return num"
   ]
  }
 ],
 "metadata": {
  "kernelspec": {
   "display_name": "Python 3 (ipykernel)",
   "language": "python",
   "name": "python3"
  },
  "language_info": {
   "codemirror_mode": {
    "name": "ipython",
    "version": 3
   },
   "file_extension": ".py",
   "mimetype": "text/x-python",
   "name": "python",
   "nbconvert_exporter": "python",
   "pygments_lexer": "ipython3",
   "version": "3.10.9"
  }
 },
 "nbformat": 4,
 "nbformat_minor": 5
}

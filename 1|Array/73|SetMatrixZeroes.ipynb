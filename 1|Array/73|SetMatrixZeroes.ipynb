{
 "cells": [
  {
   "cell_type": "markdown",
   "id": "7d405163",
   "metadata": {},
   "source": [
    "# Approach\n",
    "方法一：O(mn) extra space   \n",
    "建一个与matrix一样大的新矩阵，遍历matrix中的每一个数字，如果找到0，那么就将新矩阵对应位置所在行的所有数字和所在列的所有数字都变成0！   \n",
    "\n",
    "方法二：O(m+n) extra space   \n",
    "建两个list，记为row和col，长度分别等于matrix的行数m和列数n！row[i]表示matrix的第i行是否有0，col[j]表示matrix的第j列是否有0！我们先遍历matrix中的每一个数字，如果找到0，假设这个0在matrix中的坐标为(i,j)，那么我们就将row[i]=True，col[j]=True！然后再次遍历matrix中的每个数字，假设某个数字在matrix中的坐标为(i,j)，那么我们就检查row[i]和col[j]，如果至少有一个为True，那么就要将该数字变成0！综上，第一次遍历用来记录需要把所有数字都变成0的行和列，第二次遍历根据第一次遍历的结果来更新matrix！   \n",
    "\n",
    "方法三：O(1) no extra space   \n",
    "将matrix的第一列看作方法二中的row，将第一行看作方法二中的col！matrix[i][0](第一列)表示matrix的第i行是否有0，matrix[0][j](第一行)表示matrix的第j列是否有0！然后把以matrix[1][1]为左上顶点的子矩阵按照方法二先更新一遍！注意第一次遍历时如果找到0，不要把matrix[i][0]和matrix[0][j]设为True！因为此时matrix[i][0]和matrix[0][j]都是matrix中的数字，根据题意应该变成0！更新完子矩阵之后就需要更新第一行和第一列了，但是由于更新子矩阵的时候第一行和第一列会有部分数字变成0，此时再看第一行和第一列时就无法知道0是本来就有的还是后面才变的！因此需要在更新子矩阵之前用两个bool变量分别记录第一行和第一列中是否有0！如果有0，那么在更新完子矩阵之后再把整个第一行或第一列全部变成0！   \n",
    "\n",
    "# Note\n",
    " \n",
    "\n",
    "# Code"
   ]
  },
  {
   "cell_type": "code",
   "execution_count": null,
   "id": "682977f0",
   "metadata": {},
   "outputs": [],
   "source": [
    "# Space: O(m+n)\n",
    "class Solution:\n",
    "    def setZeroes(self, matrix: List[List[int]]) -> None:\n",
    "        \"\"\"\n",
    "        Do not return anything, modify matrix in-place instead.\n",
    "        \"\"\"\n",
    "        m, n = len(matrix), len(matrix[0])\n",
    "        row, col = [False] * m, [False] * n\n",
    "\n",
    "        for i in range(m):\n",
    "            for j in range(n):\n",
    "                if matrix[i][j] == 0:\n",
    "                    row[i] = True\n",
    "                    col[j] = True\n",
    "        \n",
    "        for i in range(m):\n",
    "            for j in range(n):\n",
    "                if row[i] == True or col[j] == True:\n",
    "                    matrix[i][j] = 0"
   ]
  },
  {
   "cell_type": "code",
   "execution_count": null,
   "id": "4999a5c9",
   "metadata": {},
   "outputs": [],
   "source": [
    "# Space: O(1)\n",
    "class Solution:\n",
    "    def setZeroes(self, matrix: List[List[int]]) -> None:\n",
    "        \"\"\"\n",
    "        Do not return anything, modify matrix in-place instead.\n",
    "        \"\"\"\n",
    "        m, n = len(matrix), len(matrix[0])\n",
    "        firstColZero, firstRowZero = False, False\n",
    "        \n",
    "        # 提前记录第一行和第一列中是否有0\n",
    "        for i in range(m):\n",
    "            if matrix[i][0] == 0:\n",
    "                firstColZero = True\n",
    "        for j in range(n):\n",
    "            if matrix[0][j] == 0:\n",
    "                firstRowZero = True\n",
    "        \n",
    "        # 根据方法二更新以matrix[1][1]为左上顶点的子矩阵\n",
    "        # 此时找到0不要设为True，而是直接设为0！\n",
    "        for i in range(1, m):\n",
    "            for j in range(1, n):\n",
    "                if matrix[i][j] == 0:\n",
    "                    matrix[i][0] = 0\n",
    "                    matrix[0][j] = 0\n",
    "        for i in range(1, m):\n",
    "            for j in range(1, n):\n",
    "                if matrix[i][0] == 0 or matrix[0][j] == 0:\n",
    "                    matrix[i][j] = 0\n",
    "        \n",
    "        # 最后再更新第一行和第一列\n",
    "        if firstColZero == True:\n",
    "            for i in range(m):\n",
    "                matrix[i][0] = 0\n",
    "        if firstRowZero == True:\n",
    "            for j in range(n):\n",
    "                matrix[0][j] = 0"
   ]
  }
 ],
 "metadata": {
  "kernelspec": {
   "display_name": "Python 3 (ipykernel)",
   "language": "python",
   "name": "python3"
  },
  "language_info": {
   "codemirror_mode": {
    "name": "ipython",
    "version": 3
   },
   "file_extension": ".py",
   "mimetype": "text/x-python",
   "name": "python",
   "nbconvert_exporter": "python",
   "pygments_lexer": "ipython3",
   "version": "3.10.9"
  }
 },
 "nbformat": 4,
 "nbformat_minor": 5
}

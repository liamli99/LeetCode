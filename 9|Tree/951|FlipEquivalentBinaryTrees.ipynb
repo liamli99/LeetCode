{
 "cells": [
  {
   "cell_type": "markdown",
   "id": "009257eb",
   "metadata": {},
   "source": [
    "# Approach\n",
    "本题在代码的写法上类似100和101！    \n",
    "\n",
    "当root1和root2都不是None时，如果：1.root1的值与root2的值相同 且 (2.经过一些flip操作后，root1的左孩子与root2的左孩子相同，并且root1的右孩子与root2的右孩子相同 或 3.经过一些flip操作后，root1的左孩子与root2的右孩子相同，并且root1的右孩子与root2的左孩子相同)，那么经过一些flip操作后，root1与root2就相同！即root1与root2是flip equivalent！   \n",
    "\n",
    "本质上本题和101，100，572，110一样都需要判断三种情况！\n",
    "\n",
    "# Note\n",
    "\n",
    "\n",
    "# Code"
   ]
  },
  {
   "cell_type": "code",
   "execution_count": null,
   "id": "642b425f",
   "metadata": {},
   "outputs": [],
   "source": [
    "# recursion\n",
    "class Solution:\n",
    "    def flipEquiv(self, root1: Optional[TreeNode], root2: Optional[TreeNode]) -> bool:\n",
    "        # 由于需要使用root1.val/left/right和root2.val/left/right，必须先把None的情况讨论掉！\n",
    "        if root1 == None and root2 == None:\n",
    "            return True\n",
    "        elif root1 == None and root2 != None:\n",
    "            return False\n",
    "        elif root1 != None and root2 == None:\n",
    "            return False\n",
    "        elif root1.val != root2.val:\n",
    "            return False\n",
    "        else:\n",
    "            return (self.flipEquiv(root1.left, root2.left) and self.flipEquiv(root1.right, root2.right)) \\\n",
    "            or (self.flipEquiv(root1.left, root2.right) and self.flipEquiv(root1.right, root2.left))"
   ]
  }
 ],
 "metadata": {
  "kernelspec": {
   "display_name": "Python 3 (ipykernel)",
   "language": "python",
   "name": "python3"
  },
  "language_info": {
   "codemirror_mode": {
    "name": "ipython",
    "version": 3
   },
   "file_extension": ".py",
   "mimetype": "text/x-python",
   "name": "python",
   "nbconvert_exporter": "python",
   "pygments_lexer": "ipython3",
   "version": "3.10.9"
  }
 },
 "nbformat": 4,
 "nbformat_minor": 5
}

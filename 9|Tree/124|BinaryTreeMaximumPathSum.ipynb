{
 "cells": [
  {
   "cell_type": "markdown",
   "id": "009257eb",
   "metadata": {},
   "source": [
    "# Approach\n",
    "基本类同543！都是关于任意两个节点之间的路径的问题！   \n",
    "\n",
    "本题其实就是要遍历每个节点，找到以每个节点的左孩子为起始节点的路径的最大和与以每个节点的右孩子为起始节点的路径的最大和之和的最大值！因此我们需要定义一个函数maxSum来计算以某个节点为起始节点的路径的最大和！具体代码完全类同543！   \n",
    "\n",
    "但是要注意的是，当某个路径的最大和为负数时，我们要把这个最大和变成0，这表示我们不要这个路径！因为一个数加上负数肯定会变得更小，因此我们不想要最大和为负数的路径！\n",
    "\n",
    "# Note\n",
    "\n",
    "# Code"
   ]
  },
  {
   "cell_type": "code",
   "execution_count": null,
   "id": "2cda6f4e",
   "metadata": {},
   "outputs": [],
   "source": [
    "# recursion，优化！\n",
    "class Solution:\n",
    "    result = float('-inf')\n",
    "    def maxPathSum(self, root: Optional[TreeNode]) -> int:\n",
    "        self.maxSum(root)\n",
    "        return self.result\n",
    "    \n",
    "    def maxSum(self, node):\n",
    "        if node == None:\n",
    "            return 0\n",
    "        leftSum = self.maxSum(node.left)\n",
    "        rightSum = self.maxSum(node.right)\n",
    "        leftSum = max(leftSum, 0)\n",
    "        rightSum = max(rightSum, 0)\n",
    "        \n",
    "        self.result = max(self.result, node.val + leftSum + rightSum)\n",
    "        \n",
    "        sum_ = node.val + max(leftSum, rightSum)\n",
    "        return sum_"
   ]
  }
 ],
 "metadata": {
  "kernelspec": {
   "display_name": "Python 3 (ipykernel)",
   "language": "python",
   "name": "python3"
  },
  "language_info": {
   "codemirror_mode": {
    "name": "ipython",
    "version": 3
   },
   "file_extension": ".py",
   "mimetype": "text/x-python",
   "name": "python",
   "nbconvert_exporter": "python",
   "pygments_lexer": "ipython3",
   "version": "3.10.9"
  }
 },
 "nbformat": 4,
 "nbformat_minor": 5
}

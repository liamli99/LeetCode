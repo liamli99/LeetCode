{
 "cells": [
  {
   "cell_type": "markdown",
   "id": "009257eb",
   "metadata": {},
   "source": [
    "# Approach\n",
    "- 本题是N叉树，和二叉树的唯一区别就是孩子节点！二叉树的节点node仅有node.left和node.right两个孩子，而N叉树可以有多个孩子，用node.children来表示！由于node.children是一个list，我们可以通过`for child in node.children`的方式来遍历node的孩子！注意child不为None，不需要去检查！！！ \n",
    "\n",
    "# Code"
   ]
  },
  {
   "cell_type": "code",
   "execution_count": null,
   "id": "02164f14",
   "metadata": {},
   "outputs": [],
   "source": [
    "\"\"\"\n",
    "# Definition for a Node.\n",
    "class Node:\n",
    "    def __init__(self, val: Optional[int] = None, children: Optional[List['Node']] = None):\n",
    "        self.val = val\n",
    "        self.children = children\n",
    "\"\"\"\n",
    "\n",
    "class Solution:\n",
    "    def levelOrder(self, root: 'Node') -> List[List[int]]:\n",
    "        if root == None:\n",
    "            return []\n",
    "        \n",
    "        queue = collections.deque([root])\n",
    "        result = []\n",
    "\n",
    "        while len(queue) != 0:\n",
    "            level = []\n",
    "            levelSize = len(queue)\n",
    "\n",
    "            for _ in range(levelSize):\n",
    "                node = queue.popleft()\n",
    "                level.append(node.val)\n",
    "\n",
    "                # node.children是list of nodes！\n",
    "                for child in node.children:\n",
    "                    queue.append(child)\n",
    "            \n",
    "            result.append(level)\n",
    "        \n",
    "        return result"
   ]
  }
 ],
 "metadata": {
  "kernelspec": {
   "display_name": "Python 3 (ipykernel)",
   "language": "python",
   "name": "python3"
  },
  "language_info": {
   "codemirror_mode": {
    "name": "ipython",
    "version": 3
   },
   "file_extension": ".py",
   "mimetype": "text/x-python",
   "name": "python",
   "nbconvert_exporter": "python",
   "pygments_lexer": "ipython3",
   "version": "3.10.14"
  }
 },
 "nbformat": 4,
 "nbformat_minor": 5
}

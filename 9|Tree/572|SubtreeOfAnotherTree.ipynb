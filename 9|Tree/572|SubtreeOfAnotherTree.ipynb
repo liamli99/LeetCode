{
 "cells": [
  {
   "cell_type": "markdown",
   "id": "009257eb",
   "metadata": {},
   "source": [
    "# Approach\n",
    "利用100来求解！仔细观察代码，会发现isSubtree和isSameTree几乎相同！   \n",
    "\n",
    "当root(和subRoot都)不是None时，如果：1.root和subRoot是same tree 或 2.subRoot是root左孩子的subtree 或 3.subRoot是root右孩子的subtree，那么subRoot就是root的subtree！  \n",
    "\n",
    "本质上本题和101，100一样都需要判断三种情况！   \n",
    "\n",
    "# Note\n",
    "\n",
    "\n",
    "# Code"
   ]
  },
  {
   "cell_type": "code",
   "execution_count": null,
   "id": "642b425f",
   "metadata": {},
   "outputs": [],
   "source": [
    "# recursion\n",
    "class Solution:\n",
    "    def isSubtree(self, root: Optional[TreeNode], subRoot: Optional[TreeNode]) -> bool:\n",
    "        # 由于需要使用root.left/right，必须先把root等于None的情况讨论掉！\n",
    "        # 其实不需要讨论subRoot为None的情况，因为没有用到subRoot.val/left/right，但为了和isSameTree保持一致，还是讨论了！\n",
    "        if root == None and subRoot == None:\n",
    "            return True\n",
    "        elif root == None and subRoot != None:\n",
    "            return False\n",
    "        elif root != None and subRoot == None:\n",
    "            return True\n",
    "        else:\n",
    "            return self.isSameTree(root, subRoot) or self.isSubtree(root.left, subRoot) or self.isSubtree(root.right, subRoot)\n",
    "    \n",
    "    def isSameTree(self, p: Optional[TreeNode], q: Optional[TreeNode]) -> bool:\n",
    "        # 由于需要使用p.val/left/right和q.val/left/right，必须先把None的情况讨论掉！\n",
    "        if p == None and q == None:\n",
    "            return True\n",
    "        elif p == None and q != None:\n",
    "            return False\n",
    "        elif p != None and q == None:\n",
    "            return False\n",
    "        else: \n",
    "            return p.val == q.val and self.isSameTree(p.left, q.left) and self.isSameTree(p.right, q.right)"
   ]
  }
 ],
 "metadata": {
  "kernelspec": {
   "display_name": "Python 3 (ipykernel)",
   "language": "python",
   "name": "python3"
  },
  "language_info": {
   "codemirror_mode": {
    "name": "ipython",
    "version": 3
   },
   "file_extension": ".py",
   "mimetype": "text/x-python",
   "name": "python",
   "nbconvert_exporter": "python",
   "pygments_lexer": "ipython3",
   "version": "3.10.9"
  }
 },
 "nbformat": 4,
 "nbformat_minor": 5
}

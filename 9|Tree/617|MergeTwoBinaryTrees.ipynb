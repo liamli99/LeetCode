{
 "cells": [
  {
   "cell_type": "markdown",
   "id": "009257eb",
   "metadata": {},
   "source": [
    "# Approach\n",
    "本题本质上和100，101一样，都是同时遍历两个树！！！    \n",
    "\n",
    "在iteration中，100和101是把两个二叉树相同位置的node的两个孩子(一共四个孩子)按照某种顺序存进store，这些孩子可能有None，因此store中可能有None！在遍历过程中不断取出两个元素(node或None)进行比较！本题的iteration要不断改变第一个二叉树(root1)，使得其等于最终合并完的树！如果也像100和101这么操作，假如取出来的两个元素中属于root1的是None，我们要把这个位置换成属于root2的元素，但是无法做不到，因为不知道其父节点，也不知道这个位置是左孩子还是右孩子！这就有点像404，不能遍历到某个node再对其进行判断和操作，而要在遍历到某个node时对其孩子进行操作和判断！  \n",
    "\n",
    "因此只有两个二叉树的相同位置的node的左孩子都存在或右孩子都存在时，才能将一对左孩子或一对右孩子添加进store，不能单独添加或添加None！这样store中必须都是成对的node，没有None！在遍历过程中不断取出两个node，这两个node就是两个二叉树的相同位置的node，直接更新属于root1的node1的值！同时判断属于root1的node1的左右孩子是否是None，如果是None，那么node1的左孩子就要变成node2的左孩子，node1的右孩子就要变成node2的右孩子！   \n",
    "\n",
    "将roo1和root2两个二叉树合并成一个二叉树并将其更新在root1上有3种情况：在root1和root2的相同位置处，1.root1和root2都有node，那么node1.val+=node2.val 2.root1没有node，那么无论root2有没有node，都可以将root2处的node或None移到root1处！3.root1有node，root2没有node，不需要任何操作！   \n",
    "\n",
    "上述情况1对应了“两个二叉树的相同位置的node的左孩子都存在或右孩子都存在时，才能将一对左孩子或一对右孩子添加进store”“在遍历过程中不断取出两个node，这两个node就是两个二叉树的相同位置的node，直接更新属于root1的node1的值”！       \n",
    "上述情况2对应了“判断属于root1的node1的左右孩子是否是None，如果是None，那么node1的左孩子就要变成node2的左孩子，node1的右孩子就要变成node2的右孩子”！       \n",
    "\n",
    "# Note\n",
    "\n",
    "\n",
    "# Code"
   ]
  },
  {
   "cell_type": "code",
   "execution_count": null,
   "id": "69b4b5a4",
   "metadata": {},
   "outputs": [],
   "source": [
    "# recursion\n",
    "class Solution:\n",
    "    def mergeTrees(self, root1: Optional[TreeNode], root2: Optional[TreeNode]) -> Optional[TreeNode]:\n",
    "        if root1 == None:\n",
    "            return root2\n",
    "        if root2 == None:\n",
    "            return root1\n",
    "        \n",
    "        root = TreeNode(root1.val + root2.val)\n",
    "        root.left = self.mergeTrees(root1.left, root2.left)\n",
    "        root.right = self.mergeTrees(root1.right, root2.right)\n",
    "\n",
    "        return root"
   ]
  },
  {
   "cell_type": "code",
   "execution_count": null,
   "id": "64e239ec",
   "metadata": {},
   "outputs": [],
   "source": [
    "# iteration\n",
    "class Solution:\n",
    "    def mergeTrees(self, root1: Optional[TreeNode], root2: Optional[TreeNode]) -> Optional[TreeNode]:\n",
    "        # 和100，101不同，此时store里面必须都是node，不能是None！因此要提前讨论掉None的情况！\n",
    "        if root1 == None:\n",
    "            return root2\n",
    "        if root2 == None:\n",
    "            return root1\n",
    "        \n",
    "        # 这里是stack，queue，list都行！注意和100，101不同，此时store里面必须都是node，不能是None！\n",
    "        store = [root1, root2]\n",
    "\n",
    "        while len(store) != 0:\n",
    "            node2 = store.pop()\n",
    "            node1 = store.pop()\n",
    "            \n",
    "            # 只有相同位置的node的左孩子都存在或右孩子都存在时，才能把这一对左孩子或右孩子一起添加进时进store！不能只添加一个或添加None！\n",
    "            # 因此store中只有成对的node，没有None！\n",
    "            if node1.left != None and node2.left != None:\n",
    "                store.append(node1.left)\n",
    "                store.append(node2.left)\n",
    "            if node1.right != None and node2.right != None:\n",
    "                store.append(node1.right)\n",
    "                store.append(node2.right)\n",
    "            \n",
    "            # 情况1，node1和node2是root1和roo2的相同位置的node！更新node1.val，将root1改造成root1与root2合并之后的树！\n",
    "            node1.val += node2.val\n",
    "            # 情况2，如果node1没有左孩子，那么node1的左边就是node2的左边！\n",
    "            if node1.left == None:\n",
    "                node1.left = node2.left\n",
    "            # 情况2，如果node1没有右孩子，那么node1的右边就是node2的右边！    \n",
    "            if node1.right == None:\n",
    "                node1.right = node2.right\n",
    "            \n",
    "            # 情况3，node1.left/right != None and node2.left/right == None，不需要任何操作！\n",
    "            \n",
    "        return root1"
   ]
  }
 ],
 "metadata": {
  "kernelspec": {
   "display_name": "Python 3 (ipykernel)",
   "language": "python",
   "name": "python3"
  },
  "language_info": {
   "codemirror_mode": {
    "name": "ipython",
    "version": 3
   },
   "file_extension": ".py",
   "mimetype": "text/x-python",
   "name": "python",
   "nbconvert_exporter": "python",
   "pygments_lexer": "ipython3",
   "version": "3.10.9"
  }
 },
 "nbformat": 4,
 "nbformat_minor": 5
}

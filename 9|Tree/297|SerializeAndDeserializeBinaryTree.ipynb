{
 "cells": [
  {
   "cell_type": "markdown",
   "id": "009257eb",
   "metadata": {},
   "source": [
    "# Approach\n",
    "层序遍历的应用！要一直判断当前node的数量是否等于当前node的下标！   \n",
    "\n",
    "# Code"
   ]
  },
  {
   "cell_type": "code",
   "execution_count": null,
   "id": "fc887841",
   "metadata": {},
   "outputs": [],
   "source": [
    "# recursion, preorder\n"
   ]
  },
  {
   "cell_type": "code",
   "execution_count": null,
   "id": "32bb1c84",
   "metadata": {},
   "outputs": [],
   "source": [
    "# iteration, level-order\n"
   ]
  }
 ],
 "metadata": {
  "kernelspec": {
   "display_name": "Python 3 (ipykernel)",
   "language": "python",
   "name": "python3"
  },
  "language_info": {
   "codemirror_mode": {
    "name": "ipython",
    "version": 3
   },
   "file_extension": ".py",
   "mimetype": "text/x-python",
   "name": "python",
   "nbconvert_exporter": "python",
   "pygments_lexer": "ipython3",
   "version": "3.10.9"
  }
 },
 "nbformat": 4,
 "nbformat_minor": 5
}

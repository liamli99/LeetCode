{
 "cells": [
  {
   "cell_type": "markdown",
   "id": "009257eb",
   "metadata": {},
   "source": [
    "# Approach   \n",
    "\n",
    "# Note\n",
    "二叉搜索树(Binary Search Tree)：对于root来说，1.其左子树要么是None，要么左子树的所有节点的值都小于root的值 2.其右子树要么是None，要么右子树的所有节点的值都大于root的值 3.其左右子树也是二叉搜索树！注意空的树也是二叉搜索树！   \n",
    "\n",
    "由于二叉搜索树具有有序性，因此其递归遍历和迭代遍历和普通二叉树不一样！   \n",
    "\n",
    "\n",
    "# Code"
   ]
  },
  {
   "cell_type": "code",
   "execution_count": null,
   "id": "7d59c94f",
   "metadata": {},
   "outputs": [],
   "source": [
    "# recursion\n",
    "class Solution:\n",
    "    def searchBST(self, root: Optional[TreeNode], val: int) -> Optional[TreeNode]:\n",
    "        if root == None:\n",
    "            return None\n",
    "        \n",
    "        if root.val == val:\n",
    "            return root\n",
    "        elif root.val > val:\n",
    "            return self.searchBST(root.left, val)\n",
    "        elif root.val < val:\n",
    "            return self.searchBST(root.right, val)"
   ]
  },
  {
   "cell_type": "code",
   "execution_count": null,
   "id": "2cda6f4e",
   "metadata": {},
   "outputs": [],
   "source": [
    "# iteration\n",
    "class Solution:\n",
    "    def searchBST(self, root: Optional[TreeNode], val: int) -> Optional[TreeNode]:\n",
    "        while root != None:\n",
    "            if root.val == val:\n",
    "                return root\n",
    "            elif root.val > val:\n",
    "                root = root.left\n",
    "            elif root.val < val:\n",
    "                root = root.right\n",
    "        \n",
    "        return None"
   ]
  }
 ],
 "metadata": {
  "kernelspec": {
   "display_name": "Python 3 (ipykernel)",
   "language": "python",
   "name": "python3"
  },
  "language_info": {
   "codemirror_mode": {
    "name": "ipython",
    "version": 3
   },
   "file_extension": ".py",
   "mimetype": "text/x-python",
   "name": "python",
   "nbconvert_exporter": "python",
   "pygments_lexer": "ipython3",
   "version": "3.10.9"
  }
 },
 "nbformat": 4,
 "nbformat_minor": 5
}

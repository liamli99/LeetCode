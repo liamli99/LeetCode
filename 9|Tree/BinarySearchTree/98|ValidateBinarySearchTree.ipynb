{
 "cells": [
  {
   "cell_type": "markdown",
   "id": "009257eb",
   "metadata": {},
   "source": [
    "# Approach   \n",
    "方法一：利用本身的性质   \n",
    "\n",
    "方法二：利用中序遍历   \n",
    "对二叉搜索树进行中序遍历(左中右)，所得结果必然是一个递增的序列！因此我们只要确保中序遍历所得到的序列的每个元素都比前一个元素大，那么这个二叉树就是二叉搜索树！！！在94中我们定义了一个指针curr指向当前node，现在还需要一个pre指针指向当前node的前一个node！   \n",
    "\n",
    "# Note\n",
    "二叉搜索树(Binary Search Tree)：对于root来说，1.其左子树要么是None，要么左子树的所有节点的值都小于root的值 2.其右子树要么是None，要么右子树的所有节点的值都大于root的值 3.其左右子树也是二叉搜索树！注意空的树也是二叉搜索树！   \n",
    "\n",
    "**对二叉搜索树进行中序遍历(左中右)，所得结果必然是一个递增的序列！！！**\n",
    "\n",
    "\n",
    "# Code"
   ]
  },
  {
   "cell_type": "code",
   "execution_count": null,
   "id": "7d59c94f",
   "metadata": {},
   "outputs": [],
   "source": [
    "# 方法一\n",
    "# recursion\n",
    "class Solution:\n",
    "    def isValidBST(self, root: Optional[TreeNode]) -> bool:\n",
    "        return self.isValid(root, float('-inf'), float('inf'))\n",
    "    \n",
    "    def isValid(self, node, left, right):\n",
    "        if node == None:\n",
    "            return True\n",
    "        \n",
    "        if not (left < node.val < right):\n",
    "            return False\n",
    "\n",
    "        return self.isValid(node.left, left, node.val) and self.isValid(node.right, node.val, right)"
   ]
  },
  {
   "cell_type": "code",
   "execution_count": null,
   "id": "2cda6f4e",
   "metadata": {},
   "outputs": [],
   "source": [
    "# 方法二，中序遍历\n",
    "# recursion\n",
    "class Solution:\n",
    "    pre = None\n",
    "    def isValidBST(self, root: Optional[TreeNode]) -> bool:\n",
    "        if root == None:\n",
    "            return True\n",
    "        \n",
    "        # 左\n",
    "        isLeftValid = self.isValidBST(root.left)\n",
    "        \n",
    "        # 中\n",
    "        if self.pre != None and root.val <= self.pre.val:\n",
    "            return False\n",
    "        \n",
    "        self.pre = root\n",
    "        \n",
    "        # 右\n",
    "        isRightValid = self.isValidBST(root.right)\n",
    "        \n",
    "        return isLeftValid and isRightValid"
   ]
  },
  {
   "cell_type": "code",
   "execution_count": null,
   "id": "dd9e882e",
   "metadata": {},
   "outputs": [],
   "source": [
    "# 方法二，中序遍历\n",
    "# iteration\n",
    "class Solution:\n",
    "    def isValidBST(self, root: Optional[TreeNode]) -> bool:\n",
    "        if root == None:\n",
    "            return True\n",
    "        \n",
    "        stack = []  \n",
    "        curr = root\n",
    "        pre = None\n",
    "        \n",
    "        while curr != None or len(stack) != 0:\n",
    "            if curr != None:     \n",
    "                stack.append(curr)\n",
    "                curr = curr.left\n",
    "            else:\n",
    "                curr = stack.pop()\n",
    "                \n",
    "                # 中\n",
    "                if pre != None and curr.val <= pre.val:\n",
    "                    return False\n",
    "                pre = curr\n",
    "                \n",
    "                curr = curr.right\n",
    "        \n",
    "        return True"
   ]
  }
 ],
 "metadata": {
  "kernelspec": {
   "display_name": "Python 3 (ipykernel)",
   "language": "python",
   "name": "python3"
  },
  "language_info": {
   "codemirror_mode": {
    "name": "ipython",
    "version": 3
   },
   "file_extension": ".py",
   "mimetype": "text/x-python",
   "name": "python",
   "nbconvert_exporter": "python",
   "pygments_lexer": "ipython3",
   "version": "3.10.9"
  }
 },
 "nbformat": 4,
 "nbformat_minor": 5
}

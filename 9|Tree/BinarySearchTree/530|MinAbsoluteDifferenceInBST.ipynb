{
 "cells": [
  {
   "cell_type": "markdown",
   "id": "009257eb",
   "metadata": {},
   "source": [
    "# Approach   \n",
    "本题和98一样，利用BST中序遍历的结果是递增序列！   \n",
    "\n",
    "最小的差值只可能是递增序列的相邻两个元素的差值，因此我们要找到所有相邻两个元素的差值取最小值！和94一样也是用两个指针curr和pre分别指向当前node和当前node的前一个node！   \n",
    "\n",
    "783题和本题完全相同！   \n",
    "\n",
    "# Note\n",
    "**对二叉搜索树进行中序遍历(左中右)，所得结果必然是一个递增的序列！！！**\n",
    "\n",
    "\n",
    "# Code"
   ]
  },
  {
   "cell_type": "code",
   "execution_count": null,
   "id": "2cda6f4e",
   "metadata": {},
   "outputs": [],
   "source": [
    "# recursion\n",
    "class Solution:\n",
    "    pre = None\n",
    "    result = float('inf')\n",
    "    def getMinimumDifference(self, root: Optional[TreeNode]) -> int:\n",
    "        if root == None:\n",
    "            return\n",
    "        \n",
    "        # 左\n",
    "        self.getMinimumDifference(root.left)\n",
    "        \n",
    "        # 中\n",
    "        if self.pre != None:\n",
    "            self.result = min(self.result, root.val - self.pre.val)\n",
    "        \n",
    "        self.pre = root\n",
    "\n",
    "        # 右\n",
    "        self.getMinimumDifference(root.right)\n",
    "\n",
    "        return self.result"
   ]
  },
  {
   "cell_type": "code",
   "execution_count": null,
   "id": "816c212e",
   "metadata": {},
   "outputs": [],
   "source": [
    "# iteration\n",
    "class Solution:\n",
    "    def getMinimumDifference(self, root: Optional[TreeNode]) -> int:\n",
    "        if root == None:\n",
    "            return\n",
    "        \n",
    "        stack = []  \n",
    "        curr = root\n",
    "        pre = None\n",
    "        result = float('inf')\n",
    "        \n",
    "        while curr != None or len(stack) != 0:\n",
    "            if curr != None:     \n",
    "                stack.append(curr)\n",
    "                curr = curr.left\n",
    "            else:\n",
    "                curr = stack.pop()\n",
    "                \n",
    "                # 中\n",
    "                if pre != None:\n",
    "                    result = min(result, curr.val - pre.val)\n",
    "                pre = curr\n",
    "                \n",
    "                curr = curr.right\n",
    "        \n",
    "        return result"
   ]
  }
 ],
 "metadata": {
  "kernelspec": {
   "display_name": "Python 3 (ipykernel)",
   "language": "python",
   "name": "python3"
  },
  "language_info": {
   "codemirror_mode": {
    "name": "ipython",
    "version": 3
   },
   "file_extension": ".py",
   "mimetype": "text/x-python",
   "name": "python",
   "nbconvert_exporter": "python",
   "pygments_lexer": "ipython3",
   "version": "3.10.9"
  }
 },
 "nbformat": 4,
 "nbformat_minor": 5
}

{
 "cells": [
  {
   "cell_type": "markdown",
   "id": "009257eb",
   "metadata": {},
   "source": [
    "# Approach   \n",
    "其实非常简单，不需要重构，只需要在leaf下面添加节点！！！   \n",
    "\n",
    "将需要添加进来的节点的值与root的值比较，如果大了就与root.right比较，如果小了就与root.left比较，重复操作直到与leaf的值比较，如果大了就让leaf.right成为这个节点，如果小了就让leaf.left成为这个节点！  \n",
    "\n",
    "# Note\n",
    "\n",
    "# Code"
   ]
  },
  {
   "cell_type": "code",
   "execution_count": null,
   "id": "7d59c94f",
   "metadata": {},
   "outputs": [],
   "source": [
    "# recursion\n",
    "class Solution:\n",
    "    def insertIntoBST(self, root: Optional[TreeNode], val: int) -> Optional[TreeNode]:\n",
    "        if root == None:\n",
    "            return TreeNode(val)\n",
    "        \n",
    "        if val < root.val:\n",
    "            root.left = self.insertIntoBST(root.left, val)\n",
    "        elif val > root.val:\n",
    "            root.right = self.insertIntoBST(root.right, val)\n",
    "        \n",
    "        return root"
   ]
  },
  {
   "cell_type": "code",
   "execution_count": null,
   "id": "2cda6f4e",
   "metadata": {},
   "outputs": [],
   "source": [
    "# iteration\n",
    "class Solution:\n",
    "    def insertIntoBST(self, root: Optional[TreeNode], val: int) -> Optional[TreeNode]:\n",
    "        if root == None:\n",
    "            return TreeNode(val)\n",
    "        \n",
    "        # pre最后指向leaf，表示需要添加进来节点的父节点！\n",
    "        # curr用来定位添加进来的节点的位置！\n",
    "        pre, curr = None, root\n",
    "        while curr != None:\n",
    "            pre = curr\n",
    "            if val < curr.val:\n",
    "                curr = curr.left\n",
    "            elif val > curr.val:\n",
    "                curr = curr.right\n",
    "        \n",
    "        if val < pre.val:\n",
    "            pre.left = TreeNode(val)\n",
    "        elif val > pre.val:\n",
    "            pre.right = TreeNode(val)\n",
    "\n",
    "        return root"
   ]
  }
 ],
 "metadata": {
  "kernelspec": {
   "display_name": "Python 3 (ipykernel)",
   "language": "python",
   "name": "python3"
  },
  "language_info": {
   "codemirror_mode": {
    "name": "ipython",
    "version": 3
   },
   "file_extension": ".py",
   "mimetype": "text/x-python",
   "name": "python",
   "nbconvert_exporter": "python",
   "pygments_lexer": "ipython3",
   "version": "3.10.9"
  }
 },
 "nbformat": 4,
 "nbformat_minor": 5
}

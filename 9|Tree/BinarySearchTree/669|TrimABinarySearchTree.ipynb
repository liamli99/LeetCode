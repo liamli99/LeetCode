{
 "cells": [
  {
   "cell_type": "markdown",
   "id": "009257eb",
   "metadata": {},
   "source": [
    "# Approach   \n",
    "本题和450，701一样都是修改BST的题目！\n",
    "\n",
    "# Note\n",
    "\n",
    "\n",
    "# Code"
   ]
  },
  {
   "cell_type": "code",
   "execution_count": null,
   "id": "7d59c94f",
   "metadata": {},
   "outputs": [],
   "source": [
    "# recursion\n",
    "class Solution:\n",
    "    def trimBST(self, root: Optional[TreeNode], low: int, high: int) -> Optional[TreeNode]:\n",
    "        if root == None:\n",
    "            return None\n",
    "        \n",
    "        # 如果root的值比low小，那么所有在root左边的node的值都比low小，全都要删去！因此我们只需要看root右边的子树！\n",
    "        if root.val < low:\n",
    "            return self.trimBST(root.right, low, high)\n",
    "        # 如果root的值比low大，那么所有在root右边的node的值都比low大，全都要删去！因此我们只需要看root左边的子树！\n",
    "        elif root.val > high:\n",
    "            return self.trimBST(root.left, low, high)\n",
    "        else:\n",
    "            root.left = self.trimBST(root.left, low, high)\n",
    "            root.right = self.trimBST(root.right, low, high)\n",
    "            return root"
   ]
  },
  {
   "cell_type": "code",
   "execution_count": null,
   "id": "2cda6f4e",
   "metadata": {},
   "outputs": [],
   "source": [
    "# iteration\n",
    "class Solution:\n",
    "    def trimBST(self, root: Optional[TreeNode], low: int, high: int) -> Optional[TreeNode]:\n",
    "        if root == None:\n",
    "            return None\n",
    "        \n",
    "        # 先处理root，让root移动到[low, high]范围内！\n",
    "        while root != None and (root.val < low or root.val > high):\n",
    "            if root.val < low:\n",
    "                root = root.right \n",
    "            elif root.val > high:\n",
    "                root = root.left \n",
    "        \n",
    "        curr1 = curr2 = root\n",
    "        \n",
    "        # 此时root已经在[low, high]范围内，其左孩子的值不可能大于high，因此只需要处理左孩子的值小于low的情况！\n",
    "        while curr1 != None:\n",
    "            while curr1.left != None and curr1.left.val < low:\n",
    "                curr1.left = curr1.left.right\n",
    "            curr1 = curr1.left\n",
    "        \n",
    "        # 此时root已经在[low, high]范围内，其右孩子的值不可能小于low，因此只需要处理右孩子的值大于high的情况！\n",
    "        while curr2 != None:\n",
    "            while curr2.right != None and curr2.right.val > high:\n",
    "                curr2.right = curr2.right.left\n",
    "            curr2 = curr2.right\n",
    "        \n",
    "        return root"
   ]
  }
 ],
 "metadata": {
  "kernelspec": {
   "display_name": "Python 3 (ipykernel)",
   "language": "python",
   "name": "python3"
  },
  "language_info": {
   "codemirror_mode": {
    "name": "ipython",
    "version": 3
   },
   "file_extension": ".py",
   "mimetype": "text/x-python",
   "name": "python",
   "nbconvert_exporter": "python",
   "pygments_lexer": "ipython3",
   "version": "3.10.9"
  }
 },
 "nbformat": 4,
 "nbformat_minor": 5
}

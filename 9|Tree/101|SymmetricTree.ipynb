{
 "cells": [
  {
   "cell_type": "markdown",
   "id": "009257eb",
   "metadata": {},
   "source": [
    "# Approach\n",
    "判断一个树是否对称，其实就是要判断该树根节点的左右两个子树是否可以通过翻转得到对方！\n",
    "\n",
    "注意本题是要比较的是根节点的左右子树，而不是每个节点的左右子树！因此本题实质上是同时遍历两个树！      \n",
    "\n",
    "当root的左右两个孩子left和right都不是None时，如果：1.left的值与right的值相同 且 2.left的左孩子与right的右孩子相同 且 3.left的右孩子与right的左孩子相同，那么left与right就可以通过翻转得到对方，即该树是symmetric！  \n",
    "\n",
    "本题本质上需要判断上述三种情况！但是在recursion中将第一个情况分开来了，因为想与iteration对比！   \n",
    "\n",
    "# Note\n",
    "\n",
    "\n",
    "# Code"
   ]
  },
  {
   "cell_type": "code",
   "execution_count": null,
   "id": "642b425f",
   "metadata": {},
   "outputs": [],
   "source": [
    "# recursion\n",
    "class Solution:\n",
    "    def isSymmetric(self, root: Optional[TreeNode]) -> bool:\n",
    "        # 和linked list一样，如果有node是None，Tree不可以使用.left和.right！因此这里需要检查root是否是None！\n",
    "        if root == None:\n",
    "            return True\n",
    "        return self.compare(root.left, root.right)\n",
    "    \n",
    "    # 比较根节点的左右子树是否可以通过翻转得到对方\n",
    "    def compare(self, left, right):\n",
    "        # 由于需要使用left.val/left/right和right.val/left/right，必须先把None的情况讨论掉！\n",
    "        if left == None and right == None:\n",
    "            return True\n",
    "        elif left == None and right != None:\n",
    "            return False\n",
    "        elif left != None and right == None:\n",
    "            return False\n",
    "        # 其实下面两段代码直接合并成return left.val == right.val and self.compare(...) and self.compare(...)更清晰！\n",
    "        # 但是为了和iteration的代码对比，单独写成两段！\n",
    "        elif left.val != right.val:\n",
    "            return False\n",
    "        else: \n",
    "            return self.compare(left.left, right.right) and self.compare(left.right, right.left)"
   ]
  },
  {
   "cell_type": "code",
   "execution_count": null,
   "id": "e281de5d",
   "metadata": {},
   "outputs": [],
   "source": [
    "# iteration\n",
    "class Solution:\n",
    "    def isSymmetric(self, root: Optional[TreeNode]) -> bool:\n",
    "        if root == None:\n",
    "            return True\n",
    "        \n",
    "        # 这里是stack，queue，list都行！\n",
    "        store = [root.left, root.right] \n",
    "\n",
    "        while len(store) != 0:\n",
    "            right = store.pop()\n",
    "            left = store.pop()\n",
    "            \n",
    "            # 由于需要使用left.val/left/right和right.val/left/right，必须先把None的情况讨论掉！\n",
    "            if left == None and right == None:\n",
    "                continue\n",
    "            elif left == None and right != None:\n",
    "                return False\n",
    "            elif left != None and right == None:\n",
    "                return False\n",
    "            elif left.val != right.val:\n",
    "                return False\n",
    "\n",
    "            store.append(left.left)\n",
    "            store.append(right.right)\n",
    "            store.append(left.right)\n",
    "            store.append(right.left)\n",
    "        \n",
    "        return True"
   ]
  }
 ],
 "metadata": {
  "kernelspec": {
   "display_name": "Python 3 (ipykernel)",
   "language": "python",
   "name": "python3"
  },
  "language_info": {
   "codemirror_mode": {
    "name": "ipython",
    "version": 3
   },
   "file_extension": ".py",
   "mimetype": "text/x-python",
   "name": "python",
   "nbconvert_exporter": "python",
   "pygments_lexer": "ipython3",
   "version": "3.10.9"
  }
 },
 "nbformat": 4,
 "nbformat_minor": 5
}

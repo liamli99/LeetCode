{
 "cells": [
  {
   "cell_type": "markdown",
   "id": "009257eb",
   "metadata": {},
   "source": [
    "# Approach\n",
    "- 对于一个二叉树，我们有两种方法来对树中的节点排号：\n",
    "  1. 根节点的编号从0开始，通过层序遍历来对树中的所有节点按照顺序排号！\n",
    "  2. 根节点的编号从0开始，对于任意节点的编号i，其左孩子的编号为2i + 1，右孩子的编号为2i + 2！\n",
    "  如果上述两种方法排的号完全相同，那么这个二叉树就是完全二叉树！   \n",
    "\n",
    "- 类似662，本题在queue中除了要加入node，还要加入对应的编号！\n",
    "\n",
    "# Note\n",
    "- 用数组来存储二叉树时，根节点存储在`arr[0]`, 对于存储在`arr[i]`的节点，其左子节点存储在`arr[2i + 1]`，右子节点存储在`arr[2i + 2]`\n",
    "\n",
    "# Code"
   ]
  },
  {
   "cell_type": "code",
   "execution_count": null,
   "id": "642b425f",
   "metadata": {},
   "outputs": [],
   "source": [
    "# Definition for a binary tree node.\n",
    "# class TreeNode:\n",
    "#     def __init__(self, val=0, left=None, right=None):\n",
    "#         self.val = val\n",
    "#         self.left = left\n",
    "#         self.right = right\n",
    "class Solution:\n",
    "    def isCompleteTree(self, root: Optional[TreeNode]) -> bool:\n",
    "        if root == None:\n",
    "            return False\n",
    "        \n",
    "        queue = collections.deque([[root, 0]])\n",
    "        index1 = 0\n",
    "\n",
    "        while len(queue) != 0:\n",
    "            levelSize = len(queue)\n",
    "\n",
    "            for _ in range(levelSize):\n",
    "                node, index2 = queue.popleft()\n",
    "\n",
    "                if index1 != index2:\n",
    "                    return False\n",
    "                \n",
    "                index1 += 1\n",
    "\n",
    "                if node.left != None:\n",
    "                    queue.append([node.left, 2 * index2 + 1])\n",
    "                if node.right != None:\n",
    "                    queue.append([node.right, 2 * index2 + 2])\n",
    "        \n",
    "        return True"
   ]
  }
 ],
 "metadata": {
  "kernelspec": {
   "display_name": "Python 3 (ipykernel)",
   "language": "python",
   "name": "python3"
  },
  "language_info": {
   "codemirror_mode": {
    "name": "ipython",
    "version": 3
   },
   "file_extension": ".py",
   "mimetype": "text/x-python",
   "name": "python",
   "nbconvert_exporter": "python",
   "pygments_lexer": "ipython3",
   "version": "3.10.9"
  }
 },
 "nbformat": 4,
 "nbformat_minor": 5
}

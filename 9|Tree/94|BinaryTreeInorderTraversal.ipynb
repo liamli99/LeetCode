{
 "cells": [
  {
   "cell_type": "markdown",
   "id": "009257eb",
   "metadata": {},
   "source": [
    "# Approach\n",
    "- 和前序遍历(中左右)不同，中序遍历(左中右)要先到达左下角的节点，再开始处理节点！因此除了stack，我们还需要一个指针curr！  \n",
    "\n",
    "# Code"
   ]
  },
  {
   "cell_type": "code",
   "execution_count": null,
   "id": "642b425f",
   "metadata": {},
   "outputs": [],
   "source": [
    "# Recursion\n",
    "class Solution:\n",
    "    def inorderTraversal(self, root: Optional[TreeNode]) -> List[int]:\n",
    "        if root == None:\n",
    "            return []\n",
    "        \n",
    "        left = self.inorderTraversal(root.left)\n",
    "        right = self.inorderTraversal(root.right)\n",
    "        \n",
    "        # 左中右\n",
    "        return left + [root.val] + right"
   ]
  },
  {
   "cell_type": "code",
   "execution_count": null,
   "id": "61134c0f",
   "metadata": {},
   "outputs": [],
   "source": [
    "# Iteration: stack + pointer\n",
    "class Solution:\n",
    "    def inorderTraversal(self, root: Optional[TreeNode]) -> List[int]:\n",
    "        if root == None:\n",
    "            return []\n",
    "        \n",
    "        stack = []\n",
    "        result = []\n",
    "        curr = root\n",
    "\n",
    "        while curr != None or len(stack) != 0:\n",
    "            # 先到达当前节点的左下角的节点\n",
    "            while curr != None:\n",
    "                stack.append(curr)\n",
    "                curr = curr.left\n",
    "            \n",
    "            # 如果当前节点为空就返回上一节点    \n",
    "            curr = stack.pop()\n",
    "            result.append(curr.val)\n",
    "            curr = curr.right\n",
    "        \n",
    "        return result"
   ]
  }
 ],
 "metadata": {
  "kernelspec": {
   "display_name": "Python 3 (ipykernel)",
   "language": "python",
   "name": "python3"
  },
  "language_info": {
   "codemirror_mode": {
    "name": "ipython",
    "version": 3
   },
   "file_extension": ".py",
   "mimetype": "text/x-python",
   "name": "python",
   "nbconvert_exporter": "python",
   "pygments_lexer": "ipython3",
   "version": "3.10.14"
  }
 },
 "nbformat": 4,
 "nbformat_minor": 5
}

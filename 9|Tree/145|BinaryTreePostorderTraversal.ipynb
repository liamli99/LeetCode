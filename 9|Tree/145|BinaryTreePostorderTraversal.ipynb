{
 "cells": [
  {
   "cell_type": "markdown",
   "id": "009257eb",
   "metadata": {},
   "source": [
    "# Approach\n",
    "- 根据前序遍历(中左右)的代码，我们可以轻易的写出中右左的遍历顺序，将最终结果翻转就是左右中的遍历顺序，即后序遍历！\n",
    "\n",
    "# Code"
   ]
  },
  {
   "cell_type": "code",
   "execution_count": null,
   "id": "642b425f",
   "metadata": {},
   "outputs": [],
   "source": [
    "# Recursion\n",
    "class Solution:\n",
    "    def postorderTraversal(self, root: Optional[TreeNode]) -> List[int]:\n",
    "        if root == None:\n",
    "            return []\n",
    "        \n",
    "        left = self.postorderTraversal(root.left)\n",
    "        right = self.postorderTraversal(root.right)\n",
    "        \n",
    "        # 左右中\n",
    "        return left + right + [root.val]"
   ]
  },
  {
   "cell_type": "code",
   "execution_count": null,
   "id": "e281de5d",
   "metadata": {},
   "outputs": [],
   "source": [
    "# Iteration: stack\n",
    "class Solution:\n",
    "    def postorderTraversal(self, root: Optional[TreeNode]) -> List[int]:\n",
    "        if root == None:\n",
    "            return []\n",
    "        \n",
    "        stack = [root]\n",
    "        result = []    \n",
    "        \n",
    "        while len(stack) != 0:\n",
    "            node = stack.pop()\n",
    "            result.append(node.val)\n",
    "            \n",
    "            if node.left != None:\n",
    "                stack.append(node.left)\n",
    "            if node.right != None:\n",
    "                stack.append(node.right)\n",
    "        \n",
    "        return result[::-1]"
   ]
  },
  {
   "cell_type": "code",
   "execution_count": null,
   "id": "60122b2a",
   "metadata": {},
   "outputs": [],
   "source": [
    "# Iteration: stack + pointer，格式统一的写法，了解即可！\n",
    "class Solution:\n",
    "    def postorderTraversal(self, root: Optional[TreeNode]) -> List[int]:\n",
    "        if root == None:\n",
    "            return []\n",
    "        \n",
    "        stack = []\n",
    "        result = []\n",
    "        prev, curr = None, root\n",
    "\n",
    "        while curr != None or len(stack) != 0:\n",
    "            while curr != None:\n",
    "                stack.append(curr)\n",
    "                curr = curr.left\n",
    "            \n",
    "            curr = stack.pop()\n",
    "            \n",
    "            if curr.right == None or curr.right == prev:\n",
    "                result.append(curr.val)\n",
    "                prev, curr = curr, None\n",
    "            else:\n",
    "                stack.append(curr)\n",
    "                curr = curr.right\n",
    "        \n",
    "        return result"
   ]
  }
 ],
 "metadata": {
  "kernelspec": {
   "display_name": "Python 3 (ipykernel)",
   "language": "python",
   "name": "python3"
  },
  "language_info": {
   "codemirror_mode": {
    "name": "ipython",
    "version": 3
   },
   "file_extension": ".py",
   "mimetype": "text/x-python",
   "name": "python",
   "nbconvert_exporter": "python",
   "pygments_lexer": "ipython3",
   "version": "3.10.9"
  }
 },
 "nbformat": 4,
 "nbformat_minor": 5
}

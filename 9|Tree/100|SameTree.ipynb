{
 "cells": [
  {
   "cell_type": "markdown",
   "id": "009257eb",
   "metadata": {},
   "source": [
    "# Approach\n",
    "基本类同101，因为本题是比较两个树是否完全相同，101是比较两个树是否对称(通过翻转得到对方)！   \n",
    "\n",
    "当p和q都不是None时，如果：1.p的值与q的值相同 且 2.p的左孩子与q的左孩子相同 且 3.p的右孩子与q的右孩子相同，那么p与q就是same tree！   \n",
    "\n",
    "本题和101一样都需要判断三种情况！但是在recursion中将第一个情况分开来了，因为想与iteration对比！   \n",
    "\n",
    "\n",
    "# Note\n",
    "\n",
    "\n",
    "# Code"
   ]
  },
  {
   "cell_type": "code",
   "execution_count": null,
   "id": "642b425f",
   "metadata": {},
   "outputs": [],
   "source": [
    "# recursion\n",
    "class Solution:\n",
    "    def isSameTree(self, p: Optional[TreeNode], q: Optional[TreeNode]) -> bool:\n",
    "        # 由于需要使用p.val/left/right和q.val/left/right，必须先把None的情况讨论掉！\n",
    "        if p == None and q == None:\n",
    "            return True\n",
    "        elif p == None and q != None:\n",
    "            return False\n",
    "        elif p != None and q == None:\n",
    "            return False\n",
    "        # 其实下面两段代码直接合并成return p.val == q.val and self.isSameTree(...) and self.isSameTree(...)更清晰！\n",
    "        # 但是为了和iteration的代码对比，单独写成两段！\n",
    "        elif p.val != q.val:\n",
    "            return False\n",
    "        else: \n",
    "            return self.isSameTree(p.left, q.left) and self.isSameTree(p.right, q.right)"
   ]
  },
  {
   "cell_type": "code",
   "execution_count": null,
   "id": "e281de5d",
   "metadata": {},
   "outputs": [],
   "source": [
    "# iteration\n",
    "class Solution:\n",
    "    def isSameTree(self, p: Optional[TreeNode], q: Optional[TreeNode]) -> bool:   \n",
    "        # 这里是stack，queue，list都行！\n",
    "        store = [p, q]\n",
    "\n",
    "        while len(store) != 0:\n",
    "            right = store.pop()\n",
    "            left = store.pop()\n",
    "            \n",
    "            # 由于需要使用p.val/left/right和q.val/left/right，必须先把None的情况讨论掉！\n",
    "            if left == None and right == None:\n",
    "                continue\n",
    "            elif left == None and right != None:\n",
    "                return False\n",
    "            elif left != None and right == None:\n",
    "                return False\n",
    "            elif left.val != right.val:\n",
    "                return False\n",
    "\n",
    "            store.append(left.left)\n",
    "            store.append(right.left)\n",
    "            store.append(left.right)\n",
    "            store.append(right.right)\n",
    "        \n",
    "        return True"
   ]
  }
 ],
 "metadata": {
  "kernelspec": {
   "display_name": "Python 3 (ipykernel)",
   "language": "python",
   "name": "python3"
  },
  "language_info": {
   "codemirror_mode": {
    "name": "ipython",
    "version": 3
   },
   "file_extension": ".py",
   "mimetype": "text/x-python",
   "name": "python",
   "nbconvert_exporter": "python",
   "pygments_lexer": "ipython3",
   "version": "3.10.9"
  }
 },
 "nbformat": 4,
 "nbformat_minor": 5
}

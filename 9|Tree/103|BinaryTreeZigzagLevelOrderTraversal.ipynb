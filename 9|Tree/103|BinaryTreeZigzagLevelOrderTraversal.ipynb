{
 "cells": [
  {
   "cell_type": "markdown",
   "id": "009257eb",
   "metadata": {},
   "source": [
    "# Approach\n",
    "- 本题和102相比，只需要在每层处理一下level即可！     \n",
    "\n",
    "# Code"
   ]
  },
  {
   "cell_type": "code",
   "execution_count": null,
   "id": "a7e4612e",
   "metadata": {},
   "outputs": [],
   "source": [
    "# Definition for a binary tree node.\n",
    "# class TreeNode:\n",
    "#     def __init__(self, val=0, left=None, right=None):\n",
    "#         self.val = val\n",
    "#         self.left = left\n",
    "#         self.right = right\n",
    "class Solution:\n",
    "    def zigzagLevelOrder(self, root: Optional[TreeNode]) -> List[List[int]]:\n",
    "        if root == None:\n",
    "            return []\n",
    "\n",
    "        queue = collections.deque([root])\n",
    "        result = []\n",
    "        \n",
    "        while len(queue) != 0:\n",
    "            level = []\n",
    "            levelSize = len(queue)\n",
    "            for _ in range(levelSize):\n",
    "                node = queue.popleft()\n",
    "                level.append(node.val)\n",
    "                \n",
    "                if node.left != None:\n",
    "                    queue.append(node.left)\n",
    "                if node.right != None:\n",
    "                    queue.append(node.right)\n",
    "            \n",
    "            level = level[::-1] if len(result) % 2 == 1 else level\n",
    "            result.append(level)\n",
    "        \n",
    "        return result"
   ]
  }
 ],
 "metadata": {
  "kernelspec": {
   "display_name": "Python 3 (ipykernel)",
   "language": "python",
   "name": "python3"
  },
  "language_info": {
   "codemirror_mode": {
    "name": "ipython",
    "version": 3
   },
   "file_extension": ".py",
   "mimetype": "text/x-python",
   "name": "python",
   "nbconvert_exporter": "python",
   "pygments_lexer": "ipython3",
   "version": "3.10.9"
  }
 },
 "nbformat": 4,
 "nbformat_minor": 5
}

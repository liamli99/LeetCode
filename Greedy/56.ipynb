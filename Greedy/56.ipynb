{
 "cells": [
  {
   "cell_type": "markdown",
   "id": "009257eb",
   "metadata": {},
   "source": [
    "# Approach\n",
    "<!-- Describe your approach to solving the problem. -->\n",
    "完全类似452和435，区别在于是否overlapping的条件以及确定重合之后的操作不同\n",
    "\n",
    "\n",
    "# Note\n",
    "\n",
    "\n",
    "# Code"
   ]
  },
  {
   "cell_type": "code",
   "execution_count": null,
   "id": "642b425f",
   "metadata": {},
   "outputs": [],
   "source": [
    "# 左边界排序\n",
    "class Solution:\n",
    "    def merge(self, intervals: List[List[int]]) -> List[List[int]]:\n",
    "        intervals.sort(key = lambda x : x[0])\n",
    "\n",
    "        result = []\n",
    "\n",
    "        for i in range(len(intervals) - 1):\n",
    "            if intervals[i + 1][0] > intervals[i][1]:\n",
    "                result.append(intervals[i])\n",
    "            else:\n",
    "                # 这里其实不需要min，因为左边界从小到大排序，因此i的左边界一定小于等于i+1的左边界\n",
    "                # intervals[i + 1][0] = min(intervals[i][0], intervals[i + 1][0])\n",
    "                intervals[i + 1][0] = intervals[i][0]\n",
    "                intervals[i + 1][1] = max(intervals[i][1], intervals[i + 1][1])\n",
    "        result.append(intervals[len(intervals) - 1])\n",
    "        return result"
   ]
  },
  {
   "cell_type": "code",
   "execution_count": null,
   "id": "7238e65e",
   "metadata": {},
   "outputs": [],
   "source": [
    "# 右边界排序\n",
    "class Solution:\n",
    "    def merge(self, intervals: List[List[int]]) -> List[List[int]]:\n",
    "        intervals.sort(key = lambda x : x[1])\n",
    "\n",
    "        result = []\n",
    "\n",
    "        for i in range(len(intervals) - 1, 0, -1):\n",
    "            if intervals[i - 1][1] < intervals[i][0]:\n",
    "                result.append(intervals[i])\n",
    "            else:\n",
    "                intervals[i - 1][0] = min(intervals[i][0], intervals[i - 1][0])\n",
    "                # 这里其实不需要max，因为右边界从小到大排序，因此i的右边界一定大于等于i-1的右边界\n",
    "                # intervals[i - 1][1] = max(intervals[i][1], intervals[i - 1][1])\n",
    "                intervals[i - 1][1] = intervals[i][1]\n",
    "        result.append(intervals[0])\n",
    "        return result"
   ]
  }
 ],
 "metadata": {
  "kernelspec": {
   "display_name": "Python 3 (ipykernel)",
   "language": "python",
   "name": "python3"
  },
  "language_info": {
   "codemirror_mode": {
    "name": "ipython",
    "version": 3
   },
   "file_extension": ".py",
   "mimetype": "text/x-python",
   "name": "python",
   "nbconvert_exporter": "python",
   "pygments_lexer": "ipython3",
   "version": "3.10.9"
  }
 },
 "nbformat": 4,
 "nbformat_minor": 5
}

{
 "cells": [
  {
   "cell_type": "markdown",
   "id": "009257eb",
   "metadata": {},
   "source": [
    "# Approach\n",
    "本题和135类似！千万不要想着h和k一起比较，很容易混乱！类似这样有两个维度需要比较的题目，先确定一个维度的顺序再比较另一个维度！  \n",
    "\n",
    "但是本题不像135两个维度无所谓从哪个开始，本题必须先从h开始排序！如果先从k开始排序，根据题意应该从小到大排序，然后再根据h调整，但是不知道怎么去调整！还得再去看k，这是因为k的含义是身高大于等于h的人数，所以k的定义是基于h的！有这种依赖关系我们就不能先排序k！因此我们必须先按照h从大到小的顺序排序，然后再根据k的值把元素插在k位置，这样可以确保前面的k个元素的h一定大于等于该元素！而且后序插入节点也不会影响前面已经插入的节点！ \n",
    "\n",
    "注意按照h从大到小排序时，如果h大小一样，那么应该把k小的放在前面，这样按照k排序时该元素就可以先插队\n",
    "\n",
    "局部最优：优先按h高的k来插入\n",
    "\n",
    "# Note\n",
    "sort(key = myFunc, reverse = bool), reverse默认False，表示从小到大排序；True就是从大到小排序。key表示比较的元素，一般情况下默认list中本来的元素！往往会用lambda去表示要比较的元素的function！例如key = lambda x: abs(x)，表示比较list中元素绝对值的大小！\n",
    "\n",
    "# Code"
   ]
  },
  {
   "cell_type": "code",
   "execution_count": null,
   "id": "642b425f",
   "metadata": {},
   "outputs": [],
   "source": [
    "# 贪心\n",
    "class Solution:\n",
    "    def reconstructQueue(self, people: List[List[int]]) -> List[List[int]]:\n",
    "        # 比较一个tuple，先按照从小到大的顺序比较-x[0]，如果x[0]一样，那么按照从小到大的顺序比较x[1]\n",
    "        people.sort(key = lambda x: (-x[0], x[1]))\n",
    "\n",
    "        queue = []\n",
    "        for p in people:\n",
    "            queue.insert(p[1], p)\n",
    "        \n",
    "        return queue"
   ]
  }
 ],
 "metadata": {
  "kernelspec": {
   "display_name": "Python 3 (ipykernel)",
   "language": "python",
   "name": "python3"
  },
  "language_info": {
   "codemirror_mode": {
    "name": "ipython",
    "version": 3
   },
   "file_extension": ".py",
   "mimetype": "text/x-python",
   "name": "python",
   "nbconvert_exporter": "python",
   "pygments_lexer": "ipython3",
   "version": "3.10.9"
  }
 },
 "nbformat": 4,
 "nbformat_minor": 5
}

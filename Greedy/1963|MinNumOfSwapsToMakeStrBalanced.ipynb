{
 "cells": [
  {
   "cell_type": "markdown",
   "id": "7d405163",
   "metadata": {},
   "source": [
    "# Approach\n",
    "本题其实非常简单！   \n",
    "\n",
    "balanced string的定义看着很复杂，其实就是所有我们认为合法的\"[]\"的组合就是balanced string！由于题目中说左括号(\"[\")和右括号(\"]\")的数量相同，如果想让一个string是balanced，必须保证在s的任意位置处，该位置及其左边的左括号的数量都大于等于右括号的数量！   \n",
    "\n",
    "因此，我们需要遍历s中的每个括号，然后记录该位置及其左边的左右两个括号的相对数量，记为count！遇到左括号count就减1，遇到右括号count就加1！如果在遍历过程中count始终小于等于0，那么s就是balanced string！如果在遍历过程中count有过大于0，那么就存在不匹配的右括号使得string不是balanced！我们需要记录整个遍历过程中count的最大值，这个最大值表示有这么多不匹配的右括号使得string不是balanced！   \n",
    "\n",
    "count的最大值表示不匹配的右括号的数量，但并不意味着这么多的右括号都需要swap！由于题目要求swap的次数最少，那么每次swap能解决的不匹配的右括号的数量就要最多，即每次swap都要能解决两个不匹配的右括号！这是因为当我们swap一次时，可以将一个不匹配的右括号交换到右边，使它得到匹配，这样就解决了一个不匹配的右括号！同时交换过来的左括号可以再和剩余的一个不匹配的右括号配对，这样就又解决了一个不匹配的右括号！相当于一次swap最多可以解决两个不匹配的右括号！例如s=$\"]]][[[\"$，count的最大值为3，表示有3个右括号不满足匹配！但是将s[0]和s[-1]swap一次后，s变成$\"[]][[]\"$，count的最大值变成1了，相当于这次swap解决了两个不匹配的右括号！这是因为交换走的右括号得到匹配了，而且交换来的左括号让另一个不匹配的右括号也得到匹配！注意如果count的最大值是偶数，那么最少swap的次数就是最大值/2；如果count的最大值是奇数，那么最少swap的次数就是(最大值-1)/2+1，这是因为其他swap解决两个不匹配的右括号，而最后一个swap只能解决一个不匹配的右括号！      \n",
    "\n",
    "本题的贪心在于想让swap的次数最少，那么每次swap能解决的不匹配的右括号的数量就要最多，即每次swap都要能解决两个不匹配的右括号！   \n",
    "\n",
    "# Note\n",
    "\n",
    "\n",
    "# Code"
   ]
  },
  {
   "cell_type": "code",
   "execution_count": null,
   "id": "4f94bb4a",
   "metadata": {},
   "outputs": [],
   "source": [
    "class Solution:\n",
    "    def minSwaps(self, s: str) -> int:\n",
    "        count = 0\n",
    "        maxCount = 0\n",
    "\n",
    "        for bracket in s:\n",
    "            if bracket == \"[\":\n",
    "                count -= 1\n",
    "            else:\n",
    "                count += 1\n",
    "            maxCount = max(maxCount, count)\n",
    "        \n",
    "        # 统一解决result为奇或偶的情况！\n",
    "        return math.ceil(maxCount / 2)"
   ]
  }
 ],
 "metadata": {
  "kernelspec": {
   "display_name": "Python 3 (ipykernel)",
   "language": "python",
   "name": "python3"
  },
  "language_info": {
   "codemirror_mode": {
    "name": "ipython",
    "version": 3
   },
   "file_extension": ".py",
   "mimetype": "text/x-python",
   "name": "python",
   "nbconvert_exporter": "python",
   "pygments_lexer": "ipython3",
   "version": "3.10.9"
  }
 },
 "nbformat": 4,
 "nbformat_minor": 5
}

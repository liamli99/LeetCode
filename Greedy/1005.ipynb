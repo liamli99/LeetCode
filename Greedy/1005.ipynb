{
 "cells": [
  {
   "cell_type": "markdown",
   "id": "009257eb",
   "metadata": {},
   "source": [
    "# Approach\n",
    "<!-- Describe your approach to solving the problem. -->\n",
    "优先modify非正数，如果modify完非正数之后还有modify的次数剩余，有0就全弄0。没有0的话，如果还剩偶数次，那就弄同一个，结果不变；如果剩奇数次，弄此时最小的数一次即可。\n",
    "\n",
    "# Note\n",
    "The time complexity of the Python list.sort() method, which uses an algorithm called Timsort, is typically O(nlogn), where n is the length of the list.\n",
    "\n",
    "# Code"
   ]
  },
  {
   "cell_type": "code",
   "execution_count": null,
   "id": "e7ef8c5e",
   "metadata": {},
   "outputs": [],
   "source": [
    "# 我的解法，很臃肿\n",
    "class Solution:\n",
    "    def largestSumAfterKNegations(self, nums: List[int], k: int) -> int:\n",
    "        sum = 0\n",
    "        nums.sort()\n",
    "\n",
    "        for i in range(len(nums)):\n",
    "            if k == 0:\n",
    "                break\n",
    "            elif nums[i] < 0:\n",
    "                nums[i] = -nums[i]\n",
    "                k -= 1\n",
    "            elif nums[i] == 0:\n",
    "                k = 0\n",
    "                break\n",
    "            elif k % 2 == 0:\n",
    "                k = 0\n",
    "                break\n",
    "            else:\n",
    "                nums.sort()\n",
    "                nums[0] = -nums[0]\n",
    "                k = 0\n",
    "                break\n",
    "        \n",
    "        if k % 2 == 1:\n",
    "            nums.sort()\n",
    "            nums[0] = -nums[0]\n",
    "\n",
    "        for i in range(len(nums)):\n",
    "            sum += nums[i]\n",
    "        return sum"
   ]
  },
  {
   "cell_type": "code",
   "execution_count": null,
   "id": "02b50d9d",
   "metadata": {},
   "outputs": [],
   "source": [
    "class Solution:\n",
    "    def largestSumAfterKNegations(self, nums: List[int], k: int) -> int:\n",
    "        nums.sort()\n",
    "\n",
    "        for i in range(len(nums)):\n",
    "            if nums[i] < 0 and k > 0:\n",
    "                nums[i] = -nums[i]\n",
    "                k -= 1\n",
    "        \n",
    "        if k % 2 == 1:\n",
    "            nums.sort()\n",
    "            nums[0] = -nums[0]\n",
    "\n",
    "        return sum(nums)"
   ]
  },
  {
   "cell_type": "code",
   "execution_count": null,
   "id": "871f7c14",
   "metadata": {},
   "outputs": [],
   "source": [
    "# 更好的方法，按照绝对值从大到小的顺序排序nums，这样就不用再sort一次！\n",
    "class Solution:\n",
    "    def largestSumAfterKNegations(self, nums: List[int], k: int) -> int:\n",
    "        # 按照绝对值大小从大到小排序\n",
    "        nums.sort(key = lambda x: abs(x), reverse = True)\n",
    "\n",
    "        for i in range(len(nums)):\n",
    "            if nums[i] < 0 and k > 0:\n",
    "                nums[i] = -nums[i]\n",
    "                k -= 1\n",
    "        \n",
    "        if k % 2 == 1:\n",
    "            nums[-1] = -nums[-1]\n",
    "        \n",
    "        return sum(nums)"
   ]
  }
 ],
 "metadata": {
  "kernelspec": {
   "display_name": "Python 3 (ipykernel)",
   "language": "python",
   "name": "python3"
  },
  "language_info": {
   "codemirror_mode": {
    "name": "ipython",
    "version": 3
   },
   "file_extension": ".py",
   "mimetype": "text/x-python",
   "name": "python",
   "nbconvert_exporter": "python",
   "pygments_lexer": "ipython3",
   "version": "3.10.9"
  }
 },
 "nbformat": 4,
 "nbformat_minor": 5
}

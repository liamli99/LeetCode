{
 "cells": [
  {
   "cell_type": "markdown",
   "id": "009257eb",
   "metadata": {},
   "source": [
    "# Approach\n",
    "<!-- Describe your approach to solving the problem. -->\n",
    "贪心在于想让每一个平衡子串里的L和R尽量少！这样才能得到最多的平衡子串！  \n",
    "局部最优：每一个平衡子串里的L和R尽可能的少！遍历string，计算L和R的数量，一旦数量相同，立刻记一次数量！\n",
    "\n",
    "# Note\n",
    "\n",
    "\n",
    "# Code"
   ]
  },
  {
   "cell_type": "code",
   "execution_count": null,
   "id": "e7ef8c5e",
   "metadata": {},
   "outputs": [],
   "source": [
    "class Solution:\n",
    "    def balancedStringSplit(self, s: str) -> int:\n",
    "        # 遇到R就加1，遇到L就减1，这样就不用两个变量记录它们的个数了！\n",
    "        count = 0\n",
    "        num = 0\n",
    "        \n",
    "        for ele in s:\n",
    "            if ele == 'R':\n",
    "                count += 1\n",
    "            else:\n",
    "                count -= 1\n",
    "            \n",
    "            if count == 0:\n",
    "                num += 1\n",
    "        \n",
    "        return num"
   ]
  }
 ],
 "metadata": {
  "kernelspec": {
   "display_name": "Python 3 (ipykernel)",
   "language": "python",
   "name": "python3"
  },
  "language_info": {
   "codemirror_mode": {
    "name": "ipython",
    "version": 3
   },
   "file_extension": ".py",
   "mimetype": "text/x-python",
   "name": "python",
   "nbconvert_exporter": "python",
   "pygments_lexer": "ipython3",
   "version": "3.10.9"
  }
 },
 "nbformat": 4,
 "nbformat_minor": 5
}

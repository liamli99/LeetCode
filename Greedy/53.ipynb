{
 "cells": [
  {
   "cell_type": "markdown",
   "id": "009257eb",
   "metadata": {},
   "source": [
    "# Approach\n",
    "<!-- Describe your approach to solving the problem. -->\n",
    "贪心在于想让和最大，所以不想加负数，但是也不能一个负数都不加，因为有可能加了一个负数再加一个正数值更大了！   \n",
    "所以我们定义局部最优：“连续和”不能为负数，一旦加某个元素后“连续和”变为负数，就将“连续和”清零，并从下一个元素开始计算！\n",
    "\n",
    "# Note\n",
    "贪心算法其实是使用了Kadane's Algorithm算法！！！   \n",
    "\n",
    "# Code"
   ]
  },
  {
   "cell_type": "code",
   "execution_count": null,
   "id": "642b425f",
   "metadata": {},
   "outputs": [],
   "source": [
    "# 贪心/kadane's Algorithm\n",
    "class Solution:\n",
    "    def maxSubArray(self, nums: List[int]) -> int:\n",
    "        sum_ = 0\n",
    "        # result一开始必须设为负无穷，假如设为0的话，如果nums[0]是负数，那么sum也是负数，那么sum(即nums[0])无法赋值给result！\n",
    "        # 这样会导致如果nums中全是负数，result无法接收结果！\n",
    "        result = float('-inf')\n",
    "        for i in range(len(nums)):\n",
    "            sum_ += nums[i]\n",
    "            # 这个if必须在前面！如果在后面的话，假如nums[0]是负数，那么sum也是负数，那么sum清零！会把0赋值给result而不是nums[0]!\n",
    "            if sum_ > result:\n",
    "                result = sum_\n",
    "            if sum_ < 0:\n",
    "                sum_ = 0\n",
    "            \n",
    "        return result"
   ]
  }
 ],
 "metadata": {
  "kernelspec": {
   "display_name": "Python 3 (ipykernel)",
   "language": "python",
   "name": "python3"
  },
  "language_info": {
   "codemirror_mode": {
    "name": "ipython",
    "version": 3
   },
   "file_extension": ".py",
   "mimetype": "text/x-python",
   "name": "python",
   "nbconvert_exporter": "python",
   "pygments_lexer": "ipython3",
   "version": "3.10.9"
  }
 },
 "nbformat": 4,
 "nbformat_minor": 5
}

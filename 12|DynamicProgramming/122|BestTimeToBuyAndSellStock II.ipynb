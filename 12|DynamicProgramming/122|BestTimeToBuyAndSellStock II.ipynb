{
 "cells": [
  {
   "cell_type": "markdown",
   "id": "009257eb",
   "metadata": {},
   "source": [
    "# Approach \n",
    "- 方法一：贪心\n",
    "  - 由于**本题股票的买卖没有次数限制并且可以在同一天买卖**，因此利润可以分解为相邻两天的价格差：`prices[1]` - `prices[0]`, ..., `prices[i]` - `prices[i - 1]`   \n",
    "  - 而最大利润就是所有大于0的价格差的和！\n",
    "\n",
    "- 方法二：动态规划\n",
    "  1. 含义：`dp[i][0]`中表示第i天结束后手里没有股票的最大利润，`dp[i][1]`中表示第i天结束后手里持有股票最大利润，0 <= i < len(prices)\n",
    "\n",
    "  2. 递推公式：\n",
    "    - 对于`dp[i][0]`，第i天结束后手里没有股票，有两种情况：(1) 第i-1天结束后手里没有股票，那么`dp[i][0] = dp[i-1][0]` (2) 第i-1天结束后手里持有股票，在第i天卖出，那么`dp[i][0] = dp[i-1][1] + prices[i]`，综上，最大利润为`dp[i][0] = max(dp[i-1][0], dp[i-1][1] + prices[i])`\n",
    "    - 对于`dp[i][1]`，第i天结束后手里持有股票，有两种情况：(1) 第i-1天结束后手里持有股票，那么`dp[i][1] = dp[i-1][1]` (2) 第i-1天结束后手里没有股票，在第i天买入，那么`dp[i][1] = dp[i-1][0] - prices[i]`，综上，最大利润为`dp[i][1] = max(dp[i-1][1], dp[i-1][0] - prices[i])`\n",
    "\n",
    "  3. 初始化：`dp[0][0]` = `0`, `dp[0][1]` = `-prices[0]`\n",
    "\n",
    "  4. 遍历顺序：从前往后\n",
    "\n",
    "# Code"
   ]
  },
  {
   "cell_type": "code",
   "execution_count": null,
   "id": "642b425f",
   "metadata": {},
   "outputs": [],
   "source": [
    "# 贪心\n",
    "# Time: O(n), Space: O(1)\n",
    "from typing import List\n",
    "class Solution:\n",
    "    def maxProfit(self, prices: List[int]) -> int:\n",
    "        maxProfit = 0\n",
    "\n",
    "        for i in range(1, len(prices)):\n",
    "            if prices[i] > prices[i - 1]:\n",
    "                maxProfit += prices[i] - prices[i - 1]\n",
    "        \n",
    "        return maxProfit"
   ]
  },
  {
   "cell_type": "code",
   "execution_count": null,
   "id": "52f0d051",
   "metadata": {},
   "outputs": [],
   "source": [
    "# 动态规划\n",
    "# Time: O(n), Space: O(n)\n",
    "class Solution:\n",
    "    def maxProfit(self, prices: List[int]) -> int:\n",
    "        n = len(prices)\n",
    "        dp = [[0] * 2 for _ in range(n)]\n",
    "        \n",
    "        dp[0][1] = -prices[0]\n",
    "\n",
    "        for i in range(1, n):\n",
    "            dp[i][0] = max(dp[i - 1][0], dp[i - 1][1] + prices[i])\n",
    "            dp[i][1] = max(dp[i - 1][1], dp[i - 1][0] - prices[i])\n",
    "        \n",
    "        # 按道理是返回max(dp[n - 1][0], dp[n - 1][1])，但是手里没有股票肯定比有股票利润高！\n",
    "        return dp[n - 1][0]\n",
    "    "
   ]
  },
  {
   "cell_type": "code",
   "execution_count": null,
   "id": "e61c6bb3",
   "metadata": {},
   "outputs": [],
   "source": [
    "# 动态规划，空间优化\n",
    "# Time: O(n), Space: O(1)\n",
    "class Solution:\n",
    "    def maxProfit(self, prices: List[int]) -> int:\n",
    "        n = len(prices)\n",
    "        \n",
    "        dp0 = 0\n",
    "        dp1 = -prices[0]\n",
    "\n",
    "        for i in range(1, n):\n",
    "            new_dp0 = max(dp0, dp1 + prices[i])\n",
    "            new_dp1 = max(dp1, dp0 - prices[i])\n",
    "            \n",
    "            dp0, dp1 = new_dp0, new_dp1\n",
    "        \n",
    "        return dp0"
   ]
  }
 ],
 "metadata": {
  "kernelspec": {
   "display_name": "Python 3 (ipykernel)",
   "language": "python",
   "name": "python3"
  },
  "language_info": {
   "codemirror_mode": {
    "name": "ipython",
    "version": 3
   },
   "file_extension": ".py",
   "mimetype": "text/x-python",
   "name": "python",
   "nbconvert_exporter": "python",
   "pygments_lexer": "ipython3",
   "version": "3.10.9"
  }
 },
 "nbformat": 4,
 "nbformat_minor": 5
}

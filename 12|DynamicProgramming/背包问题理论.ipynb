{
 "cells": [
  {
   "cell_type": "markdown",
   "id": "4ff4d2a4",
   "metadata": {},
   "source": [
    "# 背包问题理论\n",
    "- 背包九讲：https://github.com/tianyicui/pack   \n",
    "- 只需要掌握01背包+完全背包+(多重背包)   \n",
    "\n",
    "# 01背包\n",
    "- 描述：有n件物品，背包容量为w。下标为i的物品的重量为`weight[i]`，价值为`value[i]`。**每件物品只有一个**，求解如何装物品使得总重量小于等于w且总价值最大！   \n",
    "\n",
    "- 动态规划：   \n",
    "  1. dp数组：`dp[i][j]`表示从下标为0-i的物品里任意取，每个物品只能取一次，放进容量为j的背包，总价值最大为`dp[i][j]`\n",
    "  \n",
    "  2. 递推公式：\n",
    "     - 当背包容量小于物品i的重量，即`j < weight[i]`时，物品i无法被装入背包中，因此不要物品i，那么`dp[i][j] = dp[i-1][j]` \n",
    "     - 当背包容量大于等于物品i的重量，即`j >= weight[i]`时，可以要也可以不要物品i！如果不要物品i，同上。如果要物品i，由于物品i只能取一次，`dp[i][j] = dp[i-1][j-weight[i]] + value[i]`！综上，总价值最大为`dp[i][j] = max(dp[i-1][j], dp[i-1][j-weight[i]] + value[i])`！   \n",
    "  \n",
    "  3. 初始化：`dp[i][0] = 0`；当`j < weight[0]`时，`dp[0][j] = 0`；当`j >= weight[0]`时，`dp[0][j] = value[0]`   \n",
    "  \n",
    "  4. 遍历顺序：两层遍历，先遍历物品，再遍历背包容量！"
   ]
  },
  {
   "cell_type": "code",
   "execution_count": 6,
   "id": "b6a735a7",
   "metadata": {},
   "outputs": [
    {
     "name": "stdout",
     "output_type": "stream",
     "text": [
      "35\n"
     ]
    }
   ],
   "source": [
    "# Time: O(len(weight) * bagweight), Space: O(len(weight) * bagweight)\n",
    "def bag_problem(weight, value, bagweight):\n",
    "    dp = [[0] * (bagweight + 1) for _ in range(len(weight))]\n",
    "    \n",
    "    # 初始化\n",
    "    for j in range(weight[0], bagweight + 1):\n",
    "        dp[0][j] = value[0]\n",
    "    \n",
    "    # 先遍历物品再遍历背包容量\n",
    "    for i in range(1, len(weight)):  \n",
    "        for j in range(bagweight + 1):  \n",
    "            if j < weight[i]:\n",
    "                dp[i][j] = dp[i - 1][j]\n",
    "            else:\n",
    "                dp[i][j] = max(dp[i - 1][j], dp[i - 1][j - weight[i]] + value[i])\n",
    "\n",
    "    return dp[-1][-1]\n",
    "\n",
    "\n",
    "if __name__ == \"__main__\":\n",
    "\n",
    "    weight = [1, 3, 4]\n",
    "    value = [15, 20, 30]\n",
    "    bagweight = 4\n",
    "\n",
    "    result = bag_problem(weight, value, bagweight)\n",
    "    print(result)"
   ]
  },
  {
   "cell_type": "markdown",
   "id": "b26b9690",
   "metadata": {},
   "source": [
    "# 01背包的空间优化\n",
    "- `dp[j]`表示从所有物品里任意取，放进容量为j的背包，总价值最大为`dp[j]`"
   ]
  },
  {
   "cell_type": "code",
   "execution_count": 3,
   "id": "7972dca7",
   "metadata": {},
   "outputs": [
    {
     "name": "stdout",
     "output_type": "stream",
     "text": [
      "35\n"
     ]
    }
   ],
   "source": [
    "# Time: O(len(weight) * bagweight), Space: O(bagweight)\n",
    "def bag_problem(weight, value, bagweight):\n",
    "    dp = [0] * (bagweight + 1)\n",
    "    \n",
    "    # 不用初始化，已经被下方代码包含了！\n",
    "    # for j in range(weight[0], bagweight + 1):\n",
    "    #     dp[j] = value[0]\n",
    "    \n",
    "    # 先遍历物品，注意此时物品从下标为0开始，因为没有初始化！\n",
    "    for i in range(len(weight)):  \n",
    "        # 再遍历背包容量，注意此时是从大到小遍历，不然的话dp[j-weight[i]]就是左边的dp[i][j-weight[i]]！\n",
    "        for j in range(bagweight, weight[i] - 1, -1):  \n",
    "            # 原来的dp[j]其实就是上方的dp[i-1][j]，dp[j-weight[i]]就是左上方的dp[i-1][j-weight[i]]！\n",
    "            dp[j] = max(dp[j], dp[j - weight[i]] + value[i])\n",
    "\n",
    "    return dp[-1]\n",
    "\n",
    "\n",
    "if __name__ == \"__main__\":\n",
    "\n",
    "    weight = [1, 3, 4]\n",
    "    value = [15, 20, 30]\n",
    "    bagweight = 4\n",
    "\n",
    "    result = bag_problem(weight, value, bagweight)\n",
    "    print(result)"
   ]
  },
  {
   "cell_type": "markdown",
   "id": "9099cbec",
   "metadata": {},
   "source": [
    "# 完全背包\n",
    "- 描述：有n件物品，背包容量为w。下标为i的物品的重量为`weight[i]`，价值为`value[i]`。**每件物品有无数个**，求解如何装物品使得总重量小于等于w且总价值最大！   \n",
    "\n",
    "- 动态规划：   \n",
    "  1. dp数组：`dp[i][j]`表示从下标为0-i的物品里任意取，每个物品可以取无数次，放进容量为j的背包，总价值最大为`dp[i][j]`\n",
    "  \n",
    "  2. 递推公式：\n",
    "     - 当背包容量小于物品i的重量，即`j < weight[i]`时，物品i无法被装入背包中，因此不要物品i，那么`dp[i][j] = dp[i-1][j]` \n",
    "     - 当背包容量大于等于物品i的重量，即`j >= weight[i]`时，可以要也可以不要物品i！如果不要物品i，同上。如果要物品i，由于物品i可以取无数次，`dp[i][j] = dp[i][j-weight[i]] + value[i]`！综上，总价值最大为`dp[i][j] = max(dp[i-1][j], dp[i][j-weight[i]] + value[i])`！   \n",
    "  \n",
    "  3. 初始化：`dp[i][0] = 0`；当`j < weight[0]`时，`dp[0][j] = 0`；当`j >= weight[0]`时，`dp[0][j] = dp[0][j - weight[0]] + value[0]`   \n",
    "  \n",
    "  4. 遍历顺序：两层遍历，先遍历物品，再遍历背包容量！"
   ]
  },
  {
   "cell_type": "code",
   "execution_count": 7,
   "id": "fdfc953d",
   "metadata": {},
   "outputs": [
    {
     "name": "stdout",
     "output_type": "stream",
     "text": [
      "60\n"
     ]
    }
   ],
   "source": [
    "# Time: O(len(weight) * bagweight), Space: O(len(weight) * bagweight)\n",
    "def bag_problem(weight, value, bagweight):\n",
    "    dp = [[0] * (bagweight + 1) for _ in range(len(weight))]\n",
    "    \n",
    "    # 初始化\n",
    "    for j in range(weight[0], bagweight + 1):\n",
    "        dp[0][j] = dp[0][j - weight[0]] + value[0]\n",
    "    \n",
    "    # 先遍历物品再遍历背包容量\n",
    "    for i in range(1, len(weight)):  \n",
    "        for j in range(bagweight + 1):  \n",
    "            if j < weight[i]:\n",
    "                dp[i][j] = dp[i - 1][j]\n",
    "            else:\n",
    "                dp[i][j] = max(dp[i - 1][j], dp[i][j - weight[i]] + value[i])\n",
    "\n",
    "    return dp[-1][-1]\n",
    "\n",
    "\n",
    "if __name__ == \"__main__\":\n",
    "\n",
    "    weight = [1, 3, 4]\n",
    "    value = [15, 20, 30]\n",
    "    bagweight = 4\n",
    "\n",
    "    result = bag_problem(weight, value, bagweight)\n",
    "    print(result)"
   ]
  },
  {
   "cell_type": "markdown",
   "id": "1d27b749",
   "metadata": {},
   "source": [
    "# 完全背包的空间优化\n",
    "- `dp[j]`表示从所有物品里任意取，放进容量为j的背包，总价值最大为`dp[j]`"
   ]
  },
  {
   "cell_type": "code",
   "execution_count": 5,
   "id": "e294cce4",
   "metadata": {},
   "outputs": [
    {
     "name": "stdout",
     "output_type": "stream",
     "text": [
      "60\n"
     ]
    }
   ],
   "source": [
    "# Time: O(len(weight) * bagweight), Space: O(bagweight)\n",
    "def bag_problem(weight, value, bagweight):\n",
    "    dp = [0] * (bagweight + 1)\n",
    "    \n",
    "    # 不用初始化，已经被下方代码包含了！\n",
    "    \n",
    "    # 先遍历物品，注意此时物品从下标为0开始，因为没有初始化！\n",
    "    for i in range(len(weight)):  \n",
    "        # 再遍历背包容量，注意此时是从小到大遍历！\n",
    "        for j in range(weight[i], bagweight + 1):  \n",
    "            # 原来的dp[j]其实就是上方的dp[i-1][j]，dp[j-weight[i]]就是左边的dp[i][j-weight[i]]！\n",
    "            dp[j] = max(dp[j], dp[j - weight[i]] + value[i])\n",
    "\n",
    "    return dp[-1]\n",
    "\n",
    "\n",
    "if __name__ == \"__main__\":\n",
    "\n",
    "    weight = [1, 3, 4]\n",
    "    value = [15, 20, 30]\n",
    "    bagweight = 4\n",
    "\n",
    "    result = bag_problem(weight, value, bagweight)\n",
    "    print(result)"
   ]
  }
 ],
 "metadata": {
  "kernelspec": {
   "display_name": "base",
   "language": "python",
   "name": "python3"
  },
  "language_info": {
   "codemirror_mode": {
    "name": "ipython",
    "version": 3
   },
   "file_extension": ".py",
   "mimetype": "text/x-python",
   "name": "python",
   "nbconvert_exporter": "python",
   "pygments_lexer": "ipython3",
   "version": "3.10.14"
  }
 },
 "nbformat": 4,
 "nbformat_minor": 5
}

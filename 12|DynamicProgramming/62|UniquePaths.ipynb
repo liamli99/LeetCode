{
 "cells": [
  {
   "cell_type": "markdown",
   "id": "009257eb",
   "metadata": {},
   "source": [
    "# Approach\n",
    "1. dp数组：`dp[i][j]`表示从(0, 0)移动到(i, j)共有`dp[i][j]`条不同路径\n",
    "\n",
    "2. 递推公式：有两种方法移动到(i, j): 1. 在(i-1, j)向右移动一步到(i, j) 2. 在(i, j-1)向下移动一步到(i, j)！因此从(0, 0)移动到(i, j)的不同路径数为`dp[i][j] = dp[i-1][j] + dp[i][j-1]`\n",
    "\n",
    "3. 初始化：`dp[0][j] = 1`，`dp[i][0] = 1`，0 <= i < m, 0 <= j < n\n",
    "\n",
    "4. 遍历顺序：两层遍历，分别遍历行和列！即从左到右一层一层地遍历！\n",
    "\n",
    "# Note\n",
    "Python定义2-D list：   \n",
    "- 错误：dp = [[0] * 列] * 行                \n",
    "- 正确：dp = [[0] * 列 for _ in range(行)]\n",
    "\n",
    "# Code"
   ]
  },
  {
   "cell_type": "code",
   "execution_count": null,
   "id": "e281de5d",
   "metadata": {},
   "outputs": [],
   "source": [
    "# Time: O(m * n), Space: O(m * n)\n",
    "class Solution:\n",
    "    def uniquePaths(self, m: int, n: int) -> int:\n",
    "        # 将初始值设置为1，这样就不需要在初始化的时候把dp[i][0]和dp[0][j]设置为1！\n",
    "        dp = [[1] * n for _ in range(m)]\n",
    "\n",
    "        for i in range(1, m):\n",
    "            for j in range(1, n):\n",
    "                dp[i][j] = dp[i - 1][j] + dp[i][j - 1]\n",
    "        \n",
    "        return dp[m - 1][n - 1]"
   ]
  },
  {
   "cell_type": "code",
   "execution_count": null,
   "id": "02908c9c",
   "metadata": {},
   "outputs": [],
   "source": [
    "# 优化空间复杂度\n",
    "# Time: O(m * n), Space: O(n)\n",
    "class Solution:\n",
    "    def uniquePaths(self, m: int, n: int) -> int:\n",
    "        # 创建一个一维列表用于存储每行的唯一路径数\n",
    "        # 一开始，dp表示第一行，因此dp[i]表示从(0, 0)到(0, i)的不同路径数！\n",
    "        dp = [1] * n\n",
    "        \n",
    "        for _ in range(1, m):\n",
    "            for j in range(1, n):\n",
    "                # 原来的dp[j]其实就是上方的dp[i-1][j]，dp[j-1]就是左边的dp[i][j-1]！\n",
    "                dp[j] += dp[j - 1]\n",
    "        \n",
    "        return dp[n - 1]"
   ]
  }
 ],
 "metadata": {
  "kernelspec": {
   "display_name": "Python 3 (ipykernel)",
   "language": "python",
   "name": "python3"
  },
  "language_info": {
   "codemirror_mode": {
    "name": "ipython",
    "version": 3
   },
   "file_extension": ".py",
   "mimetype": "text/x-python",
   "name": "python",
   "nbconvert_exporter": "python",
   "pygments_lexer": "ipython3",
   "version": "3.10.9"
  }
 },
 "nbformat": 4,
 "nbformat_minor": 5
}

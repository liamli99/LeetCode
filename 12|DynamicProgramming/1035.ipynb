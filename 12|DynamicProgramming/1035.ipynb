{
 "cells": [
  {
   "cell_type": "markdown",
   "id": "009257eb",
   "metadata": {},
   "source": [
    "# Approach\n",
    "<!-- Describe your approach to solving the problem. -->\n",
    "完全类比1143，相同问题的不同问法！\n",
    "\n",
    "# Note\n",
    "\n",
    "\n",
    "# Code"
   ]
  },
  {
   "cell_type": "code",
   "execution_count": null,
   "id": "e281de5d",
   "metadata": {},
   "outputs": [],
   "source": [
    "# 二维数组; Time: O(m * n), Space: O(m * n)，其中m，n分别表示nums1和nums2的长度！\n",
    "class Solution:\n",
    "    def maxUncrossedLines(self, nums1: List[int], nums2: List[int]) -> int:\n",
    "        dp = [[0] * len(nums2) for _ in range(len(nums1))]\n",
    "\n",
    "        for i in range(len(nums1)):\n",
    "            if nums1[i] == nums2[0]:\n",
    "                for k in range(i, len(nums1)):\n",
    "                    dp[k][0] = 1\n",
    "        \n",
    "        for j in range(len(nums2)):\n",
    "            if nums2[j] == nums1[0]:\n",
    "                for k in range(j, len(nums2)):\n",
    "                    dp[0][k] = 1\n",
    "        \n",
    "        for i in range(1, len(nums1)):\n",
    "            for j in range(1, len(nums2)):\n",
    "                if nums1[i] == nums2[j]:\n",
    "                    dp[i][j] = dp[i - 1][j - 1] + 1\n",
    "                else:\n",
    "                    dp[i][j] = max(dp[i - 1][j], dp[i][j - 1])\n",
    "        \n",
    "        return dp[len(nums1) - 1][len(nums2) - 1]"
   ]
  },
  {
   "cell_type": "code",
   "execution_count": null,
   "id": "69f8321f",
   "metadata": {},
   "outputs": [],
   "source": [
    "# 一维滚动数组; Time: O(m * n), Space: O(n)，其中m，n分别表示nums1和nums2的长度！"
   ]
  }
 ],
 "metadata": {
  "kernelspec": {
   "display_name": "Python 3 (ipykernel)",
   "language": "python",
   "name": "python3"
  },
  "language_info": {
   "codemirror_mode": {
    "name": "ipython",
    "version": 3
   },
   "file_extension": ".py",
   "mimetype": "text/x-python",
   "name": "python",
   "nbconvert_exporter": "python",
   "pygments_lexer": "ipython3",
   "version": "3.10.9"
  }
 },
 "nbformat": 4,
 "nbformat_minor": 5
}

{
 "cells": [
  {
   "cell_type": "markdown",
   "id": "009257eb",
   "metadata": {},
   "source": [
    "# Approach\n",
    "- 本题可以转化为：从coins中选取一些硬币使得它们的和等于amount，求最少需要多少硬币！\n",
    "\n",
    "- 本题是变种的完全背包，背包容量为n，物品重量为`coins[i]`，此时不用考虑物品价值：\n",
    "  1. dp数组：`dp[i][j]`表示从下标为0-i的物品里任意取，每个物品可以取无数次，放进容量为j的背包，选取的物品的总重量恰好为j的最少数量为`dp[i][j]`！\n",
    "  \n",
    "  2. 递推公式：\n",
    "    - 当背包容量小于物品i的重量，即`j < coins[i]`时，不要物品i，即`dp[i][j] = dp[i-1][j]` \n",
    "    - 当背包容量大于等于物品i的重量，即`j >= nums[i]`时，可以要也可以不要物品i！如果不要物品i，同上。如果要物品i，`dp[i][j] = dp[i][j-coins[i]] + 1`！因此最少数量为`dp[i][j] = min(dp[i-1][j], dp[i][j-coins[i]] + 1)`！\n",
    "  \n",
    "  3. 初始化\n",
    "  \n",
    "  4. 遍历顺序：两层遍历，先遍历物品，再遍历背包容量！\n",
    "\n",
    "# Code"
   ]
  },
  {
   "cell_type": "code",
   "execution_count": null,
   "id": "82728380",
   "metadata": {},
   "outputs": [],
   "source": [
    "# Time: O(n * amount), Space: O(amount)\n",
    "from typing import List\n",
    "class Solution:\n",
    "    def coinChange(self, coins: List[int], amount: int) -> int:\n",
    "        bagweight = amount\n",
    "\n",
    "        dp = [float('inf')] * (bagweight + 1)\n",
    "        dp[0] = 0\n",
    "\n",
    "        for i in range(len(coins)):\n",
    "            for j in range(coins[i], bagweight + 1):\n",
    "                dp[j] = min(dp[j], dp[j - coins[i]] + 1)\n",
    "        \n",
    "        return -1 if dp[-1] == float('inf') else dp[-1]"
   ]
  }
 ],
 "metadata": {
  "kernelspec": {
   "display_name": "Python 3 (ipykernel)",
   "language": "python",
   "name": "python3"
  },
  "language_info": {
   "codemirror_mode": {
    "name": "ipython",
    "version": 3
   },
   "file_extension": ".py",
   "mimetype": "text/x-python",
   "name": "python",
   "nbconvert_exporter": "python",
   "pygments_lexer": "ipython3",
   "version": "3.10.9"
  }
 },
 "nbformat": 4,
 "nbformat_minor": 5
}

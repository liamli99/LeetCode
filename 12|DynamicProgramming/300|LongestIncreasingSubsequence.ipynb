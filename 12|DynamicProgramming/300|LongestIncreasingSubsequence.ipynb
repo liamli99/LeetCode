{
 "cells": [
  {
   "cell_type": "markdown",
   "id": "009257eb",
   "metadata": {},
   "source": [
    "# Approach\n",
    "1. 含义：`dp[i]`表示**以`nums[i]`结尾**的最长递增子序列的长度为`dp[i]`！\n",
    "\n",
    "2. 递推公式：遍历`nums[0]`到`nums[i-1]`，对于其中的任意一个元素`nums[j]`，0 <= j < i，如果`nums[i] > nums[j]`，那么以`nums[i]`结尾的递增子序列的长度可以是`dp[j] + 1`，因此以`nums[i]`结尾的最长递增子序列的长度就是所有`dp[j] + 1`的最大值！\n",
    "\n",
    "3. 初始化：`dp[i] = 1`，因为以任何`nums[i]`结尾的递增子序列至少有一个，就是`nums[i]`本身！\n",
    "\n",
    "4. 遍历顺序：从前往后\n",
    "\n",
    "# Note\n",
    "- Subsequence: an array that can be derived from another array by deleting some or no elements without changing the order of the remaining elements.\n",
    "\n",
    "- 由于300题是**连续递增子序列**，因此`dp[i]`完全依赖于`dp[i-1]`！而本题只是**递增子序列**，因此`dp[i]`依赖于全面的所有dp！ \n",
    "\n",
    "# Code"
   ]
  },
  {
   "cell_type": "code",
   "execution_count": null,
   "id": "e281de5d",
   "metadata": {},
   "outputs": [],
   "source": [
    "# Time: O(n^2), Space: O(n)\n",
    "from typing import List\n",
    "class Solution:\n",
    "    def lengthOfLIS(self, nums: List[int]) -> int:\n",
    "        dp = [1] * len(nums)\n",
    "        \n",
    "        for i in range(1, len(nums)):\n",
    "            for j in range(i):\n",
    "                if nums[i] > nums[j]:\n",
    "                    dp[i] = max(dp[i], dp[j] + 1)\n",
    "        \n",
    "        return max(dp)"
   ]
  },
  {
   "cell_type": "code",
   "execution_count": null,
   "id": "cb95ab2d",
   "metadata": {},
   "outputs": [],
   "source": [
    "# 贪心\n",
    "# Time: O(nlogn), Space: O(n)"
   ]
  }
 ],
 "metadata": {
  "kernelspec": {
   "display_name": "Python 3 (ipykernel)",
   "language": "python",
   "name": "python3"
  },
  "language_info": {
   "codemirror_mode": {
    "name": "ipython",
    "version": 3
   },
   "file_extension": ".py",
   "mimetype": "text/x-python",
   "name": "python",
   "nbconvert_exporter": "python",
   "pygments_lexer": "ipython3",
   "version": "3.10.9"
  }
 },
 "nbformat": 4,
 "nbformat_minor": 5
}

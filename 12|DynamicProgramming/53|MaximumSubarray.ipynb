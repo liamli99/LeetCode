{
 "cells": [
  {
   "cell_type": "markdown",
   "id": "009257eb",
   "metadata": {},
   "source": [
    "# Approach\n",
    "1. 含义：`dp[i]`表示以`nums[i]`结尾的子数组的和的最大值为`dp[i]`\n",
    "\n",
    "2. 递推公式：对于`dp[i]`，要么就是`nums[i]`单独成为一段，要么就是`nums[i]`放到`dp[i - 1]`对应的那一段后面，由于我们希望得到的是最大值，`dp[i] = max(nums[i], nums[i] + dp[i - 1])`\n",
    "\n",
    "3. 初始化：`dp[0] = nums[0]`\n",
    "\n",
    "4. 遍历顺序：从前往后\n",
    "\n",
    "# Note\n",
    "- Subarray(子数组) VS Subsequence(子序列)\n",
    "\n",
    "# Code"
   ]
  },
  {
   "cell_type": "code",
   "execution_count": null,
   "id": "52f0d051",
   "metadata": {},
   "outputs": [],
   "source": [
    "# Time: O(n), Space: O(1)\n",
    "from typing import List\n",
    "class Solution:\n",
    "    def maxSubArray(self, nums: List[int]) -> int:\n",
    "        dp = [0] * len(nums)\n",
    "        dp[0] = nums[0]\n",
    "\n",
    "        for i in range(1, len(nums)):\n",
    "            dp[i] = max(dp[i - 1] + nums[i], nums[i])\n",
    "        \n",
    "        return max(dp)\n"
   ]
  },
  {
   "cell_type": "code",
   "execution_count": null,
   "id": "6c28f9cd",
   "metadata": {},
   "outputs": [],
   "source": [
    "# 优化空间\n",
    "# Time: O(n), Space: O(1)\n",
    "class Solution:\n",
    "    def maxSubArray(self, nums: List[int]) -> int:\n",
    "        dp = nums[0]\n",
    "        max_dp = dp\n",
    "\n",
    "        for i in range(1, len(nums)):\n",
    "            dp = max(nums[i], dp + nums[i])\n",
    "            max_dp = max(max_dp, dp)\n",
    "        \n",
    "        return max_dp"
   ]
  }
 ],
 "metadata": {
  "kernelspec": {
   "display_name": "Python 3 (ipykernel)",
   "language": "python",
   "name": "python3"
  },
  "language_info": {
   "codemirror_mode": {
    "name": "ipython",
    "version": 3
   },
   "file_extension": ".py",
   "mimetype": "text/x-python",
   "name": "python",
   "nbconvert_exporter": "python",
   "pygments_lexer": "ipython3",
   "version": "3.10.9"
  }
 },
 "nbformat": 4,
 "nbformat_minor": 5
}

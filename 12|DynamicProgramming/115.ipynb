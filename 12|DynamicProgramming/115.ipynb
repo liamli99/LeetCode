{
 "cells": [
  {
   "cell_type": "markdown",
   "id": "009257eb",
   "metadata": {},
   "source": [
    "# Approach\n",
    "<!-- Describe your approach to solving the problem. -->\n",
    "基本类似392！！！根据1143的总结，由于本题不是连续也不是递增子序列，我不能用以xxx结尾的定义！   \n",
    "注意本题t是s的子序列！\n",
    "\n",
    "1. 含义：dp[i][j]表示在s[0]到s[i]中等于t[0]到t[j]这个字符串的不同的字符串的数量！\n",
    "\n",
    "2. 递推公式：当s[i]==t[j]时，t[0]到t[j]这个字符串在s[0]到s[i]中的位置有两种！第一种，由于t[j]==s[i]，t[0]到t[j]这个字符串的最后一个字符t[j]可以放在s[i]上，那么字符串剩余部分t[0]到t[j-1]只能在s[0]到s[i-1]上，所以dp[i][j]=dp[i-1][j-1]！第二种，t[0]到t[j]这个字符串的最后一个字符t[j]不放在s[i]上，那么该字符串在s[0]到s[i-1]中，所以dp[i][j]=dp[i][j-1]。由于dp表示的是所有的数量，dp[i][j]=dp[i-1][j-1]+dp[i][j-1]。当s[i]!=t[j]时，t[0]到t[j]这个字符串只能放在s[0]到s[i-1]上，所以dp[i][j]=dp[i-1][j]。\n",
    "\n",
    "3. 初始化：s中的每一个元素和t[0]比较，如果有相等那么上一个值加1，即dp[i][0]=dp[i-1][0]+1，如果不相等就保留上一个值，即dp[i][0]=dp[i-1][0]！这是因为dp的定义是数量！注意接下来不需要t中的每个元素和s[0]比较！因为s[0]只有一个元素不可能包含从t[0]一直到t[i]的字符串的！\n",
    "\n",
    "4. 遍历顺序：两次遍历，类似392\n",
    "\n",
    "# Note\n",
    "\n",
    "\n",
    "# Code"
   ]
  },
  {
   "cell_type": "code",
   "execution_count": null,
   "id": "e281de5d",
   "metadata": {},
   "outputs": [],
   "source": [
    "# 二维数组; Time: O(m * n), Space: O(m * n)，其中m，n分别表示s和t的长度！\n",
    "class Solution:\n",
    "    def numDistinct(self, s: str, t: str) -> int:\n",
    "        dp = [[0] * len(t) for _ in range(len(s))]\n",
    "        \n",
    "        # for i in range(len(s)):\n",
    "        #     if s[i] == t[0]:\n",
    "        #         dp[i][0] = 1\n",
    "        #     if i > 0:\n",
    "        #         dp[i][0] += dp[i - 1][0]\n",
    "        if s[0] == t[0]:\n",
    "            dp[0][0] = 1\n",
    "        for i in range(1, len(s)):\n",
    "            if s[i] == t[0]:\n",
    "                dp[i][0] = dp[i - 1][0] + 1\n",
    "            else:\n",
    "                dp[i][0] = dp[i - 1][0]\n",
    "\n",
    "        for i in range(1, len(s)):\n",
    "            for j in range(1, len(t)):\n",
    "                if s[i] == t[j]:\n",
    "                    dp[i][j] = dp[i - 1][j] + dp[i - 1][j - 1]\n",
    "                else:\n",
    "                    dp[i][j] = dp[i - 1][j]\n",
    "        \n",
    "        return dp[len(s) - 1][len(t) - 1]"
   ]
  }
 ],
 "metadata": {
  "kernelspec": {
   "display_name": "Python 3 (ipykernel)",
   "language": "python",
   "name": "python3"
  },
  "language_info": {
   "codemirror_mode": {
    "name": "ipython",
    "version": 3
   },
   "file_extension": ".py",
   "mimetype": "text/x-python",
   "name": "python",
   "nbconvert_exporter": "python",
   "pygments_lexer": "ipython3",
   "version": "3.10.9"
  }
 },
 "nbformat": 4,
 "nbformat_minor": 5
}

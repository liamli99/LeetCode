{
 "cells": [
  {
   "cell_type": "markdown",
   "id": "009257eb",
   "metadata": {},
   "source": [
    "# Approach\n",
    "注意本题的子序列是不是连续子序列！所以类似300！但其实也不完全一样！   \n",
    "\n",
    "和300，674，718这三题不同，本题定义dp[i][j]的时候不能认为这表示以text1[i]和text2[j]结尾的最大重复子序列的长度！如果这样定义了，那么当text1[i]!=text2[i]时，还是可以写成dp[i][j]=0。但是当text1[i]==text2[j]时，不能写成dp[i][j]=dp[i-1][j-1]+1！因为text1[i]和text2[j]之前可能存在别的重复子序列比以text1[i-1]和text2[j-1]结尾的重复子序列长！！！我要像300题一样再次遍历所有的text1[0]到text1[i]和text2[0]到text2[j]去找最大值！这样的话可能会有4个nested for loop！这点和718题不同，因为718和674都是连续子序列，dp[i][j]必然是只和dp[i-1][j-1]有关！   \n",
    "\n",
    "674和718可以这么定义是因为它们是连续子序列，dp[i](或dp[i][j])只和dp[i-1](或dp[i-1][j-1])有关！我们也要知道尾部元素！\n",
    "\n",
    "300可以这么定义一方面是因为300是递增子序列，必须要知道尾部元素才方便比较！另一方面是因为300只有dp[i]一维数组，哪怕再次遍历也只有两层for loop，可以接受这样的time complexity！\n",
    "\n",
    "综上，我暂时这么认为：只有递增或(和)连续子序列的时候我们才定义dp[i](或dp[i][j])表示以其结尾的最大xx子序列！！！\n",
    "\n",
    "1. 含义：dp[i][j]表示text1[0]到text1[i]和text2[0]到text2[j]中的最大重复子序列的长度为dp[i][j]。\n",
    "\n",
    "2. 递推公式：当text1[i]==text2[j]时，找到了一个重复元素，text1[i]之前和text2[j]之前的最大重复子序列加1！因此dp[i][j]=dp[i-1][j-1]+1。当text1[i]!=text2[j]时，有两个方式，要么是text1[i]之前和text2[j]及其之前的最大重复子序列，要么是text1[i]及其之前和text2[j]之前的最大重复子序列，取最大值，即dp[i][j]=max(dp[i-1][j],dp[i][j-1])！\n",
    "\n",
    "3. 初始化：text1中的每一个元素和text2[0]比较，如果有相等，dp[i][0]=1，且接下来所有的dp[i][0]都是1！text2中的每一个元素和text1[0]比较，如果有相等，dp[0][j]=1，且接下来所有的dp[0][j]都是1！\n",
    "\n",
    "4. 遍历顺序：两次遍历，类似718\n",
    "\n",
    "# Note\n",
    "\n",
    "\n",
    "# Code"
   ]
  },
  {
   "cell_type": "code",
   "execution_count": null,
   "id": "e281de5d",
   "metadata": {},
   "outputs": [],
   "source": [
    "# 二维数组; Time: O(m * n), Space: O(m * n)，其中m，n分别表示text1和text2的长度！\n",
    "class Solution:\n",
    "    def longestCommonSubsequence(self, text1: str, text2: str) -> int:\n",
    "        dp = [[0] * len(text2) for _ in range(len(text1))]\n",
    "\n",
    "        for i in range(len(text1)):\n",
    "            if text1[i] == text2[0]:\n",
    "                for k in range(i, len(text1)):\n",
    "                    dp[k][0] = 1\n",
    "        \n",
    "        for j in range(len(text2)):\n",
    "            if text2[j] == text1[0]:\n",
    "                for k in range(j, len(text2)):\n",
    "                    dp[0][k] = 1\n",
    "        \n",
    "        for i in range(1, len(text1)):\n",
    "            for j in range(1, len(text2)):\n",
    "                if text1[i] == text2[j]:\n",
    "                    dp[i][j] = dp[i - 1][j - 1] + 1\n",
    "                else:\n",
    "                    dp[i][j] = max(dp[i - 1][j], dp[i][j - 1])\n",
    "        \n",
    "        return dp[len(text1) - 1][len(text2) - 1]"
   ]
  },
  {
   "cell_type": "code",
   "execution_count": null,
   "id": "69f8321f",
   "metadata": {},
   "outputs": [],
   "source": [
    "# 一维滚动数组; Time: O(m * n), Space: O(n)，其中m，n分别表示nums1和nums2的长度！\n",
    "\n",
    "# class Solution:\n",
    "#     def findLength(self, nums1: List[int], nums2: List[int]) -> int:\n",
    "#         dp = [0] * len(nums2)\n",
    "#         # 第一行\n",
    "#         for j in range(len(nums2)):\n",
    "#             if nums1[0] == nums2[j]:\n",
    "#                 dp[j] = 1\n",
    "        \n",
    "#         result = max(dp)\n",
    "#         # 第二行一直到最后一行\n",
    "#         for i in range(1, len(nums1)):\n",
    "#             # 每行最后一个元素到第二个元素！第一个元素要单独讨论因为递推公式中j>=1不能取0！\n",
    "#             for j in range(len(nums2) - 1, 0, -1):\n",
    "#                 if nums1[i] == nums2[j]:\n",
    "#                     dp[j] = dp[j - 1] + 1\n",
    "#                 else:\n",
    "#                     dp[j] = 0\n",
    "#             # 单独讨论第一个元素(第一列)\n",
    "#             if nums1[i] == nums2[0]:\n",
    "#                 dp[0] = 1\n",
    "#             else:\n",
    "#                 dp[0] = 0\n",
    "            \n",
    "#             result = max(result, max(dp))\n",
    "        \n",
    "#         return result"
   ]
  }
 ],
 "metadata": {
  "kernelspec": {
   "display_name": "Python 3 (ipykernel)",
   "language": "python",
   "name": "python3"
  },
  "language_info": {
   "codemirror_mode": {
    "name": "ipython",
    "version": 3
   },
   "file_extension": ".py",
   "mimetype": "text/x-python",
   "name": "python",
   "nbconvert_exporter": "python",
   "pygments_lexer": "ipython3",
   "version": "3.10.9"
  }
 },
 "nbformat": 4,
 "nbformat_minor": 5
}

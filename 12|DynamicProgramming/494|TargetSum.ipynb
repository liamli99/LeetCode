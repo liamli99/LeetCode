{
 "cells": [
  {
   "cell_type": "markdown",
   "id": "009257eb",
   "metadata": {},
   "source": [
    "# Approach\n",
    "- 假设加法(+)的总和为X，那么减法(-)的总和就是sum - X，根据题意，`X - (sum - X) = target`，即`X = (target + sum) // 2`！\n",
    "\n",
    "- 由于nums中都是整数，因此`target + sum`也必须是整数！由于X是加法的和，因此`target + sum`必须大于0！\n",
    "\n",
    "- 因此本题可以转化为：从nums中选取一些数字使得它们的和等于`(target + sum) // 2`，求有多少种选取方式 (**组合数**)！\n",
    "\n",
    "- 本题是变种的01背包，背包容量为`(target + sum) // 2`，物品重量为`nums[i]`，此时不用考虑物品价值：\n",
    "  1. dp数组：`dp[i][j]`表示从下标为0-i的物品里任意取，每个物品只能取一次，放进容量为j的背包，选取的物品的总重量恰好为j的选取方式一共有`dp[i][j]`！\n",
    "  \n",
    "  2. 递推公式：\n",
    "    - 当背包容量小于物品i的重量，即`j < nums[i]`时，不要物品i，即`dp[i][j] = dp[i-1][j]` \n",
    "    - 当背包容量大于等于物品i的重量，即`j >= nums[i]`时，可以要也可以不要物品i！如果不要物品i，同上。如果要物品i，`dp[i][j] = dp[i-1][j-nums[i]]`！因此选取方式一共有`dp[i][j] = dp[i-1][j] + dp[i-1][j-nums[i]]`！\n",
    "  \n",
    "  3. 初始化：\n",
    "    - 当`j != nums[0]`时，`dp[0][j] = 0`；当`j == nums[0]`时，`dp[0][j] = 1`\n",
    "    - 当背包容量为0时，如果下标为0-i的物品中重量为0的物品有k个，那么`dp[i][0] = 2^k`；例如，当k=0时，说明没有重量为0的物品，那么`dp[i][0] = 1`，这表示有一种方法：放0件物品(一件物品都不放)！\n",
    "    - 必须要按照上方的顺序来初始化！因为当`nums[0] = 0`时，我们希望`dp[0][0]`的值为2，而不是1！！！\n",
    "  \n",
    "  4. 遍历顺序：两层遍历，先遍历物品，再遍历背包容量！\n",
    "\n",
    "# Code"
   ]
  },
  {
   "cell_type": "code",
   "execution_count": null,
   "id": "75f0b3ec",
   "metadata": {},
   "outputs": [],
   "source": [
    "# Time: O(n * (target + sum)), Space: O(n * (target + sum))\n",
    "from typing import List\n",
    "class Solution:\n",
    "    def findTargetSumWays(self, nums: List[int], target: int) -> int:\n",
    "        # X必须是偶数，并且大于等于0！\n",
    "        if (target + sum(nums)) % 2 == 1:\n",
    "            return 0\n",
    "        if target + sum(nums) < 0:\n",
    "            return 0\n",
    "\n",
    "        bagweight = (target + sum(nums)) // 2\n",
    "\n",
    "        dp = [[0] * (bagweight + 1) for _ in range(len(nums))]\n",
    "        \n",
    "        # 初始化，顺序不能变！\n",
    "        if bagweight >= nums[0]:\n",
    "            dp[0][nums[0]] = 1\n",
    "        zeroCount = 0\n",
    "        for i in range(len(nums)):\n",
    "            if nums[i] == 0:\n",
    "                zeroCount += 1\n",
    "            dp[i][0] = 2 ** zeroCount\n",
    "        \n",
    "        for i in range(1, len(nums)):\n",
    "            for j in range(bagweight + 1):\n",
    "                if j < nums[i]:\n",
    "                    dp[i][j] = dp[i - 1][j]\n",
    "                else:\n",
    "                    dp[i][j] = dp[i - 1][j] + dp[i - 1][j - nums[i]]\n",
    "        \n",
    "        return dp[-1][-1]"
   ]
  },
  {
   "cell_type": "code",
   "execution_count": null,
   "id": "e281de5d",
   "metadata": {},
   "outputs": [],
   "source": [
    "# 空间优化\n",
    "# Time: O(n * (target + sum)), Space: O(target + sum)\n",
    "class Solution:\n",
    "    def findTargetSumWays(self, nums: List[int], target: int) -> int:\n",
    "        if (target + sum(nums)) % 2 == 1:\n",
    "            return 0\n",
    "        if (target + sum(nums)) < 0:\n",
    "            return 0\n",
    "        \n",
    "        bagweight = (target + sum(nums)) // 2\n",
    "        \n",
    "        dp = [0] * (bagweight + 1)\n",
    "        dp[0] = 1\n",
    "\n",
    "        for i in range(len(nums)):  \n",
    "            for j in range(bagweight, nums[i] - 1, -1):  \n",
    "                dp[j] += dp[j - nums[i]]\n",
    "\n",
    "        return dp[-1]"
   ]
  }
 ],
 "metadata": {
  "kernelspec": {
   "display_name": "Python 3 (ipykernel)",
   "language": "python",
   "name": "python3"
  },
  "language_info": {
   "codemirror_mode": {
    "name": "ipython",
    "version": 3
   },
   "file_extension": ".py",
   "mimetype": "text/x-python",
   "name": "python",
   "nbconvert_exporter": "python",
   "pygments_lexer": "ipython3",
   "version": "3.10.9"
  }
 },
 "nbformat": 4,
 "nbformat_minor": 5
}

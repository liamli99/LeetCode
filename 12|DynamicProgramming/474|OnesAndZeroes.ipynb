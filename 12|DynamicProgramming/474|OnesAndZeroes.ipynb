{
 "cells": [
  {
   "cell_type": "markdown",
   "id": "009257eb",
   "metadata": {},
   "source": [
    "# Approach\n",
    "- 本题是变种的01背包，因为不同于普通的01背包，本题的背包有两种容量：即0和1的数量上限(m和n)！每个物品的重量为该字符串中0和1的数量，价值为1！\n",
    "\n",
    "- 在优化空间的情况下，我们仍然需要二维数组`dp[j][k]`，表示从所有物品里任意取，放进容量为j和k的背包，总价值最大为`dp[j][k]`!\n",
    "\n",
    "# Code"
   ]
  },
  {
   "cell_type": "code",
   "execution_count": null,
   "id": "0da1d61e",
   "metadata": {},
   "outputs": [],
   "source": [
    "# Time: O(len(strs) * m * n), Space: O(m * n)\n",
    "from typing import List\n",
    "class Solution:\n",
    "    def findMaxForm(self, strs: List[str], m: int, n: int) -> int:\n",
    "        dp = [[0] * (n + 1) for _ in range(m + 1)]\n",
    "\n",
    "        # 先遍历物品\n",
    "        for s in strs:\n",
    "            # 计算物品的重量\n",
    "            zeroNum, oneNum = 0, 0\n",
    "            for char in s:\n",
    "                if char == '0':\n",
    "                    zeroNum += 1\n",
    "                else:\n",
    "                    oneNum += 1\n",
    "            \n",
    "            # 再遍历背包容量\n",
    "            for j in range(m, zeroNum - 1, -1):\n",
    "                for k in range(n, oneNum - 1, -1):\n",
    "                    dp[j][k] = max(dp[j][k], dp[j - zeroNum][k - oneNum] + 1)\n",
    "            \n",
    "        return dp[-1][-1]"
   ]
  }
 ],
 "metadata": {
  "kernelspec": {
   "display_name": "Python 3 (ipykernel)",
   "language": "python",
   "name": "python3"
  },
  "language_info": {
   "codemirror_mode": {
    "name": "ipython",
    "version": 3
   },
   "file_extension": ".py",
   "mimetype": "text/x-python",
   "name": "python",
   "nbconvert_exporter": "python",
   "pygments_lexer": "ipython3",
   "version": "3.10.14"
  }
 },
 "nbformat": 4,
 "nbformat_minor": 5
}

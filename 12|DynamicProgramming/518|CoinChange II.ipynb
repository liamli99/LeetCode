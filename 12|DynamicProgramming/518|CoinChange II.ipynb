{
 "cells": [
  {
   "cell_type": "markdown",
   "id": "009257eb",
   "metadata": {},
   "source": [
    "# Approach\n",
    "- 基本类同494，不过是完全背包！\n",
    "\n",
    "# Code"
   ]
  },
  {
   "cell_type": "code",
   "execution_count": null,
   "id": "d5404e38",
   "metadata": {},
   "outputs": [],
   "source": [
    "# Time: O(n * amount), Space: O(amount)\n",
    "from typing import List\n",
    "class Solution:\n",
    "    def change(self, amount: int, coins: List[int]) -> int:\n",
    "        bagweight = amount\n",
    "\n",
    "        dp = [0] * (bagweight + 1)\n",
    "        dp[0] = 1\n",
    "\n",
    "        for i in range(len(coins)):\n",
    "            for j in range(coins[i], bagweight + 1):\n",
    "                dp[j] += dp[j - coins[i]]\n",
    "        \n",
    "        return dp[-1]"
   ]
  }
 ],
 "metadata": {
  "kernelspec": {
   "display_name": "Python 3 (ipykernel)",
   "language": "python",
   "name": "python3"
  },
  "language_info": {
   "codemirror_mode": {
    "name": "ipython",
    "version": 3
   },
   "file_extension": ".py",
   "mimetype": "text/x-python",
   "name": "python",
   "nbconvert_exporter": "python",
   "pygments_lexer": "ipython3",
   "version": "3.10.14"
  }
 },
 "nbformat": 4,
 "nbformat_minor": 5
}

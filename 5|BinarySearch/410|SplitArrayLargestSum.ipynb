{
 "cells": [
  {
   "cell_type": "markdown",
   "id": "7d405163",
   "metadata": {},
   "source": [
    "# Approach\n",
    "和1011完全相同！\n",
    "\n",
    "# Code"
   ]
  },
  {
   "cell_type": "code",
   "execution_count": null,
   "id": "cdcaa6af",
   "metadata": {},
   "outputs": [],
   "source": [
    "# Binary Search: [left, right]\n",
    "# Time: O(len(nums) * log (sum(nums))), Space: O(1)\n",
    "class Solution:\n",
    "    def splitArray(self, nums: List[int], k: int) -> int:\n",
    "        left, right = max(nums), sum(nums)\n",
    "        mls = -1\n",
    "\n",
    "        while left <= right:\n",
    "            mid = (left + right) // 2\n",
    "            if self.canSplit(nums, k, mid):\n",
    "                mls = mid\n",
    "                right = mid - 1\n",
    "            else:\n",
    "                left = mid + 1\n",
    "        \n",
    "        # 根据题意必然存在一个minimized largest sum正好可以将nums分成k部分\n",
    "        return mls\n",
    "\n",
    "    def canSplit(self, nums, k, largestSum):\n",
    "        kSum = 1\n",
    "        numSum = 0\n",
    "        for num in nums:\n",
    "            if numSum + num >  largestSum:\n",
    "               kSum += 1\n",
    "               numSum = num\n",
    "            else:\n",
    "                numSum += num\n",
    "        return kSum <= k"
   ]
  }
 ],
 "metadata": {
  "kernelspec": {
   "display_name": "Python 3 (ipykernel)",
   "language": "python",
   "name": "python3"
  },
  "language_info": {
   "codemirror_mode": {
    "name": "ipython",
    "version": 3
   },
   "file_extension": ".py",
   "mimetype": "text/x-python",
   "name": "python",
   "nbconvert_exporter": "python",
   "pygments_lexer": "ipython3",
   "version": "3.10.9"
  }
 },
 "nbformat": 4,
 "nbformat_minor": 5
}

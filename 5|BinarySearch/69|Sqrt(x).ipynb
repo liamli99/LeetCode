{
 "cells": [
  {
   "cell_type": "markdown",
   "id": "7d405163",
   "metadata": {},
   "source": [
    "# Approach\n",
    "1. 方法一：   \n",
    "由于x是非负数，0-x之间所有数字的平方与x的关系是：小于等于，...，小于等于，大于，...，大于！小于等于最后一次出现的位置(右侧边界)就是x的平方根！！！因此本题是34题的简单形式！\n",
    "\n",
    "2. 方法二：   \n",
    "我们也可以根据平方根的定义来写binary search: 该数的平方小于等于x，该数加1的平方大于x！！！\n",
    "\n",
    "# Code"
   ]
  },
  {
   "cell_type": "code",
   "execution_count": null,
   "id": "aa677559",
   "metadata": {},
   "outputs": [],
   "source": [
    "# Binary Search: [left, right]\n",
    "# Time: O(log n), Space: O(1)\n",
    "class Solution:\n",
    "    def mySqrt(self, x: int) -> int:\n",
    "        left, right = 0, x\n",
    "        result = -1\n",
    "\n",
    "        while left <= right:\n",
    "            mid = (left + right) // 2\n",
    "            if mid ** 2 > x:\n",
    "                right = mid - 1\n",
    "            else:\n",
    "                result = mid\n",
    "                left = mid + 1\n",
    "        \n",
    "        # result必定不是-1，因为非负数的平方根必定存在，因此result必定会被赋值\n",
    "        return result"
   ]
  },
  {
   "cell_type": "code",
   "execution_count": null,
   "id": "bd53e732",
   "metadata": {},
   "outputs": [],
   "source": [
    "class Solution:\n",
    "    def mySqrt(self, x: int) -> int:\n",
    "        left, right = 0, x\n",
    "\n",
    "        while left <= right:\n",
    "            mid = (left + right) // 2\n",
    "            \n",
    "            if mid ** 2 <= x and (mid + 1) ** 2 > x:\n",
    "                return mid\n",
    "            elif mid ** 2 > x:\n",
    "                right = mid - 1\n",
    "            # elif (mid + 1) ** 2 <= x\n",
    "            else:\n",
    "                left = mid + 1"
   ]
  }
 ],
 "metadata": {
  "kernelspec": {
   "display_name": "Python 3 (ipykernel)",
   "language": "python",
   "name": "python3"
  },
  "language_info": {
   "codemirror_mode": {
    "name": "ipython",
    "version": 3
   },
   "file_extension": ".py",
   "mimetype": "text/x-python",
   "name": "python",
   "nbconvert_exporter": "python",
   "pygments_lexer": "ipython3",
   "version": "3.10.9"
  }
 },
 "nbformat": 4,
 "nbformat_minor": 5
}

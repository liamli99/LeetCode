{
 "cells": [
  {
   "cell_type": "markdown",
   "id": "7d405163",
   "metadata": {},
   "source": [
    "# Approach\n",
    "- 本题是162的子集，因为本题不会出现peak是第一个或最后一个元素的情况！！！因此162的代码完全适用本题！\n",
    "\n",
    "- 当然，我们也可以写符合本题的binary search！由于本题是mountain array，根据constraints，我们从[1, len(arr) - 2]进行binary search！！！\n",
    "\n",
    "\n",
    "# Code"
   ]
  },
  {
   "cell_type": "code",
   "execution_count": null,
   "id": "cdcaa6af",
   "metadata": {},
   "outputs": [],
   "source": [
    "# Binary Search: [left, right]\n",
    "# Time: O(log n), Space: O(1)\n",
    "class Solution:\n",
    "    def peakIndexInMountainArray(self, arr: List[int]) -> int:\n",
    "        left, right = 1, len(arr) - 2\n",
    "        \n",
    "        while left <= right:\n",
    "            mid = (left + right) // 2\n",
    "            \n",
    "            if arr[mid] > arr[mid - 1] and arr[mid] > arr[mid + 1]:\n",
    "                return mid\n",
    "            elif arr[mid] < arr[mid - 1]:\n",
    "                right = mid - 1\n",
    "            # elif arr[mid] < arr[mid + 1]\n",
    "            else:\n",
    "                left = mid + 1\n",
    "        \n",
    "        # 不需要在结束循环后再return sth，这是因为根据题意arr中必然存在peak！！！"
   ]
  }
 ],
 "metadata": {
  "kernelspec": {
   "display_name": "Python 3 (ipykernel)",
   "language": "python",
   "name": "python3"
  },
  "language_info": {
   "codemirror_mode": {
    "name": "ipython",
    "version": 3
   },
   "file_extension": ".py",
   "mimetype": "text/x-python",
   "name": "python",
   "nbconvert_exporter": "python",
   "pygments_lexer": "ipython3",
   "version": "3.10.9"
  }
 },
 "nbformat": 4,
 "nbformat_minor": 5
}

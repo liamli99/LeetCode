{
 "cells": [
  {
   "cell_type": "markdown",
   "id": "7d405163",
   "metadata": {},
   "source": [
    "# Approach\n",
    "- 本道题的例题和题目描述有点含糊，我重新描述一下：给定1，...，n，每个数字分别代表version，从左往右看，假如中间有一个version k是第一个bad，1<=k<=n，那么所有的k，...，n都是bad！因此version 1，...，n的情况应该是good，...，good，bad，...，bad！！！如果用isBadVersion来表示，那么version 1，...，n应该是False，...，False，True，...，True！！！\n",
    "\n",
    "- 本道题要找到第一个bad version，就是要找到True第一次开始出现的位置(左侧边界)！因此本题实质上就是34题的简单形式！\n",
    "\n",
    "# Code"
   ]
  },
  {
   "cell_type": "code",
   "execution_count": null,
   "id": "cdcaa6af",
   "metadata": {},
   "outputs": [],
   "source": [
    "# Binary Search: [left, right] \n",
    "# Time: O(log n), Space: O(1)\n",
    "class Solution:\n",
    "    def firstBadVersion(self, n: int) -> int:\n",
    "        left, right = 1, n\n",
    "        idx = -1\n",
    "        \n",
    "        while left <= right:\n",
    "            mid = (left + right) // 2\n",
    "            # Good version\n",
    "            if not isBadVersion(mid):\n",
    "                left = mid + 1\n",
    "            # Bad version\n",
    "            else:\n",
    "                idx = mid\n",
    "                right = mid - 1\n",
    "        \n",
    "        # idx必定不是-1，因为根据题意bad version必定存在，因此idx必定会被赋值\n",
    "        return idx"
   ]
  }
 ],
 "metadata": {
  "kernelspec": {
   "display_name": "Python 3 (ipykernel)",
   "language": "python",
   "name": "python3"
  },
  "language_info": {
   "codemirror_mode": {
    "name": "ipython",
    "version": 3
   },
   "file_extension": ".py",
   "mimetype": "text/x-python",
   "name": "python",
   "nbconvert_exporter": "python",
   "pygments_lexer": "ipython3",
   "version": "3.10.9"
  }
 },
 "nbformat": 4,
 "nbformat_minor": 5
}

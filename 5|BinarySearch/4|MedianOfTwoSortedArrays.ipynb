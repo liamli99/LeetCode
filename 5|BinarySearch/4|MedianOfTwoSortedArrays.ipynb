{
 "cells": [
  {
   "cell_type": "markdown",
   "id": "7d405163",
   "metadata": {},
   "source": [
    "# Approach\n",
    "两个array虽然是递增的，但是两者没有关系！第一眼的想法是用排序算法先将两个array按照递增顺序排成一个array！但是任何排序算法的time complexity都大于O(logn)！   \n",
    "\n",
    "先介绍一个非常巧妙的方法：两个数组合并之后新递增数组的中位数，可以把新数组分成左右两部分，新数组的左边部分就是原来的两个数组的左边部分(也可能是全部数组)组成的！这两个原来的数组的左边部分有一个特点，它们不仅小于等于本身数组的右边部分，而且还小于等于对方数组的右边部分！这样才能保证合并完之后这两个左边部分是新递增数组的左边部分！！！   \n",
    "\n",
    "因此我们可以从较短的数组开始进行binary search，left和right分别是0和len(较小数组)-1。先找到其中间元素的坐标mid，假定0到mid就是该数组的左边部分，那么较长数组的左边部分的长度可以由总长度的一半减去mid得到！那么较长数组的左边部分也有了！我们可以确定左边部分小于等于本身数组的右边部分，因此我们只需要比较左边部分和对方数组的右边部分！如果都小于等于，那么我们就找到了可以组成新递增数组的左边部分的两个左边部分！可以轻松求出中位数！如果较短数组的左边部分有元素大于较长数组的右边部分中的某个元素，那么我们要减少较短数组的左边部分的数量，因此right=mid-1！如果较长数组的左边部分有元素大于较短数组的右边部分中的某个元素，那么我们要增加较短数组的左边部分的数量，因此left=mid+1！   \n",
    "\n",
    "但其实上述做法有点问题！如果我们完全不取较短数组的元素怎么办？那么left的初始值就不能是0！可以赋值-1！那么此时\n",
    "\n",
    "\n",
    "\n",
    "# Code"
   ]
  },
  {
   "cell_type": "code",
   "execution_count": null,
   "id": "cdcaa6af",
   "metadata": {},
   "outputs": [],
   "source": [
    "# Time: O(), Space: O()\n",
    "from typing import List\n",
    "class Solution:\n",
    "    def findMedianSortedArrays(self, nums1: List[int], nums2: List[int]) -> float:\n",
    "        # 令A为nums1和nums2中较短的数组，对其进行binary search！\n",
    "        A, B = nums1, nums2\n",
    "        if len(A) > len(B):\n",
    "           A, B = B, A\n",
    "        \n",
    "        half = (len(A) + len(B)) // 2\n",
    "        # -1表示不取A中的元素！\n",
    "        left, right = -1, len(A) - 1\n",
    "        \n",
    "        while left <= right:\n",
    "            # A中左边部分的最右边的元素的index，注意i最小可以取到-1！表示不取A中的元素！\n",
    "            i = (left + right) // 2 \n",
    "            # B中左边部分的最右边的元素的index\n",
    "            # A中左边部分的元素数量是i+1，那么B中左边部分的元素数量是half-(i+1)，其index是half-(i+1)-1！\n",
    "            # 注意j最小可以取到-1！表示不取B中的元素！\n",
    "            j = half - i - 2 \n",
    "\n",
    "            # 注意下面的else是为了避免左边部分选取A中的全部元素或A中的一个元素都不取所导致index out of range！\n",
    "            # else后赋的值帮我们在正常讨论时涵盖上述情况，不用单独讨论上述情况！！！！\n",
    "\n",
    "            # A中左边部分的最右边的元素\n",
    "            Aleft = A[i] if i >= 0 else float(\"-inf\")\n",
    "            # A中右边边部分的最左边的元素\n",
    "            Aright = A[i + 1] if (i + 1) < len(A) else float(\"inf\")\n",
    "            # B中左边部分的最右边的元素\n",
    "            Bleft = B[j] if j >= 0 else float(\"-inf\")\n",
    "            # B中右边部分的最右边的元素\n",
    "            Bright = B[j + 1] if (j + 1) < len(B) else float(\"inf\")\n",
    "\n",
    "            # 我们找到了正确的左边部分\n",
    "            if Aleft <= Bright and Bleft <= Aright:\n",
    "                # 总数量为奇数\n",
    "                if (len(A) + len(B)) % 2 == 1:\n",
    "                    return min(Aright, Bright)\n",
    "                # 总数量为偶数\n",
    "                else:\n",
    "                    return (max(Aleft, Bleft) + min(Aright, Bright)) / 2\n",
    "            elif Aleft > Bright:\n",
    "                right = i - 1\n",
    "            else:\n",
    "                left = i + 1\n",
    "                "
   ]
  }
 ],
 "metadata": {
  "kernelspec": {
   "display_name": "Python 3 (ipykernel)",
   "language": "python",
   "name": "python3"
  },
  "language_info": {
   "codemirror_mode": {
    "name": "ipython",
    "version": 3
   },
   "file_extension": ".py",
   "mimetype": "text/x-python",
   "name": "python",
   "nbconvert_exporter": "python",
   "pygments_lexer": "ipython3",
   "version": "3.10.9"
  }
 },
 "nbformat": 4,
 "nbformat_minor": 5
}

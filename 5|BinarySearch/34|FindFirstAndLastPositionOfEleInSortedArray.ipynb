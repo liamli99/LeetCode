{
 "cells": [
  {
   "cell_type": "markdown",
   "id": "7d405163",
   "metadata": {},
   "source": [
    "# Approach\n",
    "有序数组，有重复元素，因此本题要我们找的是target开始出现和最后一次出现的位置！\n",
    "\n",
    "# Code"
   ]
  },
  {
   "cell_type": "code",
   "execution_count": null,
   "id": "cdcaa6af",
   "metadata": {},
   "outputs": [],
   "source": [
    "# Binary Search: [left, right] + [left, right]\n",
    "# Time: O(log n), Space: O(1)\n",
    "class Solution:\n",
    "    def searchRange(self, nums: List[int], target: int) -> List[int]:\n",
    "        return [self.left_bound(nums, target), self.right_bound(nums, target)]\n",
    "\n",
    "    def left_bound(self, nums, target):\n",
    "        left, right = 0, len(nums) - 1\n",
    "        # 我们要先定义该变量用来不断记录出现的位置，当退出循环后，该位置就是第一次出现的位置！\n",
    "        idx = -1\n",
    "        while left <= right:\n",
    "            mid = (left + right) // 2\n",
    "            if nums[mid] == target:\n",
    "                # 注意这里和704不同，找到相等的值后不能直接返回mid，因为我们要返回的是第一次出现的位置！\n",
    "                idx = mid\n",
    "                right = mid - 1\n",
    "            elif nums[mid] < target:\n",
    "                left = mid + 1\n",
    "            elif nums[mid] > target:\n",
    "                right = mid - 1\n",
    "        return idx\n",
    "    \n",
    "    def right_bound(self, nums, target):\n",
    "        left, right = 0, len(nums) - 1\n",
    "        idx = -1\n",
    "        while left <= right:\n",
    "            mid = (left + right) // 2\n",
    "            if nums[mid] == target:\n",
    "                idx = mid\n",
    "                # left_bound和right_bound的唯一区别！\n",
    "                left = mid + 1\n",
    "            elif nums[mid] < target:\n",
    "                left = mid + 1\n",
    "            elif nums[mid] > target:\n",
    "                right = mid - 1\n",
    "        return idx"
   ]
  },
  {
   "cell_type": "code",
   "execution_count": null,
   "id": "b2e022e3",
   "metadata": {},
   "outputs": [],
   "source": [
    "# Binary Search: [left, right) + [left, right)\n",
    "class Solution:\n",
    "    def searchRange(self, nums: List[int], target: int) -> List[int]:\n",
    "        return [self.left_bound(nums, target), self.right_bound(nums, target)]\n",
    "\n",
    "    def left_bound(self, nums, target):\n",
    "        left, right = 0, len(nums)\n",
    "        idx = -1\n",
    "        while left < right:\n",
    "            mid = (left + right) // 2\n",
    "            if nums[mid] == target:\n",
    "                idx = mid\n",
    "                right = mid\n",
    "            elif nums[mid] < target:\n",
    "                left = mid + 1\n",
    "            elif nums[mid] > target:\n",
    "                right = mid\n",
    "        return idx\n",
    "    \n",
    "    def right_bound(self, nums, target):\n",
    "        left, right = 0, len(nums)\n",
    "        idx = -1\n",
    "        while left < right:\n",
    "            mid = (left + right) // 2\n",
    "            if nums[mid] == target:\n",
    "                idx = mid\n",
    "                left = mid + 1\n",
    "            elif nums[mid] < target:\n",
    "                left = mid + 1\n",
    "            elif nums[mid] > target:\n",
    "                right = mid\n",
    "        return idx"
   ]
  }
 ],
 "metadata": {
  "kernelspec": {
   "display_name": "Python 3 (ipykernel)",
   "language": "python",
   "name": "python3"
  },
  "language_info": {
   "codemirror_mode": {
    "name": "ipython",
    "version": 3
   },
   "file_extension": ".py",
   "mimetype": "text/x-python",
   "name": "python",
   "nbconvert_exporter": "python",
   "pygments_lexer": "ipython3",
   "version": "3.10.14"
  }
 },
 "nbformat": 4,
 "nbformat_minor": 5
}

{
 "cells": [
  {
   "cell_type": "markdown",
   "id": "7d405163",
   "metadata": {},
   "source": [
    "# Approach\n",
    "本题基本类似1011和410，但是区别在于当minimum integer k大于`piles[i]`时，吃完`piles[i]`之后就不再吃了！！！因此Constraints中说明h的范围是[len(piles), 10^9]，所以minimal integer k的范围是[1, max(piles)]！我们要对这个范围进行binary search！   \n",
    "\n",
    "# Note\n",
    "math.ceil()：如果是小数就向上(数轴右边)取整！如果是整数就保持不变！   \n",
    "math.floor()：如果是小数就向下(数轴左边)取整！如果是整数就保持不变！   \n",
    "\n",
    "# Code"
   ]
  },
  {
   "cell_type": "code",
   "execution_count": null,
   "id": "cdcaa6af",
   "metadata": {},
   "outputs": [],
   "source": [
    "# Binary Search: [left, right]\n",
    "# Time: O(len(piles) * log (max(piles))), Space: O(1)\n",
    "import math\n",
    "class Solution:\n",
    "    def minEatingSpeed(self, piles: List[int], h: int) -> int:\n",
    "        left, right = 1, max(piles)\n",
    "        minIntK = 0\n",
    "\n",
    "        while left <= right:\n",
    "            mid = (left + right) // 2\n",
    "            if self.canEat(piles, h, mid):\n",
    "                minIntK = mid\n",
    "                right = mid - 1\n",
    "            else:\n",
    "                left = mid + 1\n",
    "        \n",
    "        # 根据题意必然存在一个minimum integer正好可以在h小时内吃完所有香蕉\n",
    "        return minIntK\n",
    "    \n",
    "    # 逻辑与1011和410不同！\n",
    "    def canEat(self, piles, h, integer):\n",
    "        hourSum = 0\n",
    "        for p in piles:\n",
    "            hourSum += math.ceil(p / integer)\n",
    "        return hourSum <= h"
   ]
  }
 ],
 "metadata": {
  "kernelspec": {
   "display_name": "Python 3 (ipykernel)",
   "language": "python",
   "name": "python3"
  },
  "language_info": {
   "codemirror_mode": {
    "name": "ipython",
    "version": 3
   },
   "file_extension": ".py",
   "mimetype": "text/x-python",
   "name": "python",
   "nbconvert_exporter": "python",
   "pygments_lexer": "ipython3",
   "version": "3.10.9"
  }
 },
 "nbformat": 4,
 "nbformat_minor": 5
}

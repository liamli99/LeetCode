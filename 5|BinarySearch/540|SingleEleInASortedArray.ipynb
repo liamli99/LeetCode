{
 "cells": [
  {
   "cell_type": "markdown",
   "id": "7d405163",
   "metadata": {},
   "source": [
    "# Approach\n",
    "- 本道题要在O(logn)时间和O(1)空间找到某个元素，因此优先考虑binary search！\n",
    "\n",
    "- 本题类似162，如果`nums[mid]`和`nums[mid-1]`，`nums[mid+1]`都不相等，那么直接返回`nums[mid]`！但是当`nums[mid]==nums[mid-1]`或`nums[mid]==nums[mid+1]`时，本题好像没有办法像162那样可以很明确的选出下次搜索从哪边开始！但是事实上，我们可以确定下次搜索从哪开始！！！   \n",
    "\n",
    "- 注意题目中说只有一个元素是单独的，所有元素都是成双的！因此当我们搜索到两个相同元素时，如果这两个相同元素的左边所有元素的数量是奇数，这就说明单独的元素就在左边(偶+奇=奇)！！！\n",
    "\n",
    "- 本题的sorted完全是多余条件！ \n",
    "\n",
    "# Note\n",
    "注意list slicing和list index不同，假如nums是[1, 2, 3]，那么`nums[3]`就会出错，index out of range！但是`nums[3:]`不会出错，返回的结果是[]！`nums[1:100]`也不会出错，返回的结果是[2, 3]！！！   \n",
    "\n",
    "# Code"
   ]
  },
  {
   "cell_type": "code",
   "execution_count": null,
   "id": "cdcaa6af",
   "metadata": {},
   "outputs": [],
   "source": [
    "# Binary Search: [left, right]\n",
    "# Time: O(log n), Space: O(1)\n",
    "class Solution:\n",
    "    def singleNonDuplicate(self, nums: List[int]) -> int:\n",
    "        left, right = 0, len(nums) - 1\n",
    "        \n",
    "        while left <= right:\n",
    "            mid = (left + right) // 2\n",
    "            \n",
    "            if (mid == 0 or nums[mid] != nums[mid - 1]) and (mid == len(nums) - 1 or nums[mid] != nums[mid + 1]):\n",
    "                return nums[mid]\n",
    "            elif mid > 0 and nums[mid] == nums[mid - 1]:\n",
    "                if (mid + 1) % 2 == 0:\n",
    "                    left = mid + 1\n",
    "                else:\n",
    "                    right = mid - 1\n",
    "            # elif mid < len(nums) - 1 and nums[mid] == nums[mid + 1]\n",
    "            else:\n",
    "                if (mid + 1) % 2 == 0:\n",
    "                    right = mid - 1\n",
    "                else:\n",
    "                    left = mid + 1\n",
    "        \n",
    "        # 不需要在结束循环后再return sth，这是因为根据题意nums中必然存在single element！！！"
   ]
  }
 ],
 "metadata": {
  "kernelspec": {
   "display_name": "Python 3 (ipykernel)",
   "language": "python",
   "name": "python3"
  },
  "language_info": {
   "codemirror_mode": {
    "name": "ipython",
    "version": 3
   },
   "file_extension": ".py",
   "mimetype": "text/x-python",
   "name": "python",
   "nbconvert_exporter": "python",
   "pygments_lexer": "ipython3",
   "version": "3.10.14"
  }
 },
 "nbformat": 4,
 "nbformat_minor": 5
}

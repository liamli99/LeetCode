{
 "cells": [
  {
   "cell_type": "markdown",
   "id": "7d405163",
   "metadata": {},
   "source": [
    "# Approach\n",
    "本题类似69，但是本题是检查num是否是某个整数的平方，即检查能否找到num的整数平方根，而69题是找到平方根的整数形式！！！\n",
    "\n",
    "# Code"
   ]
  },
  {
   "cell_type": "code",
   "execution_count": null,
   "id": "aa677559",
   "metadata": {},
   "outputs": [],
   "source": [
    "# Binary Search: [left, right]\n",
    "# Time: O(log n), Space: O(1)\n",
    "class Solution:\n",
    "    def isPerfectSquare(self, num: int) -> bool:\n",
    "      left, right = 1, num\n",
    "\n",
    "      while left <= right:\n",
    "        mid = (left + right) // 2\n",
    "\n",
    "        if mid ** 2 == num:\n",
    "          return True\n",
    "        elif mid ** 2 > num:\n",
    "          right = mid - 1\n",
    "        else:\n",
    "          left  = mid + 1\n",
    "      \n",
    "      return False"
   ]
  }
 ],
 "metadata": {
  "kernelspec": {
   "display_name": "Python 3 (ipykernel)",
   "language": "python",
   "name": "python3"
  },
  "language_info": {
   "codemirror_mode": {
    "name": "ipython",
    "version": 3
   },
   "file_extension": ".py",
   "mimetype": "text/x-python",
   "name": "python",
   "nbconvert_exporter": "python",
   "pygments_lexer": "ipython3",
   "version": "3.10.9"
  }
 },
 "nbformat": 4,
 "nbformat_minor": 5
}

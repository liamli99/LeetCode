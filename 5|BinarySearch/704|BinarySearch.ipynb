{
 "cells": [
  {
   "cell_type": "markdown",
   "id": "7d405163",
   "metadata": {},
   "source": [
    "# Approach\n",
    "- 有序数组，无重复元素，因此可以用二分查找!\n",
    "\n",
    "- 其实如果题目是有序数组就可以使用二分查找了！如果无重复元素，那么我们可以找到具体某个元素的具体位置，例如本题和35题；如果有重复元素，那么我们可以找到某个元素开始出现和最后一次出现的位置，例如34题！\n",
    "\n",
    "- 二分查找有两种方式：1.左闭右闭，即target在`[left, right]`的区间中！2.左闭右开，即target在`[left, right)`的区间中！\n",
    "\n",
    "# Note\n",
    "## Python List Slicing   \n",
    "1. Syntax: lst[start:stop:step] \n",
    "2. Meaning: if step > 0, 从start作为index的element开始，从左向右到stop作为index的element的左边一个结束！if step < 0,从start作为index的element开始，从右向左到stop作为index的element的右边一个结束！即include start, not include stop!\n",
    "3. start, stop, step均可为负数！step的正负表示顺序, 若不写则默认为1， start必须从左向右到stop！start和stop为正，从0开始从左向右；start和stop为负，从-1开始从右向左\n",
    "4. Abbreviation: L[start:stop] = L[start:stop:1]; L[:stop] = L[0:stop:1]; L[start:] = L[start:len(L):1]\n",
    "5. Tricks: reverse a list: L[::-1]\n",
    "\n",
    "# Code"
   ]
  },
  {
   "cell_type": "code",
   "execution_count": null,
   "id": "cdcaa6af",
   "metadata": {},
   "outputs": [],
   "source": [
    "# Binary Search: [left, right]\n",
    "# Time: O(log n), Space: O(1)\n",
    "class Solution:\n",
    "    def search(self, nums: List[int], target: int) -> int:\n",
    "        # 由于是左闭右闭，一开始的left和right就取nums中的头尾两个index！\n",
    "        left, right = 0, len(nums) - 1\n",
    "        # 由于是左闭右闭，left == right也有意义！此时的[left, right]就表示一个数字！\n",
    "        while left <= right:\n",
    "            mid = (left + right) // 2\n",
    "            if nums[mid] == target:\n",
    "                return mid\n",
    "            # mid不是所求的index，那下一个left一定从mid+1开始！由于是左闭，left可以取到mid+1！\n",
    "            elif nums[mid] < target:\n",
    "                left = mid + 1\n",
    "            # mid不是所求的index，那下一个right一定从mid-1开始！由于是右闭，right可以取到mid-1！\n",
    "            elif nums[mid] > target:\n",
    "                right = mid - 1\n",
    "                \n",
    "        return -1"
   ]
  },
  {
   "cell_type": "code",
   "execution_count": null,
   "id": "b2e022e3",
   "metadata": {},
   "outputs": [],
   "source": [
    "# Binary Search: [left, right)\n",
    "# 和[left, right]相比有三处不同！\n",
    "class Solution:\n",
    "    def search(self, nums: List[int], target: int) -> int:\n",
    "        # 由于是左闭右开，一开始的left可以取nums的头，但是right要比nums的尾还多一点！\n",
    "        left = 0\n",
    "        right = len(nums)\n",
    "        # 由于是左闭右开，left==right没有意义！形如[a, a)没有意义！\n",
    "        while left < right:\n",
    "            mid = (left + right) // 2\n",
    "            if nums[mid] == target:\n",
    "                return mid\n",
    "            # mid不是所求的index，那下一个left一定从mid+1开始！由于是左闭，left可以取到mid+1！\n",
    "            elif nums[mid] < target:\n",
    "                left = mid + 1\n",
    "            # mid不是所求的index，那下一个right一定从mid-1开始！由于是右开，left可以取到mid！\n",
    "            elif nums[mid] > target:\n",
    "                right = mid\n",
    "        \n",
    "        return -1"
   ]
  }
 ],
 "metadata": {
  "kernelspec": {
   "display_name": "Python 3 (ipykernel)",
   "language": "python",
   "name": "python3"
  },
  "language_info": {
   "codemirror_mode": {
    "name": "ipython",
    "version": 3
   },
   "file_extension": ".py",
   "mimetype": "text/x-python",
   "name": "python",
   "nbconvert_exporter": "python",
   "pygments_lexer": "ipython3",
   "version": "3.10.14"
  }
 },
 "nbformat": 4,
 "nbformat_minor": 5
}

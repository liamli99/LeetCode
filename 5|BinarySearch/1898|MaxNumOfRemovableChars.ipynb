{
 "cells": [
  {
   "cell_type": "markdown",
   "id": "7d405163",
   "metadata": {},
   "source": [
    "# Approach\n",
    "- 本道题简单来说就是给定两个字符串s和p，p是s的subsequence！还有一个数组removable，里面存的是s中的部分元素下标！我们想从s中删除k个元素，这k个元素就是removable中的前k个元素(s中的下标)所对应的s中的元素！！！我们想让p仍然是删除k个元素后的s的subsequence，求最多可以删除多少元素？   \n",
    "\n",
    "- 根据题意，0<=k<=len(removable)，即我们最少可以一个元素都不删除，最多可以把removal中所有元素(s中的下标)所对应s中的元素全部删除！我们对`[0, len(removal)]`这个范围使用binary search！   \n",
    "\n",
    "- 如果算出一个mid，从s中删除mid个元素后p还是s的subsequence，说明可能删除的元素太少了，我们要往右搜索增大mid！如果从s中删除mid个元素后p不是s的subsequence，说明可能删除的元素太多了，我们要往左搜索减小mid！因此我们需要定义一个函数来判断从s中删除k个元素(removable中的前k个元素所对应的s中的元素)后p是否是s的subsequence！！！如果对删除元素的数量的范围[0, len(removal)]中的每个数都这么判断，那么我们会得到：True,..., True, False,..., False！左边的最后一个True就是我们要求的最多可以删除的数量！参考69题！      \n",
    "\n",
    "- 我们用two pointers的方法去判断是否是subsequence，参考392题！！！首先定义两个pointers：si和pi分别指向s和p的首元素，当此时si是removal的前k个元素时，si加1，这就表示删除了`s[si]`！当不用删除`s[si]`时，比较`s[si]`和`p[si]`，如果它们不相等，那么只要si加1，因为我要继续从s中找等于`p[pi]`的元素！如果它们俩相等，那么同时加1，这就表示找到了一个相等元素！重复上述操作直到si>=len(s)或者pi>=len(p)！当退出循环时，如果是pi==len(p)，这就说明所有p中的元素都在删除了k个元素后的s中按顺序找到了！即p是s的subsequence！如果不相等，说明是si==len(s)导致退出循环的，即已经找完了删除k个元素后的s中的所有元素，但还没有把p中的元素找全，即p不是s的subsequence！   \n",
    "\n",
    "- 本道题最恶心的地方在于就算用了binary search，对于python而言还是超时了！因此我们还要做优化，具体细节见code！\n",
    "\n",
    "\n",
    "# Code\n",
    "Time Complexity: 1. `x in list`: O(n) 2. `x in set`: O(1) "
   ]
  },
  {
   "cell_type": "code",
   "execution_count": null,
   "id": "cdcaa6af",
   "metadata": {},
   "outputs": [],
   "source": [
    "# Binary Search: [left, right]\n",
    "# Time: O(len(s) * log len(removable)), Space: O(len(removable))\n",
    "class Solution:\n",
    "    def maximumRemovals(self, s: str, p: str, removable: List[int]) -> int:\n",
    "        left, right = 0, len(removable)\n",
    "        k = -1\n",
    "\n",
    "        while left <= right:\n",
    "            mid = (left + right) // 2\n",
    "            # 优化1: 用set代替list，因为set查询元素是否存在的速度更快！\n",
    "            if self.isSubseqAfterRemoval(s, p, set(removable[0 : mid])):\n",
    "                k = mid\n",
    "                left = mid + 1\n",
    "            else:\n",
    "                right = mid - 1\n",
    "        \n",
    "        # k必定不是-1，因为至少移除0个元素p还是s的subsequence，因此k必定会被赋值!\n",
    "        return k\n",
    "    \n",
    "    def isSubseqAfterRemoval(self, s, p, removed):\n",
    "        # 优化2：当mid=0时，removable[0:0]就是[]，因此len(removed)=0！此时一个元素都不删除，根据题意p就是s的subsequence！\n",
    "        if len(removed) == 0:\n",
    "            return True\n",
    "        \n",
    "        si, pi = 0, 0\n",
    "        while si < len(s) and pi < len(p):\n",
    "            if si not in removed and s[si] == p[pi]:\n",
    "                si += 1\n",
    "                pi += 1\n",
    "            else:\n",
    "                si += 1\n",
    "\n",
    "        return pi == len(p)\n",
    "    "
   ]
  }
 ],
 "metadata": {
  "kernelspec": {
   "display_name": "base",
   "language": "python",
   "name": "python3"
  },
  "language_info": {
   "codemirror_mode": {
    "name": "ipython",
    "version": 3
   },
   "file_extension": ".py",
   "mimetype": "text/x-python",
   "name": "python",
   "nbconvert_exporter": "python",
   "pygments_lexer": "ipython3",
   "version": "3.10.14"
  }
 },
 "nbformat": 4,
 "nbformat_minor": 5
}

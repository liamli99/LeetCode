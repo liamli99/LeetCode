{
 "cells": [
  {
   "cell_type": "markdown",
   "id": "7d405163",
   "metadata": {},
   "source": [
    "# Approach\n",
    "- 有序数组，无重复元素，因此可以用二分查找！类似704！   \n",
    "\n",
    "- 但是本题不完全是个有序数组，本题的数组本身是一个有序数组，然后从某个下标为k开始被rotate了！即下标从0到k-1的这段数字被挪到了数组最后！那么现在的数组中就有两段有序数列了！！！因此我们不能仅仅依靠`nums[mid]`和target的大小关系来判断下次寻找是在左半边还是右半边！   \n",
    "\n",
    "- 当`nums[mid]==target`时直接返回，不然就要确定`nums[mid]`是在左边的有序数列还是右边的有序数列！  \n",
    "- 如果`nums[mid]`在左边的有序数列中：\n",
    "  - 那么只有当target也在左边的有序数列并且`target<nums[mid]`时，才可以确定target在`nums[mid]`的左边，因此right=mid-1！\n",
    "  - 其他情况下，target必然在`nums[mid]`右边，因此left=mid+1！\n",
    "- 如果`nums[mid]`在右边的有序数列中：\n",
    "  - 那么只有当target也在右边的有序数列并且`target>nums[mid]`时，才可以确定target在`nums[mid]`的右边，因此left=mid+1！\n",
    "  - 其他情况下，target必然在`nums[mid]`左边，因此right=mid-1！\n",
    "\n",
    "- 那么就产生一个问题，如何判断一个数n是在左边的有序数列中还是右边的有序数列中？很简单，如果`n>=nums[0]`，那么n在左边的有序数列中，如果`n<nums[0]`，那么n在右边的有序数列中！\n",
    "\n",
    "# Code"
   ]
  },
  {
   "cell_type": "code",
   "execution_count": null,
   "id": "cdcaa6af",
   "metadata": {},
   "outputs": [],
   "source": [
    "# Binary Search: [left, right]\n",
    "# Time: O(log n), Space: O(1)\n",
    "class Solution:\n",
    "    def search(self, nums: List[int], target: int) -> int:\n",
    "        left, right = 0, len(nums) - 1\n",
    "        \n",
    "        while left <= right:\n",
    "            mid = (left + right) // 2\n",
    "            \n",
    "            if nums[mid] == target:\n",
    "                return mid\n",
    "            \n",
    "            # nums[mid]在左边部分\n",
    "            elif nums[mid] >= nums[0]:\n",
    "                if nums[0] <= target < nums[mid]:\n",
    "                    right = mid - 1\n",
    "                else:\n",
    "                    left = mid + 1\n",
    "            \n",
    "            # nums[mid]在右边部分\n",
    "            # elif nums[mid] < nums[0]\n",
    "            else:\n",
    "                if nums[mid] < target < nums[0]:\n",
    "                    left = mid + 1\n",
    "                else:\n",
    "                    right = mid - 1\n",
    "        \n",
    "        return -1"
   ]
  }
 ],
 "metadata": {
  "kernelspec": {
   "display_name": "Python 3 (ipykernel)",
   "language": "python",
   "name": "python3"
  },
  "language_info": {
   "codemirror_mode": {
    "name": "ipython",
    "version": 3
   },
   "file_extension": ".py",
   "mimetype": "text/x-python",
   "name": "python",
   "nbconvert_exporter": "python",
   "pygments_lexer": "ipython3",
   "version": "3.10.9"
  }
 },
 "nbformat": 4,
 "nbformat_minor": 5
}

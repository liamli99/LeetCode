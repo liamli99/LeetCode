{
 "cells": [
  {
   "cell_type": "markdown",
   "id": "7d405163",
   "metadata": {},
   "source": [
    "# Approach\n",
    "- minInt的最大值是max(arr)，比该数再大就没有意义因为所求的和不变；注意minInt的最小值是0，此时所求的和是0！如果minInt是-1，那么所求的和小于0，与target的差距必然大于minInt是0的时候！因此我们对[0, max(arr)]进行binary search！\n",
    "   \n",
    "- 注意所求的和在[0, max(arr)]上是单调递增的！！！当minInt=0时，所求的和是0，而根据constraints，target>=1，所以此时所求的和必然小于target！当minInt=max(arr)时，所求的和是sum(arr)，可能大于等于也可能小于target！因此当minInt在[0, max(arr)]时，所求的和与target的关系是：小于, ..., 小于/大于等于！我们需要找到小于最后一次出现的位置(右侧边界)，参考69题！\n",
    "\n",
    "- 退出循环后，此时minInt是小于最后一次出现的位置(必然存在，最不济也是0)，那么minInt+1要么是所求的和第一次大于等于target，要么是所求的和等于minInt！！！\n",
    "\n",
    "# Code"
   ]
  },
  {
   "cell_type": "code",
   "execution_count": null,
   "id": "0acadbf2",
   "metadata": {},
   "outputs": [],
   "source": [
    "class Solution:\n",
    "    def findBestValue(self, arr: List[int], target: int) -> int:\n",
    "        left, right = 0, max(arr)\n",
    "        minInt = -1\n",
    "\n",
    "        while left <= right:\n",
    "            mid = (left + right) // 2\n",
    "\n",
    "            if self.calculateSum(arr, mid) < target:\n",
    "                minInt = mid\n",
    "                left = mid + 1\n",
    "            else:\n",
    "                right = mid - 1\n",
    "        \n",
    "        # 退出循环后minInt必然不是-1，因为所求的和小于target必然存在(例如0)，因此minInt必定会被赋值！\n",
    "\n",
    "        diff1 = abs(self.calculateSum(arr, minInt) - target)\n",
    "        diff2 = abs(self.calculateSum(arr, minInt + 1) - target)\n",
    "\n",
    "        return minInt if diff1 <= diff2 else minInt + 1\n",
    "\n",
    "    def calculateSum(self, arr, value):\n",
    "        sum_ = 0\n",
    "        for num in arr:\n",
    "            sum_ += min(num, value)\n",
    "        return sum_"
   ]
  }
 ],
 "metadata": {
  "kernelspec": {
   "display_name": "Python 3 (ipykernel)",
   "language": "python",
   "name": "python3"
  },
  "language_info": {
   "codemirror_mode": {
    "name": "ipython",
    "version": 3
   },
   "file_extension": ".py",
   "mimetype": "text/x-python",
   "name": "python",
   "nbconvert_exporter": "python",
   "pygments_lexer": "ipython3",
   "version": "3.10.9"
  }
 },
 "nbformat": 4,
 "nbformat_minor": 5
}

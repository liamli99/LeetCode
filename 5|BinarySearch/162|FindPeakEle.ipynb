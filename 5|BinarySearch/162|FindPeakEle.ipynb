{
 "cells": [
  {
   "cell_type": "markdown",
   "id": "7d405163",
   "metadata": {},
   "source": [
    "# Approach\n",
    "- 本道题要在O(log n)时间找到某个元素，因此优先考虑binary search！   \n",
    "\n",
    "- 但是nums既不是有序数组，也没说有没有重复元素，为什么可以用binary search呢？我们考虑某个`nums[mid]`，关于`nums[mid]`和`nums[mid-1]`，`nums[mid+1]`之间的关系有三种可能性：  \n",
    "  \n",
    "  1. 如果`nums[mid]`比`nums[mid-1]`和`nums[mid+1]`都大，那么`nums[mid]`必然是其中一个peak！直接返回！   \n",
    "  注意当mid=len(nums)-1时，`nums[mid+1]`不存在，但是题目说`nums[n]`=-∞，因此nums中最右侧的元素比其“右边元素”大！同理nums中最左边的元素比其“左边元素”大！   \n",
    "  \n",
    "  2. 如果`nums[mid]<nums[mid+1]`，那么此时可以确定peak一定是`nums[mid+1]`或在其后面(右边)！这是因为如果`nums[mid+1]`后面(右边)的元素递增，那么peak在后面！如果递减，那么`nums[mid+1]`就是peak！！！   \n",
    "  \n",
    "  3. 如果`nums[mid]<nums[mid-1]`，那么此时可以确定peak一定是`nums[mid-1]`或在其前面(左边)！这是因为如果`nums[mid-1]`前面(左边)的元素递减，那么peak在前面！如果递增，那么`nums[mid-1]`就是peak！！！   \n",
    "\n",
    "# Code"
   ]
  },
  {
   "cell_type": "code",
   "execution_count": null,
   "id": "cdcaa6af",
   "metadata": {},
   "outputs": [],
   "source": [
    "# Binary Search: [left, right]\n",
    "# Time: O(log n), Space: O(1)\n",
    "class Solution:\n",
    "    def findPeakElement(self, nums: List[int]) -> int:\n",
    "        left, right = 0, len(nums) - 1\n",
    "        \n",
    "        while left <= right:\n",
    "            mid = (left + right) // 2\n",
    "            \n",
    "            if (mid == 0 or nums[mid] > nums[mid - 1]) and (mid == len(nums) - 1 or nums[mid] > nums[mid + 1]):\n",
    "                return mid\n",
    "            elif mid > 0 and nums[mid] < nums[mid - 1]:\n",
    "                right = mid - 1\n",
    "            # elif mid < len(nums) - 1 and nums[mid] < nums[mid + 1]\n",
    "            else:\n",
    "                left = mid + 1\n",
    "        \n",
    "        # 不需要在结束循环后再return sth，这是因为根据题意nums中必然存在peak！！！"
   ]
  }
 ],
 "metadata": {
  "kernelspec": {
   "display_name": "Python 3 (ipykernel)",
   "language": "python",
   "name": "python3"
  },
  "language_info": {
   "codemirror_mode": {
    "name": "ipython",
    "version": 3
   },
   "file_extension": ".py",
   "mimetype": "text/x-python",
   "name": "python",
   "nbconvert_exporter": "python",
   "pygments_lexer": "ipython3",
   "version": "3.10.9"
  }
 },
 "nbformat": 4,
 "nbformat_minor": 5
}

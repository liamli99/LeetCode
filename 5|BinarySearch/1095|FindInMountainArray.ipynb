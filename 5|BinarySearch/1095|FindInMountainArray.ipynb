{
 "cells": [
  {
   "cell_type": "markdown",
   "id": "7d405163",
   "metadata": {},
   "source": [
    "# Approach\n",
    "- 本题是704和852的结合！利用852，我们需要求出该mountain array的peak！然后利用704我们要分别求出左边的递增序列[0, peak]中target的下标和右边的递减序列[peak, len(arr)-1]中target的下标！由于要求minimum index，左边能找到就返回左边的答案！左边找不到就返回右边的答案！两边都找不到就返回-1！   \n",
    "\n",
    "- 注意本题对mountain array的操作只能用MountainArray.get(k)和MountainArray.length()两个函数！并且对MountainArray.get(k)的使用要尽可能的少！！！   \n",
    "\n",
    "# Code"
   ]
  },
  {
   "cell_type": "code",
   "execution_count": null,
   "id": "cdcaa6af",
   "metadata": {},
   "outputs": [],
   "source": [
    "# Binary Search: [left, right]\n",
    "# Time: O(), Space: O()\n",
    "\n",
    "# class MountainArray:\n",
    "#     def get(self, index: int) -> int:\n",
    "#     def length(self) -> int:\n",
    "\n",
    "class Solution:\n",
    "    def findInMountainArray(self, target: int, mountain_arr: 'MountainArray') -> int:\n",
    "        peak = self.findPeak(mountain_arr)\n",
    "        i1 = self.ascending_binary_search(target, mountain_arr, peak)\n",
    "        i2 = self.descending_binary_search(target, mountain_arr, peak)\n",
    "        if i1 != -1:\n",
    "            return i1\n",
    "        elif i2 != -1:\n",
    "            return i2\n",
    "        else:\n",
    "            return -1\n",
    "\n",
    "    def findPeak(self, mountain_arr):\n",
    "        left, right = 1, mountain_arr.length() - 2\n",
    "        while left <= right:\n",
    "            mid = (left + right) // 2\n",
    "            midVal = mountain_arr.get(mid)\n",
    "            if midVal > mountain_arr.get(mid - 1) and midVal > mountain_arr.get(mid + 1):\n",
    "                return mid\n",
    "            elif midVal < mountain_arr.get(mid - 1):\n",
    "                right = mid - 1\n",
    "            else:\n",
    "                left = mid + 1\n",
    "    \n",
    "    def ascending_binary_search(self, target, mountain_arr, peak):\n",
    "        left, right = 0, peak\n",
    "        while left <= right:\n",
    "            mid = (left + right) // 2\n",
    "            midVal = mountain_arr.get(mid)\n",
    "            if midVal == target:\n",
    "                return mid\n",
    "            elif midVal > target:\n",
    "                right = mid - 1\n",
    "            else:\n",
    "                left = mid + 1\n",
    "        return -1\n",
    "    \n",
    "    def descending_binary_search(self, target, mountain_arr, peak):\n",
    "        left, right = peak, mountain_arr.length() - 1\n",
    "        while left <= right:\n",
    "            mid = (left + right) // 2\n",
    "            midVal = mountain_arr.get(mid)\n",
    "            if midVal == target:\n",
    "                return mid\n",
    "            elif midVal > target:\n",
    "                left = mid + 1\n",
    "            else:\n",
    "                right = mid - 1\n",
    "        return -1"
   ]
  }
 ],
 "metadata": {
  "kernelspec": {
   "display_name": "Python 3 (ipykernel)",
   "language": "python",
   "name": "python3"
  },
  "language_info": {
   "codemirror_mode": {
    "name": "ipython",
    "version": 3
   },
   "file_extension": ".py",
   "mimetype": "text/x-python",
   "name": "python",
   "nbconvert_exporter": "python",
   "pygments_lexer": "ipython3",
   "version": "3.10.9"
  }
 },
 "nbformat": 4,
 "nbformat_minor": 5
}

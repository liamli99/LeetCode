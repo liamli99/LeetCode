{
 "cells": [
  {
   "cell_type": "markdown",
   "id": "7d405163",
   "metadata": {},
   "source": [
    "# Approach\n",
    "- 本道题直观的理解就是要把weights分割成days部分，每部分都求和，我们想让每部分的和的最大值(least weight capacity)尽可能的小！求这个最小值是多少！   \n",
    "\n",
    "- 乍一看和binary search没关系，weights要分割成days部分，我们要找也只能找days个分割点，但是binary search只能找到一个固定的值！其实本题不是对weights进行binary search，不要看到数组就想着对其进行binary search！！！   \n",
    "\n",
    "- 根据Constraints，days的范围是[1, len(weights)]，当days=1时，相当于一天运完所有包裹，因此least weight capacity是sum(weights)；当days=len(weights)时，相当于每天只运一个包裹，因此least weight capacity是max(weights)！由于要求的是least weight capacity，我们对其范围`[max(weights), sum(weights)]`进行binary search！\n",
    " \n",
    "- 那么算出一个mid，我们是要往左(小)搜索还是往右(大)搜索呢？假如mid很大，不妨假设mid就等于sum(weights)，那么此时只需要1天就可以运完包裹！这说明此时的mid太大了，我们就想要往左搜索减小mid，这样可以让days增加！假如mid很小，不妨假设mid就等于max(weights)，那么此时需要len(days)天才可以运完包裹！这说明此时的mid太小了，我们就想要往右搜索增加mid，这样可以让days减小！综上，如果给定的mid使得所有包裹在**小于等于days天**就可以运完，那么就可以认为此时的mid太大了，所以我们就要往左搜索！如果给定的mid使得所有包裹在大于days天运完，那么就可以认为此时的mid太小了，所以我们就要往右搜索！   \n",
    "\n",
    "- 假如对`[max(weights), sum(weights)]`中的每个数都用True和False分别表示是否可以在小于等于days天内运完，那么会得到：False,..., False, True,..., True！右边的第一个True就是我们要求的用days天运完所有货物的least weight capacity！！！本质上还是求True开始出现的位置(左侧边界)！因此，本题类似278题！！！   \n",
    "\n",
    "- 由于判断能否在小于等于days天运完所有货物比较复杂，可以单独写个函数！注意必须要是**小于等于**days返回True，不是等于！如果等于days返回True，不等于days返回False，那么就是False, ..., False, True,..., True, False, ..., False，没法再用binary search！\n",
    "\n",
    "# Code"
   ]
  },
  {
   "cell_type": "code",
   "execution_count": null,
   "id": "cdcaa6af",
   "metadata": {},
   "outputs": [],
   "source": [
    "# Binary Search: [left, right]\n",
    "# Time: O(len(weights) * log (sum(weights))), Space: O(1)\n",
    "class Solution:\n",
    "    def shipWithinDays(self, weights: List[int], days: int) -> int:\n",
    "        left, right = max(weights), sum(weights)\n",
    "        lwc = -1\n",
    "\n",
    "        while left <= right:\n",
    "            mid = (left + right) // 2\n",
    "            if self.canShip(weights, days, mid):\n",
    "                lwc = mid\n",
    "                right = mid - 1\n",
    "            else:\n",
    "                left = mid + 1\n",
    "        \n",
    "        # 根据题意必然存在一个least weight capacity正好可以在days天运完所有货物\n",
    "        return lwc\n",
    "    \n",
    "    # 判断能否在小于等于days天运完所有货物\n",
    "    def canShip(self, weights, days, capacity):\n",
    "        daySum = 1\n",
    "        weightSum = 0\n",
    "        for w in weights:\n",
    "            if weightSum + w > capacity:\n",
    "                daySum += 1\n",
    "                weightSum = w\n",
    "            else:\n",
    "                weightSum += w\n",
    "        return daySum <= days"
   ]
  }
 ],
 "metadata": {
  "kernelspec": {
   "display_name": "Python 3 (ipykernel)",
   "language": "python",
   "name": "python3"
  },
  "language_info": {
   "codemirror_mode": {
    "name": "ipython",
    "version": 3
   },
   "file_extension": ".py",
   "mimetype": "text/x-python",
   "name": "python",
   "nbconvert_exporter": "python",
   "pygments_lexer": "ipython3",
   "version": "3.10.9"
  }
 },
 "nbformat": 4,
 "nbformat_minor": 5
}

{
 "cells": [
  {
   "cell_type": "markdown",
   "id": "7d405163",
   "metadata": {},
   "source": [
    "# Approach\n",
    "- 本题虽然是一个矩阵，不是有序数组，但是可以当作有序数列来处理，同样可以用二分查找！   \n",
    "- 突破在于二维矩阵的性质：每行元素非单调递减，下一行的第一个元素大于上一行的最后一个元素！因此可以把每行的元素拼接起来组成一个非递减的一维数组！    \n",
    "\n",
    "# Note\n",
    "将一个m * n的矩阵从左到右，从上到下依次赋予元素下标0，...，m * n - 1。给定一个数字k，0 <= k <= m * n - 1。那么此时以数字k为下标的矩阵元素在矩阵中的位置是[k // n, k % n]！！！注意只和矩阵的列数n有关！！！\n",
    "\n",
    "# Code"
   ]
  },
  {
   "cell_type": "code",
   "execution_count": null,
   "id": "cdcaa6af",
   "metadata": {},
   "outputs": [],
   "source": [
    "# Binary Search: [left, right]\n",
    "# Time: O(log(m * n)), Space: O(1)\n",
    "class Solution:\n",
    "    def searchMatrix(self, matrix: List[List[int]], target: int) -> bool:\n",
    "        row, col = len(matrix), len(matrix[0])\n",
    "        left, right = 0, row * col - 1\n",
    "        \n",
    "        while left <= right:\n",
    "            mid = (left + right) // 2\n",
    "            midRow, midCol = mid // col, mid % col\n",
    "            \n",
    "            if matrix[midRow][midCol] == target:\n",
    "                return True\n",
    "            elif matrix[midRow][midCol] < target:\n",
    "                left = mid + 1\n",
    "            elif matrix[midRow][midCol] > target:\n",
    "                right = mid - 1\n",
    "        \n",
    "        return False"
   ]
  }
 ],
 "metadata": {
  "kernelspec": {
   "display_name": "Python 3 (ipykernel)",
   "language": "python",
   "name": "python3"
  },
  "language_info": {
   "codemirror_mode": {
    "name": "ipython",
    "version": 3
   },
   "file_extension": ".py",
   "mimetype": "text/x-python",
   "name": "python",
   "nbconvert_exporter": "python",
   "pygments_lexer": "ipython3",
   "version": "3.10.9"
  }
 },
 "nbformat": 4,
 "nbformat_minor": 5
}

{
 "cells": [
  {
   "cell_type": "markdown",
   "id": "7d405163",
   "metadata": {},
   "source": [
    "# Approach\n",
    "- 本题如果硬算的话，time complexity是O(n * m)！\n",
    "\n",
    "- 我们可以先把potions从小到大排序，对spells中的每个元素，只要找到了potions中的最小的使得它们的乘积大于等于success的元素，那么potions中该元素及其之后的所有元素都能使得乘积大于等于success！！！\n",
    "\n",
    "- 由于potions已经被从小到大排序了，我们可以对potions进行binary search找到使得乘积大于等于success的最小的元素的位置，即potions中满足乘积大于等于success的元素第一次出现的位置！这样本题就变成了34题！！！\n",
    "\n",
    "# Note\n",
    "- In Python, `list.sort()` and `sorted()` methods use **Timsort**! \n",
    "- Time Complexity: \n",
    "  - Worst case and Average: `O(nlogn)`\n",
    "  - Best case: `O(n)`!  \n",
    "- Space Complexity:\n",
    "  - Worst case: `O(n)`\n",
    "\n",
    "# Code"
   ]
  },
  {
   "cell_type": "code",
   "execution_count": null,
   "id": "cdcaa6af",
   "metadata": {},
   "outputs": [],
   "source": [
    "# Binary Search: [left, right] \n",
    "# Time: O(mlogm + nlogm), Space: O(m + n), m = len(positions), n = len(spells)\n",
    "class Solution:\n",
    "    def successfulPairs(self, spells: List[int], potions: List[int], success: int) -> List[int]:\n",
    "        potions.sort()\n",
    "        pairs = []\n",
    "\n",
    "        for spell in spells:\n",
    "            left, right = 0, len(potions) - 1\n",
    "            # idx = -1\n",
    "            idx = len(potions)\n",
    "            \n",
    "            while left <= right:\n",
    "                mid = (left + right) // 2\n",
    "                if spell * potions[mid] < success:\n",
    "                    left = mid + 1\n",
    "                else:\n",
    "                    idx = mid\n",
    "                    right = mid - 1\n",
    "            \n",
    "            # 注意当找不到使得乘积大于等于success的元素时，idx没有被赋值！数量为0！\n",
    "            # pairs.append(0) if idx == -1 else pairs.append(len(potions) - idx)\n",
    "            pairs.append(len(potions) - idx)\n",
    "        \n",
    "        return pairs"
   ]
  }
 ],
 "metadata": {
  "kernelspec": {
   "display_name": "Python 3 (ipykernel)",
   "language": "python",
   "name": "python3"
  },
  "language_info": {
   "codemirror_mode": {
    "name": "ipython",
    "version": 3
   },
   "file_extension": ".py",
   "mimetype": "text/x-python",
   "name": "python",
   "nbconvert_exporter": "python",
   "pygments_lexer": "ipython3",
   "version": "3.10.9"
  }
 },
 "nbformat": 4,
 "nbformat_minor": 5
}

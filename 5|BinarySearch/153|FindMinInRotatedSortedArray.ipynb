{
 "cells": [
  {
   "cell_type": "markdown",
   "id": "7d405163",
   "metadata": {},
   "source": [
    "# Approach\n",
    "- 本题和33题的情境很像，都是rotated array，但是做法不一样！\n",
    "\n",
    "- 在一个rotated array中，最小值有两种情况：\n",
    "  1. nums有两部分，最小值是右边部分的第一个元素！\n",
    "  2. nums没有两部分，最小值就是第一个元素！ \n",
    "   \n",
    "- 如果nums有左右两部分，那么本题目要求的最小值就是右边部分的第一个元素，因此本质上就是278题！！！\n",
    "- 如果nums没有两部分，那么退出while loop后还找不到答案，因此初始值可以设为`nums[0]`！\n",
    "\n",
    "\n",
    "# Code"
   ]
  },
  {
   "cell_type": "code",
   "execution_count": null,
   "id": "846ae2ca",
   "metadata": {},
   "outputs": [],
   "source": [
    "# Binary Search: [left, right]\n",
    "# Time: O(log n), Space: O(1)\n",
    "from typing import List\n",
    "class Solution:\n",
    "    def findMin(self, nums: List[int]) -> int:\n",
    "        left, right = 0, len(nums) - 1 \n",
    "        # minNum = float('-inf')\n",
    "        minNum = nums[0]\n",
    "        \n",
    "        while left <= right:\n",
    "            mid = (left + right) // 2\n",
    "            \n",
    "            # nums[mid]在左边部分\n",
    "            if nums[mid] >= nums[0]:\n",
    "                left = mid + 1\n",
    "            # nums[mid]在右边部分\n",
    "            else:\n",
    "                minNum = nums[mid]\n",
    "                right = mid - 1\n",
    "        \n",
    "        # 注意当nums没有两部分时，minNum在while loop中没有被赋值！最小值为第一个元素！\n",
    "        # return nums[0] if minNum == float('-inf') else minNum\n",
    "        return minNum"
   ]
  }
 ],
 "metadata": {
  "kernelspec": {
   "display_name": "Python 3 (ipykernel)",
   "language": "python",
   "name": "python3"
  },
  "language_info": {
   "codemirror_mode": {
    "name": "ipython",
    "version": 3
   },
   "file_extension": ".py",
   "mimetype": "text/x-python",
   "name": "python",
   "nbconvert_exporter": "python",
   "pygments_lexer": "ipython3",
   "version": "3.10.14"
  }
 },
 "nbformat": 4,
 "nbformat_minor": 5
}

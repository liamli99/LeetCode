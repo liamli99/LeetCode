{
 "cells": [
  {
   "cell_type": "markdown",
   "id": "7d405163",
   "metadata": {},
   "source": [
    "# Approach\n",
    "- 有序数组，无重复元素，因此可以用二分查找！基本类似704！       \n",
    "\n",
    "- 如果在数组中找到了target，那么就把target插在该处！因此难点在于如果没有找到target，那么target应该插在哪里？  \n",
    "  - 对于左闭右闭的情况，最后退出while loop时区间范围是`[right, left]`，并且left=right+1！这说明target应该在`nums[right]`和`nums[left]`这两个数字之间！因此target应该插在left处！！！       \n",
    "  - 对于左闭右开的情况，最后退出while loop时区间范围是`[left, right)`，且left=right！这说明target应该在`nums[left]`这个元素前面！因此target应该插在left处！！！\n",
    "\n",
    "- 其实只要随便试一个test case就可以发现规律！注意target插在哪，就从哪开始集体向右平移！\n",
    "\n",
    "# Code"
   ]
  },
  {
   "cell_type": "code",
   "execution_count": null,
   "id": "cdcaa6af",
   "metadata": {},
   "outputs": [],
   "source": [
    "# Binary Search: [left, right]\n",
    "# Time: O(log n), Space: O(1)\n",
    "class Solution:\n",
    "    def searchInsert(self, nums: List[int], target: int) -> int:\n",
    "        left = 0\n",
    "        right = len(nums) - 1\n",
    "\n",
    "        while left <= right:\n",
    "            mid = (left + right) // 2\n",
    "            if nums[mid] == target:\n",
    "                return mid\n",
    "            elif nums[mid] < target:\n",
    "                left = mid + 1\n",
    "            elif nums[mid] > target:\n",
    "                right = mid - 1\n",
    "        \n",
    "        # return right + 1\n",
    "        return left"
   ]
  },
  {
   "cell_type": "code",
   "execution_count": null,
   "id": "b2e022e3",
   "metadata": {},
   "outputs": [],
   "source": [
    "# Binary Search: [left, right)\n",
    "class Solution:\n",
    "    def searchInsert(self, nums: List[int], target: int) -> int:\n",
    "        left = 0\n",
    "        right = len(nums)\n",
    "\n",
    "        while left < right:\n",
    "            mid = (left + right) // 2\n",
    "            if nums[mid] == target:\n",
    "                return mid\n",
    "            elif nums[mid] < target:\n",
    "                left = mid + 1\n",
    "            elif nums[mid] > target:\n",
    "                right = mid\n",
    "        \n",
    "        # return right\n",
    "        return left"
   ]
  }
 ],
 "metadata": {
  "kernelspec": {
   "display_name": "Python 3 (ipykernel)",
   "language": "python",
   "name": "python3"
  },
  "language_info": {
   "codemirror_mode": {
    "name": "ipython",
    "version": 3
   },
   "file_extension": ".py",
   "mimetype": "text/x-python",
   "name": "python",
   "nbconvert_exporter": "python",
   "pygments_lexer": "ipython3",
   "version": "3.10.9"
  }
 },
 "nbformat": 4,
 "nbformat_minor": 5
}

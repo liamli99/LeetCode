{
 "cells": [
  {
   "cell_type": "markdown",
   "id": "009257eb",
   "metadata": {},
   "source": [
    "# Approach \n",
    "- 方法一：贪心\n",
    "  - 由于**本题股票的买卖没有次数限制**，因此利润可以分解为相邻两天的价格差：`prices[1]` - `prices[0]`, ..., `prices[i]` - `prices[i - 1]`   \n",
    "  - 而最大利润就是所有大于0的价格差的和！\n",
    "\n",
    "- 方法二：动态规划\n",
    "  - 在第i天结束后，我们会处于以下三个状态中的一个：\n",
    "  0. 未进行过任何操作，即第0-i天内都未进行任何操作\n",
    "  1. 进行过买操作，即第0-i天内进行过任意次买卖操作，最后一次是买操作\n",
    "  2. 进行过卖操作，即第0-i天内进行过任意次买卖操作，最后一次是卖操作\n",
    " \n",
    "  - 动态规划\n",
    "  1. 含义：`dp[i][j]`中表示第i天结束后处于j状态的最大利润，0 <= i < len(prices), j = 0, ..., 2\n",
    "\n",
    "  2. 递推公式：类比121, 122\n",
    "    `dp[i][0] = dp[i-1][0]`; \n",
    "    `dp[i][1] = max(dp[i-1][1], dp[i-1][2] - prices[i])`; \n",
    "    `dp[i][2] = max(dp[i-1][2], dp[i-1][1] + prices[i])`; \n",
    "\n",
    "  3. 初始化：`dp[0][0]` = 0; `dp[0][1]` = `-prices[0]`, `dp[0][2]` = 0\n",
    "\n",
    "  4. 遍历顺序：从前往后\n",
    "\n",
    "# Code"
   ]
  },
  {
   "cell_type": "code",
   "execution_count": null,
   "id": "642b425f",
   "metadata": {},
   "outputs": [],
   "source": [
    "# 贪心\n",
    "# Time: O(n), Space: O(1)\n",
    "from typing import List\n",
    "class Solution:\n",
    "    def maxProfit(self, prices: List[int]) -> int:\n",
    "        maxProfit = 0\n",
    "\n",
    "        for i in range(1, len(prices)):\n",
    "            if prices[i] > prices[i - 1]:\n",
    "                maxProfit += prices[i] - prices[i - 1]\n",
    "        \n",
    "        return maxProfit"
   ]
  },
  {
   "cell_type": "code",
   "execution_count": null,
   "id": "52f0d051",
   "metadata": {},
   "outputs": [],
   "source": [
    "# 动态规划\n",
    "# Time: O(n), Space: O(n)\n",
    "class Solution:\n",
    "    def maxProfit(self, prices: List[int]) -> int:\n",
    "        n = len(prices)\n",
    "        dp = [[0] * 2 for _ in range(n)]\n",
    "        \n",
    "        dp[0][1] = -prices[0]\n",
    "\n",
    "        for i in range(1, n):\n",
    "            dp[i][0] = max(dp[i - 1][0], dp[i - 1][1] + prices[i])\n",
    "            dp[i][1] = max(dp[i - 1][1], dp[i - 1][0] - prices[i])\n",
    "        \n",
    "        return dp[n - 1][0]\n",
    "    "
   ]
  },
  {
   "cell_type": "code",
   "execution_count": null,
   "id": "e61c6bb3",
   "metadata": {},
   "outputs": [],
   "source": [
    "# 动态规划，空间优化\n",
    "# Time: O(n), Space: O(1)\n",
    "class Solution:\n",
    "    def maxProfit(self, prices: List[int]) -> int:\n",
    "        n = len(prices)\n",
    "        \n",
    "        dp0 = 0\n",
    "        dp1 = -prices[0]\n",
    "\n",
    "        for i in range(1, n):\n",
    "            new_dp0 = max(dp0, dp1 + prices[i])\n",
    "            new_dp1 = max(dp1, dp0 - prices[i])\n",
    "            dp0, dp1 = new_dp0, new_dp1\n",
    "        \n",
    "        return dp0"
   ]
  }
 ],
 "metadata": {
  "kernelspec": {
   "display_name": "Python 3 (ipykernel)",
   "language": "python",
   "name": "python3"
  },
  "language_info": {
   "codemirror_mode": {
    "name": "ipython",
    "version": 3
   },
   "file_extension": ".py",
   "mimetype": "text/x-python",
   "name": "python",
   "nbconvert_exporter": "python",
   "pygments_lexer": "ipython3",
   "version": "3.10.9"
  }
 },
 "nbformat": 4,
 "nbformat_minor": 5
}

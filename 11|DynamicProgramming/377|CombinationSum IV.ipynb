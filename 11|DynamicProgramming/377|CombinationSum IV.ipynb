{
 "cells": [
  {
   "cell_type": "markdown",
   "id": "009257eb",
   "metadata": {},
   "source": [
    "# Approach\n",
    "- 基本类同518，不过是求**排列数**！！！\n",
    "\n",
    "# Note\n",
    "- 求组合数：先遍历物品，再遍历背包容量\n",
    "- 求排列数：先遍历背包容量，再遍历物品\n",
    "\n",
    "# Code"
   ]
  },
  {
   "cell_type": "code",
   "execution_count": null,
   "id": "d5404e38",
   "metadata": {},
   "outputs": [],
   "source": [
    "# Time: O(n * target), Space: O(target)\n",
    "from typing import List\n",
    "class Solution:\n",
    "    def combinationSum4(self, nums: List[int], target: int) -> int:\n",
    "        bagweight = target\n",
    "\n",
    "        dp = [0] * (bagweight + 1)\n",
    "        dp[0] = 1\n",
    "\n",
    "        for j in range(bagweight + 1):\n",
    "            for i in range(len(nums)):\n",
    "                if j >= nums[i]:\n",
    "                    dp[j] += dp[j - nums[i]]\n",
    "        \n",
    "        return dp[-1]"
   ]
  }
 ],
 "metadata": {
  "kernelspec": {
   "display_name": "Python 3 (ipykernel)",
   "language": "python",
   "name": "python3"
  },
  "language_info": {
   "codemirror_mode": {
    "name": "ipython",
    "version": 3
   },
   "file_extension": ".py",
   "mimetype": "text/x-python",
   "name": "python",
   "nbconvert_exporter": "python",
   "pygments_lexer": "ipython3",
   "version": "3.10.14"
  }
 },
 "nbformat": 4,
 "nbformat_minor": 5
}

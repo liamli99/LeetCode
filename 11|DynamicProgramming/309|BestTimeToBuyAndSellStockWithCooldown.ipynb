{
 "cells": [
  {
   "cell_type": "markdown",
   "id": "009257eb",
   "metadata": {},
   "source": [
    "# Approach\n",
    "1. 含义：\n",
    "  - `dp[i][0]`中表示第i天结束后手里持有股票的最大利润\n",
    "  - `dp[i][1]`中表示第i天结束后手里没有股票并且处于冷冻期的最大利润，即第i天卖出股票，第i+1天无法买入股票\n",
    "  - `dp[i][2]`中表示第i天结束后手里没有股票并且不处于冷冻期的最大利润，即第0到(i-1)天之间卖出股票，第i+1天可以买入股票\n",
    "  - 0 <= i < len(prices)\n",
    "\n",
    "2. 递推公式：\n",
    "  - 对于`dp[i][0]`，第i天结束后手里持有股票，有两种情况：(1) 第i-1天结束后手里持有股票，那么`dp[i][0] = dp[i-1][0]` (2) 第i-1天结束后手里没有股票并且不处于冷冻期，在第i天买入，那么`dp[i][0] = dp[i-1][2] - prices[i]`，综上，最大利润为`dp[i][0] = max(dp[i-1][0], dp[i-1][2] - prices[i])` \n",
    "  - 对于`dp[i][1]`，第i天结束后手里没有股票并且处于冷冻期，说明第i-1天结束后手里持有股票，在第i天卖出，那么`dp[i][1] = dp[i-1][0] + prices[i]`\n",
    "  - 对于`dp[i][2]`，第i天结束后手里没有股票并且不处于冷冻期，说明不是在第i天卖出的，第i-1天结束后手里就没有股票了，那么`dp[i][2] = max(dp[i-1][1], dp[i-1][2])`\n",
    "\n",
    "3. 初始化：`dp[0][0]` = `-prices[0]`, `dp[0][1]` = 0, `dp[0][2]` = 0\n",
    "\n",
    "4. 遍历顺序：从前往后\n",
    "\n",
    "# Code"
   ]
  },
  {
   "cell_type": "code",
   "execution_count": null,
   "id": "147f1975",
   "metadata": {},
   "outputs": [],
   "source": [
    "# Time: O(n), Space: O(n)\n",
    "from typing import List\n",
    "class Solution:\n",
    "    def maxProfit(self, prices: List[int]) -> int:\n",
    "        n = len(prices)\n",
    "        dp = [[0] * 3 for _ in range(n)]\n",
    "        \n",
    "        dp[0][0] = -prices[0]\n",
    "\n",
    "        for i in range(1, n):\n",
    "            dp[i][0] = max(dp[i - 1][0], dp[i - 1][2] - prices[i])\n",
    "            dp[i][1] = dp[i - 1][0] + prices[i]\n",
    "            dp[i][2] = max(dp[i - 1][1], dp[i - 1][2])\n",
    "        \n",
    "        # 按道理是返回max(dp[n - 1][0], dp[n - 1][1], dp[n - 1][2])，但是手里没有股票肯定比有股票利润高！\n",
    "        return max(dp[n - 1][1], dp[n - 1][2])\n"
   ]
  },
  {
   "cell_type": "code",
   "execution_count": null,
   "id": "4f320405",
   "metadata": {},
   "outputs": [],
   "source": [
    "# 空间优化\n",
    "# Time: O(n), Space: O(1)\n",
    "class Solution:\n",
    "    def maxProfit(self, prices: List[int]) -> int:\n",
    "        n = len(prices)\n",
    "        \n",
    "        dp0 = -prices[0]\n",
    "        dp1 = dp2 = 0\n",
    "\n",
    "        for i in range(1, n):\n",
    "            new_dp0 = max(dp0, dp2 - prices[i])\n",
    "            new_dp1 = dp0 + prices[i]\n",
    "            new_dp2 = max(dp1, dp2)\n",
    "\n",
    "            dp0, dp1, dp2 = new_dp0, new_dp1, new_dp2\n",
    "        \n",
    "        return max(dp1, dp2)"
   ]
  }
 ],
 "metadata": {
  "kernelspec": {
   "display_name": "Python 3 (ipykernel)",
   "language": "python",
   "name": "python3"
  },
  "language_info": {
   "codemirror_mode": {
    "name": "ipython",
    "version": 3
   },
   "file_extension": ".py",
   "mimetype": "text/x-python",
   "name": "python",
   "nbconvert_exporter": "python",
   "pygments_lexer": "ipython3",
   "version": "3.10.9"
  }
 },
 "nbformat": 4,
 "nbformat_minor": 5
}

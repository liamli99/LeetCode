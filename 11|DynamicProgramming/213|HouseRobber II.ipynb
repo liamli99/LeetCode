{
 "cells": [
  {
   "cell_type": "markdown",
   "id": "009257eb",
   "metadata": {},
   "source": [
    "# Approach\n",
    "- 本题和198的区别在于本题数组是环形的，因此第一个和最后一个房屋一定不能同时偷窃！\n",
    "\n",
    "- 所以偷窃房屋的范围有两种情况：\n",
    "  1. 第一个房屋到倒数第二个房屋，即[0, len(nums) - 2]；\n",
    "  2. 第二个房屋到最后一个房屋，即[1, len(nums) - 1]！\n",
    "  对于每种情况分别用198的方法找到最多可偷窃的金额，两种情况中的最大值就是最终答案！\n",
    "\n",
    "# Code"
   ]
  },
  {
   "cell_type": "code",
   "execution_count": null,
   "id": "e281de5d",
   "metadata": {},
   "outputs": [],
   "source": [
    "# Time: O(n), Space: (n)\n",
    "from typing import List\n",
    "class Solution:\n",
    "    def rob(self, nums: List[int]) -> int:\n",
    "        # 当nums长度为1时，start > end不存在，必须提前讨论掉！\n",
    "        if len(nums) == 1:\n",
    "            return nums[0]\n",
    "        # 当nums长度为2时，start = end，相当于长度为1，根据198，需要提前讨论掉！\n",
    "        if len(nums) == 2:\n",
    "            return max(nums[0], nums[1])\n",
    "        \n",
    "        # 情况二，不考虑最后一个\n",
    "        dp1 = self.rob198(nums, 0, len(nums) - 2)\n",
    "        # 情况一，不考虑第一个\n",
    "        dp2 = self.rob198(nums, 1, len(nums) - 1)\n",
    "        return max(dp1, dp2)\n",
    "    \n",
    "    # 198题的逻辑\n",
    "    # start和end表示起止坐标，0 <= start <= end <= len(nums) - 1\n",
    "    def rob198(self, nums, start, end):\n",
    "        dp = [0] * len(nums)\n",
    "        dp[start] = nums[start]\n",
    "        dp[start + 1] = max(nums[start], nums[start + 1])\n",
    "        for i in range(start + 2, end + 1):\n",
    "            dp[i] = max(dp[i - 1], dp[i - 2] + nums[i])\n",
    "        return dp[end]"
   ]
  },
  {
   "cell_type": "code",
   "execution_count": null,
   "id": "690e2dd8",
   "metadata": {},
   "outputs": [],
   "source": [
    "# 空间优化; \n",
    "# Time: O(n), Space: O(1)\n",
    "class Solution:\n",
    "    def rob(self, nums: List[int]) -> int:\n",
    "        if len(nums) == 1:\n",
    "            return nums[0]\n",
    "        if len(nums) == 2:\n",
    "            return max(nums[0], nums[1])\n",
    "        \n",
    "        dp1 = self.rob198(nums, 0, len(nums) - 2)\n",
    "        dp2 = self.rob198(nums, 1, len(nums) - 1)\n",
    "        return max(dp1, dp2)\n",
    "    \n",
    "    # 198题的逻辑\n",
    "    # start和end表示起止坐标，0 <= start <= end <= len(nums) - 1\n",
    "    def rob198(self, nums, start, end):\n",
    "        dp = [nums[start], max(nums[start], nums[start + 1])]\n",
    "        for i in range(start + 2, end + 1):\n",
    "            dpi = max(dp[1], dp[0] + nums[i])\n",
    "            dp[0], dp[1] = dp[1], dpi\n",
    "        return dp[1]"
   ]
  }
 ],
 "metadata": {
  "kernelspec": {
   "display_name": "Python 3 (ipykernel)",
   "language": "python",
   "name": "python3"
  },
  "language_info": {
   "codemirror_mode": {
    "name": "ipython",
    "version": 3
   },
   "file_extension": ".py",
   "mimetype": "text/x-python",
   "name": "python",
   "nbconvert_exporter": "python",
   "pygments_lexer": "ipython3",
   "version": "3.10.9"
  }
 },
 "nbformat": 4,
 "nbformat_minor": 5
}

{
 "cells": [
  {
   "cell_type": "markdown",
   "id": "009257eb",
   "metadata": {},
   "source": [
    "# Approach\n",
    "<!-- Describe your approach to solving the problem. -->\n",
    "本题是连续回文子串，因此dp[i]可以定义为以nums[i]结尾的子串的最大乘积！但是，记录最大乘积就意味着会优先记录乘积大于0的情况！例如nums=[-1,4,-6]，以4结尾的子串的最大乘积会被记录为4！那么以-6结尾的子串的最大乘积只能是-6！因为以4结尾的子串的最大乘积是4，4*(-6)=-24，由于-6>-24，以-6结尾的子串的最大乘积就是它本身-6！\n",
    "\n",
    "但其实是有问题的，因为以-6结尾的子串的最大乘积应该是-1*4*(-6)=24！！！因此我们还应该定义一个dp去记录以nums[i]结尾的子串的最小乘积！这是因为假如nums[i]<0，如果以nums[i-1]结尾的子串的最小乘积也小于0，那么乘在一起就大于0了！这才是最大乘积！只记录最大乘积的话会少考虑这种情况！ \n",
    "\n",
    "动态规划：   \n",
    "含义：max_p[i]表示以nums[i]结尾的子串的最大乘积是max_p[i]；min_p[i]表示以nums[i]结尾的子串的最小乘积是min_p[i]   \n",
    "\n",
    "递推公式：不用考虑等于0的情况！因为都是0了！   \n",
    "1.当nums[i]<0时：(1)如果min_p[i-1]<0，那么max_p[i]=min_p[i-1]* nums[i]；如果min_p[i-1]>0，那么max_p[i]=nums[i]！综上max_p[i]=max(nums[i],min_p[i-1] * nums[i])！(2)如果max_p[i-1]>0，那么min_p[i]=max_p[i-1]* nums[i]；如果max_p[i-1]<0，min_p[i]=nums[i]，综上min_p[i]=min(nums[i],max_p[i-1] * nums[i])！     \n",
    "\n",
    "2.当nums[i]>0时：(1)如果max_p[i-1]>0，那么max_p[i]=max_p[i-1]* nums[i]；如果max_p[i-1]<0，那么max_p[i]=nums[i]！综上max_p[i]=max(nums[i],max_p[i-1] * nums[i])！(2)如果min_p[i-1]<0，那么min_p[i]=min_p[i-1]* nums[i]；如果min_p[i-1]>0，min_p[i]=nums[i]，综上min_p[i]=min(nums[i],min_p[i-1] * nums[i])！      \n",
    "\n",
    "初始化：max_p[0]=nums[0]，min_p[0]=nums[0]   \n",
    "\n",
    "遍历顺序：从小到大   \n",
    "\n",
    "# Note\n",
    "\n",
    "\n",
    "# Code"
   ]
  },
  {
   "cell_type": "code",
   "execution_count": null,
   "id": "642b425f",
   "metadata": {},
   "outputs": [],
   "source": [
    "class Solution:\n",
    "    def maxProduct(self, nums: List[int]) -> int:\n",
    "        \n",
    "        max_p = [0] * len(nums)\n",
    "        min_p = [0] * len(nums) \n",
    "        max_p[0] = nums[0]\n",
    "        min_p[0] = nums[0]\n",
    "\n",
    "        for i in range(1, len(nums)):\n",
    "            if nums[i] < 0:\n",
    "                max_p[i] = max(nums[i], min_p[i - 1] * nums[i])\n",
    "                min_p[i] = min(nums[i], max_p[i - 1] * nums[i])\n",
    "            else:\n",
    "                max_p[i] = max(nums[i], max_p[i - 1] * nums[i])\n",
    "                min_p[i] = min(nums[i], min_p[i - 1] * nums[i])\n",
    "\n",
    "        return max(max_p)"
   ]
  }
 ],
 "metadata": {
  "kernelspec": {
   "display_name": "Python 3 (ipykernel)",
   "language": "python",
   "name": "python3"
  },
  "language_info": {
   "codemirror_mode": {
    "name": "ipython",
    "version": 3
   },
   "file_extension": ".py",
   "mimetype": "text/x-python",
   "name": "python",
   "nbconvert_exporter": "python",
   "pygments_lexer": "ipython3",
   "version": "3.10.9"
  }
 },
 "nbformat": 4,
 "nbformat_minor": 5
}

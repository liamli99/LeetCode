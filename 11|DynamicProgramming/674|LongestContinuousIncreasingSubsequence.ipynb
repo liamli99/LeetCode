{
 "cells": [
  {
   "cell_type": "markdown",
   "id": "009257eb",
   "metadata": {},
   "source": [
    "# Approach  \n",
    "1. 含义：`dp[i]`表示**以`nums[i]`结尾**的最长连续递增子序列的长度为`dp[i]`！\n",
    "\n",
    "2. 递推公式：对于`dp[i]`，当`nums[i] > nums[i-1]`时，`nums[i]`可以放到以`nums[i-1]`结尾的最长连续递增子序列的后面，因此以`nums[i]`结尾的最长连续递增子序列的长度为`dp[i] = dp[i-1] + 1`。\n",
    "\n",
    "3. 初始化：`dp[i] = 1`，因为以任何`nums[i]`结尾的连续递增子序列至少有一个，就是`nums[i]`本身！\n",
    "\n",
    "4. 遍历顺序：从前往后\n",
    "\n",
    "# Note\n",
    "- Subarray: continuous increasing subsequence\n",
    "\n",
    "# Code"
   ]
  },
  {
   "cell_type": "code",
   "execution_count": null,
   "id": "e281de5d",
   "metadata": {},
   "outputs": [],
   "source": [
    "# Time: O(n), Space: O(n)\n",
    "from typing import List\n",
    "class Solution:\n",
    "    def findLengthOfLCIS(self, nums: List[int]) -> int:\n",
    "        dp = [1] * len(nums)\n",
    "\n",
    "        for i in range(1, len(nums)):\n",
    "            if nums[i] > nums[i - 1]:\n",
    "                dp[i] = dp[i - 1] + 1\n",
    "        \n",
    "        return max(dp)"
   ]
  },
  {
   "cell_type": "code",
   "execution_count": null,
   "id": "0c3505c8",
   "metadata": {},
   "outputs": [],
   "source": [
    "# 贪心\n",
    "# Time: O(n), Space: O(1)"
   ]
  }
 ],
 "metadata": {
  "kernelspec": {
   "display_name": "Python 3 (ipykernel)",
   "language": "python",
   "name": "python3"
  },
  "language_info": {
   "codemirror_mode": {
    "name": "ipython",
    "version": 3
   },
   "file_extension": ".py",
   "mimetype": "text/x-python",
   "name": "python",
   "nbconvert_exporter": "python",
   "pygments_lexer": "ipython3",
   "version": "3.10.9"
  }
 },
 "nbformat": 4,
 "nbformat_minor": 5
}

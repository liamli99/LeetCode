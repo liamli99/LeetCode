{
 "cells": [
  {
   "cell_type": "markdown",
   "id": "009257eb",
   "metadata": {},
   "source": [
    "# Approach\n",
    "- 本题可以把石头尽可能的分成总重量相同的两部分，然后把两部分的总重量相减就是题目要求的剩余石头的最小重量！！！   \n",
    "\n",
    "- 因此本题和416类似，本质上是01背包。背包容量为sum/2，每个物品的重量和价值都是`stones[i]`！最大的总价值`dp[-1]`就是其中一部分石头的重量，另一部分石头的重量为`sum - dp[-1]`，因此剩余石头的最小重量为`sum - dp[-1] - dp[-1]`!\n",
    "\n",
    "# Code"
   ]
  },
  {
   "cell_type": "code",
   "execution_count": null,
   "id": "e281de5d",
   "metadata": {},
   "outputs": [],
   "source": [
    "# Time: O(len(stones) * sum), Space: O(sum)\n",
    "from typing import List\n",
    "class Solution:\n",
    "    def lastStoneWeightII(self, stones: List[int]) -> int:\n",
    "        bagweight = sum(stones) // 2\n",
    "        dp = [0] * (bagweight + 1)\n",
    "        \n",
    "        for i in range(len(stones)):\n",
    "            for j in range(bagweight, stones[i] - 1, -1):\n",
    "                dp[j] = max(dp[j], dp[j - stones[i]] + stones[i])\n",
    "        \n",
    "        return sum(stones) - dp[-1] - dp[-1]"
   ]
  }
 ],
 "metadata": {
  "kernelspec": {
   "display_name": "Python 3 (ipykernel)",
   "language": "python",
   "name": "python3"
  },
  "language_info": {
   "codemirror_mode": {
    "name": "ipython",
    "version": 3
   },
   "file_extension": ".py",
   "mimetype": "text/x-python",
   "name": "python",
   "nbconvert_exporter": "python",
   "pygments_lexer": "ipython3",
   "version": "3.10.9"
  }
 },
 "nbformat": 4,
 "nbformat_minor": 5
}

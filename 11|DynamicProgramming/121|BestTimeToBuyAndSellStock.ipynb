{
 "cells": [
  {
   "cell_type": "markdown",
   "id": "009257eb",
   "metadata": {},
   "source": [
    "# Approach\n",
    "- **本题只允许买卖股票一次**！！！\n",
    "\n",
    "- 方法一：贪心\n",
    "  - 遍历prices，当前的price减去目前为止的最低price，可以得到当前出售的最大利润，因此所有的当前出售的最大利润的最大值就是总的最大利润！\n",
    "\n",
    "- 方法二：动态规划\n",
    "  - 在第i天结束后，我们会处于以下三个状态中的一个：\n",
    "  0. 未进行过任何操作，即第0-i天内都未进行任何操作\n",
    "  1. 进行过第一次买操作，即第0-i天内进行过第一次买操作\n",
    "  2. 进行过第一次卖操作，即第0-i天内进行过第一次买和卖操作\n",
    "\n",
    "  - 动态规划\n",
    "  1. 含义：`dp[i][j]`中表示第i天结束后处于j状态的最大利润，0 <= i < len(prices), j = 0, ..., 2\n",
    "\n",
    "  2. 递推公式：\n",
    "    - 对于`dp[i][0]`，第i天结束后未进行任何操作，最大利润不变，因此`dp[i][0] = dp[i-1][0]`\n",
    "    - 对于`dp[i][1]`，第i天结束后进行过第一次买操作，有两种情况：(1) 第i-1天结束后进行过第一次买操作，第i天什么也没做，那么`dp[i][1] = dp[i-1][1]` (2) 第i-1天结束后没有进行任何操作，在第i天第一次买入，那么`dp[i][1] = dp[i-1][0] - prices[i]`，综上，最大利润为`dp[i][1] = max(dp[i-1][1], dp[i-1][0] - prices[i])`\n",
    "    - 对于`dp[i][2]`，第i天结束后进行过第一次卖操作，有两种情况：(1) 第i-1天结束后进行过第一次卖操作，第i天什么也没做，那么`dp[i][2] = dp[i-1][2]` (2) 第i-1天结束后进行过第一次买操作，在第i天第一次卖出，那么`dp[i][2] = dp[i-1][1] + prices[i]`，综上，最大利润为`dp[i][2] = max(dp[i-1][2], dp[i-1][1] + prices[i])`\n",
    "\n",
    "  3. 初始化：`dp[0][0]` = 0; `dp[0][1]` = `-prices[0]`, `dp[0][2]` = 0\n",
    "\n",
    "  4. 遍历顺序：从前往后\n",
    "   \n",
    "# Code"
   ]
  },
  {
   "cell_type": "code",
   "execution_count": null,
   "id": "e281de5d",
   "metadata": {},
   "outputs": [],
   "source": [
    "# 贪心\n",
    "# Time: O(n), Space: O(1)\n",
    "from typing import List\n",
    "class Solution:\n",
    "    def maxProfit(self, prices: List[int]) -> int:\n",
    "        minPrice = float('inf')\n",
    "        maxProfit = 0\n",
    "        \n",
    "        for price in prices:\n",
    "            maxProfit = max(maxProfit, price - minPrice)\n",
    "            minPrice = min(minPrice, price)\n",
    "\n",
    "        return maxProfit"
   ]
  },
  {
   "cell_type": "code",
   "execution_count": null,
   "id": "eb6b1e2a",
   "metadata": {},
   "outputs": [],
   "source": [
    "# 动态规划\n",
    "# Time: O(n), Space: O(n)\n",
    "class Solution:\n",
    "    def maxProfit(self, prices: List[int]) -> int:\n",
    "        n = len(prices)\n",
    "        dp = [[0] * 3 for _ in range(n)]\n",
    "        \n",
    "        dp[0][1] = -prices[0]\n",
    "\n",
    "        for i in range(1, n):\n",
    "            dp[i][0] = dp[i - 1][0]\n",
    "            dp[i][1] = max(dp[i - 1][1], dp[i - 1][0] - prices[i])\n",
    "            dp[i][2] = max(dp[i - 1][2], dp[i - 1][1] + prices[i])\n",
    "        \n",
    "        return dp[n - 1][2]\n"
   ]
  },
  {
   "cell_type": "code",
   "execution_count": null,
   "id": "f14902c5",
   "metadata": {},
   "outputs": [],
   "source": [
    "# 动态规划，空间优化\n",
    "# Time: O(n), Space: O(1)\n",
    "class Solution:\n",
    "    def maxProfit(self, prices: List[int]) -> int:\n",
    "        n = len(prices)\n",
    "        \n",
    "        dp0 = dp2 = 0\n",
    "        dp1 = -prices[0]\n",
    "\n",
    "        for i in range(1, n):\n",
    "            new_dp0 = dp0\n",
    "            new_dp1 = max(dp1, dp0 - prices[i])\n",
    "            new_dp2 = max(dp2, dp1 + prices[i])\n",
    "\n",
    "            dp0, dp1, dp2 = new_dp0, new_dp1, new_dp2\n",
    "        \n",
    "        return dp2"
   ]
  }
 ],
 "metadata": {
  "kernelspec": {
   "display_name": "Python 3 (ipykernel)",
   "language": "python",
   "name": "python3"
  },
  "language_info": {
   "codemirror_mode": {
    "name": "ipython",
    "version": 3
   },
   "file_extension": ".py",
   "mimetype": "text/x-python",
   "name": "python",
   "nbconvert_exporter": "python",
   "pygments_lexer": "ipython3",
   "version": "3.10.9"
  }
 },
 "nbformat": 4,
 "nbformat_minor": 5
}

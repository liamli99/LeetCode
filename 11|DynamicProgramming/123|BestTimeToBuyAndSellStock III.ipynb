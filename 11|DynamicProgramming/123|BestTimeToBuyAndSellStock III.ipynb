{
 "cells": [
  {
   "cell_type": "markdown",
   "id": "009257eb",
   "metadata": {},
   "source": [
    "# Approach\n",
    "- **本题股票至多买卖两次**！！！\n",
    "\n",
    "- 在任意一天结束后，我们会处于以下五个状态中的一个：\n",
    "  0. 未进行过任何操作\n",
    "  1. 进行过第一次买操作\n",
    "  2. 进行过第一次卖操作\n",
    "  3. 进行过第二次买操作\n",
    "  4. 进行过第二次卖操作\n",
    "\n",
    "- 动态规划\n",
    "  1. 含义：`dp[i][j]`中表示第i天结束后处于j状态的最大利润，0 <= i < len(prices), j = 0, ..., 4\n",
    "\n",
    "  2. 递推公式：类比121,\n",
    "    `dp[i][0] = dp[i-1][0]`; \n",
    "    `dp[i][1] = max(dp[i-1][1], dp[i-1][0] - prices[i])`; \n",
    "    `dp[i][2] = max(dp[i-1][2], dp[i-1][1] + prices[i])`; \n",
    "    `dp[i][3] = max(dp[i-1][3], dp[i-1][2] - prices[i])`; \n",
    "    `dp[i][4] = max(dp[i-1][4], dp[i-1][3] + prices[i])`\n",
    "\n",
    "  3. 初始化：`dp[0][0]` = 0; `dp[0][1]` = `-prices[0]`, `dp[0][2]` = 0, `dp[0][3]` = `-prices[0]`, `dp[0][4]` = 0\n",
    "\n",
    "  4. 遍历顺序：从前往后\n",
    "\n",
    "# Code"
   ]
  },
  {
   "cell_type": "code",
   "execution_count": null,
   "id": "52f0d051",
   "metadata": {},
   "outputs": [],
   "source": [
    "# Time: O(n), Space: O(n)\n",
    "from typing import List\n",
    "class Solution:\n",
    "    def maxProfit(self, prices: List[int]) -> int:\n",
    "        n = len(prices)\n",
    "        dp = [[0] * 5 for _ in range(n)]\n",
    "\n",
    "        dp[0][1] = dp[0][3] = -prices[0]\n",
    "\n",
    "        for i in range(1, n):\n",
    "            dp[i][0] = dp[i - 1][0]\n",
    "            dp[i][1] = max(dp[i - 1][1], dp[i - 1][0] - prices[i])\n",
    "            dp[i][2] = max(dp[i - 1][2], dp[i - 1][1] + prices[i])\n",
    "            dp[i][3] = max(dp[i - 1][3], dp[i - 1][2] - prices[i])\n",
    "            dp[i][4] = max(dp[i - 1][4], dp[i - 1][3] + prices[i])\n",
    "\n",
    "        # 按道理是返回max(dp[n - 1][2], dp[n - 1][4])，实际上dp[n - 1][4]已经包括了dp[n - 1][2]!\n",
    "        return dp[n - 1][4]\n"
   ]
  },
  {
   "cell_type": "code",
   "execution_count": null,
   "id": "23d5a701",
   "metadata": {},
   "outputs": [],
   "source": [
    "# 空间优化\n",
    "# Time: O(n), Space: O(1)\n",
    "class Solution:\n",
    "    def maxProfit(self, prices: List[int]) -> int:\n",
    "        n = len(prices)\n",
    "\n",
    "        dp = [0, -prices[0], 0, -prices[0], 0]\n",
    "\n",
    "        for i in range(1, n):\n",
    "            # 将前一天的dp保存下来，防止被覆盖！\n",
    "            dp_copy = dp.copy()\n",
    "\n",
    "            dp[1] = max(dp_copy[1], dp_copy[0] - prices[i])\n",
    "            dp[2] = max(dp_copy[2], dp_copy[1] + prices[i])\n",
    "            dp[3] = max(dp_copy[3], dp_copy[2] - prices[i])\n",
    "            dp[4] = max(dp_copy[4], dp_copy[3] + prices[i])\n",
    "\n",
    "\n",
    "        return dp[4]"
   ]
  }
 ],
 "metadata": {
  "kernelspec": {
   "display_name": "Python 3 (ipykernel)",
   "language": "python",
   "name": "python3"
  },
  "language_info": {
   "codemirror_mode": {
    "name": "ipython",
    "version": 3
   },
   "file_extension": ".py",
   "mimetype": "text/x-python",
   "name": "python",
   "nbconvert_exporter": "python",
   "pygments_lexer": "ipython3",
   "version": "3.10.9"
  }
 },
 "nbformat": 4,
 "nbformat_minor": 5
}

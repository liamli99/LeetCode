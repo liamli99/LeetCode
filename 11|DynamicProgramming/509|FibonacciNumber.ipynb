{
 "cells": [
  {
   "cell_type": "markdown",
   "id": "009257eb",
   "metadata": {},
   "source": [
    "# Approach\n",
    "1. dp数组：`dp[i]`表示第i个斐波那契数，0 <= i <= n \n",
    "\n",
    "2. 递推公式：`dp[i] = dp[i-1] + dp[i-2]`\n",
    "\n",
    "3. 初始化：`dp[0] = 0`，`dp[1] = 1`   \n",
    "\n",
    "4. 遍历顺序：从前往后\n",
    "\n",
    "# Code"
   ]
  },
  {
   "cell_type": "code",
   "execution_count": null,
   "id": "642b425f",
   "metadata": {},
   "outputs": [],
   "source": [
    "# Recursion\n",
    "# Time: O(2^n), Space: O(n)\n",
    "class Solution:\n",
    "    def fib(self, n: int) -> int:\n",
    "        if n <= 1:\n",
    "            return n\n",
    "        \n",
    "        return self.fib(n - 1) + self.fib(n - 2)"
   ]
  },
  {
   "cell_type": "code",
   "execution_count": null,
   "id": "e281de5d",
   "metadata": {},
   "outputs": [],
   "source": [
    "# DP\n",
    "# Time: O(n), Space: O(n)\n",
    "class Solution:\n",
    "    def fib(self, n: int) -> int:\n",
    "        # 当n=0或1时，不存在递推公式，必须提前讨论掉！\n",
    "        if n < 2:\n",
    "            return n\n",
    "        \n",
    "        # 初始化，注意dp数组长度为n+1，因为dp[0]到dp[n]一共有n+1个元素！\n",
    "        dp = [0] * (n + 1)\n",
    "        dp[0] = 0\n",
    "        dp[1] = 1\n",
    "        \n",
    "        # 遍历顺序是从前往后\n",
    "        for i in range(2, n + 1):\n",
    "            # 递推公式\n",
    "            dp[i] = dp[i - 1] + dp[i - 2]\n",
    "        \n",
    "        return dp[n]"
   ]
  },
  {
   "cell_type": "code",
   "execution_count": null,
   "id": "86774edc",
   "metadata": {},
   "outputs": [],
   "source": [
    "# DP，优化空间复杂度\n",
    "# Time: O(n), Space: O(1)\n",
    "class Solution:\n",
    "    def fib(self, n: int) -> int:\n",
    "        if n < 2:\n",
    "            return n\n",
    "        \n",
    "        # 初始化，dp[0]表示第n-1个斐波那契数，dp[1]表示第n个斐波那契数！\n",
    "        dp = [0, 1]\n",
    "\n",
    "        for _ in range(2, n + 1):\n",
    "            sum_ = dp[0] + dp[1]\n",
    "            dp[0], dp[1] = dp[1], sum_\n",
    "        \n",
    "        return dp[1]"
   ]
  }
 ],
 "metadata": {
  "kernelspec": {
   "display_name": "Python 3 (ipykernel)",
   "language": "python",
   "name": "python3"
  },
  "language_info": {
   "codemirror_mode": {
    "name": "ipython",
    "version": 3
   },
   "file_extension": ".py",
   "mimetype": "text/x-python",
   "name": "python",
   "nbconvert_exporter": "python",
   "pygments_lexer": "ipython3",
   "version": "3.10.9"
  }
 },
 "nbformat": 4,
 "nbformat_minor": 5
}

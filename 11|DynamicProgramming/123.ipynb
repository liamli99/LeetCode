{
 "cells": [
  {
   "cell_type": "markdown",
   "id": "009257eb",
   "metadata": {},
   "source": [
    "# Approach\n",
    "<!-- Describe your approach to solving the problem. -->\n",
    "本题和121，122的唯一区别是本题股票至多买卖两次！！！注意最多持有一只股票，所以再次购买前要出售掉之前的股票！！！121和122的结合题。\n",
    "   \n",
    "1. 含义：dp[i][j]中表示第0-i天(中的某一天)经历状态j剩余的最大金额！j可以取0，1，2，3！\n",
    "dp[i][0]表示第0-i天(中的某一天)第一次买入股票后剩余的最大金额！dp[i][1]表示第0-i天第一次卖出股票后剩余的最大金额！dp[i][2]表示第0-i天第二次买入股票后剩余的最大金额！dp[i][3]表示第0-i天第二次卖出股票后剩余的最大金额！\n",
    "\n",
    "2. 递推公式：类比121！\n",
    "\n",
    "3. 初始化：dp[0][0]=-prices[i], dp[0][1]=0, dp[0][2]=-prices[0], dp[0][3]=0\n",
    "注意dp[0][2]表示第0天第二次买入股票后剩余的最大金额，这表示第0天已经经历过一次买入和一次卖出了！所以此时再买入剩余-prices[i]金额！  \n",
    "\n",
    "4. 遍历顺序：从前往后\n",
    "\n",
    "# Note\n",
    "\n",
    "\n",
    "# Code"
   ]
  },
  {
   "cell_type": "code",
   "execution_count": null,
   "id": "52f0d051",
   "metadata": {},
   "outputs": [],
   "source": [
    "# 动态规划; Time: O(n), Space: O(n)\n",
    "# 当然也可以构建一个四列的数组，每列分别代表dp0，dp1，dp2，dp3！本质是一样的！\n",
    "class Solution:\n",
    "    def maxProfit(self, prices: List[int]) -> int:\n",
    "        dp0 = [0] * len(prices)\n",
    "        dp1 = [0] * len(prices)\n",
    "        dp2 = [0] * len(prices)\n",
    "        dp3 = [0] * len(prices)\n",
    "\n",
    "        dp0[0] = -prices[0]\n",
    "        dp1[0] = 0\n",
    "        dp2[0] = -prices[0]\n",
    "        dp3[0] = 0\n",
    "\n",
    "        for i in range(1, len(prices)):\n",
    "            dp0[i] = max(dp0[i - 1], -prices[i])\n",
    "            \n",
    "            # dp1[i] = max(dp1[i - 1], dp0[i] + prices[i])\n",
    "            dp1[i] = max(dp1[i - 1], dp0[i - 1] + prices[i])\n",
    "            # dp2[i] = max(dp2[i - 1], dp1[i] - prices[i])\n",
    "            dp2[i] = max(dp2[i - 1], dp1[i - 1] - prices[i])\n",
    "            # dp3[i] = max(dp3[i - 1], dp2[i] + prices[i])\n",
    "            dp3[i] = max(dp3[i - 1], dp2[i - 1] + prices[i])\n",
    "\n",
    "        return dp3[len(prices) - 1]\n",
    "\n",
    "# 动态规划，空间优化; Time: O(n), Space: O(1)\n",
    "class Solution:\n",
    "    def maxProfit(self, prices: List[int]) -> int:\n",
    "\n",
    "        dp0 = -prices[0]\n",
    "        dp1 = 0\n",
    "        dp2 = -prices[0]\n",
    "        dp3 = 0\n",
    "        \n",
    "        for i in range(1, len(prices)):\n",
    "            # 这里的顺序是由于上述dp1到dp3的另一种写法导致的，其实很不好理解！我建议还是用temp保存上次的值，见309\n",
    "            dp0 = max(dp0, -prices[i])\n",
    "            dp1 = max(dp1, dp0 + prices[i])\n",
    "            dp2 = max(dp2, dp1 - prices[i])\n",
    "            dp3 = max(dp3, dp2 + prices[i])\n",
    "            \n",
    "        return dp3"
   ]
  }
 ],
 "metadata": {
  "kernelspec": {
   "display_name": "Python 3 (ipykernel)",
   "language": "python",
   "name": "python3"
  },
  "language_info": {
   "codemirror_mode": {
    "name": "ipython",
    "version": 3
   },
   "file_extension": ".py",
   "mimetype": "text/x-python",
   "name": "python",
   "nbconvert_exporter": "python",
   "pygments_lexer": "ipython3",
   "version": "3.10.9"
  }
 },
 "nbformat": 4,
 "nbformat_minor": 5
}

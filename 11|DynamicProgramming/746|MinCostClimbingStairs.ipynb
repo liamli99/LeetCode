{
 "cells": [
  {
   "cell_type": "markdown",
   "id": "009257eb",
   "metadata": {},
   "source": [
    "# Approach\n",
    "1. dp数组：`dp[i]`表示爬到第i个台阶，最小花费为`dp[i]`，0 <= i <= len(cost)\n",
    "\n",
    "2. 递推公式：爬到第i个台阶有两种方法: 1. 在第i-1个台阶走一步上到第i个台阶，最小花费为`dp[i-1] + cost[i-1]` 2. 在第i-2个台阶走两步上到第i个台阶，最小花费为`dp[i-2] + cost[i-2]`！因此爬到第i个台阶的最小花费`dp[i] = min(dp[i-1] + cost[i-1], dp[i-2] + cost[i-2])`!\n",
    "\n",
    "3. 初始化：`dp[0] = 0`，`dp[1] = 0`，这是因为题目中说我们可以从第0个或第1个台阶开始爬！\n",
    "\n",
    "4. 遍历顺序：从前往后\n",
    "\n",
    "# Code"
   ]
  },
  {
   "cell_type": "code",
   "execution_count": null,
   "id": "e281de5d",
   "metadata": {},
   "outputs": [],
   "source": [
    "# Time: O(n), Space: O(n)\n",
    "class Solution:\n",
    "    def minCostClimbingStairs(self, cost: List[int]) -> int:\n",
    "        # 由于题目说了cost长度大于等于2，因此n>=2，因此dp数组长度大于等于3，一定可以定义dp[0]和dp[1]！\n",
    "        \n",
    "        n = len(cost)\n",
    "        \n",
    "        dp = [0] * (n + 1)\n",
    "        dp[0] = 0\n",
    "        dp[1] = 0\n",
    "\n",
    "        for i in range(2, n + 1):\n",
    "            dp[i] = min(dp[i - 1] + cost[i - 1], dp[i - 2] + cost[i - 2])\n",
    "        \n",
    "        return dp[n]"
   ]
  },
  {
   "cell_type": "code",
   "execution_count": null,
   "id": "2bce49b3",
   "metadata": {},
   "outputs": [],
   "source": [
    "# 优化空间复杂度\n",
    "# Time: O(n), Space: O(1)\n",
    "class Solution:\n",
    "    def minCostClimbingStairs(self, cost: List[int]) -> int:\n",
    "        n = len(cost)\n",
    "        \n",
    "        dp = [0, 0]\n",
    "\n",
    "        for i in range(2, n + 1):\n",
    "            minCost = min(dp[0] + cost[i - 2], dp[1] + cost[i - 1])\n",
    "            dp[0], dp[1] = dp[1], minCost\n",
    "        \n",
    "        return dp[1]"
   ]
  }
 ],
 "metadata": {
  "kernelspec": {
   "display_name": "Python 3 (ipykernel)",
   "language": "python",
   "name": "python3"
  },
  "language_info": {
   "codemirror_mode": {
    "name": "ipython",
    "version": 3
   },
   "file_extension": ".py",
   "mimetype": "text/x-python",
   "name": "python",
   "nbconvert_exporter": "python",
   "pygments_lexer": "ipython3",
   "version": "3.10.9"
  }
 },
 "nbformat": 4,
 "nbformat_minor": 5
}

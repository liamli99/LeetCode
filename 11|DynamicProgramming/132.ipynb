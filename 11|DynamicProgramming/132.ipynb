{
 "cells": [
  {
   "cell_type": "markdown",
   "id": "009257eb",
   "metadata": {},
   "source": [
    "# Approach\n",
    "<!-- Describe your approach to solving the problem. -->\n",
    "方法一：动态规划\n",
    "看似很像647，其实只是用了647中判断s[i]到s[j]的字符串是否是回文子串的方法！本质上我觉得这道题更像343！！！dp[i]取决于dp[0]一直到dp[i-1]，而不仅仅只是dp[i-1]！   \n",
    "\n",
    "1. 含义：dp[i]表示从s[0]到s[i]的字符串需要的最小分割次数！\n",
    "\n",
    "2. 递推公式：对于一个从s[0]到s[i]的字符串，我们选择在j处先分割一次！即在dp[j]的左边分割，0<=j<=i！假如s[j]到s[i]这个字符串是回文子串，那么总的分割次数就是s[0]到s[j-1]的分割次数加1，加的1是在j处分割的一次！即dp[i]=dp[j-1]+1。由于我们是遍历dp[i]，且dp的含义是最小值，dp[i]=min(dp[i], dp[j-1]+1)！不需要担心如果所有的s[j]到s[i]这个字符串都不是回文子串的话if没法操作！至少j=i时，最右边的字符串只包含一个元素时该字符串一定是回文子串！\n",
    "\n",
    "3. 初始化：dp[0]=0\n",
    "\n",
    "4. 遍历顺序：两层遍历，第一层从前往后遍历每个dp元素，第二层在dp元素内部遍历找最小分割次数！\n",
    "\n",
    "方法二：回溯，参考131，但是超时了！\n",
    "\n",
    "# Note\n",
    "\n",
    "\n",
    "# Code"
   ]
  },
  {
   "cell_type": "code",
   "execution_count": null,
   "id": "e281de5d",
   "metadata": {},
   "outputs": [],
   "source": [
    "class Solution:\n",
    "    def minCut(self, s: str) -> int:\n",
    "    \n",
    "        isP = [[False] * len(s) for _ in range(len(s))]\n",
    "\n",
    "        isP[len(s) - 1][len(s) - 1] = True\n",
    "        isP[0][0] = True\n",
    "\n",
    "        for i in range(len(s) - 2, -1, -1):\n",
    "            for j in range(max(i, 1), len(s)):\n",
    "                if s[i] != s[j]:\n",
    "                    isP[i][j] = False\n",
    "                else:\n",
    "                    if i == j or i == j - 1:\n",
    "                        isP[i][j] = True\n",
    "                    else:\n",
    "                        isP[i][j] = isP[i + 1][j - 1]\n",
    "        \n",
    "        # 注意这里一定不能写成dp = [0] * len(s)，如果都是dp都是0的话取min还是0！一开始的时候应该赋予最大值！\n",
    "        # 当然也没必要赋予无穷大，需要分割的最大次数就是index！正好也初始化了dp[0]！\n",
    "        dp = [i for i in range(len(s))] \n",
    "        for i in range(1, len(s)):\n",
    "            for j in range(i + 1):\n",
    "                if isP[j][i]:\n",
    "                    if j == 0:\n",
    "                        dp[i] = 0\n",
    "                    else:\n",
    "                        dp[i] = min(dp[i], dp[j - 1] + 1)\n",
    "        return dp[-1]"
   ]
  }
 ],
 "metadata": {
  "kernelspec": {
   "display_name": "Python 3 (ipykernel)",
   "language": "python",
   "name": "python3"
  },
  "language_info": {
   "codemirror_mode": {
    "name": "ipython",
    "version": 3
   },
   "file_extension": ".py",
   "mimetype": "text/x-python",
   "name": "python",
   "nbconvert_exporter": "python",
   "pygments_lexer": "ipython3",
   "version": "3.10.9"
  }
 },
 "nbformat": 4,
 "nbformat_minor": 5
}

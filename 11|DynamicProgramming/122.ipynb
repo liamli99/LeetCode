{
 "cells": [
  {
   "cell_type": "markdown",
   "id": "009257eb",
   "metadata": {},
   "source": [
    "# Approach\n",
    "<!-- Describe your approach to solving the problem. -->\n",
    "本题和121的唯一区别是本题股票可以买卖多次了！！！注意还是最多只能持有一支股票，所以再次购买前要出售掉之前的股票！   \n",
    "\n",
    "方法一：贪心。   \n",
    "注意！最终利润是可以分解的：那么根据prices可以得到每天的利润序列：(prices[i] - prices[i - 1]).....(prices[1] - prices[0])   \n",
    "利润从第二天开始算起！当天减去前一天得到净利润，贪心在于想让每一天的净利润都是正数！   \n",
    "想让总利润最大，收集所有正利润！所以我们定义局部最优：收集每天的正的净利润！  \n",
    "举个例子，假设prices=[5,7,9]，一看就知道应该第0天买第2天卖，这样利润为4。如果按照贪心来分析，由于第1天价格高于第0天，那么可以第0天买第1天卖，赚2！由于第2天价格高于第1天，那么可以第1天买第2天卖！又赚2！因此一共赚4，等于之前的判断！最终利润可以拆分成每天的正利润！\n",
    "\n",
    "\n",
    "方法二：动态规划。基本类似121，唯一区别就是递推公式！ \n",
    "1. 含义：dp0[i]表示第0-i天(中的某一天)买入股票所剩最大金额！dp1[i]表示第0-i天(中的某一天)卖出股票所剩最大金额，即题目所要求的最大利润！ \n",
    "\n",
    "2. 递推公式：基本类似121，唯一区别就是dp0[i]的公式！这里dp0[i]=max(dp0[i-1], dp1[i-1]-prices[i])！这是因为和121不同，本题可以买卖股票多次，因此买入股票的时候身上可能有钱！如果买入第i天的股票，那么剩余的金额等于之前的第0-(i-1)天卖掉某支股票后剩余的钱再减去第i天股票的钱！注意这里有dp1[i-1]，这表示在买这支股票之前卖了其他的股票，符合题目要求“你必须在再次购买前出售掉之前的股票”！！！英文里说的是\"You can only hold at most one share of the stock at any time.\"其实就是一个意思！\n",
    "\n",
    "3. 初始化：dp[0]=-prices[i]\n",
    "\n",
    "4. 遍历顺序：从前往后\n",
    "\n",
    "# Note\n",
    "\n",
    "\n",
    "# Code"
   ]
  },
  {
   "cell_type": "code",
   "execution_count": null,
   "id": "642b425f",
   "metadata": {},
   "outputs": [],
   "source": [
    "# 贪心\n",
    "class Solution:\n",
    "    def maxProfit(self, prices: List[int]) -> int:\n",
    "        # 可以删去！当仅有一个元素时无法跑下面的for loop\n",
    "        # if len(prices) == 1:\n",
    "        #     return 0\n",
    "        \n",
    "        profit = 0\n",
    "        for i in range(len(prices) - 1):\n",
    "            if prices[i + 1] - prices[i] > 0:\n",
    "                profit += prices[i + 1] - prices[i]\n",
    "        return profit"
   ]
  },
  {
   "cell_type": "code",
   "execution_count": null,
   "id": "52f0d051",
   "metadata": {},
   "outputs": [],
   "source": [
    "# 动态规划; Time: O(n), Space: O(n)\n",
    "# 当然也可以构建一个两列的数组，每列分别代表dp0和dp1！本质是一样的！\n",
    "class Solution:\n",
    "    def maxProfit(self, prices: List[int]) -> int:\n",
    "        dp0 = [0] * len(prices)\n",
    "        dp1 = [0] * len(prices)\n",
    "        # 初始化\n",
    "        dp0[0] = -prices[0]\n",
    "        dp1[0] = 0\n",
    "        # 从前往后遍历\n",
    "        for i in range(1, len(prices)):\n",
    "            # 买股票\n",
    "            dp0[i] = max(dp0[i - 1], dp1[i - 1] - prices[i])\n",
    "            # 卖股票\n",
    "            # dp1[i] = max(dp1[i - 1], dp0[i] + prices[i])\n",
    "            dp1[i] = max(dp1[i - 1], dp0[i - 1] + prices[i])\n",
    "        \n",
    "        return dp1[len(prices) - 1]\n",
    "\n",
    "# 动态规划，空间优化; Time: O(n), Space: O(1)\n",
    "class Solution:\n",
    "    def maxProfit(self, prices: List[int]) -> int:\n",
    "\n",
    "        dp0 = -prices[0]\n",
    "        dp1 = 0\n",
    "        \n",
    "        for i in range(1, len(prices)):\n",
    "            # 下面的顺序是由于dp1[i]可以等于max(dp1[i-1], dp0[i]+prices[i])！\n",
    "            dp0 = max(dp1, dp0 + prices[i])\n",
    "            dp1 = max(dp0, dp1 - prices[i])\n",
    "            \n",
    "        return dp1"
   ]
  }
 ],
 "metadata": {
  "kernelspec": {
   "display_name": "Python 3 (ipykernel)",
   "language": "python",
   "name": "python3"
  },
  "language_info": {
   "codemirror_mode": {
    "name": "ipython",
    "version": 3
   },
   "file_extension": ".py",
   "mimetype": "text/x-python",
   "name": "python",
   "nbconvert_exporter": "python",
   "pygments_lexer": "ipython3",
   "version": "3.10.9"
  }
 },
 "nbformat": 4,
 "nbformat_minor": 5
}

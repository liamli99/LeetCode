{
 "cells": [
  {
   "cell_type": "markdown",
   "id": "009257eb",
   "metadata": {},
   "source": [
    "# Approach\n",
    "<!-- Describe your approach to solving the problem. -->\n",
    "本题和121的唯一区别是本题股票可以买卖多次了！！！注意还是最多只能持有一支股票，所以再次购买前要出售掉之前的股票！   \n",
    "\n",
    "方法一：贪心。   \n",
    "122中的贪心根本不用关心什么时候买卖，由于利润可以分解，我们只需要加正利润即可！但是本题每次交易卖出时要给手续费，我们必须要知道什么时候买什么时候卖，不然的话有一次正利润就减一次手续费会多给手续费！！！\n",
    "具体解法见：https://programmercarl.com/0714.%E4%B9%B0%E5%8D%96%E8%82%A1%E7%A5%A8%E7%9A%84%E6%9C%80%E4%BD%B3%E6%97%B6%E6%9C%BA%E5%90%AB%E6%89%8B%E7%BB%AD%E8%B4%B9.html\n",
    "\n",
    "\n",
    "方法二：动态规划。完全类似122，唯一的改动是对于dp1[i]，如果要卖第i天的股票，那么必须要减去fee！   \n",
    "\n",
    "# Note\n",
    "\n",
    "\n",
    "# Code"
   ]
  },
  {
   "cell_type": "code",
   "execution_count": null,
   "id": "642b425f",
   "metadata": {},
   "outputs": [],
   "source": [
    "# 贪心\n",
    "class Solution:\n",
    "    def maxProfit(self, prices: List[int]) -> int:\n"
   ]
  },
  {
   "cell_type": "code",
   "execution_count": null,
   "id": "52f0d051",
   "metadata": {},
   "outputs": [],
   "source": [
    "# 动态规划; Time: O(n), Space: O(n)\n",
    "# 当然也可以构建一个两列的数组，每列分别代表dp0和dp1！本质是一样的！\n",
    "class Solution:\n",
    "    def maxProfit(self, prices: List[int], fee: int) -> int:\n",
    "        dp0 = [0] * len(prices)\n",
    "        dp1 = [0] * len(prices)\n",
    "\n",
    "        dp0[0] = -prices[0]\n",
    "        dp1[0] = 0\n",
    "\n",
    "        for i in range(1, len(prices)):\n",
    "            dp0[i] = max(dp0[i - 1], dp1[i - 1] - prices[i])\n",
    "            dp1[i] = max(dp1[i - 1], dp0[i - 1] + prices[i] - fee)\n",
    "        \n",
    "        return dp1[len(prices) - 1]\n",
    "\n",
    "# 动态规划，空间优化; Time: O(n), Space: O(1)\n",
    "class Solution:\n",
    "    def maxProfit(self, prices: List[int], fee: int) -> int:\n",
    "        dp0 = -prices[0]\n",
    "        dp1 = 0\n",
    "\n",
    "        for i in range(1, len(prices)):\n",
    "            dp0 = max(dp0, dp1 - prices[i])\n",
    "            dp1 = max(dp1, dp0 + prices[i] - fee)\n",
    "        \n",
    "        return dp1"
   ]
  }
 ],
 "metadata": {
  "kernelspec": {
   "display_name": "Python 3 (ipykernel)",
   "language": "python",
   "name": "python3"
  },
  "language_info": {
   "codemirror_mode": {
    "name": "ipython",
    "version": 3
   },
   "file_extension": ".py",
   "mimetype": "text/x-python",
   "name": "python",
   "nbconvert_exporter": "python",
   "pygments_lexer": "ipython3",
   "version": "3.10.9"
  }
 },
 "nbformat": 4,
 "nbformat_minor": 5
}

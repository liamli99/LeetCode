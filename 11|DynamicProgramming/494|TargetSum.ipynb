{
 "cells": [
  {
   "cell_type": "markdown",
   "id": "009257eb",
   "metadata": {},
   "source": [
    "# Approach\n",
    "- 假设加法(+)的总和为X，那么减法(-)的总和就是sum-X，根据题意，`X - (sum - X) = target`，即`X = (target + sum) / 2`！\n",
    "\n",
    "- 因此本题转化为：从nums中选取一些数字使得它们的和等于(target+sum)/2，求有多少种选取方式！\n",
    "\n",
    "- 本题是变种的01背包，背包容量为(target+sum)/2，物品重量为`nums[i]`，不用考虑物品价值：\n",
    "  1. dp数组：`dp[i][j]`表示从下标为0-i的物品里任意取，放进容量为j的背包，选取的物品的总重量恰好为j的选取方式一共有`dp[j]`！\n",
    "  \n",
    "  2. 递推公式：(1)当背包容量小于物品i的重量，即`j < nums[i]`时，不要物品i，即`dp[i][j] = dp[i-1][j]` (2)当背包容量大于等于物品i的重量，即`j >= nums[i]`时，可以要也可以不要物品i！如果不要物品i，同(1)。如果要物品i，`dp[i][j] = dp[i-1][j-nums[i]]`！因此选取方式一共有`dp[i][j] = dp[i-1][j] + dp[i-1][j-nums[i]]`！\n",
    "  \n",
    "  3. 初始化：`dp[i][0] = 0`；当`j != nums[0]`时，`dp[0][j] = 0`；当`j == nums[0]`时，`dp[0][j] = 1`\n",
    "  \n",
    "  4. 遍历顺序：两层遍历，先遍历物品，再遍历背包容量！\n",
    "\n",
    "# Code"
   ]
  },
  {
   "cell_type": "code",
   "execution_count": null,
   "id": "e281de5d",
   "metadata": {},
   "outputs": [],
   "source": [
    "# Time: O(n * (target + sum)), Space: O(target + sum)\n",
    "class Solution:\n",
    "    def findTargetSumWays(self, nums: List[int], target: int) -> int:\n",
    "        # X必须是偶数，并且大于等于0！\n",
    "        if (target + sum(nums)) % 2 == 1:\n",
    "            return 0\n",
    "        if (target + sum(nums)) < 0:\n",
    "            return 0\n",
    "        \n",
    "        bagweight = (target + sum(nums)) // 2\n",
    "        \n",
    "        dp = [0] * (bagweight + 1)\n",
    "        dp[0] = 1\n",
    "\n",
    "        for i in range(len(nums)):  \n",
    "            for j in range(bagweight, nums[i] - 1, -1):  \n",
    "                dp[j] += dp[j - nums[i]]\n",
    "\n",
    "        return dp[-1]"
   ]
  }
 ],
 "metadata": {
  "kernelspec": {
   "display_name": "Python 3 (ipykernel)",
   "language": "python",
   "name": "python3"
  },
  "language_info": {
   "codemirror_mode": {
    "name": "ipython",
    "version": 3
   },
   "file_extension": ".py",
   "mimetype": "text/x-python",
   "name": "python",
   "nbconvert_exporter": "python",
   "pygments_lexer": "ipython3",
   "version": "3.10.9"
  }
 },
 "nbformat": 4,
 "nbformat_minor": 5
}

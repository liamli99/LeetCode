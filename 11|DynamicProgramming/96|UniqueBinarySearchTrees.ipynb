{
 "cells": [
  {
   "cell_type": "markdown",
   "id": "009257eb",
   "metadata": {},
   "source": [
    "# Approach\n",
    "1. 含义：`dp[i]`表示i个node一共可以构造出`dp[i]`种不同的BST，1 <= i <= n\n",
    "\n",
    "2. 递推公式：值为1到i这i个node中的每一个都可以作为root！假设值为j的node作为root，1<=j<=i，那么值为1,...,j-1共j-1个node只能作为左子树，一共有`dp[j-1]`种构造方式！值为j+1,...,i共i-j个node只能作为右子树，一共有`dp[i-j]`种构造方式！因此当值为j的node作为root时一共可以构造出`dp[j-1] * dp[i-j]`种不同的BST！因此i个node一共可以构造出$\\sum_{j=1}^i dp[j-1] * dp[i-j]$种不同的BST！\n",
    "\n",
    "3. 初始化：`dp[0] = 1`\n",
    "\n",
    "4. 遍历顺序：两层遍历，第一层从前往后遍历node数量，第二层遍历每个node为root的情况！\n",
    "\n",
    "# Note\n",
    "- 本题虽然是两层遍历，但仍然是一维DP，因为dp数组仍然是一维的！和之前的题目不同，本题`dp[i]`不仅仅只和前几个dp有关，而是和所有dp都有关，因此我们还需要一层遍历！ \n",
    "\n",
    "# Code"
   ]
  },
  {
   "cell_type": "code",
   "execution_count": null,
   "id": "642b425f",
   "metadata": {},
   "outputs": [],
   "source": [
    "# Time: O(n^2), Space: O(n)\n",
    "class Solution:\n",
    "    def numTrees(self, n: int) -> int:\n",
    "        dp = [0] * (n + 1)\n",
    "        dp[0] = 1\n",
    "\n",
    "        for i in range(1, n + 1):\n",
    "            for j in range(1, i + 1):\n",
    "                dp[i] += dp[j - 1] * dp[i - j]\n",
    "\n",
    "        return dp[n]"
   ]
  }
 ],
 "metadata": {
  "kernelspec": {
   "display_name": "Python 3 (ipykernel)",
   "language": "python",
   "name": "python3"
  },
  "language_info": {
   "codemirror_mode": {
    "name": "ipython",
    "version": 3
   },
   "file_extension": ".py",
   "mimetype": "text/x-python",
   "name": "python",
   "nbconvert_exporter": "python",
   "pygments_lexer": "ipython3",
   "version": "3.10.9"
  }
 },
 "nbformat": 4,
 "nbformat_minor": 5
}

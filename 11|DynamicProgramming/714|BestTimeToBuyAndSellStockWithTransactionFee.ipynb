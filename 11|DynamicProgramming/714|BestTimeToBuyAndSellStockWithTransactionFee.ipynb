{
 "cells": [
  {
   "cell_type": "markdown",
   "id": "009257eb",
   "metadata": {},
   "source": [
    "# Approach\n",
    "- 本题和122的唯一区别在于买卖股票需要付手续费！   \n",
    "\n",
    "- 122中的贪心根本不用关心什么时候买卖，由于利润可以分解，我们只需要加正利润即可！但是本题每次交易卖出时要给手续费，我们必须要知道什么时候买什么时候卖，不然的话有一次正利润就减一次手续费会多给手续费！！！\n",
    "\n",
    "- 动态规划的方法完全类似122，只需要注意卖股票的时候需要支付手续费！\n",
    "\n",
    "\n",
    "# Code"
   ]
  },
  {
   "cell_type": "code",
   "execution_count": null,
   "id": "642b425f",
   "metadata": {},
   "outputs": [],
   "source": [
    "# 贪心\n",
    "# Time: O(), Space: O()\n"
   ]
  },
  {
   "cell_type": "code",
   "execution_count": null,
   "id": "52f0d051",
   "metadata": {},
   "outputs": [],
   "source": [
    "# 动态规划\n",
    "# Time: O(n), Space: O(n)\n",
    "from typing import List\n",
    "class Solution:\n",
    "    def maxProfit(self, prices: List[int], fee: int) -> int:\n",
    "        n = len(prices)\n",
    "        dp = [[0] * 2 for _ in range(n)]\n",
    "\n",
    "        dp[0][1] = -prices[0]\n",
    "\n",
    "        for i in range(1, n):\n",
    "            # 只有卖股票才需要付手续费！\n",
    "            dp[i][0] = max(dp[i - 1][0], dp[i - 1][1] + prices[i] - fee)\n",
    "            dp[i][1] = max(dp[i - 1][1], dp[i - 1][0] - prices[i])\n",
    "        \n",
    "        return dp[n - 1][0]\n"
   ]
  },
  {
   "cell_type": "code",
   "execution_count": null,
   "id": "282d796d",
   "metadata": {},
   "outputs": [],
   "source": [
    "# 动态规划，空间优化\n",
    "# Time: O(n), Space: O(1)\n",
    "class Solution:\n",
    "    def maxProfit(self, prices: List[int], fee: int) -> int:\n",
    "        n = len(prices)\n",
    "       \n",
    "        dp0 = 0\n",
    "        dp1 = -prices[0]\n",
    "\n",
    "        for i in range(1, n):\n",
    "            new_dp0 = max(dp0, dp1 + prices[i] - fee)\n",
    "            new_dp1 = max(dp1, dp0 - prices[i])\n",
    "\n",
    "            dp0, dp1 = new_dp0, new_dp1\n",
    "        \n",
    "        return dp0"
   ]
  }
 ],
 "metadata": {
  "kernelspec": {
   "display_name": "Python 3 (ipykernel)",
   "language": "python",
   "name": "python3"
  },
  "language_info": {
   "codemirror_mode": {
    "name": "ipython",
    "version": 3
   },
   "file_extension": ".py",
   "mimetype": "text/x-python",
   "name": "python",
   "nbconvert_exporter": "python",
   "pygments_lexer": "ipython3",
   "version": "3.10.9"
  }
 },
 "nbformat": 4,
 "nbformat_minor": 5
}

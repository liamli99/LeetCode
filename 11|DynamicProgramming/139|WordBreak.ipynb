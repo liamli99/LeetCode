{
 "cells": [
  {
   "cell_type": "markdown",
   "id": "009257eb",
   "metadata": {},
   "source": [
    "# Approach\n",
    "1. 含义：`dp[i]`表示前i个字符组成的字符串`s[0..i-1]`能否被字典中的单词拆分，0 <= i <= len(s)\n",
    "\n",
    "2. 递推公式：值为1到i这i个node中的每一个都可以作为root！假设值为j的node作为root，1<=j<=i，那么值为1,...,j-1共j-1个node只能作为左子树，一共有`dp[j-1]`种构造方式！值为j+1,...,i共i-j个node只能作为右子树，一共有`dp[i-j]`种构造方式！因此当值为j的node作为root时一共可以构造出`dp[j-1] * dp[i-j]`种不同的BST！因此i个node一共可以构造出$\\sum_{j=1}^i dp[j-1] * dp[i-j]$种不同的BST！\n",
    "\n",
    "3. 初始化：`dp[0] = True`\n",
    "\n",
    "4. 遍历顺序：两层遍历，第一层从前往后遍历s中的字符，第二层遍历分割点！\n",
    "\n",
    "# Code"
   ]
  },
  {
   "cell_type": "code",
   "execution_count": null,
   "id": "642b425f",
   "metadata": {},
   "outputs": [],
   "source": [
    "# Time: O(n^2), Space: O(n)\n",
    "from typing import List\n",
    "class Solution:\n",
    "    def wordBreak(self, s: str, wordDict: List[str]) -> bool:\n",
    "        # 查找是否存在元素的时间复杂度为O(1)\n",
    "        wordDictSet = set(wordDict)\n",
    "        dp = [False] * (len(s) + 1)\n",
    "        dp[0] = True\n",
    "\n",
    "        for i in range(1, len(s) + 1):\n",
    "            for j in range(i):\n",
    "                if dp[j] == True and s[j:i] in wordDictSet:\n",
    "                    dp[i] = True\n",
    "                    break\n",
    "        \n",
    "        return dp[-1]"
   ]
  }
 ],
 "metadata": {
  "kernelspec": {
   "display_name": "Python 3 (ipykernel)",
   "language": "python",
   "name": "python3"
  },
  "language_info": {
   "codemirror_mode": {
    "name": "ipython",
    "version": 3
   },
   "file_extension": ".py",
   "mimetype": "text/x-python",
   "name": "python",
   "nbconvert_exporter": "python",
   "pygments_lexer": "ipython3",
   "version": "3.10.9"
  }
 },
 "nbformat": 4,
 "nbformat_minor": 5
}

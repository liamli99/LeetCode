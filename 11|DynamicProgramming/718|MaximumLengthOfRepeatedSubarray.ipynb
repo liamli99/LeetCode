{
 "cells": [
  {
   "cell_type": "markdown",
   "id": "009257eb",
   "metadata": {},
   "source": [
    "# Approach\n",
    "- 基本思路：如果在nums1和nums2中存在一个公共的最长子数组，且这个子数组的最后一个元素在nums1和nums2中的index分别为i和j。那么一定有`nums[i] == nums[j]`，`nums[i-1] == nums[j-1]`......一直到子数组的第一个元素为止！同时以最后一个元素(i, j)结尾的子数组的长度等于以倒数第二个元素(i-1, j-1)结尾的子数组的长度加1！于是我们找到一个规律：当`nums1[i] == nums2[j]`时，以(i, j)结尾的最大重复连续子数组的长度 = 以(i-1, j-1)结尾的最大重复连续子数组的长度 + 1！！！当不相等时，长度为0！\n",
    "\n",
    "1. 含义：`dp[i][j]`表示以`nums1[i]`和`nums2[j]`结尾的公共最长子数组的长度为`dp[i][j]`\n",
    "\n",
    "2. 递推公式：对于`dp[i][j]`，由于结尾的元素只能有一个，因此当`nums1[i] != nums2[j]`时，无法构成公共子数组，`dp[i][j] = 0`；当`nums1[i] == nums2[j]`时，这两个相同的元素才能作为公共子数组的结尾，因此`dp[i][j] = dp[i-1][j-1] + 1`!\n",
    "\n",
    "3. 初始化：nums1中的每一个元素和`nums2[0]`比较，如果相等，`dp[i][0] = 1`；nums2中的每一个元素和`nums1[0]`比较，如果相等，`dp[0][j] = 1`！\n",
    "\n",
    "4. 遍历顺序：两次遍历，外层遍历nums1，内层遍历nums2\n",
    "\n",
    "# Note\n",
    "- Subarray: continuous increasing subsequence\n",
    "\n",
    "# Code"
   ]
  },
  {
   "cell_type": "code",
   "execution_count": null,
   "id": "e281de5d",
   "metadata": {},
   "outputs": [],
   "source": [
    "# Time: O(m * n), Space: O(m * n)\n",
    "from typing import List\n",
    "class Solution:\n",
    "    def findLength(self, nums1: List[int], nums2: List[int]) -> int:\n",
    "        dp = [[0] * len(nums2) for _ in range(len(nums1))]\n",
    "        \n",
    "        for i in range(len(nums1)):\n",
    "            if nums1[i] == nums2[0]:\n",
    "                dp[i][0] = 1\n",
    "        \n",
    "        for j in range(len(nums2)):\n",
    "            if nums1[0] == nums2[j]:\n",
    "                dp[0][j] = 1\n",
    "        \n",
    "        for i in range(1, len(nums1)):\n",
    "            for j in range(1, len(nums2)):\n",
    "                if nums1[i] == nums2[j]:\n",
    "                    dp[i][j] = dp[i - 1][j - 1] + 1\n",
    "        \n",
    "        # 由于循环是从第二行第二列开始，不能只在循环里面找最大值，因为没法和第一行和第一列比较！        \n",
    "        result = [0] * len(dp)\n",
    "        for i in range(len(dp)):\n",
    "            result[i] = max(dp[i])\n",
    "        return max(result)"
   ]
  },
  {
   "cell_type": "code",
   "execution_count": null,
   "id": "69f8321f",
   "metadata": {},
   "outputs": [],
   "source": [
    "# 空间优化，类似63！\n",
    "# Time: O(m * n), Space: O(n)\n",
    "class Solution:\n",
    "    def findLength(self, nums1: List[int], nums2: List[int]) -> int:\n",
    "        dp = [0] * len(nums2)\n",
    "        \n",
    "        # 第一行，即i=0\n",
    "        for j in range(len(nums2)):\n",
    "            if nums1[0] == nums2[j]:\n",
    "                dp[j] = 1\n",
    "        \n",
    "        result = max(dp)\n",
    "        \n",
    "        # 第二行一直到最后一行\n",
    "        for i in range(1, len(nums1)):\n",
    "            # 倒序：每行最后一个元素到第二个元素！第一个元素要单独讨论因为递推公式中j>=1不能取0！\n",
    "            # 只有倒序排列的时候dp[j - 1]才等价于dp[i - 1][j - 1]!\n",
    "            for j in range(len(nums2) - 1, 0, -1):\n",
    "                if nums1[i] == nums2[j]:\n",
    "                    dp[j] = dp[j - 1] + 1\n",
    "                else:\n",
    "                    dp[j] = 0\n",
    "            \n",
    "            # 单独讨论第一个元素dp[0]\n",
    "            if nums1[i] == nums2[0]:\n",
    "                dp[0] = 1\n",
    "            else:\n",
    "                dp[0] = 0\n",
    "            \n",
    "            result = max(result, max(dp))\n",
    "            \n",
    "        return result\n"
   ]
  }
 ],
 "metadata": {
  "kernelspec": {
   "display_name": "Python 3 (ipykernel)",
   "language": "python",
   "name": "python3"
  },
  "language_info": {
   "codemirror_mode": {
    "name": "ipython",
    "version": 3
   },
   "file_extension": ".py",
   "mimetype": "text/x-python",
   "name": "python",
   "nbconvert_exporter": "python",
   "pygments_lexer": "ipython3",
   "version": "3.10.9"
  }
 },
 "nbformat": 4,
 "nbformat_minor": 5
}

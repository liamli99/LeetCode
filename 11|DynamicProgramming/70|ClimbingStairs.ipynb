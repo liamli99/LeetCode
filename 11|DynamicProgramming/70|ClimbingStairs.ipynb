{
 "cells": [
  {
   "cell_type": "markdown",
   "id": "009257eb",
   "metadata": {},
   "source": [
    "# Approach\n",
    "1. dp数组：`dp[i]`表示爬到第i个台阶，有`dp[i]`种方法，1 <= i <= n \n",
    "\n",
    "2. 递推公式：爬到第i个台阶有两种方法: 1. 在第i-1个台阶走一步上到第i个台阶 2. 在第i-2个台阶走两步上到第i个台阶！因此爬到第i个台阶的方法一共有`dp[i] = dp[i-1] + dp[i-2]`!\n",
    "\n",
    "3. 初始化：`dp[1] = 1`，`dp[2] = 2`，注意本题和509不同，本题`dp[0]`没有意义！\n",
    "\n",
    "4. 遍历顺序：从前往后\n",
    "\n",
    "# Code"
   ]
  },
  {
   "cell_type": "code",
   "execution_count": null,
   "id": "e281de5d",
   "metadata": {},
   "outputs": [],
   "source": [
    "# Time: O(n), Space: O(n)\n",
    "class Solution:\n",
    "    def climbStairs(self, n: int) -> int:\n",
    "        # 当n=1时，dp数组长度为2，没法定义dp[2]，必须提前讨论掉！\n",
    "        if n == 1:\n",
    "            return 1\n",
    "        \n",
    "        dp = [0] * (n + 1)\n",
    "        dp[1] = 1\n",
    "        dp[2] = 2\n",
    "        \n",
    "        for i in range(3, n + 1):\n",
    "            dp[i] = dp[i - 1] + dp[i - 2]\n",
    "        \n",
    "        return dp[n]"
   ]
  },
  {
   "cell_type": "code",
   "execution_count": null,
   "id": "320fbd6b",
   "metadata": {},
   "outputs": [],
   "source": [
    "# 优化空间复杂度\n",
    "# Time: O(n), Space: O(1)\n",
    "class Solution:\n",
    "    def climbStairs(self, n: int) -> int:\n",
    "        # 当n=1时，此时的答案并不是dp[1]，必须提前讨论掉！\n",
    "        if n == 1:\n",
    "            return 1\n",
    "        \n",
    "        # 初始化，dp[0]表示dp[n-1]，dp[1]表示dp[n]！\n",
    "        dp = [1, 2]\n",
    "\n",
    "        for _ in range(3, n + 1):\n",
    "            sum_ = dp[0] + dp[1]\n",
    "            dp[0], dp[1] = dp[1], sum_\n",
    "        \n",
    "        return dp[1]"
   ]
  }
 ],
 "metadata": {
  "kernelspec": {
   "display_name": "Python 3 (ipykernel)",
   "language": "python",
   "name": "python3"
  },
  "language_info": {
   "codemirror_mode": {
    "name": "ipython",
    "version": 3
   },
   "file_extension": ".py",
   "mimetype": "text/x-python",
   "name": "python",
   "nbconvert_exporter": "python",
   "pygments_lexer": "ipython3",
   "version": "3.10.9"
  }
 },
 "nbformat": 4,
 "nbformat_minor": 5
}

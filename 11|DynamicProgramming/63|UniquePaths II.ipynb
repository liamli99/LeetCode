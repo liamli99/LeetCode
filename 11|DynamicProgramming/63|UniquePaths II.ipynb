{
 "cells": [
  {
   "cell_type": "markdown",
   "id": "009257eb",
   "metadata": {},
   "source": [
    "# Approach\n",
    "- 基本类似62，但是要注意两点：\n",
    "  - 如果障碍出现在第一行(0, j)或第一列(i, 0)，那么`dp[0][j]`及其右边或`dp[i][0]`及其下面都等于0！\n",
    "  - 如果障碍出现在其他地方(i, j)，那么`dp[i][j] = 0`！\n",
    "\n",
    "# Code"
   ]
  },
  {
   "cell_type": "code",
   "execution_count": null,
   "id": "e281de5d",
   "metadata": {},
   "outputs": [],
   "source": [
    "# Time: O(m * n), Space: O(m * n)\n",
    "from typing import List\n",
    "class Solution:\n",
    "    def uniquePathsWithObstacles(self, obstacleGrid: List[List[int]]) -> int:\n",
    "        m, n = len(obstacleGrid), len(obstacleGrid[0])\n",
    "        # 不可以像62一样将初始值设置为1，因为可能会有障碍！\n",
    "        dp = [[0] * n for _ in range(m)]\n",
    "        \n",
    "        # 对第一行和第一列进行初始化，如果没有障碍，那么值为1；如果有障碍，那么该障碍及其后面所有都是0！\n",
    "\n",
    "        for i in range(m):\n",
    "            if obstacleGrid[i][0] == 1:\n",
    "                break\n",
    "            else:\n",
    "                dp[i][0] = 1\n",
    "        \n",
    "        for j in range(n):\n",
    "            if obstacleGrid[0][j] == 1:\n",
    "                break\n",
    "            else:\n",
    "                dp[0][j] = 1\n",
    "        \n",
    "        for i in range(1, m):\n",
    "            for j in range(1, n):\n",
    "                if obstacleGrid[i][j] == 1:\n",
    "                    continue\n",
    "                else:\n",
    "                    dp[i][j] = dp[i - 1][j] + dp[i][j - 1]\n",
    "        \n",
    "        return dp[m - 1][n - 1]"
   ]
  },
  {
   "cell_type": "code",
   "execution_count": null,
   "id": "d0707acd",
   "metadata": {},
   "outputs": [],
   "source": [
    "# 优化空间复杂度\n",
    "# Time: O(m * n), Space: O(n)\n",
    "class Solution:\n",
    "    def uniquePathsWithObstacles(self, obstacleGrid: List[List[int]]) -> int:\n",
    "        m, n = len(obstacleGrid), len(obstacleGrid[0])\n",
    "        dp = [0] * n\n",
    "        \n",
    "        for j in range(n):\n",
    "            if obstacleGrid[0][j] == 1:\n",
    "                break\n",
    "            else:\n",
    "                dp[j] = 1\n",
    "        \n",
    "        for i in range(1, m):\n",
    "            # 本题和62不同，在62中dp[0]始终为1，而本题必须提前讨论掉dp[0]！\n",
    "            if obstacleGrid[i][0] == 1:\n",
    "                dp[0] = 0\n",
    "            \n",
    "            for j in range(1, n):\n",
    "                if obstacleGrid[i][j] == 1:\n",
    "                    dp[j] = 0\n",
    "                else:\n",
    "                    dp[j] += dp[j - 1]\n",
    "        \n",
    "        return dp[n - 1]"
   ]
  }
 ],
 "metadata": {
  "kernelspec": {
   "display_name": "Python 3 (ipykernel)",
   "language": "python",
   "name": "python3"
  },
  "language_info": {
   "codemirror_mode": {
    "name": "ipython",
    "version": 3
   },
   "file_extension": ".py",
   "mimetype": "text/x-python",
   "name": "python",
   "nbconvert_exporter": "python",
   "pygments_lexer": "ipython3",
   "version": "3.10.9"
  }
 },
 "nbformat": 4,
 "nbformat_minor": 5
}

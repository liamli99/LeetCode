{
 "cells": [
  {
   "cell_type": "markdown",
   "id": "009257eb",
   "metadata": {},
   "source": [
    "# Approach\n",
    "- 基本类同322\n",
    "\n",
    "# Code"
   ]
  },
  {
   "cell_type": "code",
   "execution_count": null,
   "id": "82728380",
   "metadata": {},
   "outputs": [],
   "source": [
    "# Time: O(n * n^0.5), Space: O(n)\n",
    "class Solution:\n",
    "    def numSquares(self, n: int) -> int:\n",
    "        bagweight = n\n",
    "        perfect_squares = []\n",
    "        for i in range(1, int(n ** 0.5) + 1):\n",
    "            perfect_squares.append(i ** 2)\n",
    "\n",
    "        dp = [float('inf')] * (bagweight + 1)\n",
    "        dp[0] = 0\n",
    "\n",
    "        for i in range(len(perfect_squares)):\n",
    "            for j in range(perfect_squares[i], bagweight + 1):\n",
    "                dp[j] = min(dp[j], dp[j - perfect_squares[i]] + 1)\n",
    "        \n",
    "        # dp[-1]一定不是float('inf')，因为至少n可以由n个1组成！\n",
    "        return dp[-1]"
   ]
  }
 ],
 "metadata": {
  "kernelspec": {
   "display_name": "base",
   "language": "python",
   "name": "python3"
  },
  "language_info": {
   "codemirror_mode": {
    "name": "ipython",
    "version": 3
   },
   "file_extension": ".py",
   "mimetype": "text/x-python",
   "name": "python",
   "nbconvert_exporter": "python",
   "pygments_lexer": "ipython3",
   "version": "3.10.14"
  }
 },
 "nbformat": 4,
 "nbformat_minor": 5
}

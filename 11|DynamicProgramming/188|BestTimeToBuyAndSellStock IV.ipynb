{
 "cells": [
  {
   "cell_type": "markdown",
   "id": "009257eb",
   "metadata": {},
   "source": [
    "# Approach\n",
    "- 基本类似123，只不过现在是至多买卖股票k次!\n",
    "\n",
    "# Code"
   ]
  },
  {
   "cell_type": "code",
   "execution_count": null,
   "id": "52f0d051",
   "metadata": {},
   "outputs": [],
   "source": [
    "# Time: O(n * k), Space: O(n * k)\n",
    "from typing import List\n",
    "class Solution:\n",
    "    def maxProfit(self, k: int, prices: List[int]) -> int:\n",
    "        n = len(prices)\n",
    "        dp = [[0] * (2 * k + 1) for _ in range(n)]\n",
    "\n",
    "        for j in range(1, 2 * k + 1, 2):\n",
    "            dp[0][j] = -prices[0]\n",
    "        \n",
    "        for i in range(1, n):\n",
    "            dp[i][0] = dp[i - 1][0]\n",
    "\n",
    "            for j in range(1, 2 * k + 1):\n",
    "                dp[i][j] = max(dp[i - 1][j], dp[i - 1][j - 1] + prices[i] * (-1) ** (j))\n",
    "        \n",
    "        return dp[n - 1][2 * k]\n"
   ]
  },
  {
   "cell_type": "code",
   "execution_count": null,
   "id": "0a6fdc80",
   "metadata": {},
   "outputs": [],
   "source": [
    "# 空间优化\n",
    "# Time: O(n * k), Space: O(k)\n",
    "class Solution:\n",
    "    def maxProfit(self, k: int, prices: List[int]) -> int:\n",
    "        n = len(prices)\n",
    "        dp = [0] * (2 * k + 1)\n",
    "\n",
    "        for j in range(1, 2 * k + 1, 2):\n",
    "            dp[j] = -prices[0]\n",
    "\n",
    "        for i in range(1, n):\n",
    "            # 将前一天的dp保存下来，防止被覆盖！\n",
    "            dp_copy = dp.copy()\n",
    "\n",
    "            for j in range(1, 2 * k + 1):\n",
    "                dp[j] = max(dp_copy[j], dp_copy[j - 1] + prices[i] * (-1) ** (j))\n",
    "        \n",
    "        return dp[2 * k]"
   ]
  }
 ],
 "metadata": {
  "kernelspec": {
   "display_name": "Python 3 (ipykernel)",
   "language": "python",
   "name": "python3"
  },
  "language_info": {
   "codemirror_mode": {
    "name": "ipython",
    "version": 3
   },
   "file_extension": ".py",
   "mimetype": "text/x-python",
   "name": "python",
   "nbconvert_exporter": "python",
   "pygments_lexer": "ipython3",
   "version": "3.10.9"
  }
 },
 "nbformat": 4,
 "nbformat_minor": 5
}

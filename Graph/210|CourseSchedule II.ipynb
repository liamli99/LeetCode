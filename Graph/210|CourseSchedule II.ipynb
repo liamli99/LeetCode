{
 "cells": [
  {
   "cell_type": "markdown",
   "id": "7d405163",
   "metadata": {},
   "source": [
    "# Approach  \n",
    "和207类似！   \n",
    "\n",
    "此时的DFS不仅会判断能否完成course，同时还要把从后往前把course放进result中！DFS要进行两个操作！   \n",
    "\n",
    "# Note\n",
    "\n",
    "\n",
    "# Code"
   ]
  },
  {
   "cell_type": "code",
   "execution_count": null,
   "id": "c8454406",
   "metadata": {},
   "outputs": [],
   "source": [
    "# DFS\n",
    "class Solution:\n",
    "    def findOrder(self, numCourses: int, prerequisites: List[List[int]]) -> List[int]:\n",
    "        preMap = collections.defaultdict(list)\n",
    "        for course, pre in prerequisites:\n",
    "            preMap[course].append(pre)\n",
    "\n",
    "        visited = [False] * numCourses\n",
    "        result = []\n",
    "\n",
    "        for course in range(numCourses):\n",
    "            if self.dfs(numCourses, prerequisites, preMap, visited, course, result) == False:\n",
    "                return []\n",
    "        return result\n",
    "    \n",
    "    def dfs(self, numCourses, prerequisites, preMap, visited, course, result):\n",
    "        # 注意这里和207不一样，没有检查prerequisite是否为空，倒数第二行也没有清空选修课，但是目的是相同的！\n",
    "        # 下次再用dfs遇到course到最右边的课之间的某门课时，发现该课已经被添加进result中，返回True！避免重复花时间，result中的元素会重复！\n",
    "        if course in result:\n",
    "            return True\n",
    "        # 重复了，有loop，无法上完course\n",
    "        if visited[course] == True:\n",
    "            return False\n",
    "        \n",
    "        visited[course] = True\n",
    "        \n",
    "        for pre in preMap[course]:\n",
    "            if self.dfs(numCourses, prerequisites, preMap, visited, pre, result) == False:\n",
    "                return False\n",
    "        \n",
    "        visited[course] = False\n",
    "        \n",
    "        # 如果course可以上完，那就从后往前将所有课放入result中！\n",
    "        # 即先将最右边的课(course可以指向的最后一门没有prerequisite的课)放进result中，最后再把course放入result中！\n",
    "        result.append(course)\n",
    "        return True"
   ]
  },
  {
   "cell_type": "code",
   "execution_count": null,
   "id": "b786bb7c",
   "metadata": {},
   "outputs": [],
   "source": [
    "# BFS"
   ]
  }
 ],
 "metadata": {
  "kernelspec": {
   "display_name": "Python 3 (ipykernel)",
   "language": "python",
   "name": "python3"
  },
  "language_info": {
   "codemirror_mode": {
    "name": "ipython",
    "version": 3
   },
   "file_extension": ".py",
   "mimetype": "text/x-python",
   "name": "python",
   "nbconvert_exporter": "python",
   "pygments_lexer": "ipython3",
   "version": "3.10.9"
  }
 },
 "nbformat": 4,
 "nbformat_minor": 5
}

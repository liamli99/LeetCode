{
 "cells": [
  {
   "cell_type": "markdown",
   "id": "7d405163",
   "metadata": {},
   "source": [
    "# Approach  \n",
    "注意本题本质上也是graph！有0到n-1共n个房间，每个房间都放了不重复的钥匙，每把钥匙都可以打开对应的房间！我们可以将每个房间指向其内存放的钥匙可以打开的房间，这样就可以根据rooms得到一个有向图！我们标记从rooms[0]开始的所有相连的房间，如果可以把所有房间都标记，就返回True，反之，返回False！这样本题就变成了和200类似的题目！   \n",
    "  \n",
    "\n",
    "# Note\n",
    "\n",
    "# Code"
   ]
  },
  {
   "cell_type": "code",
   "execution_count": null,
   "id": "c8454406",
   "metadata": {},
   "outputs": [],
   "source": [
    "# DFS\n",
    "class Solution:\n",
    "    def canVisitAllRooms(self, rooms: List[List[int]]) -> bool:\n",
    "        visited = [False] * len(rooms)\n",
    "        self.dps(rooms, 0, visited)\n",
    "        \n",
    "        for room in visited:\n",
    "            if room == False:\n",
    "                return False\n",
    "        \n",
    "        return True\n",
    "    \n",
    "    def dps(self, rooms, index, visited):\n",
    "        if visited[index] == True:\n",
    "            return\n",
    "        \n",
    "        visited[index] = True\n",
    "        \n",
    "        # 标记所有和rooms[index]相连的房间！\n",
    "        for nextIndex in rooms[index]:\n",
    "            self.dps(rooms, nextIndex, visited)"
   ]
  },
  {
   "cell_type": "code",
   "execution_count": null,
   "id": "74b69b2e",
   "metadata": {},
   "outputs": [],
   "source": [
    "# BFS\n",
    "class Solution:\n",
    "    def canVisitAllRooms(self, rooms: List[List[int]]) -> bool:\n",
    "        visited = [False] * len(rooms)\n",
    "        self.bfs(rooms, 0, visited)\n",
    "        \n",
    "        for room in visited:\n",
    "            if room == False:\n",
    "                return False\n",
    "        \n",
    "        return True\n",
    "    \n",
    "    def bfs(self, rooms, index, visited):\n",
    "        q = collections.deque()\n",
    "        q.append(index)\n",
    "\n",
    "        visited[0] = True\n",
    "\n",
    "        while len(q) != 0:\n",
    "            index = q.popleft()\n",
    "            for nextIndex in rooms[index]:\n",
    "                if visited[nextIndex] == False:\n",
    "                    q.append(nextIndex)\n",
    "                    visited[nextIndex] = True"
   ]
  }
 ],
 "metadata": {
  "kernelspec": {
   "display_name": "Python 3 (ipykernel)",
   "language": "python",
   "name": "python3"
  },
  "language_info": {
   "codemirror_mode": {
    "name": "ipython",
    "version": 3
   },
   "file_extension": ".py",
   "mimetype": "text/x-python",
   "name": "python",
   "nbconvert_exporter": "python",
   "pygments_lexer": "ipython3",
   "version": "3.10.9"
  }
 },
 "nbformat": 4,
 "nbformat_minor": 5
}

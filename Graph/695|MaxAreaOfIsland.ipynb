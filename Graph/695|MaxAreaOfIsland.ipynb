{
 "cells": [
  {
   "cell_type": "markdown",
   "id": "7d405163",
   "metadata": {},
   "source": [
    "# Approach  \n",
    "类同200，现在的DFS/BFS函数不只是标记相邻的值为1的格子，还需要记录所有相邻的值为1的格子的数量！！！      \n",
    "\n",
    "# Note\n",
    "注意此时grid中的元素是integer而不是string！   \n",
    "\n",
    "# Code"
   ]
  },
  {
   "cell_type": "code",
   "execution_count": null,
   "id": "c8454406",
   "metadata": {},
   "outputs": [],
   "source": [
    "# DFS\n",
    "class Solution:\n",
    "    def maxAreaOfIsland(self, grid: List[List[int]]) -> int:\n",
    "        used = [[False] * len(grid[0]) for _ in range(len(grid))]\n",
    "        maxArea = 0\n",
    "\n",
    "        for i in range(len(grid)):\n",
    "            for j in range(len(grid[0])):\n",
    "                if used[i][j] == False and grid[i][j] == 1:\n",
    "                    maxArea = max(maxArea, self.dfs(grid, i, j, used))\n",
    "        \n",
    "        return maxArea\n",
    "    \n",
    "    def dfs(self, grid, row, col, used):\n",
    "        if (row < 0 or row >= len(grid) or col < 0 or col >= len(grid[0]) or used[row][col] == True or grid[row][col] == 0):\n",
    "            return 0\n",
    "        \n",
    "        used[row][col] = True\n",
    "        \n",
    "        return 1 + self.dfs(grid, row - 1, col, used) \\\n",
    "                 + self.dfs(grid, row + 1, col, used) \\\n",
    "                 + self.dfs(grid, row, col - 1, used) \\\n",
    "                 + self.dfs(grid, row, col + 1, used)"
   ]
  },
  {
   "cell_type": "code",
   "execution_count": null,
   "id": "14511bef",
   "metadata": {},
   "outputs": [],
   "source": [
    "# BFS\n",
    "class Solution:\n",
    "    def maxAreaOfIsland(self, grid: List[List[int]]) -> int:\n",
    "        used = [[False] * len(grid[0]) for _ in range(len(grid))]\n",
    "        maxArea = 0\n",
    "\n",
    "        for i in range(len(grid)):\n",
    "            for j in range(len(grid[0])):\n",
    "                if used[i][j] == False and grid[i][j] == 1:\n",
    "                    maxArea = max(maxArea, self.bfs(grid, i, j, used))\n",
    "        \n",
    "        return maxArea\n",
    "    \n",
    "    def bfs(self, grid, row, col, used):\n",
    "        directions = [[1, 0], [-1, 0], [0, 1], [0, -1]]\n",
    "\n",
    "        q = collections.deque()\n",
    "        q.append((row, col))\n",
    "        \n",
    "        used[row][col] = True\n",
    "\n",
    "        area = 1\n",
    "\n",
    "        while len(q) != 0:\n",
    "            row, col = q.popleft()\n",
    "            for r, c in directions:\n",
    "                newRow, newCol = row + r, col + c\n",
    "                if (0 <= newRow < len(grid) and 0 <= newCol < len(grid[0]) and used[newRow][newCol] == False and grid[newRow][newCol] == 1):\n",
    "                    q.append((newRow, newCol))\n",
    "                    used[newRow][newCol] = True\n",
    "                    area += 1\n",
    "        \n",
    "        return area"
   ]
  }
 ],
 "metadata": {
  "kernelspec": {
   "display_name": "Python 3 (ipykernel)",
   "language": "python",
   "name": "python3"
  },
  "language_info": {
   "codemirror_mode": {
    "name": "ipython",
    "version": 3
   },
   "file_extension": ".py",
   "mimetype": "text/x-python",
   "name": "python",
   "nbconvert_exporter": "python",
   "pygments_lexer": "ipython3",
   "version": "3.10.9"
  }
 },
 "nbformat": 4,
 "nbformat_minor": 5
}

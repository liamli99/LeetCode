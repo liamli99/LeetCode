{
 "cells": [
  {
   "cell_type": "markdown",
   "id": "7d405163",
   "metadata": {},
   "source": [
    "# Approach  \n",
    "本题可以用传统的DFS的方法，遍历grid中的格子找到1后，与这个1相邻的所有1组成了唯一的一个island！本题的DFS类似695，不仅需要标记陆地，还需要计算island的周长！在DFS中，如果格子不存在或是海洋，这表示该格子是某个陆地格子四周的格子，说明这个陆地格子必然有一条边界，返回1！如果该格子被标记过了，返回0！和695类比，仔细体会！！！    \n",
    "\n",
    "当然，本题也可以不用DFS来做！遍历grid中的格子，如果该格子是1，那么检查该格子四周的格子，如果四周的格子不存在或是海洋，说明该格子在这个方向上有一条边界，周长加1！   \n",
    "\n",
    "# Note\n",
    "本题只有一个island！   \n",
    "\n",
    "# Code"
   ]
  },
  {
   "cell_type": "code",
   "execution_count": null,
   "id": "c8454406",
   "metadata": {},
   "outputs": [],
   "source": [
    "# DFS\n",
    "class Solution:\n",
    "    def islandPerimeter(self, grid: List[List[int]]) -> int:\n",
    "        used = [[False] * len(grid[0]) for _ in range(len(grid))]\n",
    "\n",
    "        for i in range(len(grid)):\n",
    "            for j in range(len(grid[0])):\n",
    "                if grid[i][j] == 1:\n",
    "                    return self.dfs(grid, i, j, used)\n",
    "    \n",
    "    def dfs(self, grid, row, col, used):\n",
    "        # 格子不存在或是海洋\n",
    "        if (row < 0 or row >= len(grid) or col < 0 or col >= len(grid[0]) or grid[row][col] == 0):\n",
    "            return 1\n",
    "        \n",
    "        if used[row][col] == True:\n",
    "            return 0\n",
    "        \n",
    "        used[row][col] = True\n",
    "        \n",
    "        return self.dfs(grid, row - 1, col, used) \\\n",
    "             + self.dfs(grid, row + 1, col, used) \\\n",
    "             + self.dfs(grid, row, col - 1, used) \\\n",
    "             + self.dfs(grid, row, col + 1, used)"
   ]
  },
  {
   "cell_type": "code",
   "execution_count": null,
   "id": "b786bb7c",
   "metadata": {},
   "outputs": [],
   "source": [
    "# Iterative\n",
    "class Solution:\n",
    "    def islandPerimeter(self, grid: List[List[int]]) -> int:\n",
    "        perimeter = 0\n",
    "\n",
    "        for i in range(len(grid)):\n",
    "            for j in range(len(grid[0])):\n",
    "                if grid[i][j] == 1:\n",
    "                    perimeter += self.cellPerimeter(grid, i, j)\n",
    "        \n",
    "        return perimeter\n",
    "    \n",
    "    def cellPerimeter(self, grid, row, col):\n",
    "        cellPerimeter = 0\n",
    "        \n",
    "        # 四周的格子不存在或是海洋\n",
    "        if row - 1 < 0 or grid[row - 1][col] == 0:\n",
    "            cellPerimeter += 1\n",
    "        if row + 1 >= len(grid) or grid[row + 1][col] == 0:\n",
    "            cellPerimeter += 1\n",
    "        if col - 1 < 0 or grid[row][col - 1] == 0:\n",
    "            cellPerimeter += 1\n",
    "        if col + 1 >= len(grid[0]) or grid[row][col + 1] == 0:\n",
    "            cellPerimeter += 1\n",
    "        \n",
    "        return cellPerimeter"
   ]
  }
 ],
 "metadata": {
  "kernelspec": {
   "display_name": "Python 3 (ipykernel)",
   "language": "python",
   "name": "python3"
  },
  "language_info": {
   "codemirror_mode": {
    "name": "ipython",
    "version": 3
   },
   "file_extension": ".py",
   "mimetype": "text/x-python",
   "name": "python",
   "nbconvert_exporter": "python",
   "pygments_lexer": "ipython3",
   "version": "3.10.9"
  }
 },
 "nbformat": 4,
 "nbformat_minor": 5
}

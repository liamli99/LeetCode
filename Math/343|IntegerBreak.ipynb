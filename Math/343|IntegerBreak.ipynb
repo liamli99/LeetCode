{
 "cells": [
  {
   "cell_type": "markdown",
   "id": "009257eb",
   "metadata": {},
   "source": [
    "# Approach\n",
    "- 假设将n拆分成k(k >= 2)个正整数，其中一个正整数是f，且f>=4，那么f还可以被拆分成2和f-2，`2 * (f-2) = 2f - 4 >= f`！！！因此这k个正整数中不可以有大于等于4的数字！！！因此这k个正整数只可以是1，2，3！很显然，1也不可能，因此只可以是2，3！同时，2的个数不可以超过2个，如果2的个数超过2个，那么可以将3个2换成2个3，因为`3 * 3 > 2 * 2 * 2`，因此2的个数只有0，1，2！**我们要将x拆分成尽可能多的3！！！**\n",
    "\n",
    "- 当n = 3m(m >= 2)时，将n拆分成m个3\n",
    "- 当n = 3m ，将n拆分成m-1个3和2个2+ 1(m >= 1)时\n",
    "- 当n = 3m + 2(m >= 1)时，将n拆分成m个3和1个2\n",
    "\n",
    "# Code"
   ]
  },
  {
   "cell_type": "code",
   "execution_count": 34,
   "id": "ce5122d2",
   "metadata": {},
   "outputs": [],
   "source": [
    "# Time: O(1), Space: O(1)\n",
    "class Solution:\n",
    "    def integerBreak(self, n: int) -> int:\n",
    "        if n <= 3:\n",
    "            return n - 1\n",
    "        \n",
    "        m, remainder = n // 3, n % 3\n",
    "\n",
    "        if remainder == 0:\n",
    "            return 3 ** m\n",
    "        elif remainder == 1:\n",
    "            return 3 ** (m - 1) * 2 * 2\n",
    "        else:\n",
    "            return 3 ** m * 2"
   ]
  },
  {
   "cell_type": "code",
   "execution_count": 50,
   "id": "1e6ff9ac",
   "metadata": {},
   "outputs": [
    {
     "name": "stdout",
     "output_type": "stream",
     "text": [
      "[(9, 3, 4), (2, 6, 7)]\n"
     ]
    }
   ],
   "source": [
    "# p6\n",
    "xx = [9,3,4,2,6,7]\n",
    "\n",
    "yy = []\n",
    "\n",
    "for i in range(0, len(xx), 3):\n",
    "  yy.append((xx[i], xx[i + 1], xx[i + 2]))\n",
    "\n",
    "print(yy)\n"
   ]
  }
 ],
 "metadata": {
  "kernelspec": {
   "display_name": "Python 3 (ipykernel)",
   "language": "python",
   "name": "python3"
  },
  "language_info": {
   "codemirror_mode": {
    "name": "ipython",
    "version": 3
   },
   "file_extension": ".py",
   "mimetype": "text/x-python",
   "name": "python",
   "nbconvert_exporter": "python",
   "pygments_lexer": "ipython3",
   "version": "3.10.14"
  }
 },
 "nbformat": 4,
 "nbformat_minor": 5
}

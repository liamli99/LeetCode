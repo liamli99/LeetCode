{
 "cells": [
  {
   "cell_type": "markdown",
   "id": "7d405163",
   "metadata": {},
   "source": [
    "# Approach\n",
    "一开始想用backtracking来做，限定条件为长度是3且回文，用set来存储所有结果用以去重，但是TLE！   \n",
    "\n",
    "题目要求是长度为3的回文序列，这种回文序列的特征是，中间的字母可以是任何字母，左右两边的字母必须相同！因此我们可以遍历s中的每个字母，将该字母当成回文序列的中间元素，然后再遍历26个英文字母，检查每个英文字母是否同时在该字母的左右两边，如果在，就找到了一个回文序列！将其添加进set中(为了去重)！   \n",
    "\n",
    "那么难点就在于如何找到s中每个字母的左右两边的所有字母！每个字母的左边的所有字母可以在正序遍历s的时候添加进去，很方便！对于右边的所有字母，有两种思路：1.参考238，我们需要再来一次倒序遍历s来找到每个字母的右边的所有字母！ 2.参考2017，一开始先找到第一个字母的右边所有的字母，然后在正序遍历s的时候减去当前字母，就得到了该字母的右边的所有字母！注意这种处理方式不需要单独来一次遍历s，可以与添加每个字母的左边的所有字母同时进行，和第一种方法相比少了一次循环！   \n",
    "\n",
    "注意对于第二种方法最好用counter，因为counter就是dict的subclass，它的key是元素，value是元素的次数，counter也是用hashtable实现的，因此效率非常高！用list会TLE！   \n",
    "\n",
    "注意我们需要定义一个set变量来对最终结果(长度为3的回文序列)去重！存入set中的元素可以是一个tuple！第一个元素表示回文序列的中间的字母，第二个元素表示回文序列的两边的字母！这是因为我们只需要这两个字母就足以描述长度为3的回文序列！   \n",
    "\n",
    "# Note\n",
    "python collections.Counter: https://docs.python.org/3/library/collections.html#collections.Counter\n",
    "\n",
    "# Code"
   ]
  },
  {
   "cell_type": "code",
   "execution_count": null,
   "id": "c8454406",
   "metadata": {},
   "outputs": [],
   "source": [
    "# backtracking, TLE\n",
    "class Solution:\n",
    "    def countPalindromicSubsequence(self, s: str) -> int:\n",
    "        path = \"\"\n",
    "        result = set()\n",
    "        self.backtracking(s, 0, path, result)\n",
    "        return len(result)\n",
    "    \n",
    "    def isP(self, s):\n",
    "        start = 0\n",
    "        end = len(s) - 1\n",
    "        while (start < end):\n",
    "            if s[start] != s[end]:\n",
    "                return False\n",
    "            start += 1\n",
    "            end -= 1\n",
    "        return True\n",
    "    \n",
    "    def backtracking(self, s, startIndex, path, result):\n",
    "        if len(path) == 3:\n",
    "            if self.isP(path):\n",
    "                result.add(path)\n",
    "            return\n",
    "        \n",
    "        for i in range(startIndex, len(s)):\n",
    "            path += s[i]\n",
    "            self.backtracking(s, i + 1, path, result)\n",
    "            path = path[ : -1]"
   ]
  },
  {
   "cell_type": "code",
   "execution_count": null,
   "id": "37fb93ab",
   "metadata": {},
   "outputs": [],
   "source": [
    "# prefix sum，参考238\n",
    "class Solution:\n",
    "    def countPalindromicSubsequence(self, s: str) -> int:\n",
    "        left = set()\n",
    "        right = collections.defaultdict(set)\n",
    "        result = set()\n",
    "        \n",
    "        for i in range(len(s) - 2, -1, -1):\n",
    "            right[i] = right[i + 1].copy()\n",
    "            right[i].add(s[i + 1])\n",
    "    \n",
    "        for mid in range(1, len(s) - 1):\n",
    "            left.add(s[mid - 1])\n",
    "            for i in range(26):\n",
    "                char = chr(ord('a') + i)\n",
    "                if char in left and char in right[mid]:\n",
    "                    result.add((s[mid], char))\n",
    "        \n",
    "        return len(result)"
   ]
  },
  {
   "cell_type": "code",
   "execution_count": null,
   "id": "80c97f17",
   "metadata": {},
   "outputs": [],
   "source": [
    "# prefix sum，参考2017\n",
    "class Solution:\n",
    "    def countPalindromicSubsequence(self, s: str) -> int:\n",
    "        left = set()\n",
    "        right = collections.Counter(s[1:])\n",
    "        result = set()\n",
    "\n",
    "        for mid in range(1, len(s) - 1):\n",
    "            left.add(s[mid - 1])\n",
    "        \n",
    "            right[s[mid]] -= 1\n",
    "            if right[s[mid]] == 0:\n",
    "                right.pop(s[mid])\n",
    "           \n",
    "            for i in range(26):\n",
    "                char = chr(ord('a') + i)\n",
    "                if char in left and char in right:\n",
    "                    result.add((s[mid], char))\n",
    "        \n",
    "        return len(result)"
   ]
  }
 ],
 "metadata": {
  "kernelspec": {
   "display_name": "Python 3 (ipykernel)",
   "language": "python",
   "name": "python3"
  },
  "language_info": {
   "codemirror_mode": {
    "name": "ipython",
    "version": 3
   },
   "file_extension": ".py",
   "mimetype": "text/x-python",
   "name": "python",
   "nbconvert_exporter": "python",
   "pygments_lexer": "ipython3",
   "version": "3.10.9"
  }
 },
 "nbformat": 4,
 "nbformat_minor": 5
}

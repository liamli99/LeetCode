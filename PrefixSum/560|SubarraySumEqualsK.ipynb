{
 "cells": [
  {
   "cell_type": "markdown",
   "id": "7d405163",
   "metadata": {},
   "source": [
    "# Approach\n",
    "首先建一个dict，key表示前缀和，即nums[0]到nums[i]的和，value表示前缀和等于key的前缀的数量！当我们遍历nums的时候，假设遍历到nums[i]，那么此时dict中最多存储到nums[0]到nums[i-1]的和。计算此时的前缀和sum_，即nums[0]+...+nums[i]=sum_，如果在dict中存在前缀和sum_-k，即nums[0]+...+nums[j]=sum_-k，j<i，那么必然存在nums[j+1]到nums[i]这段subarry的和为k！当sum_=k时，这表示nums[0]到nums[i]这段subarry的和为k，这就是符合要求的subarry！但是dict中只存储到nums[0]到nums[i-1]的和，因此我们要在dict中提前存上{key=0:value=1}！\n",
    "\n",
    "# Note\n",
    "前缀和技巧适用于快速、频繁地计算一个索引区间内的元素之和(subarray sum)。本质上是在一个list当中，用O(N)的时间提前算好从第0个数字到第i个数字之和，在后续使用中可以在O(1)时间内计算出第i到第j个数字之和。\n",
    "\n",
    "# Code"
   ]
  },
  {
   "cell_type": "code",
   "execution_count": null,
   "id": "c8454406",
   "metadata": {},
   "outputs": [],
   "source": [
    "# dict作为hashtable\n",
    "class Solution:\n",
    "    def subarraySum(self, nums: List[int], k: int) -> int:\n",
    "        count = 0\n",
    "        sum_ = 0\n",
    "        prefixSum = {}\n",
    "        prefixSum[0] = 1\n",
    "\n",
    "        for i in range(len(nums)):\n",
    "            sum_ += nums[i]\n",
    "            if sum_ - k in prefixSum:\n",
    "                count += prefixSum[sum_ - k]\n",
    "            prefixSum[sum_] = prefixSum.get(sum_, 0) + 1\n",
    "        \n",
    "        return count"
   ]
  },
  {
   "cell_type": "code",
   "execution_count": null,
   "id": "8697edb2",
   "metadata": {},
   "outputs": [],
   "source": [
    "# defaultdict作为hashtable\n",
    "class Solution:\n",
    "    def subarraySum(self, nums: List[int], k: int) -> int:\n",
    "        count = 0\n",
    "        sum_ = 0\n",
    "        prefixSum = collections.defaultdict(int)\n",
    "        prefixSum[0] = 1\n",
    "\n",
    "        for i in range(len(nums)):\n",
    "            sum_ += nums[i]\n",
    "            count += prefixSum[sum_ - k]\n",
    "            prefixSum[sum_] += 1\n",
    "        \n",
    "        return count"
   ]
  }
 ],
 "metadata": {
  "kernelspec": {
   "display_name": "Python 3 (ipykernel)",
   "language": "python",
   "name": "python3"
  },
  "language_info": {
   "codemirror_mode": {
    "name": "ipython",
    "version": 3
   },
   "file_extension": ".py",
   "mimetype": "text/x-python",
   "name": "python",
   "nbconvert_exporter": "python",
   "pygments_lexer": "ipython3",
   "version": "3.10.9"
  }
 },
 "nbformat": 4,
 "nbformat_minor": 5
}

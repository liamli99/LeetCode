{
 "cells": [
  {
   "cell_type": "markdown",
   "id": "009257eb",
   "metadata": {},
   "source": [
    "# Approach\n",
    "本题要求一个数组result，result[i]是nums中除了nums[i]以外所有数字的乘积！有点类似前缀和，但是本题是“前缀积”！   \n",
    "\n",
    "题目要求time complexity为O(n)，因此只能遍历一次nums就要得出答案！题目还要求不能用division！这是因为如果用division的话我只需要遍历一次nums求出所有数字的乘积，然后result[i]就是所有数字的乘积除以nums[i]！   \n",
    "\n",
    "因此我们可以用两个数组prefixSum[i]和suffixSum[i]分别记录nums[i]之前所有数字的乘积和nums[i]之后所有数字的乘积，result[i]就是这两个数组的乘积！所以我们可以一遍正序遍历找prefixSum[i]，nums[i]之前所有数字的乘积就等于nums[i-1]之前所有数字的乘积乘上nums[i-1]，即prefixSum[i]=prefixSum[i-1]* nums[i-1]！然后一遍倒序遍历找suffixSum[i]，nums[i]之后所有数字的乘积就等于nums[i+1]之后所有数字的乘积乘上nums[i+1]，即prefixSum[i]=prefixSum[i+1]* nums[i+1]！   \n",
    "\n",
    "注意由于nums[0]之前没有数字，prefixSum[0]就等于1！由于nums[-1]之后没有数字，suffixSum[-1]就等于1！   \n",
    "\n",
    "本题也可以空间优化，注意到prefixSum里每个元素的值都和前一个元素有关，suffixSum里每个元素的值都和后一个元素有关，我可以只用两个整型变量prefixSum和suffixSum来代替数组！prefixSum表示当前nums[i]的之前所有数字的乘积，suffixSum表示当前nums[i]的之后所有数字的乘积！一开始正序遍历nums，先将prefixSum赋给result[i]，正序遍历我们将result[i]变成prefixSum[i]！然后更新prefixSum，prefixSum*=nums[i]，这是下一个nums[i+1]的prefixSum！然后倒序遍历nums，因为此时result[i]表示的是prefixSum[i]，result[i]* =suffixSum，倒序遍历我们将result[i]变成最终答案！然后更新suffixSum，suffixSum*=nums[i]，这是下一个nums[i-1]的suffixSum！\n",
    "\n",
    "\n",
    "# Note\n",
    "\n",
    "\n",
    "# Code"
   ]
  },
  {
   "cell_type": "code",
   "execution_count": null,
   "id": "cdf13b4e",
   "metadata": {},
   "outputs": [],
   "source": [
    "class Solution:\n",
    "    def productExceptSelf(self, nums: List[int]) -> List[int]:\n",
    "        prefixSum = [0] * len(nums)\n",
    "        suffixSum = [0] * len(nums)\n",
    "        result = [0] * len(nums)\n",
    "\n",
    "        for i in range(len(nums)):\n",
    "            prefixSum[i] = prefixSum[i - 1] * nums[i - 1] if i > 0 else 1\n",
    "        \n",
    "        for i in range(len(nums) - 1, -1, -1):\n",
    "            suffixSum[i] = suffixSum[i + 1] * nums[i + 1] if i < len(nums) - 1 else 1\n",
    "        \n",
    "        for i in range(len(nums)):\n",
    "            result[i] = prefixSum[i] * suffixSum[i]\n",
    "        \n",
    "        return result"
   ]
  },
  {
   "cell_type": "code",
   "execution_count": null,
   "id": "06a28c26",
   "metadata": {},
   "outputs": [],
   "source": [
    "# 空间优化\n",
    "class Solution:\n",
    "    def productExceptSelf(self, nums: List[int]) -> List[int]:\n",
    "        # 初始值为1，因为nums[0]前面没有数字，nums[-1]后面没有数字！\n",
    "        prefixSum = 1\n",
    "        suffixSum = 1\n",
    "        result = [0] * len(nums)\n",
    "        \n",
    "        # 先利用suffixSum将result[i]变成suffixSum[i]\n",
    "        # 要更新prefixSum！\n",
    "        for i in range(len(nums)):\n",
    "            result[i] = prefixSum\n",
    "            prefixSum *= nums[i]\n",
    "        \n",
    "        # 再利用suffixSum将result[i]变成最终答案！\n",
    "        # 要更新suffixSum！\n",
    "        for i in range(len(nums) - 1, -1, -1):\n",
    "            result[i] *= suffixSum\n",
    "            suffixSum *= nums[i]\n",
    "        \n",
    "        return result"
   ]
  }
 ],
 "metadata": {
  "kernelspec": {
   "display_name": "Python 3 (ipykernel)",
   "language": "python",
   "name": "python3"
  },
  "language_info": {
   "codemirror_mode": {
    "name": "ipython",
    "version": 3
   },
   "file_extension": ".py",
   "mimetype": "text/x-python",
   "name": "python",
   "nbconvert_exporter": "python",
   "pygments_lexer": "ipython3",
   "version": "3.10.9"
  }
 },
 "nbformat": 4,
 "nbformat_minor": 5
}

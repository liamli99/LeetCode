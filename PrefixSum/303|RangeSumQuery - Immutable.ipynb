{
 "cells": [
  {
   "cell_type": "markdown",
   "id": "7d405163",
   "metadata": {},
   "source": [
    "# Approach\n",
    "典型前缀和问题，建一个prefixSum数组，prefixSum[i]表示nums[0]到nums[i]这段区间的元素和，即nums[0]+...+nums[i]！因此区间[i,j]的元素和为prefixSum[j]-prefixSum[i-1]！  \n",
    "\n",
    "注意边界情况，当i=0时，prefixSum[i-1]不存在！区间[0,j]的元素和就是prefixSum[j]！   \n",
    "\n",
    "用上述前缀和的方法求区间和的话，我们只会在init中用O(n)的时间求prefixSum数组，但是每次调用sumRange求区间和时，所用时间都是O(1)！！！\n",
    "\n",
    "# Note\n",
    "前缀和技巧适用于快速、频繁地计算一个索引区间内的元素之和(subarray sum)。本质上是在一个list当中，用O(N)的时间提前算好从第0个数字到第i个数字之和，在后续使用中可以在O(1)时间内计算出第i到第j个数字之和。\n",
    "\n",
    "# Code"
   ]
  },
  {
   "cell_type": "code",
   "execution_count": null,
   "id": "c8454406",
   "metadata": {},
   "outputs": [],
   "source": [
    "class NumArray:\n",
    "\n",
    "    def __init__(self, nums: List[int]):\n",
    "        self.prefixSum = []\n",
    "        sum_ = 0\n",
    "        for num in nums:\n",
    "            sum_ += num\n",
    "            self.prefixSum.append(sum_)\n",
    "        \n",
    "    def sumRange(self, left: int, right: int) -> int:\n",
    "        return self.prefixSum[right] - self.prefixSum[left - 1] if left > 0 else self.prefixSum[right]"
   ]
  }
 ],
 "metadata": {
  "kernelspec": {
   "display_name": "Python 3 (ipykernel)",
   "language": "python",
   "name": "python3"
  },
  "language_info": {
   "codemirror_mode": {
    "name": "ipython",
    "version": 3
   },
   "file_extension": ".py",
   "mimetype": "text/x-python",
   "name": "python",
   "nbconvert_exporter": "python",
   "pygments_lexer": "ipython3",
   "version": "3.10.9"
  }
 },
 "nbformat": 4,
 "nbformat_minor": 5
}

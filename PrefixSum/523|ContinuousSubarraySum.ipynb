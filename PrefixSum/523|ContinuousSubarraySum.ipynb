{
 "cells": [
  {
   "cell_type": "markdown",
   "id": "7d405163",
   "metadata": {},
   "source": [
    "# Approach\n",
    "本题和560很像！560是求和等于k的subarray的个数，本题是求和等于k的倍数的subarray是否存在！   \n",
    "\n",
    "在560中，当前缀和为sum时，如果dict中存在前缀和为sum-k，那么和为k的subarray必然存在！如果本题运用类似的方法，当前缀和为sum时，我们就要判断dict中是否存在前缀和为sum-n* k！这样就变得麻烦了！   \n",
    "\n",
    "因此dict的key表示前缀和除以k的余数，即(nums[0]+...+nums[i])%k，value表示前缀和中最后一个元素的下标(这是为了判断subarray的长度是否至少为2)！当我们遍历nums的时候，假设遍历到nums[i]，那么此时dict中最多存储到(nums[0]+...+nums[i-1])%k。计算此时的前缀和sum除以k的余数，即sum%k=(nums[0]+...+nums[i])%k，如果在dict中存在相同的前缀和除以k的余数，即(nums[0]+...+nums[j])%k=sum_%k，j<i，那么必然存在nums[j+1]到nums[i]这段subarry的和为k的倍数！当sum_=k时，这表示nums[0]到nums[i]这段subarry的和为k，这就是符合要求的subarry！但是dict中只存储到(nums[0]+...+nums[i-1])%k，因此我们要在dict中提前存上{key=0:value=-1}！注意这里value是-1！因为value表示的是下标，根据代码，我们要用下标相减是否大于等于2来判断subarray的长度是否至少为2，因此如果当前的前缀和等于k，nums[0]到nums[i]这段subarray就是符合要求的！因此i>=1就满足长度大于等于2！所以只有value等于-1，才能让1-(-1)=2！   \n",
    "\n",
    "注意题目有两个要求：1.subarray的长度至少为2， 我们可以比较前缀和中最后一个元素的下标差是否大于等于2！这就是prefixSum的value存储下标的目的！要注意如果当前的前缀和除以k的余数在prefixSum中有，但是两个前缀和的最后一个元素的下标差等于1，不要返回False或更新prefixSum！我们可以用continue去跳过当前的前缀和！即我们要在prefixSum里面保留下标较小的那个！2.和是k的倍数，如果和是0，那么必然符合条件，因为0是任何数的倍数！这个就用上述方法解决，包含了0是任何数的倍数的情况！   \n",
    "\n",
    "\n",
    "# Note\n",
    "数字a和b分别除以数字c，如果得到的余数相同，那么(a-b)必定能够整除c，即(a-b)=n* c！\n",
    "\n",
    "# Code"
   ]
  },
  {
   "cell_type": "code",
   "execution_count": null,
   "id": "fb79dcec",
   "metadata": {},
   "outputs": [],
   "source": [
    "class Solution:\n",
    "    def checkSubarraySum(self, nums: List[int], k: int) -> bool:\n",
    "        sum_ = 0\n",
    "        prefixSum = {}\n",
    "        prefixSum[0] = -1\n",
    "\n",
    "        for i in range(len(nums)):\n",
    "            sum_ += nums[i]\n",
    "            if sum_ % k in prefixSum:\n",
    "                if i - prefixSum[sum_ % k] >= 2:\n",
    "                    return True\n",
    "                # 这里很重要，如果两个前缀和除以k的余数相同，但这两个前缀和的最后一个元素的下标只相差1\n",
    "                # 说明符合条件的subarray的长度只有1！虽然不满足条件，但是也别return False，我们保留较小的下标！\n",
    "                # 因此这里是continue，表示直接进行下一个for loop，不会去更新prefixSum！\n",
    "                else:\n",
    "                    continue\n",
    "            prefixSum[sum_ % k] = i\n",
    "        \n",
    "        return False"
   ]
  }
 ],
 "metadata": {
  "kernelspec": {
   "display_name": "Python 3 (ipykernel)",
   "language": "python",
   "name": "python3"
  },
  "language_info": {
   "codemirror_mode": {
    "name": "ipython",
    "version": 3
   },
   "file_extension": ".py",
   "mimetype": "text/x-python",
   "name": "python",
   "nbconvert_exporter": "python",
   "pygments_lexer": "ipython3",
   "version": "3.10.9"
  }
 },
 "nbformat": 4,
 "nbformat_minor": 5
}

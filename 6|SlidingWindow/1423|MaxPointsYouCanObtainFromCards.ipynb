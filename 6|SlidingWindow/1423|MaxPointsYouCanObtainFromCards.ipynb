{
 "cells": [
  {
   "cell_type": "markdown",
   "id": "7d405163",
   "metadata": {},
   "source": [
    "# Approach\n",
    "- 本题乍一看可以用双指针来做，定义两个指针分别指向cardPoints的左右两端，比较两个数的大小，最终结果只加较大的数，然后指向较大的数的指针移动，重复操作！错误之处在于当两数相等的时候无法判断哪个指针移动！而且只加当前最大的数不一定可以让最终结果最大！例如cardPoints=[1, 99, 5, 0, 2]，k=2，按照双指针的思路先加2，然后右指针往左移一位，再加1，最终结果为3，但是正确答案应该是1+99=100！   \n",
    "\n",
    "- 因此我们可以换个思路，如果要从两端取总和最大的k个数，那么我们可以先在cardPoints中找到总和最小且长度为len(cardPoints)-k的subarray，那么总和最大的k个数就是剩下的数！\n",
    "\n",
    "- 这样本题就转化成了滑动窗口的问题：构建一个长度为len(cardPoints)-k的滑动窗口，从cardPoints最左边滑动到最右边，找到滑动窗口内数字和的最小值！最终结果就是cardPoints中所有数字的和减去找到的最小值！\n",
    "\n",
    "- **优化**：每次移动窗口，都要用list slicing去表示subarray，并且用sum计算subarray中的元素和，时间复杂度为O(len(cardPoints)-k)！实际上，新的窗口和旧的窗口相比，只有第一个和最后一个元素不同，中间元素均相同！因此每次移动窗口，只需要在旧的数字和中，减去新的窗口中的第一个元素的前一个元素，加上新的窗口中的最后一个元素，时间复杂度为O(1)！  \n",
    "\n",
    "# Code"
   ]
  },
  {
   "cell_type": "code",
   "execution_count": null,
   "id": "b6333683",
   "metadata": {},
   "outputs": [],
   "source": [
    "# Time Limit Exceeded!\n",
    "# Time: O(k * (n - k)), Space: O(1)\n",
    "class Solution:\n",
    "    def maxScore(self, cardPoints: List[int], k: int) -> int:\n",
    "        minScore = float('inf')\n",
    "        start = 0\n",
    "\n",
    "        # start + (len(cardPoints) - k) - 1 <= len(cardPoints) - 1\n",
    "        while start <= k:\n",
    "            subarray = cardPoints[start: start + len(cardPoints) - k]\n",
    "            minScore = min(minScore, sum(subarray))\n",
    "        \n",
    "            start += 1\n",
    "        \n",
    "        return sum(cardPoints) - minScore"
   ]
  },
  {
   "cell_type": "code",
   "execution_count": null,
   "id": "322dd5c2",
   "metadata": {},
   "outputs": [],
   "source": [
    "# Time: O(n), Space: O(1)\n",
    "class Solution:\n",
    "    def maxScore(self, cardPoints: List[int], k: int) -> int:\n",
    "        score = sum(cardPoints[0: len(cardPoints) - k])\n",
    "        minScore = score\n",
    "\n",
    "        start = 1\n",
    "        # start + (len(cardPoints) - k) - 1 <= len(cardPoints) - 1\n",
    "        while start <= k:\n",
    "            score -= cardPoints[start - 1]\n",
    "            score += cardPoints[start + (len(cardPoints) - k) - 1]\n",
    "            minScore = min(minScore, score)\n",
    "        \n",
    "            start += 1\n",
    "        \n",
    "        return sum(cardPoints) - minScore"
   ]
  }
 ],
 "metadata": {
  "kernelspec": {
   "display_name": "Python 3 (ipykernel)",
   "language": "python",
   "name": "python3"
  },
  "language_info": {
   "codemirror_mode": {
    "name": "ipython",
    "version": 3
   },
   "file_extension": ".py",
   "mimetype": "text/x-python",
   "name": "python",
   "nbconvert_exporter": "python",
   "pygments_lexer": "ipython3",
   "version": "3.10.9"
  }
 },
 "nbformat": 4,
 "nbformat_minor": 5
}

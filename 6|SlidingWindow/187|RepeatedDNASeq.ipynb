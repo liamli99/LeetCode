{
 "cells": [
  {
   "cell_type": "markdown",
   "id": "009257eb",
   "metadata": {},
   "source": [
    "# Approach\n",
    "- 我们可以构建一个长度为10的滑动窗口，滑动窗口内是s中长度为10的substring。从s的最左边开始不断向右移动滑动窗口来遍历s中所有长度为10的substring，用一个dict去存储substring及其出现次数，即key是substring，value是出现次数！在每次循环中，如果当前substring的出现次数为2，那就添加到结果中！\n",
    "\n",
    "- **优化**：每次移动窗口，都要用list slicing去表示substring，时间复杂度为O(10)，可以用位运算优化！\n",
    "\n",
    "# Note\n",
    "- 对于一个固定长度的滑动窗口，假设起始位置是start，窗口长度为k，那么终点位置是start + k - 1！因此，当窗口在长度为n的数组或字符串中滑动时，遍历条件是`while start + k - 1 <= n - 1`，即`while start <= n - k`！！！\n",
    "\n",
    "# Code"
   ]
  },
  {
   "cell_type": "code",
   "execution_count": null,
   "id": "e4960028",
   "metadata": {},
   "outputs": [],
   "source": [
    "# Time: O((n - 10) * 10), Space: O(n)\n",
    "class Solution:\n",
    "    def findRepeatedDnaSequences(self, s: str) -> List[str]:\n",
    "        count = {}\n",
    "        result = []\n",
    "        start = 0\n",
    "\n",
    "        # start + 10 - 1 <= len(s) - 1\n",
    "        while start <= len(s) - 10:\n",
    "            substring = s[start: start + 10]\n",
    "            count[substring] = count.get(substring, 0) + 1\n",
    "\n",
    "            if count[substring] == 2:\n",
    "                result.append(substring)\n",
    "            \n",
    "            start += 1\n",
    "        \n",
    "        return result"
   ]
  },
  {
   "cell_type": "code",
   "execution_count": null,
   "id": "fc708eb6",
   "metadata": {},
   "outputs": [],
   "source": [
    "# Bit"
   ]
  }
 ],
 "metadata": {
  "kernelspec": {
   "display_name": "base",
   "language": "python",
   "name": "python3"
  },
  "language_info": {
   "codemirror_mode": {
    "name": "ipython",
    "version": 3
   },
   "file_extension": ".py",
   "mimetype": "text/x-python",
   "name": "python",
   "nbconvert_exporter": "python",
   "pygments_lexer": "ipython3",
   "version": "3.10.14"
  }
 },
 "nbformat": 4,
 "nbformat_minor": 5
}

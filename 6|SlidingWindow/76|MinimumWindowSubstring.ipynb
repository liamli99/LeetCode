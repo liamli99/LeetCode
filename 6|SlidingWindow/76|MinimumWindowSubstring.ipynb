{
 "cells": [
  {
   "cell_type": "markdown",
   "id": "7d405163",
   "metadata": {},
   "source": [
    "# Approach\n",
    "- 本题要求和大于等于target的长度最小的子数组，我们可以构建一个滑动窗口来表示这个子数组，窗口的起始位置和终点位置记为start和end！\n",
    "\n",
    "- 一开始start和end都在下标为0处，然后不断向右移动end，计算窗口中元素的和，当和大于等于target时，end停下，此时的滑动窗口就表示一个满足条件的子数组，更新最小长度！然后不断向右移动start，减小窗口的长度(因为题目要求长度最小)，计算窗口中元素的和，当和还是大于target时，更新最小长度！当和小于target时，start停下，继续向右移动end，重复上述操作！\n",
    "\n",
    "- [动画](https://leetcode.cn/problems/minimum-size-subarray-sum/solutions/305704/chang-du-zui-xiao-de-zi-shu-zu-by-leetcode-solutio/)\n",
    "\n",
    "# Code"
   ]
  },
  {
   "cell_type": "code",
   "execution_count": null,
   "id": "d8bb2a9a",
   "metadata": {},
   "outputs": [],
   "source": [
    "# Time: O(n), Space: O(1)\n",
    "class Solution:\n",
    "    def minSubArrayLen(self, target: int, nums: List[int]) -> int:\n",
    "        start, end = 0, 0\n",
    "        sum_ = 0\n",
    "        minLength = float('inf')\n",
    "        \n",
    "        while end < len(nums):\n",
    "            sum_ += nums[end]\n",
    "            \n",
    "            # 不是if！因为当和大于等于target时，我们要不断的向右移动start！！！\n",
    "            while sum_ >= target:\n",
    "                minLength = min(minLength, end - start + 1)\n",
    "                \n",
    "                # start向右移动，滑动窗口中的元素的和也会发生改变！\n",
    "                sum_ -= nums[start]\n",
    "                start += 1\n",
    "            \n",
    "            end += 1\n",
    "\n",
    "        return 0 if minLength == float('inf') else minLength"
   ]
  }
 ],
 "metadata": {
  "kernelspec": {
   "display_name": "Python 3 (ipykernel)",
   "language": "python",
   "name": "python3"
  },
  "language_info": {
   "codemirror_mode": {
    "name": "ipython",
    "version": 3
   },
   "file_extension": ".py",
   "mimetype": "text/x-python",
   "name": "python",
   "nbconvert_exporter": "python",
   "pygments_lexer": "ipython3",
   "version": "3.10.9"
  }
 },
 "nbformat": 4,
 "nbformat_minor": 5
}

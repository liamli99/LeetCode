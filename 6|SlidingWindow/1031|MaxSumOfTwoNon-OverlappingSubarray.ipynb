{
 "cells": [
  {
   "cell_type": "markdown",
   "id": "7d405163",
   "metadata": {},
   "source": [
    "# Approach\n",
    "- 本题最直观的想法是，假设长度为firstLen的subarray在长度为secondLen的subarray的左边，我们可以构建两个滑动窗口分别表示这两个subarray，记为first和second！先将first固定在nums的最左边，从其右边开始滑动second，找到first和second中数字和的最大值！然后first向右边滑动一个数字，继续从其右边开始滑动second，找到first和second中数字和的最大值！重复上述操作！这种方法的时间复杂度为O(n^2)!\n",
    "\n",
    "- 为了减少时间复杂度，我们可以只构建一个长度为firstLen+secondLen的滑动窗口，其内部左边长度为firstLen的部分就是长度为firstLen的subarray，将其数字和记为firstSum；其内部右边长度为secondLen的部分就是长度为secondLen的subarray，将其数字和记为secondSum！将滑动窗口从nums的最左边滑动到最右边，在每一个位置，都找到目前为止所有firstSum的最大值，记为firstSumMax，**将firstSumMax加上secondSum，这就是second固定在当前位置时两个subarray的数字和的最大值**！找到所有firstSumMax+second的最大值，这就是两个subarray的数字和的最大值！\n",
    "\n",
    "- 当然，上述所求的最大值是firstLen在secondLen左边的情况，对于在右边的情况，我们还需要构建一个长度为secondLen+firstLen的滑动窗口！最终答案就是两者的最大值！\n",
    "\n",
    "- **优化**：每次移动窗口，都要用list slicing去表示subarray，并且用sum计算subarray中的元素和，时间复杂度为O(firstLen+secondLen)！本题虽然也能参考1423的优化方法，但是本题的滑动窗口有两部分，太复杂！\n",
    "\n",
    "# Code"
   ]
  },
  {
   "cell_type": "code",
   "execution_count": null,
   "id": "6085d1b0",
   "metadata": {},
   "outputs": [],
   "source": [
    "# Time: O(n - firstLen - secondLen) * (firstLen + secondLen)), Space: O(1)\n",
    "class Solution:\n",
    "    def maxSumTwoNoOverlap(self, nums: List[int], firstLen: int, secondLen: int) -> int:\n",
    "        return max(self.twoSubarrayMaxSum(nums, firstLen, secondLen), self.twoSubarrayMaxSum(nums, secondLen, firstLen))\n",
    "    \n",
    "    def twoSubarrayMaxSum(self, nums, firstLen, secondLen):\n",
    "        maxSum = 0\n",
    "        firstSumMax = 0\n",
    "        start = 0\n",
    "\n",
    "        # start + firstLen + secondLen - 1 <= len(nums) - 1\n",
    "        while start <= len(nums) - firstLen - secondLen:\n",
    "            firstArray = nums[start: start + firstLen]\n",
    "            secondArray = nums[start + firstLen: start + firstLen + secondLen]\n",
    "\n",
    "            firstSumMax = max(firstSumMax, sum(firstArray))\n",
    "            maxSum = max(maxSum, firstSumMax + sum(secondArray))\n",
    "\n",
    "            start += 1\n",
    "        \n",
    "        return maxSum"
   ]
  },
  {
   "cell_type": "code",
   "execution_count": null,
   "id": "31bb1e32",
   "metadata": {},
   "outputs": [],
   "source": [
    "# Prefix Sum\n",
    "# Time: O(), Space: O()\n",
    "class Solution:\n",
    "    def maxSumTwoNoOverlap(self, nums: List[int], firstLen: int, secondLen: int) -> int:\n",
    "        return max(self.twoSubarrayMaxSum(nums, firstLen, secondLen), self.twoSubarrayMaxSum(nums, secondLen, firstLen))\n",
    "    \n",
    "    def twoSubarrayMaxSum(self, nums, firstLen, secondLen):\n",
    "        maxSum = 0\n",
    "        firstSumMax = 0\n",
    "        start = 0\n",
    "\n",
    "        # start + firstLen + secondLen - 1 <= len(nums) - 1\n",
    "        while start <= len(nums) - firstLen - secondLen:\n",
    "            firstArray = nums[start: start + firstLen]\n",
    "            secondArray = nums[start + firstLen: start + firstLen + secondLen]\n",
    "\n",
    "            firstSumMax = max(firstSumMax, sum(firstArray))\n",
    "            maxSum = max(maxSum, firstSumMax + sum(secondArray))\n",
    "\n",
    "            start += 1\n",
    "        \n",
    "        return maxSum"
   ]
  },
  {
   "cell_type": "code",
   "execution_count": null,
   "id": "2dc1de08",
   "metadata": {},
   "outputs": [],
   "source": [
    "class Solution:\n",
    "    def maxSumTwoNoOverlap(self, nums: List[int], firstLen: int, secondLen: int) -> int:\n",
    "        # prefix sum！\n",
    "        for i in range(1, len(nums)):\n",
    "            nums[i] += nums[i - 1]\n",
    "        \n",
    "        result = nums[firstLen + secondLen - 1]\n",
    "        firstMax, secondMax = nums[firstLen - 1], nums[secondLen - 1]\n",
    "        \n",
    "        # 长度为firstLen的subarray在长度为secondLen的subarray的左边\n",
    "        for i in range(firstLen + secondLen, len(nums)):\n",
    "            first = nums[i - secondLen] - nums[i - secondLen - firstLen]\n",
    "            second = nums[i] - nums[i - secondLen]\n",
    "            \n",
    "            firstMax = max(firstMax, first)\n",
    "            result = max(result, firstMax + second)\n",
    "        \n",
    "        # 长度为secondLen的subarray在长度为firstLen的subarray的左边\n",
    "        for i in range(firstLen + secondLen, len(nums)):\n",
    "            second = nums[i - firstLen] - nums[i - secondLen - firstLen]\n",
    "            first = nums[i] - nums[i - firstLen]\n",
    "            \n",
    "            secondMax = max(secondMax, second)\n",
    "            result = max(result, secondMax + first)\n",
    "        \n",
    "        return result"
   ]
  }
 ],
 "metadata": {
  "kernelspec": {
   "display_name": "Python 3 (ipykernel)",
   "language": "python",
   "name": "python3"
  },
  "language_info": {
   "codemirror_mode": {
    "name": "ipython",
    "version": 3
   },
   "file_extension": ".py",
   "mimetype": "text/x-python",
   "name": "python",
   "nbconvert_exporter": "python",
   "pygments_lexer": "ipython3",
   "version": "3.10.9"
  }
 },
 "nbformat": 4,
 "nbformat_minor": 5
}

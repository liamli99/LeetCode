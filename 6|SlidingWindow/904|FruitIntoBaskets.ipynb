{
 "cells": [
  {
   "cell_type": "markdown",
   "id": "7d405163",
   "metadata": {},
   "source": [
    "# Approach\n",
    "- 本题要求元素种类小于等于2的长度最长的子数组，我们可以构建一个滑动窗口来表示这个子数组，窗口的起始位置和终点位置记为start和end！有点类似209！\n",
    "\n",
    "- 一开始start和end都在下标为0处，然后不断向右移动end，用一个dict记录窗口中的元素及其数量，key表示元素，value表示数量！当元素种类(len(dict))大于2时，end停下，此时的滑动窗口所表示的子数组不满足条件，我们需要不断向右移动start，直到元素种类小于等于2！此时的滑动窗口就表示一个满足条件的子数组，更新最大长度！然后继续向右移动end，重复上述操作！\n",
    "\n",
    "# Code"
   ]
  },
  {
   "cell_type": "code",
   "execution_count": null,
   "id": "d8bb2a9a",
   "metadata": {},
   "outputs": [],
   "source": [
    "# Time: O(n), Space: O(1)\n",
    "class Solution:\n",
    "    def totalFruit(self, fruits: List[int]) -> int:\n",
    "        start, end = 0, 0\n",
    "        count = {}\n",
    "        maxNum = 0\n",
    "        \n",
    "        while end < len(fruits):\n",
    "            count[fruits[end]] = count.get(fruits[end], 0) + 1\n",
    "            \n",
    "            while len(count) > 2:\n",
    "                # start向右移动，滑动窗口中的元素的种类及数量也会发生改变！\n",
    "                # fruits[start]的数量-1，当数量为0时，从dict中删掉！\n",
    "                count[fruits[start]] -= 1\n",
    "                if count[fruits[start]] == 0:\n",
    "                    del count[fruits[start]]\n",
    "\n",
    "                start += 1\n",
    "            \n",
    "            maxNum = max(maxNum, end - start + 1)\n",
    "\n",
    "            end += 1\n",
    "\n",
    "        return maxNum\n"
   ]
  }
 ],
 "metadata": {
  "kernelspec": {
   "display_name": "Python 3 (ipykernel)",
   "language": "python",
   "name": "python3"
  },
  "language_info": {
   "codemirror_mode": {
    "name": "ipython",
    "version": 3
   },
   "file_extension": ".py",
   "mimetype": "text/x-python",
   "name": "python",
   "nbconvert_exporter": "python",
   "pygments_lexer": "ipython3",
   "version": "3.10.9"
  }
 },
 "nbformat": 4,
 "nbformat_minor": 5
}

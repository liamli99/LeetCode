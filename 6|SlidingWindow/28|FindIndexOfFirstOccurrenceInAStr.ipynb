{
 "cells": [
  {
   "cell_type": "markdown",
   "id": "7d405163",
   "metadata": {},
   "source": [
    "# Approach\n",
    "- 我们可以构建一个长度为len(needle)的滑动窗口，从haystack的最左边滑动到最右边，当滑动窗口内的字符串与needle相同时，返回窗口的起始位置！    \n",
    "\n",
    "- **优化**：本题可以用KMP算法进行优化！\n",
    "\n",
    "# Note\n",
    "[KMP算法](https://zh.wikipedia.org/wiki/KMP%E7%AE%97%E6%B3%95)：在一个字符串中查找另一个字符串出现的位置！\n",
    "\n",
    "# Code"
   ]
  },
  {
   "cell_type": "code",
   "execution_count": null,
   "id": "ddad170b",
   "metadata": {},
   "outputs": [],
   "source": [
    "# Time: O((n - m) * m), Space: O(1)\n",
    "class Solution:\n",
    "    def strStr(self, haystack: str, needle: str) -> int:\n",
    "        start = 0\n",
    "        \n",
    "        # start + len(needle) - 1 <= len(haystack) - 1\n",
    "        while start <= len(haystack) - len(needle):\n",
    "            substring = haystack[start: start + len(needle)]\n",
    "            \n",
    "            if substring == needle:\n",
    "                return start\n",
    "            \n",
    "            start += 1\n",
    "        \n",
    "        return -1"
   ]
  },
  {
   "cell_type": "code",
   "execution_count": null,
   "id": "520a9e1b",
   "metadata": {},
   "outputs": [],
   "source": [
    "# KMP\n",
    "# Time: O(n + m), Space: O(m)"
   ]
  }
 ],
 "metadata": {
  "kernelspec": {
   "display_name": "base",
   "language": "python",
   "name": "python3"
  },
  "language_info": {
   "codemirror_mode": {
    "name": "ipython",
    "version": 3
   },
   "file_extension": ".py",
   "mimetype": "text/x-python",
   "name": "python",
   "nbconvert_exporter": "python",
   "pygments_lexer": "ipython3",
   "version": "3.10.14"
  }
 },
 "nbformat": 4,
 "nbformat_minor": 5
}

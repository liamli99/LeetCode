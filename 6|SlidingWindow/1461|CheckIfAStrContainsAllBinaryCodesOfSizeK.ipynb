{
 "cells": [
  {
   "cell_type": "markdown",
   "id": "009257eb",
   "metadata": {},
   "source": [
    "# Approach\n",
    "- 我们可以构建一个长度为k的滑动窗口，滑动窗口内是s中长度为k的substring，同时也是长度为k的binary code！从s的最左边开始不断向右移动滑动窗口来遍历s中所有长度为k的substring，用一个set去存储substring！如果最后set中元素数量等于2^k，那就说明所有长度为k的binary code都是s的substring！    \n",
    "\n",
    "- **优化**：每次移动窗口，都要用list slicing去表示substring，时间复杂度为O(k)，可以用位运算优化！\n",
    "\n",
    "# Note\n",
    "长度为k的binary code的数量是2^k!  \n",
    "\n",
    "# Code"
   ]
  },
  {
   "cell_type": "code",
   "execution_count": null,
   "id": "6dca0a24",
   "metadata": {},
   "outputs": [],
   "source": [
    "# Time: O((n - k) * k), Space: O(2^k)\n",
    "class Solution:\n",
    "    def hasAllCodes(self, s: str, k: int) -> bool:\n",
    "        count = set()\n",
    "        start = 0\n",
    "        \n",
    "        # start + k - 1 <= len(s) - 1\n",
    "        while start <= len(s) - k:\n",
    "            substring = s[start: start + k]\n",
    "            count.add(substring)\n",
    "            \n",
    "            start += 1\n",
    "        \n",
    "        return len(count) == 2 ** k"
   ]
  },
  {
   "cell_type": "code",
   "execution_count": null,
   "id": "df38bf45",
   "metadata": {},
   "outputs": [],
   "source": [
    "# Bit"
   ]
  }
 ],
 "metadata": {
  "kernelspec": {
   "display_name": "Python 3 (ipykernel)",
   "language": "python",
   "name": "python3"
  },
  "language_info": {
   "codemirror_mode": {
    "name": "ipython",
    "version": 3
   },
   "file_extension": ".py",
   "mimetype": "text/x-python",
   "name": "python",
   "nbconvert_exporter": "python",
   "pygments_lexer": "ipython3",
   "version": "3.10.9"
  }
 },
 "nbformat": 4,
 "nbformat_minor": 5
}

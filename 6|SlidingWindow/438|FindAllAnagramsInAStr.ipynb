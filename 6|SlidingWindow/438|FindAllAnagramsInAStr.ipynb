{
 "cells": [
  {
   "cell_type": "markdown",
   "id": "009257eb",
   "metadata": {},
   "source": [
    "# Approach\n",
    "- 我们可以构建一个长度为len(p)的滑动窗口，从s最左边滑动到最右边，不断判断滑动窗口内的字符串是否与p是anagram！\n",
    "\n",
    "- 我们可以参考242，为p和滑动窗口内的字符串分别构建hash table，通过比较两个hash table是否完全相同来判断是否是anagram！\n",
    "\n",
    "- **优化**：每次移动窗口，都要用list slicing去表示substring并计算hash table，时间复杂度为O(len(p))！实际上，新的窗口和旧的窗口相比，只有第一个和最后一个元素不同，中间元素均相同！因此每次移动窗口，只需要在旧的hash table中，将新的窗口中的第一个元素的前一个元素的数量-1，将新的窗口中的最后一个元素的数量+1，时间复杂度为O(1)！\n",
    "\n",
    "# Code"
   ]
  },
  {
   "cell_type": "code",
   "execution_count": null,
   "id": "4425c9cb",
   "metadata": {},
   "outputs": [],
   "source": [
    "# Time Limit Exceeded!\n",
    "# Time: O((n - m) * m), Space: O(n)\n",
    "class Solution:\n",
    "    def findAnagrams(self, s: str, p: str) -> List[int]:\n",
    "        recordP = [0] * 26\n",
    "        for char in p:\n",
    "            recordP[ord(char) - ord('a')] += 1\n",
    "        result = []\n",
    "        start = 0\n",
    "        \n",
    "        # start + len(p) - 1 <= len(s) - 1\n",
    "        while start <= len(s) - len(p):\n",
    "            substring = s[start: start + len(p)]\n",
    "            \n",
    "            record = [0] * 26\n",
    "            for char in substring:\n",
    "                record[ord(char) - ord('a')] += 1\n",
    "            \n",
    "            if record == recordP:\n",
    "                result.append(start)\n",
    "             \n",
    "            start += 1\n",
    "        \n",
    "        return result"
   ]
  },
  {
   "cell_type": "code",
   "execution_count": null,
   "id": "7b873948",
   "metadata": {},
   "outputs": [],
   "source": [
    "# Time: O(n - m), Space: O(n)\n",
    "class Solution:\n",
    "    def findAnagrams(self, s: str, p: str) -> List[int]:\n",
    "        recordP = [0] * 26\n",
    "        recordS = [0] * 26\n",
    "        result = []\n",
    "        \n",
    "        # 当s的长度小于p时，s和p不可能是anagram！必须提前排除这种情况，不然下面的循环会index out of range！\n",
    "        if len(s) < len(p):\n",
    "            return result\n",
    "\n",
    "        for i in range(len(p)):\n",
    "            recordP[ord(p[i]) - ord('a')] += 1\n",
    "            recordS[ord(s[i]) - ord('a')] += 1\n",
    "\n",
    "        # Time complexity is O(26)!\n",
    "        if recordP == recordS:\n",
    "            result.append(0)\n",
    "        \n",
    "        start = 1\n",
    "        # start + len(p) - 1 <= len(s) - 1\n",
    "        while start <= len(s) - len(p):\n",
    "            recordS[ord(s[start - 1]) - ord('a')] -= 1\n",
    "            recordS[ord(s[start + len(p) - 1]) - ord('a')] += 1\n",
    "\n",
    "            if recordS == recordP:\n",
    "                result.append(start)\n",
    "            \n",
    "            start += 1\n",
    "        \n",
    "        return result"
   ]
  }
 ],
 "metadata": {
  "kernelspec": {
   "display_name": "base",
   "language": "python",
   "name": "python3"
  },
  "language_info": {
   "codemirror_mode": {
    "name": "ipython",
    "version": 3
   },
   "file_extension": ".py",
   "mimetype": "text/x-python",
   "name": "python",
   "nbconvert_exporter": "python",
   "pygments_lexer": "ipython3",
   "version": "3.10.14"
  }
 },
 "nbformat": 4,
 "nbformat_minor": 5
}

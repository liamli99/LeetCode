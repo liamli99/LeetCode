{
 "cells": [
  {
   "cell_type": "markdown",
   "id": "7d405163",
   "metadata": {},
   "source": [
    "# Approach\n",
    "基本类同26，fast用来遍历nums，负责判断元素是否是val；slow左边的所有元素都是不等于val的，即已经符合题意的可以返回的答案！slow指向的是下一个需要被覆盖的位置，等待fast找到一个不等于val的元素来把该处元素覆盖了\n",
    "\n",
    "# Code"
   ]
  },
  {
   "cell_type": "code",
   "execution_count": null,
   "id": "c05ef902",
   "metadata": {},
   "outputs": [],
   "source": [
    "# Time: O(n), Space: O(1)\n",
    "class Solution:\n",
    "    def removeElement(self, nums: List[int], val: int) -> int:\n",
    "        slow, fast = 0, 0\n",
    "\n",
    "        while fast <= len(nums) - 1:\n",
    "            if nums[fast] == val:\n",
    "                fast += 1\n",
    "            else:\n",
    "                nums[slow] = nums[fast]\n",
    "                slow += 1\n",
    "                fast += 1\n",
    "        \n",
    "        return slow"
   ]
  }
 ],
 "metadata": {
  "kernelspec": {
   "display_name": "Python 3 (ipykernel)",
   "language": "python",
   "name": "python3"
  },
  "language_info": {
   "codemirror_mode": {
    "name": "ipython",
    "version": 3
   },
   "file_extension": ".py",
   "mimetype": "text/x-python",
   "name": "python",
   "nbconvert_exporter": "python",
   "pygments_lexer": "ipython3",
   "version": "3.10.9"
  }
 },
 "nbformat": 4,
 "nbformat_minor": 5
}

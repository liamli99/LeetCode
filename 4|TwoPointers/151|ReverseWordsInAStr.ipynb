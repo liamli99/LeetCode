{
 "cells": [
  {
   "cell_type": "markdown",
   "id": "7d405163",
   "metadata": {},
   "source": [
    "# Approach\n",
    "- 先将string s变成list lst，然后参考344去reverse lst，最后将lst转化为string返回！\n",
    "\n",
    "- 注意将s变成lst时，分隔符为空格！将lst转化为string返回时，分隔符也为空格！\n",
    "\n",
    "# Note\n",
    "- `string.split(separator)`: split a string into a list\n",
    "  - separator is optional, the default value is any whitespace!\n",
    "  - it returns the list\n",
    "\n",
    "- `'separator'.join(list)`: join all elements of the list into a string\n",
    "  - it returns the string"
   ]
  },
  {
   "cell_type": "code",
   "execution_count": null,
   "id": "130d0423",
   "metadata": {},
   "outputs": [],
   "source": [
    "# Time: O(n), Space: O(n)\n",
    "class Solution:\n",
    "    def reverseWords(self, s: str) -> str:\n",
    "        lst = s.split()\n",
    "        left, right = 0, len(lst) - 1\n",
    "        \n",
    "        while left < right:\n",
    "            lst[left], lst[right] = lst[right], lst[left]\n",
    "            left += 1\n",
    "            right -= 1\n",
    "        \n",
    "        return ' '.join(lst)"
   ]
  }
 ],
 "metadata": {
  "kernelspec": {
   "display_name": "Python 3 (ipykernel)",
   "language": "python",
   "name": "python3"
  },
  "language_info": {
   "codemirror_mode": {
    "name": "ipython",
    "version": 3
   },
   "file_extension": ".py",
   "mimetype": "text/x-python",
   "name": "python",
   "nbconvert_exporter": "python",
   "pygments_lexer": "ipython3",
   "version": "3.10.14"
  }
 },
 "nbformat": 4,
 "nbformat_minor": 5
}

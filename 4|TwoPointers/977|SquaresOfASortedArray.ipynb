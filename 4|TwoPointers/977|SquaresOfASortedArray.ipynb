{
 "cells": [
  {
   "cell_type": "markdown",
   "id": "7d405163",
   "metadata": {},
   "source": [
    "# Approach\n",
    "nums是非递减数组，那么平方最大的一定在数组两端！所以我们可以定义两个pointers从nums两端往中间移动，不断比较左右两个数的平方！\n",
    "\n",
    "# Code"
   ]
  },
  {
   "cell_type": "code",
   "execution_count": null,
   "id": "eb8519b1",
   "metadata": {},
   "outputs": [],
   "source": [
    "# Time: O(n), Space: O(n)\n",
    "class Solution:\n",
    "    def sortedSquares(self, nums: List[int]) -> List[int]:\n",
    "        left, right, idx = 0, len(nums) - 1, len(nums) - 1\n",
    "        result = [0] * len(nums)\n",
    "\n",
    "        # 必须是小于等于！当left等于right时，此时的元素的平方最小！\n",
    "        while left <= right:\n",
    "            leftSquare = nums[left] ** 2\n",
    "            rightSquare = nums[right] ** 2\n",
    "            \n",
    "            if leftSquare >= rightSquare:\n",
    "                result[idx] = leftSquare\n",
    "                left += 1\n",
    "            else:\n",
    "                result[idx] = rightSquare\n",
    "                right -= 1\n",
    "            \n",
    "            idx -= 1\n",
    "        \n",
    "        return result"
   ]
  }
 ],
 "metadata": {
  "kernelspec": {
   "display_name": "Python 3 (ipykernel)",
   "language": "python",
   "name": "python3"
  },
  "language_info": {
   "codemirror_mode": {
    "name": "ipython",
    "version": 3
   },
   "file_extension": ".py",
   "mimetype": "text/x-python",
   "name": "python",
   "nbconvert_exporter": "python",
   "pygments_lexer": "ipython3",
   "version": "3.10.9"
  }
 },
 "nbformat": 4,
 "nbformat_minor": 5
}

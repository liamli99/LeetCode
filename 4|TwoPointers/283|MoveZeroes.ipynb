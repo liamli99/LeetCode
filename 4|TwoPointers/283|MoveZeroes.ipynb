{
 "cells": [
  {
   "cell_type": "markdown",
   "id": "7d405163",
   "metadata": {},
   "source": [
    "# Approach\n",
    "- 基本类似26，27题，但是本题关心remaining elements！不仅要求我们前面的数字都不是0，还要求把0放到nums的后面！因此我们可以在循环结束后从`nums[slow]`开始补0！！！\n",
    "\n",
    "- 当然，本题也有更好的解法！我们不要“覆盖”数字0，而是去“交换”数字0！即当fast找到一个不等于0的数字时，不要把`nums[fast]`的值赋给`nums[slow]`，而是把`nums[slow]`和`nums[fast]`交换！这样可以把所有0都交换到nums后面！\n",
    "\n",
    "# Code"
   ]
  },
  {
   "cell_type": "code",
   "execution_count": null,
   "id": "c05ef902",
   "metadata": {},
   "outputs": [],
   "source": [
    "# Time: O(n), Space: O(1)\n",
    "from typing import List\n",
    "class Solution:\n",
    "    def moveZeroes(self, nums: List[int]) -> None:\n",
    "        \"\"\"\n",
    "        Do not return anything, modify nums in-place instead.\n",
    "        \"\"\"\n",
    "        slow, fast = 0, 0\n",
    "        \n",
    "        while fast <= len(nums) - 1:\n",
    "            if nums[fast] == 0:\n",
    "                fast += 1\n",
    "            else:\n",
    "                # 交换！\n",
    "                nums[slow], nums[fast] = nums[fast], nums[slow]\n",
    "                slow += 1\n",
    "                fast += 1"
   ]
  }
 ],
 "metadata": {
  "kernelspec": {
   "display_name": "base",
   "language": "python",
   "name": "python3"
  },
  "language_info": {
   "codemirror_mode": {
    "name": "ipython",
    "version": 3
   },
   "file_extension": ".py",
   "mimetype": "text/x-python",
   "name": "python",
   "nbconvert_exporter": "python",
   "pygments_lexer": "ipython3",
   "version": "3.10.14"
  }
 },
 "nbformat": 4,
 "nbformat_minor": 5
}

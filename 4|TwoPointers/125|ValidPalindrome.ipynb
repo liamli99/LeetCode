{
 "cells": [
  {
   "cell_type": "markdown",
   "id": "7d405163",
   "metadata": {},
   "source": [
    "# Approach\n",
    "- 回文序列就是正着读反着读一模一样！因此我们可以定义两个pointers从s两端同时往中间移动，不断比较左右两个字符是否相同！\n",
    "\n",
    "- 具体来说，如果字符不是alphanumeric (用`string.isalnum()`判断)，直接跳过不用比较！如果是，比较小写形式 (用`string.lower()`来将字母转换成小写形式) 是否相同！\n",
    "\n",
    "# Note\n",
    "- `string.lower()`: return a new string where all characters are lower case\n",
    "- `string.isalnum()`: check if all characters are letters (a-z, A-Z) or digits (0-9)\n",
    "\n",
    "# Code"
   ]
  },
  {
   "cell_type": "code",
   "execution_count": null,
   "id": "cdcaa6af",
   "metadata": {},
   "outputs": [],
   "source": [
    "# Time: O(n), Space: O(1)\n",
    "class Solution:\n",
    "    def isPalindrome(self, s: str) -> bool:\n",
    "        left, right = 0, len(s) - 1\n",
    "        \n",
    "        # 虽然可以但是没必要写成left <= right! 当left等于right时，只剩下正中间的一个字符，不用去判断！\n",
    "        while left < right:\n",
    "            if not s[left].isalnum():\n",
    "                left += 1\n",
    "            elif not s[right].isalnum():\n",
    "                right -= 1\n",
    "            \n",
    "            elif s[left].lower() == s[right].lower():\n",
    "                left += 1\n",
    "                right -= 1\n",
    "            # elif s[left].lower() != s[right].lower()\n",
    "            else:\n",
    "                return False\n",
    "        \n",
    "        # 退出循环，说明没有找到不相等的两个字符，因此必定是回文序列！\n",
    "        return True"
   ]
  }
 ],
 "metadata": {
  "kernelspec": {
   "display_name": "Python 3 (ipykernel)",
   "language": "python",
   "name": "python3"
  },
  "language_info": {
   "codemirror_mode": {
    "name": "ipython",
    "version": 3
   },
   "file_extension": ".py",
   "mimetype": "text/x-python",
   "name": "python",
   "nbconvert_exporter": "python",
   "pygments_lexer": "ipython3",
   "version": "3.10.14"
  }
 },
 "nbformat": 4,
 "nbformat_minor": 5
}

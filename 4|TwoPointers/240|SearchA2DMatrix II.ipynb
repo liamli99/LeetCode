{
 "cells": [
  {
   "cell_type": "markdown",
   "id": "7d405163",
   "metadata": {},
   "source": [
    "# Approach\n",
    "- 本道题不能像74一样，把二维矩阵变为一维数组，然后用binary search，因为不满足递增关系！\n",
    "\n",
    "- 突破口还是在于此时二维数组的性质：每行元素是单调递增的，每列元素也是单调递增的！以**左下角**元素为起始基准点(row, col)，比该元素大的所有元素都在它右边！比该元素小的所有元素都在它上面！因此将target和该元素比较，如果target大，那么target肯定在右边，因此col+=1；如果target小，那么target肯定在上面，因此row+=1；按照这个规定不断更新起始基准点(row, col)，如果target在矩阵中，那么一定能找到！当然，以**右上角**的元素为起始基准点也可以！   \n",
    "\n",
    "- 该方法本质就是双指针！左下角或右上角元素的横坐标和纵坐标就是两个指针！\n",
    "\n",
    "- 如果本题非要像74一样用binary search，那就遍历行，对每一行都用binary search去找target，找到就返回，找不到就到下一行接着找！Time complexity是O(mlogn)！\n",
    "\n",
    "# Code"
   ]
  },
  {
   "cell_type": "code",
   "execution_count": null,
   "id": "cdcaa6af",
   "metadata": {},
   "outputs": [],
   "source": [
    "# 左下角\n",
    "# Time: O(m + n), Space: O(1)\n",
    "from typing import List\n",
    "class Solution:\n",
    "    def searchMatrix(self, matrix: List[List[int]], target: int) -> bool:\n",
    "        row, col = len(matrix) - 1, 0\n",
    "        \n",
    "        while row >= 0 and col <= len(matrix[0]) - 1:\n",
    "            if matrix[row][col] == target:\n",
    "                return True\n",
    "            elif matrix[row][col] < target:\n",
    "                col += 1\n",
    "            elif matrix[row][col] > target:\n",
    "                row -= 1\n",
    "        \n",
    "        # 如果遍历完了也没返回True，说明target不存在，返回False！\n",
    "        return False "
   ]
  },
  {
   "cell_type": "code",
   "execution_count": null,
   "id": "b2e022e3",
   "metadata": {},
   "outputs": [],
   "source": [
    "# 右上角\n",
    "class Solution:\n",
    "    def searchMatrix(self, matrix: List[List[int]], target: int) -> bool:\n",
    "        row, col = 0, len(matrix[0]) - 1\n",
    "        \n",
    "        while row <= len(matrix) - 1 and col >= 0:\n",
    "            if matrix[row][col] == target:\n",
    "                return True\n",
    "            elif matrix[row][col] < target:\n",
    "                row += 1\n",
    "            elif matrix[row][col] > target:\n",
    "                col -= 1\n",
    "        \n",
    "        return False     "
   ]
  }
 ],
 "metadata": {
  "kernelspec": {
   "display_name": "Python 3 (ipykernel)",
   "language": "python",
   "name": "python3"
  },
  "language_info": {
   "codemirror_mode": {
    "name": "ipython",
    "version": 3
   },
   "file_extension": ".py",
   "mimetype": "text/x-python",
   "name": "python",
   "nbconvert_exporter": "python",
   "pygments_lexer": "ipython3",
   "version": "3.10.9"
  }
 },
 "nbformat": 4,
 "nbformat_minor": 5
}

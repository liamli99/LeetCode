{
 "cells": [
  {
   "cell_type": "markdown",
   "id": "7d405163",
   "metadata": {},
   "source": [
    "# Approach\n",
    "- 本题要先做一个化简，当k=len(nums)时，nums不变，相当于没有进行rotate操作，这种情况和k=0相同！当k=len(nums)+1时，nums把最后一个元素放到开头的位置，相当于rotate了一次，这种情况和k=1相同！综上k=k%len(nums)！！！   \n",
    "\n",
    "1. 方法一：rotate操作本质上等同于先把整个nums翻转一次，然后把翻转后的nums的前k个元素再翻转一次，最后再把剩下的元素再翻转一次！\n",
    "\n",
    "2. 方法二：循环k次，每次都把nums最后的元素pop出来并insert到开头的位置！不推荐，因为时间复杂度高！  \n",
    "\n",
    "# Note\n",
    "- `list.pop(pos)`: Remove the element at pos position\n",
    "  - pos is optional, the default value of pos is -1! \n",
    "  - return the removed element!\n",
    "\n",
    "- `list.insert(pos, ele)`: Insert the element ele at pos position\n",
    "  - pos and ele are both required! \n",
    "  - no return!\n",
    "\n",
    "- Time Complexity of Python List Operations: It is O(1) to pop and insert the element at the end, however, it is O(n) to pop and insert the element at the beginning or middle!\n",
    "\n",
    "# Code"
   ]
  },
  {
   "cell_type": "code",
   "execution_count": null,
   "id": "8812d82b",
   "metadata": {},
   "outputs": [],
   "source": [
    "# Time: O(n), Space: O(1)\n",
    "class Solution:\n",
    "    def rotate(self, nums: List[int], k: int) -> None:\n",
    "        \"\"\"\n",
    "        Do not return anything, modify nums in-place instead.\n",
    "        \"\"\"\n",
    "        k = k % len(nums)\n",
    "        self.reverse(nums, 0, len(nums) - 1)\n",
    "        self.reverse(nums, 0, k - 1)\n",
    "        self.reverse(nums, k, len(nums) - 1)\n",
    "    \n",
    "    def reverse(self, nums, start, end):\n",
    "        left, right = start, end\n",
    "        while left < right:\n",
    "            nums[left], nums[right] = nums[right], nums[left]\n",
    "            left += 1\n",
    "            right -= 1"
   ]
  },
  {
   "cell_type": "code",
   "execution_count": null,
   "id": "cdcaa6af",
   "metadata": {},
   "outputs": [],
   "source": [
    "# Time: O(k * n), Space: O(1)\n",
    "class Solution:\n",
    "    def rotate(self, nums: List[int], k: int) -> None:\n",
    "        \"\"\"\n",
    "        Do not return anything, modify nums in-place instead.\n",
    "        \"\"\"\n",
    "        k = k % len(nums)\n",
    "        for _ in range(k):\n",
    "            nums.insert(0, nums.pop())"
   ]
  }
 ],
 "metadata": {
  "kernelspec": {
   "display_name": "Python 3 (ipykernel)",
   "language": "python",
   "name": "python3"
  },
  "language_info": {
   "codemirror_mode": {
    "name": "ipython",
    "version": 3
   },
   "file_extension": ".py",
   "mimetype": "text/x-python",
   "name": "python",
   "nbconvert_exporter": "python",
   "pygments_lexer": "ipython3",
   "version": "3.10.14"
  }
 },
 "nbformat": 4,
 "nbformat_minor": 5
}

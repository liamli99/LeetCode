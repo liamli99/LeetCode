{
 "cells": [
  {
   "cell_type": "markdown",
   "id": "7d405163",
   "metadata": {},
   "source": [
    "# Approach\n",
    "- 本题要求in-place，因此我们不能构建一个额外的array！只能在nums内部修改！   \n",
    "\n",
    "- 定义两个快慢指针slow和fast，fast用来遍历nums，负责判断元素是否是重复元素；slow左边的所有元素都是不重复的，即已经符合题意的可以返回的答案！slow指向的是下一个需要被覆盖的位置，等待fast找到一个不重复的元素来把该处元素覆盖了！运行逻辑是这样的：slow和fast一起向右移动，如果fast找到了重复元素，那么slow停下来不动，定位这个位置，fast继续向右移动！如果fast找到一个不重复的元素，把该值赋给slow所指的那个元素，然后fast和slow一起向右移动！   \n",
    "\n",
    "- 注意slow指向的是下一个需要被覆盖的位置，slow之前(左边)的所有元素都是不重复的！在最后一次循环的时候，如果nums中的最后一个元素是重复的，那么slow不变，还是指向的是下一个需要被覆盖的位置；如果nums中的最后一个元素不是重复的，那么赋值给`nums[slow]`，同时slow+1，slow还是指向下一个需要被覆盖的位置！因此结束循环时，下标0到slow-1表示nums中的所有不重复的元素！！！因此slow的值就表示不重复元素的个数！！！！   \n",
    "\n",
    "- 本题有两种方法判断`nums[fast]`是否是重复元素：\n",
    "  1. 由于nums是从小到大排序的，因此重复的数字必定是挨在一起的，我们要看某个数字有没有重复只需要和它之前的数字比较即可！比较`nums[fast]`和`nums[fast-1]`！\n",
    "  2. 由于slow指的是下一个被覆盖的元素，slow之前(左边)的所有元素都是不重复的，我们要看某个数字是否重复只需要和slow左边的元素比较即可！比较`nums[fast]`和`nums[slow-1]`！其实这种思考方式更好，方便做80题！   \n",
    "\n",
    "# Code"
   ]
  },
  {
   "cell_type": "code",
   "execution_count": null,
   "id": "cdcaa6af",
   "metadata": {},
   "outputs": [],
   "source": [
    "# Time: O(n), Space: O(1)\n",
    "class Solution:\n",
    "    def removeDuplicates(self, nums: List[int]) -> int:\n",
    "        slow, fast = 0, 0\n",
    "\n",
    "        while fast <= len(nums) - 1:\n",
    "            # nums[fast]重复了！\n",
    "            if fast > 0 and nums[fast] == nums[fast - 1]:\n",
    "                fast += 1\n",
    "            # nums[fast]没有重复！\n",
    "            else:\n",
    "                nums[slow] = nums[fast]\n",
    "                slow += 1\n",
    "                fast += 1\n",
    "        \n",
    "        return slow"
   ]
  },
  {
   "cell_type": "code",
   "execution_count": null,
   "id": "9020a220",
   "metadata": {},
   "outputs": [],
   "source": [
    "# Altervative solution\n",
    "class Solution:\n",
    "    def removeDuplicates(self, nums: List[int]) -> int:\n",
    "        slow, fast = 0, 0\n",
    "\n",
    "        while fast <= len(nums) - 1:\n",
    "            # nums[fast]重复了！\n",
    "            if slow > 0 and nums[fast] == nums[slow - 1]:\n",
    "                fast += 1\n",
    "            # nums[fast]没有重复！\n",
    "            else:\n",
    "                nums[slow] = nums[fast]\n",
    "                slow += 1\n",
    "                fast += 1\n",
    "        \n",
    "        return slow"
   ]
  }
 ],
 "metadata": {
  "kernelspec": {
   "display_name": "Python 3 (ipykernel)",
   "language": "python",
   "name": "python3"
  },
  "language_info": {
   "codemirror_mode": {
    "name": "ipython",
    "version": 3
   },
   "file_extension": ".py",
   "mimetype": "text/x-python",
   "name": "python",
   "nbconvert_exporter": "python",
   "pygments_lexer": "ipython3",
   "version": "3.10.9"
  }
 },
 "nbformat": 4,
 "nbformat_minor": 5
}

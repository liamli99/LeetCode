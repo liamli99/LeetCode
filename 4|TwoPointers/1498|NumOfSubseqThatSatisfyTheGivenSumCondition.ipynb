{
 "cells": [
  {
   "cell_type": "markdown",
   "id": "7d405163",
   "metadata": {},
   "source": [
    "# Approach\n",
    "- 本题看似很复杂，需要求所有min和max的和小于等于target的subsequence的数量！但本质上就是要找到min和其符合要求(min+max<=target)的最大的max！我们可以根据Note中的公式求出所有最小值为min，最大值不超过max的subseq的数量！\n",
    "\n",
    "- 我们先把nums从小到大排序，用左右两个指针分别指向min和max！如果min+max>target，不满足题目要求，对于min而言此时的max太大了，所以我们想让和这个max小一点，因此right-=1！如果min+max<=target，找到了一组符合要求的min和max，并且此时的max是符合要求的最大的max！用Note中的公式计算一下此时subseq的数量，然后left+=1去寻找下一个min！重复上述操作！\n",
    "\n",
    "# Note\n",
    "给定一个从小到大排列的数组[..., min, ..., max, ...]，min和max的下标分别是i和j，那么所有最小值是min，最大值不超过max的subseq的数量为：**2^(j-i)**！例如[1, 2, 3, 4]，所有最小值是1，最大值不超过3的subseq的数量为2^(2-0)=4，即[1]，[1, 2]，[1, 3]，[1, 2, 3]！\n",
    "\n",
    "# Code"
   ]
  },
  {
   "cell_type": "code",
   "execution_count": null,
   "id": "c5a40e9b",
   "metadata": {},
   "outputs": [],
   "source": [
    "# Time: O(nlogn + n), Space: O(n)\n",
    "class Solution:\n",
    "    def numSubseq(self, nums: List[int], target: int) -> int:\n",
    "        nums.sort()\n",
    "        result = 0\n",
    "\n",
    "        left, right = 0, len(nums) - 1\n",
    "\n",
    "        # 必须是小于等于！当left等于right时，还剩下中间一个数，此时min和max都是该数，还需要检查！\n",
    "        while  left <= right:\n",
    "            if nums[left] + nums[right] > target:\n",
    "                right -= 1\n",
    "            else:\n",
    "                result += 2 ** (right - left)\n",
    "                left += 1\n",
    "        \n",
    "        return result % (10 ** 9 + 7)"
   ]
  }
 ],
 "metadata": {
  "kernelspec": {
   "display_name": "Python 3 (ipykernel)",
   "language": "python",
   "name": "python3"
  },
  "language_info": {
   "codemirror_mode": {
    "name": "ipython",
    "version": 3
   },
   "file_extension": ".py",
   "mimetype": "text/x-python",
   "name": "python",
   "nbconvert_exporter": "python",
   "pygments_lexer": "ipython3",
   "version": "3.10.9"
  }
 },
 "nbformat": 4,
 "nbformat_minor": 5
}

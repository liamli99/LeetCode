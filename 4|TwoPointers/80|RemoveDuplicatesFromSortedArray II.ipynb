{
 "cells": [
  {
   "cell_type": "markdown",
   "id": "7d405163",
   "metadata": {},
   "source": [
    "# Approach\n",
    "- 本题和26的区别在于可以允许两个重复元素，但不能超过两个！不能用类似26的方法一比较`nums[fast]`和`nums[fast-1]`和`nums[fast-2]`！！！以[1, 1, 1, 2, 2, 3]为例，在第三个1的时候slow不动，fast+1找到了不重复的元素2，因此第三个1的被覆盖成了2，那么在第二个2看来，前面已经有两个2了，因此这个2会被当作第三个个重复元素！！！      \n",
    "\n",
    "- 因此我们就要用26题中的方法二，因为slow指的是下一个被覆盖的元素，slow之前(左边)的所有元素都是不重复两次的！因此我们可以比较`nums[fast]`和`nums[slow-2]`！！！\n",
    "\n",
    "- 综上，`nums[fast-2]`可能已经被`nums[fast-1]`覆盖了，因此`nums[fast]`和这两个数比较的话不准确！但是slow左边的元素非常准确，都是已经符合题意的可以返回的答案！！！因此要将`nums[fast]`和`nums[slow-2]`比较才能确定此时的`nums[fast]`是否是第三个重复的元素！！！！！\n",
    "\n",
    "# Code"
   ]
  },
  {
   "cell_type": "code",
   "execution_count": null,
   "id": "cdcaa6af",
   "metadata": {},
   "outputs": [],
   "source": [
    "# Time: O(n), Space: O(1)\n",
    "class Solution:\n",
    "    def removeDuplicates(self, nums: List[int]) -> int:\n",
    "        slow, fast = 0, 0\n",
    "\n",
    "        while fast <= len(nums) - 1:\n",
    "            if slow >= 2 and nums[fast] == nums[slow - 2]:\n",
    "                fast += 1\n",
    "            else:\n",
    "                nums[slow] = nums[fast]\n",
    "                slow += 1\n",
    "                fast += 1\n",
    "        \n",
    "        return slow"
   ]
  }
 ],
 "metadata": {
  "kernelspec": {
   "display_name": "Python 3 (ipykernel)",
   "language": "python",
   "name": "python3"
  },
  "language_info": {
   "codemirror_mode": {
    "name": "ipython",
    "version": 3
   },
   "file_extension": ".py",
   "mimetype": "text/x-python",
   "name": "python",
   "nbconvert_exporter": "python",
   "pygments_lexer": "ipython3",
   "version": "3.10.9"
  }
 },
 "nbformat": 4,
 "nbformat_minor": 5
}

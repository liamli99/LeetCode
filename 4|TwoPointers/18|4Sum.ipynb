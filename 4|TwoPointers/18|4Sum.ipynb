{
 "cells": [
  {
   "cell_type": "markdown",
   "id": "7d405163",
   "metadata": {},
   "source": [
    "# Approach\n",
    "- 完全类似15，由于多了一个数，只需要再多一层for loop！我们用两层for loop去固定前两个元素，然后用two sum的方法去找后两个元素！去重和剪枝也基本不变！！！   \n",
    "\n",
    "# Code"
   ]
  },
  {
   "cell_type": "code",
   "execution_count": null,
   "id": "cdcaa6af",
   "metadata": {},
   "outputs": [],
   "source": [
    "# Time: O(n^3), Space: O()\n",
    "class Solution:\n",
    "    def fourSum(self, nums: List[int], target: int) -> List[List[int]]:\n",
    "        nums.sort()\n",
    "        result = []\n",
    "        \n",
    "        # nums[i]是第一个元素，在它后面至少还要有三个元素，因此i+3<len(nums)！\n",
    "        for i in range(len(nums) - 3):\n",
    "            # 剪枝：如果第一个元素已经大于target了，而且第一个元素大于等于0，由于nums是递增的，后面三个元素加第一个元素必然大于target，直接退出循环！\n",
    "            # 注意这里必须要考虑大于等于0！如果第一个元素大于target，但是该元素小于0，那么哪怕nums是递增的，该元素后面的元素也有可能小于0，这样的话总和就会变小，甚至等于target！！因此这种情况不能break！\n",
    "            # 例如nums=[-4,-3,-2,-1]，target=-10，第一个元素-4>-10，但是由于-4<0，不能break！因为-4+-3+-2+-1=-10！\n",
    "            if nums[i] > target and nums[i] >= 0:\n",
    "                break\n",
    "            \n",
    "            # 去重\n",
    "            if i > 0 and nums[i] == nums[i - 1]:\n",
    "                continue\n",
    "            \n",
    "            # nums[j]是第二个元素，它在nums[i]后面，同时在它后面至少还要有两个元素，因此j>i, j+2<len(nums)！\n",
    "            for j in range(i + 1, len(nums) - 2):\n",
    "                # 剪枝：nums[j]>=0的理由同上！\n",
    "                if nums[i] + nums[j] > target and nums[j] >= 0:\n",
    "                    break\n",
    "                \n",
    "                # 去重\n",
    "                if j > i + 1 and nums[j] == nums[j - 1]:\n",
    "                    continue\n",
    "                \n",
    "                # 和15完全相同，用双指针找第三个和第四个元素，它们的和为target-nums[i]-nums[j]\n",
    "                left, right = j + 1, len(nums) - 1\n",
    "                while left < right:\n",
    "                    if nums[left] + nums[right] == target - nums[i] - nums[j]:\n",
    "                        result.append([nums[i], nums[j], nums[left], nums[right]])\n",
    "                        \n",
    "                        left += 1\n",
    "                        right -= 1\n",
    "\n",
    "                        while left < right and nums[left] == nums[left - 1]:\n",
    "                            left += 1\n",
    "                        while left < right and nums[right] == nums[right + 1]:\n",
    "                            right -= 1\n",
    "                    \n",
    "                    elif nums[left] + nums[right] > target - nums[i] - nums[j]:\n",
    "                        right -= 1\n",
    "                    else:\n",
    "                        left += 1\n",
    "        \n",
    "        return result"
   ]
  }
 ],
 "metadata": {
  "kernelspec": {
   "display_name": "Python 3 (ipykernel)",
   "language": "python",
   "name": "python3"
  },
  "language_info": {
   "codemirror_mode": {
    "name": "ipython",
    "version": 3
   },
   "file_extension": ".py",
   "mimetype": "text/x-python",
   "name": "python",
   "nbconvert_exporter": "python",
   "pygments_lexer": "ipython3",
   "version": "3.10.9"
  }
 },
 "nbformat": 4,
 "nbformat_minor": 5
}

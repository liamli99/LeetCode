{
 "cells": [
  {
   "cell_type": "markdown",
   "id": "7d405163",
   "metadata": {},
   "source": [
    "# Approach\n",
    "- 人数是固定的，想让船数尽可能的少，那么我们就希望每艘船坐的人尽可能的多，即我们希望每艘船都能尽量坐两个人！那么体重小的人是很宝贵的，我们不希望两个体重小的人坐在一起，这样就浪费船的容量了！我们希望体重小的人能搭配体重大的人坐在一起！\n",
    "\n",
    "- 先将people从小到大排序，定义左右两个指针分别指向体重最小的人(最左边)和体重最大的人(最右边)！如果两个人的体重和小于等于target，那么两人只需要一条船，接下来去安排其他人！因此船数+1，left+=1，right-=1！如果体重和大于target，那么最大体重的那个人只能单独坐一条船了！因为体重最小的人都没法和他搭配，那就没有人能和他搭配了！接下来去看看体重第二大的人能不能和体重最小的人搭配！因此船数+1，right-=1！重复上述操作！   \n",
    "\n",
    "# Note\n",
    "- In Python, `list.sort()` and `sorted()` methods use **Timsort**! \n",
    "- Time Complexity: \n",
    "  - Worst case and Average: `O(nlogn)`\n",
    "  - Best case: `O(n)`!  \n",
    "- Space Complexity:\n",
    "  - Worst case: `O(n)`\n",
    "\n",
    "# Code"
   ]
  },
  {
   "cell_type": "code",
   "execution_count": null,
   "id": "c05ef902",
   "metadata": {},
   "outputs": [],
   "source": [
    "# Time: O(nlogn + n), Space: O(n)\n",
    "class Solution:\n",
    "    def numRescueBoats(self, people: List[int], limit: int) -> int:\n",
    "        people.sort()\n",
    "        boatNum = 0\n",
    "\n",
    "        left, right = 0, len(people) - 1\n",
    "        \n",
    "        # 必须是小于等于！当left等于right时，还剩下最后一个人，必须得给他分配一条船！\n",
    "        while left <= right:\n",
    "            if people[left] + people[right] <= limit:\n",
    "                boatNum += 1\n",
    "                left += 1\n",
    "                right -= 1\n",
    "            else:\n",
    "                boatNum += 1\n",
    "                right -= 1\n",
    "        \n",
    "        return boatNum"
   ]
  }
 ],
 "metadata": {
  "kernelspec": {
   "display_name": "Python 3 (ipykernel)",
   "language": "python",
   "name": "python3"
  },
  "language_info": {
   "codemirror_mode": {
    "name": "ipython",
    "version": 3
   },
   "file_extension": ".py",
   "mimetype": "text/x-python",
   "name": "python",
   "nbconvert_exporter": "python",
   "pygments_lexer": "ipython3",
   "version": "3.10.9"
  }
 },
 "nbformat": 4,
 "nbformat_minor": 5
}

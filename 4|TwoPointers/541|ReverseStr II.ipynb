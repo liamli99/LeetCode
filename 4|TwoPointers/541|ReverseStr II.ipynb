{
 "cells": [
  {
   "cell_type": "markdown",
   "id": "7d405163",
   "metadata": {},
   "source": [
    "# Approach\n",
    "- 由于本题需要reverse的参数s是string，不要求modify in-place并且返回reversed string，为了方便操作，我们可以先把s变成list l，最后再把l转化成string返回！\n",
    "\n",
    "- 遍历l，step是2k！每次iteration中，如果i+k-1没有超出范围，那么对i到i+k-1这k个元素reverse！如果超出范围，那么对i到len(l)-1这些剩下的元素reverse！\n",
    "\n",
    "- 本题的难点在于要reverse的不是整个list，而是sublist！！！在344中，reverse函数可以reverse list in-place，如果我们定义`lst = [1, 2, 3, 4]`，那么`reverse(lst)`之后lst变成[4, 3, 2, 1]！但是`reverse(lst[0 : 2])`之后lst保持不变，不会变成[2, 1, 3, 4]！！！这是因为在`reverse(lst)`中我们传入实际的list object，因此lst可以被改变！但是在`reverse(lst[0 : 2])`中有list slicing，因此我们传入的是copy！！！想要解决这个问题，我们在定义reverse的时候可以将其写成`def reverse(lst, start, end)`，start和end是sublist的起始和终止的index，这样可以确保我们一直传入实际的list object！\n",
    "\n",
    "# Note\n",
    "在Python中，list slicing和list index不同，假如lst是[1, 2, 3]，那么`lst[3]`就会出错，index out of range！但是`lst[3:]`不会出错，返回的结果是[]！`lst[1:100]`也不会出错，返回的结果是[2, 3]！！！   \n",
    "\n",
    "# Code"
   ]
  },
  {
   "cell_type": "code",
   "execution_count": null,
   "id": "1e435990",
   "metadata": {},
   "outputs": [],
   "source": [
    "# Time: O(n), Space: O(n)\n",
    "class Solution:\n",
    "    def reverseStr(self, s: str, k: int) -> str:\n",
    "        l = list(s)\n",
    "        \n",
    "        for i in range(0, len(l), 2 * k):\n",
    "            self.reverse(l, i, i + k - 1) if i + k - 1 <= len(l) - 1 else self.reverse(l, i, len(l) - 1)\n",
    "        \n",
    "        return ''.join(l)\n",
    "    \n",
    "    # 参考344\n",
    "    def reverse(self, lst, start, end):\n",
    "        left, right = start, end\n",
    "        while left < right:\n",
    "            lst[left], lst[right] = lst[right], lst[left]\n",
    "            left += 1\n",
    "            right -= 1"
   ]
  },
  {
   "cell_type": "code",
   "execution_count": null,
   "id": "2a736e40",
   "metadata": {},
   "outputs": [],
   "source": [
    "# 与上述方法思路相同，就是reverse的方法不一样！\n",
    "class Solution:\n",
    "    def reverseStr(self, s: str, k: int) -> str:\n",
    "        l = list(s)\n",
    "\n",
    "        for i in range(0, len(l), 2 * k): \n",
    "            # 优点在于不需要考虑边界情况，因为用了list slicing！\n",
    "            # 如果用built-in reverse method的话会很复杂！\n",
    "            l[i: i + k] = l[i: i + k][::-1]\n",
    "\n",
    "        return ''.join(l)"
   ]
  }
 ],
 "metadata": {
  "kernelspec": {
   "display_name": "Python 3 (ipykernel)",
   "language": "python",
   "name": "python3"
  },
  "language_info": {
   "codemirror_mode": {
    "name": "ipython",
    "version": 3
   },
   "file_extension": ".py",
   "mimetype": "text/x-python",
   "name": "python",
   "nbconvert_exporter": "python",
   "pygments_lexer": "ipython3",
   "version": "3.10.14"
  }
 },
 "nbformat": 4,
 "nbformat_minor": 5
}

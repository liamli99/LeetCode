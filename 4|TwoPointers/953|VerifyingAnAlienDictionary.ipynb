{
 "cells": [
  {
   "cell_type": "markdown",
   "id": "009257eb",
   "metadata": {},
   "source": [
    "# Approach\n",
    "- 我们先定义一个method来判断第一个字符串是否小于等于第二个字符串：定义两个指针i和j分别指向两个字符串的第一个元素，如果i指向的字符在order中的位置小于j指向的字符在order中的位置，那么直接return True！如果大于，那么直接return False！如果等于，那么i+=1，j+=1，继续比较！当至少有一个字符串遍历完时，如果第一个字符串没有遍历完，那么return False！其他情况return True！\n",
    "\n",
    "- 因此本题的关键在于如何比较i指向的字符在order中的位置和j指向的字符在order中的位置！如果用`order.index(element)`的话，时间复杂度为O(n)！由于order中仅含有小写字母，我们可以用list构建一个hash table来存储order中的字符及其index，这样时间复杂度就是O(1)！！！\n",
    "\n",
    "- 最后，我们遍历words中的字符串，如果当前字符串大于后一个字符串，return False！\n",
    "\n",
    "# Code"
   ]
  },
  {
   "cell_type": "code",
   "execution_count": null,
   "id": "cdf13b4e",
   "metadata": {},
   "outputs": [],
   "source": [
    "# Time: O(n * k), Space: O(1), n = len(words), k = average length of strings in words\n",
    "class Solution:\n",
    "    def isAlienSorted(self, words: List[str], order: str) -> bool:\n",
    "        record = [0] * 26\n",
    "\n",
    "        index = 0\n",
    "        for char in order:\n",
    "            record[ord(char) - ord('a')] = index\n",
    "            index += 1\n",
    "        \n",
    "        for i in range(len(words) - 1):\n",
    "            if not self.isFirstSmallerThanOrEqualToSecond(words[i], words[i + 1], record):\n",
    "                return False\n",
    "        \n",
    "        return True\n",
    "    \n",
    "    def isFirstSmallerThanOrEqualToSecond(self, first, second, record):\n",
    "        i, j = 0, 0\n",
    "\n",
    "        while i < len(first) and j < len(second):\n",
    "            if record[ord(first[i]) - ord('a')] < record[ord(second[i]) - ord('a')]:\n",
    "                return True\n",
    "            elif record[ord(first[i]) - ord('a')] > record[ord(second[i]) - ord('a')]:\n",
    "                return False\n",
    "            else:\n",
    "                i += 1\n",
    "                j += 1\n",
    "        \n",
    "        if i < len(first):\n",
    "            return False\n",
    "        else:\n",
    "            return True\n",
    "        "
   ]
  }
 ],
 "metadata": {
  "kernelspec": {
   "display_name": "Python 3 (ipykernel)",
   "language": "python",
   "name": "python3"
  },
  "language_info": {
   "codemirror_mode": {
    "name": "ipython",
    "version": 3
   },
   "file_extension": ".py",
   "mimetype": "text/x-python",
   "name": "python",
   "nbconvert_exporter": "python",
   "pygments_lexer": "ipython3",
   "version": "3.10.9"
  }
 },
 "nbformat": 4,
 "nbformat_minor": 5
}

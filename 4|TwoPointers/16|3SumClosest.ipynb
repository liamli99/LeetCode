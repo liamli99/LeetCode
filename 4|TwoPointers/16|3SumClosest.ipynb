{
 "cells": [
  {
   "cell_type": "markdown",
   "id": "7d405163",
   "metadata": {},
   "source": [
    "# Approach\n",
    "- 15题是找到所有和为0的不重复的三元素，本题是找到和最接近target的唯一一组三元素！\n",
    "\n",
    "- 参考15的方法不断遍历nums中的三个元素，计算当前三元素的和以及与target的距离，当当前距离小于最小距离时，更新最小距离和满足最小距离的三元素的和！然后比较当前三元素的和与target，如果等于，说明当前距离为0，必定为最小距离，直接返回当前三元素的和！如果大于，right-=1，如果小于，left+=1！\n",
    "\n",
    "- 本题可以但不需要去重！\n",
    "\n",
    "# Code"
   ]
  },
  {
   "cell_type": "code",
   "execution_count": null,
   "id": "cdcaa6af",
   "metadata": {},
   "outputs": [],
   "source": [
    "# Time: O(n^2), Space: O(n)\n",
    "class Solution:\n",
    "    def threeSumClosest(self, nums: List[int], target: int) -> int:\n",
    "        nums.sort()\n",
    "        \n",
    "        # 记录最小距离和满足最小距离的三元素的和\n",
    "        diff = float('inf')\n",
    "        sum_ = float('inf')\n",
    "        \n",
    "        for i in range(len(nums) - 2):\n",
    "            # 去重\n",
    "            if i > 0 and nums[i] == nums[i - 1]:\n",
    "                continue\n",
    "            \n",
    "            left, right = i + 1, len(nums) - 1\n",
    "            while left < right:\n",
    "                # 当前三元素的和以及与target的距离\n",
    "                newSum = nums[i] + nums[left] + nums[right]\n",
    "                newDiff = abs(newSum - target)\n",
    "                \n",
    "                # 当当前距离小于最小距离时，更新最小距离和满足最小距离的三元素的和\n",
    "                if newDiff < diff:\n",
    "                    diff = newDiff\n",
    "                    sum_ = newSum\n",
    "                \n",
    "                # 如果当前三元素的和等于target，那么当前距离必定为最小距离，直接返回三元素的和！\n",
    "                if newSum == target:\n",
    "                    return newSum\n",
    "                elif newSum > target:\n",
    "                    right -= 1\n",
    "                else:\n",
    "                    left += 1\n",
    "                        \n",
    "        return sum_"
   ]
  }
 ],
 "metadata": {
  "kernelspec": {
   "display_name": "Python 3 (ipykernel)",
   "language": "python",
   "name": "python3"
  },
  "language_info": {
   "codemirror_mode": {
    "name": "ipython",
    "version": 3
   },
   "file_extension": ".py",
   "mimetype": "text/x-python",
   "name": "python",
   "nbconvert_exporter": "python",
   "pygments_lexer": "ipython3",
   "version": "3.10.9"
  }
 },
 "nbformat": 4,
 "nbformat_minor": 5
}

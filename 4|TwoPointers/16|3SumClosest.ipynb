{
 "cells": [
  {
   "cell_type": "markdown",
   "id": "7d405163",
   "metadata": {},
   "source": [
    "# Approach\n",
    "- 15题是找到所有和为0的不重复的三元素，本题是找到和最接近target的唯一一组三元素！\n",
    "\n",
    "- 定义两个变量分别记录三元素的和与target的最小距离以及满足最小距离时三元素的和！参考15的方法不断遍历nums中的三个元素，计算当前三元素的和。如果和等于target，说明当前距离为0，必定为最小距离，即最接近target，直接返回当前三元素的和！如果大于，更新最小距离和满足最小距离时三元素的和，然后`right -= 1`；如果小于，更新最小距离和满足最小距离时三元素的和，然后`left += 1`！\n",
    "\n",
    "# Code"
   ]
  },
  {
   "cell_type": "code",
   "execution_count": null,
   "id": "9ad49aaa",
   "metadata": {},
   "outputs": [],
   "source": [
    "# Time: O(n^2), Space: O(n)\n",
    "from typing import List\n",
    "class Solution:\n",
    "    def threeSumClosest(self, nums: List[int], target: int) -> int:\n",
    "        nums.sort()\n",
    "        # 记录最小距离和满足最小距离时三元素的和\n",
    "        min_diff = float('inf')\n",
    "        result = 0\n",
    "\n",
    "        for i in range(len(nums) - 2):\n",
    "            # 去重\n",
    "            if i > 0 and nums[i] == nums[i - 1]:\n",
    "                continue\n",
    "            \n",
    "            left, right = i + 1, len(nums) - 1\n",
    "            while left < right:\n",
    "                s = nums[i] + nums[left] + nums[right]\n",
    "\n",
    "                # 如果当前三元素的和等于target，那么当前距离必定为最小距离，直接返回三元素的和！\n",
    "                if s == target:\n",
    "                    return s\n",
    "                \n",
    "                # 如果当前三元素的和大于target，更新最小距离，为了让和更接近target，向左移动right让和更小！\n",
    "                elif s > target:\n",
    "                    if s - target < min_diff:\n",
    "                        min_diff = s - target\n",
    "                        result = s\n",
    "                    \n",
    "                    right -= 1\n",
    "                \n",
    "                # 如果当前三元素的和小于target，更新最小距离，为了让和更接近target，向右移动left让和更大！\n",
    "                else:\n",
    "                    if target - s < min_diff:\n",
    "                        min_diff = target - s\n",
    "                        result = s\n",
    "                    \n",
    "                    left += 1\n",
    "        \n",
    "        return result"
   ]
  }
 ],
 "metadata": {
  "kernelspec": {
   "display_name": "Python 3 (ipykernel)",
   "language": "python",
   "name": "python3"
  },
  "language_info": {
   "codemirror_mode": {
    "name": "ipython",
    "version": 3
   },
   "file_extension": ".py",
   "mimetype": "text/x-python",
   "name": "python",
   "nbconvert_exporter": "python",
   "pygments_lexer": "ipython3",
   "version": "3.10.9"
  }
 },
 "nbformat": 4,
 "nbformat_minor": 5
}

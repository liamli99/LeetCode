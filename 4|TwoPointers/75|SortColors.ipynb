{
 "cells": [
  {
   "cell_type": "markdown",
   "id": "7d405163",
   "metadata": {},
   "source": [
    "# Approach\n",
    "- 参考283的方法二，我们先用一对快慢指针slow0和fast0把所有0交换到前面，所有非0交换到后面！退出循环后，slow0左边都是0！然后再用一对快慢指针slow1和fast1从slow0处开始把所有1交换到前面，2交换到后面！！！\n",
    "\n",
    "- 上述方法用了两次while loop，我们也可以只需要用一次while loop，此时需要三个指针slow0，slow1和fast！fast用来遍历nums，slow0左边都是0，slow1左边都是1！具体过程和动画[在这里](https://leetcode.cn/problems/sort-colors/solutions/437968/yan-se-fen-lei-by-leetcode-solution/)!\n",
    "\n",
    "# Code"
   ]
  },
  {
   "cell_type": "code",
   "execution_count": null,
   "id": "8d0adbf5",
   "metadata": {},
   "outputs": [],
   "source": [
    "# Time: O(n), Space: O(1)\n",
    "class Solution:\n",
    "    def sortColors(self, nums: List[int]) -> None:\n",
    "        \"\"\"\n",
    "        Do not return anything, modify nums in-place instead.\n",
    "        \"\"\"\n",
    "        slow0, fast0 = 0, 0\n",
    "        while fast0 <= len(nums) - 1:\n",
    "            if nums[fast0] != 0:\n",
    "                fast0 += 1\n",
    "            else:\n",
    "                nums[slow0], nums[fast0] = nums[fast0], nums[slow0]\n",
    "                slow0 += 1\n",
    "                fast0 += 1\n",
    "        \n",
    "        slow1, fast1 = slow0, slow0\n",
    "        while fast1 <= len(nums) - 1:\n",
    "            if nums[fast1] != 1:\n",
    "                fast1 += 1\n",
    "            else:\n",
    "                nums[slow1], nums[fast1] = nums[fast1], nums[slow1]\n",
    "                slow1 += 1\n",
    "                fast1 += 1\n",
    "        "
   ]
  },
  {
   "cell_type": "code",
   "execution_count": null,
   "id": "c05ef902",
   "metadata": {},
   "outputs": [],
   "source": [
    "# Time: O(n), Space: O(1)\n",
    "class Solution:\n",
    "    def sortColors(self, nums: List[int]) -> None:\n",
    "        \"\"\"\n",
    "        Do not return anything, modify nums in-place instead.\n",
    "        \"\"\"\n",
    "        slow0, slow1, fast = 0, 0, 0\n",
    "        \n",
    "        while fast <= len(nums) - 1:\n",
    "            if nums[fast] == 2:\n",
    "                fast += 1\n",
    "            elif nums[fast] == 0:\n",
    "                nums[fast], nums[slow0] = nums[slow0], nums[fast]\n",
    "\n",
    "                # 说明上述交换将1交换出去了，我们需要把交换出去的1再交换回来！\n",
    "                if slow0 < slow1:\n",
    "                    nums[fast], nums[slow1] = nums[slow1], nums[fast]\n",
    "                \n",
    "                slow0 += 1\n",
    "                slow1 += 1\n",
    "                fast += 1\n",
    "            elif nums[fast] == 1:\n",
    "                nums[fast], nums[slow1] = nums[slow1], nums[fast]\n",
    "                slow1 += 1\n",
    "                fast += 1"
   ]
  }
 ],
 "metadata": {
  "kernelspec": {
   "display_name": "Python 3 (ipykernel)",
   "language": "python",
   "name": "python3"
  },
  "language_info": {
   "codemirror_mode": {
    "name": "ipython",
    "version": 3
   },
   "file_extension": ".py",
   "mimetype": "text/x-python",
   "name": "python",
   "nbconvert_exporter": "python",
   "pygments_lexer": "ipython3",
   "version": "3.10.9"
  }
 },
 "nbformat": 4,
 "nbformat_minor": 5
}

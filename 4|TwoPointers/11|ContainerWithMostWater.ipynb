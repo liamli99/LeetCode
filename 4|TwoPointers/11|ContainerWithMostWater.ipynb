{
 "cells": [
  {
   "cell_type": "markdown",
   "id": "7d405163",
   "metadata": {},
   "source": [
    "# Approach\n",
    "- 本题要求找到两个边界使得装的水最多！我们可以定义两个指针分别指向最左和最右两个边界，不断移动两个指针去寻找最大水量！注意每次只移动一个指针！\n",
    "\n",
    "- 本题的难点在于是left+=1还是right-=1！水量的计算公式是长✖️高，无论是left移动还是right移动，新水量的长都不变，只有高可能会改变！由于高是左右两个边界的最小值，当`height[left] < height[right]`时，我们应该保留较长的`height[right]`，而去向右移动left，这样才有可能得到更大的`height[left]`，从而有可能让之后的新水量更大！如果保留较短的`height[left]`，而去向左移动right，那么新水量必然更小！如果两个边界的值相等，那么移动左边或右边都行！   \n",
    "\n",
    "# Code"
   ]
  },
  {
   "cell_type": "code",
   "execution_count": null,
   "id": "3374a859",
   "metadata": {},
   "outputs": [],
   "source": [
    "# Time: O(n), Space: O(1)\n",
    "from typing import List\n",
    "class Solution:\n",
    "    def maxArea(self, height: List[int]) -> int:\n",
    "        maxAmount = 0\n",
    "        left, right = 0, len(height) - 1\n",
    "\n",
    "        # 虽然可以但是没必要写成left <= right! 当left等于right时，水量为0！\n",
    "        while left < right:\n",
    "            \n",
    "            # 剪枝！如果此时的长乘上最大的高都小于等于目前的最大水量，那么直接退出循环不用找了！\n",
    "            # if (right - left) * max(height) <= res:\n",
    "                # break \n",
    "            \n",
    "            amount = (right - left) * min(height[right], height[left])\n",
    "            maxAmount = max(amount, maxAmount)\n",
    "            \n",
    "            # 当height[left]==height[right]时，left+=1或righe-=1都可以！！！\n",
    "            if height[left] < height[right]:\n",
    "                left += 1\n",
    "            else:\n",
    "                right -= 1\n",
    "        \n",
    "        return maxAmount"
   ]
  }
 ],
 "metadata": {
  "kernelspec": {
   "display_name": "Python 3 (ipykernel)",
   "language": "python",
   "name": "python3"
  },
  "language_info": {
   "codemirror_mode": {
    "name": "ipython",
    "version": 3
   },
   "file_extension": ".py",
   "mimetype": "text/x-python",
   "name": "python",
   "nbconvert_exporter": "python",
   "pygments_lexer": "ipython3",
   "version": "3.10.9"
  }
 },
 "nbformat": 4,
 "nbformat_minor": 5
}

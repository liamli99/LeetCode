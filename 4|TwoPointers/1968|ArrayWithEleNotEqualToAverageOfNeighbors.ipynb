{
 "cells": [
  {
   "cell_type": "markdown",
   "id": "7d405163",
   "metadata": {},
   "source": [
    "# Approach\n",
    "- 为了让每个数不是其左右两个数的平均值，我们只需要确保每个数的左右两个数都比该数更大或者更小！\n",
    "\n",
    "- 我们先将nums从小到大排序，定义左右两个指针分别指向最小值(最左边)和最大值(最右边)！我们先把最小值添加到result中，然后把最大值添加到result中，然后left+=1，right-=1！我们再把第二小的值添加到result中，然后把第二大的值添加到result中，然后left+=1，right-=1！重复上述操作！\n",
    "\n",
    "- 这样就能确保左右两个数都比中间的数更大或者更小！例如[1, 2, 3, 4, 5]，按照上述操作变成[1, 5, 2, 4, 3]！   \n",
    "\n",
    "# Note\n",
    "- In Python, `list.sort()` and `sorted()` methods use **Timsort**! \n",
    "- Time Complexity: \n",
    "  - Worst case and Average: `O(nlogn)`\n",
    "  - Best case: `O(n)`!  \n",
    "- Space Complexity:\n",
    "  - Worst case: `O(n)`\n",
    "\n",
    "# Code"
   ]
  },
  {
   "cell_type": "code",
   "execution_count": null,
   "id": "cdcaa6af",
   "metadata": {},
   "outputs": [],
   "source": [
    "# Time: O(nlogn + n), Space: O(n)\n",
    "class Solution:\n",
    "    def rearrangeArray(self, nums: List[int]) -> List[int]:\n",
    "        nums.sort()\n",
    "        result = []\n",
    "\n",
    "        left, right = 0, len(nums) - 1\n",
    "\n",
    "        # 如果是小于，那么退出循环时可能left==right，说明还剩下一个元素没有被加进result！\n",
    "        while left < right:\n",
    "            result.append(nums[left])\n",
    "            result.append(nums[right])\n",
    "            left += 1\n",
    "            right -= 1\n",
    "        \n",
    "        # 如果退出循环后left==right，说明还有一个元素没有被加进result！\n",
    "        if left == right:\n",
    "            result.append(nums[left])\n",
    "        \n",
    "        return result"
   ]
  }
 ],
 "metadata": {
  "kernelspec": {
   "display_name": "Python 3 (ipykernel)",
   "language": "python",
   "name": "python3"
  },
  "language_info": {
   "codemirror_mode": {
    "name": "ipython",
    "version": 3
   },
   "file_extension": ".py",
   "mimetype": "text/x-python",
   "name": "python",
   "nbconvert_exporter": "python",
   "pygments_lexer": "ipython3",
   "version": "3.10.9"
  }
 },
 "nbformat": 4,
 "nbformat_minor": 5
}

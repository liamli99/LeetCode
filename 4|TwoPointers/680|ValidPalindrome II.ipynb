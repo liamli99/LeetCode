{
 "cells": [
  {
   "cell_type": "markdown",
   "id": "7d405163",
   "metadata": {},
   "source": [
    "# Approach\n",
    "- 我们可以定义两个pointers从s两端同时往中间移动，不断比较左右两个字符是否相同！如果不相同，我们最多可以删掉一个字符！\n",
    "\n",
    "- 当`s[left]!=s[right]`时，我们可以分别删除`s[left]`和`s[right]`，判断剩下的字符串是否是回文序列！只要在其中一种情况下剩下的字符串是回文序列，那么s就是回文序列！  \n",
    "\n",
    "# Note\n",
    "`s[::-1]`可以将整个s翻转过来！因此除了双指针，我们还可以用`s==s[::-1]`来判断s是否是回文的！\n",
    "\n",
    "# Code"
   ]
  },
  {
   "cell_type": "code",
   "execution_count": null,
   "id": "cdcaa6af",
   "metadata": {},
   "outputs": [],
   "source": [
    "# Time: O(n), Space: O(1)\n",
    "class Solution:\n",
    "    def validPalindrome(self, s: str) -> bool:\n",
    "        left, right = 0, len(s) - 1\n",
    "        \n",
    "        while left < right:\n",
    "            if s[left] == s[right]:\n",
    "                left += 1\n",
    "                right -= 1\n",
    "            else:\n",
    "                # 删除s[left]或s[right]\n",
    "                return self.isPalindrome(s[left + 1 : right + 1]) or self.isPalindrome(s[left : right])\n",
    "        \n",
    "        return True\n",
    "    \n",
    "    # 参考125，判断s是否是回文序列！\n",
    "    def isPalindrome(self, s):\n",
    "        left, right = 0, len(s) - 1\n",
    "        while left < right:\n",
    "            if s[left] == s[right]:\n",
    "                left += 1\n",
    "                right -= 1\n",
    "            else:\n",
    "                return False\n",
    "        return True"
   ]
  }
 ],
 "metadata": {
  "kernelspec": {
   "display_name": "Python 3 (ipykernel)",
   "language": "python",
   "name": "python3"
  },
  "language_info": {
   "codemirror_mode": {
    "name": "ipython",
    "version": 3
   },
   "file_extension": ".py",
   "mimetype": "text/x-python",
   "name": "python",
   "nbconvert_exporter": "python",
   "pygments_lexer": "ipython3",
   "version": "3.10.9"
  }
 },
 "nbformat": 4,
 "nbformat_minor": 5
}

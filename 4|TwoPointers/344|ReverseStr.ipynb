{
 "cells": [
  {
   "cell_type": "markdown",
   "id": "7d405163",
   "metadata": {},
   "source": [
    "# Approach\n",
    "- 本题虽然叫reverse string，但其实是reverse list！这是因为题目要求modify in-place，但是string是immutable，不会发生改变！因此需要reverse的参数s是list！\n",
    "\n",
    "- 我们可以定义两个pointers从s两端同时往中间移动，不断交换左右两个元素！\n",
    "\n",
    "- 假如需要reverse的参数s是string，且题目不要求modify in-place，而是返回reversed string:\n",
    "  ```python\n",
    "  class Solution:\n",
    "    def reverseString(self, s: str) -> str:\n",
    "        lst = list(s)\n",
    "        left, right = 0, len(lst) - 1\n",
    "        while left < right:\n",
    "            lst[left], lst[right] = lst[right], lst[left]\n",
    "            left += 1\n",
    "            right -= 1\n",
    "        return ''.join(lst)\n",
    "  ```\n",
    "\n",
    "# Note\n",
    "除了双指针，Python还可以用如下方法实现reverse list in-place:\n",
    "1. `list.reverse()`\n",
    "2. `list[:] = list[::-1]`\n",
    "\n",
    "# Code"
   ]
  },
  {
   "cell_type": "code",
   "execution_count": null,
   "id": "130d0423",
   "metadata": {},
   "outputs": [],
   "source": [
    "# Time: O(n), Space: O(1)\n",
    "class Solution:\n",
    "    def reverseString(self, s: list[str]) -> None:\n",
    "        \"\"\"\n",
    "        Do not return anything, modify s in-place instead.\n",
    "        \"\"\"\n",
    "        left, right = 0, len(s) - 1\n",
    "        \n",
    "        # 虽然可以但是没必要写成left <= right! 当left等于right时，只剩下正中间的一个元素，不用交换！\n",
    "        while left < right:\n",
    "            s[left], s[right] = s[right], s[left]\n",
    "            left += 1\n",
    "            right -= 1"
   ]
  }
 ],
 "metadata": {
  "kernelspec": {
   "display_name": "Python 3 (ipykernel)",
   "language": "python",
   "name": "python3"
  },
  "language_info": {
   "codemirror_mode": {
    "name": "ipython",
    "version": 3
   },
   "file_extension": ".py",
   "mimetype": "text/x-python",
   "name": "python",
   "nbconvert_exporter": "python",
   "pygments_lexer": "ipython3",
   "version": "3.10.9"
  }
 },
 "nbformat": 4,
 "nbformat_minor": 5
}

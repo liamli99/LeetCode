{
 "cells": [
  {
   "cell_type": "markdown",
   "id": "7d405163",
   "metadata": {},
   "source": [
    "# Approach\n",
    "- 参考167，我们可以先将nums从小到大排序，然后遍历nums，对于每个元素`nums[i]`，固定其为第一个元素，在`nums[i+1]`到`nums[len(nums) - 1]`之间用two pointers的方法找到和为`-nums[i]`的两个元素，分别为第二个元素和第三个元素！\n",
    "\n",
    "- 本题的难点在于去重：\n",
    "  1. 选取的第一个元素`nums[i]`不能等于`nums[i-1]`!\n",
    "  2. 如果用two pointers找到了第二个元素和第三个元素，记为`nums[left]`和`nums[right]`，然后left+=1，right-=1。确保新的`nums[left]`不能等于`nums[left-1]`！如果等于，继续left+=1直到不相等为止！确保新的`nums[right]`不能等于`nums[right+1]`! 如果等于，继续right-=1直到不相等为止！\n",
    "\n",
    "# Code"
   ]
  },
  {
   "cell_type": "code",
   "execution_count": null,
   "id": "cdcaa6af",
   "metadata": {},
   "outputs": [],
   "source": [
    "# Time: O(n^2), Space: O()\n",
    "class Solution:\n",
    "    def threeSum(self, nums: List[int]) -> List[List[int]]:\n",
    "        nums.sort()\n",
    "        result = []\n",
    "        \n",
    "        # nums[i]是第一个元素，在它后面至少还要有两个元素，因此i+2<len(nums)！\n",
    "        for i in range(len(nums) - 2):\n",
    "            # 剪枝：如果第一个元素已经大于0了，由于nums是递增的，后面两个元素加第一个元素必然大于0！直接结束循环！\n",
    "            if nums[i] > 0:\n",
    "                break\n",
    "            \n",
    "            # 去重\n",
    "            if i > 0 and nums[i] == nums[i - 1]:\n",
    "                continue\n",
    "            \n",
    "            # 参考167，用双指针找第二个和第三个元素，它们的和为-nums[i]\n",
    "            left, right = i + 1, len(nums) - 1\n",
    "            while left < right:\n",
    "                if nums[left] + nums[right] == -nums[i]:\n",
    "                    result.append([nums[i], nums[left], nums[right]])\n",
    "                    \n",
    "                    left += 1\n",
    "                    right -= 1\n",
    "\n",
    "                    # 去重\n",
    "                    while left < right and nums[left] == nums[left - 1]:\n",
    "                        left += 1\n",
    "                    while left < right and nums[right] == nums[right + 1]:\n",
    "                        right -= 1 \n",
    "                \n",
    "                elif nums[left] + nums[right] > -nums[i]:\n",
    "                    right -= 1\n",
    "                else:\n",
    "                    left += 1\n",
    "        \n",
    "        return result"
   ]
  }
 ],
 "metadata": {
  "kernelspec": {
   "display_name": "Python 3 (ipykernel)",
   "language": "python",
   "name": "python3"
  },
  "language_info": {
   "codemirror_mode": {
    "name": "ipython",
    "version": 3
   },
   "file_extension": ".py",
   "mimetype": "text/x-python",
   "name": "python",
   "nbconvert_exporter": "python",
   "pygments_lexer": "ipython3",
   "version": "3.10.9"
  }
 },
 "nbformat": 4,
 "nbformat_minor": 5
}

{
 "cells": [
  {
   "cell_type": "markdown",
   "id": "009257eb",
   "metadata": {},
   "source": [
    "# Approach\n",
    "- 本题要检查s是否是t的subsequence！我们可以定义两个指针i和j分别指向s和t的第一个元素！\n",
    "\n",
    "- 如果i和j指向的元素相等，那么同时往右移动；如果不相等，那么只需要j往右移动！这是因为我们要检查s是否是t的subseq，所以我们想按照顺序在t中找到s中的每个元素！\n",
    "\n",
    "- 如果退出while loop后，`i==len(s)`，说明s的最后一个字符已经在t中找到了，i+=1变成了len(s)从而退出循环，那么s就是t的subseq！如果`i<len(s)`，说明是因为j==len(t)才退出循环的，说明已经把t中的所有字符都找完了也没找全s中的字符，那么s就不是t的subseq！\n",
    "\n",
    "# Code"
   ]
  },
  {
   "cell_type": "code",
   "execution_count": null,
   "id": "e281de5d",
   "metadata": {},
   "outputs": [],
   "source": [
    "# Time: O(len(t)), Space: O(1)\n",
    "class Solution:\n",
    "    def isSubsequence(self, s: str, t: str) -> bool:\n",
    "        i, j = 0, 0\n",
    "        \n",
    "        while i < len(s) and j < len(t):\n",
    "            if s[i] == t[j]:\n",
    "                i += 1\n",
    "                j += 1\n",
    "            else:\n",
    "                j += 1\n",
    "        \n",
    "        return i == len(s)"
   ]
  }
 ],
 "metadata": {
  "kernelspec": {
   "display_name": "Python 3 (ipykernel)",
   "language": "python",
   "name": "python3"
  },
  "language_info": {
   "codemirror_mode": {
    "name": "ipython",
    "version": 3
   },
   "file_extension": ".py",
   "mimetype": "text/x-python",
   "name": "python",
   "nbconvert_exporter": "python",
   "pygments_lexer": "ipython3",
   "version": "3.10.9"
  }
 },
 "nbformat": 4,
 "nbformat_minor": 5
}
